{
 "cells": [
  {
   "cell_type": "code",
   "execution_count": 1,
   "id": "b914b326",
   "metadata": {},
   "outputs": [],
   "source": [
    "import pandas as pd"
   ]
  },
  {
   "cell_type": "code",
   "execution_count": 2,
   "id": "f4dea5d5",
   "metadata": {},
   "outputs": [
    {
     "data": {
      "text/plain": [
       "0    -1.5\n",
       "1     0.2\n",
       "2    <NA>\n",
       "dtype: float[pyarrow]"
      ]
     },
     "execution_count": 2,
     "metadata": {},
     "output_type": "execute_result"
    }
   ],
   "source": [
    "ser = pd.Series([-1.5, 0.2, None], dtype=\"float32[pyarrow]\")\n",
    "\n",
    "ser"
   ]
  },
  {
   "cell_type": "code",
   "execution_count": 3,
   "id": "7ddebb29",
   "metadata": {},
   "outputs": [
    {
     "data": {
      "text/plain": [
       "Index([True, <NA>], dtype='bool[pyarrow]')"
      ]
     },
     "execution_count": 3,
     "metadata": {},
     "output_type": "execute_result"
    }
   ],
   "source": [
    "idx = pd.Index([True, None], dtype=\"bool[pyarrow]\")\n",
    "\n",
    "idx"
   ]
  },
  {
   "cell_type": "code",
   "execution_count": 4,
   "id": "e900c4e0",
   "metadata": {},
   "outputs": [
    {
     "data": {
      "text/html": [
       "<div>\n",
       "<style scoped>\n",
       "    .dataframe tbody tr th:only-of-type {\n",
       "        vertical-align: middle;\n",
       "    }\n",
       "\n",
       "    .dataframe tbody tr th {\n",
       "        vertical-align: top;\n",
       "    }\n",
       "\n",
       "    .dataframe thead th {\n",
       "        text-align: right;\n",
       "    }\n",
       "</style>\n",
       "<table border=\"1\" class=\"dataframe\">\n",
       "  <thead>\n",
       "    <tr style=\"text-align: right;\">\n",
       "      <th></th>\n",
       "      <th>0</th>\n",
       "      <th>1</th>\n",
       "    </tr>\n",
       "  </thead>\n",
       "  <tbody>\n",
       "    <tr>\n",
       "      <th>0</th>\n",
       "      <td>1</td>\n",
       "      <td>2</td>\n",
       "    </tr>\n",
       "    <tr>\n",
       "      <th>1</th>\n",
       "      <td>3</td>\n",
       "      <td>4</td>\n",
       "    </tr>\n",
       "  </tbody>\n",
       "</table>\n",
       "</div>"
      ],
      "text/plain": [
       "   0  1\n",
       "0  1  2\n",
       "1  3  4"
      ]
     },
     "execution_count": 4,
     "metadata": {},
     "output_type": "execute_result"
    }
   ],
   "source": [
    "df = pd.DataFrame([[1, 2], [3, 4]], dtype=\"uint64[pyarrow]\")\n",
    "\n",
    "df"
   ]
  },
  {
   "cell_type": "code",
   "execution_count": 5,
   "id": "b6d79a29",
   "metadata": {},
   "outputs": [
    {
     "data": {
      "text/plain": [
       "False"
      ]
     },
     "execution_count": 5,
     "metadata": {},
     "output_type": "execute_result"
    }
   ],
   "source": [
    "import pyarrow as pa\n",
    "\n",
    "data = list(\"abc\")\n",
    "\n",
    "ser_sd = pd.Series(data, dtype=\"string[pyarrow]\")\n",
    "\n",
    "ser_ad = pd.Series(data, dtype=pd.ArrowDtype(pa.string()))\n",
    "\n",
    "ser_ad.dtype == ser_sd.dtype"
   ]
  },
  {
   "cell_type": "code",
   "execution_count": 6,
   "id": "b5ac30f4",
   "metadata": {},
   "outputs": [
    {
     "data": {
      "text/plain": [
       "0     True\n",
       "1    False\n",
       "2    False\n",
       "dtype: boolean"
      ]
     },
     "execution_count": 6,
     "metadata": {},
     "output_type": "execute_result"
    }
   ],
   "source": [
    "ser_sd.str.contains(\"a\")"
   ]
  },
  {
   "cell_type": "code",
   "execution_count": 7,
   "id": "f8b24b9a",
   "metadata": {},
   "outputs": [
    {
     "data": {
      "text/plain": [
       "0     True\n",
       "1    False\n",
       "2    False\n",
       "dtype: bool[pyarrow]"
      ]
     },
     "execution_count": 7,
     "metadata": {},
     "output_type": "execute_result"
    }
   ],
   "source": [
    "ser_ad.str.contains(\"a\")"
   ]
  },
  {
   "cell_type": "code",
   "execution_count": 8,
   "id": "00ccf042",
   "metadata": {},
   "outputs": [
    {
     "data": {
      "text/plain": [
       "0    a\n",
       "1    b\n",
       "2    c\n",
       "dtype: string"
      ]
     },
     "execution_count": 8,
     "metadata": {},
     "output_type": "execute_result"
    }
   ],
   "source": [
    "ser_sd"
   ]
  },
  {
   "cell_type": "code",
   "execution_count": 9,
   "id": "4a9d7f50",
   "metadata": {},
   "outputs": [
    {
     "data": {
      "text/plain": [
       "0    a\n",
       "1    b\n",
       "2    c\n",
       "dtype: string[pyarrow]"
      ]
     },
     "execution_count": 9,
     "metadata": {},
     "output_type": "execute_result"
    }
   ],
   "source": [
    "ser_ad"
   ]
  },
  {
   "cell_type": "code",
   "execution_count": 10,
   "id": "74da2b1b",
   "metadata": {},
   "outputs": [
    {
     "data": {
      "text/plain": [
       "0    ['hello']\n",
       "1    ['there']\n",
       "dtype: list<item: string>[pyarrow]"
      ]
     },
     "execution_count": 10,
     "metadata": {},
     "output_type": "execute_result"
    }
   ],
   "source": [
    "import pyarrow as pa\n",
    "\n",
    "list_str_type = pa.list_(pa.string())\n",
    "\n",
    "ser = pd.Series([[\"hello\"], [\"there\"]], dtype=pd.ArrowDtype(list_str_type))\n",
    "\n",
    "ser"
   ]
  },
  {
   "cell_type": "code",
   "execution_count": 11,
   "id": "11b8305e",
   "metadata": {},
   "outputs": [
    {
     "data": {
      "text/plain": [
       "Index([12:30:00, <NA>], dtype='time64[us][pyarrow]')"
      ]
     },
     "execution_count": 11,
     "metadata": {},
     "output_type": "execute_result"
    }
   ],
   "source": [
    "from datetime import time\n",
    "\n",
    "idx = pd.Index([time(12, 30), None], dtype=pd.ArrowDtype(pa.time64(\"us\")))\n",
    "\n",
    "idx"
   ]
  },
  {
   "cell_type": "code",
   "execution_count": 12,
   "id": "7b5437cc",
   "metadata": {},
   "outputs": [
    {
     "data": {
      "text/html": [
       "<div>\n",
       "<style scoped>\n",
       "    .dataframe tbody tr th:only-of-type {\n",
       "        vertical-align: middle;\n",
       "    }\n",
       "\n",
       "    .dataframe tbody tr th {\n",
       "        vertical-align: top;\n",
       "    }\n",
       "\n",
       "    .dataframe thead th {\n",
       "        text-align: right;\n",
       "    }\n",
       "</style>\n",
       "<table border=\"1\" class=\"dataframe\">\n",
       "  <thead>\n",
       "    <tr style=\"text-align: right;\">\n",
       "      <th></th>\n",
       "      <th>0</th>\n",
       "      <th>1</th>\n",
       "    </tr>\n",
       "  </thead>\n",
       "  <tbody>\n",
       "    <tr>\n",
       "      <th>0</th>\n",
       "      <td>3.19</td>\n",
       "      <td>&lt;NA&gt;</td>\n",
       "    </tr>\n",
       "    <tr>\n",
       "      <th>1</th>\n",
       "      <td>&lt;NA&gt;</td>\n",
       "      <td>-1.23</td>\n",
       "    </tr>\n",
       "  </tbody>\n",
       "</table>\n",
       "</div>"
      ],
      "text/plain": [
       "      0      1\n",
       "0  3.19   <NA>\n",
       "1  <NA>  -1.23"
      ]
     },
     "execution_count": 12,
     "metadata": {},
     "output_type": "execute_result"
    }
   ],
   "source": [
    "from decimal import Decimal\n",
    "\n",
    "decimal_type = pd.ArrowDtype(pa.decimal128(3, scale=2))\n",
    "\n",
    "data = [[Decimal(\"3.19\"), None], [None, Decimal(\"-1.23\")]]\n",
    "\n",
    "df = pd.DataFrame(data, dtype=decimal_type)\n",
    "\n",
    "df"
   ]
  },
  {
   "cell_type": "code",
   "execution_count": 13,
   "id": "7d764d4c",
   "metadata": {},
   "outputs": [
    {
     "data": {
      "text/plain": [
       "0      [('1', '2')]\n",
       "1    [('10', '20')]\n",
       "2              <NA>\n",
       "dtype: map<string, string>[pyarrow]"
      ]
     },
     "execution_count": 13,
     "metadata": {},
     "output_type": "execute_result"
    }
   ],
   "source": [
    "pa_array = pa.array(\n",
    "\n",
    "    [{\"1\": \"2\"}, {\"10\": \"20\"}, None],\n",
    "\n",
    "    type=pa.map_(pa.string(), pa.string()),\n",
    "\n",
    ")\n",
    "\n",
    "ser = pd.Series(pd.arrays.ArrowExtensionArray(pa_array))\n",
    "\n",
    "ser"
   ]
  },
  {
   "cell_type": "code",
   "execution_count": 14,
   "id": "5815043c",
   "metadata": {},
   "outputs": [
    {
     "data": {
      "text/plain": [
       "<pyarrow.lib.UInt8Array object at 0x000001FF8530B9A0>\n",
       "[\n",
       "  1,\n",
       "  2,\n",
       "  null\n",
       "]"
      ]
     },
     "execution_count": 14,
     "metadata": {},
     "output_type": "execute_result"
    }
   ],
   "source": [
    "ser = pd.Series([1, 2, None], dtype=\"uint8[pyarrow]\")\n",
    "\n",
    "pa.array(ser)"
   ]
  },
  {
   "cell_type": "code",
   "execution_count": 15,
   "id": "8c2258ad",
   "metadata": {},
   "outputs": [
    {
     "data": {
      "text/plain": [
       "<pyarrow.lib.UInt8Array object at 0x000001FF8530A260>\n",
       "[\n",
       "  1,\n",
       "  2,\n",
       "  null\n",
       "]"
      ]
     },
     "execution_count": 15,
     "metadata": {},
     "output_type": "execute_result"
    }
   ],
   "source": [
    "idx = pd.Index(ser)\n",
    "\n",
    "pa.array(idx)"
   ]
  },
  {
   "cell_type": "code",
   "execution_count": 16,
   "id": "4a71e78c",
   "metadata": {},
   "outputs": [
    {
     "data": {
      "text/html": [
       "<div>\n",
       "<style scoped>\n",
       "    .dataframe tbody tr th:only-of-type {\n",
       "        vertical-align: middle;\n",
       "    }\n",
       "\n",
       "    .dataframe tbody tr th {\n",
       "        vertical-align: top;\n",
       "    }\n",
       "\n",
       "    .dataframe thead th {\n",
       "        text-align: right;\n",
       "    }\n",
       "</style>\n",
       "<table border=\"1\" class=\"dataframe\">\n",
       "  <thead>\n",
       "    <tr style=\"text-align: right;\">\n",
       "      <th></th>\n",
       "      <th>a</th>\n",
       "    </tr>\n",
       "  </thead>\n",
       "  <tbody>\n",
       "    <tr>\n",
       "      <th>0</th>\n",
       "      <td>1</td>\n",
       "    </tr>\n",
       "    <tr>\n",
       "      <th>1</th>\n",
       "      <td>2</td>\n",
       "    </tr>\n",
       "    <tr>\n",
       "      <th>2</th>\n",
       "      <td>3</td>\n",
       "    </tr>\n",
       "  </tbody>\n",
       "</table>\n",
       "</div>"
      ],
      "text/plain": [
       "   a\n",
       "0  1\n",
       "1  2\n",
       "2  3"
      ]
     },
     "execution_count": 16,
     "metadata": {},
     "output_type": "execute_result"
    }
   ],
   "source": [
    "table = pa.table([pa.array([1, 2, 3], type=pa.int64())], names=[\"a\"])\n",
    "\n",
    "df = table.to_pandas(types_mapper=pd.ArrowDtype)\n",
    "\n",
    "df"
   ]
  },
  {
   "cell_type": "code",
   "execution_count": 17,
   "id": "33edcfe3",
   "metadata": {},
   "outputs": [
    {
     "data": {
      "text/plain": [
       "a    int64[pyarrow]\n",
       "dtype: object"
      ]
     },
     "execution_count": 17,
     "metadata": {},
     "output_type": "execute_result"
    }
   ],
   "source": [
    "df.dtypes"
   ]
  },
  {
   "cell_type": "code",
   "execution_count": 18,
   "id": "744d67be",
   "metadata": {},
   "outputs": [
    {
     "data": {
      "text/plain": [
       "-0.6669999808073044"
      ]
     },
     "execution_count": 18,
     "metadata": {},
     "output_type": "execute_result"
    }
   ],
   "source": [
    "import pyarrow as pa\n",
    "\n",
    "ser = pd.Series([-1.545, 0.211, None], dtype=\"float32[pyarrow]\")\n",
    "\n",
    "ser.mean()"
   ]
  },
  {
   "cell_type": "code",
   "execution_count": 19,
   "id": "3a18f787",
   "metadata": {},
   "outputs": [
    {
     "data": {
      "text/plain": [
       "0    -3.09\n",
       "1    0.422\n",
       "2     <NA>\n",
       "dtype: float[pyarrow]"
      ]
     },
     "execution_count": 19,
     "metadata": {},
     "output_type": "execute_result"
    }
   ],
   "source": [
    "ser + ser"
   ]
  },
  {
   "cell_type": "code",
   "execution_count": 20,
   "id": "cc8f1260",
   "metadata": {},
   "outputs": [
    {
     "data": {
      "text/plain": [
       "0    False\n",
       "1    False\n",
       "2     <NA>\n",
       "dtype: bool[pyarrow]"
      ]
     },
     "execution_count": 20,
     "metadata": {},
     "output_type": "execute_result"
    }
   ],
   "source": [
    "ser > (ser + 1)"
   ]
  },
  {
   "cell_type": "code",
   "execution_count": 21,
   "id": "2b76b43e",
   "metadata": {},
   "outputs": [
    {
     "data": {
      "text/plain": [
       "0   -1.545\n",
       "1    0.211\n",
       "dtype: float[pyarrow]"
      ]
     },
     "execution_count": 21,
     "metadata": {},
     "output_type": "execute_result"
    }
   ],
   "source": [
    "ser.dropna()"
   ]
  },
  {
   "cell_type": "code",
   "execution_count": 22,
   "id": "c4b18761",
   "metadata": {},
   "outputs": [
    {
     "data": {
      "text/plain": [
       "0    False\n",
       "1    False\n",
       "2     True\n",
       "dtype: bool"
      ]
     },
     "execution_count": 22,
     "metadata": {},
     "output_type": "execute_result"
    }
   ],
   "source": [
    "ser.isna()"
   ]
  },
  {
   "cell_type": "code",
   "execution_count": 23,
   "id": "9af50710",
   "metadata": {},
   "outputs": [
    {
     "data": {
      "text/plain": [
       "0   -1.545\n",
       "1    0.211\n",
       "2      0.0\n",
       "dtype: float[pyarrow]"
      ]
     },
     "execution_count": 23,
     "metadata": {},
     "output_type": "execute_result"
    }
   ],
   "source": [
    "ser.fillna(0)"
   ]
  },
  {
   "cell_type": "code",
   "execution_count": 24,
   "id": "3558d351",
   "metadata": {},
   "outputs": [
    {
     "data": {
      "text/plain": [
       "0     True\n",
       "1    False\n",
       "2     <NA>\n",
       "dtype: bool[pyarrow]"
      ]
     },
     "execution_count": 24,
     "metadata": {},
     "output_type": "execute_result"
    }
   ],
   "source": [
    "ser_str = pd.Series([\"a\", \"b\", None], dtype=pd.ArrowDtype(pa.string()))\n",
    "\n",
    "ser_str.str.startswith(\"a\")"
   ]
  },
  {
   "cell_type": "code",
   "execution_count": 28,
   "id": "a9cae97f",
   "metadata": {},
   "outputs": [],
   "source": [
    "import os\n",
    "os.environ[\"ARROW_TIMEZONE_DATABASE\"] = \"C:/anaconda3/lib/site-packages/tzdata\""
   ]
  },
  {
   "cell_type": "code",
   "execution_count": 27,
   "id": "f08d4f49",
   "metadata": {},
   "outputs": [
    {
     "name": "stdout",
     "output_type": "stream",
     "text": [
      "C:\\anaconda3\\lib\\site-packages\\tzdata\\__init__.py\n"
     ]
    }
   ],
   "source": [
    "import tzdata\n",
    "print(tzdata.__file__)"
   ]
  },
  {
   "cell_type": "code",
   "execution_count": 31,
   "id": "cb3238f5",
   "metadata": {},
   "outputs": [
    {
     "data": {
      "text/html": [
       "<div>\n",
       "<style scoped>\n",
       "    .dataframe tbody tr th:only-of-type {\n",
       "        vertical-align: middle;\n",
       "    }\n",
       "\n",
       "    .dataframe tbody tr th {\n",
       "        vertical-align: top;\n",
       "    }\n",
       "\n",
       "    .dataframe thead th {\n",
       "        text-align: right;\n",
       "    }\n",
       "</style>\n",
       "<table border=\"1\" class=\"dataframe\">\n",
       "  <thead>\n",
       "    <tr style=\"text-align: right;\">\n",
       "      <th></th>\n",
       "      <th>a</th>\n",
       "      <th>b</th>\n",
       "      <th>c</th>\n",
       "    </tr>\n",
       "  </thead>\n",
       "  <tbody>\n",
       "    <tr>\n",
       "      <th>0</th>\n",
       "      <td>1</td>\n",
       "      <td>2.5</td>\n",
       "      <td>True</td>\n",
       "    </tr>\n",
       "    <tr>\n",
       "      <th>1</th>\n",
       "      <td>3</td>\n",
       "      <td>4.5</td>\n",
       "      <td>False</td>\n",
       "    </tr>\n",
       "  </tbody>\n",
       "</table>\n",
       "</div>"
      ],
      "text/plain": [
       "   a    b      c\n",
       "0  1  2.5   True\n",
       "1  3  4.5  False"
      ]
     },
     "execution_count": 31,
     "metadata": {},
     "output_type": "execute_result"
    }
   ],
   "source": [
    "import io\n",
    "\n",
    "data = io.StringIO(\"\"\"a,b,c\n",
    "\n",
    "   1,2.5,True\n",
    "\n",
    "   3,4.5,False\n",
    "\n",
    "\"\"\")\n",
    "\n",
    "\n",
    "\n",
    "df = pd.read_csv(data, engine=\"pyarrow\")\n",
    "\n",
    "df"
   ]
  },
  {
   "cell_type": "code",
   "execution_count": 32,
   "id": "c085f186",
   "metadata": {},
   "outputs": [
    {
     "data": {
      "text/plain": [
       "a     int64[pyarrow]\n",
       "b    double[pyarrow]\n",
       "c      bool[pyarrow]\n",
       "d    string[pyarrow]\n",
       "e     int64[pyarrow]\n",
       "f    double[pyarrow]\n",
       "g      bool[pyarrow]\n",
       "h    string[pyarrow]\n",
       "i      null[pyarrow]\n",
       "dtype: object"
      ]
     },
     "execution_count": 32,
     "metadata": {},
     "output_type": "execute_result"
    }
   ],
   "source": [
    "import io\n",
    "\n",
    "data = io.StringIO(\"\"\"a,b,c,d,e,f,g,h,i\n",
    "\n",
    "    1,2.5,True,a,,,,,\n",
    "\n",
    "    3,4.5,False,b,6,7.5,True,a,\n",
    "\n",
    "\"\"\")\n",
    "\n",
    "\n",
    "\n",
    "df_pyarrow = pd.read_csv(data, dtype_backend=\"pyarrow\")\n",
    "\n",
    "df_pyarrow.dtypes"
   ]
  }
 ],
 "metadata": {
  "kernelspec": {
   "display_name": "Python 3 (ipykernel)",
   "language": "python",
   "name": "python3"
  },
  "language_info": {
   "codemirror_mode": {
    "name": "ipython",
    "version": 3
   },
   "file_extension": ".py",
   "mimetype": "text/x-python",
   "name": "python",
   "nbconvert_exporter": "python",
   "pygments_lexer": "ipython3",
   "version": "3.10.9"
  }
 },
 "nbformat": 4,
 "nbformat_minor": 5
}
