{
 "cells": [
  {
   "cell_type": "code",
   "execution_count": 6,
   "id": "47081ff6",
   "metadata": {},
   "outputs": [],
   "source": [
    "import pandas as pd\n",
    "import numpy as np"
   ]
  },
  {
   "cell_type": "code",
   "execution_count": 2,
   "id": "cedbd3c1",
   "metadata": {},
   "outputs": [
    {
     "data": {
      "text/plain": [
       "a    0\n",
       "b    1\n",
       "c    2\n",
       "d    3\n",
       "e    4\n",
       "dtype: int64"
      ]
     },
     "execution_count": 2,
     "metadata": {},
     "output_type": "execute_result"
    }
   ],
   "source": [
    "ser = pd.Series(range(5), index=list(\"abcde\"))\n",
    "ser"
   ]
  },
  {
   "cell_type": "code",
   "execution_count": 3,
   "id": "5bc783c5",
   "metadata": {},
   "outputs": [
    {
     "data": {
      "text/plain": [
       "a    0\n",
       "c    2\n",
       "e    4\n",
       "dtype: int64"
      ]
     },
     "execution_count": 3,
     "metadata": {},
     "output_type": "execute_result"
    }
   ],
   "source": [
    "ser.loc[[\"a\", \"c\", \"e\"]]"
   ]
  },
  {
   "cell_type": "code",
   "execution_count": 7,
   "id": "f1c544d1",
   "metadata": {},
   "outputs": [
    {
     "data": {
      "text/html": [
       "<div>\n",
       "<style scoped>\n",
       "    .dataframe tbody tr th:only-of-type {\n",
       "        vertical-align: middle;\n",
       "    }\n",
       "\n",
       "    .dataframe tbody tr th {\n",
       "        vertical-align: top;\n",
       "    }\n",
       "\n",
       "    .dataframe thead th {\n",
       "        text-align: right;\n",
       "    }\n",
       "</style>\n",
       "<table border=\"1\" class=\"dataframe\">\n",
       "  <thead>\n",
       "    <tr style=\"text-align: right;\">\n",
       "      <th></th>\n",
       "      <th>a</th>\n",
       "      <th>b</th>\n",
       "      <th>c</th>\n",
       "      <th>d</th>\n",
       "      <th>e</th>\n",
       "    </tr>\n",
       "  </thead>\n",
       "  <tbody>\n",
       "    <tr>\n",
       "      <th>a</th>\n",
       "      <td>0</td>\n",
       "      <td>1</td>\n",
       "      <td>2</td>\n",
       "      <td>3</td>\n",
       "      <td>4</td>\n",
       "    </tr>\n",
       "    <tr>\n",
       "      <th>b</th>\n",
       "      <td>5</td>\n",
       "      <td>6</td>\n",
       "      <td>7</td>\n",
       "      <td>8</td>\n",
       "      <td>9</td>\n",
       "    </tr>\n",
       "    <tr>\n",
       "      <th>c</th>\n",
       "      <td>10</td>\n",
       "      <td>11</td>\n",
       "      <td>12</td>\n",
       "      <td>13</td>\n",
       "      <td>14</td>\n",
       "    </tr>\n",
       "    <tr>\n",
       "      <th>d</th>\n",
       "      <td>15</td>\n",
       "      <td>16</td>\n",
       "      <td>17</td>\n",
       "      <td>18</td>\n",
       "      <td>19</td>\n",
       "    </tr>\n",
       "    <tr>\n",
       "      <th>e</th>\n",
       "      <td>20</td>\n",
       "      <td>21</td>\n",
       "      <td>22</td>\n",
       "      <td>23</td>\n",
       "      <td>24</td>\n",
       "    </tr>\n",
       "  </tbody>\n",
       "</table>\n",
       "</div>"
      ],
      "text/plain": [
       "    a   b   c   d   e\n",
       "a   0   1   2   3   4\n",
       "b   5   6   7   8   9\n",
       "c  10  11  12  13  14\n",
       "d  15  16  17  18  19\n",
       "e  20  21  22  23  24"
      ]
     },
     "execution_count": 7,
     "metadata": {},
     "output_type": "execute_result"
    }
   ],
   "source": [
    "df = pd.DataFrame(np.arange(25).reshape(5, 5), index=list(\"abcde\"), columns=list(\"abcde\"))\n",
    "df"
   ]
  },
  {
   "cell_type": "code",
   "execution_count": 8,
   "id": "2f50e29d",
   "metadata": {},
   "outputs": [
    {
     "data": {
      "text/html": [
       "<div>\n",
       "<style scoped>\n",
       "    .dataframe tbody tr th:only-of-type {\n",
       "        vertical-align: middle;\n",
       "    }\n",
       "\n",
       "    .dataframe tbody tr th {\n",
       "        vertical-align: top;\n",
       "    }\n",
       "\n",
       "    .dataframe thead th {\n",
       "        text-align: right;\n",
       "    }\n",
       "</style>\n",
       "<table border=\"1\" class=\"dataframe\">\n",
       "  <thead>\n",
       "    <tr style=\"text-align: right;\">\n",
       "      <th></th>\n",
       "      <th>b</th>\n",
       "      <th>d</th>\n",
       "    </tr>\n",
       "  </thead>\n",
       "  <tbody>\n",
       "    <tr>\n",
       "      <th>a</th>\n",
       "      <td>1</td>\n",
       "      <td>3</td>\n",
       "    </tr>\n",
       "    <tr>\n",
       "      <th>c</th>\n",
       "      <td>11</td>\n",
       "      <td>13</td>\n",
       "    </tr>\n",
       "    <tr>\n",
       "      <th>e</th>\n",
       "      <td>21</td>\n",
       "      <td>23</td>\n",
       "    </tr>\n",
       "  </tbody>\n",
       "</table>\n",
       "</div>"
      ],
      "text/plain": [
       "    b   d\n",
       "a   1   3\n",
       "c  11  13\n",
       "e  21  23"
      ]
     },
     "execution_count": 8,
     "metadata": {},
     "output_type": "execute_result"
    }
   ],
   "source": [
    "df.loc[[\"a\", \"c\", \"e\"], [\"b\", \"d\"]]"
   ]
  },
  {
   "cell_type": "code",
   "execution_count": 9,
   "id": "ac72309b",
   "metadata": {},
   "outputs": [
    {
     "data": {
      "text/html": [
       "<div>\n",
       "<style scoped>\n",
       "    .dataframe tbody tr th:only-of-type {\n",
       "        vertical-align: middle;\n",
       "    }\n",
       "\n",
       "    .dataframe tbody tr th {\n",
       "        vertical-align: top;\n",
       "    }\n",
       "\n",
       "    .dataframe thead th {\n",
       "        text-align: right;\n",
       "    }\n",
       "</style>\n",
       "<table border=\"1\" class=\"dataframe\">\n",
       "  <thead>\n",
       "    <tr style=\"text-align: right;\">\n",
       "      <th></th>\n",
       "      <th>A</th>\n",
       "      <th>B</th>\n",
       "      <th>C</th>\n",
       "      <th>D</th>\n",
       "    </tr>\n",
       "  </thead>\n",
       "  <tbody>\n",
       "    <tr>\n",
       "      <th>2000-01-01</th>\n",
       "      <td>-0.018492</td>\n",
       "      <td>0.704924</td>\n",
       "      <td>0.761786</td>\n",
       "      <td>1.084438</td>\n",
       "    </tr>\n",
       "    <tr>\n",
       "      <th>2000-01-02</th>\n",
       "      <td>0.497136</td>\n",
       "      <td>-0.114484</td>\n",
       "      <td>1.184610</td>\n",
       "      <td>0.756158</td>\n",
       "    </tr>\n",
       "    <tr>\n",
       "      <th>2000-01-03</th>\n",
       "      <td>-0.116372</td>\n",
       "      <td>-0.708337</td>\n",
       "      <td>0.949433</td>\n",
       "      <td>0.054825</td>\n",
       "    </tr>\n",
       "    <tr>\n",
       "      <th>2000-01-04</th>\n",
       "      <td>-0.064605</td>\n",
       "      <td>-0.689296</td>\n",
       "      <td>0.310550</td>\n",
       "      <td>0.471620</td>\n",
       "    </tr>\n",
       "    <tr>\n",
       "      <th>2000-01-05</th>\n",
       "      <td>0.207694</td>\n",
       "      <td>-0.818026</td>\n",
       "      <td>0.359911</td>\n",
       "      <td>0.346075</td>\n",
       "    </tr>\n",
       "    <tr>\n",
       "      <th>2000-01-06</th>\n",
       "      <td>-0.337750</td>\n",
       "      <td>0.812771</td>\n",
       "      <td>0.645985</td>\n",
       "      <td>0.119537</td>\n",
       "    </tr>\n",
       "    <tr>\n",
       "      <th>2000-01-07</th>\n",
       "      <td>-0.844191</td>\n",
       "      <td>-0.117398</td>\n",
       "      <td>-0.905368</td>\n",
       "      <td>-0.365953</td>\n",
       "    </tr>\n",
       "    <tr>\n",
       "      <th>2000-01-08</th>\n",
       "      <td>-0.121758</td>\n",
       "      <td>0.439313</td>\n",
       "      <td>-0.726344</td>\n",
       "      <td>0.969090</td>\n",
       "    </tr>\n",
       "  </tbody>\n",
       "</table>\n",
       "</div>"
      ],
      "text/plain": [
       "                   A         B         C         D\n",
       "2000-01-01 -0.018492  0.704924  0.761786  1.084438\n",
       "2000-01-02  0.497136 -0.114484  1.184610  0.756158\n",
       "2000-01-03 -0.116372 -0.708337  0.949433  0.054825\n",
       "2000-01-04 -0.064605 -0.689296  0.310550  0.471620\n",
       "2000-01-05  0.207694 -0.818026  0.359911  0.346075\n",
       "2000-01-06 -0.337750  0.812771  0.645985  0.119537\n",
       "2000-01-07 -0.844191 -0.117398 -0.905368 -0.365953\n",
       "2000-01-08 -0.121758  0.439313 -0.726344  0.969090"
      ]
     },
     "execution_count": 9,
     "metadata": {},
     "output_type": "execute_result"
    }
   ],
   "source": [
    "dates = pd.date_range('1/1/2000', periods=8)\n",
    "\n",
    "df = pd.DataFrame(np.random.randn(8, 4),\n",
    "\n",
    "                  index=dates, columns=['A', 'B', 'C', 'D'])\n",
    "\n",
    "\n",
    "\n",
    "df"
   ]
  },
  {
   "cell_type": "code",
   "execution_count": 11,
   "id": "17b5b7fc",
   "metadata": {},
   "outputs": [
    {
     "data": {
      "text/plain": [
       "2000-01-01   -0.018492\n",
       "2000-01-02    0.497136\n",
       "2000-01-03   -0.116372\n",
       "2000-01-04   -0.064605\n",
       "2000-01-05    0.207694\n",
       "2000-01-06   -0.337750\n",
       "2000-01-07   -0.844191\n",
       "2000-01-08   -0.121758\n",
       "Freq: D, Name: A, dtype: float64"
      ]
     },
     "execution_count": 11,
     "metadata": {},
     "output_type": "execute_result"
    }
   ],
   "source": [
    "s = df['A']\n",
    "s"
   ]
  },
  {
   "cell_type": "code",
   "execution_count": 12,
   "id": "14f359d5",
   "metadata": {},
   "outputs": [
    {
     "data": {
      "text/plain": [
       "-0.3377502112409749"
      ]
     },
     "execution_count": 12,
     "metadata": {},
     "output_type": "execute_result"
    }
   ],
   "source": [
    "s[dates[5]]"
   ]
  },
  {
   "cell_type": "code",
   "execution_count": 13,
   "id": "2beee674",
   "metadata": {},
   "outputs": [],
   "source": [
    "df[['B', 'A']] = df[['A', 'B']]"
   ]
  },
  {
   "cell_type": "code",
   "execution_count": 14,
   "id": "8aaf1554",
   "metadata": {},
   "outputs": [
    {
     "data": {
      "text/html": [
       "<div>\n",
       "<style scoped>\n",
       "    .dataframe tbody tr th:only-of-type {\n",
       "        vertical-align: middle;\n",
       "    }\n",
       "\n",
       "    .dataframe tbody tr th {\n",
       "        vertical-align: top;\n",
       "    }\n",
       "\n",
       "    .dataframe thead th {\n",
       "        text-align: right;\n",
       "    }\n",
       "</style>\n",
       "<table border=\"1\" class=\"dataframe\">\n",
       "  <thead>\n",
       "    <tr style=\"text-align: right;\">\n",
       "      <th></th>\n",
       "      <th>A</th>\n",
       "      <th>B</th>\n",
       "      <th>C</th>\n",
       "      <th>D</th>\n",
       "    </tr>\n",
       "  </thead>\n",
       "  <tbody>\n",
       "    <tr>\n",
       "      <th>2000-01-01</th>\n",
       "      <td>0.704924</td>\n",
       "      <td>-0.018492</td>\n",
       "      <td>0.761786</td>\n",
       "      <td>1.084438</td>\n",
       "    </tr>\n",
       "    <tr>\n",
       "      <th>2000-01-02</th>\n",
       "      <td>-0.114484</td>\n",
       "      <td>0.497136</td>\n",
       "      <td>1.184610</td>\n",
       "      <td>0.756158</td>\n",
       "    </tr>\n",
       "    <tr>\n",
       "      <th>2000-01-03</th>\n",
       "      <td>-0.708337</td>\n",
       "      <td>-0.116372</td>\n",
       "      <td>0.949433</td>\n",
       "      <td>0.054825</td>\n",
       "    </tr>\n",
       "    <tr>\n",
       "      <th>2000-01-04</th>\n",
       "      <td>-0.689296</td>\n",
       "      <td>-0.064605</td>\n",
       "      <td>0.310550</td>\n",
       "      <td>0.471620</td>\n",
       "    </tr>\n",
       "    <tr>\n",
       "      <th>2000-01-05</th>\n",
       "      <td>-0.818026</td>\n",
       "      <td>0.207694</td>\n",
       "      <td>0.359911</td>\n",
       "      <td>0.346075</td>\n",
       "    </tr>\n",
       "    <tr>\n",
       "      <th>2000-01-06</th>\n",
       "      <td>0.812771</td>\n",
       "      <td>-0.337750</td>\n",
       "      <td>0.645985</td>\n",
       "      <td>0.119537</td>\n",
       "    </tr>\n",
       "    <tr>\n",
       "      <th>2000-01-07</th>\n",
       "      <td>-0.117398</td>\n",
       "      <td>-0.844191</td>\n",
       "      <td>-0.905368</td>\n",
       "      <td>-0.365953</td>\n",
       "    </tr>\n",
       "    <tr>\n",
       "      <th>2000-01-08</th>\n",
       "      <td>0.439313</td>\n",
       "      <td>-0.121758</td>\n",
       "      <td>-0.726344</td>\n",
       "      <td>0.969090</td>\n",
       "    </tr>\n",
       "  </tbody>\n",
       "</table>\n",
       "</div>"
      ],
      "text/plain": [
       "                   A         B         C         D\n",
       "2000-01-01  0.704924 -0.018492  0.761786  1.084438\n",
       "2000-01-02 -0.114484  0.497136  1.184610  0.756158\n",
       "2000-01-03 -0.708337 -0.116372  0.949433  0.054825\n",
       "2000-01-04 -0.689296 -0.064605  0.310550  0.471620\n",
       "2000-01-05 -0.818026  0.207694  0.359911  0.346075\n",
       "2000-01-06  0.812771 -0.337750  0.645985  0.119537\n",
       "2000-01-07 -0.117398 -0.844191 -0.905368 -0.365953\n",
       "2000-01-08  0.439313 -0.121758 -0.726344  0.969090"
      ]
     },
     "execution_count": 14,
     "metadata": {},
     "output_type": "execute_result"
    }
   ],
   "source": [
    "df"
   ]
  },
  {
   "cell_type": "code",
   "execution_count": 15,
   "id": "9dc4bc97",
   "metadata": {},
   "outputs": [
    {
     "data": {
      "text/html": [
       "<div>\n",
       "<style scoped>\n",
       "    .dataframe tbody tr th:only-of-type {\n",
       "        vertical-align: middle;\n",
       "    }\n",
       "\n",
       "    .dataframe tbody tr th {\n",
       "        vertical-align: top;\n",
       "    }\n",
       "\n",
       "    .dataframe thead th {\n",
       "        text-align: right;\n",
       "    }\n",
       "</style>\n",
       "<table border=\"1\" class=\"dataframe\">\n",
       "  <thead>\n",
       "    <tr style=\"text-align: right;\">\n",
       "      <th></th>\n",
       "      <th>A</th>\n",
       "      <th>B</th>\n",
       "    </tr>\n",
       "  </thead>\n",
       "  <tbody>\n",
       "    <tr>\n",
       "      <th>2000-01-01</th>\n",
       "      <td>0.704924</td>\n",
       "      <td>-0.018492</td>\n",
       "    </tr>\n",
       "    <tr>\n",
       "      <th>2000-01-02</th>\n",
       "      <td>-0.114484</td>\n",
       "      <td>0.497136</td>\n",
       "    </tr>\n",
       "    <tr>\n",
       "      <th>2000-01-03</th>\n",
       "      <td>-0.708337</td>\n",
       "      <td>-0.116372</td>\n",
       "    </tr>\n",
       "    <tr>\n",
       "      <th>2000-01-04</th>\n",
       "      <td>-0.689296</td>\n",
       "      <td>-0.064605</td>\n",
       "    </tr>\n",
       "    <tr>\n",
       "      <th>2000-01-05</th>\n",
       "      <td>-0.818026</td>\n",
       "      <td>0.207694</td>\n",
       "    </tr>\n",
       "    <tr>\n",
       "      <th>2000-01-06</th>\n",
       "      <td>0.812771</td>\n",
       "      <td>-0.337750</td>\n",
       "    </tr>\n",
       "    <tr>\n",
       "      <th>2000-01-07</th>\n",
       "      <td>-0.117398</td>\n",
       "      <td>-0.844191</td>\n",
       "    </tr>\n",
       "    <tr>\n",
       "      <th>2000-01-08</th>\n",
       "      <td>0.439313</td>\n",
       "      <td>-0.121758</td>\n",
       "    </tr>\n",
       "  </tbody>\n",
       "</table>\n",
       "</div>"
      ],
      "text/plain": [
       "                   A         B\n",
       "2000-01-01  0.704924 -0.018492\n",
       "2000-01-02 -0.114484  0.497136\n",
       "2000-01-03 -0.708337 -0.116372\n",
       "2000-01-04 -0.689296 -0.064605\n",
       "2000-01-05 -0.818026  0.207694\n",
       "2000-01-06  0.812771 -0.337750\n",
       "2000-01-07 -0.117398 -0.844191\n",
       "2000-01-08  0.439313 -0.121758"
      ]
     },
     "execution_count": 15,
     "metadata": {},
     "output_type": "execute_result"
    }
   ],
   "source": [
    "df[['A', 'B']]"
   ]
  },
  {
   "cell_type": "code",
   "execution_count": 18,
   "id": "4b3b0d7d",
   "metadata": {},
   "outputs": [
    {
     "data": {
      "text/html": [
       "<div>\n",
       "<style scoped>\n",
       "    .dataframe tbody tr th:only-of-type {\n",
       "        vertical-align: middle;\n",
       "    }\n",
       "\n",
       "    .dataframe tbody tr th {\n",
       "        vertical-align: top;\n",
       "    }\n",
       "\n",
       "    .dataframe thead th {\n",
       "        text-align: right;\n",
       "    }\n",
       "</style>\n",
       "<table border=\"1\" class=\"dataframe\">\n",
       "  <thead>\n",
       "    <tr style=\"text-align: right;\">\n",
       "      <th></th>\n",
       "      <th>B</th>\n",
       "      <th>A</th>\n",
       "    </tr>\n",
       "  </thead>\n",
       "  <tbody>\n",
       "    <tr>\n",
       "      <th>2000-01-01</th>\n",
       "      <td>-0.018492</td>\n",
       "      <td>0.704924</td>\n",
       "    </tr>\n",
       "    <tr>\n",
       "      <th>2000-01-02</th>\n",
       "      <td>0.497136</td>\n",
       "      <td>-0.114484</td>\n",
       "    </tr>\n",
       "    <tr>\n",
       "      <th>2000-01-03</th>\n",
       "      <td>-0.116372</td>\n",
       "      <td>-0.708337</td>\n",
       "    </tr>\n",
       "    <tr>\n",
       "      <th>2000-01-04</th>\n",
       "      <td>-0.064605</td>\n",
       "      <td>-0.689296</td>\n",
       "    </tr>\n",
       "    <tr>\n",
       "      <th>2000-01-05</th>\n",
       "      <td>0.207694</td>\n",
       "      <td>-0.818026</td>\n",
       "    </tr>\n",
       "    <tr>\n",
       "      <th>2000-01-06</th>\n",
       "      <td>-0.337750</td>\n",
       "      <td>0.812771</td>\n",
       "    </tr>\n",
       "    <tr>\n",
       "      <th>2000-01-07</th>\n",
       "      <td>-0.844191</td>\n",
       "      <td>-0.117398</td>\n",
       "    </tr>\n",
       "    <tr>\n",
       "      <th>2000-01-08</th>\n",
       "      <td>-0.121758</td>\n",
       "      <td>0.439313</td>\n",
       "    </tr>\n",
       "  </tbody>\n",
       "</table>\n",
       "</div>"
      ],
      "text/plain": [
       "                   B         A\n",
       "2000-01-01 -0.018492  0.704924\n",
       "2000-01-02  0.497136 -0.114484\n",
       "2000-01-03 -0.116372 -0.708337\n",
       "2000-01-04 -0.064605 -0.689296\n",
       "2000-01-05  0.207694 -0.818026\n",
       "2000-01-06 -0.337750  0.812771\n",
       "2000-01-07 -0.844191 -0.117398\n",
       "2000-01-08 -0.121758  0.439313"
      ]
     },
     "execution_count": 18,
     "metadata": {},
     "output_type": "execute_result"
    }
   ],
   "source": [
    "df.loc[:, ['B', 'A']] "
   ]
  },
  {
   "cell_type": "code",
   "execution_count": 16,
   "id": "0316d17e",
   "metadata": {},
   "outputs": [],
   "source": [
    "df.loc[:, ['B', 'A']] = df[['A', 'B']]"
   ]
  },
  {
   "cell_type": "code",
   "execution_count": 17,
   "id": "9e8285bd",
   "metadata": {},
   "outputs": [
    {
     "data": {
      "text/html": [
       "<div>\n",
       "<style scoped>\n",
       "    .dataframe tbody tr th:only-of-type {\n",
       "        vertical-align: middle;\n",
       "    }\n",
       "\n",
       "    .dataframe tbody tr th {\n",
       "        vertical-align: top;\n",
       "    }\n",
       "\n",
       "    .dataframe thead th {\n",
       "        text-align: right;\n",
       "    }\n",
       "</style>\n",
       "<table border=\"1\" class=\"dataframe\">\n",
       "  <thead>\n",
       "    <tr style=\"text-align: right;\">\n",
       "      <th></th>\n",
       "      <th>A</th>\n",
       "      <th>B</th>\n",
       "    </tr>\n",
       "  </thead>\n",
       "  <tbody>\n",
       "    <tr>\n",
       "      <th>2000-01-01</th>\n",
       "      <td>0.704924</td>\n",
       "      <td>-0.018492</td>\n",
       "    </tr>\n",
       "    <tr>\n",
       "      <th>2000-01-02</th>\n",
       "      <td>-0.114484</td>\n",
       "      <td>0.497136</td>\n",
       "    </tr>\n",
       "    <tr>\n",
       "      <th>2000-01-03</th>\n",
       "      <td>-0.708337</td>\n",
       "      <td>-0.116372</td>\n",
       "    </tr>\n",
       "    <tr>\n",
       "      <th>2000-01-04</th>\n",
       "      <td>-0.689296</td>\n",
       "      <td>-0.064605</td>\n",
       "    </tr>\n",
       "    <tr>\n",
       "      <th>2000-01-05</th>\n",
       "      <td>-0.818026</td>\n",
       "      <td>0.207694</td>\n",
       "    </tr>\n",
       "    <tr>\n",
       "      <th>2000-01-06</th>\n",
       "      <td>0.812771</td>\n",
       "      <td>-0.337750</td>\n",
       "    </tr>\n",
       "    <tr>\n",
       "      <th>2000-01-07</th>\n",
       "      <td>-0.117398</td>\n",
       "      <td>-0.844191</td>\n",
       "    </tr>\n",
       "    <tr>\n",
       "      <th>2000-01-08</th>\n",
       "      <td>0.439313</td>\n",
       "      <td>-0.121758</td>\n",
       "    </tr>\n",
       "  </tbody>\n",
       "</table>\n",
       "</div>"
      ],
      "text/plain": [
       "                   A         B\n",
       "2000-01-01  0.704924 -0.018492\n",
       "2000-01-02 -0.114484  0.497136\n",
       "2000-01-03 -0.708337 -0.116372\n",
       "2000-01-04 -0.689296 -0.064605\n",
       "2000-01-05 -0.818026  0.207694\n",
       "2000-01-06  0.812771 -0.337750\n",
       "2000-01-07 -0.117398 -0.844191\n",
       "2000-01-08  0.439313 -0.121758"
      ]
     },
     "execution_count": 17,
     "metadata": {},
     "output_type": "execute_result"
    }
   ],
   "source": [
    "df[['A', 'B']]"
   ]
  },
  {
   "cell_type": "code",
   "execution_count": 19,
   "id": "78a2668d",
   "metadata": {},
   "outputs": [
    {
     "data": {
      "text/html": [
       "<div>\n",
       "<style scoped>\n",
       "    .dataframe tbody tr th:only-of-type {\n",
       "        vertical-align: middle;\n",
       "    }\n",
       "\n",
       "    .dataframe tbody tr th {\n",
       "        vertical-align: top;\n",
       "    }\n",
       "\n",
       "    .dataframe thead th {\n",
       "        text-align: right;\n",
       "    }\n",
       "</style>\n",
       "<table border=\"1\" class=\"dataframe\">\n",
       "  <thead>\n",
       "    <tr style=\"text-align: right;\">\n",
       "      <th></th>\n",
       "      <th>A</th>\n",
       "      <th>B</th>\n",
       "    </tr>\n",
       "  </thead>\n",
       "  <tbody>\n",
       "    <tr>\n",
       "      <th>2000-01-01</th>\n",
       "      <td>-0.018492</td>\n",
       "      <td>0.704924</td>\n",
       "    </tr>\n",
       "    <tr>\n",
       "      <th>2000-01-02</th>\n",
       "      <td>0.497136</td>\n",
       "      <td>-0.114484</td>\n",
       "    </tr>\n",
       "    <tr>\n",
       "      <th>2000-01-03</th>\n",
       "      <td>-0.116372</td>\n",
       "      <td>-0.708337</td>\n",
       "    </tr>\n",
       "    <tr>\n",
       "      <th>2000-01-04</th>\n",
       "      <td>-0.064605</td>\n",
       "      <td>-0.689296</td>\n",
       "    </tr>\n",
       "    <tr>\n",
       "      <th>2000-01-05</th>\n",
       "      <td>0.207694</td>\n",
       "      <td>-0.818026</td>\n",
       "    </tr>\n",
       "    <tr>\n",
       "      <th>2000-01-06</th>\n",
       "      <td>-0.337750</td>\n",
       "      <td>0.812771</td>\n",
       "    </tr>\n",
       "    <tr>\n",
       "      <th>2000-01-07</th>\n",
       "      <td>-0.844191</td>\n",
       "      <td>-0.117398</td>\n",
       "    </tr>\n",
       "    <tr>\n",
       "      <th>2000-01-08</th>\n",
       "      <td>-0.121758</td>\n",
       "      <td>0.439313</td>\n",
       "    </tr>\n",
       "  </tbody>\n",
       "</table>\n",
       "</div>"
      ],
      "text/plain": [
       "                   A         B\n",
       "2000-01-01 -0.018492  0.704924\n",
       "2000-01-02  0.497136 -0.114484\n",
       "2000-01-03 -0.116372 -0.708337\n",
       "2000-01-04 -0.064605 -0.689296\n",
       "2000-01-05  0.207694 -0.818026\n",
       "2000-01-06 -0.337750  0.812771\n",
       "2000-01-07 -0.844191 -0.117398\n",
       "2000-01-08 -0.121758  0.439313"
      ]
     },
     "execution_count": 19,
     "metadata": {},
     "output_type": "execute_result"
    }
   ],
   "source": [
    "df.loc[:, ['B', 'A']] = df[['A', 'B']].to_numpy()\n",
    "\n",
    "df[['A', 'B']]"
   ]
  },
  {
   "cell_type": "code",
   "execution_count": 67,
   "id": "df71b037",
   "metadata": {},
   "outputs": [],
   "source": [
    "df.iloc[:, [1, 0]] = df[['A', 'B']]"
   ]
  },
  {
   "cell_type": "code",
   "execution_count": 68,
   "id": "6662a053",
   "metadata": {},
   "outputs": [
    {
     "data": {
      "text/html": [
       "<div>\n",
       "<style scoped>\n",
       "    .dataframe tbody tr th:only-of-type {\n",
       "        vertical-align: middle;\n",
       "    }\n",
       "\n",
       "    .dataframe tbody tr th {\n",
       "        vertical-align: top;\n",
       "    }\n",
       "\n",
       "    .dataframe thead th {\n",
       "        text-align: right;\n",
       "    }\n",
       "</style>\n",
       "<table border=\"1\" class=\"dataframe\">\n",
       "  <thead>\n",
       "    <tr style=\"text-align: right;\">\n",
       "      <th></th>\n",
       "      <th>A</th>\n",
       "      <th>B</th>\n",
       "    </tr>\n",
       "  </thead>\n",
       "  <tbody>\n",
       "    <tr>\n",
       "      <th>2000-01-01</th>\n",
       "      <td>-0.018492</td>\n",
       "      <td>0.704924</td>\n",
       "    </tr>\n",
       "    <tr>\n",
       "      <th>2000-01-02</th>\n",
       "      <td>0.497136</td>\n",
       "      <td>-0.114484</td>\n",
       "    </tr>\n",
       "    <tr>\n",
       "      <th>2000-01-03</th>\n",
       "      <td>-0.116372</td>\n",
       "      <td>-0.708337</td>\n",
       "    </tr>\n",
       "    <tr>\n",
       "      <th>2000-01-04</th>\n",
       "      <td>-0.064605</td>\n",
       "      <td>-0.689296</td>\n",
       "    </tr>\n",
       "    <tr>\n",
       "      <th>2000-01-05</th>\n",
       "      <td>0.207694</td>\n",
       "      <td>-0.818026</td>\n",
       "    </tr>\n",
       "    <tr>\n",
       "      <th>2000-01-06</th>\n",
       "      <td>-0.337750</td>\n",
       "      <td>0.812771</td>\n",
       "    </tr>\n",
       "    <tr>\n",
       "      <th>2000-01-07</th>\n",
       "      <td>-0.844191</td>\n",
       "      <td>-0.117398</td>\n",
       "    </tr>\n",
       "    <tr>\n",
       "      <th>2000-01-08</th>\n",
       "      <td>-0.121758</td>\n",
       "      <td>0.439313</td>\n",
       "    </tr>\n",
       "  </tbody>\n",
       "</table>\n",
       "</div>"
      ],
      "text/plain": [
       "                   A         B\n",
       "2000-01-01 -0.018492  0.704924\n",
       "2000-01-02  0.497136 -0.114484\n",
       "2000-01-03 -0.116372 -0.708337\n",
       "2000-01-04 -0.064605 -0.689296\n",
       "2000-01-05  0.207694 -0.818026\n",
       "2000-01-06 -0.337750  0.812771\n",
       "2000-01-07 -0.844191 -0.117398\n",
       "2000-01-08 -0.121758  0.439313"
      ]
     },
     "execution_count": 68,
     "metadata": {},
     "output_type": "execute_result"
    }
   ],
   "source": [
    "df[['A', 'B']]"
   ]
  },
  {
   "cell_type": "code",
   "execution_count": 69,
   "id": "4b3ba554",
   "metadata": {},
   "outputs": [],
   "source": [
    "sa = pd.Series([1, 2, 3], index=list('abc'))\n",
    "\n",
    "dfa = df.copy()"
   ]
  },
  {
   "cell_type": "code",
   "execution_count": 70,
   "id": "58a483b6",
   "metadata": {},
   "outputs": [
    {
     "data": {
      "text/plain": [
       "a    1\n",
       "b    2\n",
       "c    3\n",
       "dtype: int64"
      ]
     },
     "execution_count": 70,
     "metadata": {},
     "output_type": "execute_result"
    }
   ],
   "source": [
    "sa"
   ]
  },
  {
   "cell_type": "code",
   "execution_count": 71,
   "id": "33ff2b53",
   "metadata": {},
   "outputs": [
    {
     "data": {
      "text/plain": [
       "2"
      ]
     },
     "execution_count": 71,
     "metadata": {},
     "output_type": "execute_result"
    }
   ],
   "source": [
    "sa.b"
   ]
  },
  {
   "cell_type": "code",
   "execution_count": 72,
   "id": "add8faa9",
   "metadata": {},
   "outputs": [
    {
     "data": {
      "text/html": [
       "<div>\n",
       "<style scoped>\n",
       "    .dataframe tbody tr th:only-of-type {\n",
       "        vertical-align: middle;\n",
       "    }\n",
       "\n",
       "    .dataframe tbody tr th {\n",
       "        vertical-align: top;\n",
       "    }\n",
       "\n",
       "    .dataframe thead th {\n",
       "        text-align: right;\n",
       "    }\n",
       "</style>\n",
       "<table border=\"1\" class=\"dataframe\">\n",
       "  <thead>\n",
       "    <tr style=\"text-align: right;\">\n",
       "      <th></th>\n",
       "      <th>A</th>\n",
       "      <th>B</th>\n",
       "      <th>C</th>\n",
       "      <th>D</th>\n",
       "    </tr>\n",
       "  </thead>\n",
       "  <tbody>\n",
       "    <tr>\n",
       "      <th>2000-01-01</th>\n",
       "      <td>-0.018492</td>\n",
       "      <td>0.704924</td>\n",
       "      <td>0.761786</td>\n",
       "      <td>1.084438</td>\n",
       "    </tr>\n",
       "    <tr>\n",
       "      <th>2000-01-02</th>\n",
       "      <td>0.497136</td>\n",
       "      <td>-0.114484</td>\n",
       "      <td>1.184610</td>\n",
       "      <td>0.756158</td>\n",
       "    </tr>\n",
       "    <tr>\n",
       "      <th>2000-01-03</th>\n",
       "      <td>-0.116372</td>\n",
       "      <td>-0.708337</td>\n",
       "      <td>0.949433</td>\n",
       "      <td>0.054825</td>\n",
       "    </tr>\n",
       "    <tr>\n",
       "      <th>2000-01-04</th>\n",
       "      <td>-0.064605</td>\n",
       "      <td>-0.689296</td>\n",
       "      <td>0.310550</td>\n",
       "      <td>0.471620</td>\n",
       "    </tr>\n",
       "    <tr>\n",
       "      <th>2000-01-05</th>\n",
       "      <td>0.207694</td>\n",
       "      <td>-0.818026</td>\n",
       "      <td>0.359911</td>\n",
       "      <td>0.346075</td>\n",
       "    </tr>\n",
       "    <tr>\n",
       "      <th>2000-01-06</th>\n",
       "      <td>-0.337750</td>\n",
       "      <td>0.812771</td>\n",
       "      <td>0.645985</td>\n",
       "      <td>0.119537</td>\n",
       "    </tr>\n",
       "    <tr>\n",
       "      <th>2000-01-07</th>\n",
       "      <td>-0.844191</td>\n",
       "      <td>-0.117398</td>\n",
       "      <td>-0.905368</td>\n",
       "      <td>-0.365953</td>\n",
       "    </tr>\n",
       "    <tr>\n",
       "      <th>2000-01-08</th>\n",
       "      <td>-0.121758</td>\n",
       "      <td>0.439313</td>\n",
       "      <td>-0.726344</td>\n",
       "      <td>0.969090</td>\n",
       "    </tr>\n",
       "  </tbody>\n",
       "</table>\n",
       "</div>"
      ],
      "text/plain": [
       "                   A         B         C         D\n",
       "2000-01-01 -0.018492  0.704924  0.761786  1.084438\n",
       "2000-01-02  0.497136 -0.114484  1.184610  0.756158\n",
       "2000-01-03 -0.116372 -0.708337  0.949433  0.054825\n",
       "2000-01-04 -0.064605 -0.689296  0.310550  0.471620\n",
       "2000-01-05  0.207694 -0.818026  0.359911  0.346075\n",
       "2000-01-06 -0.337750  0.812771  0.645985  0.119537\n",
       "2000-01-07 -0.844191 -0.117398 -0.905368 -0.365953\n",
       "2000-01-08 -0.121758  0.439313 -0.726344  0.969090"
      ]
     },
     "execution_count": 72,
     "metadata": {},
     "output_type": "execute_result"
    }
   ],
   "source": [
    "dfa"
   ]
  },
  {
   "cell_type": "code",
   "execution_count": 73,
   "id": "480a711e",
   "metadata": {},
   "outputs": [
    {
     "data": {
      "text/plain": [
       "2000-01-01   -0.018492\n",
       "2000-01-02    0.497136\n",
       "2000-01-03   -0.116372\n",
       "2000-01-04   -0.064605\n",
       "2000-01-05    0.207694\n",
       "2000-01-06   -0.337750\n",
       "2000-01-07   -0.844191\n",
       "2000-01-08   -0.121758\n",
       "Freq: D, Name: A, dtype: float64"
      ]
     },
     "execution_count": 73,
     "metadata": {},
     "output_type": "execute_result"
    }
   ],
   "source": [
    "dfa.A"
   ]
  },
  {
   "cell_type": "code",
   "execution_count": 74,
   "id": "addf88ef",
   "metadata": {},
   "outputs": [],
   "source": [
    "sa.a = 5"
   ]
  },
  {
   "cell_type": "code",
   "execution_count": 75,
   "id": "fc7e2e50",
   "metadata": {},
   "outputs": [
    {
     "data": {
      "text/plain": [
       "a    5\n",
       "b    2\n",
       "c    3\n",
       "dtype: int64"
      ]
     },
     "execution_count": 75,
     "metadata": {},
     "output_type": "execute_result"
    }
   ],
   "source": [
    "sa"
   ]
  },
  {
   "cell_type": "code",
   "execution_count": 76,
   "id": "d21de9f1",
   "metadata": {},
   "outputs": [
    {
     "data": {
      "text/html": [
       "<div>\n",
       "<style scoped>\n",
       "    .dataframe tbody tr th:only-of-type {\n",
       "        vertical-align: middle;\n",
       "    }\n",
       "\n",
       "    .dataframe tbody tr th {\n",
       "        vertical-align: top;\n",
       "    }\n",
       "\n",
       "    .dataframe thead th {\n",
       "        text-align: right;\n",
       "    }\n",
       "</style>\n",
       "<table border=\"1\" class=\"dataframe\">\n",
       "  <thead>\n",
       "    <tr style=\"text-align: right;\">\n",
       "      <th></th>\n",
       "      <th>A</th>\n",
       "      <th>B</th>\n",
       "      <th>C</th>\n",
       "      <th>D</th>\n",
       "    </tr>\n",
       "  </thead>\n",
       "  <tbody>\n",
       "    <tr>\n",
       "      <th>2000-01-01</th>\n",
       "      <td>0</td>\n",
       "      <td>0.704924</td>\n",
       "      <td>0.761786</td>\n",
       "      <td>1.084438</td>\n",
       "    </tr>\n",
       "    <tr>\n",
       "      <th>2000-01-02</th>\n",
       "      <td>1</td>\n",
       "      <td>-0.114484</td>\n",
       "      <td>1.184610</td>\n",
       "      <td>0.756158</td>\n",
       "    </tr>\n",
       "    <tr>\n",
       "      <th>2000-01-03</th>\n",
       "      <td>2</td>\n",
       "      <td>-0.708337</td>\n",
       "      <td>0.949433</td>\n",
       "      <td>0.054825</td>\n",
       "    </tr>\n",
       "    <tr>\n",
       "      <th>2000-01-04</th>\n",
       "      <td>3</td>\n",
       "      <td>-0.689296</td>\n",
       "      <td>0.310550</td>\n",
       "      <td>0.471620</td>\n",
       "    </tr>\n",
       "    <tr>\n",
       "      <th>2000-01-05</th>\n",
       "      <td>4</td>\n",
       "      <td>-0.818026</td>\n",
       "      <td>0.359911</td>\n",
       "      <td>0.346075</td>\n",
       "    </tr>\n",
       "    <tr>\n",
       "      <th>2000-01-06</th>\n",
       "      <td>5</td>\n",
       "      <td>0.812771</td>\n",
       "      <td>0.645985</td>\n",
       "      <td>0.119537</td>\n",
       "    </tr>\n",
       "    <tr>\n",
       "      <th>2000-01-07</th>\n",
       "      <td>6</td>\n",
       "      <td>-0.117398</td>\n",
       "      <td>-0.905368</td>\n",
       "      <td>-0.365953</td>\n",
       "    </tr>\n",
       "    <tr>\n",
       "      <th>2000-01-08</th>\n",
       "      <td>7</td>\n",
       "      <td>0.439313</td>\n",
       "      <td>-0.726344</td>\n",
       "      <td>0.969090</td>\n",
       "    </tr>\n",
       "  </tbody>\n",
       "</table>\n",
       "</div>"
      ],
      "text/plain": [
       "            A         B         C         D\n",
       "2000-01-01  0  0.704924  0.761786  1.084438\n",
       "2000-01-02  1 -0.114484  1.184610  0.756158\n",
       "2000-01-03  2 -0.708337  0.949433  0.054825\n",
       "2000-01-04  3 -0.689296  0.310550  0.471620\n",
       "2000-01-05  4 -0.818026  0.359911  0.346075\n",
       "2000-01-06  5  0.812771  0.645985  0.119537\n",
       "2000-01-07  6 -0.117398 -0.905368 -0.365953\n",
       "2000-01-08  7  0.439313 -0.726344  0.969090"
      ]
     },
     "execution_count": 76,
     "metadata": {},
     "output_type": "execute_result"
    }
   ],
   "source": [
    "dfa.A = list(range(len(dfa.index)))  # ok if A already exists\n",
    "\n",
    "dfa"
   ]
  },
  {
   "cell_type": "code",
   "execution_count": 77,
   "id": "661aa638",
   "metadata": {},
   "outputs": [
    {
     "data": {
      "text/html": [
       "<div>\n",
       "<style scoped>\n",
       "    .dataframe tbody tr th:only-of-type {\n",
       "        vertical-align: middle;\n",
       "    }\n",
       "\n",
       "    .dataframe tbody tr th {\n",
       "        vertical-align: top;\n",
       "    }\n",
       "\n",
       "    .dataframe thead th {\n",
       "        text-align: right;\n",
       "    }\n",
       "</style>\n",
       "<table border=\"1\" class=\"dataframe\">\n",
       "  <thead>\n",
       "    <tr style=\"text-align: right;\">\n",
       "      <th></th>\n",
       "      <th>A</th>\n",
       "      <th>B</th>\n",
       "      <th>C</th>\n",
       "      <th>D</th>\n",
       "      <th>E</th>\n",
       "    </tr>\n",
       "  </thead>\n",
       "  <tbody>\n",
       "    <tr>\n",
       "      <th>2000-01-01</th>\n",
       "      <td>0</td>\n",
       "      <td>0.704924</td>\n",
       "      <td>0.761786</td>\n",
       "      <td>1.084438</td>\n",
       "      <td>0</td>\n",
       "    </tr>\n",
       "    <tr>\n",
       "      <th>2000-01-02</th>\n",
       "      <td>1</td>\n",
       "      <td>-0.114484</td>\n",
       "      <td>1.184610</td>\n",
       "      <td>0.756158</td>\n",
       "      <td>1</td>\n",
       "    </tr>\n",
       "    <tr>\n",
       "      <th>2000-01-03</th>\n",
       "      <td>2</td>\n",
       "      <td>-0.708337</td>\n",
       "      <td>0.949433</td>\n",
       "      <td>0.054825</td>\n",
       "      <td>2</td>\n",
       "    </tr>\n",
       "    <tr>\n",
       "      <th>2000-01-04</th>\n",
       "      <td>3</td>\n",
       "      <td>-0.689296</td>\n",
       "      <td>0.310550</td>\n",
       "      <td>0.471620</td>\n",
       "      <td>3</td>\n",
       "    </tr>\n",
       "    <tr>\n",
       "      <th>2000-01-05</th>\n",
       "      <td>4</td>\n",
       "      <td>-0.818026</td>\n",
       "      <td>0.359911</td>\n",
       "      <td>0.346075</td>\n",
       "      <td>4</td>\n",
       "    </tr>\n",
       "    <tr>\n",
       "      <th>2000-01-06</th>\n",
       "      <td>5</td>\n",
       "      <td>0.812771</td>\n",
       "      <td>0.645985</td>\n",
       "      <td>0.119537</td>\n",
       "      <td>5</td>\n",
       "    </tr>\n",
       "    <tr>\n",
       "      <th>2000-01-07</th>\n",
       "      <td>6</td>\n",
       "      <td>-0.117398</td>\n",
       "      <td>-0.905368</td>\n",
       "      <td>-0.365953</td>\n",
       "      <td>6</td>\n",
       "    </tr>\n",
       "    <tr>\n",
       "      <th>2000-01-08</th>\n",
       "      <td>7</td>\n",
       "      <td>0.439313</td>\n",
       "      <td>-0.726344</td>\n",
       "      <td>0.969090</td>\n",
       "      <td>7</td>\n",
       "    </tr>\n",
       "  </tbody>\n",
       "</table>\n",
       "</div>"
      ],
      "text/plain": [
       "            A         B         C         D  E\n",
       "2000-01-01  0  0.704924  0.761786  1.084438  0\n",
       "2000-01-02  1 -0.114484  1.184610  0.756158  1\n",
       "2000-01-03  2 -0.708337  0.949433  0.054825  2\n",
       "2000-01-04  3 -0.689296  0.310550  0.471620  3\n",
       "2000-01-05  4 -0.818026  0.359911  0.346075  4\n",
       "2000-01-06  5  0.812771  0.645985  0.119537  5\n",
       "2000-01-07  6 -0.117398 -0.905368 -0.365953  6\n",
       "2000-01-08  7  0.439313 -0.726344  0.969090  7"
      ]
     },
     "execution_count": 77,
     "metadata": {},
     "output_type": "execute_result"
    }
   ],
   "source": [
    "dfa['E'] = list(range(len(dfa.index)))  # use this form to create a new column\n",
    "\n",
    "dfa"
   ]
  },
  {
   "cell_type": "code",
   "execution_count": 78,
   "id": "9d9bd594",
   "metadata": {},
   "outputs": [
    {
     "data": {
      "text/html": [
       "<div>\n",
       "<style scoped>\n",
       "    .dataframe tbody tr th:only-of-type {\n",
       "        vertical-align: middle;\n",
       "    }\n",
       "\n",
       "    .dataframe tbody tr th {\n",
       "        vertical-align: top;\n",
       "    }\n",
       "\n",
       "    .dataframe thead th {\n",
       "        text-align: right;\n",
       "    }\n",
       "</style>\n",
       "<table border=\"1\" class=\"dataframe\">\n",
       "  <thead>\n",
       "    <tr style=\"text-align: right;\">\n",
       "      <th></th>\n",
       "      <th>x</th>\n",
       "      <th>y</th>\n",
       "    </tr>\n",
       "  </thead>\n",
       "  <tbody>\n",
       "    <tr>\n",
       "      <th>0</th>\n",
       "      <td>1</td>\n",
       "      <td>3</td>\n",
       "    </tr>\n",
       "    <tr>\n",
       "      <th>1</th>\n",
       "      <td>2</td>\n",
       "      <td>4</td>\n",
       "    </tr>\n",
       "    <tr>\n",
       "      <th>2</th>\n",
       "      <td>3</td>\n",
       "      <td>5</td>\n",
       "    </tr>\n",
       "  </tbody>\n",
       "</table>\n",
       "</div>"
      ],
      "text/plain": [
       "   x  y\n",
       "0  1  3\n",
       "1  2  4\n",
       "2  3  5"
      ]
     },
     "execution_count": 78,
     "metadata": {},
     "output_type": "execute_result"
    }
   ],
   "source": [
    "x = pd.DataFrame({'x': [1, 2, 3], 'y': [3, 4, 5]})\n",
    "x"
   ]
  },
  {
   "cell_type": "code",
   "execution_count": 79,
   "id": "132c5899",
   "metadata": {},
   "outputs": [
    {
     "data": {
      "text/html": [
       "<div>\n",
       "<style scoped>\n",
       "    .dataframe tbody tr th:only-of-type {\n",
       "        vertical-align: middle;\n",
       "    }\n",
       "\n",
       "    .dataframe tbody tr th {\n",
       "        vertical-align: top;\n",
       "    }\n",
       "\n",
       "    .dataframe thead th {\n",
       "        text-align: right;\n",
       "    }\n",
       "</style>\n",
       "<table border=\"1\" class=\"dataframe\">\n",
       "  <thead>\n",
       "    <tr style=\"text-align: right;\">\n",
       "      <th></th>\n",
       "      <th>x</th>\n",
       "      <th>y</th>\n",
       "    </tr>\n",
       "  </thead>\n",
       "  <tbody>\n",
       "    <tr>\n",
       "      <th>0</th>\n",
       "      <td>1</td>\n",
       "      <td>3</td>\n",
       "    </tr>\n",
       "    <tr>\n",
       "      <th>1</th>\n",
       "      <td>9</td>\n",
       "      <td>99</td>\n",
       "    </tr>\n",
       "    <tr>\n",
       "      <th>2</th>\n",
       "      <td>3</td>\n",
       "      <td>5</td>\n",
       "    </tr>\n",
       "  </tbody>\n",
       "</table>\n",
       "</div>"
      ],
      "text/plain": [
       "   x   y\n",
       "0  1   3\n",
       "1  9  99\n",
       "2  3   5"
      ]
     },
     "execution_count": 79,
     "metadata": {},
     "output_type": "execute_result"
    }
   ],
   "source": [
    "x.iloc[1] = {'x': 9, 'y': 99}\n",
    "\n",
    "x"
   ]
  },
  {
   "cell_type": "code",
   "execution_count": 80,
   "id": "6e1217c9",
   "metadata": {},
   "outputs": [
    {
     "name": "stderr",
     "output_type": "stream",
     "text": [
      "C:\\Users\\YOSSI\\AppData\\Local\\Temp\\ipykernel_9696\\179865747.py:3: UserWarning: Pandas doesn't allow columns to be created via a new attribute name - see https://pandas.pydata.org/pandas-docs/stable/indexing.html#attribute-access\n",
      "  df_new.two = [4, 5, 6]\n"
     ]
    },
    {
     "data": {
      "text/html": [
       "<div>\n",
       "<style scoped>\n",
       "    .dataframe tbody tr th:only-of-type {\n",
       "        vertical-align: middle;\n",
       "    }\n",
       "\n",
       "    .dataframe tbody tr th {\n",
       "        vertical-align: top;\n",
       "    }\n",
       "\n",
       "    .dataframe thead th {\n",
       "        text-align: right;\n",
       "    }\n",
       "</style>\n",
       "<table border=\"1\" class=\"dataframe\">\n",
       "  <thead>\n",
       "    <tr style=\"text-align: right;\">\n",
       "      <th></th>\n",
       "      <th>one</th>\n",
       "    </tr>\n",
       "  </thead>\n",
       "  <tbody>\n",
       "    <tr>\n",
       "      <th>0</th>\n",
       "      <td>1.0</td>\n",
       "    </tr>\n",
       "    <tr>\n",
       "      <th>1</th>\n",
       "      <td>2.0</td>\n",
       "    </tr>\n",
       "    <tr>\n",
       "      <th>2</th>\n",
       "      <td>3.0</td>\n",
       "    </tr>\n",
       "  </tbody>\n",
       "</table>\n",
       "</div>"
      ],
      "text/plain": [
       "   one\n",
       "0  1.0\n",
       "1  2.0\n",
       "2  3.0"
      ]
     },
     "execution_count": 80,
     "metadata": {},
     "output_type": "execute_result"
    }
   ],
   "source": [
    "df_new = pd.DataFrame({'one': [1., 2., 3.]})\n",
    "\n",
    "df_new.two = [4, 5, 6]\n",
    "\n",
    "df_new"
   ]
  },
  {
   "cell_type": "code",
   "execution_count": 81,
   "id": "8c7c874b",
   "metadata": {},
   "outputs": [
    {
     "data": {
      "text/plain": [
       "0    a\n",
       "3    b\n",
       "2    c\n",
       "5    d\n",
       "4    e\n",
       "dtype: object"
      ]
     },
     "execution_count": 81,
     "metadata": {},
     "output_type": "execute_result"
    }
   ],
   "source": [
    "s[:5]"
   ]
  },
  {
   "cell_type": "code",
   "execution_count": 82,
   "id": "f87dcfe0",
   "metadata": {},
   "outputs": [
    {
     "data": {
      "text/plain": [
       "0    a\n",
       "2    c\n",
       "4    e\n",
       "dtype: object"
      ]
     },
     "execution_count": 82,
     "metadata": {},
     "output_type": "execute_result"
    }
   ],
   "source": [
    "s[::2]"
   ]
  },
  {
   "cell_type": "code",
   "execution_count": 83,
   "id": "b5a990d4",
   "metadata": {},
   "outputs": [
    {
     "data": {
      "text/plain": [
       "2    f\n",
       "4    e\n",
       "5    d\n",
       "2    c\n",
       "3    b\n",
       "0    a\n",
       "dtype: object"
      ]
     },
     "execution_count": 83,
     "metadata": {},
     "output_type": "execute_result"
    }
   ],
   "source": [
    "s[::-1]"
   ]
  },
  {
   "cell_type": "code",
   "execution_count": 84,
   "id": "366c1013",
   "metadata": {},
   "outputs": [
    {
     "data": {
      "text/plain": [
       "0    0\n",
       "3    0\n",
       "2    0\n",
       "5    0\n",
       "4    0\n",
       "2    f\n",
       "dtype: object"
      ]
     },
     "execution_count": 84,
     "metadata": {},
     "output_type": "execute_result"
    }
   ],
   "source": [
    "s2 = s.copy()\n",
    "\n",
    "s2[:5] = 0\n",
    "\n",
    "s2"
   ]
  },
  {
   "cell_type": "code",
   "execution_count": 85,
   "id": "0ac2b03f",
   "metadata": {},
   "outputs": [
    {
     "data": {
      "text/html": [
       "<div>\n",
       "<style scoped>\n",
       "    .dataframe tbody tr th:only-of-type {\n",
       "        vertical-align: middle;\n",
       "    }\n",
       "\n",
       "    .dataframe tbody tr th {\n",
       "        vertical-align: top;\n",
       "    }\n",
       "\n",
       "    .dataframe thead th {\n",
       "        text-align: right;\n",
       "    }\n",
       "</style>\n",
       "<table border=\"1\" class=\"dataframe\">\n",
       "  <thead>\n",
       "    <tr style=\"text-align: right;\">\n",
       "      <th></th>\n",
       "      <th>A</th>\n",
       "      <th>B</th>\n",
       "      <th>C</th>\n",
       "      <th>D</th>\n",
       "    </tr>\n",
       "  </thead>\n",
       "  <tbody>\n",
       "    <tr>\n",
       "      <th>2000-01-01</th>\n",
       "      <td>-0.018492</td>\n",
       "      <td>0.704924</td>\n",
       "      <td>0.761786</td>\n",
       "      <td>1.084438</td>\n",
       "    </tr>\n",
       "    <tr>\n",
       "      <th>2000-01-02</th>\n",
       "      <td>0.497136</td>\n",
       "      <td>-0.114484</td>\n",
       "      <td>1.184610</td>\n",
       "      <td>0.756158</td>\n",
       "    </tr>\n",
       "    <tr>\n",
       "      <th>2000-01-03</th>\n",
       "      <td>-0.116372</td>\n",
       "      <td>-0.708337</td>\n",
       "      <td>0.949433</td>\n",
       "      <td>0.054825</td>\n",
       "    </tr>\n",
       "    <tr>\n",
       "      <th>2000-01-04</th>\n",
       "      <td>-0.064605</td>\n",
       "      <td>-0.689296</td>\n",
       "      <td>0.310550</td>\n",
       "      <td>0.471620</td>\n",
       "    </tr>\n",
       "    <tr>\n",
       "      <th>2000-01-05</th>\n",
       "      <td>0.207694</td>\n",
       "      <td>-0.818026</td>\n",
       "      <td>0.359911</td>\n",
       "      <td>0.346075</td>\n",
       "    </tr>\n",
       "    <tr>\n",
       "      <th>2000-01-06</th>\n",
       "      <td>-0.337750</td>\n",
       "      <td>0.812771</td>\n",
       "      <td>0.645985</td>\n",
       "      <td>0.119537</td>\n",
       "    </tr>\n",
       "    <tr>\n",
       "      <th>2000-01-07</th>\n",
       "      <td>-0.844191</td>\n",
       "      <td>-0.117398</td>\n",
       "      <td>-0.905368</td>\n",
       "      <td>-0.365953</td>\n",
       "    </tr>\n",
       "    <tr>\n",
       "      <th>2000-01-08</th>\n",
       "      <td>-0.121758</td>\n",
       "      <td>0.439313</td>\n",
       "      <td>-0.726344</td>\n",
       "      <td>0.969090</td>\n",
       "    </tr>\n",
       "  </tbody>\n",
       "</table>\n",
       "</div>"
      ],
      "text/plain": [
       "                   A         B         C         D\n",
       "2000-01-01 -0.018492  0.704924  0.761786  1.084438\n",
       "2000-01-02  0.497136 -0.114484  1.184610  0.756158\n",
       "2000-01-03 -0.116372 -0.708337  0.949433  0.054825\n",
       "2000-01-04 -0.064605 -0.689296  0.310550  0.471620\n",
       "2000-01-05  0.207694 -0.818026  0.359911  0.346075\n",
       "2000-01-06 -0.337750  0.812771  0.645985  0.119537\n",
       "2000-01-07 -0.844191 -0.117398 -0.905368 -0.365953\n",
       "2000-01-08 -0.121758  0.439313 -0.726344  0.969090"
      ]
     },
     "execution_count": 85,
     "metadata": {},
     "output_type": "execute_result"
    }
   ],
   "source": [
    "df"
   ]
  },
  {
   "cell_type": "code",
   "execution_count": 86,
   "id": "b3712b6c",
   "metadata": {},
   "outputs": [
    {
     "data": {
      "text/html": [
       "<div>\n",
       "<style scoped>\n",
       "    .dataframe tbody tr th:only-of-type {\n",
       "        vertical-align: middle;\n",
       "    }\n",
       "\n",
       "    .dataframe tbody tr th {\n",
       "        vertical-align: top;\n",
       "    }\n",
       "\n",
       "    .dataframe thead th {\n",
       "        text-align: right;\n",
       "    }\n",
       "</style>\n",
       "<table border=\"1\" class=\"dataframe\">\n",
       "  <thead>\n",
       "    <tr style=\"text-align: right;\">\n",
       "      <th></th>\n",
       "      <th>A</th>\n",
       "      <th>B</th>\n",
       "      <th>C</th>\n",
       "      <th>D</th>\n",
       "    </tr>\n",
       "  </thead>\n",
       "  <tbody>\n",
       "    <tr>\n",
       "      <th>2000-01-01</th>\n",
       "      <td>-0.018492</td>\n",
       "      <td>0.704924</td>\n",
       "      <td>0.761786</td>\n",
       "      <td>1.084438</td>\n",
       "    </tr>\n",
       "    <tr>\n",
       "      <th>2000-01-02</th>\n",
       "      <td>0.497136</td>\n",
       "      <td>-0.114484</td>\n",
       "      <td>1.184610</td>\n",
       "      <td>0.756158</td>\n",
       "    </tr>\n",
       "    <tr>\n",
       "      <th>2000-01-03</th>\n",
       "      <td>-0.116372</td>\n",
       "      <td>-0.708337</td>\n",
       "      <td>0.949433</td>\n",
       "      <td>0.054825</td>\n",
       "    </tr>\n",
       "  </tbody>\n",
       "</table>\n",
       "</div>"
      ],
      "text/plain": [
       "                   A         B         C         D\n",
       "2000-01-01 -0.018492  0.704924  0.761786  1.084438\n",
       "2000-01-02  0.497136 -0.114484  1.184610  0.756158\n",
       "2000-01-03 -0.116372 -0.708337  0.949433  0.054825"
      ]
     },
     "execution_count": 86,
     "metadata": {},
     "output_type": "execute_result"
    }
   ],
   "source": [
    "df[:3]"
   ]
  },
  {
   "cell_type": "code",
   "execution_count": 87,
   "id": "267470b0",
   "metadata": {},
   "outputs": [
    {
     "data": {
      "text/html": [
       "<div>\n",
       "<style scoped>\n",
       "    .dataframe tbody tr th:only-of-type {\n",
       "        vertical-align: middle;\n",
       "    }\n",
       "\n",
       "    .dataframe tbody tr th {\n",
       "        vertical-align: top;\n",
       "    }\n",
       "\n",
       "    .dataframe thead th {\n",
       "        text-align: right;\n",
       "    }\n",
       "</style>\n",
       "<table border=\"1\" class=\"dataframe\">\n",
       "  <thead>\n",
       "    <tr style=\"text-align: right;\">\n",
       "      <th></th>\n",
       "      <th>A</th>\n",
       "      <th>B</th>\n",
       "      <th>C</th>\n",
       "      <th>D</th>\n",
       "    </tr>\n",
       "  </thead>\n",
       "  <tbody>\n",
       "    <tr>\n",
       "      <th>2000-01-08</th>\n",
       "      <td>-0.121758</td>\n",
       "      <td>0.439313</td>\n",
       "      <td>-0.726344</td>\n",
       "      <td>0.969090</td>\n",
       "    </tr>\n",
       "    <tr>\n",
       "      <th>2000-01-07</th>\n",
       "      <td>-0.844191</td>\n",
       "      <td>-0.117398</td>\n",
       "      <td>-0.905368</td>\n",
       "      <td>-0.365953</td>\n",
       "    </tr>\n",
       "    <tr>\n",
       "      <th>2000-01-06</th>\n",
       "      <td>-0.337750</td>\n",
       "      <td>0.812771</td>\n",
       "      <td>0.645985</td>\n",
       "      <td>0.119537</td>\n",
       "    </tr>\n",
       "    <tr>\n",
       "      <th>2000-01-05</th>\n",
       "      <td>0.207694</td>\n",
       "      <td>-0.818026</td>\n",
       "      <td>0.359911</td>\n",
       "      <td>0.346075</td>\n",
       "    </tr>\n",
       "    <tr>\n",
       "      <th>2000-01-04</th>\n",
       "      <td>-0.064605</td>\n",
       "      <td>-0.689296</td>\n",
       "      <td>0.310550</td>\n",
       "      <td>0.471620</td>\n",
       "    </tr>\n",
       "    <tr>\n",
       "      <th>2000-01-03</th>\n",
       "      <td>-0.116372</td>\n",
       "      <td>-0.708337</td>\n",
       "      <td>0.949433</td>\n",
       "      <td>0.054825</td>\n",
       "    </tr>\n",
       "    <tr>\n",
       "      <th>2000-01-02</th>\n",
       "      <td>0.497136</td>\n",
       "      <td>-0.114484</td>\n",
       "      <td>1.184610</td>\n",
       "      <td>0.756158</td>\n",
       "    </tr>\n",
       "    <tr>\n",
       "      <th>2000-01-01</th>\n",
       "      <td>-0.018492</td>\n",
       "      <td>0.704924</td>\n",
       "      <td>0.761786</td>\n",
       "      <td>1.084438</td>\n",
       "    </tr>\n",
       "  </tbody>\n",
       "</table>\n",
       "</div>"
      ],
      "text/plain": [
       "                   A         B         C         D\n",
       "2000-01-08 -0.121758  0.439313 -0.726344  0.969090\n",
       "2000-01-07 -0.844191 -0.117398 -0.905368 -0.365953\n",
       "2000-01-06 -0.337750  0.812771  0.645985  0.119537\n",
       "2000-01-05  0.207694 -0.818026  0.359911  0.346075\n",
       "2000-01-04 -0.064605 -0.689296  0.310550  0.471620\n",
       "2000-01-03 -0.116372 -0.708337  0.949433  0.054825\n",
       "2000-01-02  0.497136 -0.114484  1.184610  0.756158\n",
       "2000-01-01 -0.018492  0.704924  0.761786  1.084438"
      ]
     },
     "execution_count": 87,
     "metadata": {},
     "output_type": "execute_result"
    }
   ],
   "source": [
    "df[::-1]"
   ]
  },
  {
   "cell_type": "code",
   "execution_count": 88,
   "id": "62dbaedc",
   "metadata": {},
   "outputs": [
    {
     "data": {
      "text/html": [
       "<div>\n",
       "<style scoped>\n",
       "    .dataframe tbody tr th:only-of-type {\n",
       "        vertical-align: middle;\n",
       "    }\n",
       "\n",
       "    .dataframe tbody tr th {\n",
       "        vertical-align: top;\n",
       "    }\n",
       "\n",
       "    .dataframe thead th {\n",
       "        text-align: right;\n",
       "    }\n",
       "</style>\n",
       "<table border=\"1\" class=\"dataframe\">\n",
       "  <thead>\n",
       "    <tr style=\"text-align: right;\">\n",
       "      <th></th>\n",
       "      <th>A</th>\n",
       "      <th>B</th>\n",
       "      <th>C</th>\n",
       "      <th>D</th>\n",
       "    </tr>\n",
       "  </thead>\n",
       "  <tbody>\n",
       "    <tr>\n",
       "      <th>2000-01-02</th>\n",
       "      <td>0.497136</td>\n",
       "      <td>-0.114484</td>\n",
       "      <td>1.184610</td>\n",
       "      <td>0.756158</td>\n",
       "    </tr>\n",
       "    <tr>\n",
       "      <th>2000-01-03</th>\n",
       "      <td>-0.116372</td>\n",
       "      <td>-0.708337</td>\n",
       "      <td>0.949433</td>\n",
       "      <td>0.054825</td>\n",
       "    </tr>\n",
       "  </tbody>\n",
       "</table>\n",
       "</div>"
      ],
      "text/plain": [
       "                   A         B         C         D\n",
       "2000-01-02  0.497136 -0.114484  1.184610  0.756158\n",
       "2000-01-03 -0.116372 -0.708337  0.949433  0.054825"
      ]
     },
     "execution_count": 88,
     "metadata": {},
     "output_type": "execute_result"
    }
   ],
   "source": [
    "df[1:3]"
   ]
  },
  {
   "cell_type": "code",
   "execution_count": 89,
   "id": "31a32505",
   "metadata": {},
   "outputs": [
    {
     "data": {
      "text/html": [
       "<div>\n",
       "<style scoped>\n",
       "    .dataframe tbody tr th:only-of-type {\n",
       "        vertical-align: middle;\n",
       "    }\n",
       "\n",
       "    .dataframe tbody tr th {\n",
       "        vertical-align: top;\n",
       "    }\n",
       "\n",
       "    .dataframe thead th {\n",
       "        text-align: right;\n",
       "    }\n",
       "</style>\n",
       "<table border=\"1\" class=\"dataframe\">\n",
       "  <thead>\n",
       "    <tr style=\"text-align: right;\">\n",
       "      <th></th>\n",
       "      <th>A</th>\n",
       "      <th>B</th>\n",
       "      <th>C</th>\n",
       "      <th>D</th>\n",
       "    </tr>\n",
       "  </thead>\n",
       "  <tbody>\n",
       "    <tr>\n",
       "      <th>2013-01-01</th>\n",
       "      <td>1.166739</td>\n",
       "      <td>-0.103917</td>\n",
       "      <td>0.728420</td>\n",
       "      <td>1.402263</td>\n",
       "    </tr>\n",
       "    <tr>\n",
       "      <th>2013-01-02</th>\n",
       "      <td>-0.641193</td>\n",
       "      <td>0.604753</td>\n",
       "      <td>-0.662412</td>\n",
       "      <td>1.769018</td>\n",
       "    </tr>\n",
       "    <tr>\n",
       "      <th>2013-01-03</th>\n",
       "      <td>0.899476</td>\n",
       "      <td>-0.747283</td>\n",
       "      <td>-0.510363</td>\n",
       "      <td>-2.046850</td>\n",
       "    </tr>\n",
       "    <tr>\n",
       "      <th>2013-01-04</th>\n",
       "      <td>-1.187993</td>\n",
       "      <td>0.299069</td>\n",
       "      <td>-1.750283</td>\n",
       "      <td>1.014947</td>\n",
       "    </tr>\n",
       "    <tr>\n",
       "      <th>2013-01-05</th>\n",
       "      <td>0.509435</td>\n",
       "      <td>0.692138</td>\n",
       "      <td>-0.705382</td>\n",
       "      <td>-0.094198</td>\n",
       "    </tr>\n",
       "  </tbody>\n",
       "</table>\n",
       "</div>"
      ],
      "text/plain": [
       "                   A         B         C         D\n",
       "2013-01-01  1.166739 -0.103917  0.728420  1.402263\n",
       "2013-01-02 -0.641193  0.604753 -0.662412  1.769018\n",
       "2013-01-03  0.899476 -0.747283 -0.510363 -2.046850\n",
       "2013-01-04 -1.187993  0.299069 -1.750283  1.014947\n",
       "2013-01-05  0.509435  0.692138 -0.705382 -0.094198"
      ]
     },
     "execution_count": 89,
     "metadata": {},
     "output_type": "execute_result"
    }
   ],
   "source": [
    "dfl = pd.DataFrame(np.random.randn(5, 4),\n",
    "\n",
    "                   columns=list('ABCD'),\n",
    "\n",
    "                   index=pd.date_range('20130101', periods=5))\n",
    "\n",
    "\n",
    "\n",
    "dfl"
   ]
  },
  {
   "cell_type": "code",
   "execution_count": 90,
   "id": "049deeb9",
   "metadata": {},
   "outputs": [
    {
     "data": {
      "text/html": [
       "<div>\n",
       "<style scoped>\n",
       "    .dataframe tbody tr th:only-of-type {\n",
       "        vertical-align: middle;\n",
       "    }\n",
       "\n",
       "    .dataframe tbody tr th {\n",
       "        vertical-align: top;\n",
       "    }\n",
       "\n",
       "    .dataframe thead th {\n",
       "        text-align: right;\n",
       "    }\n",
       "</style>\n",
       "<table border=\"1\" class=\"dataframe\">\n",
       "  <thead>\n",
       "    <tr style=\"text-align: right;\">\n",
       "      <th></th>\n",
       "      <th>A</th>\n",
       "      <th>B</th>\n",
       "      <th>C</th>\n",
       "      <th>D</th>\n",
       "    </tr>\n",
       "  </thead>\n",
       "  <tbody>\n",
       "    <tr>\n",
       "      <th>2013-01-02</th>\n",
       "      <td>-0.641193</td>\n",
       "      <td>0.604753</td>\n",
       "      <td>-0.662412</td>\n",
       "      <td>1.769018</td>\n",
       "    </tr>\n",
       "    <tr>\n",
       "      <th>2013-01-03</th>\n",
       "      <td>0.899476</td>\n",
       "      <td>-0.747283</td>\n",
       "      <td>-0.510363</td>\n",
       "      <td>-2.046850</td>\n",
       "    </tr>\n",
       "    <tr>\n",
       "      <th>2013-01-04</th>\n",
       "      <td>-1.187993</td>\n",
       "      <td>0.299069</td>\n",
       "      <td>-1.750283</td>\n",
       "      <td>1.014947</td>\n",
       "    </tr>\n",
       "  </tbody>\n",
       "</table>\n",
       "</div>"
      ],
      "text/plain": [
       "                   A         B         C         D\n",
       "2013-01-02 -0.641193  0.604753 -0.662412  1.769018\n",
       "2013-01-03  0.899476 -0.747283 -0.510363 -2.046850\n",
       "2013-01-04 -1.187993  0.299069 -1.750283  1.014947"
      ]
     },
     "execution_count": 90,
     "metadata": {},
     "output_type": "execute_result"
    }
   ],
   "source": [
    "dfl.loc['20130102':'20130104']"
   ]
  },
  {
   "cell_type": "code",
   "execution_count": 91,
   "id": "afee0d6b",
   "metadata": {},
   "outputs": [
    {
     "data": {
      "text/plain": [
       "a   -0.431427\n",
       "b    1.296593\n",
       "c    0.239141\n",
       "d   -0.550996\n",
       "e   -0.688228\n",
       "f   -0.140459\n",
       "dtype: float64"
      ]
     },
     "execution_count": 91,
     "metadata": {},
     "output_type": "execute_result"
    }
   ],
   "source": [
    "s1 = pd.Series(np.random.randn(6), index=list('abcdef'))\n",
    "\n",
    "s1"
   ]
  },
  {
   "cell_type": "code",
   "execution_count": 92,
   "id": "9684e6ac",
   "metadata": {},
   "outputs": [
    {
     "data": {
      "text/plain": [
       "c    0.239141\n",
       "d   -0.550996\n",
       "e   -0.688228\n",
       "f   -0.140459\n",
       "dtype: float64"
      ]
     },
     "execution_count": 92,
     "metadata": {},
     "output_type": "execute_result"
    }
   ],
   "source": [
    "s1.loc['c':]"
   ]
  },
  {
   "cell_type": "code",
   "execution_count": 93,
   "id": "fa20db2d",
   "metadata": {},
   "outputs": [
    {
     "data": {
      "text/plain": [
       "1.2965933458233103"
      ]
     },
     "execution_count": 93,
     "metadata": {},
     "output_type": "execute_result"
    }
   ],
   "source": [
    "s1.loc['b']"
   ]
  },
  {
   "cell_type": "code",
   "execution_count": 94,
   "id": "009343ef",
   "metadata": {},
   "outputs": [
    {
     "data": {
      "text/plain": [
       "a   -0.431427\n",
       "b    1.296593\n",
       "c    0.000000\n",
       "d    0.000000\n",
       "e    0.000000\n",
       "f    0.000000\n",
       "dtype: float64"
      ]
     },
     "execution_count": 94,
     "metadata": {},
     "output_type": "execute_result"
    }
   ],
   "source": [
    "s1.loc['c':] = 0\n",
    "\n",
    "s1"
   ]
  },
  {
   "cell_type": "code",
   "execution_count": 95,
   "id": "192542c3",
   "metadata": {},
   "outputs": [
    {
     "data": {
      "text/html": [
       "<div>\n",
       "<style scoped>\n",
       "    .dataframe tbody tr th:only-of-type {\n",
       "        vertical-align: middle;\n",
       "    }\n",
       "\n",
       "    .dataframe tbody tr th {\n",
       "        vertical-align: top;\n",
       "    }\n",
       "\n",
       "    .dataframe thead th {\n",
       "        text-align: right;\n",
       "    }\n",
       "</style>\n",
       "<table border=\"1\" class=\"dataframe\">\n",
       "  <thead>\n",
       "    <tr style=\"text-align: right;\">\n",
       "      <th></th>\n",
       "      <th>A</th>\n",
       "      <th>B</th>\n",
       "      <th>C</th>\n",
       "      <th>D</th>\n",
       "    </tr>\n",
       "  </thead>\n",
       "  <tbody>\n",
       "    <tr>\n",
       "      <th>a</th>\n",
       "      <td>-0.215846</td>\n",
       "      <td>0.960554</td>\n",
       "      <td>0.178910</td>\n",
       "      <td>0.170734</td>\n",
       "    </tr>\n",
       "    <tr>\n",
       "      <th>b</th>\n",
       "      <td>0.785262</td>\n",
       "      <td>-2.136579</td>\n",
       "      <td>0.958048</td>\n",
       "      <td>0.366978</td>\n",
       "    </tr>\n",
       "    <tr>\n",
       "      <th>c</th>\n",
       "      <td>1.782522</td>\n",
       "      <td>1.360081</td>\n",
       "      <td>-0.618000</td>\n",
       "      <td>-0.479022</td>\n",
       "    </tr>\n",
       "    <tr>\n",
       "      <th>d</th>\n",
       "      <td>0.663605</td>\n",
       "      <td>0.224581</td>\n",
       "      <td>-1.142250</td>\n",
       "      <td>-1.774177</td>\n",
       "    </tr>\n",
       "    <tr>\n",
       "      <th>e</th>\n",
       "      <td>0.259797</td>\n",
       "      <td>1.588402</td>\n",
       "      <td>-3.308435</td>\n",
       "      <td>1.072413</td>\n",
       "    </tr>\n",
       "    <tr>\n",
       "      <th>f</th>\n",
       "      <td>-0.376108</td>\n",
       "      <td>1.470646</td>\n",
       "      <td>-0.437669</td>\n",
       "      <td>0.859513</td>\n",
       "    </tr>\n",
       "  </tbody>\n",
       "</table>\n",
       "</div>"
      ],
      "text/plain": [
       "          A         B         C         D\n",
       "a -0.215846  0.960554  0.178910  0.170734\n",
       "b  0.785262 -2.136579  0.958048  0.366978\n",
       "c  1.782522  1.360081 -0.618000 -0.479022\n",
       "d  0.663605  0.224581 -1.142250 -1.774177\n",
       "e  0.259797  1.588402 -3.308435  1.072413\n",
       "f -0.376108  1.470646 -0.437669  0.859513"
      ]
     },
     "execution_count": 95,
     "metadata": {},
     "output_type": "execute_result"
    }
   ],
   "source": [
    "df1 = pd.DataFrame(np.random.randn(6, 4),\n",
    "\n",
    "                   index=list('abcdef'),\n",
    "\n",
    "                   columns=list('ABCD'))\n",
    "\n",
    "\n",
    "\n",
    "df1"
   ]
  },
  {
   "cell_type": "code",
   "execution_count": 96,
   "id": "83a04438",
   "metadata": {},
   "outputs": [
    {
     "data": {
      "text/html": [
       "<div>\n",
       "<style scoped>\n",
       "    .dataframe tbody tr th:only-of-type {\n",
       "        vertical-align: middle;\n",
       "    }\n",
       "\n",
       "    .dataframe tbody tr th {\n",
       "        vertical-align: top;\n",
       "    }\n",
       "\n",
       "    .dataframe thead th {\n",
       "        text-align: right;\n",
       "    }\n",
       "</style>\n",
       "<table border=\"1\" class=\"dataframe\">\n",
       "  <thead>\n",
       "    <tr style=\"text-align: right;\">\n",
       "      <th></th>\n",
       "      <th>A</th>\n",
       "      <th>B</th>\n",
       "      <th>C</th>\n",
       "      <th>D</th>\n",
       "    </tr>\n",
       "  </thead>\n",
       "  <tbody>\n",
       "    <tr>\n",
       "      <th>a</th>\n",
       "      <td>-0.215846</td>\n",
       "      <td>0.960554</td>\n",
       "      <td>0.178910</td>\n",
       "      <td>0.170734</td>\n",
       "    </tr>\n",
       "    <tr>\n",
       "      <th>b</th>\n",
       "      <td>0.785262</td>\n",
       "      <td>-2.136579</td>\n",
       "      <td>0.958048</td>\n",
       "      <td>0.366978</td>\n",
       "    </tr>\n",
       "    <tr>\n",
       "      <th>d</th>\n",
       "      <td>0.663605</td>\n",
       "      <td>0.224581</td>\n",
       "      <td>-1.142250</td>\n",
       "      <td>-1.774177</td>\n",
       "    </tr>\n",
       "  </tbody>\n",
       "</table>\n",
       "</div>"
      ],
      "text/plain": [
       "          A         B         C         D\n",
       "a -0.215846  0.960554  0.178910  0.170734\n",
       "b  0.785262 -2.136579  0.958048  0.366978\n",
       "d  0.663605  0.224581 -1.142250 -1.774177"
      ]
     },
     "execution_count": 96,
     "metadata": {},
     "output_type": "execute_result"
    }
   ],
   "source": [
    "df1.loc[['a', 'b', 'd'], :]"
   ]
  },
  {
   "cell_type": "code",
   "execution_count": 97,
   "id": "d80f6bcc",
   "metadata": {},
   "outputs": [
    {
     "data": {
      "text/html": [
       "<div>\n",
       "<style scoped>\n",
       "    .dataframe tbody tr th:only-of-type {\n",
       "        vertical-align: middle;\n",
       "    }\n",
       "\n",
       "    .dataframe tbody tr th {\n",
       "        vertical-align: top;\n",
       "    }\n",
       "\n",
       "    .dataframe thead th {\n",
       "        text-align: right;\n",
       "    }\n",
       "</style>\n",
       "<table border=\"1\" class=\"dataframe\">\n",
       "  <thead>\n",
       "    <tr style=\"text-align: right;\">\n",
       "      <th></th>\n",
       "      <th>A</th>\n",
       "      <th>B</th>\n",
       "      <th>C</th>\n",
       "    </tr>\n",
       "  </thead>\n",
       "  <tbody>\n",
       "    <tr>\n",
       "      <th>d</th>\n",
       "      <td>0.663605</td>\n",
       "      <td>0.224581</td>\n",
       "      <td>-1.142250</td>\n",
       "    </tr>\n",
       "    <tr>\n",
       "      <th>e</th>\n",
       "      <td>0.259797</td>\n",
       "      <td>1.588402</td>\n",
       "      <td>-3.308435</td>\n",
       "    </tr>\n",
       "    <tr>\n",
       "      <th>f</th>\n",
       "      <td>-0.376108</td>\n",
       "      <td>1.470646</td>\n",
       "      <td>-0.437669</td>\n",
       "    </tr>\n",
       "  </tbody>\n",
       "</table>\n",
       "</div>"
      ],
      "text/plain": [
       "          A         B         C\n",
       "d  0.663605  0.224581 -1.142250\n",
       "e  0.259797  1.588402 -3.308435\n",
       "f -0.376108  1.470646 -0.437669"
      ]
     },
     "execution_count": 97,
     "metadata": {},
     "output_type": "execute_result"
    }
   ],
   "source": [
    "df1.loc['d':, 'A':'C']"
   ]
  },
  {
   "cell_type": "code",
   "execution_count": 98,
   "id": "6f14ed89",
   "metadata": {},
   "outputs": [
    {
     "data": {
      "text/plain": [
       "A   -0.215846\n",
       "B    0.960554\n",
       "C    0.178910\n",
       "D    0.170734\n",
       "Name: a, dtype: float64"
      ]
     },
     "execution_count": 98,
     "metadata": {},
     "output_type": "execute_result"
    }
   ],
   "source": [
    "df1.loc['a']"
   ]
  },
  {
   "cell_type": "code",
   "execution_count": 99,
   "id": "db13753c",
   "metadata": {},
   "outputs": [
    {
     "data": {
      "text/plain": [
       "A    False\n",
       "B     True\n",
       "C     True\n",
       "D     True\n",
       "Name: a, dtype: bool"
      ]
     },
     "execution_count": 99,
     "metadata": {},
     "output_type": "execute_result"
    }
   ],
   "source": [
    "df1.loc['a'] > 0"
   ]
  },
  {
   "cell_type": "code",
   "execution_count": 100,
   "id": "526d45b0",
   "metadata": {},
   "outputs": [
    {
     "data": {
      "text/html": [
       "<div>\n",
       "<style scoped>\n",
       "    .dataframe tbody tr th:only-of-type {\n",
       "        vertical-align: middle;\n",
       "    }\n",
       "\n",
       "    .dataframe tbody tr th {\n",
       "        vertical-align: top;\n",
       "    }\n",
       "\n",
       "    .dataframe thead th {\n",
       "        text-align: right;\n",
       "    }\n",
       "</style>\n",
       "<table border=\"1\" class=\"dataframe\">\n",
       "  <thead>\n",
       "    <tr style=\"text-align: right;\">\n",
       "      <th></th>\n",
       "      <th>B</th>\n",
       "      <th>C</th>\n",
       "      <th>D</th>\n",
       "    </tr>\n",
       "  </thead>\n",
       "  <tbody>\n",
       "    <tr>\n",
       "      <th>a</th>\n",
       "      <td>0.960554</td>\n",
       "      <td>0.178910</td>\n",
       "      <td>0.170734</td>\n",
       "    </tr>\n",
       "    <tr>\n",
       "      <th>b</th>\n",
       "      <td>-2.136579</td>\n",
       "      <td>0.958048</td>\n",
       "      <td>0.366978</td>\n",
       "    </tr>\n",
       "    <tr>\n",
       "      <th>c</th>\n",
       "      <td>1.360081</td>\n",
       "      <td>-0.618000</td>\n",
       "      <td>-0.479022</td>\n",
       "    </tr>\n",
       "    <tr>\n",
       "      <th>d</th>\n",
       "      <td>0.224581</td>\n",
       "      <td>-1.142250</td>\n",
       "      <td>-1.774177</td>\n",
       "    </tr>\n",
       "    <tr>\n",
       "      <th>e</th>\n",
       "      <td>1.588402</td>\n",
       "      <td>-3.308435</td>\n",
       "      <td>1.072413</td>\n",
       "    </tr>\n",
       "    <tr>\n",
       "      <th>f</th>\n",
       "      <td>1.470646</td>\n",
       "      <td>-0.437669</td>\n",
       "      <td>0.859513</td>\n",
       "    </tr>\n",
       "  </tbody>\n",
       "</table>\n",
       "</div>"
      ],
      "text/plain": [
       "          B         C         D\n",
       "a  0.960554  0.178910  0.170734\n",
       "b -2.136579  0.958048  0.366978\n",
       "c  1.360081 -0.618000 -0.479022\n",
       "d  0.224581 -1.142250 -1.774177\n",
       "e  1.588402 -3.308435  1.072413\n",
       "f  1.470646 -0.437669  0.859513"
      ]
     },
     "execution_count": 100,
     "metadata": {},
     "output_type": "execute_result"
    }
   ],
   "source": [
    "\n",
    "df1.loc[:, df1.loc['a'] > 0]"
   ]
  },
  {
   "cell_type": "code",
   "execution_count": 101,
   "id": "0ad29aba",
   "metadata": {},
   "outputs": [
    {
     "data": {
      "text/plain": [
       "<BooleanArray>\n",
       "[True, False, True, False, <NA>, False]\n",
       "Length: 6, dtype: boolean"
      ]
     },
     "execution_count": 101,
     "metadata": {},
     "output_type": "execute_result"
    }
   ],
   "source": [
    "mask = pd.array([True, False, True, False, pd.NA, False], dtype=\"boolean\")\n",
    "\n",
    "mask"
   ]
  },
  {
   "cell_type": "code",
   "execution_count": 102,
   "id": "5cae5bdc",
   "metadata": {},
   "outputs": [
    {
     "data": {
      "text/html": [
       "<div>\n",
       "<style scoped>\n",
       "    .dataframe tbody tr th:only-of-type {\n",
       "        vertical-align: middle;\n",
       "    }\n",
       "\n",
       "    .dataframe tbody tr th {\n",
       "        vertical-align: top;\n",
       "    }\n",
       "\n",
       "    .dataframe thead th {\n",
       "        text-align: right;\n",
       "    }\n",
       "</style>\n",
       "<table border=\"1\" class=\"dataframe\">\n",
       "  <thead>\n",
       "    <tr style=\"text-align: right;\">\n",
       "      <th></th>\n",
       "      <th>A</th>\n",
       "      <th>B</th>\n",
       "      <th>C</th>\n",
       "      <th>D</th>\n",
       "    </tr>\n",
       "  </thead>\n",
       "  <tbody>\n",
       "    <tr>\n",
       "      <th>a</th>\n",
       "      <td>-0.215846</td>\n",
       "      <td>0.960554</td>\n",
       "      <td>0.17891</td>\n",
       "      <td>0.170734</td>\n",
       "    </tr>\n",
       "    <tr>\n",
       "      <th>c</th>\n",
       "      <td>1.782522</td>\n",
       "      <td>1.360081</td>\n",
       "      <td>-0.61800</td>\n",
       "      <td>-0.479022</td>\n",
       "    </tr>\n",
       "  </tbody>\n",
       "</table>\n",
       "</div>"
      ],
      "text/plain": [
       "          A         B        C         D\n",
       "a -0.215846  0.960554  0.17891  0.170734\n",
       "c  1.782522  1.360081 -0.61800 -0.479022"
      ]
     },
     "execution_count": 102,
     "metadata": {},
     "output_type": "execute_result"
    }
   ],
   "source": [
    "df1[mask]\n"
   ]
  },
  {
   "cell_type": "code",
   "execution_count": 103,
   "id": "b35351ba",
   "metadata": {},
   "outputs": [
    {
     "data": {
      "text/plain": [
       "-0.2158460009047361"
      ]
     },
     "execution_count": 103,
     "metadata": {},
     "output_type": "execute_result"
    }
   ],
   "source": [
    "df1.loc['a', 'A']"
   ]
  },
  {
   "cell_type": "code",
   "execution_count": 104,
   "id": "a97fb295",
   "metadata": {},
   "outputs": [
    {
     "data": {
      "text/plain": [
       "3    b\n",
       "2    c\n",
       "5    d\n",
       "dtype: object"
      ]
     },
     "execution_count": 104,
     "metadata": {},
     "output_type": "execute_result"
    }
   ],
   "source": [
    "s = pd.Series(list('abcde'), index=[0, 3, 2, 5, 4])\n",
    "\n",
    "s.loc[3:5]"
   ]
  },
  {
   "cell_type": "code",
   "execution_count": 105,
   "id": "296a8a33",
   "metadata": {},
   "outputs": [
    {
     "data": {
      "text/plain": [
       "0    a\n",
       "2    c\n",
       "3    b\n",
       "4    e\n",
       "5    d\n",
       "dtype: object"
      ]
     },
     "execution_count": 105,
     "metadata": {},
     "output_type": "execute_result"
    }
   ],
   "source": [
    "s.sort_index()"
   ]
  },
  {
   "cell_type": "code",
   "execution_count": 108,
   "id": "fc0b286a",
   "metadata": {},
   "outputs": [
    {
     "data": {
      "text/plain": [
       "2    c\n",
       "3    b\n",
       "4    e\n",
       "5    d\n",
       "dtype: object"
      ]
     },
     "execution_count": 108,
     "metadata": {},
     "output_type": "execute_result"
    }
   ],
   "source": [
    "s.sort_index().loc[1:6]"
   ]
  },
  {
   "cell_type": "code",
   "execution_count": 109,
   "id": "be404b7f",
   "metadata": {},
   "outputs": [
    {
     "data": {
      "text/plain": [
       "3    b\n",
       "2    c\n",
       "5    d\n",
       "dtype: object"
      ]
     },
     "execution_count": 109,
     "metadata": {},
     "output_type": "execute_result"
    }
   ],
   "source": [
    "s = pd.Series(list('abcdef'), index=[0, 3, 2, 5, 4, 2])\n",
    "\n",
    "s.loc[3:5]"
   ]
  },
  {
   "cell_type": "code",
   "execution_count": 111,
   "id": "b1d6e2e1",
   "metadata": {},
   "outputs": [
    {
     "data": {
      "text/plain": [
       "0    0.655734\n",
       "2   -0.852712\n",
       "4    0.684015\n",
       "6    0.269035\n",
       "8   -0.158749\n",
       "dtype: float64"
      ]
     },
     "execution_count": 111,
     "metadata": {},
     "output_type": "execute_result"
    }
   ],
   "source": [
    "s1 = pd.Series(np.random.randn(5), index=list(range(0, 10, 2)))\n",
    "\n",
    "s1"
   ]
  },
  {
   "cell_type": "code",
   "execution_count": 112,
   "id": "66fb3174",
   "metadata": {},
   "outputs": [
    {
     "data": {
      "text/plain": [
       "0    0.655734\n",
       "2   -0.852712\n",
       "4    0.684015\n",
       "dtype: float64"
      ]
     },
     "execution_count": 112,
     "metadata": {},
     "output_type": "execute_result"
    }
   ],
   "source": [
    "s1.iloc[:3]"
   ]
  },
  {
   "cell_type": "code",
   "execution_count": 113,
   "id": "8ddea7e3",
   "metadata": {},
   "outputs": [
    {
     "data": {
      "text/plain": [
       "0.269035065964279"
      ]
     },
     "execution_count": 113,
     "metadata": {},
     "output_type": "execute_result"
    }
   ],
   "source": [
    "s1.iloc[3]"
   ]
  },
  {
   "cell_type": "code",
   "execution_count": 114,
   "id": "906611d8",
   "metadata": {},
   "outputs": [
    {
     "data": {
      "text/plain": [
       "0    0.000000\n",
       "2    0.000000\n",
       "4    0.000000\n",
       "6    0.269035\n",
       "8   -0.158749\n",
       "dtype: float64"
      ]
     },
     "execution_count": 114,
     "metadata": {},
     "output_type": "execute_result"
    }
   ],
   "source": [
    "s1.iloc[:3] = 0\n",
    "\n",
    "s1"
   ]
  },
  {
   "cell_type": "code",
   "execution_count": 115,
   "id": "7652be44",
   "metadata": {},
   "outputs": [
    {
     "data": {
      "text/html": [
       "<div>\n",
       "<style scoped>\n",
       "    .dataframe tbody tr th:only-of-type {\n",
       "        vertical-align: middle;\n",
       "    }\n",
       "\n",
       "    .dataframe tbody tr th {\n",
       "        vertical-align: top;\n",
       "    }\n",
       "\n",
       "    .dataframe thead th {\n",
       "        text-align: right;\n",
       "    }\n",
       "</style>\n",
       "<table border=\"1\" class=\"dataframe\">\n",
       "  <thead>\n",
       "    <tr style=\"text-align: right;\">\n",
       "      <th></th>\n",
       "      <th>0</th>\n",
       "      <th>2</th>\n",
       "      <th>4</th>\n",
       "      <th>6</th>\n",
       "    </tr>\n",
       "  </thead>\n",
       "  <tbody>\n",
       "    <tr>\n",
       "      <th>0</th>\n",
       "      <td>0.363970</td>\n",
       "      <td>0.409596</td>\n",
       "      <td>-0.070671</td>\n",
       "      <td>0.805560</td>\n",
       "    </tr>\n",
       "    <tr>\n",
       "      <th>2</th>\n",
       "      <td>0.084384</td>\n",
       "      <td>0.356211</td>\n",
       "      <td>-1.659930</td>\n",
       "      <td>-0.029844</td>\n",
       "    </tr>\n",
       "    <tr>\n",
       "      <th>4</th>\n",
       "      <td>-0.894287</td>\n",
       "      <td>-1.550663</td>\n",
       "      <td>-0.282028</td>\n",
       "      <td>-0.537922</td>\n",
       "    </tr>\n",
       "    <tr>\n",
       "      <th>6</th>\n",
       "      <td>1.041357</td>\n",
       "      <td>0.346913</td>\n",
       "      <td>0.454570</td>\n",
       "      <td>0.056707</td>\n",
       "    </tr>\n",
       "    <tr>\n",
       "      <th>8</th>\n",
       "      <td>0.511938</td>\n",
       "      <td>0.583622</td>\n",
       "      <td>0.013645</td>\n",
       "      <td>-0.450921</td>\n",
       "    </tr>\n",
       "    <tr>\n",
       "      <th>10</th>\n",
       "      <td>-0.893408</td>\n",
       "      <td>-1.586541</td>\n",
       "      <td>2.090660</td>\n",
       "      <td>0.357855</td>\n",
       "    </tr>\n",
       "  </tbody>\n",
       "</table>\n",
       "</div>"
      ],
      "text/plain": [
       "           0         2         4         6\n",
       "0   0.363970  0.409596 -0.070671  0.805560\n",
       "2   0.084384  0.356211 -1.659930 -0.029844\n",
       "4  -0.894287 -1.550663 -0.282028 -0.537922\n",
       "6   1.041357  0.346913  0.454570  0.056707\n",
       "8   0.511938  0.583622  0.013645 -0.450921\n",
       "10 -0.893408 -1.586541  2.090660  0.357855"
      ]
     },
     "execution_count": 115,
     "metadata": {},
     "output_type": "execute_result"
    }
   ],
   "source": [
    "df1 = pd.DataFrame(np.random.randn(6, 4),\n",
    "\n",
    "                   index=list(range(0, 12, 2)),\n",
    "\n",
    "                   columns=list(range(0, 8, 2)))\n",
    "\n",
    "\n",
    "\n",
    "df1"
   ]
  },
  {
   "cell_type": "code",
   "execution_count": 116,
   "id": "65a91f39",
   "metadata": {},
   "outputs": [
    {
     "data": {
      "text/html": [
       "<div>\n",
       "<style scoped>\n",
       "    .dataframe tbody tr th:only-of-type {\n",
       "        vertical-align: middle;\n",
       "    }\n",
       "\n",
       "    .dataframe tbody tr th {\n",
       "        vertical-align: top;\n",
       "    }\n",
       "\n",
       "    .dataframe thead th {\n",
       "        text-align: right;\n",
       "    }\n",
       "</style>\n",
       "<table border=\"1\" class=\"dataframe\">\n",
       "  <thead>\n",
       "    <tr style=\"text-align: right;\">\n",
       "      <th></th>\n",
       "      <th>0</th>\n",
       "      <th>2</th>\n",
       "      <th>4</th>\n",
       "      <th>6</th>\n",
       "    </tr>\n",
       "  </thead>\n",
       "  <tbody>\n",
       "    <tr>\n",
       "      <th>0</th>\n",
       "      <td>0.363970</td>\n",
       "      <td>0.409596</td>\n",
       "      <td>-0.070671</td>\n",
       "      <td>0.805560</td>\n",
       "    </tr>\n",
       "    <tr>\n",
       "      <th>2</th>\n",
       "      <td>0.084384</td>\n",
       "      <td>0.356211</td>\n",
       "      <td>-1.659930</td>\n",
       "      <td>-0.029844</td>\n",
       "    </tr>\n",
       "    <tr>\n",
       "      <th>4</th>\n",
       "      <td>-0.894287</td>\n",
       "      <td>-1.550663</td>\n",
       "      <td>-0.282028</td>\n",
       "      <td>-0.537922</td>\n",
       "    </tr>\n",
       "  </tbody>\n",
       "</table>\n",
       "</div>"
      ],
      "text/plain": [
       "          0         2         4         6\n",
       "0  0.363970  0.409596 -0.070671  0.805560\n",
       "2  0.084384  0.356211 -1.659930 -0.029844\n",
       "4 -0.894287 -1.550663 -0.282028 -0.537922"
      ]
     },
     "execution_count": 116,
     "metadata": {},
     "output_type": "execute_result"
    }
   ],
   "source": [
    "df1.iloc[:3]"
   ]
  },
  {
   "cell_type": "code",
   "execution_count": 117,
   "id": "067c6a24",
   "metadata": {},
   "outputs": [
    {
     "data": {
      "text/html": [
       "<div>\n",
       "<style scoped>\n",
       "    .dataframe tbody tr th:only-of-type {\n",
       "        vertical-align: middle;\n",
       "    }\n",
       "\n",
       "    .dataframe tbody tr th {\n",
       "        vertical-align: top;\n",
       "    }\n",
       "\n",
       "    .dataframe thead th {\n",
       "        text-align: right;\n",
       "    }\n",
       "</style>\n",
       "<table border=\"1\" class=\"dataframe\">\n",
       "  <thead>\n",
       "    <tr style=\"text-align: right;\">\n",
       "      <th></th>\n",
       "      <th>4</th>\n",
       "      <th>6</th>\n",
       "    </tr>\n",
       "  </thead>\n",
       "  <tbody>\n",
       "    <tr>\n",
       "      <th>2</th>\n",
       "      <td>-1.659930</td>\n",
       "      <td>-0.029844</td>\n",
       "    </tr>\n",
       "    <tr>\n",
       "      <th>4</th>\n",
       "      <td>-0.282028</td>\n",
       "      <td>-0.537922</td>\n",
       "    </tr>\n",
       "    <tr>\n",
       "      <th>6</th>\n",
       "      <td>0.454570</td>\n",
       "      <td>0.056707</td>\n",
       "    </tr>\n",
       "    <tr>\n",
       "      <th>8</th>\n",
       "      <td>0.013645</td>\n",
       "      <td>-0.450921</td>\n",
       "    </tr>\n",
       "  </tbody>\n",
       "</table>\n",
       "</div>"
      ],
      "text/plain": [
       "          4         6\n",
       "2 -1.659930 -0.029844\n",
       "4 -0.282028 -0.537922\n",
       "6  0.454570  0.056707\n",
       "8  0.013645 -0.450921"
      ]
     },
     "execution_count": 117,
     "metadata": {},
     "output_type": "execute_result"
    }
   ],
   "source": [
    "df1.iloc[1:5, 2:4]"
   ]
  },
  {
   "cell_type": "code",
   "execution_count": 118,
   "id": "bdb8da93",
   "metadata": {},
   "outputs": [
    {
     "data": {
      "text/html": [
       "<div>\n",
       "<style scoped>\n",
       "    .dataframe tbody tr th:only-of-type {\n",
       "        vertical-align: middle;\n",
       "    }\n",
       "\n",
       "    .dataframe tbody tr th {\n",
       "        vertical-align: top;\n",
       "    }\n",
       "\n",
       "    .dataframe thead th {\n",
       "        text-align: right;\n",
       "    }\n",
       "</style>\n",
       "<table border=\"1\" class=\"dataframe\">\n",
       "  <thead>\n",
       "    <tr style=\"text-align: right;\">\n",
       "      <th></th>\n",
       "      <th>2</th>\n",
       "      <th>6</th>\n",
       "    </tr>\n",
       "  </thead>\n",
       "  <tbody>\n",
       "    <tr>\n",
       "      <th>2</th>\n",
       "      <td>0.356211</td>\n",
       "      <td>-0.029844</td>\n",
       "    </tr>\n",
       "    <tr>\n",
       "      <th>6</th>\n",
       "      <td>0.346913</td>\n",
       "      <td>0.056707</td>\n",
       "    </tr>\n",
       "    <tr>\n",
       "      <th>10</th>\n",
       "      <td>-1.586541</td>\n",
       "      <td>0.357855</td>\n",
       "    </tr>\n",
       "  </tbody>\n",
       "</table>\n",
       "</div>"
      ],
      "text/plain": [
       "           2         6\n",
       "2   0.356211 -0.029844\n",
       "6   0.346913  0.056707\n",
       "10 -1.586541  0.357855"
      ]
     },
     "execution_count": 118,
     "metadata": {},
     "output_type": "execute_result"
    }
   ],
   "source": [
    "df1.iloc[[1, 3, 5], [1, 3]]"
   ]
  },
  {
   "cell_type": "code",
   "execution_count": 119,
   "id": "5c6382a0",
   "metadata": {},
   "outputs": [
    {
     "data": {
      "text/html": [
       "<div>\n",
       "<style scoped>\n",
       "    .dataframe tbody tr th:only-of-type {\n",
       "        vertical-align: middle;\n",
       "    }\n",
       "\n",
       "    .dataframe tbody tr th {\n",
       "        vertical-align: top;\n",
       "    }\n",
       "\n",
       "    .dataframe thead th {\n",
       "        text-align: right;\n",
       "    }\n",
       "</style>\n",
       "<table border=\"1\" class=\"dataframe\">\n",
       "  <thead>\n",
       "    <tr style=\"text-align: right;\">\n",
       "      <th></th>\n",
       "      <th>0</th>\n",
       "      <th>2</th>\n",
       "      <th>4</th>\n",
       "      <th>6</th>\n",
       "    </tr>\n",
       "  </thead>\n",
       "  <tbody>\n",
       "    <tr>\n",
       "      <th>2</th>\n",
       "      <td>0.084384</td>\n",
       "      <td>0.356211</td>\n",
       "      <td>-1.659930</td>\n",
       "      <td>-0.029844</td>\n",
       "    </tr>\n",
       "    <tr>\n",
       "      <th>4</th>\n",
       "      <td>-0.894287</td>\n",
       "      <td>-1.550663</td>\n",
       "      <td>-0.282028</td>\n",
       "      <td>-0.537922</td>\n",
       "    </tr>\n",
       "  </tbody>\n",
       "</table>\n",
       "</div>"
      ],
      "text/plain": [
       "          0         2         4         6\n",
       "2  0.084384  0.356211 -1.659930 -0.029844\n",
       "4 -0.894287 -1.550663 -0.282028 -0.537922"
      ]
     },
     "execution_count": 119,
     "metadata": {},
     "output_type": "execute_result"
    }
   ],
   "source": [
    "df1.iloc[1:3, :]"
   ]
  },
  {
   "cell_type": "code",
   "execution_count": 120,
   "id": "60c08bd2",
   "metadata": {},
   "outputs": [
    {
     "data": {
      "text/html": [
       "<div>\n",
       "<style scoped>\n",
       "    .dataframe tbody tr th:only-of-type {\n",
       "        vertical-align: middle;\n",
       "    }\n",
       "\n",
       "    .dataframe tbody tr th {\n",
       "        vertical-align: top;\n",
       "    }\n",
       "\n",
       "    .dataframe thead th {\n",
       "        text-align: right;\n",
       "    }\n",
       "</style>\n",
       "<table border=\"1\" class=\"dataframe\">\n",
       "  <thead>\n",
       "    <tr style=\"text-align: right;\">\n",
       "      <th></th>\n",
       "      <th>2</th>\n",
       "      <th>4</th>\n",
       "    </tr>\n",
       "  </thead>\n",
       "  <tbody>\n",
       "    <tr>\n",
       "      <th>0</th>\n",
       "      <td>0.409596</td>\n",
       "      <td>-0.070671</td>\n",
       "    </tr>\n",
       "    <tr>\n",
       "      <th>2</th>\n",
       "      <td>0.356211</td>\n",
       "      <td>-1.659930</td>\n",
       "    </tr>\n",
       "    <tr>\n",
       "      <th>4</th>\n",
       "      <td>-1.550663</td>\n",
       "      <td>-0.282028</td>\n",
       "    </tr>\n",
       "    <tr>\n",
       "      <th>6</th>\n",
       "      <td>0.346913</td>\n",
       "      <td>0.454570</td>\n",
       "    </tr>\n",
       "    <tr>\n",
       "      <th>8</th>\n",
       "      <td>0.583622</td>\n",
       "      <td>0.013645</td>\n",
       "    </tr>\n",
       "    <tr>\n",
       "      <th>10</th>\n",
       "      <td>-1.586541</td>\n",
       "      <td>2.090660</td>\n",
       "    </tr>\n",
       "  </tbody>\n",
       "</table>\n",
       "</div>"
      ],
      "text/plain": [
       "           2         4\n",
       "0   0.409596 -0.070671\n",
       "2   0.356211 -1.659930\n",
       "4  -1.550663 -0.282028\n",
       "6   0.346913  0.454570\n",
       "8   0.583622  0.013645\n",
       "10 -1.586541  2.090660"
      ]
     },
     "execution_count": 120,
     "metadata": {},
     "output_type": "execute_result"
    }
   ],
   "source": [
    "df1.iloc[:, 1:3]"
   ]
  },
  {
   "cell_type": "code",
   "execution_count": 121,
   "id": "c906c05b",
   "metadata": {},
   "outputs": [
    {
     "data": {
      "text/plain": [
       "0.35621144061335985"
      ]
     },
     "execution_count": 121,
     "metadata": {},
     "output_type": "execute_result"
    }
   ],
   "source": [
    "# this is also equivalent to ``df1.iat[1,1]``\n",
    "\n",
    "df1.iloc[1, 1]"
   ]
  },
  {
   "cell_type": "code",
   "execution_count": 122,
   "id": "ae35ed3b",
   "metadata": {},
   "outputs": [
    {
     "data": {
      "text/plain": [
       "0    0.084384\n",
       "2    0.356211\n",
       "4   -1.659930\n",
       "6   -0.029844\n",
       "Name: 2, dtype: float64"
      ]
     },
     "execution_count": 122,
     "metadata": {},
     "output_type": "execute_result"
    }
   ],
   "source": [
    "df1.iloc[1]"
   ]
  },
  {
   "cell_type": "code",
   "execution_count": 123,
   "id": "3789497e",
   "metadata": {},
   "outputs": [
    {
     "data": {
      "text/plain": [
       "['a', 'b', 'c', 'd', 'e', 'f']"
      ]
     },
     "execution_count": 123,
     "metadata": {},
     "output_type": "execute_result"
    }
   ],
   "source": [
    "# these are allowed in Python/NumPy.\n",
    "\n",
    "x = list('abcdef')\n",
    "\n",
    "x"
   ]
  },
  {
   "cell_type": "code",
   "execution_count": 124,
   "id": "f90da6fb",
   "metadata": {},
   "outputs": [
    {
     "data": {
      "text/plain": [
       "['e', 'f']"
      ]
     },
     "execution_count": 124,
     "metadata": {},
     "output_type": "execute_result"
    }
   ],
   "source": [
    "x[4:10]"
   ]
  },
  {
   "cell_type": "code",
   "execution_count": 125,
   "id": "ce40404d",
   "metadata": {},
   "outputs": [
    {
     "data": {
      "text/plain": [
       "[]"
      ]
     },
     "execution_count": 125,
     "metadata": {},
     "output_type": "execute_result"
    }
   ],
   "source": [
    "x[8:10]"
   ]
  },
  {
   "cell_type": "code",
   "execution_count": 126,
   "id": "f14adaa1",
   "metadata": {},
   "outputs": [
    {
     "data": {
      "text/plain": [
       "0    a\n",
       "1    b\n",
       "2    c\n",
       "3    d\n",
       "4    e\n",
       "5    f\n",
       "dtype: object"
      ]
     },
     "execution_count": 126,
     "metadata": {},
     "output_type": "execute_result"
    }
   ],
   "source": [
    "s = pd.Series(x)\n",
    "\n",
    "s"
   ]
  },
  {
   "cell_type": "code",
   "execution_count": 127,
   "id": "3e62522b",
   "metadata": {},
   "outputs": [
    {
     "data": {
      "text/plain": [
       "4    e\n",
       "5    f\n",
       "dtype: object"
      ]
     },
     "execution_count": 127,
     "metadata": {},
     "output_type": "execute_result"
    }
   ],
   "source": [
    "s.iloc[4:10]"
   ]
  },
  {
   "cell_type": "code",
   "execution_count": 128,
   "id": "d9781b62",
   "metadata": {},
   "outputs": [
    {
     "data": {
      "text/plain": [
       "Series([], dtype: object)"
      ]
     },
     "execution_count": 128,
     "metadata": {},
     "output_type": "execute_result"
    }
   ],
   "source": [
    "s.iloc[8:10]"
   ]
  },
  {
   "cell_type": "code",
   "execution_count": 129,
   "id": "0dbfe621",
   "metadata": {},
   "outputs": [
    {
     "data": {
      "text/html": [
       "<div>\n",
       "<style scoped>\n",
       "    .dataframe tbody tr th:only-of-type {\n",
       "        vertical-align: middle;\n",
       "    }\n",
       "\n",
       "    .dataframe tbody tr th {\n",
       "        vertical-align: top;\n",
       "    }\n",
       "\n",
       "    .dataframe thead th {\n",
       "        text-align: right;\n",
       "    }\n",
       "</style>\n",
       "<table border=\"1\" class=\"dataframe\">\n",
       "  <thead>\n",
       "    <tr style=\"text-align: right;\">\n",
       "      <th></th>\n",
       "      <th>A</th>\n",
       "      <th>B</th>\n",
       "    </tr>\n",
       "  </thead>\n",
       "  <tbody>\n",
       "    <tr>\n",
       "      <th>0</th>\n",
       "      <td>0.218802</td>\n",
       "      <td>-1.775008</td>\n",
       "    </tr>\n",
       "    <tr>\n",
       "      <th>1</th>\n",
       "      <td>-0.574953</td>\n",
       "      <td>0.179797</td>\n",
       "    </tr>\n",
       "    <tr>\n",
       "      <th>2</th>\n",
       "      <td>-0.383485</td>\n",
       "      <td>1.912479</td>\n",
       "    </tr>\n",
       "    <tr>\n",
       "      <th>3</th>\n",
       "      <td>2.355146</td>\n",
       "      <td>-0.716785</td>\n",
       "    </tr>\n",
       "    <tr>\n",
       "      <th>4</th>\n",
       "      <td>-0.385262</td>\n",
       "      <td>-0.003679</td>\n",
       "    </tr>\n",
       "  </tbody>\n",
       "</table>\n",
       "</div>"
      ],
      "text/plain": [
       "          A         B\n",
       "0  0.218802 -1.775008\n",
       "1 -0.574953  0.179797\n",
       "2 -0.383485  1.912479\n",
       "3  2.355146 -0.716785\n",
       "4 -0.385262 -0.003679"
      ]
     },
     "execution_count": 129,
     "metadata": {},
     "output_type": "execute_result"
    }
   ],
   "source": [
    "dfl = pd.DataFrame(np.random.randn(5, 2), columns=list('AB'))\n",
    "\n",
    "dfl"
   ]
  },
  {
   "cell_type": "code",
   "execution_count": 130,
   "id": "be752797",
   "metadata": {},
   "outputs": [
    {
     "data": {
      "text/html": [
       "<div>\n",
       "<style scoped>\n",
       "    .dataframe tbody tr th:only-of-type {\n",
       "        vertical-align: middle;\n",
       "    }\n",
       "\n",
       "    .dataframe tbody tr th {\n",
       "        vertical-align: top;\n",
       "    }\n",
       "\n",
       "    .dataframe thead th {\n",
       "        text-align: right;\n",
       "    }\n",
       "</style>\n",
       "<table border=\"1\" class=\"dataframe\">\n",
       "  <thead>\n",
       "    <tr style=\"text-align: right;\">\n",
       "      <th></th>\n",
       "    </tr>\n",
       "  </thead>\n",
       "  <tbody>\n",
       "    <tr>\n",
       "      <th>0</th>\n",
       "    </tr>\n",
       "    <tr>\n",
       "      <th>1</th>\n",
       "    </tr>\n",
       "    <tr>\n",
       "      <th>2</th>\n",
       "    </tr>\n",
       "    <tr>\n",
       "      <th>3</th>\n",
       "    </tr>\n",
       "    <tr>\n",
       "      <th>4</th>\n",
       "    </tr>\n",
       "  </tbody>\n",
       "</table>\n",
       "</div>"
      ],
      "text/plain": [
       "Empty DataFrame\n",
       "Columns: []\n",
       "Index: [0, 1, 2, 3, 4]"
      ]
     },
     "execution_count": 130,
     "metadata": {},
     "output_type": "execute_result"
    }
   ],
   "source": [
    "dfl.iloc[:, 2:3]"
   ]
  },
  {
   "cell_type": "code",
   "execution_count": 131,
   "id": "28946402",
   "metadata": {},
   "outputs": [
    {
     "data": {
      "text/html": [
       "<div>\n",
       "<style scoped>\n",
       "    .dataframe tbody tr th:only-of-type {\n",
       "        vertical-align: middle;\n",
       "    }\n",
       "\n",
       "    .dataframe tbody tr th {\n",
       "        vertical-align: top;\n",
       "    }\n",
       "\n",
       "    .dataframe thead th {\n",
       "        text-align: right;\n",
       "    }\n",
       "</style>\n",
       "<table border=\"1\" class=\"dataframe\">\n",
       "  <thead>\n",
       "    <tr style=\"text-align: right;\">\n",
       "      <th></th>\n",
       "      <th>B</th>\n",
       "    </tr>\n",
       "  </thead>\n",
       "  <tbody>\n",
       "    <tr>\n",
       "      <th>0</th>\n",
       "      <td>-1.775008</td>\n",
       "    </tr>\n",
       "    <tr>\n",
       "      <th>1</th>\n",
       "      <td>0.179797</td>\n",
       "    </tr>\n",
       "    <tr>\n",
       "      <th>2</th>\n",
       "      <td>1.912479</td>\n",
       "    </tr>\n",
       "    <tr>\n",
       "      <th>3</th>\n",
       "      <td>-0.716785</td>\n",
       "    </tr>\n",
       "    <tr>\n",
       "      <th>4</th>\n",
       "      <td>-0.003679</td>\n",
       "    </tr>\n",
       "  </tbody>\n",
       "</table>\n",
       "</div>"
      ],
      "text/plain": [
       "          B\n",
       "0 -1.775008\n",
       "1  0.179797\n",
       "2  1.912479\n",
       "3 -0.716785\n",
       "4 -0.003679"
      ]
     },
     "execution_count": 131,
     "metadata": {},
     "output_type": "execute_result"
    }
   ],
   "source": [
    "dfl.iloc[:, 1:3]"
   ]
  },
  {
   "cell_type": "code",
   "execution_count": 132,
   "id": "44d5bf03",
   "metadata": {},
   "outputs": [
    {
     "data": {
      "text/html": [
       "<div>\n",
       "<style scoped>\n",
       "    .dataframe tbody tr th:only-of-type {\n",
       "        vertical-align: middle;\n",
       "    }\n",
       "\n",
       "    .dataframe tbody tr th {\n",
       "        vertical-align: top;\n",
       "    }\n",
       "\n",
       "    .dataframe thead th {\n",
       "        text-align: right;\n",
       "    }\n",
       "</style>\n",
       "<table border=\"1\" class=\"dataframe\">\n",
       "  <thead>\n",
       "    <tr style=\"text-align: right;\">\n",
       "      <th></th>\n",
       "      <th>A</th>\n",
       "      <th>B</th>\n",
       "    </tr>\n",
       "  </thead>\n",
       "  <tbody>\n",
       "    <tr>\n",
       "      <th>4</th>\n",
       "      <td>-0.385262</td>\n",
       "      <td>-0.003679</td>\n",
       "    </tr>\n",
       "  </tbody>\n",
       "</table>\n",
       "</div>"
      ],
      "text/plain": [
       "          A         B\n",
       "4 -0.385262 -0.003679"
      ]
     },
     "execution_count": 132,
     "metadata": {},
     "output_type": "execute_result"
    }
   ],
   "source": [
    "dfl.iloc[4:6]"
   ]
  },
  {
   "cell_type": "code",
   "execution_count": 133,
   "id": "f4cb0f62",
   "metadata": {},
   "outputs": [
    {
     "data": {
      "text/html": [
       "<div>\n",
       "<style scoped>\n",
       "    .dataframe tbody tr th:only-of-type {\n",
       "        vertical-align: middle;\n",
       "    }\n",
       "\n",
       "    .dataframe tbody tr th {\n",
       "        vertical-align: top;\n",
       "    }\n",
       "\n",
       "    .dataframe thead th {\n",
       "        text-align: right;\n",
       "    }\n",
       "</style>\n",
       "<table border=\"1\" class=\"dataframe\">\n",
       "  <thead>\n",
       "    <tr style=\"text-align: right;\">\n",
       "      <th></th>\n",
       "      <th>A</th>\n",
       "      <th>B</th>\n",
       "      <th>C</th>\n",
       "      <th>D</th>\n",
       "    </tr>\n",
       "  </thead>\n",
       "  <tbody>\n",
       "    <tr>\n",
       "      <th>a</th>\n",
       "      <td>-2.193161</td>\n",
       "      <td>-0.338703</td>\n",
       "      <td>1.333438</td>\n",
       "      <td>0.367182</td>\n",
       "    </tr>\n",
       "    <tr>\n",
       "      <th>b</th>\n",
       "      <td>1.200620</td>\n",
       "      <td>-0.491648</td>\n",
       "      <td>0.820218</td>\n",
       "      <td>1.526450</td>\n",
       "    </tr>\n",
       "    <tr>\n",
       "      <th>c</th>\n",
       "      <td>-2.335693</td>\n",
       "      <td>-0.445580</td>\n",
       "      <td>-0.383015</td>\n",
       "      <td>-0.214711</td>\n",
       "    </tr>\n",
       "    <tr>\n",
       "      <th>d</th>\n",
       "      <td>-0.689168</td>\n",
       "      <td>-0.649028</td>\n",
       "      <td>-0.310956</td>\n",
       "      <td>1.742669</td>\n",
       "    </tr>\n",
       "    <tr>\n",
       "      <th>e</th>\n",
       "      <td>1.406105</td>\n",
       "      <td>0.077866</td>\n",
       "      <td>0.941250</td>\n",
       "      <td>-0.325766</td>\n",
       "    </tr>\n",
       "    <tr>\n",
       "      <th>f</th>\n",
       "      <td>-0.499253</td>\n",
       "      <td>-1.093836</td>\n",
       "      <td>-3.054311</td>\n",
       "      <td>-0.132807</td>\n",
       "    </tr>\n",
       "  </tbody>\n",
       "</table>\n",
       "</div>"
      ],
      "text/plain": [
       "          A         B         C         D\n",
       "a -2.193161 -0.338703  1.333438  0.367182\n",
       "b  1.200620 -0.491648  0.820218  1.526450\n",
       "c -2.335693 -0.445580 -0.383015 -0.214711\n",
       "d -0.689168 -0.649028 -0.310956  1.742669\n",
       "e  1.406105  0.077866  0.941250 -0.325766\n",
       "f -0.499253 -1.093836 -3.054311 -0.132807"
      ]
     },
     "execution_count": 133,
     "metadata": {},
     "output_type": "execute_result"
    }
   ],
   "source": [
    "df1 = pd.DataFrame(np.random.randn(6, 4),\n",
    "\n",
    "                   index=list('abcdef'),\n",
    "\n",
    "                   columns=list('ABCD'))\n",
    "\n",
    "\n",
    "\n",
    "df1"
   ]
  },
  {
   "cell_type": "code",
   "execution_count": 134,
   "id": "59af2593",
   "metadata": {},
   "outputs": [
    {
     "data": {
      "text/html": [
       "<div>\n",
       "<style scoped>\n",
       "    .dataframe tbody tr th:only-of-type {\n",
       "        vertical-align: middle;\n",
       "    }\n",
       "\n",
       "    .dataframe tbody tr th {\n",
       "        vertical-align: top;\n",
       "    }\n",
       "\n",
       "    .dataframe thead th {\n",
       "        text-align: right;\n",
       "    }\n",
       "</style>\n",
       "<table border=\"1\" class=\"dataframe\">\n",
       "  <thead>\n",
       "    <tr style=\"text-align: right;\">\n",
       "      <th></th>\n",
       "      <th>A</th>\n",
       "      <th>B</th>\n",
       "      <th>C</th>\n",
       "      <th>D</th>\n",
       "    </tr>\n",
       "  </thead>\n",
       "  <tbody>\n",
       "    <tr>\n",
       "      <th>b</th>\n",
       "      <td>1.200620</td>\n",
       "      <td>-0.491648</td>\n",
       "      <td>0.820218</td>\n",
       "      <td>1.526450</td>\n",
       "    </tr>\n",
       "    <tr>\n",
       "      <th>e</th>\n",
       "      <td>1.406105</td>\n",
       "      <td>0.077866</td>\n",
       "      <td>0.941250</td>\n",
       "      <td>-0.325766</td>\n",
       "    </tr>\n",
       "  </tbody>\n",
       "</table>\n",
       "</div>"
      ],
      "text/plain": [
       "          A         B         C         D\n",
       "b  1.200620 -0.491648  0.820218  1.526450\n",
       "e  1.406105  0.077866  0.941250 -0.325766"
      ]
     },
     "execution_count": 134,
     "metadata": {},
     "output_type": "execute_result"
    }
   ],
   "source": [
    "df1.loc[lambda df: df['A'] > 0, :]"
   ]
  },
  {
   "cell_type": "code",
   "execution_count": 135,
   "id": "f1fa4cce",
   "metadata": {},
   "outputs": [
    {
     "data": {
      "text/html": [
       "<div>\n",
       "<style scoped>\n",
       "    .dataframe tbody tr th:only-of-type {\n",
       "        vertical-align: middle;\n",
       "    }\n",
       "\n",
       "    .dataframe tbody tr th {\n",
       "        vertical-align: top;\n",
       "    }\n",
       "\n",
       "    .dataframe thead th {\n",
       "        text-align: right;\n",
       "    }\n",
       "</style>\n",
       "<table border=\"1\" class=\"dataframe\">\n",
       "  <thead>\n",
       "    <tr style=\"text-align: right;\">\n",
       "      <th></th>\n",
       "      <th>A</th>\n",
       "      <th>B</th>\n",
       "    </tr>\n",
       "  </thead>\n",
       "  <tbody>\n",
       "    <tr>\n",
       "      <th>a</th>\n",
       "      <td>-2.193161</td>\n",
       "      <td>-0.338703</td>\n",
       "    </tr>\n",
       "    <tr>\n",
       "      <th>b</th>\n",
       "      <td>1.200620</td>\n",
       "      <td>-0.491648</td>\n",
       "    </tr>\n",
       "    <tr>\n",
       "      <th>c</th>\n",
       "      <td>-2.335693</td>\n",
       "      <td>-0.445580</td>\n",
       "    </tr>\n",
       "    <tr>\n",
       "      <th>d</th>\n",
       "      <td>-0.689168</td>\n",
       "      <td>-0.649028</td>\n",
       "    </tr>\n",
       "    <tr>\n",
       "      <th>e</th>\n",
       "      <td>1.406105</td>\n",
       "      <td>0.077866</td>\n",
       "    </tr>\n",
       "    <tr>\n",
       "      <th>f</th>\n",
       "      <td>-0.499253</td>\n",
       "      <td>-1.093836</td>\n",
       "    </tr>\n",
       "  </tbody>\n",
       "</table>\n",
       "</div>"
      ],
      "text/plain": [
       "          A         B\n",
       "a -2.193161 -0.338703\n",
       "b  1.200620 -0.491648\n",
       "c -2.335693 -0.445580\n",
       "d -0.689168 -0.649028\n",
       "e  1.406105  0.077866\n",
       "f -0.499253 -1.093836"
      ]
     },
     "execution_count": 135,
     "metadata": {},
     "output_type": "execute_result"
    }
   ],
   "source": [
    "df1.loc[:, lambda df: ['A', 'B']]"
   ]
  },
  {
   "cell_type": "code",
   "execution_count": 136,
   "id": "592f7cef",
   "metadata": {},
   "outputs": [
    {
     "data": {
      "text/html": [
       "<div>\n",
       "<style scoped>\n",
       "    .dataframe tbody tr th:only-of-type {\n",
       "        vertical-align: middle;\n",
       "    }\n",
       "\n",
       "    .dataframe tbody tr th {\n",
       "        vertical-align: top;\n",
       "    }\n",
       "\n",
       "    .dataframe thead th {\n",
       "        text-align: right;\n",
       "    }\n",
       "</style>\n",
       "<table border=\"1\" class=\"dataframe\">\n",
       "  <thead>\n",
       "    <tr style=\"text-align: right;\">\n",
       "      <th></th>\n",
       "      <th>A</th>\n",
       "      <th>B</th>\n",
       "    </tr>\n",
       "  </thead>\n",
       "  <tbody>\n",
       "    <tr>\n",
       "      <th>a</th>\n",
       "      <td>-2.193161</td>\n",
       "      <td>-0.338703</td>\n",
       "    </tr>\n",
       "    <tr>\n",
       "      <th>b</th>\n",
       "      <td>1.200620</td>\n",
       "      <td>-0.491648</td>\n",
       "    </tr>\n",
       "    <tr>\n",
       "      <th>c</th>\n",
       "      <td>-2.335693</td>\n",
       "      <td>-0.445580</td>\n",
       "    </tr>\n",
       "    <tr>\n",
       "      <th>d</th>\n",
       "      <td>-0.689168</td>\n",
       "      <td>-0.649028</td>\n",
       "    </tr>\n",
       "    <tr>\n",
       "      <th>e</th>\n",
       "      <td>1.406105</td>\n",
       "      <td>0.077866</td>\n",
       "    </tr>\n",
       "    <tr>\n",
       "      <th>f</th>\n",
       "      <td>-0.499253</td>\n",
       "      <td>-1.093836</td>\n",
       "    </tr>\n",
       "  </tbody>\n",
       "</table>\n",
       "</div>"
      ],
      "text/plain": [
       "          A         B\n",
       "a -2.193161 -0.338703\n",
       "b  1.200620 -0.491648\n",
       "c -2.335693 -0.445580\n",
       "d -0.689168 -0.649028\n",
       "e  1.406105  0.077866\n",
       "f -0.499253 -1.093836"
      ]
     },
     "execution_count": 136,
     "metadata": {},
     "output_type": "execute_result"
    }
   ],
   "source": [
    "df1.iloc[:, lambda df: [0, 1]]"
   ]
  },
  {
   "cell_type": "code",
   "execution_count": null,
   "id": "172deab7",
   "metadata": {},
   "outputs": [],
   "source": [
    "df1[lambda df: df.columns[0]]"
   ]
  },
  {
   "cell_type": "code",
   "execution_count": 138,
   "id": "0943f229",
   "metadata": {},
   "outputs": [
    {
     "data": {
      "text/plain": [
       "b    1.200620\n",
       "e    1.406105\n",
       "Name: A, dtype: float64"
      ]
     },
     "execution_count": 138,
     "metadata": {},
     "output_type": "execute_result"
    }
   ],
   "source": [
    "df1['A'].loc[lambda s: s > 0]"
   ]
  },
  {
   "cell_type": "code",
   "execution_count": 144,
   "id": "463b574c",
   "metadata": {},
   "outputs": [
    {
     "data": {
      "text/html": [
       "<div>\n",
       "<style scoped>\n",
       "    .dataframe tbody tr th:only-of-type {\n",
       "        vertical-align: middle;\n",
       "    }\n",
       "\n",
       "    .dataframe tbody tr th {\n",
       "        vertical-align: top;\n",
       "    }\n",
       "\n",
       "    .dataframe thead th {\n",
       "        text-align: right;\n",
       "    }\n",
       "</style>\n",
       "<table border=\"1\" class=\"dataframe\">\n",
       "  <thead>\n",
       "    <tr style=\"text-align: right;\">\n",
       "      <th></th>\n",
       "      <th></th>\n",
       "      <th>stint</th>\n",
       "      <th>g</th>\n",
       "      <th>ab</th>\n",
       "      <th>r</th>\n",
       "      <th>h</th>\n",
       "      <th>X2b</th>\n",
       "      <th>X3b</th>\n",
       "      <th>hr</th>\n",
       "      <th>rbi</th>\n",
       "      <th>sb</th>\n",
       "      <th>cs</th>\n",
       "      <th>bb</th>\n",
       "      <th>so</th>\n",
       "      <th>ibb</th>\n",
       "      <th>hbp</th>\n",
       "      <th>sh</th>\n",
       "      <th>sf</th>\n",
       "      <th>gidp</th>\n",
       "    </tr>\n",
       "    <tr>\n",
       "      <th>year</th>\n",
       "      <th>team</th>\n",
       "      <th></th>\n",
       "      <th></th>\n",
       "      <th></th>\n",
       "      <th></th>\n",
       "      <th></th>\n",
       "      <th></th>\n",
       "      <th></th>\n",
       "      <th></th>\n",
       "      <th></th>\n",
       "      <th></th>\n",
       "      <th></th>\n",
       "      <th></th>\n",
       "      <th></th>\n",
       "      <th></th>\n",
       "      <th></th>\n",
       "      <th></th>\n",
       "      <th></th>\n",
       "      <th></th>\n",
       "    </tr>\n",
       "  </thead>\n",
       "  <tbody>\n",
       "    <tr>\n",
       "      <th rowspan=\"7\" valign=\"top\">2006</th>\n",
       "      <th>ARI</th>\n",
       "      <td>1</td>\n",
       "      <td>153</td>\n",
       "      <td>586</td>\n",
       "      <td>93</td>\n",
       "      <td>159</td>\n",
       "      <td>52</td>\n",
       "      <td>2</td>\n",
       "      <td>15</td>\n",
       "      <td>73.0</td>\n",
       "      <td>0.0</td>\n",
       "      <td>1.0</td>\n",
       "      <td>69</td>\n",
       "      <td>58.0</td>\n",
       "      <td>10.0</td>\n",
       "      <td>7.0</td>\n",
       "      <td>0.0</td>\n",
       "      <td>6.0</td>\n",
       "      <td>14.0</td>\n",
       "    </tr>\n",
       "    <tr>\n",
       "      <th>BOS</th>\n",
       "      <td>1</td>\n",
       "      <td>31</td>\n",
       "      <td>2</td>\n",
       "      <td>0</td>\n",
       "      <td>1</td>\n",
       "      <td>0</td>\n",
       "      <td>0</td>\n",
       "      <td>0</td>\n",
       "      <td>0.0</td>\n",
       "      <td>0.0</td>\n",
       "      <td>0.0</td>\n",
       "      <td>0</td>\n",
       "      <td>1.0</td>\n",
       "      <td>0.0</td>\n",
       "      <td>0.0</td>\n",
       "      <td>0.0</td>\n",
       "      <td>0.0</td>\n",
       "      <td>0.0</td>\n",
       "    </tr>\n",
       "    <tr>\n",
       "      <th>CHN</th>\n",
       "      <td>2</td>\n",
       "      <td>19</td>\n",
       "      <td>50</td>\n",
       "      <td>6</td>\n",
       "      <td>14</td>\n",
       "      <td>1</td>\n",
       "      <td>0</td>\n",
       "      <td>1</td>\n",
       "      <td>2.0</td>\n",
       "      <td>1.0</td>\n",
       "      <td>1.0</td>\n",
       "      <td>4</td>\n",
       "      <td>4.0</td>\n",
       "      <td>0.0</td>\n",
       "      <td>0.0</td>\n",
       "      <td>3.0</td>\n",
       "      <td>0.0</td>\n",
       "      <td>0.0</td>\n",
       "    </tr>\n",
       "    <tr>\n",
       "      <th>LAN</th>\n",
       "      <td>1</td>\n",
       "      <td>28</td>\n",
       "      <td>26</td>\n",
       "      <td>2</td>\n",
       "      <td>5</td>\n",
       "      <td>1</td>\n",
       "      <td>0</td>\n",
       "      <td>0</td>\n",
       "      <td>0.0</td>\n",
       "      <td>0.0</td>\n",
       "      <td>0.0</td>\n",
       "      <td>1</td>\n",
       "      <td>7.0</td>\n",
       "      <td>0.0</td>\n",
       "      <td>0.0</td>\n",
       "      <td>6.0</td>\n",
       "      <td>0.0</td>\n",
       "      <td>1.0</td>\n",
       "    </tr>\n",
       "    <tr>\n",
       "      <th>MIL</th>\n",
       "      <td>1</td>\n",
       "      <td>20</td>\n",
       "      <td>3</td>\n",
       "      <td>0</td>\n",
       "      <td>0</td>\n",
       "      <td>0</td>\n",
       "      <td>0</td>\n",
       "      <td>0</td>\n",
       "      <td>0.0</td>\n",
       "      <td>0.0</td>\n",
       "      <td>0.0</td>\n",
       "      <td>0</td>\n",
       "      <td>2.0</td>\n",
       "      <td>0.0</td>\n",
       "      <td>0.0</td>\n",
       "      <td>0.0</td>\n",
       "      <td>0.0</td>\n",
       "      <td>0.0</td>\n",
       "    </tr>\n",
       "    <tr>\n",
       "      <th>NYA</th>\n",
       "      <td>2</td>\n",
       "      <td>95</td>\n",
       "      <td>6</td>\n",
       "      <td>0</td>\n",
       "      <td>1</td>\n",
       "      <td>0</td>\n",
       "      <td>0</td>\n",
       "      <td>0</td>\n",
       "      <td>0.0</td>\n",
       "      <td>0.0</td>\n",
       "      <td>0.0</td>\n",
       "      <td>0</td>\n",
       "      <td>4.0</td>\n",
       "      <td>0.0</td>\n",
       "      <td>0.0</td>\n",
       "      <td>0.0</td>\n",
       "      <td>0.0</td>\n",
       "      <td>0.0</td>\n",
       "    </tr>\n",
       "    <tr>\n",
       "      <th>SFN</th>\n",
       "      <td>1</td>\n",
       "      <td>139</td>\n",
       "      <td>426</td>\n",
       "      <td>66</td>\n",
       "      <td>105</td>\n",
       "      <td>21</td>\n",
       "      <td>12</td>\n",
       "      <td>6</td>\n",
       "      <td>40.0</td>\n",
       "      <td>7.0</td>\n",
       "      <td>0.0</td>\n",
       "      <td>46</td>\n",
       "      <td>55.0</td>\n",
       "      <td>2.0</td>\n",
       "      <td>2.0</td>\n",
       "      <td>3.0</td>\n",
       "      <td>4.0</td>\n",
       "      <td>6.0</td>\n",
       "    </tr>\n",
       "    <tr>\n",
       "      <th rowspan=\"3\" valign=\"top\">2007</th>\n",
       "      <th>ARI</th>\n",
       "      <td>5</td>\n",
       "      <td>46</td>\n",
       "      <td>55</td>\n",
       "      <td>6</td>\n",
       "      <td>9</td>\n",
       "      <td>4</td>\n",
       "      <td>0</td>\n",
       "      <td>0</td>\n",
       "      <td>6.0</td>\n",
       "      <td>0.0</td>\n",
       "      <td>0.0</td>\n",
       "      <td>5</td>\n",
       "      <td>13.0</td>\n",
       "      <td>0.0</td>\n",
       "      <td>0.0</td>\n",
       "      <td>2.0</td>\n",
       "      <td>0.0</td>\n",
       "      <td>1.0</td>\n",
       "    </tr>\n",
       "    <tr>\n",
       "      <th>ATL</th>\n",
       "      <td>4</td>\n",
       "      <td>92</td>\n",
       "      <td>94</td>\n",
       "      <td>2</td>\n",
       "      <td>15</td>\n",
       "      <td>4</td>\n",
       "      <td>0</td>\n",
       "      <td>0</td>\n",
       "      <td>10.0</td>\n",
       "      <td>0.0</td>\n",
       "      <td>0.0</td>\n",
       "      <td>5</td>\n",
       "      <td>29.0</td>\n",
       "      <td>1.0</td>\n",
       "      <td>0.0</td>\n",
       "      <td>13.0</td>\n",
       "      <td>1.0</td>\n",
       "      <td>1.0</td>\n",
       "    </tr>\n",
       "    <tr>\n",
       "      <th>BAL</th>\n",
       "      <td>2</td>\n",
       "      <td>76</td>\n",
       "      <td>174</td>\n",
       "      <td>17</td>\n",
       "      <td>51</td>\n",
       "      <td>10</td>\n",
       "      <td>1</td>\n",
       "      <td>1</td>\n",
       "      <td>16.0</td>\n",
       "      <td>1.0</td>\n",
       "      <td>2.0</td>\n",
       "      <td>10</td>\n",
       "      <td>23.0</td>\n",
       "      <td>1.0</td>\n",
       "      <td>0.0</td>\n",
       "      <td>5.0</td>\n",
       "      <td>1.0</td>\n",
       "      <td>5.0</td>\n",
       "    </tr>\n",
       "  </tbody>\n",
       "</table>\n",
       "</div>"
      ],
      "text/plain": [
       "           stint    g   ab   r    h  X2b  X3b  hr   rbi   sb   cs  bb    so  \\\n",
       "year team                                                                     \n",
       "2006 ARI       1  153  586  93  159   52    2  15  73.0  0.0  1.0  69  58.0   \n",
       "     BOS       1   31    2   0    1    0    0   0   0.0  0.0  0.0   0   1.0   \n",
       "     CHN       2   19   50   6   14    1    0   1   2.0  1.0  1.0   4   4.0   \n",
       "     LAN       1   28   26   2    5    1    0   0   0.0  0.0  0.0   1   7.0   \n",
       "     MIL       1   20    3   0    0    0    0   0   0.0  0.0  0.0   0   2.0   \n",
       "     NYA       2   95    6   0    1    0    0   0   0.0  0.0  0.0   0   4.0   \n",
       "     SFN       1  139  426  66  105   21   12   6  40.0  7.0  0.0  46  55.0   \n",
       "2007 ARI       5   46   55   6    9    4    0   0   6.0  0.0  0.0   5  13.0   \n",
       "     ATL       4   92   94   2   15    4    0   0  10.0  0.0  0.0   5  29.0   \n",
       "     BAL       2   76  174  17   51   10    1   1  16.0  1.0  2.0  10  23.0   \n",
       "\n",
       "            ibb  hbp    sh   sf  gidp  \n",
       "year team                              \n",
       "2006 ARI   10.0  7.0   0.0  6.0  14.0  \n",
       "     BOS    0.0  0.0   0.0  0.0   0.0  \n",
       "     CHN    0.0  0.0   3.0  0.0   0.0  \n",
       "     LAN    0.0  0.0   6.0  0.0   1.0  \n",
       "     MIL    0.0  0.0   0.0  0.0   0.0  \n",
       "     NYA    0.0  0.0   0.0  0.0   0.0  \n",
       "     SFN    2.0  2.0   3.0  4.0   6.0  \n",
       "2007 ARI    0.0  0.0   2.0  0.0   1.0  \n",
       "     ATL    1.0  0.0  13.0  1.0   1.0  \n",
       "     BAL    1.0  0.0   5.0  1.0   5.0  "
      ]
     },
     "execution_count": 144,
     "metadata": {},
     "output_type": "execute_result"
    }
   ],
   "source": [
    "bb.groupby(['year', 'team']).sum(numeric_only=True).head(10)"
   ]
  },
  {
   "cell_type": "code",
   "execution_count": 142,
   "id": "ee9bd328",
   "metadata": {},
   "outputs": [
    {
     "data": {
      "text/html": [
       "<div>\n",
       "<style scoped>\n",
       "    .dataframe tbody tr th:only-of-type {\n",
       "        vertical-align: middle;\n",
       "    }\n",
       "\n",
       "    .dataframe tbody tr th {\n",
       "        vertical-align: top;\n",
       "    }\n",
       "\n",
       "    .dataframe thead th {\n",
       "        text-align: right;\n",
       "    }\n",
       "</style>\n",
       "<table border=\"1\" class=\"dataframe\">\n",
       "  <thead>\n",
       "    <tr style=\"text-align: right;\">\n",
       "      <th></th>\n",
       "      <th></th>\n",
       "      <th>stint</th>\n",
       "      <th>g</th>\n",
       "      <th>ab</th>\n",
       "      <th>r</th>\n",
       "      <th>h</th>\n",
       "      <th>X2b</th>\n",
       "      <th>X3b</th>\n",
       "      <th>hr</th>\n",
       "      <th>rbi</th>\n",
       "      <th>sb</th>\n",
       "      <th>cs</th>\n",
       "      <th>bb</th>\n",
       "      <th>so</th>\n",
       "      <th>ibb</th>\n",
       "      <th>hbp</th>\n",
       "      <th>sh</th>\n",
       "      <th>sf</th>\n",
       "      <th>gidp</th>\n",
       "    </tr>\n",
       "    <tr>\n",
       "      <th>year</th>\n",
       "      <th>team</th>\n",
       "      <th></th>\n",
       "      <th></th>\n",
       "      <th></th>\n",
       "      <th></th>\n",
       "      <th></th>\n",
       "      <th></th>\n",
       "      <th></th>\n",
       "      <th></th>\n",
       "      <th></th>\n",
       "      <th></th>\n",
       "      <th></th>\n",
       "      <th></th>\n",
       "      <th></th>\n",
       "      <th></th>\n",
       "      <th></th>\n",
       "      <th></th>\n",
       "      <th></th>\n",
       "      <th></th>\n",
       "    </tr>\n",
       "  </thead>\n",
       "  <tbody>\n",
       "    <tr>\n",
       "      <th rowspan=\"8\" valign=\"top\">2007</th>\n",
       "      <th>CIN</th>\n",
       "      <td>6</td>\n",
       "      <td>379</td>\n",
       "      <td>745</td>\n",
       "      <td>101</td>\n",
       "      <td>203</td>\n",
       "      <td>35</td>\n",
       "      <td>2</td>\n",
       "      <td>36</td>\n",
       "      <td>125.0</td>\n",
       "      <td>10.0</td>\n",
       "      <td>1.0</td>\n",
       "      <td>105</td>\n",
       "      <td>127.0</td>\n",
       "      <td>14.0</td>\n",
       "      <td>1.0</td>\n",
       "      <td>1.0</td>\n",
       "      <td>15.0</td>\n",
       "      <td>18.0</td>\n",
       "    </tr>\n",
       "    <tr>\n",
       "      <th>DET</th>\n",
       "      <td>5</td>\n",
       "      <td>301</td>\n",
       "      <td>1062</td>\n",
       "      <td>162</td>\n",
       "      <td>283</td>\n",
       "      <td>54</td>\n",
       "      <td>4</td>\n",
       "      <td>37</td>\n",
       "      <td>144.0</td>\n",
       "      <td>24.0</td>\n",
       "      <td>7.0</td>\n",
       "      <td>97</td>\n",
       "      <td>176.0</td>\n",
       "      <td>3.0</td>\n",
       "      <td>10.0</td>\n",
       "      <td>4.0</td>\n",
       "      <td>8.0</td>\n",
       "      <td>28.0</td>\n",
       "    </tr>\n",
       "    <tr>\n",
       "      <th>HOU</th>\n",
       "      <td>4</td>\n",
       "      <td>311</td>\n",
       "      <td>926</td>\n",
       "      <td>109</td>\n",
       "      <td>218</td>\n",
       "      <td>47</td>\n",
       "      <td>6</td>\n",
       "      <td>14</td>\n",
       "      <td>77.0</td>\n",
       "      <td>10.0</td>\n",
       "      <td>4.0</td>\n",
       "      <td>60</td>\n",
       "      <td>212.0</td>\n",
       "      <td>3.0</td>\n",
       "      <td>9.0</td>\n",
       "      <td>16.0</td>\n",
       "      <td>6.0</td>\n",
       "      <td>17.0</td>\n",
       "    </tr>\n",
       "    <tr>\n",
       "      <th>LAN</th>\n",
       "      <td>11</td>\n",
       "      <td>413</td>\n",
       "      <td>1021</td>\n",
       "      <td>153</td>\n",
       "      <td>293</td>\n",
       "      <td>61</td>\n",
       "      <td>3</td>\n",
       "      <td>36</td>\n",
       "      <td>154.0</td>\n",
       "      <td>7.0</td>\n",
       "      <td>5.0</td>\n",
       "      <td>114</td>\n",
       "      <td>141.0</td>\n",
       "      <td>8.0</td>\n",
       "      <td>9.0</td>\n",
       "      <td>3.0</td>\n",
       "      <td>8.0</td>\n",
       "      <td>29.0</td>\n",
       "    </tr>\n",
       "    <tr>\n",
       "      <th>NYN</th>\n",
       "      <td>13</td>\n",
       "      <td>622</td>\n",
       "      <td>1854</td>\n",
       "      <td>240</td>\n",
       "      <td>509</td>\n",
       "      <td>101</td>\n",
       "      <td>3</td>\n",
       "      <td>61</td>\n",
       "      <td>243.0</td>\n",
       "      <td>22.0</td>\n",
       "      <td>4.0</td>\n",
       "      <td>174</td>\n",
       "      <td>310.0</td>\n",
       "      <td>24.0</td>\n",
       "      <td>23.0</td>\n",
       "      <td>18.0</td>\n",
       "      <td>15.0</td>\n",
       "      <td>48.0</td>\n",
       "    </tr>\n",
       "    <tr>\n",
       "      <th>SFN</th>\n",
       "      <td>5</td>\n",
       "      <td>482</td>\n",
       "      <td>1305</td>\n",
       "      <td>198</td>\n",
       "      <td>337</td>\n",
       "      <td>67</td>\n",
       "      <td>6</td>\n",
       "      <td>40</td>\n",
       "      <td>171.0</td>\n",
       "      <td>26.0</td>\n",
       "      <td>7.0</td>\n",
       "      <td>235</td>\n",
       "      <td>188.0</td>\n",
       "      <td>51.0</td>\n",
       "      <td>8.0</td>\n",
       "      <td>16.0</td>\n",
       "      <td>6.0</td>\n",
       "      <td>41.0</td>\n",
       "    </tr>\n",
       "    <tr>\n",
       "      <th>TEX</th>\n",
       "      <td>2</td>\n",
       "      <td>198</td>\n",
       "      <td>729</td>\n",
       "      <td>115</td>\n",
       "      <td>200</td>\n",
       "      <td>40</td>\n",
       "      <td>4</td>\n",
       "      <td>28</td>\n",
       "      <td>115.0</td>\n",
       "      <td>21.0</td>\n",
       "      <td>4.0</td>\n",
       "      <td>73</td>\n",
       "      <td>140.0</td>\n",
       "      <td>4.0</td>\n",
       "      <td>5.0</td>\n",
       "      <td>2.0</td>\n",
       "      <td>8.0</td>\n",
       "      <td>16.0</td>\n",
       "    </tr>\n",
       "    <tr>\n",
       "      <th>TOR</th>\n",
       "      <td>4</td>\n",
       "      <td>459</td>\n",
       "      <td>1408</td>\n",
       "      <td>187</td>\n",
       "      <td>378</td>\n",
       "      <td>96</td>\n",
       "      <td>2</td>\n",
       "      <td>58</td>\n",
       "      <td>223.0</td>\n",
       "      <td>4.0</td>\n",
       "      <td>2.0</td>\n",
       "      <td>190</td>\n",
       "      <td>265.0</td>\n",
       "      <td>16.0</td>\n",
       "      <td>12.0</td>\n",
       "      <td>4.0</td>\n",
       "      <td>16.0</td>\n",
       "      <td>38.0</td>\n",
       "    </tr>\n",
       "  </tbody>\n",
       "</table>\n",
       "</div>"
      ],
      "text/plain": [
       "           stint    g    ab    r    h  X2b  X3b  hr    rbi    sb   cs   bb  \\\n",
       "year team                                                                    \n",
       "2007 CIN       6  379   745  101  203   35    2  36  125.0  10.0  1.0  105   \n",
       "     DET       5  301  1062  162  283   54    4  37  144.0  24.0  7.0   97   \n",
       "     HOU       4  311   926  109  218   47    6  14   77.0  10.0  4.0   60   \n",
       "     LAN      11  413  1021  153  293   61    3  36  154.0   7.0  5.0  114   \n",
       "     NYN      13  622  1854  240  509  101    3  61  243.0  22.0  4.0  174   \n",
       "     SFN       5  482  1305  198  337   67    6  40  171.0  26.0  7.0  235   \n",
       "     TEX       2  198   729  115  200   40    4  28  115.0  21.0  4.0   73   \n",
       "     TOR       4  459  1408  187  378   96    2  58  223.0   4.0  2.0  190   \n",
       "\n",
       "              so   ibb   hbp    sh    sf  gidp  \n",
       "year team                                       \n",
       "2007 CIN   127.0  14.0   1.0   1.0  15.0  18.0  \n",
       "     DET   176.0   3.0  10.0   4.0   8.0  28.0  \n",
       "     HOU   212.0   3.0   9.0  16.0   6.0  17.0  \n",
       "     LAN   141.0   8.0   9.0   3.0   8.0  29.0  \n",
       "     NYN   310.0  24.0  23.0  18.0  15.0  48.0  \n",
       "     SFN   188.0  51.0   8.0  16.0   6.0  41.0  \n",
       "     TEX   140.0   4.0   5.0   2.0   8.0  16.0  \n",
       "     TOR   265.0  16.0  12.0   4.0  16.0  38.0  "
      ]
     },
     "execution_count": 142,
     "metadata": {},
     "output_type": "execute_result"
    }
   ],
   "source": [
    "bb = pd.read_csv(r'C:\\Users\\YOSSI\\baseball.csv', index_col='id')\n",
    "\n",
    "(bb.groupby(['year', 'team']).sum(numeric_only=True)\n",
    "\n",
    "   .loc[lambda df: df['r'] > 100])"
   ]
  },
  {
   "cell_type": "code",
   "execution_count": 145,
   "id": "bc31ac05",
   "metadata": {},
   "outputs": [
    {
     "data": {
      "text/html": [
       "<div>\n",
       "<style scoped>\n",
       "    .dataframe tbody tr th:only-of-type {\n",
       "        vertical-align: middle;\n",
       "    }\n",
       "\n",
       "    .dataframe tbody tr th {\n",
       "        vertical-align: top;\n",
       "    }\n",
       "\n",
       "    .dataframe thead th {\n",
       "        text-align: right;\n",
       "    }\n",
       "</style>\n",
       "<table border=\"1\" class=\"dataframe\">\n",
       "  <thead>\n",
       "    <tr style=\"text-align: right;\">\n",
       "      <th></th>\n",
       "      <th>A</th>\n",
       "      <th>B</th>\n",
       "    </tr>\n",
       "  </thead>\n",
       "  <tbody>\n",
       "    <tr>\n",
       "      <th>a</th>\n",
       "      <td>1</td>\n",
       "      <td>4</td>\n",
       "    </tr>\n",
       "    <tr>\n",
       "      <th>b</th>\n",
       "      <td>2</td>\n",
       "      <td>5</td>\n",
       "    </tr>\n",
       "    <tr>\n",
       "      <th>c</th>\n",
       "      <td>3</td>\n",
       "      <td>6</td>\n",
       "    </tr>\n",
       "  </tbody>\n",
       "</table>\n",
       "</div>"
      ],
      "text/plain": [
       "   A  B\n",
       "a  1  4\n",
       "b  2  5\n",
       "c  3  6"
      ]
     },
     "execution_count": 145,
     "metadata": {},
     "output_type": "execute_result"
    }
   ],
   "source": [
    "dfd = pd.DataFrame({'A': [1, 2, 3],\n",
    "\n",
    "                    'B': [4, 5, 6]},\n",
    "\n",
    "                   index=list('abc'))\n",
    "\n",
    "\n",
    "\n",
    "dfd"
   ]
  },
  {
   "cell_type": "code",
   "execution_count": 146,
   "id": "4cd222ca",
   "metadata": {},
   "outputs": [
    {
     "data": {
      "text/plain": [
       "a    1\n",
       "c    3\n",
       "Name: A, dtype: int64"
      ]
     },
     "execution_count": 146,
     "metadata": {},
     "output_type": "execute_result"
    }
   ],
   "source": [
    "dfd.loc[dfd.index[[0, 2]], 'A']"
   ]
  },
  {
   "cell_type": "code",
   "execution_count": 147,
   "id": "8b92cf0b",
   "metadata": {},
   "outputs": [
    {
     "data": {
      "text/plain": [
       "a    1\n",
       "c    3\n",
       "Name: A, dtype: int64"
      ]
     },
     "execution_count": 147,
     "metadata": {},
     "output_type": "execute_result"
    }
   ],
   "source": [
    "dfd.iloc[[0, 2], dfd.columns.get_loc('A')]"
   ]
  },
  {
   "cell_type": "code",
   "execution_count": 148,
   "id": "f7b6f43d",
   "metadata": {},
   "outputs": [
    {
     "data": {
      "text/html": [
       "<div>\n",
       "<style scoped>\n",
       "    .dataframe tbody tr th:only-of-type {\n",
       "        vertical-align: middle;\n",
       "    }\n",
       "\n",
       "    .dataframe tbody tr th {\n",
       "        vertical-align: top;\n",
       "    }\n",
       "\n",
       "    .dataframe thead th {\n",
       "        text-align: right;\n",
       "    }\n",
       "</style>\n",
       "<table border=\"1\" class=\"dataframe\">\n",
       "  <thead>\n",
       "    <tr style=\"text-align: right;\">\n",
       "      <th></th>\n",
       "      <th>A</th>\n",
       "      <th>B</th>\n",
       "    </tr>\n",
       "  </thead>\n",
       "  <tbody>\n",
       "    <tr>\n",
       "      <th>a</th>\n",
       "      <td>1</td>\n",
       "      <td>4</td>\n",
       "    </tr>\n",
       "    <tr>\n",
       "      <th>c</th>\n",
       "      <td>3</td>\n",
       "      <td>6</td>\n",
       "    </tr>\n",
       "  </tbody>\n",
       "</table>\n",
       "</div>"
      ],
      "text/plain": [
       "   A  B\n",
       "a  1  4\n",
       "c  3  6"
      ]
     },
     "execution_count": 148,
     "metadata": {},
     "output_type": "execute_result"
    }
   ],
   "source": [
    "dfd.iloc[[0, 2], dfd.columns.get_indexer(['A', 'B'])]"
   ]
  },
  {
   "cell_type": "code",
   "execution_count": 150,
   "id": "1197739e",
   "metadata": {},
   "outputs": [
    {
     "data": {
      "text/plain": [
       "0    1\n",
       "1    2\n",
       "2    3\n",
       "dtype: int64"
      ]
     },
     "execution_count": 150,
     "metadata": {},
     "output_type": "execute_result"
    }
   ],
   "source": [
    "s = pd.Series([1, 2, 3])\n",
    "s"
   ]
  },
  {
   "cell_type": "code",
   "execution_count": 151,
   "id": "3b02858b",
   "metadata": {},
   "outputs": [
    {
     "data": {
      "text/plain": [
       "1    2.0\n",
       "2    3.0\n",
       "3    NaN\n",
       "dtype: float64"
      ]
     },
     "execution_count": 151,
     "metadata": {},
     "output_type": "execute_result"
    }
   ],
   "source": [
    "s.reindex([1, 2, 3])"
   ]
  },
  {
   "cell_type": "code",
   "execution_count": 152,
   "id": "68dac6c2",
   "metadata": {},
   "outputs": [
    {
     "data": {
      "text/plain": [
       "1    2\n",
       "2    3\n",
       "dtype: int64"
      ]
     },
     "execution_count": 152,
     "metadata": {},
     "output_type": "execute_result"
    }
   ],
   "source": [
    "labels = [1, 2, 3]\n",
    "\n",
    "s.loc[s.index.intersection(labels)]"
   ]
  },
  {
   "cell_type": "code",
   "execution_count": 154,
   "id": "1136df05",
   "metadata": {},
   "outputs": [],
   "source": [
    "s = pd.Series(np.arange(4), index=['a', 'a', 'b', 'c'])\n",
    "\n",
    "labels = ['c', 'd']"
   ]
  },
  {
   "cell_type": "code",
   "execution_count": 155,
   "id": "daf6fac3",
   "metadata": {},
   "outputs": [
    {
     "data": {
      "text/plain": [
       "a    0\n",
       "a    1\n",
       "b    2\n",
       "c    3\n",
       "dtype: int32"
      ]
     },
     "execution_count": 155,
     "metadata": {},
     "output_type": "execute_result"
    }
   ],
   "source": [
    "s"
   ]
  },
  {
   "cell_type": "code",
   "execution_count": 156,
   "id": "fd7a0e2c",
   "metadata": {},
   "outputs": [
    {
     "data": {
      "text/plain": [
       "c    3.0\n",
       "d    NaN\n",
       "dtype: float64"
      ]
     },
     "execution_count": 156,
     "metadata": {},
     "output_type": "execute_result"
    }
   ],
   "source": [
    "s.loc[s.index.intersection(labels)].reindex(labels)"
   ]
  },
  {
   "cell_type": "code",
   "execution_count": 158,
   "id": "a9af7276",
   "metadata": {},
   "outputs": [
    {
     "data": {
      "text/plain": [
       "0    0\n",
       "1    1\n",
       "2    2\n",
       "3    3\n",
       "4    4\n",
       "5    5\n",
       "dtype: int64"
      ]
     },
     "execution_count": 158,
     "metadata": {},
     "output_type": "execute_result"
    }
   ],
   "source": [
    "s = pd.Series([0, 1, 2, 3, 4, 5])\n",
    "s"
   ]
  },
  {
   "cell_type": "code",
   "execution_count": 159,
   "id": "01e36aa1",
   "metadata": {},
   "outputs": [
    {
     "data": {
      "text/plain": [
       "1    1\n",
       "dtype: int64"
      ]
     },
     "execution_count": 159,
     "metadata": {},
     "output_type": "execute_result"
    }
   ],
   "source": [
    "# When no arguments are passed, returns 1 row.\n",
    "\n",
    "s.sample()"
   ]
  },
  {
   "cell_type": "code",
   "execution_count": 160,
   "id": "22bba985",
   "metadata": {},
   "outputs": [
    {
     "data": {
      "text/plain": [
       "5    5\n",
       "0    0\n",
       "3    3\n",
       "dtype: int64"
      ]
     },
     "execution_count": 160,
     "metadata": {},
     "output_type": "execute_result"
    }
   ],
   "source": [
    "# One may specify either a number of rows:\n",
    "\n",
    "s.sample(n=3)"
   ]
  },
  {
   "cell_type": "code",
   "execution_count": 161,
   "id": "59a7c342",
   "metadata": {},
   "outputs": [
    {
     "data": {
      "text/plain": [
       "0    0\n",
       "2    2\n",
       "4    4\n",
       "dtype: int64"
      ]
     },
     "execution_count": 161,
     "metadata": {},
     "output_type": "execute_result"
    }
   ],
   "source": [
    "# Or a fraction of the rows:\n",
    "\n",
    "s.sample(frac=0.5)"
   ]
  },
  {
   "cell_type": "code",
   "execution_count": 162,
   "id": "00dca536",
   "metadata": {},
   "outputs": [
    {
     "data": {
      "text/plain": [
       "4    4\n",
       "2    2\n",
       "5    5\n",
       "3    3\n",
       "1    1\n",
       "0    0\n",
       "dtype: int64"
      ]
     },
     "execution_count": 162,
     "metadata": {},
     "output_type": "execute_result"
    }
   ],
   "source": [
    "s = pd.Series([0, 1, 2, 3, 4, 5])\n",
    "\n",
    "# Without replacement (default):\n",
    "\n",
    "s.sample(n=6, replace=False)"
   ]
  },
  {
   "cell_type": "code",
   "execution_count": 163,
   "id": "040d2e72",
   "metadata": {},
   "outputs": [
    {
     "data": {
      "text/plain": [
       "4    4\n",
       "5    5\n",
       "0    0\n",
       "3    3\n",
       "0    0\n",
       "2    2\n",
       "dtype: int64"
      ]
     },
     "execution_count": 163,
     "metadata": {},
     "output_type": "execute_result"
    }
   ],
   "source": [
    "# With replacement:\n",
    "\n",
    "s.sample(n=6, replace=True)"
   ]
  },
  {
   "cell_type": "code",
   "execution_count": 164,
   "id": "bbed3f62",
   "metadata": {},
   "outputs": [
    {
     "data": {
      "text/plain": [
       "5    5\n",
       "4    4\n",
       "3    3\n",
       "dtype: int64"
      ]
     },
     "execution_count": 164,
     "metadata": {},
     "output_type": "execute_result"
    }
   ],
   "source": [
    "s = pd.Series([0, 1, 2, 3, 4, 5])\n",
    "\n",
    "example_weights = [0, 0, 0.2, 0.2, 0.2, 0.4]\n",
    "\n",
    "s.sample(n=3, weights=example_weights)"
   ]
  },
  {
   "cell_type": "code",
   "execution_count": 165,
   "id": "6655558c",
   "metadata": {},
   "outputs": [
    {
     "data": {
      "text/plain": [
       "0    0\n",
       "dtype: int64"
      ]
     },
     "execution_count": 165,
     "metadata": {},
     "output_type": "execute_result"
    }
   ],
   "source": [
    "# Weights will be re-normalized automatically\n",
    "\n",
    "example_weights2 = [0.5, 0, 0, 0, 0, 0]\n",
    "\n",
    "s.sample(n=1, weights=example_weights2)"
   ]
  },
  {
   "cell_type": "code",
   "execution_count": 166,
   "id": "e2b5837e",
   "metadata": {},
   "outputs": [
    {
     "data": {
      "text/html": [
       "<div>\n",
       "<style scoped>\n",
       "    .dataframe tbody tr th:only-of-type {\n",
       "        vertical-align: middle;\n",
       "    }\n",
       "\n",
       "    .dataframe tbody tr th {\n",
       "        vertical-align: top;\n",
       "    }\n",
       "\n",
       "    .dataframe thead th {\n",
       "        text-align: right;\n",
       "    }\n",
       "</style>\n",
       "<table border=\"1\" class=\"dataframe\">\n",
       "  <thead>\n",
       "    <tr style=\"text-align: right;\">\n",
       "      <th></th>\n",
       "      <th>col1</th>\n",
       "      <th>weight_column</th>\n",
       "    </tr>\n",
       "  </thead>\n",
       "  <tbody>\n",
       "    <tr>\n",
       "      <th>1</th>\n",
       "      <td>8</td>\n",
       "      <td>0.4</td>\n",
       "    </tr>\n",
       "    <tr>\n",
       "      <th>0</th>\n",
       "      <td>9</td>\n",
       "      <td>0.5</td>\n",
       "    </tr>\n",
       "    <tr>\n",
       "      <th>2</th>\n",
       "      <td>7</td>\n",
       "      <td>0.1</td>\n",
       "    </tr>\n",
       "  </tbody>\n",
       "</table>\n",
       "</div>"
      ],
      "text/plain": [
       "   col1  weight_column\n",
       "1     8            0.4\n",
       "0     9            0.5\n",
       "2     7            0.1"
      ]
     },
     "execution_count": 166,
     "metadata": {},
     "output_type": "execute_result"
    }
   ],
   "source": [
    "df2 = pd.DataFrame({'col1': [9, 8, 7, 6],\n",
    "\n",
    "                    'weight_column': [0.5, 0.4, 0.1, 0]})\n",
    "\n",
    "\n",
    "\n",
    "df2.sample(n=3, weights='weight_column')"
   ]
  },
  {
   "cell_type": "code",
   "execution_count": 167,
   "id": "76f0980f",
   "metadata": {},
   "outputs": [
    {
     "data": {
      "text/html": [
       "<div>\n",
       "<style scoped>\n",
       "    .dataframe tbody tr th:only-of-type {\n",
       "        vertical-align: middle;\n",
       "    }\n",
       "\n",
       "    .dataframe tbody tr th {\n",
       "        vertical-align: top;\n",
       "    }\n",
       "\n",
       "    .dataframe thead th {\n",
       "        text-align: right;\n",
       "    }\n",
       "</style>\n",
       "<table border=\"1\" class=\"dataframe\">\n",
       "  <thead>\n",
       "    <tr style=\"text-align: right;\">\n",
       "      <th></th>\n",
       "      <th>col2</th>\n",
       "    </tr>\n",
       "  </thead>\n",
       "  <tbody>\n",
       "    <tr>\n",
       "      <th>0</th>\n",
       "      <td>2</td>\n",
       "    </tr>\n",
       "    <tr>\n",
       "      <th>1</th>\n",
       "      <td>3</td>\n",
       "    </tr>\n",
       "    <tr>\n",
       "      <th>2</th>\n",
       "      <td>4</td>\n",
       "    </tr>\n",
       "  </tbody>\n",
       "</table>\n",
       "</div>"
      ],
      "text/plain": [
       "   col2\n",
       "0     2\n",
       "1     3\n",
       "2     4"
      ]
     },
     "execution_count": 167,
     "metadata": {},
     "output_type": "execute_result"
    }
   ],
   "source": [
    "df3 = pd.DataFrame({'col1': [1, 2, 3], 'col2': [2, 3, 4]})\n",
    "\n",
    "df3.sample(n=1, axis=1)"
   ]
  },
  {
   "cell_type": "code",
   "execution_count": 169,
   "id": "b51cac29",
   "metadata": {},
   "outputs": [
    {
     "data": {
      "text/html": [
       "<div>\n",
       "<style scoped>\n",
       "    .dataframe tbody tr th:only-of-type {\n",
       "        vertical-align: middle;\n",
       "    }\n",
       "\n",
       "    .dataframe tbody tr th {\n",
       "        vertical-align: top;\n",
       "    }\n",
       "\n",
       "    .dataframe thead th {\n",
       "        text-align: right;\n",
       "    }\n",
       "</style>\n",
       "<table border=\"1\" class=\"dataframe\">\n",
       "  <thead>\n",
       "    <tr style=\"text-align: right;\">\n",
       "      <th></th>\n",
       "      <th>col1</th>\n",
       "      <th>col2</th>\n",
       "    </tr>\n",
       "  </thead>\n",
       "  <tbody>\n",
       "    <tr>\n",
       "      <th>2</th>\n",
       "      <td>3</td>\n",
       "      <td>4</td>\n",
       "    </tr>\n",
       "    <tr>\n",
       "      <th>1</th>\n",
       "      <td>2</td>\n",
       "      <td>3</td>\n",
       "    </tr>\n",
       "  </tbody>\n",
       "</table>\n",
       "</div>"
      ],
      "text/plain": [
       "   col1  col2\n",
       "2     3     4\n",
       "1     2     3"
      ]
     },
     "execution_count": 169,
     "metadata": {},
     "output_type": "execute_result"
    }
   ],
   "source": [
    "df4 = pd.DataFrame({'col1': [1, 2, 3], 'col2': [2, 3, 4]})\n",
    "\n",
    "# With a given seed, the sample will always draw the same rows.\n",
    "\n",
    "df4.sample(n=2, random_state=2)"
   ]
  },
  {
   "cell_type": "code",
   "execution_count": 170,
   "id": "049031c2",
   "metadata": {},
   "outputs": [
    {
     "data": {
      "text/html": [
       "<div>\n",
       "<style scoped>\n",
       "    .dataframe tbody tr th:only-of-type {\n",
       "        vertical-align: middle;\n",
       "    }\n",
       "\n",
       "    .dataframe tbody tr th {\n",
       "        vertical-align: top;\n",
       "    }\n",
       "\n",
       "    .dataframe thead th {\n",
       "        text-align: right;\n",
       "    }\n",
       "</style>\n",
       "<table border=\"1\" class=\"dataframe\">\n",
       "  <thead>\n",
       "    <tr style=\"text-align: right;\">\n",
       "      <th></th>\n",
       "      <th>col1</th>\n",
       "      <th>col2</th>\n",
       "    </tr>\n",
       "  </thead>\n",
       "  <tbody>\n",
       "    <tr>\n",
       "      <th>2</th>\n",
       "      <td>3</td>\n",
       "      <td>4</td>\n",
       "    </tr>\n",
       "    <tr>\n",
       "      <th>1</th>\n",
       "      <td>2</td>\n",
       "      <td>3</td>\n",
       "    </tr>\n",
       "  </tbody>\n",
       "</table>\n",
       "</div>"
      ],
      "text/plain": [
       "   col1  col2\n",
       "2     3     4\n",
       "1     2     3"
      ]
     },
     "execution_count": 170,
     "metadata": {},
     "output_type": "execute_result"
    }
   ],
   "source": [
    "df4.sample(n=2, random_state=2)"
   ]
  },
  {
   "cell_type": "code",
   "execution_count": 171,
   "id": "d6bb77eb",
   "metadata": {},
   "outputs": [
    {
     "data": {
      "text/plain": [
       "0    1\n",
       "1    2\n",
       "2    3\n",
       "dtype: int64"
      ]
     },
     "execution_count": 171,
     "metadata": {},
     "output_type": "execute_result"
    }
   ],
   "source": [
    "se = pd.Series([1, 2, 3])\n",
    "\n",
    "se"
   ]
  },
  {
   "cell_type": "code",
   "execution_count": 172,
   "id": "a807fd26",
   "metadata": {},
   "outputs": [],
   "source": [
    "se[5] = 5."
   ]
  },
  {
   "cell_type": "code",
   "execution_count": 173,
   "id": "c15a9b70",
   "metadata": {},
   "outputs": [
    {
     "data": {
      "text/plain": [
       "0    1.0\n",
       "1    2.0\n",
       "2    3.0\n",
       "5    5.0\n",
       "dtype: float64"
      ]
     },
     "execution_count": 173,
     "metadata": {},
     "output_type": "execute_result"
    }
   ],
   "source": [
    "se"
   ]
  },
  {
   "cell_type": "code",
   "execution_count": 174,
   "id": "635727b8",
   "metadata": {},
   "outputs": [
    {
     "data": {
      "text/html": [
       "<div>\n",
       "<style scoped>\n",
       "    .dataframe tbody tr th:only-of-type {\n",
       "        vertical-align: middle;\n",
       "    }\n",
       "\n",
       "    .dataframe tbody tr th {\n",
       "        vertical-align: top;\n",
       "    }\n",
       "\n",
       "    .dataframe thead th {\n",
       "        text-align: right;\n",
       "    }\n",
       "</style>\n",
       "<table border=\"1\" class=\"dataframe\">\n",
       "  <thead>\n",
       "    <tr style=\"text-align: right;\">\n",
       "      <th></th>\n",
       "      <th>A</th>\n",
       "      <th>B</th>\n",
       "    </tr>\n",
       "  </thead>\n",
       "  <tbody>\n",
       "    <tr>\n",
       "      <th>0</th>\n",
       "      <td>0</td>\n",
       "      <td>1</td>\n",
       "    </tr>\n",
       "    <tr>\n",
       "      <th>1</th>\n",
       "      <td>2</td>\n",
       "      <td>3</td>\n",
       "    </tr>\n",
       "    <tr>\n",
       "      <th>2</th>\n",
       "      <td>4</td>\n",
       "      <td>5</td>\n",
       "    </tr>\n",
       "  </tbody>\n",
       "</table>\n",
       "</div>"
      ],
      "text/plain": [
       "   A  B\n",
       "0  0  1\n",
       "1  2  3\n",
       "2  4  5"
      ]
     },
     "execution_count": 174,
     "metadata": {},
     "output_type": "execute_result"
    }
   ],
   "source": [
    "dfi = pd.DataFrame(np.arange(6).reshape(3, 2),\n",
    "\n",
    "                   columns=['A', 'B'])\n",
    "\n",
    "\n",
    "\n",
    "dfi"
   ]
  },
  {
   "cell_type": "code",
   "execution_count": 175,
   "id": "feb5d380",
   "metadata": {},
   "outputs": [],
   "source": [
    "dfi.loc[:, 'C'] = dfi.loc[:, 'A']"
   ]
  },
  {
   "cell_type": "code",
   "execution_count": 176,
   "id": "55d267e0",
   "metadata": {
    "scrolled": true
   },
   "outputs": [
    {
     "data": {
      "text/html": [
       "<div>\n",
       "<style scoped>\n",
       "    .dataframe tbody tr th:only-of-type {\n",
       "        vertical-align: middle;\n",
       "    }\n",
       "\n",
       "    .dataframe tbody tr th {\n",
       "        vertical-align: top;\n",
       "    }\n",
       "\n",
       "    .dataframe thead th {\n",
       "        text-align: right;\n",
       "    }\n",
       "</style>\n",
       "<table border=\"1\" class=\"dataframe\">\n",
       "  <thead>\n",
       "    <tr style=\"text-align: right;\">\n",
       "      <th></th>\n",
       "      <th>A</th>\n",
       "      <th>B</th>\n",
       "      <th>C</th>\n",
       "    </tr>\n",
       "  </thead>\n",
       "  <tbody>\n",
       "    <tr>\n",
       "      <th>0</th>\n",
       "      <td>0</td>\n",
       "      <td>1</td>\n",
       "      <td>0</td>\n",
       "    </tr>\n",
       "    <tr>\n",
       "      <th>1</th>\n",
       "      <td>2</td>\n",
       "      <td>3</td>\n",
       "      <td>2</td>\n",
       "    </tr>\n",
       "    <tr>\n",
       "      <th>2</th>\n",
       "      <td>4</td>\n",
       "      <td>5</td>\n",
       "      <td>4</td>\n",
       "    </tr>\n",
       "  </tbody>\n",
       "</table>\n",
       "</div>"
      ],
      "text/plain": [
       "   A  B  C\n",
       "0  0  1  0\n",
       "1  2  3  2\n",
       "2  4  5  4"
      ]
     },
     "execution_count": 176,
     "metadata": {},
     "output_type": "execute_result"
    }
   ],
   "source": [
    "dfi"
   ]
  },
  {
   "cell_type": "code",
   "execution_count": 177,
   "id": "710dc905",
   "metadata": {},
   "outputs": [
    {
     "data": {
      "text/html": [
       "<div>\n",
       "<style scoped>\n",
       "    .dataframe tbody tr th:only-of-type {\n",
       "        vertical-align: middle;\n",
       "    }\n",
       "\n",
       "    .dataframe tbody tr th {\n",
       "        vertical-align: top;\n",
       "    }\n",
       "\n",
       "    .dataframe thead th {\n",
       "        text-align: right;\n",
       "    }\n",
       "</style>\n",
       "<table border=\"1\" class=\"dataframe\">\n",
       "  <thead>\n",
       "    <tr style=\"text-align: right;\">\n",
       "      <th></th>\n",
       "      <th>A</th>\n",
       "      <th>B</th>\n",
       "      <th>C</th>\n",
       "    </tr>\n",
       "  </thead>\n",
       "  <tbody>\n",
       "    <tr>\n",
       "      <th>0</th>\n",
       "      <td>0</td>\n",
       "      <td>1</td>\n",
       "      <td>0</td>\n",
       "    </tr>\n",
       "    <tr>\n",
       "      <th>1</th>\n",
       "      <td>2</td>\n",
       "      <td>3</td>\n",
       "      <td>2</td>\n",
       "    </tr>\n",
       "    <tr>\n",
       "      <th>2</th>\n",
       "      <td>4</td>\n",
       "      <td>5</td>\n",
       "      <td>4</td>\n",
       "    </tr>\n",
       "    <tr>\n",
       "      <th>3</th>\n",
       "      <td>5</td>\n",
       "      <td>5</td>\n",
       "      <td>5</td>\n",
       "    </tr>\n",
       "  </tbody>\n",
       "</table>\n",
       "</div>"
      ],
      "text/plain": [
       "   A  B  C\n",
       "0  0  1  0\n",
       "1  2  3  2\n",
       "2  4  5  4\n",
       "3  5  5  5"
      ]
     },
     "execution_count": 177,
     "metadata": {},
     "output_type": "execute_result"
    }
   ],
   "source": [
    "dfi.loc[3] = 5\n",
    "\n",
    "dfi"
   ]
  },
  {
   "cell_type": "code",
   "execution_count": 178,
   "id": "a8658b47",
   "metadata": {},
   "outputs": [
    {
     "data": {
      "text/plain": [
       "0    0\n",
       "1    1\n",
       "2    2\n",
       "3    3\n",
       "4    4\n",
       "5    5\n",
       "dtype: int64"
      ]
     },
     "execution_count": 178,
     "metadata": {},
     "output_type": "execute_result"
    }
   ],
   "source": [
    "s"
   ]
  },
  {
   "cell_type": "code",
   "execution_count": 179,
   "id": "5def2471",
   "metadata": {},
   "outputs": [
    {
     "data": {
      "text/plain": [
       "5"
      ]
     },
     "execution_count": 179,
     "metadata": {},
     "output_type": "execute_result"
    }
   ],
   "source": [
    "s.iat[5]"
   ]
  },
  {
   "cell_type": "code",
   "execution_count": 180,
   "id": "258ae79c",
   "metadata": {},
   "outputs": [
    {
     "data": {
      "text/plain": [
       "-0.3377502112409749"
      ]
     },
     "execution_count": 180,
     "metadata": {},
     "output_type": "execute_result"
    }
   ],
   "source": [
    "df.at[dates[5], 'A']"
   ]
  },
  {
   "cell_type": "code",
   "execution_count": 181,
   "id": "d274a7b5",
   "metadata": {},
   "outputs": [
    {
     "data": {
      "text/plain": [
       "-0.06460485189545025"
      ]
     },
     "execution_count": 181,
     "metadata": {},
     "output_type": "execute_result"
    }
   ],
   "source": [
    "df.iat[3, 0]"
   ]
  },
  {
   "cell_type": "code",
   "execution_count": 182,
   "id": "bae33a20",
   "metadata": {},
   "outputs": [],
   "source": [
    "df.at[dates[5], 'E'] = 7\n",
    "\n",
    "df.iat[3, 0] = 7"
   ]
  },
  {
   "cell_type": "code",
   "execution_count": 183,
   "id": "c6403858",
   "metadata": {},
   "outputs": [
    {
     "data": {
      "text/html": [
       "<div>\n",
       "<style scoped>\n",
       "    .dataframe tbody tr th:only-of-type {\n",
       "        vertical-align: middle;\n",
       "    }\n",
       "\n",
       "    .dataframe tbody tr th {\n",
       "        vertical-align: top;\n",
       "    }\n",
       "\n",
       "    .dataframe thead th {\n",
       "        text-align: right;\n",
       "    }\n",
       "</style>\n",
       "<table border=\"1\" class=\"dataframe\">\n",
       "  <thead>\n",
       "    <tr style=\"text-align: right;\">\n",
       "      <th></th>\n",
       "      <th>A</th>\n",
       "      <th>B</th>\n",
       "      <th>C</th>\n",
       "      <th>D</th>\n",
       "      <th>E</th>\n",
       "    </tr>\n",
       "  </thead>\n",
       "  <tbody>\n",
       "    <tr>\n",
       "      <th>2000-01-01</th>\n",
       "      <td>-0.018492</td>\n",
       "      <td>0.704924</td>\n",
       "      <td>0.761786</td>\n",
       "      <td>1.084438</td>\n",
       "      <td>NaN</td>\n",
       "    </tr>\n",
       "    <tr>\n",
       "      <th>2000-01-02</th>\n",
       "      <td>0.497136</td>\n",
       "      <td>-0.114484</td>\n",
       "      <td>1.184610</td>\n",
       "      <td>0.756158</td>\n",
       "      <td>NaN</td>\n",
       "    </tr>\n",
       "    <tr>\n",
       "      <th>2000-01-03</th>\n",
       "      <td>-0.116372</td>\n",
       "      <td>-0.708337</td>\n",
       "      <td>0.949433</td>\n",
       "      <td>0.054825</td>\n",
       "      <td>NaN</td>\n",
       "    </tr>\n",
       "    <tr>\n",
       "      <th>2000-01-04</th>\n",
       "      <td>7.000000</td>\n",
       "      <td>-0.689296</td>\n",
       "      <td>0.310550</td>\n",
       "      <td>0.471620</td>\n",
       "      <td>NaN</td>\n",
       "    </tr>\n",
       "    <tr>\n",
       "      <th>2000-01-05</th>\n",
       "      <td>0.207694</td>\n",
       "      <td>-0.818026</td>\n",
       "      <td>0.359911</td>\n",
       "      <td>0.346075</td>\n",
       "      <td>NaN</td>\n",
       "    </tr>\n",
       "    <tr>\n",
       "      <th>2000-01-06</th>\n",
       "      <td>-0.337750</td>\n",
       "      <td>0.812771</td>\n",
       "      <td>0.645985</td>\n",
       "      <td>0.119537</td>\n",
       "      <td>7.0</td>\n",
       "    </tr>\n",
       "    <tr>\n",
       "      <th>2000-01-07</th>\n",
       "      <td>-0.844191</td>\n",
       "      <td>-0.117398</td>\n",
       "      <td>-0.905368</td>\n",
       "      <td>-0.365953</td>\n",
       "      <td>NaN</td>\n",
       "    </tr>\n",
       "    <tr>\n",
       "      <th>2000-01-08</th>\n",
       "      <td>-0.121758</td>\n",
       "      <td>0.439313</td>\n",
       "      <td>-0.726344</td>\n",
       "      <td>0.969090</td>\n",
       "      <td>NaN</td>\n",
       "    </tr>\n",
       "  </tbody>\n",
       "</table>\n",
       "</div>"
      ],
      "text/plain": [
       "                   A         B         C         D    E\n",
       "2000-01-01 -0.018492  0.704924  0.761786  1.084438  NaN\n",
       "2000-01-02  0.497136 -0.114484  1.184610  0.756158  NaN\n",
       "2000-01-03 -0.116372 -0.708337  0.949433  0.054825  NaN\n",
       "2000-01-04  7.000000 -0.689296  0.310550  0.471620  NaN\n",
       "2000-01-05  0.207694 -0.818026  0.359911  0.346075  NaN\n",
       "2000-01-06 -0.337750  0.812771  0.645985  0.119537  7.0\n",
       "2000-01-07 -0.844191 -0.117398 -0.905368 -0.365953  NaN\n",
       "2000-01-08 -0.121758  0.439313 -0.726344  0.969090  NaN"
      ]
     },
     "execution_count": 183,
     "metadata": {},
     "output_type": "execute_result"
    }
   ],
   "source": [
    "df"
   ]
  },
  {
   "cell_type": "code",
   "execution_count": 184,
   "id": "e920eecc",
   "metadata": {},
   "outputs": [
    {
     "data": {
      "text/html": [
       "<div>\n",
       "<style scoped>\n",
       "    .dataframe tbody tr th:only-of-type {\n",
       "        vertical-align: middle;\n",
       "    }\n",
       "\n",
       "    .dataframe tbody tr th {\n",
       "        vertical-align: top;\n",
       "    }\n",
       "\n",
       "    .dataframe thead th {\n",
       "        text-align: right;\n",
       "    }\n",
       "</style>\n",
       "<table border=\"1\" class=\"dataframe\">\n",
       "  <thead>\n",
       "    <tr style=\"text-align: right;\">\n",
       "      <th></th>\n",
       "      <th>A</th>\n",
       "      <th>B</th>\n",
       "      <th>C</th>\n",
       "      <th>D</th>\n",
       "      <th>E</th>\n",
       "      <th>0</th>\n",
       "    </tr>\n",
       "  </thead>\n",
       "  <tbody>\n",
       "    <tr>\n",
       "      <th>2000-01-01</th>\n",
       "      <td>-0.018492</td>\n",
       "      <td>0.704924</td>\n",
       "      <td>0.761786</td>\n",
       "      <td>1.084438</td>\n",
       "      <td>NaN</td>\n",
       "      <td>NaN</td>\n",
       "    </tr>\n",
       "    <tr>\n",
       "      <th>2000-01-02</th>\n",
       "      <td>0.497136</td>\n",
       "      <td>-0.114484</td>\n",
       "      <td>1.184610</td>\n",
       "      <td>0.756158</td>\n",
       "      <td>NaN</td>\n",
       "      <td>NaN</td>\n",
       "    </tr>\n",
       "    <tr>\n",
       "      <th>2000-01-03</th>\n",
       "      <td>-0.116372</td>\n",
       "      <td>-0.708337</td>\n",
       "      <td>0.949433</td>\n",
       "      <td>0.054825</td>\n",
       "      <td>NaN</td>\n",
       "      <td>NaN</td>\n",
       "    </tr>\n",
       "    <tr>\n",
       "      <th>2000-01-04</th>\n",
       "      <td>7.000000</td>\n",
       "      <td>-0.689296</td>\n",
       "      <td>0.310550</td>\n",
       "      <td>0.471620</td>\n",
       "      <td>NaN</td>\n",
       "      <td>NaN</td>\n",
       "    </tr>\n",
       "    <tr>\n",
       "      <th>2000-01-05</th>\n",
       "      <td>0.207694</td>\n",
       "      <td>-0.818026</td>\n",
       "      <td>0.359911</td>\n",
       "      <td>0.346075</td>\n",
       "      <td>NaN</td>\n",
       "      <td>NaN</td>\n",
       "    </tr>\n",
       "    <tr>\n",
       "      <th>2000-01-06</th>\n",
       "      <td>-0.337750</td>\n",
       "      <td>0.812771</td>\n",
       "      <td>0.645985</td>\n",
       "      <td>0.119537</td>\n",
       "      <td>7.0</td>\n",
       "      <td>NaN</td>\n",
       "    </tr>\n",
       "    <tr>\n",
       "      <th>2000-01-07</th>\n",
       "      <td>-0.844191</td>\n",
       "      <td>-0.117398</td>\n",
       "      <td>-0.905368</td>\n",
       "      <td>-0.365953</td>\n",
       "      <td>NaN</td>\n",
       "      <td>NaN</td>\n",
       "    </tr>\n",
       "    <tr>\n",
       "      <th>2000-01-08</th>\n",
       "      <td>-0.121758</td>\n",
       "      <td>0.439313</td>\n",
       "      <td>-0.726344</td>\n",
       "      <td>0.969090</td>\n",
       "      <td>NaN</td>\n",
       "      <td>NaN</td>\n",
       "    </tr>\n",
       "    <tr>\n",
       "      <th>2000-01-09</th>\n",
       "      <td>NaN</td>\n",
       "      <td>NaN</td>\n",
       "      <td>NaN</td>\n",
       "      <td>NaN</td>\n",
       "      <td>NaN</td>\n",
       "      <td>7.0</td>\n",
       "    </tr>\n",
       "  </tbody>\n",
       "</table>\n",
       "</div>"
      ],
      "text/plain": [
       "                   A         B         C         D    E    0\n",
       "2000-01-01 -0.018492  0.704924  0.761786  1.084438  NaN  NaN\n",
       "2000-01-02  0.497136 -0.114484  1.184610  0.756158  NaN  NaN\n",
       "2000-01-03 -0.116372 -0.708337  0.949433  0.054825  NaN  NaN\n",
       "2000-01-04  7.000000 -0.689296  0.310550  0.471620  NaN  NaN\n",
       "2000-01-05  0.207694 -0.818026  0.359911  0.346075  NaN  NaN\n",
       "2000-01-06 -0.337750  0.812771  0.645985  0.119537  7.0  NaN\n",
       "2000-01-07 -0.844191 -0.117398 -0.905368 -0.365953  NaN  NaN\n",
       "2000-01-08 -0.121758  0.439313 -0.726344  0.969090  NaN  NaN\n",
       "2000-01-09       NaN       NaN       NaN       NaN  NaN  7.0"
      ]
     },
     "execution_count": 184,
     "metadata": {},
     "output_type": "execute_result"
    }
   ],
   "source": [
    "df.at[dates[-1] + pd.Timedelta('1 day'), 0] = 7\n",
    "\n",
    "df"
   ]
  },
  {
   "cell_type": "code",
   "execution_count": 185,
   "id": "d1beac4a",
   "metadata": {},
   "outputs": [
    {
     "data": {
      "text/plain": [
       "0   -3\n",
       "1   -2\n",
       "2   -1\n",
       "3    0\n",
       "4    1\n",
       "5    2\n",
       "6    3\n",
       "dtype: int64"
      ]
     },
     "execution_count": 185,
     "metadata": {},
     "output_type": "execute_result"
    }
   ],
   "source": [
    "s = pd.Series(range(-3, 4))\n",
    "\n",
    "s"
   ]
  },
  {
   "cell_type": "code",
   "execution_count": 186,
   "id": "e97c8e9a",
   "metadata": {},
   "outputs": [
    {
     "data": {
      "text/plain": [
       "4    1\n",
       "5    2\n",
       "6    3\n",
       "dtype: int64"
      ]
     },
     "execution_count": 186,
     "metadata": {},
     "output_type": "execute_result"
    }
   ],
   "source": [
    "s[s > 0]"
   ]
  },
  {
   "cell_type": "code",
   "execution_count": 187,
   "id": "9612ef2f",
   "metadata": {},
   "outputs": [
    {
     "data": {
      "text/plain": [
       "0   -3\n",
       "1   -2\n",
       "4    1\n",
       "5    2\n",
       "6    3\n",
       "dtype: int64"
      ]
     },
     "execution_count": 187,
     "metadata": {},
     "output_type": "execute_result"
    }
   ],
   "source": [
    "s[(s < -1) | (s > 0.5)]"
   ]
  },
  {
   "cell_type": "code",
   "execution_count": 188,
   "id": "884cb3da",
   "metadata": {},
   "outputs": [
    {
     "data": {
      "text/plain": [
       "3    0\n",
       "4    1\n",
       "5    2\n",
       "6    3\n",
       "dtype: int64"
      ]
     },
     "execution_count": 188,
     "metadata": {},
     "output_type": "execute_result"
    }
   ],
   "source": [
    "s[~(s < 0)]"
   ]
  },
  {
   "cell_type": "code",
   "execution_count": 189,
   "id": "3d640ff1",
   "metadata": {},
   "outputs": [
    {
     "data": {
      "text/plain": [
       "2000-01-01    False\n",
       "2000-01-02     True\n",
       "2000-01-03    False\n",
       "2000-01-04     True\n",
       "2000-01-05     True\n",
       "2000-01-06    False\n",
       "2000-01-07    False\n",
       "2000-01-08    False\n",
       "2000-01-09    False\n",
       "Freq: D, Name: A, dtype: bool"
      ]
     },
     "execution_count": 189,
     "metadata": {},
     "output_type": "execute_result"
    }
   ],
   "source": [
    "df['A'] > 0"
   ]
  },
  {
   "cell_type": "code",
   "execution_count": 190,
   "id": "79710440",
   "metadata": {},
   "outputs": [
    {
     "data": {
      "text/plain": [
       "2000-01-01   -0.018492\n",
       "2000-01-02    0.497136\n",
       "2000-01-03   -0.116372\n",
       "2000-01-04    7.000000\n",
       "2000-01-05    0.207694\n",
       "2000-01-06   -0.337750\n",
       "2000-01-07   -0.844191\n",
       "2000-01-08   -0.121758\n",
       "2000-01-09         NaN\n",
       "Freq: D, Name: A, dtype: float64"
      ]
     },
     "execution_count": 190,
     "metadata": {},
     "output_type": "execute_result"
    }
   ],
   "source": [
    "df['A']"
   ]
  },
  {
   "cell_type": "code",
   "execution_count": 191,
   "id": "354ee675",
   "metadata": {},
   "outputs": [
    {
     "data": {
      "text/html": [
       "<div>\n",
       "<style scoped>\n",
       "    .dataframe tbody tr th:only-of-type {\n",
       "        vertical-align: middle;\n",
       "    }\n",
       "\n",
       "    .dataframe tbody tr th {\n",
       "        vertical-align: top;\n",
       "    }\n",
       "\n",
       "    .dataframe thead th {\n",
       "        text-align: right;\n",
       "    }\n",
       "</style>\n",
       "<table border=\"1\" class=\"dataframe\">\n",
       "  <thead>\n",
       "    <tr style=\"text-align: right;\">\n",
       "      <th></th>\n",
       "      <th>A</th>\n",
       "      <th>B</th>\n",
       "      <th>C</th>\n",
       "      <th>D</th>\n",
       "      <th>E</th>\n",
       "      <th>0</th>\n",
       "    </tr>\n",
       "  </thead>\n",
       "  <tbody>\n",
       "    <tr>\n",
       "      <th>2000-01-02</th>\n",
       "      <td>0.497136</td>\n",
       "      <td>-0.114484</td>\n",
       "      <td>1.184610</td>\n",
       "      <td>0.756158</td>\n",
       "      <td>NaN</td>\n",
       "      <td>NaN</td>\n",
       "    </tr>\n",
       "    <tr>\n",
       "      <th>2000-01-04</th>\n",
       "      <td>7.000000</td>\n",
       "      <td>-0.689296</td>\n",
       "      <td>0.310550</td>\n",
       "      <td>0.471620</td>\n",
       "      <td>NaN</td>\n",
       "      <td>NaN</td>\n",
       "    </tr>\n",
       "    <tr>\n",
       "      <th>2000-01-05</th>\n",
       "      <td>0.207694</td>\n",
       "      <td>-0.818026</td>\n",
       "      <td>0.359911</td>\n",
       "      <td>0.346075</td>\n",
       "      <td>NaN</td>\n",
       "      <td>NaN</td>\n",
       "    </tr>\n",
       "  </tbody>\n",
       "</table>\n",
       "</div>"
      ],
      "text/plain": [
       "                   A         B         C         D   E   0\n",
       "2000-01-02  0.497136 -0.114484  1.184610  0.756158 NaN NaN\n",
       "2000-01-04  7.000000 -0.689296  0.310550  0.471620 NaN NaN\n",
       "2000-01-05  0.207694 -0.818026  0.359911  0.346075 NaN NaN"
      ]
     },
     "execution_count": 191,
     "metadata": {},
     "output_type": "execute_result"
    }
   ],
   "source": [
    "df[df['A'] > 0]"
   ]
  },
  {
   "cell_type": "code",
   "execution_count": 193,
   "id": "c27de7fc",
   "metadata": {},
   "outputs": [
    {
     "data": {
      "text/html": [
       "<div>\n",
       "<style scoped>\n",
       "    .dataframe tbody tr th:only-of-type {\n",
       "        vertical-align: middle;\n",
       "    }\n",
       "\n",
       "    .dataframe tbody tr th {\n",
       "        vertical-align: top;\n",
       "    }\n",
       "\n",
       "    .dataframe thead th {\n",
       "        text-align: right;\n",
       "    }\n",
       "</style>\n",
       "<table border=\"1\" class=\"dataframe\">\n",
       "  <thead>\n",
       "    <tr style=\"text-align: right;\">\n",
       "      <th></th>\n",
       "      <th>a</th>\n",
       "      <th>b</th>\n",
       "      <th>c</th>\n",
       "    </tr>\n",
       "  </thead>\n",
       "  <tbody>\n",
       "    <tr>\n",
       "      <th>0</th>\n",
       "      <td>one</td>\n",
       "      <td>x</td>\n",
       "      <td>0.296562</td>\n",
       "    </tr>\n",
       "    <tr>\n",
       "      <th>1</th>\n",
       "      <td>one</td>\n",
       "      <td>y</td>\n",
       "      <td>2.258410</td>\n",
       "    </tr>\n",
       "    <tr>\n",
       "      <th>2</th>\n",
       "      <td>two</td>\n",
       "      <td>y</td>\n",
       "      <td>-0.655865</td>\n",
       "    </tr>\n",
       "    <tr>\n",
       "      <th>3</th>\n",
       "      <td>three</td>\n",
       "      <td>x</td>\n",
       "      <td>1.184167</td>\n",
       "    </tr>\n",
       "    <tr>\n",
       "      <th>4</th>\n",
       "      <td>two</td>\n",
       "      <td>y</td>\n",
       "      <td>0.396755</td>\n",
       "    </tr>\n",
       "    <tr>\n",
       "      <th>5</th>\n",
       "      <td>one</td>\n",
       "      <td>x</td>\n",
       "      <td>2.051265</td>\n",
       "    </tr>\n",
       "    <tr>\n",
       "      <th>6</th>\n",
       "      <td>six</td>\n",
       "      <td>x</td>\n",
       "      <td>2.138061</td>\n",
       "    </tr>\n",
       "  </tbody>\n",
       "</table>\n",
       "</div>"
      ],
      "text/plain": [
       "       a  b         c\n",
       "0    one  x  0.296562\n",
       "1    one  y  2.258410\n",
       "2    two  y -0.655865\n",
       "3  three  x  1.184167\n",
       "4    two  y  0.396755\n",
       "5    one  x  2.051265\n",
       "6    six  x  2.138061"
      ]
     },
     "execution_count": 193,
     "metadata": {},
     "output_type": "execute_result"
    }
   ],
   "source": [
    "df2 = pd.DataFrame({'a': ['one', 'one', 'two', 'three', 'two', 'one', 'six'],\n",
    "\n",
    "                    'b': ['x', 'y', 'y', 'x', 'y', 'x', 'x'],\n",
    "\n",
    "                    'c': np.random.randn(7)})\n",
    "df2"
   ]
  },
  {
   "cell_type": "code",
   "execution_count": 194,
   "id": "6425eb3d",
   "metadata": {},
   "outputs": [
    {
     "data": {
      "text/plain": [
       "0    False\n",
       "1    False\n",
       "2     True\n",
       "3     True\n",
       "4     True\n",
       "5    False\n",
       "6    False\n",
       "Name: a, dtype: bool"
      ]
     },
     "execution_count": 194,
     "metadata": {},
     "output_type": "execute_result"
    }
   ],
   "source": [
    "# only want 'two' or 'three'\n",
    "\n",
    "criterion = df2['a'].map(lambda x: x.startswith('t'))\n",
    "criterion"
   ]
  },
  {
   "cell_type": "code",
   "execution_count": 195,
   "id": "2a573227",
   "metadata": {},
   "outputs": [
    {
     "data": {
      "text/html": [
       "<div>\n",
       "<style scoped>\n",
       "    .dataframe tbody tr th:only-of-type {\n",
       "        vertical-align: middle;\n",
       "    }\n",
       "\n",
       "    .dataframe tbody tr th {\n",
       "        vertical-align: top;\n",
       "    }\n",
       "\n",
       "    .dataframe thead th {\n",
       "        text-align: right;\n",
       "    }\n",
       "</style>\n",
       "<table border=\"1\" class=\"dataframe\">\n",
       "  <thead>\n",
       "    <tr style=\"text-align: right;\">\n",
       "      <th></th>\n",
       "      <th>a</th>\n",
       "      <th>b</th>\n",
       "      <th>c</th>\n",
       "    </tr>\n",
       "  </thead>\n",
       "  <tbody>\n",
       "    <tr>\n",
       "      <th>2</th>\n",
       "      <td>two</td>\n",
       "      <td>y</td>\n",
       "      <td>-0.655865</td>\n",
       "    </tr>\n",
       "    <tr>\n",
       "      <th>3</th>\n",
       "      <td>three</td>\n",
       "      <td>x</td>\n",
       "      <td>1.184167</td>\n",
       "    </tr>\n",
       "    <tr>\n",
       "      <th>4</th>\n",
       "      <td>two</td>\n",
       "      <td>y</td>\n",
       "      <td>0.396755</td>\n",
       "    </tr>\n",
       "  </tbody>\n",
       "</table>\n",
       "</div>"
      ],
      "text/plain": [
       "       a  b         c\n",
       "2    two  y -0.655865\n",
       "3  three  x  1.184167\n",
       "4    two  y  0.396755"
      ]
     },
     "execution_count": 195,
     "metadata": {},
     "output_type": "execute_result"
    }
   ],
   "source": [
    "df2[criterion]"
   ]
  },
  {
   "cell_type": "code",
   "execution_count": 196,
   "id": "cdf7d2fc",
   "metadata": {},
   "outputs": [
    {
     "data": {
      "text/html": [
       "<div>\n",
       "<style scoped>\n",
       "    .dataframe tbody tr th:only-of-type {\n",
       "        vertical-align: middle;\n",
       "    }\n",
       "\n",
       "    .dataframe tbody tr th {\n",
       "        vertical-align: top;\n",
       "    }\n",
       "\n",
       "    .dataframe thead th {\n",
       "        text-align: right;\n",
       "    }\n",
       "</style>\n",
       "<table border=\"1\" class=\"dataframe\">\n",
       "  <thead>\n",
       "    <tr style=\"text-align: right;\">\n",
       "      <th></th>\n",
       "      <th>a</th>\n",
       "      <th>b</th>\n",
       "      <th>c</th>\n",
       "    </tr>\n",
       "  </thead>\n",
       "  <tbody>\n",
       "    <tr>\n",
       "      <th>2</th>\n",
       "      <td>two</td>\n",
       "      <td>y</td>\n",
       "      <td>-0.655865</td>\n",
       "    </tr>\n",
       "    <tr>\n",
       "      <th>3</th>\n",
       "      <td>three</td>\n",
       "      <td>x</td>\n",
       "      <td>1.184167</td>\n",
       "    </tr>\n",
       "    <tr>\n",
       "      <th>4</th>\n",
       "      <td>two</td>\n",
       "      <td>y</td>\n",
       "      <td>0.396755</td>\n",
       "    </tr>\n",
       "  </tbody>\n",
       "</table>\n",
       "</div>"
      ],
      "text/plain": [
       "       a  b         c\n",
       "2    two  y -0.655865\n",
       "3  three  x  1.184167\n",
       "4    two  y  0.396755"
      ]
     },
     "execution_count": 196,
     "metadata": {},
     "output_type": "execute_result"
    }
   ],
   "source": [
    "# equivalent but slower\n",
    "\n",
    "df2[[x.startswith('t') for x in df2['a']]]"
   ]
  },
  {
   "cell_type": "code",
   "execution_count": 197,
   "id": "fc880637",
   "metadata": {},
   "outputs": [
    {
     "data": {
      "text/html": [
       "<div>\n",
       "<style scoped>\n",
       "    .dataframe tbody tr th:only-of-type {\n",
       "        vertical-align: middle;\n",
       "    }\n",
       "\n",
       "    .dataframe tbody tr th {\n",
       "        vertical-align: top;\n",
       "    }\n",
       "\n",
       "    .dataframe thead th {\n",
       "        text-align: right;\n",
       "    }\n",
       "</style>\n",
       "<table border=\"1\" class=\"dataframe\">\n",
       "  <thead>\n",
       "    <tr style=\"text-align: right;\">\n",
       "      <th></th>\n",
       "      <th>a</th>\n",
       "      <th>b</th>\n",
       "      <th>c</th>\n",
       "    </tr>\n",
       "  </thead>\n",
       "  <tbody>\n",
       "    <tr>\n",
       "      <th>3</th>\n",
       "      <td>three</td>\n",
       "      <td>x</td>\n",
       "      <td>1.184167</td>\n",
       "    </tr>\n",
       "  </tbody>\n",
       "</table>\n",
       "</div>"
      ],
      "text/plain": [
       "       a  b         c\n",
       "3  three  x  1.184167"
      ]
     },
     "execution_count": 197,
     "metadata": {},
     "output_type": "execute_result"
    }
   ],
   "source": [
    "# Multiple criteria\n",
    "\n",
    "df2[criterion & (df2['b'] == 'x')]"
   ]
  },
  {
   "cell_type": "code",
   "execution_count": 198,
   "id": "c327878b",
   "metadata": {},
   "outputs": [
    {
     "data": {
      "text/html": [
       "<div>\n",
       "<style scoped>\n",
       "    .dataframe tbody tr th:only-of-type {\n",
       "        vertical-align: middle;\n",
       "    }\n",
       "\n",
       "    .dataframe tbody tr th {\n",
       "        vertical-align: top;\n",
       "    }\n",
       "\n",
       "    .dataframe thead th {\n",
       "        text-align: right;\n",
       "    }\n",
       "</style>\n",
       "<table border=\"1\" class=\"dataframe\">\n",
       "  <thead>\n",
       "    <tr style=\"text-align: right;\">\n",
       "      <th></th>\n",
       "      <th>b</th>\n",
       "      <th>c</th>\n",
       "    </tr>\n",
       "  </thead>\n",
       "  <tbody>\n",
       "    <tr>\n",
       "      <th>3</th>\n",
       "      <td>x</td>\n",
       "      <td>1.184167</td>\n",
       "    </tr>\n",
       "  </tbody>\n",
       "</table>\n",
       "</div>"
      ],
      "text/plain": [
       "   b         c\n",
       "3  x  1.184167"
      ]
     },
     "execution_count": 198,
     "metadata": {},
     "output_type": "execute_result"
    }
   ],
   "source": [
    "df2.loc[criterion & (df2['b'] == 'x'), 'b':'c']"
   ]
  },
  {
   "cell_type": "code",
   "execution_count": 199,
   "id": "6fee92bc",
   "metadata": {},
   "outputs": [],
   "source": [
    "df = pd.DataFrame([[1, 2], [3, 4], [5, 6]],\n",
    "\n",
    "                  index=list('abc'),\n",
    "\n",
    "                  columns=['A', 'B'])\n",
    "\n",
    "\n",
    "\n",
    "s = (df['A'] > 2)\n"
   ]
  },
  {
   "cell_type": "code",
   "execution_count": 200,
   "id": "513bdb45",
   "metadata": {},
   "outputs": [
    {
     "data": {
      "text/html": [
       "<div>\n",
       "<style scoped>\n",
       "    .dataframe tbody tr th:only-of-type {\n",
       "        vertical-align: middle;\n",
       "    }\n",
       "\n",
       "    .dataframe tbody tr th {\n",
       "        vertical-align: top;\n",
       "    }\n",
       "\n",
       "    .dataframe thead th {\n",
       "        text-align: right;\n",
       "    }\n",
       "</style>\n",
       "<table border=\"1\" class=\"dataframe\">\n",
       "  <thead>\n",
       "    <tr style=\"text-align: right;\">\n",
       "      <th></th>\n",
       "      <th>A</th>\n",
       "      <th>B</th>\n",
       "    </tr>\n",
       "  </thead>\n",
       "  <tbody>\n",
       "    <tr>\n",
       "      <th>a</th>\n",
       "      <td>1</td>\n",
       "      <td>2</td>\n",
       "    </tr>\n",
       "    <tr>\n",
       "      <th>b</th>\n",
       "      <td>3</td>\n",
       "      <td>4</td>\n",
       "    </tr>\n",
       "    <tr>\n",
       "      <th>c</th>\n",
       "      <td>5</td>\n",
       "      <td>6</td>\n",
       "    </tr>\n",
       "  </tbody>\n",
       "</table>\n",
       "</div>"
      ],
      "text/plain": [
       "   A  B\n",
       "a  1  2\n",
       "b  3  4\n",
       "c  5  6"
      ]
     },
     "execution_count": 200,
     "metadata": {},
     "output_type": "execute_result"
    }
   ],
   "source": [
    "df"
   ]
  },
  {
   "cell_type": "code",
   "execution_count": 201,
   "id": "39b5a47a",
   "metadata": {},
   "outputs": [
    {
     "data": {
      "text/plain": [
       "a    False\n",
       "b     True\n",
       "c     True\n",
       "Name: A, dtype: bool"
      ]
     },
     "execution_count": 201,
     "metadata": {},
     "output_type": "execute_result"
    }
   ],
   "source": [
    "s"
   ]
  },
  {
   "cell_type": "code",
   "execution_count": 202,
   "id": "0febf6cd",
   "metadata": {},
   "outputs": [
    {
     "data": {
      "text/plain": [
       "b    4\n",
       "c    6\n",
       "Name: B, dtype: int64"
      ]
     },
     "execution_count": 202,
     "metadata": {},
     "output_type": "execute_result"
    }
   ],
   "source": [
    "df.loc[s, 'B']"
   ]
  },
  {
   "cell_type": "code",
   "execution_count": 204,
   "id": "855ba44c",
   "metadata": {},
   "outputs": [
    {
     "data": {
      "text/plain": [
       "array([False,  True,  True])"
      ]
     },
     "execution_count": 204,
     "metadata": {},
     "output_type": "execute_result"
    }
   ],
   "source": [
    "s.values"
   ]
  },
  {
   "cell_type": "code",
   "execution_count": 206,
   "id": "4c93a715",
   "metadata": {},
   "outputs": [
    {
     "data": {
      "text/plain": [
       "b    4\n",
       "c    6\n",
       "Name: B, dtype: int64"
      ]
     },
     "execution_count": 206,
     "metadata": {},
     "output_type": "execute_result"
    }
   ],
   "source": [
    "df.iloc[s.values, 1]\n",
    "#df.iloc[s, 1] wont work"
   ]
  },
  {
   "cell_type": "code",
   "execution_count": 207,
   "id": "3067e0d9",
   "metadata": {},
   "outputs": [
    {
     "data": {
      "text/plain": [
       "4    0\n",
       "3    1\n",
       "2    2\n",
       "1    3\n",
       "0    4\n",
       "dtype: int64"
      ]
     },
     "execution_count": 207,
     "metadata": {},
     "output_type": "execute_result"
    }
   ],
   "source": [
    "s = pd.Series(np.arange(5), index=np.arange(5)[::-1], dtype='int64')\n",
    "\n",
    "s"
   ]
  },
  {
   "cell_type": "code",
   "execution_count": 208,
   "id": "d0dcde64",
   "metadata": {},
   "outputs": [
    {
     "data": {
      "text/plain": [
       "4    False\n",
       "3    False\n",
       "2     True\n",
       "1    False\n",
       "0     True\n",
       "dtype: bool"
      ]
     },
     "execution_count": 208,
     "metadata": {},
     "output_type": "execute_result"
    }
   ],
   "source": [
    "s.isin([2, 4, 6])"
   ]
  },
  {
   "cell_type": "code",
   "execution_count": 209,
   "id": "a4bdb0f0",
   "metadata": {},
   "outputs": [
    {
     "data": {
      "text/plain": [
       "2    2\n",
       "0    4\n",
       "dtype: int64"
      ]
     },
     "execution_count": 209,
     "metadata": {},
     "output_type": "execute_result"
    }
   ],
   "source": [
    "s[s.isin([2, 4, 6])]"
   ]
  },
  {
   "cell_type": "code",
   "execution_count": 210,
   "id": "08355e1f",
   "metadata": {},
   "outputs": [
    {
     "data": {
      "text/plain": [
       "4    0\n",
       "2    2\n",
       "dtype: int64"
      ]
     },
     "execution_count": 210,
     "metadata": {},
     "output_type": "execute_result"
    }
   ],
   "source": [
    "s[s.index.isin([2, 4, 6])]"
   ]
  },
  {
   "cell_type": "code",
   "execution_count": 211,
   "id": "35dc59d8",
   "metadata": {},
   "outputs": [
    {
     "data": {
      "text/plain": [
       "0  a    0\n",
       "   b    1\n",
       "   c    2\n",
       "1  a    3\n",
       "   b    4\n",
       "   c    5\n",
       "dtype: int32"
      ]
     },
     "execution_count": 211,
     "metadata": {},
     "output_type": "execute_result"
    }
   ],
   "source": [
    "s_mi = pd.Series(np.arange(6),\n",
    "\n",
    "                 index=pd.MultiIndex.from_product([[0, 1], ['a', 'b', 'c']]))\n",
    "\n",
    "\n",
    "\n",
    "s_mi"
   ]
  },
  {
   "cell_type": "code",
   "execution_count": 212,
   "id": "f4b7e7c9",
   "metadata": {},
   "outputs": [
    {
     "data": {
      "text/plain": [
       "0  c    2\n",
       "1  a    3\n",
       "dtype: int32"
      ]
     },
     "execution_count": 212,
     "metadata": {},
     "output_type": "execute_result"
    }
   ],
   "source": [
    "s_mi.iloc[s_mi.index.isin([(1, 'a'), (2, 'b'), (0, 'c')])]"
   ]
  },
  {
   "cell_type": "code",
   "execution_count": 213,
   "id": "514f7e2a",
   "metadata": {},
   "outputs": [
    {
     "data": {
      "text/plain": [
       "0  a    0\n",
       "   c    2\n",
       "1  a    3\n",
       "   c    5\n",
       "dtype: int32"
      ]
     },
     "execution_count": 213,
     "metadata": {},
     "output_type": "execute_result"
    }
   ],
   "source": [
    "s_mi.iloc[s_mi.index.isin(['a', 'c', 'e'], level=1)]"
   ]
  },
  {
   "cell_type": "code",
   "execution_count": 214,
   "id": "9f88298b",
   "metadata": {},
   "outputs": [
    {
     "data": {
      "text/html": [
       "<div>\n",
       "<style scoped>\n",
       "    .dataframe tbody tr th:only-of-type {\n",
       "        vertical-align: middle;\n",
       "    }\n",
       "\n",
       "    .dataframe tbody tr th {\n",
       "        vertical-align: top;\n",
       "    }\n",
       "\n",
       "    .dataframe thead th {\n",
       "        text-align: right;\n",
       "    }\n",
       "</style>\n",
       "<table border=\"1\" class=\"dataframe\">\n",
       "  <thead>\n",
       "    <tr style=\"text-align: right;\">\n",
       "      <th></th>\n",
       "      <th>vals</th>\n",
       "      <th>ids</th>\n",
       "      <th>ids2</th>\n",
       "    </tr>\n",
       "  </thead>\n",
       "  <tbody>\n",
       "    <tr>\n",
       "      <th>0</th>\n",
       "      <td>1</td>\n",
       "      <td>a</td>\n",
       "      <td>a</td>\n",
       "    </tr>\n",
       "    <tr>\n",
       "      <th>1</th>\n",
       "      <td>2</td>\n",
       "      <td>b</td>\n",
       "      <td>n</td>\n",
       "    </tr>\n",
       "    <tr>\n",
       "      <th>2</th>\n",
       "      <td>3</td>\n",
       "      <td>f</td>\n",
       "      <td>c</td>\n",
       "    </tr>\n",
       "    <tr>\n",
       "      <th>3</th>\n",
       "      <td>4</td>\n",
       "      <td>n</td>\n",
       "      <td>n</td>\n",
       "    </tr>\n",
       "  </tbody>\n",
       "</table>\n",
       "</div>"
      ],
      "text/plain": [
       "   vals ids ids2\n",
       "0     1   a    a\n",
       "1     2   b    n\n",
       "2     3   f    c\n",
       "3     4   n    n"
      ]
     },
     "execution_count": 214,
     "metadata": {},
     "output_type": "execute_result"
    }
   ],
   "source": [
    "df = pd.DataFrame({'vals': [1, 2, 3, 4], 'ids': ['a', 'b', 'f', 'n'],\n",
    "\n",
    "                   'ids2': ['a', 'n', 'c', 'n']})\n",
    "df"
   ]
  },
  {
   "cell_type": "code",
   "execution_count": 215,
   "id": "8063683d",
   "metadata": {},
   "outputs": [
    {
     "data": {
      "text/html": [
       "<div>\n",
       "<style scoped>\n",
       "    .dataframe tbody tr th:only-of-type {\n",
       "        vertical-align: middle;\n",
       "    }\n",
       "\n",
       "    .dataframe tbody tr th {\n",
       "        vertical-align: top;\n",
       "    }\n",
       "\n",
       "    .dataframe thead th {\n",
       "        text-align: right;\n",
       "    }\n",
       "</style>\n",
       "<table border=\"1\" class=\"dataframe\">\n",
       "  <thead>\n",
       "    <tr style=\"text-align: right;\">\n",
       "      <th></th>\n",
       "      <th>vals</th>\n",
       "      <th>ids</th>\n",
       "      <th>ids2</th>\n",
       "    </tr>\n",
       "  </thead>\n",
       "  <tbody>\n",
       "    <tr>\n",
       "      <th>0</th>\n",
       "      <td>True</td>\n",
       "      <td>True</td>\n",
       "      <td>True</td>\n",
       "    </tr>\n",
       "    <tr>\n",
       "      <th>1</th>\n",
       "      <td>False</td>\n",
       "      <td>True</td>\n",
       "      <td>False</td>\n",
       "    </tr>\n",
       "    <tr>\n",
       "      <th>2</th>\n",
       "      <td>True</td>\n",
       "      <td>False</td>\n",
       "      <td>False</td>\n",
       "    </tr>\n",
       "    <tr>\n",
       "      <th>3</th>\n",
       "      <td>False</td>\n",
       "      <td>False</td>\n",
       "      <td>False</td>\n",
       "    </tr>\n",
       "  </tbody>\n",
       "</table>\n",
       "</div>"
      ],
      "text/plain": [
       "    vals    ids   ids2\n",
       "0   True   True   True\n",
       "1  False   True  False\n",
       "2   True  False  False\n",
       "3  False  False  False"
      ]
     },
     "execution_count": 215,
     "metadata": {},
     "output_type": "execute_result"
    }
   ],
   "source": [
    "values = ['a', 'b', 1, 3]\n",
    "\n",
    "df.isin(values)"
   ]
  },
  {
   "cell_type": "code",
   "execution_count": 216,
   "id": "f8ff1632",
   "metadata": {},
   "outputs": [
    {
     "data": {
      "text/html": [
       "<div>\n",
       "<style scoped>\n",
       "    .dataframe tbody tr th:only-of-type {\n",
       "        vertical-align: middle;\n",
       "    }\n",
       "\n",
       "    .dataframe tbody tr th {\n",
       "        vertical-align: top;\n",
       "    }\n",
       "\n",
       "    .dataframe thead th {\n",
       "        text-align: right;\n",
       "    }\n",
       "</style>\n",
       "<table border=\"1\" class=\"dataframe\">\n",
       "  <thead>\n",
       "    <tr style=\"text-align: right;\">\n",
       "      <th></th>\n",
       "      <th>vals</th>\n",
       "      <th>ids</th>\n",
       "      <th>ids2</th>\n",
       "    </tr>\n",
       "  </thead>\n",
       "  <tbody>\n",
       "    <tr>\n",
       "      <th>0</th>\n",
       "      <td>True</td>\n",
       "      <td>True</td>\n",
       "      <td>False</td>\n",
       "    </tr>\n",
       "    <tr>\n",
       "      <th>1</th>\n",
       "      <td>False</td>\n",
       "      <td>True</td>\n",
       "      <td>False</td>\n",
       "    </tr>\n",
       "    <tr>\n",
       "      <th>2</th>\n",
       "      <td>True</td>\n",
       "      <td>False</td>\n",
       "      <td>False</td>\n",
       "    </tr>\n",
       "    <tr>\n",
       "      <th>3</th>\n",
       "      <td>False</td>\n",
       "      <td>False</td>\n",
       "      <td>False</td>\n",
       "    </tr>\n",
       "  </tbody>\n",
       "</table>\n",
       "</div>"
      ],
      "text/plain": [
       "    vals    ids   ids2\n",
       "0   True   True  False\n",
       "1  False   True  False\n",
       "2   True  False  False\n",
       "3  False  False  False"
      ]
     },
     "execution_count": 216,
     "metadata": {},
     "output_type": "execute_result"
    }
   ],
   "source": [
    "values = {'ids': ['a', 'b'], 'vals': [1, 3]}\n",
    "\n",
    "df.isin(values)"
   ]
  },
  {
   "cell_type": "code",
   "execution_count": 217,
   "id": "c7469d8d",
   "metadata": {},
   "outputs": [
    {
     "data": {
      "text/html": [
       "<div>\n",
       "<style scoped>\n",
       "    .dataframe tbody tr th:only-of-type {\n",
       "        vertical-align: middle;\n",
       "    }\n",
       "\n",
       "    .dataframe tbody tr th {\n",
       "        vertical-align: top;\n",
       "    }\n",
       "\n",
       "    .dataframe thead th {\n",
       "        text-align: right;\n",
       "    }\n",
       "</style>\n",
       "<table border=\"1\" class=\"dataframe\">\n",
       "  <thead>\n",
       "    <tr style=\"text-align: right;\">\n",
       "      <th></th>\n",
       "      <th>vals</th>\n",
       "      <th>ids</th>\n",
       "      <th>ids2</th>\n",
       "    </tr>\n",
       "  </thead>\n",
       "  <tbody>\n",
       "    <tr>\n",
       "      <th>0</th>\n",
       "      <td>False</td>\n",
       "      <td>False</td>\n",
       "      <td>True</td>\n",
       "    </tr>\n",
       "    <tr>\n",
       "      <th>1</th>\n",
       "      <td>True</td>\n",
       "      <td>False</td>\n",
       "      <td>True</td>\n",
       "    </tr>\n",
       "    <tr>\n",
       "      <th>2</th>\n",
       "      <td>False</td>\n",
       "      <td>True</td>\n",
       "      <td>True</td>\n",
       "    </tr>\n",
       "    <tr>\n",
       "      <th>3</th>\n",
       "      <td>True</td>\n",
       "      <td>True</td>\n",
       "      <td>True</td>\n",
       "    </tr>\n",
       "  </tbody>\n",
       "</table>\n",
       "</div>"
      ],
      "text/plain": [
       "    vals    ids  ids2\n",
       "0  False  False  True\n",
       "1   True  False  True\n",
       "2  False   True  True\n",
       "3   True   True  True"
      ]
     },
     "execution_count": 217,
     "metadata": {},
     "output_type": "execute_result"
    }
   ],
   "source": [
    "values = {'ids': ['a', 'b'], 'vals': [1, 3]}\n",
    "\n",
    "~df.isin(values)"
   ]
  },
  {
   "cell_type": "code",
   "execution_count": 218,
   "id": "17e61015",
   "metadata": {},
   "outputs": [
    {
     "data": {
      "text/html": [
       "<div>\n",
       "<style scoped>\n",
       "    .dataframe tbody tr th:only-of-type {\n",
       "        vertical-align: middle;\n",
       "    }\n",
       "\n",
       "    .dataframe tbody tr th {\n",
       "        vertical-align: top;\n",
       "    }\n",
       "\n",
       "    .dataframe thead th {\n",
       "        text-align: right;\n",
       "    }\n",
       "</style>\n",
       "<table border=\"1\" class=\"dataframe\">\n",
       "  <thead>\n",
       "    <tr style=\"text-align: right;\">\n",
       "      <th></th>\n",
       "      <th>vals</th>\n",
       "      <th>ids</th>\n",
       "      <th>ids2</th>\n",
       "    </tr>\n",
       "  </thead>\n",
       "  <tbody>\n",
       "    <tr>\n",
       "      <th>0</th>\n",
       "      <td>1</td>\n",
       "      <td>a</td>\n",
       "      <td>a</td>\n",
       "    </tr>\n",
       "    <tr>\n",
       "      <th>1</th>\n",
       "      <td>2</td>\n",
       "      <td>b</td>\n",
       "      <td>n</td>\n",
       "    </tr>\n",
       "    <tr>\n",
       "      <th>2</th>\n",
       "      <td>3</td>\n",
       "      <td>f</td>\n",
       "      <td>c</td>\n",
       "    </tr>\n",
       "    <tr>\n",
       "      <th>3</th>\n",
       "      <td>4</td>\n",
       "      <td>n</td>\n",
       "      <td>n</td>\n",
       "    </tr>\n",
       "  </tbody>\n",
       "</table>\n",
       "</div>"
      ],
      "text/plain": [
       "   vals ids ids2\n",
       "0     1   a    a\n",
       "1     2   b    n\n",
       "2     3   f    c\n",
       "3     4   n    n"
      ]
     },
     "execution_count": 218,
     "metadata": {},
     "output_type": "execute_result"
    }
   ],
   "source": [
    "df"
   ]
  },
  {
   "cell_type": "code",
   "execution_count": 219,
   "id": "9440ef40",
   "metadata": {},
   "outputs": [
    {
     "data": {
      "text/html": [
       "<div>\n",
       "<style scoped>\n",
       "    .dataframe tbody tr th:only-of-type {\n",
       "        vertical-align: middle;\n",
       "    }\n",
       "\n",
       "    .dataframe tbody tr th {\n",
       "        vertical-align: top;\n",
       "    }\n",
       "\n",
       "    .dataframe thead th {\n",
       "        text-align: right;\n",
       "    }\n",
       "</style>\n",
       "<table border=\"1\" class=\"dataframe\">\n",
       "  <thead>\n",
       "    <tr style=\"text-align: right;\">\n",
       "      <th></th>\n",
       "      <th>vals</th>\n",
       "      <th>ids</th>\n",
       "      <th>ids2</th>\n",
       "    </tr>\n",
       "  </thead>\n",
       "  <tbody>\n",
       "    <tr>\n",
       "      <th>0</th>\n",
       "      <td>1</td>\n",
       "      <td>a</td>\n",
       "      <td>a</td>\n",
       "    </tr>\n",
       "  </tbody>\n",
       "</table>\n",
       "</div>"
      ],
      "text/plain": [
       "   vals ids ids2\n",
       "0     1   a    a"
      ]
     },
     "execution_count": 219,
     "metadata": {},
     "output_type": "execute_result"
    }
   ],
   "source": [
    "values = {'ids': ['a', 'b'], 'ids2': ['a', 'c'], 'vals': [1, 3]}\n",
    "\n",
    "row_mask = df.isin(values).all(1)\n",
    "\n",
    "df[row_mask]"
   ]
  },
  {
   "cell_type": "code",
   "execution_count": 220,
   "id": "c4685821",
   "metadata": {},
   "outputs": [
    {
     "data": {
      "text/plain": [
       "4    0\n",
       "3    1\n",
       "2    2\n",
       "1    3\n",
       "0    4\n",
       "dtype: int64"
      ]
     },
     "execution_count": 220,
     "metadata": {},
     "output_type": "execute_result"
    }
   ],
   "source": [
    "s"
   ]
  },
  {
   "cell_type": "code",
   "execution_count": 221,
   "id": "01ccc8b6",
   "metadata": {},
   "outputs": [
    {
     "data": {
      "text/plain": [
       "3    1\n",
       "2    2\n",
       "1    3\n",
       "0    4\n",
       "dtype: int64"
      ]
     },
     "execution_count": 221,
     "metadata": {},
     "output_type": "execute_result"
    }
   ],
   "source": [
    "s[s > 0]"
   ]
  },
  {
   "cell_type": "code",
   "execution_count": 222,
   "id": "488e49c7",
   "metadata": {},
   "outputs": [
    {
     "data": {
      "text/plain": [
       "4    NaN\n",
       "3    1.0\n",
       "2    2.0\n",
       "1    3.0\n",
       "0    4.0\n",
       "dtype: float64"
      ]
     },
     "execution_count": 222,
     "metadata": {},
     "output_type": "execute_result"
    }
   ],
   "source": [
    "s.where(s > 0)"
   ]
  },
  {
   "cell_type": "code",
   "execution_count": 223,
   "id": "eaf92db1",
   "metadata": {},
   "outputs": [
    {
     "data": {
      "text/html": [
       "<div>\n",
       "<style scoped>\n",
       "    .dataframe tbody tr th:only-of-type {\n",
       "        vertical-align: middle;\n",
       "    }\n",
       "\n",
       "    .dataframe tbody tr th {\n",
       "        vertical-align: top;\n",
       "    }\n",
       "\n",
       "    .dataframe thead th {\n",
       "        text-align: right;\n",
       "    }\n",
       "</style>\n",
       "<table border=\"1\" class=\"dataframe\">\n",
       "  <thead>\n",
       "    <tr style=\"text-align: right;\">\n",
       "      <th></th>\n",
       "      <th>A</th>\n",
       "      <th>B</th>\n",
       "      <th>C</th>\n",
       "      <th>D</th>\n",
       "    </tr>\n",
       "  </thead>\n",
       "  <tbody>\n",
       "    <tr>\n",
       "      <th>2000-01-01</th>\n",
       "      <td>NaN</td>\n",
       "      <td>NaN</td>\n",
       "      <td>NaN</td>\n",
       "      <td>-0.193924</td>\n",
       "    </tr>\n",
       "    <tr>\n",
       "      <th>2000-01-02</th>\n",
       "      <td>NaN</td>\n",
       "      <td>-1.006180</td>\n",
       "      <td>NaN</td>\n",
       "      <td>NaN</td>\n",
       "    </tr>\n",
       "    <tr>\n",
       "      <th>2000-01-03</th>\n",
       "      <td>NaN</td>\n",
       "      <td>-1.563547</td>\n",
       "      <td>-1.123076</td>\n",
       "      <td>NaN</td>\n",
       "    </tr>\n",
       "    <tr>\n",
       "      <th>2000-01-04</th>\n",
       "      <td>-0.233436</td>\n",
       "      <td>NaN</td>\n",
       "      <td>NaN</td>\n",
       "      <td>-1.683621</td>\n",
       "    </tr>\n",
       "    <tr>\n",
       "      <th>2000-01-05</th>\n",
       "      <td>NaN</td>\n",
       "      <td>-0.551102</td>\n",
       "      <td>NaN</td>\n",
       "      <td>NaN</td>\n",
       "    </tr>\n",
       "    <tr>\n",
       "      <th>2000-01-06</th>\n",
       "      <td>NaN</td>\n",
       "      <td>NaN</td>\n",
       "      <td>NaN</td>\n",
       "      <td>-0.866190</td>\n",
       "    </tr>\n",
       "    <tr>\n",
       "      <th>2000-01-07</th>\n",
       "      <td>NaN</td>\n",
       "      <td>-0.098238</td>\n",
       "      <td>NaN</td>\n",
       "      <td>NaN</td>\n",
       "    </tr>\n",
       "    <tr>\n",
       "      <th>2000-01-08</th>\n",
       "      <td>-1.069666</td>\n",
       "      <td>-1.440930</td>\n",
       "      <td>NaN</td>\n",
       "      <td>NaN</td>\n",
       "    </tr>\n",
       "  </tbody>\n",
       "</table>\n",
       "</div>"
      ],
      "text/plain": [
       "                   A         B         C         D\n",
       "2000-01-01       NaN       NaN       NaN -0.193924\n",
       "2000-01-02       NaN -1.006180       NaN       NaN\n",
       "2000-01-03       NaN -1.563547 -1.123076       NaN\n",
       "2000-01-04 -0.233436       NaN       NaN -1.683621\n",
       "2000-01-05       NaN -0.551102       NaN       NaN\n",
       "2000-01-06       NaN       NaN       NaN -0.866190\n",
       "2000-01-07       NaN -0.098238       NaN       NaN\n",
       "2000-01-08 -1.069666 -1.440930       NaN       NaN"
      ]
     },
     "execution_count": 223,
     "metadata": {},
     "output_type": "execute_result"
    }
   ],
   "source": [
    "dates = pd.date_range('1/1/2000', periods=8)\n",
    "\n",
    "df = pd.DataFrame(np.random.randn(8, 4),\n",
    "\n",
    "                  index=dates, columns=['A', 'B', 'C', 'D'])\n",
    "\n",
    "\n",
    "\n",
    "df[df < 0]"
   ]
  },
  {
   "cell_type": "code",
   "execution_count": 224,
   "id": "b64f757f",
   "metadata": {},
   "outputs": [
    {
     "data": {
      "text/html": [
       "<div>\n",
       "<style scoped>\n",
       "    .dataframe tbody tr th:only-of-type {\n",
       "        vertical-align: middle;\n",
       "    }\n",
       "\n",
       "    .dataframe tbody tr th {\n",
       "        vertical-align: top;\n",
       "    }\n",
       "\n",
       "    .dataframe thead th {\n",
       "        text-align: right;\n",
       "    }\n",
       "</style>\n",
       "<table border=\"1\" class=\"dataframe\">\n",
       "  <thead>\n",
       "    <tr style=\"text-align: right;\">\n",
       "      <th></th>\n",
       "      <th>A</th>\n",
       "      <th>B</th>\n",
       "      <th>C</th>\n",
       "      <th>D</th>\n",
       "    </tr>\n",
       "  </thead>\n",
       "  <tbody>\n",
       "    <tr>\n",
       "      <th>2000-01-01</th>\n",
       "      <td>-0.220948</td>\n",
       "      <td>-0.200429</td>\n",
       "      <td>-0.798154</td>\n",
       "      <td>-0.193924</td>\n",
       "    </tr>\n",
       "    <tr>\n",
       "      <th>2000-01-02</th>\n",
       "      <td>-0.767983</td>\n",
       "      <td>-1.006180</td>\n",
       "      <td>-1.374023</td>\n",
       "      <td>-0.291825</td>\n",
       "    </tr>\n",
       "    <tr>\n",
       "      <th>2000-01-03</th>\n",
       "      <td>-0.370752</td>\n",
       "      <td>-1.563547</td>\n",
       "      <td>-1.123076</td>\n",
       "      <td>-0.211555</td>\n",
       "    </tr>\n",
       "    <tr>\n",
       "      <th>2000-01-04</th>\n",
       "      <td>-0.233436</td>\n",
       "      <td>-1.959823</td>\n",
       "      <td>-0.248056</td>\n",
       "      <td>-1.683621</td>\n",
       "    </tr>\n",
       "    <tr>\n",
       "      <th>2000-01-05</th>\n",
       "      <td>-0.038008</td>\n",
       "      <td>-0.551102</td>\n",
       "      <td>-1.102426</td>\n",
       "      <td>-0.376794</td>\n",
       "    </tr>\n",
       "    <tr>\n",
       "      <th>2000-01-06</th>\n",
       "      <td>-0.598345</td>\n",
       "      <td>-0.217048</td>\n",
       "      <td>-1.059841</td>\n",
       "      <td>-0.866190</td>\n",
       "    </tr>\n",
       "    <tr>\n",
       "      <th>2000-01-07</th>\n",
       "      <td>-0.599023</td>\n",
       "      <td>-0.098238</td>\n",
       "      <td>-0.792042</td>\n",
       "      <td>-0.515547</td>\n",
       "    </tr>\n",
       "    <tr>\n",
       "      <th>2000-01-08</th>\n",
       "      <td>-1.069666</td>\n",
       "      <td>-1.440930</td>\n",
       "      <td>-0.010137</td>\n",
       "      <td>-0.945929</td>\n",
       "    </tr>\n",
       "  </tbody>\n",
       "</table>\n",
       "</div>"
      ],
      "text/plain": [
       "                   A         B         C         D\n",
       "2000-01-01 -0.220948 -0.200429 -0.798154 -0.193924\n",
       "2000-01-02 -0.767983 -1.006180 -1.374023 -0.291825\n",
       "2000-01-03 -0.370752 -1.563547 -1.123076 -0.211555\n",
       "2000-01-04 -0.233436 -1.959823 -0.248056 -1.683621\n",
       "2000-01-05 -0.038008 -0.551102 -1.102426 -0.376794\n",
       "2000-01-06 -0.598345 -0.217048 -1.059841 -0.866190\n",
       "2000-01-07 -0.599023 -0.098238 -0.792042 -0.515547\n",
       "2000-01-08 -1.069666 -1.440930 -0.010137 -0.945929"
      ]
     },
     "execution_count": 224,
     "metadata": {},
     "output_type": "execute_result"
    }
   ],
   "source": [
    "df.where(df < 0, -df)"
   ]
  },
  {
   "cell_type": "code",
   "execution_count": 226,
   "id": "745b22a8",
   "metadata": {},
   "outputs": [
    {
     "data": {
      "text/plain": [
       "4    0\n",
       "3    1\n",
       "2    2\n",
       "1    3\n",
       "0    4\n",
       "dtype: int64"
      ]
     },
     "execution_count": 226,
     "metadata": {},
     "output_type": "execute_result"
    }
   ],
   "source": [
    "s2 = s.copy()\n",
    "s2"
   ]
  },
  {
   "cell_type": "code",
   "execution_count": 227,
   "id": "33b4404a",
   "metadata": {},
   "outputs": [
    {
     "data": {
      "text/plain": [
       "4    0\n",
       "3    1\n",
       "2    2\n",
       "1    3\n",
       "0    4\n",
       "dtype: int64"
      ]
     },
     "execution_count": 227,
     "metadata": {},
     "output_type": "execute_result"
    }
   ],
   "source": [
    "s2[s2 < 0] = 0\n",
    "\n",
    "s2"
   ]
  },
  {
   "cell_type": "code",
   "execution_count": 228,
   "id": "5dea9f71",
   "metadata": {},
   "outputs": [
    {
     "data": {
      "text/html": [
       "<div>\n",
       "<style scoped>\n",
       "    .dataframe tbody tr th:only-of-type {\n",
       "        vertical-align: middle;\n",
       "    }\n",
       "\n",
       "    .dataframe tbody tr th {\n",
       "        vertical-align: top;\n",
       "    }\n",
       "\n",
       "    .dataframe thead th {\n",
       "        text-align: right;\n",
       "    }\n",
       "</style>\n",
       "<table border=\"1\" class=\"dataframe\">\n",
       "  <thead>\n",
       "    <tr style=\"text-align: right;\">\n",
       "      <th></th>\n",
       "      <th>A</th>\n",
       "      <th>B</th>\n",
       "      <th>C</th>\n",
       "      <th>D</th>\n",
       "    </tr>\n",
       "  </thead>\n",
       "  <tbody>\n",
       "    <tr>\n",
       "      <th>2000-01-01</th>\n",
       "      <td>0.220948</td>\n",
       "      <td>0.200429</td>\n",
       "      <td>0.798154</td>\n",
       "      <td>0.000000</td>\n",
       "    </tr>\n",
       "    <tr>\n",
       "      <th>2000-01-02</th>\n",
       "      <td>0.767983</td>\n",
       "      <td>0.000000</td>\n",
       "      <td>1.374023</td>\n",
       "      <td>0.291825</td>\n",
       "    </tr>\n",
       "    <tr>\n",
       "      <th>2000-01-03</th>\n",
       "      <td>0.370752</td>\n",
       "      <td>0.000000</td>\n",
       "      <td>0.000000</td>\n",
       "      <td>0.211555</td>\n",
       "    </tr>\n",
       "    <tr>\n",
       "      <th>2000-01-04</th>\n",
       "      <td>0.000000</td>\n",
       "      <td>1.959823</td>\n",
       "      <td>0.248056</td>\n",
       "      <td>0.000000</td>\n",
       "    </tr>\n",
       "    <tr>\n",
       "      <th>2000-01-05</th>\n",
       "      <td>0.038008</td>\n",
       "      <td>0.000000</td>\n",
       "      <td>1.102426</td>\n",
       "      <td>0.376794</td>\n",
       "    </tr>\n",
       "    <tr>\n",
       "      <th>2000-01-06</th>\n",
       "      <td>0.598345</td>\n",
       "      <td>0.217048</td>\n",
       "      <td>1.059841</td>\n",
       "      <td>0.000000</td>\n",
       "    </tr>\n",
       "    <tr>\n",
       "      <th>2000-01-07</th>\n",
       "      <td>0.599023</td>\n",
       "      <td>0.000000</td>\n",
       "      <td>0.792042</td>\n",
       "      <td>0.515547</td>\n",
       "    </tr>\n",
       "    <tr>\n",
       "      <th>2000-01-08</th>\n",
       "      <td>0.000000</td>\n",
       "      <td>0.000000</td>\n",
       "      <td>0.010137</td>\n",
       "      <td>0.945929</td>\n",
       "    </tr>\n",
       "  </tbody>\n",
       "</table>\n",
       "</div>"
      ],
      "text/plain": [
       "                   A         B         C         D\n",
       "2000-01-01  0.220948  0.200429  0.798154  0.000000\n",
       "2000-01-02  0.767983  0.000000  1.374023  0.291825\n",
       "2000-01-03  0.370752  0.000000  0.000000  0.211555\n",
       "2000-01-04  0.000000  1.959823  0.248056  0.000000\n",
       "2000-01-05  0.038008  0.000000  1.102426  0.376794\n",
       "2000-01-06  0.598345  0.217048  1.059841  0.000000\n",
       "2000-01-07  0.599023  0.000000  0.792042  0.515547\n",
       "2000-01-08  0.000000  0.000000  0.010137  0.945929"
      ]
     },
     "execution_count": 228,
     "metadata": {},
     "output_type": "execute_result"
    }
   ],
   "source": [
    "df2 = df.copy()\n",
    "\n",
    "df2[df2 < 0] = 0\n",
    "\n",
    "df2"
   ]
  },
  {
   "cell_type": "code",
   "execution_count": 229,
   "id": "ee25c043",
   "metadata": {},
   "outputs": [
    {
     "data": {
      "text/html": [
       "<div>\n",
       "<style scoped>\n",
       "    .dataframe tbody tr th:only-of-type {\n",
       "        vertical-align: middle;\n",
       "    }\n",
       "\n",
       "    .dataframe tbody tr th {\n",
       "        vertical-align: top;\n",
       "    }\n",
       "\n",
       "    .dataframe thead th {\n",
       "        text-align: right;\n",
       "    }\n",
       "</style>\n",
       "<table border=\"1\" class=\"dataframe\">\n",
       "  <thead>\n",
       "    <tr style=\"text-align: right;\">\n",
       "      <th></th>\n",
       "      <th>A</th>\n",
       "      <th>B</th>\n",
       "      <th>C</th>\n",
       "      <th>D</th>\n",
       "    </tr>\n",
       "  </thead>\n",
       "  <tbody>\n",
       "    <tr>\n",
       "      <th>2000-01-01</th>\n",
       "      <td>True</td>\n",
       "      <td>True</td>\n",
       "      <td>True</td>\n",
       "      <td>True</td>\n",
       "    </tr>\n",
       "    <tr>\n",
       "      <th>2000-01-02</th>\n",
       "      <td>True</td>\n",
       "      <td>True</td>\n",
       "      <td>True</td>\n",
       "      <td>True</td>\n",
       "    </tr>\n",
       "    <tr>\n",
       "      <th>2000-01-03</th>\n",
       "      <td>True</td>\n",
       "      <td>True</td>\n",
       "      <td>True</td>\n",
       "      <td>True</td>\n",
       "    </tr>\n",
       "    <tr>\n",
       "      <th>2000-01-04</th>\n",
       "      <td>True</td>\n",
       "      <td>True</td>\n",
       "      <td>True</td>\n",
       "      <td>True</td>\n",
       "    </tr>\n",
       "    <tr>\n",
       "      <th>2000-01-05</th>\n",
       "      <td>True</td>\n",
       "      <td>True</td>\n",
       "      <td>True</td>\n",
       "      <td>True</td>\n",
       "    </tr>\n",
       "    <tr>\n",
       "      <th>2000-01-06</th>\n",
       "      <td>True</td>\n",
       "      <td>True</td>\n",
       "      <td>True</td>\n",
       "      <td>True</td>\n",
       "    </tr>\n",
       "    <tr>\n",
       "      <th>2000-01-07</th>\n",
       "      <td>True</td>\n",
       "      <td>True</td>\n",
       "      <td>True</td>\n",
       "      <td>True</td>\n",
       "    </tr>\n",
       "    <tr>\n",
       "      <th>2000-01-08</th>\n",
       "      <td>True</td>\n",
       "      <td>True</td>\n",
       "      <td>True</td>\n",
       "      <td>True</td>\n",
       "    </tr>\n",
       "  </tbody>\n",
       "</table>\n",
       "</div>"
      ],
      "text/plain": [
       "               A     B     C     D\n",
       "2000-01-01  True  True  True  True\n",
       "2000-01-02  True  True  True  True\n",
       "2000-01-03  True  True  True  True\n",
       "2000-01-04  True  True  True  True\n",
       "2000-01-05  True  True  True  True\n",
       "2000-01-06  True  True  True  True\n",
       "2000-01-07  True  True  True  True\n",
       "2000-01-08  True  True  True  True"
      ]
     },
     "execution_count": 229,
     "metadata": {},
     "output_type": "execute_result"
    }
   ],
   "source": [
    "df.where(df < 0, -df) == np.where(df < 0, df, -df)"
   ]
  },
  {
   "cell_type": "code",
   "execution_count": 231,
   "id": "7627b65c",
   "metadata": {},
   "outputs": [
    {
     "data": {
      "text/html": [
       "<div>\n",
       "<style scoped>\n",
       "    .dataframe tbody tr th:only-of-type {\n",
       "        vertical-align: middle;\n",
       "    }\n",
       "\n",
       "    .dataframe tbody tr th {\n",
       "        vertical-align: top;\n",
       "    }\n",
       "\n",
       "    .dataframe thead th {\n",
       "        text-align: right;\n",
       "    }\n",
       "</style>\n",
       "<table border=\"1\" class=\"dataframe\">\n",
       "  <thead>\n",
       "    <tr style=\"text-align: right;\">\n",
       "      <th></th>\n",
       "      <th>A</th>\n",
       "      <th>B</th>\n",
       "      <th>C</th>\n",
       "      <th>D</th>\n",
       "    </tr>\n",
       "  </thead>\n",
       "  <tbody>\n",
       "    <tr>\n",
       "      <th>2000-01-02</th>\n",
       "      <td>True</td>\n",
       "      <td>False</td>\n",
       "      <td>True</td>\n",
       "      <td>True</td>\n",
       "    </tr>\n",
       "    <tr>\n",
       "      <th>2000-01-03</th>\n",
       "      <td>True</td>\n",
       "      <td>False</td>\n",
       "      <td>False</td>\n",
       "      <td>True</td>\n",
       "    </tr>\n",
       "    <tr>\n",
       "      <th>2000-01-04</th>\n",
       "      <td>False</td>\n",
       "      <td>True</td>\n",
       "      <td>True</td>\n",
       "      <td>False</td>\n",
       "    </tr>\n",
       "  </tbody>\n",
       "</table>\n",
       "</div>"
      ],
      "text/plain": [
       "                A      B      C      D\n",
       "2000-01-02   True  False   True   True\n",
       "2000-01-03   True  False  False   True\n",
       "2000-01-04  False   True   True  False"
      ]
     },
     "execution_count": 231,
     "metadata": {},
     "output_type": "execute_result"
    }
   ],
   "source": [
    "df2[1:4] > 0"
   ]
  },
  {
   "cell_type": "code",
   "execution_count": 230,
   "id": "2c712be0",
   "metadata": {},
   "outputs": [
    {
     "data": {
      "text/html": [
       "<div>\n",
       "<style scoped>\n",
       "    .dataframe tbody tr th:only-of-type {\n",
       "        vertical-align: middle;\n",
       "    }\n",
       "\n",
       "    .dataframe tbody tr th {\n",
       "        vertical-align: top;\n",
       "    }\n",
       "\n",
       "    .dataframe thead th {\n",
       "        text-align: right;\n",
       "    }\n",
       "</style>\n",
       "<table border=\"1\" class=\"dataframe\">\n",
       "  <thead>\n",
       "    <tr style=\"text-align: right;\">\n",
       "      <th></th>\n",
       "      <th>A</th>\n",
       "      <th>B</th>\n",
       "      <th>C</th>\n",
       "      <th>D</th>\n",
       "    </tr>\n",
       "  </thead>\n",
       "  <tbody>\n",
       "    <tr>\n",
       "      <th>2000-01-01</th>\n",
       "      <td>0.220948</td>\n",
       "      <td>0.200429</td>\n",
       "      <td>0.798154</td>\n",
       "      <td>-0.193924</td>\n",
       "    </tr>\n",
       "    <tr>\n",
       "      <th>2000-01-02</th>\n",
       "      <td>3.000000</td>\n",
       "      <td>-1.006180</td>\n",
       "      <td>3.000000</td>\n",
       "      <td>3.000000</td>\n",
       "    </tr>\n",
       "    <tr>\n",
       "      <th>2000-01-03</th>\n",
       "      <td>3.000000</td>\n",
       "      <td>-1.563547</td>\n",
       "      <td>-1.123076</td>\n",
       "      <td>3.000000</td>\n",
       "    </tr>\n",
       "    <tr>\n",
       "      <th>2000-01-04</th>\n",
       "      <td>-0.233436</td>\n",
       "      <td>3.000000</td>\n",
       "      <td>3.000000</td>\n",
       "      <td>-1.683621</td>\n",
       "    </tr>\n",
       "    <tr>\n",
       "      <th>2000-01-05</th>\n",
       "      <td>0.038008</td>\n",
       "      <td>-0.551102</td>\n",
       "      <td>1.102426</td>\n",
       "      <td>0.376794</td>\n",
       "    </tr>\n",
       "    <tr>\n",
       "      <th>2000-01-06</th>\n",
       "      <td>0.598345</td>\n",
       "      <td>0.217048</td>\n",
       "      <td>1.059841</td>\n",
       "      <td>-0.866190</td>\n",
       "    </tr>\n",
       "    <tr>\n",
       "      <th>2000-01-07</th>\n",
       "      <td>0.599023</td>\n",
       "      <td>-0.098238</td>\n",
       "      <td>0.792042</td>\n",
       "      <td>0.515547</td>\n",
       "    </tr>\n",
       "    <tr>\n",
       "      <th>2000-01-08</th>\n",
       "      <td>-1.069666</td>\n",
       "      <td>-1.440930</td>\n",
       "      <td>0.010137</td>\n",
       "      <td>0.945929</td>\n",
       "    </tr>\n",
       "  </tbody>\n",
       "</table>\n",
       "</div>"
      ],
      "text/plain": [
       "                   A         B         C         D\n",
       "2000-01-01  0.220948  0.200429  0.798154 -0.193924\n",
       "2000-01-02  3.000000 -1.006180  3.000000  3.000000\n",
       "2000-01-03  3.000000 -1.563547 -1.123076  3.000000\n",
       "2000-01-04 -0.233436  3.000000  3.000000 -1.683621\n",
       "2000-01-05  0.038008 -0.551102  1.102426  0.376794\n",
       "2000-01-06  0.598345  0.217048  1.059841 -0.866190\n",
       "2000-01-07  0.599023 -0.098238  0.792042  0.515547\n",
       "2000-01-08 -1.069666 -1.440930  0.010137  0.945929"
      ]
     },
     "execution_count": 230,
     "metadata": {},
     "output_type": "execute_result"
    }
   ],
   "source": [
    "df2 = df.copy()\n",
    "\n",
    "df2[df2[1:4] > 0] = 3\n",
    "\n",
    "df2"
   ]
  },
  {
   "cell_type": "code",
   "execution_count": 233,
   "id": "cfd493bc",
   "metadata": {},
   "outputs": [
    {
     "data": {
      "text/html": [
       "<div>\n",
       "<style scoped>\n",
       "    .dataframe tbody tr th:only-of-type {\n",
       "        vertical-align: middle;\n",
       "    }\n",
       "\n",
       "    .dataframe tbody tr th {\n",
       "        vertical-align: top;\n",
       "    }\n",
       "\n",
       "    .dataframe thead th {\n",
       "        text-align: right;\n",
       "    }\n",
       "</style>\n",
       "<table border=\"1\" class=\"dataframe\">\n",
       "  <thead>\n",
       "    <tr style=\"text-align: right;\">\n",
       "      <th></th>\n",
       "      <th>A</th>\n",
       "      <th>B</th>\n",
       "      <th>C</th>\n",
       "      <th>D</th>\n",
       "    </tr>\n",
       "  </thead>\n",
       "  <tbody>\n",
       "    <tr>\n",
       "      <th>2000-01-01</th>\n",
       "      <td>0.220948</td>\n",
       "      <td>0.200429</td>\n",
       "      <td>0.798154</td>\n",
       "      <td>-0.193924</td>\n",
       "    </tr>\n",
       "    <tr>\n",
       "      <th>2000-01-02</th>\n",
       "      <td>0.767983</td>\n",
       "      <td>-1.006180</td>\n",
       "      <td>1.374023</td>\n",
       "      <td>0.291825</td>\n",
       "    </tr>\n",
       "    <tr>\n",
       "      <th>2000-01-03</th>\n",
       "      <td>0.370752</td>\n",
       "      <td>-1.563547</td>\n",
       "      <td>-1.123076</td>\n",
       "      <td>0.211555</td>\n",
       "    </tr>\n",
       "    <tr>\n",
       "      <th>2000-01-04</th>\n",
       "      <td>-0.233436</td>\n",
       "      <td>1.959823</td>\n",
       "      <td>0.248056</td>\n",
       "      <td>-1.683621</td>\n",
       "    </tr>\n",
       "    <tr>\n",
       "      <th>2000-01-05</th>\n",
       "      <td>0.038008</td>\n",
       "      <td>-0.551102</td>\n",
       "      <td>1.102426</td>\n",
       "      <td>0.376794</td>\n",
       "    </tr>\n",
       "    <tr>\n",
       "      <th>2000-01-06</th>\n",
       "      <td>0.598345</td>\n",
       "      <td>0.217048</td>\n",
       "      <td>1.059841</td>\n",
       "      <td>-0.866190</td>\n",
       "    </tr>\n",
       "    <tr>\n",
       "      <th>2000-01-07</th>\n",
       "      <td>0.599023</td>\n",
       "      <td>-0.098238</td>\n",
       "      <td>0.792042</td>\n",
       "      <td>0.515547</td>\n",
       "    </tr>\n",
       "    <tr>\n",
       "      <th>2000-01-08</th>\n",
       "      <td>-1.069666</td>\n",
       "      <td>-1.440930</td>\n",
       "      <td>0.010137</td>\n",
       "      <td>0.945929</td>\n",
       "    </tr>\n",
       "  </tbody>\n",
       "</table>\n",
       "</div>"
      ],
      "text/plain": [
       "                   A         B         C         D\n",
       "2000-01-01  0.220948  0.200429  0.798154 -0.193924\n",
       "2000-01-02  0.767983 -1.006180  1.374023  0.291825\n",
       "2000-01-03  0.370752 -1.563547 -1.123076  0.211555\n",
       "2000-01-04 -0.233436  1.959823  0.248056 -1.683621\n",
       "2000-01-05  0.038008 -0.551102  1.102426  0.376794\n",
       "2000-01-06  0.598345  0.217048  1.059841 -0.866190\n",
       "2000-01-07  0.599023 -0.098238  0.792042  0.515547\n",
       "2000-01-08 -1.069666 -1.440930  0.010137  0.945929"
      ]
     },
     "execution_count": 233,
     "metadata": {},
     "output_type": "execute_result"
    }
   ],
   "source": [
    "df2 = df.copy()\n",
    "df2"
   ]
  },
  {
   "cell_type": "code",
   "execution_count": 234,
   "id": "0d507ec6",
   "metadata": {},
   "outputs": [
    {
     "data": {
      "text/html": [
       "<div>\n",
       "<style scoped>\n",
       "    .dataframe tbody tr th:only-of-type {\n",
       "        vertical-align: middle;\n",
       "    }\n",
       "\n",
       "    .dataframe tbody tr th {\n",
       "        vertical-align: top;\n",
       "    }\n",
       "\n",
       "    .dataframe thead th {\n",
       "        text-align: right;\n",
       "    }\n",
       "</style>\n",
       "<table border=\"1\" class=\"dataframe\">\n",
       "  <thead>\n",
       "    <tr style=\"text-align: right;\">\n",
       "      <th></th>\n",
       "      <th>A</th>\n",
       "      <th>B</th>\n",
       "      <th>C</th>\n",
       "      <th>D</th>\n",
       "    </tr>\n",
       "  </thead>\n",
       "  <tbody>\n",
       "    <tr>\n",
       "      <th>2000-01-01</th>\n",
       "      <td>0.220948</td>\n",
       "      <td>0.200429</td>\n",
       "      <td>0.798154</td>\n",
       "      <td>0.220948</td>\n",
       "    </tr>\n",
       "    <tr>\n",
       "      <th>2000-01-02</th>\n",
       "      <td>0.767983</td>\n",
       "      <td>0.767983</td>\n",
       "      <td>1.374023</td>\n",
       "      <td>0.291825</td>\n",
       "    </tr>\n",
       "    <tr>\n",
       "      <th>2000-01-03</th>\n",
       "      <td>0.370752</td>\n",
       "      <td>0.370752</td>\n",
       "      <td>0.370752</td>\n",
       "      <td>0.211555</td>\n",
       "    </tr>\n",
       "    <tr>\n",
       "      <th>2000-01-04</th>\n",
       "      <td>-0.233436</td>\n",
       "      <td>1.959823</td>\n",
       "      <td>0.248056</td>\n",
       "      <td>-0.233436</td>\n",
       "    </tr>\n",
       "    <tr>\n",
       "      <th>2000-01-05</th>\n",
       "      <td>0.038008</td>\n",
       "      <td>0.038008</td>\n",
       "      <td>1.102426</td>\n",
       "      <td>0.376794</td>\n",
       "    </tr>\n",
       "    <tr>\n",
       "      <th>2000-01-06</th>\n",
       "      <td>0.598345</td>\n",
       "      <td>0.217048</td>\n",
       "      <td>1.059841</td>\n",
       "      <td>0.598345</td>\n",
       "    </tr>\n",
       "    <tr>\n",
       "      <th>2000-01-07</th>\n",
       "      <td>0.599023</td>\n",
       "      <td>0.599023</td>\n",
       "      <td>0.792042</td>\n",
       "      <td>0.515547</td>\n",
       "    </tr>\n",
       "    <tr>\n",
       "      <th>2000-01-08</th>\n",
       "      <td>-1.069666</td>\n",
       "      <td>-1.069666</td>\n",
       "      <td>0.010137</td>\n",
       "      <td>0.945929</td>\n",
       "    </tr>\n",
       "  </tbody>\n",
       "</table>\n",
       "</div>"
      ],
      "text/plain": [
       "                   A         B         C         D\n",
       "2000-01-01  0.220948  0.200429  0.798154  0.220948\n",
       "2000-01-02  0.767983  0.767983  1.374023  0.291825\n",
       "2000-01-03  0.370752  0.370752  0.370752  0.211555\n",
       "2000-01-04 -0.233436  1.959823  0.248056 -0.233436\n",
       "2000-01-05  0.038008  0.038008  1.102426  0.376794\n",
       "2000-01-06  0.598345  0.217048  1.059841  0.598345\n",
       "2000-01-07  0.599023  0.599023  0.792042  0.515547\n",
       "2000-01-08 -1.069666 -1.069666  0.010137  0.945929"
      ]
     },
     "execution_count": 234,
     "metadata": {},
     "output_type": "execute_result"
    }
   ],
   "source": [
    "df2.where(df2 > 0, df2['A'], axis='index')"
   ]
  },
  {
   "cell_type": "code",
   "execution_count": 236,
   "id": "91aefb7c",
   "metadata": {},
   "outputs": [
    {
     "data": {
      "text/html": [
       "<div>\n",
       "<style scoped>\n",
       "    .dataframe tbody tr th:only-of-type {\n",
       "        vertical-align: middle;\n",
       "    }\n",
       "\n",
       "    .dataframe tbody tr th {\n",
       "        vertical-align: top;\n",
       "    }\n",
       "\n",
       "    .dataframe thead th {\n",
       "        text-align: right;\n",
       "    }\n",
       "</style>\n",
       "<table border=\"1\" class=\"dataframe\">\n",
       "  <thead>\n",
       "    <tr style=\"text-align: right;\">\n",
       "      <th></th>\n",
       "      <th>A</th>\n",
       "      <th>B</th>\n",
       "      <th>C</th>\n",
       "      <th>D</th>\n",
       "    </tr>\n",
       "  </thead>\n",
       "  <tbody>\n",
       "    <tr>\n",
       "      <th>2000-01-01</th>\n",
       "      <td>0.220948</td>\n",
       "      <td>0.200429</td>\n",
       "      <td>0.798154</td>\n",
       "      <td>0.220948</td>\n",
       "    </tr>\n",
       "    <tr>\n",
       "      <th>2000-01-02</th>\n",
       "      <td>0.767983</td>\n",
       "      <td>0.767983</td>\n",
       "      <td>1.374023</td>\n",
       "      <td>0.291825</td>\n",
       "    </tr>\n",
       "    <tr>\n",
       "      <th>2000-01-03</th>\n",
       "      <td>0.370752</td>\n",
       "      <td>0.370752</td>\n",
       "      <td>0.370752</td>\n",
       "      <td>0.211555</td>\n",
       "    </tr>\n",
       "    <tr>\n",
       "      <th>2000-01-04</th>\n",
       "      <td>-0.233436</td>\n",
       "      <td>1.959823</td>\n",
       "      <td>0.248056</td>\n",
       "      <td>-0.233436</td>\n",
       "    </tr>\n",
       "    <tr>\n",
       "      <th>2000-01-05</th>\n",
       "      <td>0.038008</td>\n",
       "      <td>0.038008</td>\n",
       "      <td>1.102426</td>\n",
       "      <td>0.376794</td>\n",
       "    </tr>\n",
       "    <tr>\n",
       "      <th>2000-01-06</th>\n",
       "      <td>0.598345</td>\n",
       "      <td>0.217048</td>\n",
       "      <td>1.059841</td>\n",
       "      <td>0.598345</td>\n",
       "    </tr>\n",
       "    <tr>\n",
       "      <th>2000-01-07</th>\n",
       "      <td>0.599023</td>\n",
       "      <td>0.599023</td>\n",
       "      <td>0.792042</td>\n",
       "      <td>0.515547</td>\n",
       "    </tr>\n",
       "    <tr>\n",
       "      <th>2000-01-08</th>\n",
       "      <td>-1.069666</td>\n",
       "      <td>-1.069666</td>\n",
       "      <td>0.010137</td>\n",
       "      <td>0.945929</td>\n",
       "    </tr>\n",
       "  </tbody>\n",
       "</table>\n",
       "</div>"
      ],
      "text/plain": [
       "                   A         B         C         D\n",
       "2000-01-01  0.220948  0.200429  0.798154  0.220948\n",
       "2000-01-02  0.767983  0.767983  1.374023  0.291825\n",
       "2000-01-03  0.370752  0.370752  0.370752  0.211555\n",
       "2000-01-04 -0.233436  1.959823  0.248056 -0.233436\n",
       "2000-01-05  0.038008  0.038008  1.102426  0.376794\n",
       "2000-01-06  0.598345  0.217048  1.059841  0.598345\n",
       "2000-01-07  0.599023  0.599023  0.792042  0.515547\n",
       "2000-01-08 -1.069666 -1.069666  0.010137  0.945929"
      ]
     },
     "execution_count": 236,
     "metadata": {},
     "output_type": "execute_result"
    }
   ],
   "source": [
    "#equivivalent to\n",
    "df2 = df.copy()\n",
    "\n",
    "df.apply(lambda x, y: x.where(x > 0, y), y=df['A'])"
   ]
  },
  {
   "cell_type": "code",
   "execution_count": 235,
   "id": "3fc5f905",
   "metadata": {},
   "outputs": [
    {
     "data": {
      "text/html": [
       "<div>\n",
       "<style scoped>\n",
       "    .dataframe tbody tr th:only-of-type {\n",
       "        vertical-align: middle;\n",
       "    }\n",
       "\n",
       "    .dataframe tbody tr th {\n",
       "        vertical-align: top;\n",
       "    }\n",
       "\n",
       "    .dataframe thead th {\n",
       "        text-align: right;\n",
       "    }\n",
       "</style>\n",
       "<table border=\"1\" class=\"dataframe\">\n",
       "  <thead>\n",
       "    <tr style=\"text-align: right;\">\n",
       "      <th></th>\n",
       "      <th>A</th>\n",
       "      <th>B</th>\n",
       "      <th>C</th>\n",
       "      <th>D</th>\n",
       "    </tr>\n",
       "  </thead>\n",
       "  <tbody>\n",
       "    <tr>\n",
       "      <th>2000-01-01</th>\n",
       "      <td>0.220948</td>\n",
       "      <td>0.200429</td>\n",
       "      <td>0.798154</td>\n",
       "      <td>NaN</td>\n",
       "    </tr>\n",
       "    <tr>\n",
       "      <th>2000-01-02</th>\n",
       "      <td>0.767983</td>\n",
       "      <td>NaN</td>\n",
       "      <td>1.374023</td>\n",
       "      <td>0.291825</td>\n",
       "    </tr>\n",
       "    <tr>\n",
       "      <th>2000-01-03</th>\n",
       "      <td>0.370752</td>\n",
       "      <td>NaN</td>\n",
       "      <td>NaN</td>\n",
       "      <td>0.211555</td>\n",
       "    </tr>\n",
       "    <tr>\n",
       "      <th>2000-01-04</th>\n",
       "      <td>NaN</td>\n",
       "      <td>1.959823</td>\n",
       "      <td>0.248056</td>\n",
       "      <td>NaN</td>\n",
       "    </tr>\n",
       "    <tr>\n",
       "      <th>2000-01-05</th>\n",
       "      <td>0.038008</td>\n",
       "      <td>NaN</td>\n",
       "      <td>1.102426</td>\n",
       "      <td>0.376794</td>\n",
       "    </tr>\n",
       "    <tr>\n",
       "      <th>2000-01-06</th>\n",
       "      <td>0.598345</td>\n",
       "      <td>0.217048</td>\n",
       "      <td>1.059841</td>\n",
       "      <td>NaN</td>\n",
       "    </tr>\n",
       "    <tr>\n",
       "      <th>2000-01-07</th>\n",
       "      <td>0.599023</td>\n",
       "      <td>NaN</td>\n",
       "      <td>0.792042</td>\n",
       "      <td>0.515547</td>\n",
       "    </tr>\n",
       "    <tr>\n",
       "      <th>2000-01-08</th>\n",
       "      <td>NaN</td>\n",
       "      <td>NaN</td>\n",
       "      <td>0.010137</td>\n",
       "      <td>0.945929</td>\n",
       "    </tr>\n",
       "  </tbody>\n",
       "</table>\n",
       "</div>"
      ],
      "text/plain": [
       "                   A         B         C         D\n",
       "2000-01-01  0.220948  0.200429  0.798154       NaN\n",
       "2000-01-02  0.767983       NaN  1.374023  0.291825\n",
       "2000-01-03  0.370752       NaN       NaN  0.211555\n",
       "2000-01-04       NaN  1.959823  0.248056       NaN\n",
       "2000-01-05  0.038008       NaN  1.102426  0.376794\n",
       "2000-01-06  0.598345  0.217048  1.059841       NaN\n",
       "2000-01-07  0.599023       NaN  0.792042  0.515547\n",
       "2000-01-08       NaN       NaN  0.010137  0.945929"
      ]
     },
     "execution_count": 235,
     "metadata": {},
     "output_type": "execute_result"
    }
   ],
   "source": [
    "# This would align differently - each column would use its own row of values\n",
    "df2.where(df2 > 0, df2['A'], axis='columns')\n",
    "# Since df2 has columns and df2['A'] is a column itself, \n",
    "# that means, that df['A'] doesnt align with any of the df2 columns \n",
    "# because it has only the same index as df2 but not the columns, \n",
    "# thats means that NaN will be put in every place where there is False"
   ]
  },
  {
   "cell_type": "code",
   "execution_count": 237,
   "id": "5580168a",
   "metadata": {},
   "outputs": [
    {
     "data": {
      "text/html": [
       "<div>\n",
       "<style scoped>\n",
       "    .dataframe tbody tr th:only-of-type {\n",
       "        vertical-align: middle;\n",
       "    }\n",
       "\n",
       "    .dataframe tbody tr th {\n",
       "        vertical-align: top;\n",
       "    }\n",
       "\n",
       "    .dataframe thead th {\n",
       "        text-align: right;\n",
       "    }\n",
       "</style>\n",
       "<table border=\"1\" class=\"dataframe\">\n",
       "  <thead>\n",
       "    <tr style=\"text-align: right;\">\n",
       "      <th></th>\n",
       "      <th>A</th>\n",
       "      <th>B</th>\n",
       "      <th>C</th>\n",
       "    </tr>\n",
       "  </thead>\n",
       "  <tbody>\n",
       "    <tr>\n",
       "      <th>0</th>\n",
       "      <td>1</td>\n",
       "      <td>4</td>\n",
       "      <td>7</td>\n",
       "    </tr>\n",
       "    <tr>\n",
       "      <th>1</th>\n",
       "      <td>2</td>\n",
       "      <td>5</td>\n",
       "      <td>8</td>\n",
       "    </tr>\n",
       "    <tr>\n",
       "      <th>2</th>\n",
       "      <td>3</td>\n",
       "      <td>6</td>\n",
       "      <td>9</td>\n",
       "    </tr>\n",
       "  </tbody>\n",
       "</table>\n",
       "</div>"
      ],
      "text/plain": [
       "   A  B  C\n",
       "0  1  4  7\n",
       "1  2  5  8\n",
       "2  3  6  9"
      ]
     },
     "execution_count": 237,
     "metadata": {},
     "output_type": "execute_result"
    }
   ],
   "source": [
    "df3 = pd.DataFrame({'A': [1, 2, 3],\n",
    "\n",
    "                    'B': [4, 5, 6],\n",
    "\n",
    "                    'C': [7, 8, 9]})\n",
    "\n",
    "\n",
    "df3"
   ]
  },
  {
   "cell_type": "code",
   "execution_count": 238,
   "id": "6784ec8e",
   "metadata": {},
   "outputs": [
    {
     "data": {
      "text/html": [
       "<div>\n",
       "<style scoped>\n",
       "    .dataframe tbody tr th:only-of-type {\n",
       "        vertical-align: middle;\n",
       "    }\n",
       "\n",
       "    .dataframe tbody tr th {\n",
       "        vertical-align: top;\n",
       "    }\n",
       "\n",
       "    .dataframe thead th {\n",
       "        text-align: right;\n",
       "    }\n",
       "</style>\n",
       "<table border=\"1\" class=\"dataframe\">\n",
       "  <thead>\n",
       "    <tr style=\"text-align: right;\">\n",
       "      <th></th>\n",
       "      <th>A</th>\n",
       "      <th>B</th>\n",
       "      <th>C</th>\n",
       "    </tr>\n",
       "  </thead>\n",
       "  <tbody>\n",
       "    <tr>\n",
       "      <th>0</th>\n",
       "      <td>11</td>\n",
       "      <td>14</td>\n",
       "      <td>7</td>\n",
       "    </tr>\n",
       "    <tr>\n",
       "      <th>1</th>\n",
       "      <td>12</td>\n",
       "      <td>5</td>\n",
       "      <td>8</td>\n",
       "    </tr>\n",
       "    <tr>\n",
       "      <th>2</th>\n",
       "      <td>13</td>\n",
       "      <td>6</td>\n",
       "      <td>9</td>\n",
       "    </tr>\n",
       "  </tbody>\n",
       "</table>\n",
       "</div>"
      ],
      "text/plain": [
       "    A   B  C\n",
       "0  11  14  7\n",
       "1  12   5  8\n",
       "2  13   6  9"
      ]
     },
     "execution_count": 238,
     "metadata": {},
     "output_type": "execute_result"
    }
   ],
   "source": [
    "df3.where(lambda x: x > 4, lambda x: x + 10)"
   ]
  },
  {
   "cell_type": "code",
   "execution_count": 239,
   "id": "df640e61",
   "metadata": {},
   "outputs": [
    {
     "data": {
      "text/plain": [
       "4    0\n",
       "3    1\n",
       "2    2\n",
       "1    3\n",
       "0    4\n",
       "dtype: int64"
      ]
     },
     "execution_count": 239,
     "metadata": {},
     "output_type": "execute_result"
    }
   ],
   "source": [
    "s"
   ]
  },
  {
   "cell_type": "code",
   "execution_count": 240,
   "id": "e9597eb3",
   "metadata": {},
   "outputs": [
    {
     "data": {
      "text/plain": [
       "4   NaN\n",
       "3   NaN\n",
       "2   NaN\n",
       "1   NaN\n",
       "0   NaN\n",
       "dtype: float64"
      ]
     },
     "execution_count": 240,
     "metadata": {},
     "output_type": "execute_result"
    }
   ],
   "source": [
    "s.mask(s >= 0)"
   ]
  },
  {
   "cell_type": "code",
   "execution_count": 241,
   "id": "ca00b4d1",
   "metadata": {},
   "outputs": [
    {
     "data": {
      "text/html": [
       "<div>\n",
       "<style scoped>\n",
       "    .dataframe tbody tr th:only-of-type {\n",
       "        vertical-align: middle;\n",
       "    }\n",
       "\n",
       "    .dataframe tbody tr th {\n",
       "        vertical-align: top;\n",
       "    }\n",
       "\n",
       "    .dataframe thead th {\n",
       "        text-align: right;\n",
       "    }\n",
       "</style>\n",
       "<table border=\"1\" class=\"dataframe\">\n",
       "  <thead>\n",
       "    <tr style=\"text-align: right;\">\n",
       "      <th></th>\n",
       "      <th>A</th>\n",
       "      <th>B</th>\n",
       "      <th>C</th>\n",
       "      <th>D</th>\n",
       "    </tr>\n",
       "  </thead>\n",
       "  <tbody>\n",
       "    <tr>\n",
       "      <th>2000-01-01</th>\n",
       "      <td>NaN</td>\n",
       "      <td>NaN</td>\n",
       "      <td>NaN</td>\n",
       "      <td>-0.193924</td>\n",
       "    </tr>\n",
       "    <tr>\n",
       "      <th>2000-01-02</th>\n",
       "      <td>NaN</td>\n",
       "      <td>-1.006180</td>\n",
       "      <td>NaN</td>\n",
       "      <td>NaN</td>\n",
       "    </tr>\n",
       "    <tr>\n",
       "      <th>2000-01-03</th>\n",
       "      <td>NaN</td>\n",
       "      <td>-1.563547</td>\n",
       "      <td>-1.123076</td>\n",
       "      <td>NaN</td>\n",
       "    </tr>\n",
       "    <tr>\n",
       "      <th>2000-01-04</th>\n",
       "      <td>-0.233436</td>\n",
       "      <td>NaN</td>\n",
       "      <td>NaN</td>\n",
       "      <td>-1.683621</td>\n",
       "    </tr>\n",
       "    <tr>\n",
       "      <th>2000-01-05</th>\n",
       "      <td>NaN</td>\n",
       "      <td>-0.551102</td>\n",
       "      <td>NaN</td>\n",
       "      <td>NaN</td>\n",
       "    </tr>\n",
       "    <tr>\n",
       "      <th>2000-01-06</th>\n",
       "      <td>NaN</td>\n",
       "      <td>NaN</td>\n",
       "      <td>NaN</td>\n",
       "      <td>-0.866190</td>\n",
       "    </tr>\n",
       "    <tr>\n",
       "      <th>2000-01-07</th>\n",
       "      <td>NaN</td>\n",
       "      <td>-0.098238</td>\n",
       "      <td>NaN</td>\n",
       "      <td>NaN</td>\n",
       "    </tr>\n",
       "    <tr>\n",
       "      <th>2000-01-08</th>\n",
       "      <td>-1.069666</td>\n",
       "      <td>-1.440930</td>\n",
       "      <td>NaN</td>\n",
       "      <td>NaN</td>\n",
       "    </tr>\n",
       "  </tbody>\n",
       "</table>\n",
       "</div>"
      ],
      "text/plain": [
       "                   A         B         C         D\n",
       "2000-01-01       NaN       NaN       NaN -0.193924\n",
       "2000-01-02       NaN -1.006180       NaN       NaN\n",
       "2000-01-03       NaN -1.563547 -1.123076       NaN\n",
       "2000-01-04 -0.233436       NaN       NaN -1.683621\n",
       "2000-01-05       NaN -0.551102       NaN       NaN\n",
       "2000-01-06       NaN       NaN       NaN -0.866190\n",
       "2000-01-07       NaN -0.098238       NaN       NaN\n",
       "2000-01-08 -1.069666 -1.440930       NaN       NaN"
      ]
     },
     "execution_count": 241,
     "metadata": {},
     "output_type": "execute_result"
    }
   ],
   "source": [
    "df.mask(df >= 0)"
   ]
  },
  {
   "cell_type": "code",
   "execution_count": 242,
   "id": "1c96e6fe",
   "metadata": {},
   "outputs": [
    {
     "data": {
      "text/html": [
       "<div>\n",
       "<style scoped>\n",
       "    .dataframe tbody tr th:only-of-type {\n",
       "        vertical-align: middle;\n",
       "    }\n",
       "\n",
       "    .dataframe tbody tr th {\n",
       "        vertical-align: top;\n",
       "    }\n",
       "\n",
       "    .dataframe thead th {\n",
       "        text-align: right;\n",
       "    }\n",
       "</style>\n",
       "<table border=\"1\" class=\"dataframe\">\n",
       "  <thead>\n",
       "    <tr style=\"text-align: right;\">\n",
       "      <th></th>\n",
       "      <th>col1</th>\n",
       "      <th>col2</th>\n",
       "      <th>color</th>\n",
       "    </tr>\n",
       "  </thead>\n",
       "  <tbody>\n",
       "    <tr>\n",
       "      <th>0</th>\n",
       "      <td>A</td>\n",
       "      <td>Z</td>\n",
       "      <td>green</td>\n",
       "    </tr>\n",
       "    <tr>\n",
       "      <th>1</th>\n",
       "      <td>B</td>\n",
       "      <td>Z</td>\n",
       "      <td>green</td>\n",
       "    </tr>\n",
       "    <tr>\n",
       "      <th>2</th>\n",
       "      <td>B</td>\n",
       "      <td>X</td>\n",
       "      <td>red</td>\n",
       "    </tr>\n",
       "    <tr>\n",
       "      <th>3</th>\n",
       "      <td>C</td>\n",
       "      <td>Y</td>\n",
       "      <td>red</td>\n",
       "    </tr>\n",
       "  </tbody>\n",
       "</table>\n",
       "</div>"
      ],
      "text/plain": [
       "  col1 col2  color\n",
       "0    A    Z  green\n",
       "1    B    Z  green\n",
       "2    B    X    red\n",
       "3    C    Y    red"
      ]
     },
     "execution_count": 242,
     "metadata": {},
     "output_type": "execute_result"
    }
   ],
   "source": [
    "df = pd.DataFrame({'col1': list('ABBC'), 'col2': list('ZZXY')})\n",
    "\n",
    "df['color'] = np.where(df['col2'] == 'Z', 'green', 'red')\n",
    "\n",
    "df"
   ]
  },
  {
   "cell_type": "code",
   "execution_count": 243,
   "id": "7cd0b053",
   "metadata": {},
   "outputs": [
    {
     "data": {
      "text/html": [
       "<div>\n",
       "<style scoped>\n",
       "    .dataframe tbody tr th:only-of-type {\n",
       "        vertical-align: middle;\n",
       "    }\n",
       "\n",
       "    .dataframe tbody tr th {\n",
       "        vertical-align: top;\n",
       "    }\n",
       "\n",
       "    .dataframe thead th {\n",
       "        text-align: right;\n",
       "    }\n",
       "</style>\n",
       "<table border=\"1\" class=\"dataframe\">\n",
       "  <thead>\n",
       "    <tr style=\"text-align: right;\">\n",
       "      <th></th>\n",
       "      <th>col1</th>\n",
       "      <th>col2</th>\n",
       "      <th>color</th>\n",
       "    </tr>\n",
       "  </thead>\n",
       "  <tbody>\n",
       "    <tr>\n",
       "      <th>0</th>\n",
       "      <td>A</td>\n",
       "      <td>Z</td>\n",
       "      <td>yellow</td>\n",
       "    </tr>\n",
       "    <tr>\n",
       "      <th>1</th>\n",
       "      <td>B</td>\n",
       "      <td>Z</td>\n",
       "      <td>blue</td>\n",
       "    </tr>\n",
       "    <tr>\n",
       "      <th>2</th>\n",
       "      <td>B</td>\n",
       "      <td>X</td>\n",
       "      <td>purple</td>\n",
       "    </tr>\n",
       "    <tr>\n",
       "      <th>3</th>\n",
       "      <td>C</td>\n",
       "      <td>Y</td>\n",
       "      <td>black</td>\n",
       "    </tr>\n",
       "  </tbody>\n",
       "</table>\n",
       "</div>"
      ],
      "text/plain": [
       "  col1 col2   color\n",
       "0    A    Z  yellow\n",
       "1    B    Z    blue\n",
       "2    B    X  purple\n",
       "3    C    Y   black"
      ]
     },
     "execution_count": 243,
     "metadata": {},
     "output_type": "execute_result"
    }
   ],
   "source": [
    "conditions = [\n",
    "\n",
    "    (df['col2'] == 'Z') & (df['col1'] == 'A'),\n",
    "\n",
    "    (df['col2'] == 'Z') & (df['col1'] == 'B'),\n",
    "\n",
    "    (df['col1'] == 'B')\n",
    "\n",
    "]\n",
    "\n",
    "\n",
    "\n",
    "choices = ['yellow', 'blue', 'purple']\n",
    "\n",
    "df['color'] = np.select(conditions, choices, default='black')\n",
    "\n",
    "df"
   ]
  },
  {
   "cell_type": "code",
   "execution_count": 254,
   "id": "7a519cb2",
   "metadata": {},
   "outputs": [
    {
     "data": {
      "text/html": [
       "<div>\n",
       "<style scoped>\n",
       "    .dataframe tbody tr th:only-of-type {\n",
       "        vertical-align: middle;\n",
       "    }\n",
       "\n",
       "    .dataframe tbody tr th {\n",
       "        vertical-align: top;\n",
       "    }\n",
       "\n",
       "    .dataframe thead th {\n",
       "        text-align: right;\n",
       "    }\n",
       "</style>\n",
       "<table border=\"1\" class=\"dataframe\">\n",
       "  <thead>\n",
       "    <tr style=\"text-align: right;\">\n",
       "      <th></th>\n",
       "      <th>a</th>\n",
       "      <th>b</th>\n",
       "      <th>c</th>\n",
       "    </tr>\n",
       "  </thead>\n",
       "  <tbody>\n",
       "    <tr>\n",
       "      <th>0</th>\n",
       "      <td>0.968069</td>\n",
       "      <td>0.733427</td>\n",
       "      <td>0.755082</td>\n",
       "    </tr>\n",
       "    <tr>\n",
       "      <th>1</th>\n",
       "      <td>0.548076</td>\n",
       "      <td>0.514023</td>\n",
       "      <td>0.706560</td>\n",
       "    </tr>\n",
       "    <tr>\n",
       "      <th>2</th>\n",
       "      <td>0.739894</td>\n",
       "      <td>0.897464</td>\n",
       "      <td>0.974170</td>\n",
       "    </tr>\n",
       "    <tr>\n",
       "      <th>3</th>\n",
       "      <td>0.796523</td>\n",
       "      <td>0.032467</td>\n",
       "      <td>0.648576</td>\n",
       "    </tr>\n",
       "    <tr>\n",
       "      <th>4</th>\n",
       "      <td>0.598555</td>\n",
       "      <td>0.461533</td>\n",
       "      <td>0.146553</td>\n",
       "    </tr>\n",
       "    <tr>\n",
       "      <th>5</th>\n",
       "      <td>0.639582</td>\n",
       "      <td>0.861635</td>\n",
       "      <td>0.333125</td>\n",
       "    </tr>\n",
       "    <tr>\n",
       "      <th>6</th>\n",
       "      <td>0.947898</td>\n",
       "      <td>0.546949</td>\n",
       "      <td>0.256285</td>\n",
       "    </tr>\n",
       "    <tr>\n",
       "      <th>7</th>\n",
       "      <td>0.774016</td>\n",
       "      <td>0.794493</td>\n",
       "      <td>0.971337</td>\n",
       "    </tr>\n",
       "    <tr>\n",
       "      <th>8</th>\n",
       "      <td>0.816815</td>\n",
       "      <td>0.246662</td>\n",
       "      <td>0.914904</td>\n",
       "    </tr>\n",
       "    <tr>\n",
       "      <th>9</th>\n",
       "      <td>0.906179</td>\n",
       "      <td>0.195645</td>\n",
       "      <td>0.616728</td>\n",
       "    </tr>\n",
       "  </tbody>\n",
       "</table>\n",
       "</div>"
      ],
      "text/plain": [
       "          a         b         c\n",
       "0  0.968069  0.733427  0.755082\n",
       "1  0.548076  0.514023  0.706560\n",
       "2  0.739894  0.897464  0.974170\n",
       "3  0.796523  0.032467  0.648576\n",
       "4  0.598555  0.461533  0.146553\n",
       "5  0.639582  0.861635  0.333125\n",
       "6  0.947898  0.546949  0.256285\n",
       "7  0.774016  0.794493  0.971337\n",
       "8  0.816815  0.246662  0.914904\n",
       "9  0.906179  0.195645  0.616728"
      ]
     },
     "execution_count": 254,
     "metadata": {},
     "output_type": "execute_result"
    }
   ],
   "source": [
    "n = 10\n",
    "\n",
    "df = pd.DataFrame(np.random.rand(n, 3), columns=list('abc'))\n",
    "\n",
    "df"
   ]
  },
  {
   "cell_type": "code",
   "execution_count": 255,
   "id": "d1cdea47",
   "metadata": {},
   "outputs": [
    {
     "data": {
      "text/html": [
       "<div>\n",
       "<style scoped>\n",
       "    .dataframe tbody tr th:only-of-type {\n",
       "        vertical-align: middle;\n",
       "    }\n",
       "\n",
       "    .dataframe tbody tr th {\n",
       "        vertical-align: top;\n",
       "    }\n",
       "\n",
       "    .dataframe thead th {\n",
       "        text-align: right;\n",
       "    }\n",
       "</style>\n",
       "<table border=\"1\" class=\"dataframe\">\n",
       "  <thead>\n",
       "    <tr style=\"text-align: right;\">\n",
       "      <th></th>\n",
       "      <th>a</th>\n",
       "      <th>b</th>\n",
       "      <th>c</th>\n",
       "    </tr>\n",
       "  </thead>\n",
       "  <tbody>\n",
       "    <tr>\n",
       "      <th>2</th>\n",
       "      <td>0.739894</td>\n",
       "      <td>0.897464</td>\n",
       "      <td>0.974170</td>\n",
       "    </tr>\n",
       "    <tr>\n",
       "      <th>7</th>\n",
       "      <td>0.774016</td>\n",
       "      <td>0.794493</td>\n",
       "      <td>0.971337</td>\n",
       "    </tr>\n",
       "  </tbody>\n",
       "</table>\n",
       "</div>"
      ],
      "text/plain": [
       "          a         b         c\n",
       "2  0.739894  0.897464  0.974170\n",
       "7  0.774016  0.794493  0.971337"
      ]
     },
     "execution_count": 255,
     "metadata": {},
     "output_type": "execute_result"
    }
   ],
   "source": [
    "# pure python\n",
    "\n",
    "df[(df['a'] < df['b']) & (df['b'] < df['c'])]"
   ]
  },
  {
   "cell_type": "code",
   "execution_count": 259,
   "id": "6e223518",
   "metadata": {},
   "outputs": [
    {
     "data": {
      "text/html": [
       "<div>\n",
       "<style scoped>\n",
       "    .dataframe tbody tr th:only-of-type {\n",
       "        vertical-align: middle;\n",
       "    }\n",
       "\n",
       "    .dataframe tbody tr th {\n",
       "        vertical-align: top;\n",
       "    }\n",
       "\n",
       "    .dataframe thead th {\n",
       "        text-align: right;\n",
       "    }\n",
       "</style>\n",
       "<table border=\"1\" class=\"dataframe\">\n",
       "  <thead>\n",
       "    <tr style=\"text-align: right;\">\n",
       "      <th></th>\n",
       "      <th>a</th>\n",
       "      <th>b</th>\n",
       "      <th>c</th>\n",
       "    </tr>\n",
       "  </thead>\n",
       "  <tbody>\n",
       "    <tr>\n",
       "      <th>2</th>\n",
       "      <td>0.739894</td>\n",
       "      <td>0.897464</td>\n",
       "      <td>0.974170</td>\n",
       "    </tr>\n",
       "    <tr>\n",
       "      <th>7</th>\n",
       "      <td>0.774016</td>\n",
       "      <td>0.794493</td>\n",
       "      <td>0.971337</td>\n",
       "    </tr>\n",
       "  </tbody>\n",
       "</table>\n",
       "</div>"
      ],
      "text/plain": [
       "          a         b         c\n",
       "2  0.739894  0.897464  0.974170\n",
       "7  0.774016  0.794493  0.971337"
      ]
     },
     "execution_count": 259,
     "metadata": {},
     "output_type": "execute_result"
    }
   ],
   "source": [
    "df.query('(a < b) & (b < c)')"
   ]
  },
  {
   "cell_type": "code",
   "execution_count": 265,
   "id": "ea7e1e66",
   "metadata": {},
   "outputs": [
    {
     "data": {
      "text/plain": [
       "10"
      ]
     },
     "execution_count": 265,
     "metadata": {},
     "output_type": "execute_result"
    }
   ],
   "source": [
    "n"
   ]
  },
  {
   "cell_type": "code",
   "execution_count": 266,
   "id": "6e32c821",
   "metadata": {},
   "outputs": [
    {
     "data": {
      "text/html": [
       "<div>\n",
       "<style scoped>\n",
       "    .dataframe tbody tr th:only-of-type {\n",
       "        vertical-align: middle;\n",
       "    }\n",
       "\n",
       "    .dataframe tbody tr th {\n",
       "        vertical-align: top;\n",
       "    }\n",
       "\n",
       "    .dataframe thead th {\n",
       "        text-align: right;\n",
       "    }\n",
       "</style>\n",
       "<table border=\"1\" class=\"dataframe\">\n",
       "  <thead>\n",
       "    <tr style=\"text-align: right;\">\n",
       "      <th></th>\n",
       "      <th>b</th>\n",
       "      <th>c</th>\n",
       "    </tr>\n",
       "    <tr>\n",
       "      <th>a</th>\n",
       "      <th></th>\n",
       "      <th></th>\n",
       "    </tr>\n",
       "  </thead>\n",
       "  <tbody>\n",
       "    <tr>\n",
       "      <th>0</th>\n",
       "      <td>2</td>\n",
       "      <td>2</td>\n",
       "    </tr>\n",
       "    <tr>\n",
       "      <th>1</th>\n",
       "      <td>2</td>\n",
       "      <td>0</td>\n",
       "    </tr>\n",
       "    <tr>\n",
       "      <th>2</th>\n",
       "      <td>4</td>\n",
       "      <td>4</td>\n",
       "    </tr>\n",
       "    <tr>\n",
       "      <th>3</th>\n",
       "      <td>3</td>\n",
       "      <td>3</td>\n",
       "    </tr>\n",
       "    <tr>\n",
       "      <th>4</th>\n",
       "      <td>1</td>\n",
       "      <td>1</td>\n",
       "    </tr>\n",
       "    <tr>\n",
       "      <th>5</th>\n",
       "      <td>3</td>\n",
       "      <td>2</td>\n",
       "    </tr>\n",
       "    <tr>\n",
       "      <th>6</th>\n",
       "      <td>4</td>\n",
       "      <td>2</td>\n",
       "    </tr>\n",
       "    <tr>\n",
       "      <th>7</th>\n",
       "      <td>3</td>\n",
       "      <td>4</td>\n",
       "    </tr>\n",
       "    <tr>\n",
       "      <th>8</th>\n",
       "      <td>0</td>\n",
       "      <td>1</td>\n",
       "    </tr>\n",
       "    <tr>\n",
       "      <th>9</th>\n",
       "      <td>0</td>\n",
       "      <td>3</td>\n",
       "    </tr>\n",
       "  </tbody>\n",
       "</table>\n",
       "</div>"
      ],
      "text/plain": [
       "   b  c\n",
       "a      \n",
       "0  2  2\n",
       "1  2  0\n",
       "2  4  4\n",
       "3  3  3\n",
       "4  1  1\n",
       "5  3  2\n",
       "6  4  2\n",
       "7  3  4\n",
       "8  0  1\n",
       "9  0  3"
      ]
     },
     "execution_count": 266,
     "metadata": {},
     "output_type": "execute_result"
    }
   ],
   "source": [
    "df = pd.DataFrame(np.random.randint(n / 2, size=(n, 2)), columns=list('bc'))\n",
    "\n",
    "df.index.name = 'a'\n",
    "\n",
    "df"
   ]
  },
  {
   "cell_type": "code",
   "execution_count": 267,
   "id": "ef68ab3c",
   "metadata": {},
   "outputs": [
    {
     "data": {
      "text/html": [
       "<div>\n",
       "<style scoped>\n",
       "    .dataframe tbody tr th:only-of-type {\n",
       "        vertical-align: middle;\n",
       "    }\n",
       "\n",
       "    .dataframe tbody tr th {\n",
       "        vertical-align: top;\n",
       "    }\n",
       "\n",
       "    .dataframe thead th {\n",
       "        text-align: right;\n",
       "    }\n",
       "</style>\n",
       "<table border=\"1\" class=\"dataframe\">\n",
       "  <thead>\n",
       "    <tr style=\"text-align: right;\">\n",
       "      <th></th>\n",
       "      <th>b</th>\n",
       "      <th>c</th>\n",
       "    </tr>\n",
       "    <tr>\n",
       "      <th>a</th>\n",
       "      <th></th>\n",
       "      <th></th>\n",
       "    </tr>\n",
       "  </thead>\n",
       "  <tbody>\n",
       "    <tr>\n",
       "      <th>0</th>\n",
       "      <td>2</td>\n",
       "      <td>2</td>\n",
       "    </tr>\n",
       "    <tr>\n",
       "      <th>2</th>\n",
       "      <td>4</td>\n",
       "      <td>4</td>\n",
       "    </tr>\n",
       "    <tr>\n",
       "      <th>3</th>\n",
       "      <td>3</td>\n",
       "      <td>3</td>\n",
       "    </tr>\n",
       "  </tbody>\n",
       "</table>\n",
       "</div>"
      ],
      "text/plain": [
       "   b  c\n",
       "a      \n",
       "0  2  2\n",
       "2  4  4\n",
       "3  3  3"
      ]
     },
     "execution_count": 267,
     "metadata": {},
     "output_type": "execute_result"
    }
   ],
   "source": [
    "df.query('a <= b and b <= c')"
   ]
  },
  {
   "cell_type": "code",
   "execution_count": 271,
   "id": "f16cd573",
   "metadata": {},
   "outputs": [
    {
     "data": {
      "text/html": [
       "<div>\n",
       "<style scoped>\n",
       "    .dataframe tbody tr th:only-of-type {\n",
       "        vertical-align: middle;\n",
       "    }\n",
       "\n",
       "    .dataframe tbody tr th {\n",
       "        vertical-align: top;\n",
       "    }\n",
       "\n",
       "    .dataframe thead th {\n",
       "        text-align: right;\n",
       "    }\n",
       "</style>\n",
       "<table border=\"1\" class=\"dataframe\">\n",
       "  <thead>\n",
       "    <tr style=\"text-align: right;\">\n",
       "      <th></th>\n",
       "      <th>b</th>\n",
       "      <th>c</th>\n",
       "    </tr>\n",
       "  </thead>\n",
       "  <tbody>\n",
       "    <tr>\n",
       "      <th>0</th>\n",
       "      <td>7</td>\n",
       "      <td>9</td>\n",
       "    </tr>\n",
       "    <tr>\n",
       "      <th>1</th>\n",
       "      <td>3</td>\n",
       "      <td>1</td>\n",
       "    </tr>\n",
       "    <tr>\n",
       "      <th>2</th>\n",
       "      <td>4</td>\n",
       "      <td>3</td>\n",
       "    </tr>\n",
       "    <tr>\n",
       "      <th>3</th>\n",
       "      <td>7</td>\n",
       "      <td>9</td>\n",
       "    </tr>\n",
       "    <tr>\n",
       "      <th>4</th>\n",
       "      <td>3</td>\n",
       "      <td>5</td>\n",
       "    </tr>\n",
       "    <tr>\n",
       "      <th>5</th>\n",
       "      <td>1</td>\n",
       "      <td>4</td>\n",
       "    </tr>\n",
       "    <tr>\n",
       "      <th>6</th>\n",
       "      <td>3</td>\n",
       "      <td>5</td>\n",
       "    </tr>\n",
       "    <tr>\n",
       "      <th>7</th>\n",
       "      <td>9</td>\n",
       "      <td>8</td>\n",
       "    </tr>\n",
       "    <tr>\n",
       "      <th>8</th>\n",
       "      <td>2</td>\n",
       "      <td>7</td>\n",
       "    </tr>\n",
       "    <tr>\n",
       "      <th>9</th>\n",
       "      <td>1</td>\n",
       "      <td>8</td>\n",
       "    </tr>\n",
       "  </tbody>\n",
       "</table>\n",
       "</div>"
      ],
      "text/plain": [
       "   b  c\n",
       "0  7  9\n",
       "1  3  1\n",
       "2  4  3\n",
       "3  7  9\n",
       "4  3  5\n",
       "5  1  4\n",
       "6  3  5\n",
       "7  9  8\n",
       "8  2  7\n",
       "9  1  8"
      ]
     },
     "execution_count": 271,
     "metadata": {},
     "output_type": "execute_result"
    }
   ],
   "source": [
    "df = pd.DataFrame(np.random.randint(n, size=(n, 2)), columns=list('bc'))\n",
    "\n",
    "df"
   ]
  },
  {
   "cell_type": "code",
   "execution_count": 272,
   "id": "e3431487",
   "metadata": {},
   "outputs": [
    {
     "data": {
      "text/html": [
       "<div>\n",
       "<style scoped>\n",
       "    .dataframe tbody tr th:only-of-type {\n",
       "        vertical-align: middle;\n",
       "    }\n",
       "\n",
       "    .dataframe tbody tr th {\n",
       "        vertical-align: top;\n",
       "    }\n",
       "\n",
       "    .dataframe thead th {\n",
       "        text-align: right;\n",
       "    }\n",
       "</style>\n",
       "<table border=\"1\" class=\"dataframe\">\n",
       "  <thead>\n",
       "    <tr style=\"text-align: right;\">\n",
       "      <th></th>\n",
       "      <th>b</th>\n",
       "      <th>c</th>\n",
       "    </tr>\n",
       "  </thead>\n",
       "  <tbody>\n",
       "    <tr>\n",
       "      <th>0</th>\n",
       "      <td>7</td>\n",
       "      <td>9</td>\n",
       "    </tr>\n",
       "    <tr>\n",
       "      <th>3</th>\n",
       "      <td>7</td>\n",
       "      <td>9</td>\n",
       "    </tr>\n",
       "  </tbody>\n",
       "</table>\n",
       "</div>"
      ],
      "text/plain": [
       "   b  c\n",
       "0  7  9\n",
       "3  7  9"
      ]
     },
     "execution_count": 272,
     "metadata": {},
     "output_type": "execute_result"
    }
   ],
   "source": [
    "df.query('index <= b <= c')"
   ]
  },
  {
   "cell_type": "code",
   "execution_count": 273,
   "id": "04c33c02",
   "metadata": {},
   "outputs": [
    {
     "data": {
      "text/html": [
       "<div>\n",
       "<style scoped>\n",
       "    .dataframe tbody tr th:only-of-type {\n",
       "        vertical-align: middle;\n",
       "    }\n",
       "\n",
       "    .dataframe tbody tr th {\n",
       "        vertical-align: top;\n",
       "    }\n",
       "\n",
       "    .dataframe thead th {\n",
       "        text-align: right;\n",
       "    }\n",
       "</style>\n",
       "<table border=\"1\" class=\"dataframe\">\n",
       "  <thead>\n",
       "    <tr style=\"text-align: right;\">\n",
       "      <th></th>\n",
       "      <th>a</th>\n",
       "    </tr>\n",
       "    <tr>\n",
       "      <th>a</th>\n",
       "      <th></th>\n",
       "    </tr>\n",
       "  </thead>\n",
       "  <tbody>\n",
       "    <tr>\n",
       "      <th>0</th>\n",
       "      <td>3</td>\n",
       "    </tr>\n",
       "    <tr>\n",
       "      <th>3</th>\n",
       "      <td>3</td>\n",
       "    </tr>\n",
       "  </tbody>\n",
       "</table>\n",
       "</div>"
      ],
      "text/plain": [
       "   a\n",
       "a   \n",
       "0  3\n",
       "3  3"
      ]
     },
     "execution_count": 273,
     "metadata": {},
     "output_type": "execute_result"
    }
   ],
   "source": [
    "df = pd.DataFrame({'a': np.random.randint(5, size=5)})\n",
    "\n",
    "df.index.name = 'a'\n",
    "\n",
    "df.query('a > 2')  # uses the column 'a', not the index"
   ]
  },
  {
   "cell_type": "code",
   "execution_count": 274,
   "id": "15b4ee8c",
   "metadata": {},
   "outputs": [
    {
     "data": {
      "text/html": [
       "<div>\n",
       "<style scoped>\n",
       "    .dataframe tbody tr th:only-of-type {\n",
       "        vertical-align: middle;\n",
       "    }\n",
       "\n",
       "    .dataframe tbody tr th {\n",
       "        vertical-align: top;\n",
       "    }\n",
       "\n",
       "    .dataframe thead th {\n",
       "        text-align: right;\n",
       "    }\n",
       "</style>\n",
       "<table border=\"1\" class=\"dataframe\">\n",
       "  <thead>\n",
       "    <tr style=\"text-align: right;\">\n",
       "      <th></th>\n",
       "      <th>a</th>\n",
       "    </tr>\n",
       "    <tr>\n",
       "      <th>a</th>\n",
       "      <th></th>\n",
       "    </tr>\n",
       "  </thead>\n",
       "  <tbody>\n",
       "    <tr>\n",
       "      <th>3</th>\n",
       "      <td>3</td>\n",
       "    </tr>\n",
       "    <tr>\n",
       "      <th>4</th>\n",
       "      <td>0</td>\n",
       "    </tr>\n",
       "  </tbody>\n",
       "</table>\n",
       "</div>"
      ],
      "text/plain": [
       "   a\n",
       "a   \n",
       "3  3\n",
       "4  0"
      ]
     },
     "execution_count": 274,
     "metadata": {},
     "output_type": "execute_result"
    }
   ],
   "source": [
    "df.query('index > 2')"
   ]
  },
  {
   "cell_type": "code",
   "execution_count": 275,
   "id": "1b8750f9",
   "metadata": {},
   "outputs": [
    {
     "data": {
      "text/plain": [
       "array(['green', 'red', 'green', 'red', 'red', 'green', 'red', 'red',\n",
       "       'red', 'red'], dtype='<U5')"
      ]
     },
     "execution_count": 275,
     "metadata": {},
     "output_type": "execute_result"
    }
   ],
   "source": [
    "n = 10\n",
    "\n",
    "colors = np.random.choice(['red', 'green'], size=n)\n",
    "\n",
    "foods = np.random.choice(['eggs', 'ham'], size=n)\n",
    "\n",
    "colors"
   ]
  },
  {
   "cell_type": "code",
   "execution_count": 276,
   "id": "3a30fa94",
   "metadata": {},
   "outputs": [
    {
     "data": {
      "text/plain": [
       "array(['ham', 'ham', 'eggs', 'eggs', 'eggs', 'eggs', 'eggs', 'eggs',\n",
       "       'ham', 'eggs'], dtype='<U4')"
      ]
     },
     "execution_count": 276,
     "metadata": {},
     "output_type": "execute_result"
    }
   ],
   "source": [
    "foods"
   ]
  },
  {
   "cell_type": "code",
   "execution_count": 277,
   "id": "011c661d",
   "metadata": {},
   "outputs": [
    {
     "data": {
      "text/html": [
       "<div>\n",
       "<style scoped>\n",
       "    .dataframe tbody tr th:only-of-type {\n",
       "        vertical-align: middle;\n",
       "    }\n",
       "\n",
       "    .dataframe tbody tr th {\n",
       "        vertical-align: top;\n",
       "    }\n",
       "\n",
       "    .dataframe thead th {\n",
       "        text-align: right;\n",
       "    }\n",
       "</style>\n",
       "<table border=\"1\" class=\"dataframe\">\n",
       "  <thead>\n",
       "    <tr style=\"text-align: right;\">\n",
       "      <th></th>\n",
       "      <th></th>\n",
       "      <th>0</th>\n",
       "      <th>1</th>\n",
       "    </tr>\n",
       "    <tr>\n",
       "      <th>color</th>\n",
       "      <th>food</th>\n",
       "      <th></th>\n",
       "      <th></th>\n",
       "    </tr>\n",
       "  </thead>\n",
       "  <tbody>\n",
       "    <tr>\n",
       "      <th>green</th>\n",
       "      <th>ham</th>\n",
       "      <td>1.421106</td>\n",
       "      <td>-0.495852</td>\n",
       "    </tr>\n",
       "    <tr>\n",
       "      <th>red</th>\n",
       "      <th>ham</th>\n",
       "      <td>-0.019553</td>\n",
       "      <td>-1.772156</td>\n",
       "    </tr>\n",
       "    <tr>\n",
       "      <th>green</th>\n",
       "      <th>eggs</th>\n",
       "      <td>0.380844</td>\n",
       "      <td>0.970380</td>\n",
       "    </tr>\n",
       "    <tr>\n",
       "      <th rowspan=\"2\" valign=\"top\">red</th>\n",
       "      <th>eggs</th>\n",
       "      <td>-0.045786</td>\n",
       "      <td>-0.072543</td>\n",
       "    </tr>\n",
       "    <tr>\n",
       "      <th>eggs</th>\n",
       "      <td>-0.093973</td>\n",
       "      <td>0.836624</td>\n",
       "    </tr>\n",
       "    <tr>\n",
       "      <th>green</th>\n",
       "      <th>eggs</th>\n",
       "      <td>1.336032</td>\n",
       "      <td>0.626435</td>\n",
       "    </tr>\n",
       "    <tr>\n",
       "      <th rowspan=\"4\" valign=\"top\">red</th>\n",
       "      <th>eggs</th>\n",
       "      <td>-1.104451</td>\n",
       "      <td>0.481134</td>\n",
       "    </tr>\n",
       "    <tr>\n",
       "      <th>eggs</th>\n",
       "      <td>0.154451</td>\n",
       "      <td>-1.240542</td>\n",
       "    </tr>\n",
       "    <tr>\n",
       "      <th>ham</th>\n",
       "      <td>-0.089285</td>\n",
       "      <td>0.772768</td>\n",
       "    </tr>\n",
       "    <tr>\n",
       "      <th>eggs</th>\n",
       "      <td>2.416066</td>\n",
       "      <td>0.764503</td>\n",
       "    </tr>\n",
       "  </tbody>\n",
       "</table>\n",
       "</div>"
      ],
      "text/plain": [
       "                   0         1\n",
       "color food                    \n",
       "green ham   1.421106 -0.495852\n",
       "red   ham  -0.019553 -1.772156\n",
       "green eggs  0.380844  0.970380\n",
       "red   eggs -0.045786 -0.072543\n",
       "      eggs -0.093973  0.836624\n",
       "green eggs  1.336032  0.626435\n",
       "red   eggs -1.104451  0.481134\n",
       "      eggs  0.154451 -1.240542\n",
       "      ham  -0.089285  0.772768\n",
       "      eggs  2.416066  0.764503"
      ]
     },
     "execution_count": 277,
     "metadata": {},
     "output_type": "execute_result"
    }
   ],
   "source": [
    "index = pd.MultiIndex.from_arrays([colors, foods], names=['color', 'food'])\n",
    "\n",
    "df = pd.DataFrame(np.random.randn(n, 2), index=index)\n",
    "\n",
    "df"
   ]
  },
  {
   "cell_type": "code",
   "execution_count": 278,
   "id": "273d53bd",
   "metadata": {},
   "outputs": [
    {
     "data": {
      "text/html": [
       "<div>\n",
       "<style scoped>\n",
       "    .dataframe tbody tr th:only-of-type {\n",
       "        vertical-align: middle;\n",
       "    }\n",
       "\n",
       "    .dataframe tbody tr th {\n",
       "        vertical-align: top;\n",
       "    }\n",
       "\n",
       "    .dataframe thead th {\n",
       "        text-align: right;\n",
       "    }\n",
       "</style>\n",
       "<table border=\"1\" class=\"dataframe\">\n",
       "  <thead>\n",
       "    <tr style=\"text-align: right;\">\n",
       "      <th></th>\n",
       "      <th></th>\n",
       "      <th>0</th>\n",
       "      <th>1</th>\n",
       "    </tr>\n",
       "    <tr>\n",
       "      <th>color</th>\n",
       "      <th>food</th>\n",
       "      <th></th>\n",
       "      <th></th>\n",
       "    </tr>\n",
       "  </thead>\n",
       "  <tbody>\n",
       "    <tr>\n",
       "      <th rowspan=\"7\" valign=\"top\">red</th>\n",
       "      <th>ham</th>\n",
       "      <td>-0.019553</td>\n",
       "      <td>-1.772156</td>\n",
       "    </tr>\n",
       "    <tr>\n",
       "      <th>eggs</th>\n",
       "      <td>-0.045786</td>\n",
       "      <td>-0.072543</td>\n",
       "    </tr>\n",
       "    <tr>\n",
       "      <th>eggs</th>\n",
       "      <td>-0.093973</td>\n",
       "      <td>0.836624</td>\n",
       "    </tr>\n",
       "    <tr>\n",
       "      <th>eggs</th>\n",
       "      <td>-1.104451</td>\n",
       "      <td>0.481134</td>\n",
       "    </tr>\n",
       "    <tr>\n",
       "      <th>eggs</th>\n",
       "      <td>0.154451</td>\n",
       "      <td>-1.240542</td>\n",
       "    </tr>\n",
       "    <tr>\n",
       "      <th>ham</th>\n",
       "      <td>-0.089285</td>\n",
       "      <td>0.772768</td>\n",
       "    </tr>\n",
       "    <tr>\n",
       "      <th>eggs</th>\n",
       "      <td>2.416066</td>\n",
       "      <td>0.764503</td>\n",
       "    </tr>\n",
       "  </tbody>\n",
       "</table>\n",
       "</div>"
      ],
      "text/plain": [
       "                   0         1\n",
       "color food                    \n",
       "red   ham  -0.019553 -1.772156\n",
       "      eggs -0.045786 -0.072543\n",
       "      eggs -0.093973  0.836624\n",
       "      eggs -1.104451  0.481134\n",
       "      eggs  0.154451 -1.240542\n",
       "      ham  -0.089285  0.772768\n",
       "      eggs  2.416066  0.764503"
      ]
     },
     "execution_count": 278,
     "metadata": {},
     "output_type": "execute_result"
    }
   ],
   "source": [
    "df.query('color == \"red\"')"
   ]
  },
  {
   "cell_type": "code",
   "execution_count": 279,
   "id": "c1f00a47",
   "metadata": {},
   "outputs": [
    {
     "data": {
      "text/html": [
       "<div>\n",
       "<style scoped>\n",
       "    .dataframe tbody tr th:only-of-type {\n",
       "        vertical-align: middle;\n",
       "    }\n",
       "\n",
       "    .dataframe tbody tr th {\n",
       "        vertical-align: top;\n",
       "    }\n",
       "\n",
       "    .dataframe thead th {\n",
       "        text-align: right;\n",
       "    }\n",
       "</style>\n",
       "<table border=\"1\" class=\"dataframe\">\n",
       "  <thead>\n",
       "    <tr style=\"text-align: right;\">\n",
       "      <th></th>\n",
       "      <th></th>\n",
       "      <th>0</th>\n",
       "      <th>1</th>\n",
       "    </tr>\n",
       "  </thead>\n",
       "  <tbody>\n",
       "    <tr>\n",
       "      <th>green</th>\n",
       "      <th>ham</th>\n",
       "      <td>1.421106</td>\n",
       "      <td>-0.495852</td>\n",
       "    </tr>\n",
       "    <tr>\n",
       "      <th>red</th>\n",
       "      <th>ham</th>\n",
       "      <td>-0.019553</td>\n",
       "      <td>-1.772156</td>\n",
       "    </tr>\n",
       "    <tr>\n",
       "      <th>green</th>\n",
       "      <th>eggs</th>\n",
       "      <td>0.380844</td>\n",
       "      <td>0.970380</td>\n",
       "    </tr>\n",
       "    <tr>\n",
       "      <th rowspan=\"2\" valign=\"top\">red</th>\n",
       "      <th>eggs</th>\n",
       "      <td>-0.045786</td>\n",
       "      <td>-0.072543</td>\n",
       "    </tr>\n",
       "    <tr>\n",
       "      <th>eggs</th>\n",
       "      <td>-0.093973</td>\n",
       "      <td>0.836624</td>\n",
       "    </tr>\n",
       "    <tr>\n",
       "      <th>green</th>\n",
       "      <th>eggs</th>\n",
       "      <td>1.336032</td>\n",
       "      <td>0.626435</td>\n",
       "    </tr>\n",
       "    <tr>\n",
       "      <th rowspan=\"4\" valign=\"top\">red</th>\n",
       "      <th>eggs</th>\n",
       "      <td>-1.104451</td>\n",
       "      <td>0.481134</td>\n",
       "    </tr>\n",
       "    <tr>\n",
       "      <th>eggs</th>\n",
       "      <td>0.154451</td>\n",
       "      <td>-1.240542</td>\n",
       "    </tr>\n",
       "    <tr>\n",
       "      <th>ham</th>\n",
       "      <td>-0.089285</td>\n",
       "      <td>0.772768</td>\n",
       "    </tr>\n",
       "    <tr>\n",
       "      <th>eggs</th>\n",
       "      <td>2.416066</td>\n",
       "      <td>0.764503</td>\n",
       "    </tr>\n",
       "  </tbody>\n",
       "</table>\n",
       "</div>"
      ],
      "text/plain": [
       "                   0         1\n",
       "green ham   1.421106 -0.495852\n",
       "red   ham  -0.019553 -1.772156\n",
       "green eggs  0.380844  0.970380\n",
       "red   eggs -0.045786 -0.072543\n",
       "      eggs -0.093973  0.836624\n",
       "green eggs  1.336032  0.626435\n",
       "red   eggs -1.104451  0.481134\n",
       "      eggs  0.154451 -1.240542\n",
       "      ham  -0.089285  0.772768\n",
       "      eggs  2.416066  0.764503"
      ]
     },
     "execution_count": 279,
     "metadata": {},
     "output_type": "execute_result"
    }
   ],
   "source": [
    "df.index.names = [None, None]\n",
    "\n",
    "df"
   ]
  },
  {
   "cell_type": "code",
   "execution_count": 280,
   "id": "24d3d4e9",
   "metadata": {},
   "outputs": [
    {
     "data": {
      "text/html": [
       "<div>\n",
       "<style scoped>\n",
       "    .dataframe tbody tr th:only-of-type {\n",
       "        vertical-align: middle;\n",
       "    }\n",
       "\n",
       "    .dataframe tbody tr th {\n",
       "        vertical-align: top;\n",
       "    }\n",
       "\n",
       "    .dataframe thead th {\n",
       "        text-align: right;\n",
       "    }\n",
       "</style>\n",
       "<table border=\"1\" class=\"dataframe\">\n",
       "  <thead>\n",
       "    <tr style=\"text-align: right;\">\n",
       "      <th></th>\n",
       "      <th></th>\n",
       "      <th>0</th>\n",
       "      <th>1</th>\n",
       "    </tr>\n",
       "  </thead>\n",
       "  <tbody>\n",
       "    <tr>\n",
       "      <th rowspan=\"7\" valign=\"top\">red</th>\n",
       "      <th>ham</th>\n",
       "      <td>-0.019553</td>\n",
       "      <td>-1.772156</td>\n",
       "    </tr>\n",
       "    <tr>\n",
       "      <th>eggs</th>\n",
       "      <td>-0.045786</td>\n",
       "      <td>-0.072543</td>\n",
       "    </tr>\n",
       "    <tr>\n",
       "      <th>eggs</th>\n",
       "      <td>-0.093973</td>\n",
       "      <td>0.836624</td>\n",
       "    </tr>\n",
       "    <tr>\n",
       "      <th>eggs</th>\n",
       "      <td>-1.104451</td>\n",
       "      <td>0.481134</td>\n",
       "    </tr>\n",
       "    <tr>\n",
       "      <th>eggs</th>\n",
       "      <td>0.154451</td>\n",
       "      <td>-1.240542</td>\n",
       "    </tr>\n",
       "    <tr>\n",
       "      <th>ham</th>\n",
       "      <td>-0.089285</td>\n",
       "      <td>0.772768</td>\n",
       "    </tr>\n",
       "    <tr>\n",
       "      <th>eggs</th>\n",
       "      <td>2.416066</td>\n",
       "      <td>0.764503</td>\n",
       "    </tr>\n",
       "  </tbody>\n",
       "</table>\n",
       "</div>"
      ],
      "text/plain": [
       "                 0         1\n",
       "red ham  -0.019553 -1.772156\n",
       "    eggs -0.045786 -0.072543\n",
       "    eggs -0.093973  0.836624\n",
       "    eggs -1.104451  0.481134\n",
       "    eggs  0.154451 -1.240542\n",
       "    ham  -0.089285  0.772768\n",
       "    eggs  2.416066  0.764503"
      ]
     },
     "execution_count": 280,
     "metadata": {},
     "output_type": "execute_result"
    }
   ],
   "source": [
    "df.query('ilevel_0 == \"red\"')"
   ]
  },
  {
   "cell_type": "code",
   "execution_count": 289,
   "id": "33dfa795",
   "metadata": {},
   "outputs": [
    {
     "data": {
      "text/html": [
       "<div>\n",
       "<style scoped>\n",
       "    .dataframe tbody tr th:only-of-type {\n",
       "        vertical-align: middle;\n",
       "    }\n",
       "\n",
       "    .dataframe tbody tr th {\n",
       "        vertical-align: top;\n",
       "    }\n",
       "\n",
       "    .dataframe thead th {\n",
       "        text-align: right;\n",
       "    }\n",
       "</style>\n",
       "<table border=\"1\" class=\"dataframe\">\n",
       "  <thead>\n",
       "    <tr style=\"text-align: right;\">\n",
       "      <th></th>\n",
       "      <th>a</th>\n",
       "      <th>b</th>\n",
       "      <th>c</th>\n",
       "    </tr>\n",
       "  </thead>\n",
       "  <tbody>\n",
       "    <tr>\n",
       "      <th>0</th>\n",
       "      <td>0.641069</td>\n",
       "      <td>0.283203</td>\n",
       "      <td>0.611486</td>\n",
       "    </tr>\n",
       "    <tr>\n",
       "      <th>1</th>\n",
       "      <td>0.003228</td>\n",
       "      <td>0.433244</td>\n",
       "      <td>0.447891</td>\n",
       "    </tr>\n",
       "    <tr>\n",
       "      <th>2</th>\n",
       "      <td>0.021510</td>\n",
       "      <td>0.020451</td>\n",
       "      <td>0.418964</td>\n",
       "    </tr>\n",
       "    <tr>\n",
       "      <th>3</th>\n",
       "      <td>0.187017</td>\n",
       "      <td>0.715511</td>\n",
       "      <td>0.180651</td>\n",
       "    </tr>\n",
       "    <tr>\n",
       "      <th>4</th>\n",
       "      <td>0.586381</td>\n",
       "      <td>0.025694</td>\n",
       "      <td>0.474055</td>\n",
       "    </tr>\n",
       "    <tr>\n",
       "      <th>5</th>\n",
       "      <td>0.244358</td>\n",
       "      <td>0.442260</td>\n",
       "      <td>0.932011</td>\n",
       "    </tr>\n",
       "    <tr>\n",
       "      <th>6</th>\n",
       "      <td>0.177756</td>\n",
       "      <td>0.759229</td>\n",
       "      <td>0.096592</td>\n",
       "    </tr>\n",
       "    <tr>\n",
       "      <th>7</th>\n",
       "      <td>0.049837</td>\n",
       "      <td>0.156399</td>\n",
       "      <td>0.781072</td>\n",
       "    </tr>\n",
       "    <tr>\n",
       "      <th>8</th>\n",
       "      <td>0.993540</td>\n",
       "      <td>0.174401</td>\n",
       "      <td>0.068625</td>\n",
       "    </tr>\n",
       "    <tr>\n",
       "      <th>9</th>\n",
       "      <td>0.050015</td>\n",
       "      <td>0.566743</td>\n",
       "      <td>0.669527</td>\n",
       "    </tr>\n",
       "  </tbody>\n",
       "</table>\n",
       "</div>"
      ],
      "text/plain": [
       "          a         b         c\n",
       "0  0.641069  0.283203  0.611486\n",
       "1  0.003228  0.433244  0.447891\n",
       "2  0.021510  0.020451  0.418964\n",
       "3  0.187017  0.715511  0.180651\n",
       "4  0.586381  0.025694  0.474055\n",
       "5  0.244358  0.442260  0.932011\n",
       "6  0.177756  0.759229  0.096592\n",
       "7  0.049837  0.156399  0.781072\n",
       "8  0.993540  0.174401  0.068625\n",
       "9  0.050015  0.566743  0.669527"
      ]
     },
     "execution_count": 289,
     "metadata": {},
     "output_type": "execute_result"
    }
   ],
   "source": [
    "df = pd.DataFrame(np.random.rand(n, 3), columns=list('abc'))\n",
    "\n",
    "df"
   ]
  },
  {
   "cell_type": "code",
   "execution_count": 282,
   "id": "b2528b49",
   "metadata": {},
   "outputs": [
    {
     "data": {
      "text/html": [
       "<div>\n",
       "<style scoped>\n",
       "    .dataframe tbody tr th:only-of-type {\n",
       "        vertical-align: middle;\n",
       "    }\n",
       "\n",
       "    .dataframe tbody tr th {\n",
       "        vertical-align: top;\n",
       "    }\n",
       "\n",
       "    .dataframe thead th {\n",
       "        text-align: right;\n",
       "    }\n",
       "</style>\n",
       "<table border=\"1\" class=\"dataframe\">\n",
       "  <thead>\n",
       "    <tr style=\"text-align: right;\">\n",
       "      <th></th>\n",
       "      <th>a</th>\n",
       "      <th>b</th>\n",
       "      <th>c</th>\n",
       "    </tr>\n",
       "  </thead>\n",
       "  <tbody>\n",
       "    <tr>\n",
       "      <th>0</th>\n",
       "      <td>0.999325</td>\n",
       "      <td>0.370226</td>\n",
       "      <td>0.326412</td>\n",
       "    </tr>\n",
       "    <tr>\n",
       "      <th>1</th>\n",
       "      <td>0.279689</td>\n",
       "      <td>0.241610</td>\n",
       "      <td>0.906053</td>\n",
       "    </tr>\n",
       "    <tr>\n",
       "      <th>2</th>\n",
       "      <td>0.373050</td>\n",
       "      <td>0.877514</td>\n",
       "      <td>0.224991</td>\n",
       "    </tr>\n",
       "    <tr>\n",
       "      <th>3</th>\n",
       "      <td>0.103246</td>\n",
       "      <td>0.147046</td>\n",
       "      <td>0.980412</td>\n",
       "    </tr>\n",
       "    <tr>\n",
       "      <th>4</th>\n",
       "      <td>0.489179</td>\n",
       "      <td>0.664811</td>\n",
       "      <td>0.597673</td>\n",
       "    </tr>\n",
       "    <tr>\n",
       "      <th>5</th>\n",
       "      <td>0.378430</td>\n",
       "      <td>0.039566</td>\n",
       "      <td>0.492446</td>\n",
       "    </tr>\n",
       "    <tr>\n",
       "      <th>6</th>\n",
       "      <td>0.966663</td>\n",
       "      <td>0.138048</td>\n",
       "      <td>0.171408</td>\n",
       "    </tr>\n",
       "    <tr>\n",
       "      <th>7</th>\n",
       "      <td>0.577488</td>\n",
       "      <td>0.183235</td>\n",
       "      <td>0.012664</td>\n",
       "    </tr>\n",
       "    <tr>\n",
       "      <th>8</th>\n",
       "      <td>0.851411</td>\n",
       "      <td>0.723956</td>\n",
       "      <td>0.499166</td>\n",
       "    </tr>\n",
       "    <tr>\n",
       "      <th>9</th>\n",
       "      <td>0.949406</td>\n",
       "      <td>0.116223</td>\n",
       "      <td>0.135246</td>\n",
       "    </tr>\n",
       "    <tr>\n",
       "      <th>10</th>\n",
       "      <td>0.377935</td>\n",
       "      <td>0.242628</td>\n",
       "      <td>0.011638</td>\n",
       "    </tr>\n",
       "    <tr>\n",
       "      <th>11</th>\n",
       "      <td>0.714366</td>\n",
       "      <td>0.649435</td>\n",
       "      <td>0.989330</td>\n",
       "    </tr>\n",
       "  </tbody>\n",
       "</table>\n",
       "</div>"
      ],
      "text/plain": [
       "           a         b         c\n",
       "0   0.999325  0.370226  0.326412\n",
       "1   0.279689  0.241610  0.906053\n",
       "2   0.373050  0.877514  0.224991\n",
       "3   0.103246  0.147046  0.980412\n",
       "4   0.489179  0.664811  0.597673\n",
       "5   0.378430  0.039566  0.492446\n",
       "6   0.966663  0.138048  0.171408\n",
       "7   0.577488  0.183235  0.012664\n",
       "8   0.851411  0.723956  0.499166\n",
       "9   0.949406  0.116223  0.135246\n",
       "10  0.377935  0.242628  0.011638\n",
       "11  0.714366  0.649435  0.989330"
      ]
     },
     "execution_count": 282,
     "metadata": {},
     "output_type": "execute_result"
    }
   ],
   "source": [
    "df2 = pd.DataFrame(np.random.rand(n + 2, 3), columns=df.columns)\n",
    "\n",
    "df2"
   ]
  },
  {
   "cell_type": "code",
   "execution_count": 284,
   "id": "13756181",
   "metadata": {},
   "outputs": [],
   "source": [
    "expr = '0.0 <= a <= c <= 0.5'"
   ]
  },
  {
   "cell_type": "code",
   "execution_count": 290,
   "id": "978031e6",
   "metadata": {},
   "outputs": [],
   "source": [
    "mapped = map(lambda frame: frame.query(expr), [df, df2])\n",
    "[queried_df1, queried_df2] = list(mapped)"
   ]
  },
  {
   "cell_type": "code",
   "execution_count": 291,
   "id": "b211fe83",
   "metadata": {},
   "outputs": [
    {
     "data": {
      "text/html": [
       "<div>\n",
       "<style scoped>\n",
       "    .dataframe tbody tr th:only-of-type {\n",
       "        vertical-align: middle;\n",
       "    }\n",
       "\n",
       "    .dataframe tbody tr th {\n",
       "        vertical-align: top;\n",
       "    }\n",
       "\n",
       "    .dataframe thead th {\n",
       "        text-align: right;\n",
       "    }\n",
       "</style>\n",
       "<table border=\"1\" class=\"dataframe\">\n",
       "  <thead>\n",
       "    <tr style=\"text-align: right;\">\n",
       "      <th></th>\n",
       "      <th>a</th>\n",
       "      <th>b</th>\n",
       "      <th>c</th>\n",
       "    </tr>\n",
       "  </thead>\n",
       "  <tbody>\n",
       "    <tr>\n",
       "      <th>1</th>\n",
       "      <td>0.003228</td>\n",
       "      <td>0.433244</td>\n",
       "      <td>0.447891</td>\n",
       "    </tr>\n",
       "    <tr>\n",
       "      <th>2</th>\n",
       "      <td>0.021510</td>\n",
       "      <td>0.020451</td>\n",
       "      <td>0.418964</td>\n",
       "    </tr>\n",
       "  </tbody>\n",
       "</table>\n",
       "</div>"
      ],
      "text/plain": [
       "          a         b         c\n",
       "1  0.003228  0.433244  0.447891\n",
       "2  0.021510  0.020451  0.418964"
      ]
     },
     "execution_count": 291,
     "metadata": {},
     "output_type": "execute_result"
    }
   ],
   "source": [
    "queried_df1"
   ]
  },
  {
   "cell_type": "code",
   "execution_count": 292,
   "id": "0ddd35b3",
   "metadata": {},
   "outputs": [
    {
     "data": {
      "text/html": [
       "<div>\n",
       "<style scoped>\n",
       "    .dataframe tbody tr th:only-of-type {\n",
       "        vertical-align: middle;\n",
       "    }\n",
       "\n",
       "    .dataframe tbody tr th {\n",
       "        vertical-align: top;\n",
       "    }\n",
       "\n",
       "    .dataframe thead th {\n",
       "        text-align: right;\n",
       "    }\n",
       "</style>\n",
       "<table border=\"1\" class=\"dataframe\">\n",
       "  <thead>\n",
       "    <tr style=\"text-align: right;\">\n",
       "      <th></th>\n",
       "      <th>a</th>\n",
       "      <th>b</th>\n",
       "      <th>c</th>\n",
       "    </tr>\n",
       "  </thead>\n",
       "  <tbody>\n",
       "    <tr>\n",
       "      <th>5</th>\n",
       "      <td>0.37843</td>\n",
       "      <td>0.039566</td>\n",
       "      <td>0.492446</td>\n",
       "    </tr>\n",
       "  </tbody>\n",
       "</table>\n",
       "</div>"
      ],
      "text/plain": [
       "         a         b         c\n",
       "5  0.37843  0.039566  0.492446"
      ]
     },
     "execution_count": 292,
     "metadata": {},
     "output_type": "execute_result"
    }
   ],
   "source": [
    "queried_df2"
   ]
  },
  {
   "cell_type": "code",
   "execution_count": 293,
   "id": "3b68b7a8",
   "metadata": {},
   "outputs": [
    {
     "data": {
      "text/html": [
       "<div>\n",
       "<style scoped>\n",
       "    .dataframe tbody tr th:only-of-type {\n",
       "        vertical-align: middle;\n",
       "    }\n",
       "\n",
       "    .dataframe tbody tr th {\n",
       "        vertical-align: top;\n",
       "    }\n",
       "\n",
       "    .dataframe thead th {\n",
       "        text-align: right;\n",
       "    }\n",
       "</style>\n",
       "<table border=\"1\" class=\"dataframe\">\n",
       "  <thead>\n",
       "    <tr style=\"text-align: right;\">\n",
       "      <th></th>\n",
       "      <th>a</th>\n",
       "      <th>b</th>\n",
       "      <th>c</th>\n",
       "    </tr>\n",
       "  </thead>\n",
       "  <tbody>\n",
       "    <tr>\n",
       "      <th>0</th>\n",
       "      <td>0</td>\n",
       "      <td>3</td>\n",
       "      <td>8</td>\n",
       "    </tr>\n",
       "    <tr>\n",
       "      <th>1</th>\n",
       "      <td>8</td>\n",
       "      <td>7</td>\n",
       "      <td>0</td>\n",
       "    </tr>\n",
       "    <tr>\n",
       "      <th>2</th>\n",
       "      <td>8</td>\n",
       "      <td>5</td>\n",
       "      <td>5</td>\n",
       "    </tr>\n",
       "    <tr>\n",
       "      <th>3</th>\n",
       "      <td>1</td>\n",
       "      <td>9</td>\n",
       "      <td>3</td>\n",
       "    </tr>\n",
       "    <tr>\n",
       "      <th>4</th>\n",
       "      <td>5</td>\n",
       "      <td>7</td>\n",
       "      <td>1</td>\n",
       "    </tr>\n",
       "    <tr>\n",
       "      <th>5</th>\n",
       "      <td>2</td>\n",
       "      <td>7</td>\n",
       "      <td>9</td>\n",
       "    </tr>\n",
       "    <tr>\n",
       "      <th>6</th>\n",
       "      <td>0</td>\n",
       "      <td>2</td>\n",
       "      <td>3</td>\n",
       "    </tr>\n",
       "    <tr>\n",
       "      <th>7</th>\n",
       "      <td>3</td>\n",
       "      <td>5</td>\n",
       "      <td>3</td>\n",
       "    </tr>\n",
       "    <tr>\n",
       "      <th>8</th>\n",
       "      <td>6</td>\n",
       "      <td>9</td>\n",
       "      <td>5</td>\n",
       "    </tr>\n",
       "    <tr>\n",
       "      <th>9</th>\n",
       "      <td>6</td>\n",
       "      <td>6</td>\n",
       "      <td>7</td>\n",
       "    </tr>\n",
       "  </tbody>\n",
       "</table>\n",
       "</div>"
      ],
      "text/plain": [
       "   a  b  c\n",
       "0  0  3  8\n",
       "1  8  7  0\n",
       "2  8  5  5\n",
       "3  1  9  3\n",
       "4  5  7  1\n",
       "5  2  7  9\n",
       "6  0  2  3\n",
       "7  3  5  3\n",
       "8  6  9  5\n",
       "9  6  6  7"
      ]
     },
     "execution_count": 293,
     "metadata": {},
     "output_type": "execute_result"
    }
   ],
   "source": [
    "df = pd.DataFrame(np.random.randint(n, size=(n, 3)), columns=list('abc'))\n",
    "\n",
    "df"
   ]
  },
  {
   "cell_type": "code",
   "execution_count": 294,
   "id": "75b55767",
   "metadata": {},
   "outputs": [
    {
     "data": {
      "text/html": [
       "<div>\n",
       "<style scoped>\n",
       "    .dataframe tbody tr th:only-of-type {\n",
       "        vertical-align: middle;\n",
       "    }\n",
       "\n",
       "    .dataframe tbody tr th {\n",
       "        vertical-align: top;\n",
       "    }\n",
       "\n",
       "    .dataframe thead th {\n",
       "        text-align: right;\n",
       "    }\n",
       "</style>\n",
       "<table border=\"1\" class=\"dataframe\">\n",
       "  <thead>\n",
       "    <tr style=\"text-align: right;\">\n",
       "      <th></th>\n",
       "      <th>a</th>\n",
       "      <th>b</th>\n",
       "      <th>c</th>\n",
       "    </tr>\n",
       "  </thead>\n",
       "  <tbody>\n",
       "    <tr>\n",
       "      <th>0</th>\n",
       "      <td>0</td>\n",
       "      <td>3</td>\n",
       "      <td>8</td>\n",
       "    </tr>\n",
       "    <tr>\n",
       "      <th>5</th>\n",
       "      <td>2</td>\n",
       "      <td>7</td>\n",
       "      <td>9</td>\n",
       "    </tr>\n",
       "    <tr>\n",
       "      <th>6</th>\n",
       "      <td>0</td>\n",
       "      <td>2</td>\n",
       "      <td>3</td>\n",
       "    </tr>\n",
       "  </tbody>\n",
       "</table>\n",
       "</div>"
      ],
      "text/plain": [
       "   a  b  c\n",
       "0  0  3  8\n",
       "5  2  7  9\n",
       "6  0  2  3"
      ]
     },
     "execution_count": 294,
     "metadata": {},
     "output_type": "execute_result"
    }
   ],
   "source": [
    "df.query('(a < b) & (b < c)')"
   ]
  },
  {
   "cell_type": "code",
   "execution_count": 295,
   "id": "cb9abe03",
   "metadata": {},
   "outputs": [
    {
     "data": {
      "text/html": [
       "<div>\n",
       "<style scoped>\n",
       "    .dataframe tbody tr th:only-of-type {\n",
       "        vertical-align: middle;\n",
       "    }\n",
       "\n",
       "    .dataframe tbody tr th {\n",
       "        vertical-align: top;\n",
       "    }\n",
       "\n",
       "    .dataframe thead th {\n",
       "        text-align: right;\n",
       "    }\n",
       "</style>\n",
       "<table border=\"1\" class=\"dataframe\">\n",
       "  <thead>\n",
       "    <tr style=\"text-align: right;\">\n",
       "      <th></th>\n",
       "      <th>a</th>\n",
       "      <th>b</th>\n",
       "      <th>c</th>\n",
       "    </tr>\n",
       "  </thead>\n",
       "  <tbody>\n",
       "    <tr>\n",
       "      <th>0</th>\n",
       "      <td>0</td>\n",
       "      <td>3</td>\n",
       "      <td>8</td>\n",
       "    </tr>\n",
       "    <tr>\n",
       "      <th>5</th>\n",
       "      <td>2</td>\n",
       "      <td>7</td>\n",
       "      <td>9</td>\n",
       "    </tr>\n",
       "    <tr>\n",
       "      <th>6</th>\n",
       "      <td>0</td>\n",
       "      <td>2</td>\n",
       "      <td>3</td>\n",
       "    </tr>\n",
       "  </tbody>\n",
       "</table>\n",
       "</div>"
      ],
      "text/plain": [
       "   a  b  c\n",
       "0  0  3  8\n",
       "5  2  7  9\n",
       "6  0  2  3"
      ]
     },
     "execution_count": 295,
     "metadata": {},
     "output_type": "execute_result"
    }
   ],
   "source": [
    "df[(df['a'] < df['b']) & (df['b'] < df['c'])]"
   ]
  },
  {
   "cell_type": "code",
   "execution_count": 296,
   "id": "75d611c9",
   "metadata": {},
   "outputs": [
    {
     "data": {
      "text/html": [
       "<div>\n",
       "<style scoped>\n",
       "    .dataframe tbody tr th:only-of-type {\n",
       "        vertical-align: middle;\n",
       "    }\n",
       "\n",
       "    .dataframe tbody tr th {\n",
       "        vertical-align: top;\n",
       "    }\n",
       "\n",
       "    .dataframe thead th {\n",
       "        text-align: right;\n",
       "    }\n",
       "</style>\n",
       "<table border=\"1\" class=\"dataframe\">\n",
       "  <thead>\n",
       "    <tr style=\"text-align: right;\">\n",
       "      <th></th>\n",
       "      <th>a</th>\n",
       "      <th>b</th>\n",
       "      <th>c</th>\n",
       "    </tr>\n",
       "  </thead>\n",
       "  <tbody>\n",
       "    <tr>\n",
       "      <th>0</th>\n",
       "      <td>0</td>\n",
       "      <td>3</td>\n",
       "      <td>8</td>\n",
       "    </tr>\n",
       "    <tr>\n",
       "      <th>5</th>\n",
       "      <td>2</td>\n",
       "      <td>7</td>\n",
       "      <td>9</td>\n",
       "    </tr>\n",
       "    <tr>\n",
       "      <th>6</th>\n",
       "      <td>0</td>\n",
       "      <td>2</td>\n",
       "      <td>3</td>\n",
       "    </tr>\n",
       "  </tbody>\n",
       "</table>\n",
       "</div>"
      ],
      "text/plain": [
       "   a  b  c\n",
       "0  0  3  8\n",
       "5  2  7  9\n",
       "6  0  2  3"
      ]
     },
     "execution_count": 296,
     "metadata": {},
     "output_type": "execute_result"
    }
   ],
   "source": [
    "df.query('a < b & b < c')"
   ]
  },
  {
   "cell_type": "code",
   "execution_count": 297,
   "id": "ea4f5433",
   "metadata": {},
   "outputs": [
    {
     "data": {
      "text/html": [
       "<div>\n",
       "<style scoped>\n",
       "    .dataframe tbody tr th:only-of-type {\n",
       "        vertical-align: middle;\n",
       "    }\n",
       "\n",
       "    .dataframe tbody tr th {\n",
       "        vertical-align: top;\n",
       "    }\n",
       "\n",
       "    .dataframe thead th {\n",
       "        text-align: right;\n",
       "    }\n",
       "</style>\n",
       "<table border=\"1\" class=\"dataframe\">\n",
       "  <thead>\n",
       "    <tr style=\"text-align: right;\">\n",
       "      <th></th>\n",
       "      <th>a</th>\n",
       "      <th>b</th>\n",
       "      <th>c</th>\n",
       "    </tr>\n",
       "  </thead>\n",
       "  <tbody>\n",
       "    <tr>\n",
       "      <th>0</th>\n",
       "      <td>0</td>\n",
       "      <td>3</td>\n",
       "      <td>8</td>\n",
       "    </tr>\n",
       "    <tr>\n",
       "      <th>5</th>\n",
       "      <td>2</td>\n",
       "      <td>7</td>\n",
       "      <td>9</td>\n",
       "    </tr>\n",
       "    <tr>\n",
       "      <th>6</th>\n",
       "      <td>0</td>\n",
       "      <td>2</td>\n",
       "      <td>3</td>\n",
       "    </tr>\n",
       "  </tbody>\n",
       "</table>\n",
       "</div>"
      ],
      "text/plain": [
       "   a  b  c\n",
       "0  0  3  8\n",
       "5  2  7  9\n",
       "6  0  2  3"
      ]
     },
     "execution_count": 297,
     "metadata": {},
     "output_type": "execute_result"
    }
   ],
   "source": [
    "df.query('a < b and b < c')"
   ]
  },
  {
   "cell_type": "code",
   "execution_count": 298,
   "id": "42bb2986",
   "metadata": {},
   "outputs": [
    {
     "data": {
      "text/html": [
       "<div>\n",
       "<style scoped>\n",
       "    .dataframe tbody tr th:only-of-type {\n",
       "        vertical-align: middle;\n",
       "    }\n",
       "\n",
       "    .dataframe tbody tr th {\n",
       "        vertical-align: top;\n",
       "    }\n",
       "\n",
       "    .dataframe thead th {\n",
       "        text-align: right;\n",
       "    }\n",
       "</style>\n",
       "<table border=\"1\" class=\"dataframe\">\n",
       "  <thead>\n",
       "    <tr style=\"text-align: right;\">\n",
       "      <th></th>\n",
       "      <th>a</th>\n",
       "      <th>b</th>\n",
       "      <th>c</th>\n",
       "    </tr>\n",
       "  </thead>\n",
       "  <tbody>\n",
       "    <tr>\n",
       "      <th>0</th>\n",
       "      <td>0</td>\n",
       "      <td>3</td>\n",
       "      <td>8</td>\n",
       "    </tr>\n",
       "    <tr>\n",
       "      <th>5</th>\n",
       "      <td>2</td>\n",
       "      <td>7</td>\n",
       "      <td>9</td>\n",
       "    </tr>\n",
       "    <tr>\n",
       "      <th>6</th>\n",
       "      <td>0</td>\n",
       "      <td>2</td>\n",
       "      <td>3</td>\n",
       "    </tr>\n",
       "  </tbody>\n",
       "</table>\n",
       "</div>"
      ],
      "text/plain": [
       "   a  b  c\n",
       "0  0  3  8\n",
       "5  2  7  9\n",
       "6  0  2  3"
      ]
     },
     "execution_count": 298,
     "metadata": {},
     "output_type": "execute_result"
    }
   ],
   "source": [
    "df.query('a < b < c')"
   ]
  },
  {
   "cell_type": "code",
   "execution_count": 300,
   "id": "945b0933",
   "metadata": {},
   "outputs": [
    {
     "data": {
      "text/html": [
       "<div>\n",
       "<style scoped>\n",
       "    .dataframe tbody tr th:only-of-type {\n",
       "        vertical-align: middle;\n",
       "    }\n",
       "\n",
       "    .dataframe tbody tr th {\n",
       "        vertical-align: top;\n",
       "    }\n",
       "\n",
       "    .dataframe thead th {\n",
       "        text-align: right;\n",
       "    }\n",
       "</style>\n",
       "<table border=\"1\" class=\"dataframe\">\n",
       "  <thead>\n",
       "    <tr style=\"text-align: right;\">\n",
       "      <th></th>\n",
       "      <th>a</th>\n",
       "      <th>b</th>\n",
       "      <th>c</th>\n",
       "      <th>d</th>\n",
       "    </tr>\n",
       "  </thead>\n",
       "  <tbody>\n",
       "    <tr>\n",
       "      <th>0</th>\n",
       "      <td>a</td>\n",
       "      <td>a</td>\n",
       "      <td>4</td>\n",
       "      <td>6</td>\n",
       "    </tr>\n",
       "    <tr>\n",
       "      <th>1</th>\n",
       "      <td>a</td>\n",
       "      <td>a</td>\n",
       "      <td>3</td>\n",
       "      <td>8</td>\n",
       "    </tr>\n",
       "    <tr>\n",
       "      <th>2</th>\n",
       "      <td>b</td>\n",
       "      <td>a</td>\n",
       "      <td>4</td>\n",
       "      <td>3</td>\n",
       "    </tr>\n",
       "    <tr>\n",
       "      <th>3</th>\n",
       "      <td>b</td>\n",
       "      <td>a</td>\n",
       "      <td>2</td>\n",
       "      <td>1</td>\n",
       "    </tr>\n",
       "    <tr>\n",
       "      <th>4</th>\n",
       "      <td>c</td>\n",
       "      <td>b</td>\n",
       "      <td>3</td>\n",
       "      <td>6</td>\n",
       "    </tr>\n",
       "    <tr>\n",
       "      <th>5</th>\n",
       "      <td>c</td>\n",
       "      <td>b</td>\n",
       "      <td>3</td>\n",
       "      <td>7</td>\n",
       "    </tr>\n",
       "    <tr>\n",
       "      <th>6</th>\n",
       "      <td>d</td>\n",
       "      <td>b</td>\n",
       "      <td>2</td>\n",
       "      <td>1</td>\n",
       "    </tr>\n",
       "    <tr>\n",
       "      <th>7</th>\n",
       "      <td>d</td>\n",
       "      <td>b</td>\n",
       "      <td>4</td>\n",
       "      <td>7</td>\n",
       "    </tr>\n",
       "    <tr>\n",
       "      <th>8</th>\n",
       "      <td>e</td>\n",
       "      <td>c</td>\n",
       "      <td>2</td>\n",
       "      <td>7</td>\n",
       "    </tr>\n",
       "    <tr>\n",
       "      <th>9</th>\n",
       "      <td>e</td>\n",
       "      <td>c</td>\n",
       "      <td>1</td>\n",
       "      <td>1</td>\n",
       "    </tr>\n",
       "    <tr>\n",
       "      <th>10</th>\n",
       "      <td>f</td>\n",
       "      <td>c</td>\n",
       "      <td>2</td>\n",
       "      <td>1</td>\n",
       "    </tr>\n",
       "    <tr>\n",
       "      <th>11</th>\n",
       "      <td>f</td>\n",
       "      <td>c</td>\n",
       "      <td>0</td>\n",
       "      <td>4</td>\n",
       "    </tr>\n",
       "  </tbody>\n",
       "</table>\n",
       "</div>"
      ],
      "text/plain": [
       "    a  b  c  d\n",
       "0   a  a  4  6\n",
       "1   a  a  3  8\n",
       "2   b  a  4  3\n",
       "3   b  a  2  1\n",
       "4   c  b  3  6\n",
       "5   c  b  3  7\n",
       "6   d  b  2  1\n",
       "7   d  b  4  7\n",
       "8   e  c  2  7\n",
       "9   e  c  1  1\n",
       "10  f  c  2  1\n",
       "11  f  c  0  4"
      ]
     },
     "execution_count": 300,
     "metadata": {},
     "output_type": "execute_result"
    }
   ],
   "source": [
    "# get all rows where columns \"a\" and \"b\" have overlapping values\n",
    "\n",
    "df = pd.DataFrame({'a': list('aabbccddeeff'), 'b': list('aaaabbbbcccc'),\n",
    "\n",
    "                   'c': np.random.randint(5, size=12),\n",
    "\n",
    "                   'd': np.random.randint(9, size=12)})\n",
    "\n",
    "df"
   ]
  },
  {
   "cell_type": "code",
   "execution_count": 301,
   "id": "b3eb09eb",
   "metadata": {},
   "outputs": [
    {
     "data": {
      "text/html": [
       "<div>\n",
       "<style scoped>\n",
       "    .dataframe tbody tr th:only-of-type {\n",
       "        vertical-align: middle;\n",
       "    }\n",
       "\n",
       "    .dataframe tbody tr th {\n",
       "        vertical-align: top;\n",
       "    }\n",
       "\n",
       "    .dataframe thead th {\n",
       "        text-align: right;\n",
       "    }\n",
       "</style>\n",
       "<table border=\"1\" class=\"dataframe\">\n",
       "  <thead>\n",
       "    <tr style=\"text-align: right;\">\n",
       "      <th></th>\n",
       "      <th>a</th>\n",
       "      <th>b</th>\n",
       "      <th>c</th>\n",
       "      <th>d</th>\n",
       "    </tr>\n",
       "  </thead>\n",
       "  <tbody>\n",
       "    <tr>\n",
       "      <th>0</th>\n",
       "      <td>a</td>\n",
       "      <td>a</td>\n",
       "      <td>4</td>\n",
       "      <td>6</td>\n",
       "    </tr>\n",
       "    <tr>\n",
       "      <th>1</th>\n",
       "      <td>a</td>\n",
       "      <td>a</td>\n",
       "      <td>3</td>\n",
       "      <td>8</td>\n",
       "    </tr>\n",
       "    <tr>\n",
       "      <th>2</th>\n",
       "      <td>b</td>\n",
       "      <td>a</td>\n",
       "      <td>4</td>\n",
       "      <td>3</td>\n",
       "    </tr>\n",
       "    <tr>\n",
       "      <th>3</th>\n",
       "      <td>b</td>\n",
       "      <td>a</td>\n",
       "      <td>2</td>\n",
       "      <td>1</td>\n",
       "    </tr>\n",
       "    <tr>\n",
       "      <th>4</th>\n",
       "      <td>c</td>\n",
       "      <td>b</td>\n",
       "      <td>3</td>\n",
       "      <td>6</td>\n",
       "    </tr>\n",
       "    <tr>\n",
       "      <th>5</th>\n",
       "      <td>c</td>\n",
       "      <td>b</td>\n",
       "      <td>3</td>\n",
       "      <td>7</td>\n",
       "    </tr>\n",
       "  </tbody>\n",
       "</table>\n",
       "</div>"
      ],
      "text/plain": [
       "   a  b  c  d\n",
       "0  a  a  4  6\n",
       "1  a  a  3  8\n",
       "2  b  a  4  3\n",
       "3  b  a  2  1\n",
       "4  c  b  3  6\n",
       "5  c  b  3  7"
      ]
     },
     "execution_count": 301,
     "metadata": {},
     "output_type": "execute_result"
    }
   ],
   "source": [
    "df.query('a in b')"
   ]
  },
  {
   "cell_type": "code",
   "execution_count": 302,
   "id": "f1b16473",
   "metadata": {},
   "outputs": [
    {
     "data": {
      "text/html": [
       "<div>\n",
       "<style scoped>\n",
       "    .dataframe tbody tr th:only-of-type {\n",
       "        vertical-align: middle;\n",
       "    }\n",
       "\n",
       "    .dataframe tbody tr th {\n",
       "        vertical-align: top;\n",
       "    }\n",
       "\n",
       "    .dataframe thead th {\n",
       "        text-align: right;\n",
       "    }\n",
       "</style>\n",
       "<table border=\"1\" class=\"dataframe\">\n",
       "  <thead>\n",
       "    <tr style=\"text-align: right;\">\n",
       "      <th></th>\n",
       "      <th>a</th>\n",
       "      <th>b</th>\n",
       "      <th>c</th>\n",
       "      <th>d</th>\n",
       "    </tr>\n",
       "  </thead>\n",
       "  <tbody>\n",
       "    <tr>\n",
       "      <th>0</th>\n",
       "      <td>a</td>\n",
       "      <td>a</td>\n",
       "      <td>4</td>\n",
       "      <td>6</td>\n",
       "    </tr>\n",
       "    <tr>\n",
       "      <th>1</th>\n",
       "      <td>a</td>\n",
       "      <td>a</td>\n",
       "      <td>3</td>\n",
       "      <td>8</td>\n",
       "    </tr>\n",
       "    <tr>\n",
       "      <th>2</th>\n",
       "      <td>b</td>\n",
       "      <td>a</td>\n",
       "      <td>4</td>\n",
       "      <td>3</td>\n",
       "    </tr>\n",
       "    <tr>\n",
       "      <th>3</th>\n",
       "      <td>b</td>\n",
       "      <td>a</td>\n",
       "      <td>2</td>\n",
       "      <td>1</td>\n",
       "    </tr>\n",
       "    <tr>\n",
       "      <th>4</th>\n",
       "      <td>c</td>\n",
       "      <td>b</td>\n",
       "      <td>3</td>\n",
       "      <td>6</td>\n",
       "    </tr>\n",
       "    <tr>\n",
       "      <th>5</th>\n",
       "      <td>c</td>\n",
       "      <td>b</td>\n",
       "      <td>3</td>\n",
       "      <td>7</td>\n",
       "    </tr>\n",
       "  </tbody>\n",
       "</table>\n",
       "</div>"
      ],
      "text/plain": [
       "   a  b  c  d\n",
       "0  a  a  4  6\n",
       "1  a  a  3  8\n",
       "2  b  a  4  3\n",
       "3  b  a  2  1\n",
       "4  c  b  3  6\n",
       "5  c  b  3  7"
      ]
     },
     "execution_count": 302,
     "metadata": {},
     "output_type": "execute_result"
    }
   ],
   "source": [
    "# How you'd do it in pure Python\n",
    "\n",
    "df[df['a'].isin(df['b'])]"
   ]
  },
  {
   "cell_type": "code",
   "execution_count": 303,
   "id": "f56c5d56",
   "metadata": {},
   "outputs": [
    {
     "data": {
      "text/html": [
       "<div>\n",
       "<style scoped>\n",
       "    .dataframe tbody tr th:only-of-type {\n",
       "        vertical-align: middle;\n",
       "    }\n",
       "\n",
       "    .dataframe tbody tr th {\n",
       "        vertical-align: top;\n",
       "    }\n",
       "\n",
       "    .dataframe thead th {\n",
       "        text-align: right;\n",
       "    }\n",
       "</style>\n",
       "<table border=\"1\" class=\"dataframe\">\n",
       "  <thead>\n",
       "    <tr style=\"text-align: right;\">\n",
       "      <th></th>\n",
       "      <th>a</th>\n",
       "      <th>b</th>\n",
       "      <th>c</th>\n",
       "      <th>d</th>\n",
       "    </tr>\n",
       "  </thead>\n",
       "  <tbody>\n",
       "    <tr>\n",
       "      <th>6</th>\n",
       "      <td>d</td>\n",
       "      <td>b</td>\n",
       "      <td>2</td>\n",
       "      <td>1</td>\n",
       "    </tr>\n",
       "    <tr>\n",
       "      <th>7</th>\n",
       "      <td>d</td>\n",
       "      <td>b</td>\n",
       "      <td>4</td>\n",
       "      <td>7</td>\n",
       "    </tr>\n",
       "    <tr>\n",
       "      <th>8</th>\n",
       "      <td>e</td>\n",
       "      <td>c</td>\n",
       "      <td>2</td>\n",
       "      <td>7</td>\n",
       "    </tr>\n",
       "    <tr>\n",
       "      <th>9</th>\n",
       "      <td>e</td>\n",
       "      <td>c</td>\n",
       "      <td>1</td>\n",
       "      <td>1</td>\n",
       "    </tr>\n",
       "    <tr>\n",
       "      <th>10</th>\n",
       "      <td>f</td>\n",
       "      <td>c</td>\n",
       "      <td>2</td>\n",
       "      <td>1</td>\n",
       "    </tr>\n",
       "    <tr>\n",
       "      <th>11</th>\n",
       "      <td>f</td>\n",
       "      <td>c</td>\n",
       "      <td>0</td>\n",
       "      <td>4</td>\n",
       "    </tr>\n",
       "  </tbody>\n",
       "</table>\n",
       "</div>"
      ],
      "text/plain": [
       "    a  b  c  d\n",
       "6   d  b  2  1\n",
       "7   d  b  4  7\n",
       "8   e  c  2  7\n",
       "9   e  c  1  1\n",
       "10  f  c  2  1\n",
       "11  f  c  0  4"
      ]
     },
     "execution_count": 303,
     "metadata": {},
     "output_type": "execute_result"
    }
   ],
   "source": [
    "df.query('a not in b')"
   ]
  },
  {
   "cell_type": "code",
   "execution_count": 305,
   "id": "496bfe14",
   "metadata": {},
   "outputs": [
    {
     "data": {
      "text/html": [
       "<div>\n",
       "<style scoped>\n",
       "    .dataframe tbody tr th:only-of-type {\n",
       "        vertical-align: middle;\n",
       "    }\n",
       "\n",
       "    .dataframe tbody tr th {\n",
       "        vertical-align: top;\n",
       "    }\n",
       "\n",
       "    .dataframe thead th {\n",
       "        text-align: right;\n",
       "    }\n",
       "</style>\n",
       "<table border=\"1\" class=\"dataframe\">\n",
       "  <thead>\n",
       "    <tr style=\"text-align: right;\">\n",
       "      <th></th>\n",
       "      <th>a</th>\n",
       "      <th>b</th>\n",
       "      <th>c</th>\n",
       "      <th>d</th>\n",
       "    </tr>\n",
       "  </thead>\n",
       "  <tbody>\n",
       "    <tr>\n",
       "      <th>6</th>\n",
       "      <td>d</td>\n",
       "      <td>b</td>\n",
       "      <td>2</td>\n",
       "      <td>1</td>\n",
       "    </tr>\n",
       "    <tr>\n",
       "      <th>7</th>\n",
       "      <td>d</td>\n",
       "      <td>b</td>\n",
       "      <td>4</td>\n",
       "      <td>7</td>\n",
       "    </tr>\n",
       "    <tr>\n",
       "      <th>8</th>\n",
       "      <td>e</td>\n",
       "      <td>c</td>\n",
       "      <td>2</td>\n",
       "      <td>7</td>\n",
       "    </tr>\n",
       "    <tr>\n",
       "      <th>9</th>\n",
       "      <td>e</td>\n",
       "      <td>c</td>\n",
       "      <td>1</td>\n",
       "      <td>1</td>\n",
       "    </tr>\n",
       "    <tr>\n",
       "      <th>10</th>\n",
       "      <td>f</td>\n",
       "      <td>c</td>\n",
       "      <td>2</td>\n",
       "      <td>1</td>\n",
       "    </tr>\n",
       "    <tr>\n",
       "      <th>11</th>\n",
       "      <td>f</td>\n",
       "      <td>c</td>\n",
       "      <td>0</td>\n",
       "      <td>4</td>\n",
       "    </tr>\n",
       "  </tbody>\n",
       "</table>\n",
       "</div>"
      ],
      "text/plain": [
       "    a  b  c  d\n",
       "6   d  b  2  1\n",
       "7   d  b  4  7\n",
       "8   e  c  2  7\n",
       "9   e  c  1  1\n",
       "10  f  c  2  1\n",
       "11  f  c  0  4"
      ]
     },
     "execution_count": 305,
     "metadata": {},
     "output_type": "execute_result"
    }
   ],
   "source": [
    "# pure Python\n",
    "\n",
    "df[~df['a'].isin(df['b'])]"
   ]
  },
  {
   "cell_type": "code",
   "execution_count": 306,
   "id": "810ca955",
   "metadata": {},
   "outputs": [
    {
     "data": {
      "text/html": [
       "<div>\n",
       "<style scoped>\n",
       "    .dataframe tbody tr th:only-of-type {\n",
       "        vertical-align: middle;\n",
       "    }\n",
       "\n",
       "    .dataframe tbody tr th {\n",
       "        vertical-align: top;\n",
       "    }\n",
       "\n",
       "    .dataframe thead th {\n",
       "        text-align: right;\n",
       "    }\n",
       "</style>\n",
       "<table border=\"1\" class=\"dataframe\">\n",
       "  <thead>\n",
       "    <tr style=\"text-align: right;\">\n",
       "      <th></th>\n",
       "      <th>a</th>\n",
       "      <th>b</th>\n",
       "      <th>c</th>\n",
       "      <th>d</th>\n",
       "    </tr>\n",
       "  </thead>\n",
       "  <tbody>\n",
       "    <tr>\n",
       "      <th>0</th>\n",
       "      <td>a</td>\n",
       "      <td>a</td>\n",
       "      <td>4</td>\n",
       "      <td>6</td>\n",
       "    </tr>\n",
       "    <tr>\n",
       "      <th>1</th>\n",
       "      <td>a</td>\n",
       "      <td>a</td>\n",
       "      <td>3</td>\n",
       "      <td>8</td>\n",
       "    </tr>\n",
       "    <tr>\n",
       "      <th>4</th>\n",
       "      <td>c</td>\n",
       "      <td>b</td>\n",
       "      <td>3</td>\n",
       "      <td>6</td>\n",
       "    </tr>\n",
       "    <tr>\n",
       "      <th>5</th>\n",
       "      <td>c</td>\n",
       "      <td>b</td>\n",
       "      <td>3</td>\n",
       "      <td>7</td>\n",
       "    </tr>\n",
       "  </tbody>\n",
       "</table>\n",
       "</div>"
      ],
      "text/plain": [
       "   a  b  c  d\n",
       "0  a  a  4  6\n",
       "1  a  a  3  8\n",
       "4  c  b  3  6\n",
       "5  c  b  3  7"
      ]
     },
     "execution_count": 306,
     "metadata": {},
     "output_type": "execute_result"
    }
   ],
   "source": [
    "# rows where cols a and b have overlapping values\n",
    "# and col c's values are less than col d's\n",
    "\n",
    "df.query('a in b and c < d')"
   ]
  },
  {
   "cell_type": "code",
   "execution_count": 307,
   "id": "15f29fab",
   "metadata": {},
   "outputs": [
    {
     "data": {
      "text/html": [
       "<div>\n",
       "<style scoped>\n",
       "    .dataframe tbody tr th:only-of-type {\n",
       "        vertical-align: middle;\n",
       "    }\n",
       "\n",
       "    .dataframe tbody tr th {\n",
       "        vertical-align: top;\n",
       "    }\n",
       "\n",
       "    .dataframe thead th {\n",
       "        text-align: right;\n",
       "    }\n",
       "</style>\n",
       "<table border=\"1\" class=\"dataframe\">\n",
       "  <thead>\n",
       "    <tr style=\"text-align: right;\">\n",
       "      <th></th>\n",
       "      <th>a</th>\n",
       "      <th>b</th>\n",
       "      <th>c</th>\n",
       "      <th>d</th>\n",
       "    </tr>\n",
       "  </thead>\n",
       "  <tbody>\n",
       "    <tr>\n",
       "      <th>0</th>\n",
       "      <td>a</td>\n",
       "      <td>a</td>\n",
       "      <td>4</td>\n",
       "      <td>6</td>\n",
       "    </tr>\n",
       "    <tr>\n",
       "      <th>1</th>\n",
       "      <td>a</td>\n",
       "      <td>a</td>\n",
       "      <td>3</td>\n",
       "      <td>8</td>\n",
       "    </tr>\n",
       "    <tr>\n",
       "      <th>4</th>\n",
       "      <td>c</td>\n",
       "      <td>b</td>\n",
       "      <td>3</td>\n",
       "      <td>6</td>\n",
       "    </tr>\n",
       "    <tr>\n",
       "      <th>5</th>\n",
       "      <td>c</td>\n",
       "      <td>b</td>\n",
       "      <td>3</td>\n",
       "      <td>7</td>\n",
       "    </tr>\n",
       "    <tr>\n",
       "      <th>7</th>\n",
       "      <td>d</td>\n",
       "      <td>b</td>\n",
       "      <td>4</td>\n",
       "      <td>7</td>\n",
       "    </tr>\n",
       "    <tr>\n",
       "      <th>8</th>\n",
       "      <td>e</td>\n",
       "      <td>c</td>\n",
       "      <td>2</td>\n",
       "      <td>7</td>\n",
       "    </tr>\n",
       "    <tr>\n",
       "      <th>11</th>\n",
       "      <td>f</td>\n",
       "      <td>c</td>\n",
       "      <td>0</td>\n",
       "      <td>4</td>\n",
       "    </tr>\n",
       "  </tbody>\n",
       "</table>\n",
       "</div>"
      ],
      "text/plain": [
       "    a  b  c  d\n",
       "0   a  a  4  6\n",
       "1   a  a  3  8\n",
       "4   c  b  3  6\n",
       "5   c  b  3  7\n",
       "7   d  b  4  7\n",
       "8   e  c  2  7\n",
       "11  f  c  0  4"
      ]
     },
     "execution_count": 307,
     "metadata": {},
     "output_type": "execute_result"
    }
   ],
   "source": [
    "# pure Python\n",
    "df[df['b'].isin(df['a']) & (df['c'] < df['d'])]"
   ]
  },
  {
   "cell_type": "code",
   "execution_count": 310,
   "id": "c237dacd",
   "metadata": {},
   "outputs": [
    {
     "data": {
      "text/html": [
       "<div>\n",
       "<style scoped>\n",
       "    .dataframe tbody tr th:only-of-type {\n",
       "        vertical-align: middle;\n",
       "    }\n",
       "\n",
       "    .dataframe tbody tr th {\n",
       "        vertical-align: top;\n",
       "    }\n",
       "\n",
       "    .dataframe thead th {\n",
       "        text-align: right;\n",
       "    }\n",
       "</style>\n",
       "<table border=\"1\" class=\"dataframe\">\n",
       "  <thead>\n",
       "    <tr style=\"text-align: right;\">\n",
       "      <th></th>\n",
       "      <th>a</th>\n",
       "      <th>b</th>\n",
       "      <th>c</th>\n",
       "      <th>d</th>\n",
       "    </tr>\n",
       "  </thead>\n",
       "  <tbody>\n",
       "    <tr>\n",
       "      <th>0</th>\n",
       "      <td>a</td>\n",
       "      <td>a</td>\n",
       "      <td>4</td>\n",
       "      <td>6</td>\n",
       "    </tr>\n",
       "    <tr>\n",
       "      <th>1</th>\n",
       "      <td>a</td>\n",
       "      <td>a</td>\n",
       "      <td>3</td>\n",
       "      <td>8</td>\n",
       "    </tr>\n",
       "    <tr>\n",
       "      <th>2</th>\n",
       "      <td>b</td>\n",
       "      <td>a</td>\n",
       "      <td>4</td>\n",
       "      <td>3</td>\n",
       "    </tr>\n",
       "    <tr>\n",
       "      <th>3</th>\n",
       "      <td>b</td>\n",
       "      <td>a</td>\n",
       "      <td>2</td>\n",
       "      <td>1</td>\n",
       "    </tr>\n",
       "    <tr>\n",
       "      <th>4</th>\n",
       "      <td>c</td>\n",
       "      <td>b</td>\n",
       "      <td>3</td>\n",
       "      <td>6</td>\n",
       "    </tr>\n",
       "    <tr>\n",
       "      <th>5</th>\n",
       "      <td>c</td>\n",
       "      <td>b</td>\n",
       "      <td>3</td>\n",
       "      <td>7</td>\n",
       "    </tr>\n",
       "    <tr>\n",
       "      <th>6</th>\n",
       "      <td>d</td>\n",
       "      <td>b</td>\n",
       "      <td>2</td>\n",
       "      <td>1</td>\n",
       "    </tr>\n",
       "    <tr>\n",
       "      <th>7</th>\n",
       "      <td>d</td>\n",
       "      <td>b</td>\n",
       "      <td>4</td>\n",
       "      <td>7</td>\n",
       "    </tr>\n",
       "    <tr>\n",
       "      <th>8</th>\n",
       "      <td>e</td>\n",
       "      <td>c</td>\n",
       "      <td>2</td>\n",
       "      <td>7</td>\n",
       "    </tr>\n",
       "    <tr>\n",
       "      <th>10</th>\n",
       "      <td>f</td>\n",
       "      <td>c</td>\n",
       "      <td>2</td>\n",
       "      <td>1</td>\n",
       "    </tr>\n",
       "  </tbody>\n",
       "</table>\n",
       "</div>"
      ],
      "text/plain": [
       "    a  b  c  d\n",
       "0   a  a  4  6\n",
       "1   a  a  3  8\n",
       "2   b  a  4  3\n",
       "3   b  a  2  1\n",
       "4   c  b  3  6\n",
       "5   c  b  3  7\n",
       "6   d  b  2  1\n",
       "7   d  b  4  7\n",
       "8   e  c  2  7\n",
       "10  f  c  2  1"
      ]
     },
     "execution_count": 310,
     "metadata": {},
     "output_type": "execute_result"
    }
   ],
   "source": [
    "df.query('c in c + d')"
   ]
  },
  {
   "cell_type": "code",
   "execution_count": 311,
   "id": "0f4786fe",
   "metadata": {},
   "outputs": [
    {
     "data": {
      "text/html": [
       "<div>\n",
       "<style scoped>\n",
       "    .dataframe tbody tr th:only-of-type {\n",
       "        vertical-align: middle;\n",
       "    }\n",
       "\n",
       "    .dataframe tbody tr th {\n",
       "        vertical-align: top;\n",
       "    }\n",
       "\n",
       "    .dataframe thead th {\n",
       "        text-align: right;\n",
       "    }\n",
       "</style>\n",
       "<table border=\"1\" class=\"dataframe\">\n",
       "  <thead>\n",
       "    <tr style=\"text-align: right;\">\n",
       "      <th></th>\n",
       "      <th>a</th>\n",
       "      <th>b</th>\n",
       "      <th>c</th>\n",
       "      <th>d</th>\n",
       "    </tr>\n",
       "  </thead>\n",
       "  <tbody>\n",
       "    <tr>\n",
       "      <th>0</th>\n",
       "      <td>a</td>\n",
       "      <td>a</td>\n",
       "      <td>4</td>\n",
       "      <td>6</td>\n",
       "    </tr>\n",
       "    <tr>\n",
       "      <th>1</th>\n",
       "      <td>a</td>\n",
       "      <td>a</td>\n",
       "      <td>3</td>\n",
       "      <td>8</td>\n",
       "    </tr>\n",
       "    <tr>\n",
       "      <th>2</th>\n",
       "      <td>b</td>\n",
       "      <td>a</td>\n",
       "      <td>4</td>\n",
       "      <td>3</td>\n",
       "    </tr>\n",
       "    <tr>\n",
       "      <th>3</th>\n",
       "      <td>b</td>\n",
       "      <td>a</td>\n",
       "      <td>2</td>\n",
       "      <td>1</td>\n",
       "    </tr>\n",
       "    <tr>\n",
       "      <th>4</th>\n",
       "      <td>c</td>\n",
       "      <td>b</td>\n",
       "      <td>3</td>\n",
       "      <td>6</td>\n",
       "    </tr>\n",
       "    <tr>\n",
       "      <th>5</th>\n",
       "      <td>c</td>\n",
       "      <td>b</td>\n",
       "      <td>3</td>\n",
       "      <td>7</td>\n",
       "    </tr>\n",
       "    <tr>\n",
       "      <th>6</th>\n",
       "      <td>d</td>\n",
       "      <td>b</td>\n",
       "      <td>2</td>\n",
       "      <td>1</td>\n",
       "    </tr>\n",
       "    <tr>\n",
       "      <th>7</th>\n",
       "      <td>d</td>\n",
       "      <td>b</td>\n",
       "      <td>4</td>\n",
       "      <td>7</td>\n",
       "    </tr>\n",
       "    <tr>\n",
       "      <th>8</th>\n",
       "      <td>e</td>\n",
       "      <td>c</td>\n",
       "      <td>2</td>\n",
       "      <td>7</td>\n",
       "    </tr>\n",
       "    <tr>\n",
       "      <th>9</th>\n",
       "      <td>e</td>\n",
       "      <td>c</td>\n",
       "      <td>1</td>\n",
       "      <td>1</td>\n",
       "    </tr>\n",
       "    <tr>\n",
       "      <th>10</th>\n",
       "      <td>f</td>\n",
       "      <td>c</td>\n",
       "      <td>2</td>\n",
       "      <td>1</td>\n",
       "    </tr>\n",
       "    <tr>\n",
       "      <th>11</th>\n",
       "      <td>f</td>\n",
       "      <td>c</td>\n",
       "      <td>0</td>\n",
       "      <td>4</td>\n",
       "    </tr>\n",
       "  </tbody>\n",
       "</table>\n",
       "</div>"
      ],
      "text/plain": [
       "    a  b  c  d\n",
       "0   a  a  4  6\n",
       "1   a  a  3  8\n",
       "2   b  a  4  3\n",
       "3   b  a  2  1\n",
       "4   c  b  3  6\n",
       "5   c  b  3  7\n",
       "6   d  b  2  1\n",
       "7   d  b  4  7\n",
       "8   e  c  2  7\n",
       "9   e  c  1  1\n",
       "10  f  c  2  1\n",
       "11  f  c  0  4"
      ]
     },
     "execution_count": 311,
     "metadata": {},
     "output_type": "execute_result"
    }
   ],
   "source": [
    "df"
   ]
  },
  {
   "cell_type": "code",
   "execution_count": 312,
   "id": "7f931ca8",
   "metadata": {},
   "outputs": [
    {
     "data": {
      "text/html": [
       "<div>\n",
       "<style scoped>\n",
       "    .dataframe tbody tr th:only-of-type {\n",
       "        vertical-align: middle;\n",
       "    }\n",
       "\n",
       "    .dataframe tbody tr th {\n",
       "        vertical-align: top;\n",
       "    }\n",
       "\n",
       "    .dataframe thead th {\n",
       "        text-align: right;\n",
       "    }\n",
       "</style>\n",
       "<table border=\"1\" class=\"dataframe\">\n",
       "  <thead>\n",
       "    <tr style=\"text-align: right;\">\n",
       "      <th></th>\n",
       "      <th>a</th>\n",
       "      <th>b</th>\n",
       "      <th>c</th>\n",
       "      <th>d</th>\n",
       "    </tr>\n",
       "  </thead>\n",
       "  <tbody>\n",
       "    <tr>\n",
       "      <th>0</th>\n",
       "      <td>a</td>\n",
       "      <td>a</td>\n",
       "      <td>4</td>\n",
       "      <td>6</td>\n",
       "    </tr>\n",
       "    <tr>\n",
       "      <th>1</th>\n",
       "      <td>a</td>\n",
       "      <td>a</td>\n",
       "      <td>3</td>\n",
       "      <td>8</td>\n",
       "    </tr>\n",
       "    <tr>\n",
       "      <th>2</th>\n",
       "      <td>b</td>\n",
       "      <td>a</td>\n",
       "      <td>4</td>\n",
       "      <td>3</td>\n",
       "    </tr>\n",
       "    <tr>\n",
       "      <th>3</th>\n",
       "      <td>b</td>\n",
       "      <td>a</td>\n",
       "      <td>2</td>\n",
       "      <td>1</td>\n",
       "    </tr>\n",
       "    <tr>\n",
       "      <th>4</th>\n",
       "      <td>c</td>\n",
       "      <td>b</td>\n",
       "      <td>3</td>\n",
       "      <td>6</td>\n",
       "    </tr>\n",
       "    <tr>\n",
       "      <th>5</th>\n",
       "      <td>c</td>\n",
       "      <td>b</td>\n",
       "      <td>3</td>\n",
       "      <td>7</td>\n",
       "    </tr>\n",
       "    <tr>\n",
       "      <th>6</th>\n",
       "      <td>d</td>\n",
       "      <td>b</td>\n",
       "      <td>2</td>\n",
       "      <td>1</td>\n",
       "    </tr>\n",
       "    <tr>\n",
       "      <th>7</th>\n",
       "      <td>d</td>\n",
       "      <td>b</td>\n",
       "      <td>4</td>\n",
       "      <td>7</td>\n",
       "    </tr>\n",
       "    <tr>\n",
       "      <th>8</th>\n",
       "      <td>e</td>\n",
       "      <td>c</td>\n",
       "      <td>2</td>\n",
       "      <td>7</td>\n",
       "    </tr>\n",
       "    <tr>\n",
       "      <th>9</th>\n",
       "      <td>e</td>\n",
       "      <td>c</td>\n",
       "      <td>1</td>\n",
       "      <td>1</td>\n",
       "    </tr>\n",
       "    <tr>\n",
       "      <th>10</th>\n",
       "      <td>f</td>\n",
       "      <td>c</td>\n",
       "      <td>2</td>\n",
       "      <td>1</td>\n",
       "    </tr>\n",
       "    <tr>\n",
       "      <th>11</th>\n",
       "      <td>f</td>\n",
       "      <td>c</td>\n",
       "      <td>0</td>\n",
       "      <td>4</td>\n",
       "    </tr>\n",
       "  </tbody>\n",
       "</table>\n",
       "</div>"
      ],
      "text/plain": [
       "    a  b  c  d\n",
       "0   a  a  4  6\n",
       "1   a  a  3  8\n",
       "2   b  a  4  3\n",
       "3   b  a  2  1\n",
       "4   c  b  3  6\n",
       "5   c  b  3  7\n",
       "6   d  b  2  1\n",
       "7   d  b  4  7\n",
       "8   e  c  2  7\n",
       "9   e  c  1  1\n",
       "10  f  c  2  1\n",
       "11  f  c  0  4"
      ]
     },
     "execution_count": 312,
     "metadata": {},
     "output_type": "execute_result"
    }
   ],
   "source": [
    "df.query('b == [\"a\", \"b\", \"c\"]')"
   ]
  }
 ],
 "metadata": {
  "kernelspec": {
   "display_name": "Python 3 (ipykernel)",
   "language": "python",
   "name": "python3"
  },
  "language_info": {
   "codemirror_mode": {
    "name": "ipython",
    "version": 3
   },
   "file_extension": ".py",
   "mimetype": "text/x-python",
   "name": "python",
   "nbconvert_exporter": "python",
   "pygments_lexer": "ipython3",
   "version": "3.10.9"
  }
 },
 "nbformat": 4,
 "nbformat_minor": 5
}
