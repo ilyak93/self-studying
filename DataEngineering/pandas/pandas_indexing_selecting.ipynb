{
 "cells": [
  {
   "cell_type": "code",
   "execution_count": 6,
   "id": "47081ff6",
   "metadata": {},
   "outputs": [],
   "source": [
    "import pandas as pd\n",
    "import numpy as np"
   ]
  },
  {
   "cell_type": "code",
   "execution_count": 2,
   "id": "cedbd3c1",
   "metadata": {},
   "outputs": [
    {
     "data": {
      "text/plain": [
       "a    0\n",
       "b    1\n",
       "c    2\n",
       "d    3\n",
       "e    4\n",
       "dtype: int64"
      ]
     },
     "execution_count": 2,
     "metadata": {},
     "output_type": "execute_result"
    }
   ],
   "source": [
    "ser = pd.Series(range(5), index=list(\"abcde\"))\n",
    "ser"
   ]
  },
  {
   "cell_type": "code",
   "execution_count": 3,
   "id": "5bc783c5",
   "metadata": {},
   "outputs": [
    {
     "data": {
      "text/plain": [
       "a    0\n",
       "c    2\n",
       "e    4\n",
       "dtype: int64"
      ]
     },
     "execution_count": 3,
     "metadata": {},
     "output_type": "execute_result"
    }
   ],
   "source": [
    "ser.loc[[\"a\", \"c\", \"e\"]]"
   ]
  },
  {
   "cell_type": "code",
   "execution_count": 7,
   "id": "f1c544d1",
   "metadata": {},
   "outputs": [
    {
     "data": {
      "text/html": [
       "<div>\n",
       "<style scoped>\n",
       "    .dataframe tbody tr th:only-of-type {\n",
       "        vertical-align: middle;\n",
       "    }\n",
       "\n",
       "    .dataframe tbody tr th {\n",
       "        vertical-align: top;\n",
       "    }\n",
       "\n",
       "    .dataframe thead th {\n",
       "        text-align: right;\n",
       "    }\n",
       "</style>\n",
       "<table border=\"1\" class=\"dataframe\">\n",
       "  <thead>\n",
       "    <tr style=\"text-align: right;\">\n",
       "      <th></th>\n",
       "      <th>a</th>\n",
       "      <th>b</th>\n",
       "      <th>c</th>\n",
       "      <th>d</th>\n",
       "      <th>e</th>\n",
       "    </tr>\n",
       "  </thead>\n",
       "  <tbody>\n",
       "    <tr>\n",
       "      <th>a</th>\n",
       "      <td>0</td>\n",
       "      <td>1</td>\n",
       "      <td>2</td>\n",
       "      <td>3</td>\n",
       "      <td>4</td>\n",
       "    </tr>\n",
       "    <tr>\n",
       "      <th>b</th>\n",
       "      <td>5</td>\n",
       "      <td>6</td>\n",
       "      <td>7</td>\n",
       "      <td>8</td>\n",
       "      <td>9</td>\n",
       "    </tr>\n",
       "    <tr>\n",
       "      <th>c</th>\n",
       "      <td>10</td>\n",
       "      <td>11</td>\n",
       "      <td>12</td>\n",
       "      <td>13</td>\n",
       "      <td>14</td>\n",
       "    </tr>\n",
       "    <tr>\n",
       "      <th>d</th>\n",
       "      <td>15</td>\n",
       "      <td>16</td>\n",
       "      <td>17</td>\n",
       "      <td>18</td>\n",
       "      <td>19</td>\n",
       "    </tr>\n",
       "    <tr>\n",
       "      <th>e</th>\n",
       "      <td>20</td>\n",
       "      <td>21</td>\n",
       "      <td>22</td>\n",
       "      <td>23</td>\n",
       "      <td>24</td>\n",
       "    </tr>\n",
       "  </tbody>\n",
       "</table>\n",
       "</div>"
      ],
      "text/plain": [
       "    a   b   c   d   e\n",
       "a   0   1   2   3   4\n",
       "b   5   6   7   8   9\n",
       "c  10  11  12  13  14\n",
       "d  15  16  17  18  19\n",
       "e  20  21  22  23  24"
      ]
     },
     "execution_count": 7,
     "metadata": {},
     "output_type": "execute_result"
    }
   ],
   "source": [
    "df = pd.DataFrame(np.arange(25).reshape(5, 5), index=list(\"abcde\"), columns=list(\"abcde\"))\n",
    "df"
   ]
  },
  {
   "cell_type": "code",
   "execution_count": 8,
   "id": "2f50e29d",
   "metadata": {},
   "outputs": [
    {
     "data": {
      "text/html": [
       "<div>\n",
       "<style scoped>\n",
       "    .dataframe tbody tr th:only-of-type {\n",
       "        vertical-align: middle;\n",
       "    }\n",
       "\n",
       "    .dataframe tbody tr th {\n",
       "        vertical-align: top;\n",
       "    }\n",
       "\n",
       "    .dataframe thead th {\n",
       "        text-align: right;\n",
       "    }\n",
       "</style>\n",
       "<table border=\"1\" class=\"dataframe\">\n",
       "  <thead>\n",
       "    <tr style=\"text-align: right;\">\n",
       "      <th></th>\n",
       "      <th>b</th>\n",
       "      <th>d</th>\n",
       "    </tr>\n",
       "  </thead>\n",
       "  <tbody>\n",
       "    <tr>\n",
       "      <th>a</th>\n",
       "      <td>1</td>\n",
       "      <td>3</td>\n",
       "    </tr>\n",
       "    <tr>\n",
       "      <th>c</th>\n",
       "      <td>11</td>\n",
       "      <td>13</td>\n",
       "    </tr>\n",
       "    <tr>\n",
       "      <th>e</th>\n",
       "      <td>21</td>\n",
       "      <td>23</td>\n",
       "    </tr>\n",
       "  </tbody>\n",
       "</table>\n",
       "</div>"
      ],
      "text/plain": [
       "    b   d\n",
       "a   1   3\n",
       "c  11  13\n",
       "e  21  23"
      ]
     },
     "execution_count": 8,
     "metadata": {},
     "output_type": "execute_result"
    }
   ],
   "source": [
    "df.loc[[\"a\", \"c\", \"e\"], [\"b\", \"d\"]]"
   ]
  },
  {
   "cell_type": "code",
   "execution_count": 9,
   "id": "ac72309b",
   "metadata": {},
   "outputs": [
    {
     "data": {
      "text/html": [
       "<div>\n",
       "<style scoped>\n",
       "    .dataframe tbody tr th:only-of-type {\n",
       "        vertical-align: middle;\n",
       "    }\n",
       "\n",
       "    .dataframe tbody tr th {\n",
       "        vertical-align: top;\n",
       "    }\n",
       "\n",
       "    .dataframe thead th {\n",
       "        text-align: right;\n",
       "    }\n",
       "</style>\n",
       "<table border=\"1\" class=\"dataframe\">\n",
       "  <thead>\n",
       "    <tr style=\"text-align: right;\">\n",
       "      <th></th>\n",
       "      <th>A</th>\n",
       "      <th>B</th>\n",
       "      <th>C</th>\n",
       "      <th>D</th>\n",
       "    </tr>\n",
       "  </thead>\n",
       "  <tbody>\n",
       "    <tr>\n",
       "      <th>2000-01-01</th>\n",
       "      <td>-0.018492</td>\n",
       "      <td>0.704924</td>\n",
       "      <td>0.761786</td>\n",
       "      <td>1.084438</td>\n",
       "    </tr>\n",
       "    <tr>\n",
       "      <th>2000-01-02</th>\n",
       "      <td>0.497136</td>\n",
       "      <td>-0.114484</td>\n",
       "      <td>1.184610</td>\n",
       "      <td>0.756158</td>\n",
       "    </tr>\n",
       "    <tr>\n",
       "      <th>2000-01-03</th>\n",
       "      <td>-0.116372</td>\n",
       "      <td>-0.708337</td>\n",
       "      <td>0.949433</td>\n",
       "      <td>0.054825</td>\n",
       "    </tr>\n",
       "    <tr>\n",
       "      <th>2000-01-04</th>\n",
       "      <td>-0.064605</td>\n",
       "      <td>-0.689296</td>\n",
       "      <td>0.310550</td>\n",
       "      <td>0.471620</td>\n",
       "    </tr>\n",
       "    <tr>\n",
       "      <th>2000-01-05</th>\n",
       "      <td>0.207694</td>\n",
       "      <td>-0.818026</td>\n",
       "      <td>0.359911</td>\n",
       "      <td>0.346075</td>\n",
       "    </tr>\n",
       "    <tr>\n",
       "      <th>2000-01-06</th>\n",
       "      <td>-0.337750</td>\n",
       "      <td>0.812771</td>\n",
       "      <td>0.645985</td>\n",
       "      <td>0.119537</td>\n",
       "    </tr>\n",
       "    <tr>\n",
       "      <th>2000-01-07</th>\n",
       "      <td>-0.844191</td>\n",
       "      <td>-0.117398</td>\n",
       "      <td>-0.905368</td>\n",
       "      <td>-0.365953</td>\n",
       "    </tr>\n",
       "    <tr>\n",
       "      <th>2000-01-08</th>\n",
       "      <td>-0.121758</td>\n",
       "      <td>0.439313</td>\n",
       "      <td>-0.726344</td>\n",
       "      <td>0.969090</td>\n",
       "    </tr>\n",
       "  </tbody>\n",
       "</table>\n",
       "</div>"
      ],
      "text/plain": [
       "                   A         B         C         D\n",
       "2000-01-01 -0.018492  0.704924  0.761786  1.084438\n",
       "2000-01-02  0.497136 -0.114484  1.184610  0.756158\n",
       "2000-01-03 -0.116372 -0.708337  0.949433  0.054825\n",
       "2000-01-04 -0.064605 -0.689296  0.310550  0.471620\n",
       "2000-01-05  0.207694 -0.818026  0.359911  0.346075\n",
       "2000-01-06 -0.337750  0.812771  0.645985  0.119537\n",
       "2000-01-07 -0.844191 -0.117398 -0.905368 -0.365953\n",
       "2000-01-08 -0.121758  0.439313 -0.726344  0.969090"
      ]
     },
     "execution_count": 9,
     "metadata": {},
     "output_type": "execute_result"
    }
   ],
   "source": [
    "dates = pd.date_range('1/1/2000', periods=8)\n",
    "\n",
    "df = pd.DataFrame(np.random.randn(8, 4),\n",
    "\n",
    "                  index=dates, columns=['A', 'B', 'C', 'D'])\n",
    "\n",
    "\n",
    "\n",
    "df"
   ]
  },
  {
   "cell_type": "code",
   "execution_count": 11,
   "id": "17b5b7fc",
   "metadata": {},
   "outputs": [
    {
     "data": {
      "text/plain": [
       "2000-01-01   -0.018492\n",
       "2000-01-02    0.497136\n",
       "2000-01-03   -0.116372\n",
       "2000-01-04   -0.064605\n",
       "2000-01-05    0.207694\n",
       "2000-01-06   -0.337750\n",
       "2000-01-07   -0.844191\n",
       "2000-01-08   -0.121758\n",
       "Freq: D, Name: A, dtype: float64"
      ]
     },
     "execution_count": 11,
     "metadata": {},
     "output_type": "execute_result"
    }
   ],
   "source": [
    "s = df['A']\n",
    "s"
   ]
  },
  {
   "cell_type": "code",
   "execution_count": 12,
   "id": "14f359d5",
   "metadata": {},
   "outputs": [
    {
     "data": {
      "text/plain": [
       "-0.3377502112409749"
      ]
     },
     "execution_count": 12,
     "metadata": {},
     "output_type": "execute_result"
    }
   ],
   "source": [
    "s[dates[5]]"
   ]
  },
  {
   "cell_type": "code",
   "execution_count": 13,
   "id": "2beee674",
   "metadata": {},
   "outputs": [],
   "source": [
    "df[['B', 'A']] = df[['A', 'B']]"
   ]
  },
  {
   "cell_type": "code",
   "execution_count": 14,
   "id": "8aaf1554",
   "metadata": {},
   "outputs": [
    {
     "data": {
      "text/html": [
       "<div>\n",
       "<style scoped>\n",
       "    .dataframe tbody tr th:only-of-type {\n",
       "        vertical-align: middle;\n",
       "    }\n",
       "\n",
       "    .dataframe tbody tr th {\n",
       "        vertical-align: top;\n",
       "    }\n",
       "\n",
       "    .dataframe thead th {\n",
       "        text-align: right;\n",
       "    }\n",
       "</style>\n",
       "<table border=\"1\" class=\"dataframe\">\n",
       "  <thead>\n",
       "    <tr style=\"text-align: right;\">\n",
       "      <th></th>\n",
       "      <th>A</th>\n",
       "      <th>B</th>\n",
       "      <th>C</th>\n",
       "      <th>D</th>\n",
       "    </tr>\n",
       "  </thead>\n",
       "  <tbody>\n",
       "    <tr>\n",
       "      <th>2000-01-01</th>\n",
       "      <td>0.704924</td>\n",
       "      <td>-0.018492</td>\n",
       "      <td>0.761786</td>\n",
       "      <td>1.084438</td>\n",
       "    </tr>\n",
       "    <tr>\n",
       "      <th>2000-01-02</th>\n",
       "      <td>-0.114484</td>\n",
       "      <td>0.497136</td>\n",
       "      <td>1.184610</td>\n",
       "      <td>0.756158</td>\n",
       "    </tr>\n",
       "    <tr>\n",
       "      <th>2000-01-03</th>\n",
       "      <td>-0.708337</td>\n",
       "      <td>-0.116372</td>\n",
       "      <td>0.949433</td>\n",
       "      <td>0.054825</td>\n",
       "    </tr>\n",
       "    <tr>\n",
       "      <th>2000-01-04</th>\n",
       "      <td>-0.689296</td>\n",
       "      <td>-0.064605</td>\n",
       "      <td>0.310550</td>\n",
       "      <td>0.471620</td>\n",
       "    </tr>\n",
       "    <tr>\n",
       "      <th>2000-01-05</th>\n",
       "      <td>-0.818026</td>\n",
       "      <td>0.207694</td>\n",
       "      <td>0.359911</td>\n",
       "      <td>0.346075</td>\n",
       "    </tr>\n",
       "    <tr>\n",
       "      <th>2000-01-06</th>\n",
       "      <td>0.812771</td>\n",
       "      <td>-0.337750</td>\n",
       "      <td>0.645985</td>\n",
       "      <td>0.119537</td>\n",
       "    </tr>\n",
       "    <tr>\n",
       "      <th>2000-01-07</th>\n",
       "      <td>-0.117398</td>\n",
       "      <td>-0.844191</td>\n",
       "      <td>-0.905368</td>\n",
       "      <td>-0.365953</td>\n",
       "    </tr>\n",
       "    <tr>\n",
       "      <th>2000-01-08</th>\n",
       "      <td>0.439313</td>\n",
       "      <td>-0.121758</td>\n",
       "      <td>-0.726344</td>\n",
       "      <td>0.969090</td>\n",
       "    </tr>\n",
       "  </tbody>\n",
       "</table>\n",
       "</div>"
      ],
      "text/plain": [
       "                   A         B         C         D\n",
       "2000-01-01  0.704924 -0.018492  0.761786  1.084438\n",
       "2000-01-02 -0.114484  0.497136  1.184610  0.756158\n",
       "2000-01-03 -0.708337 -0.116372  0.949433  0.054825\n",
       "2000-01-04 -0.689296 -0.064605  0.310550  0.471620\n",
       "2000-01-05 -0.818026  0.207694  0.359911  0.346075\n",
       "2000-01-06  0.812771 -0.337750  0.645985  0.119537\n",
       "2000-01-07 -0.117398 -0.844191 -0.905368 -0.365953\n",
       "2000-01-08  0.439313 -0.121758 -0.726344  0.969090"
      ]
     },
     "execution_count": 14,
     "metadata": {},
     "output_type": "execute_result"
    }
   ],
   "source": [
    "df"
   ]
  },
  {
   "cell_type": "code",
   "execution_count": 15,
   "id": "9dc4bc97",
   "metadata": {},
   "outputs": [
    {
     "data": {
      "text/html": [
       "<div>\n",
       "<style scoped>\n",
       "    .dataframe tbody tr th:only-of-type {\n",
       "        vertical-align: middle;\n",
       "    }\n",
       "\n",
       "    .dataframe tbody tr th {\n",
       "        vertical-align: top;\n",
       "    }\n",
       "\n",
       "    .dataframe thead th {\n",
       "        text-align: right;\n",
       "    }\n",
       "</style>\n",
       "<table border=\"1\" class=\"dataframe\">\n",
       "  <thead>\n",
       "    <tr style=\"text-align: right;\">\n",
       "      <th></th>\n",
       "      <th>A</th>\n",
       "      <th>B</th>\n",
       "    </tr>\n",
       "  </thead>\n",
       "  <tbody>\n",
       "    <tr>\n",
       "      <th>2000-01-01</th>\n",
       "      <td>0.704924</td>\n",
       "      <td>-0.018492</td>\n",
       "    </tr>\n",
       "    <tr>\n",
       "      <th>2000-01-02</th>\n",
       "      <td>-0.114484</td>\n",
       "      <td>0.497136</td>\n",
       "    </tr>\n",
       "    <tr>\n",
       "      <th>2000-01-03</th>\n",
       "      <td>-0.708337</td>\n",
       "      <td>-0.116372</td>\n",
       "    </tr>\n",
       "    <tr>\n",
       "      <th>2000-01-04</th>\n",
       "      <td>-0.689296</td>\n",
       "      <td>-0.064605</td>\n",
       "    </tr>\n",
       "    <tr>\n",
       "      <th>2000-01-05</th>\n",
       "      <td>-0.818026</td>\n",
       "      <td>0.207694</td>\n",
       "    </tr>\n",
       "    <tr>\n",
       "      <th>2000-01-06</th>\n",
       "      <td>0.812771</td>\n",
       "      <td>-0.337750</td>\n",
       "    </tr>\n",
       "    <tr>\n",
       "      <th>2000-01-07</th>\n",
       "      <td>-0.117398</td>\n",
       "      <td>-0.844191</td>\n",
       "    </tr>\n",
       "    <tr>\n",
       "      <th>2000-01-08</th>\n",
       "      <td>0.439313</td>\n",
       "      <td>-0.121758</td>\n",
       "    </tr>\n",
       "  </tbody>\n",
       "</table>\n",
       "</div>"
      ],
      "text/plain": [
       "                   A         B\n",
       "2000-01-01  0.704924 -0.018492\n",
       "2000-01-02 -0.114484  0.497136\n",
       "2000-01-03 -0.708337 -0.116372\n",
       "2000-01-04 -0.689296 -0.064605\n",
       "2000-01-05 -0.818026  0.207694\n",
       "2000-01-06  0.812771 -0.337750\n",
       "2000-01-07 -0.117398 -0.844191\n",
       "2000-01-08  0.439313 -0.121758"
      ]
     },
     "execution_count": 15,
     "metadata": {},
     "output_type": "execute_result"
    }
   ],
   "source": [
    "df[['A', 'B']]"
   ]
  },
  {
   "cell_type": "code",
   "execution_count": 18,
   "id": "4b3b0d7d",
   "metadata": {},
   "outputs": [
    {
     "data": {
      "text/html": [
       "<div>\n",
       "<style scoped>\n",
       "    .dataframe tbody tr th:only-of-type {\n",
       "        vertical-align: middle;\n",
       "    }\n",
       "\n",
       "    .dataframe tbody tr th {\n",
       "        vertical-align: top;\n",
       "    }\n",
       "\n",
       "    .dataframe thead th {\n",
       "        text-align: right;\n",
       "    }\n",
       "</style>\n",
       "<table border=\"1\" class=\"dataframe\">\n",
       "  <thead>\n",
       "    <tr style=\"text-align: right;\">\n",
       "      <th></th>\n",
       "      <th>B</th>\n",
       "      <th>A</th>\n",
       "    </tr>\n",
       "  </thead>\n",
       "  <tbody>\n",
       "    <tr>\n",
       "      <th>2000-01-01</th>\n",
       "      <td>-0.018492</td>\n",
       "      <td>0.704924</td>\n",
       "    </tr>\n",
       "    <tr>\n",
       "      <th>2000-01-02</th>\n",
       "      <td>0.497136</td>\n",
       "      <td>-0.114484</td>\n",
       "    </tr>\n",
       "    <tr>\n",
       "      <th>2000-01-03</th>\n",
       "      <td>-0.116372</td>\n",
       "      <td>-0.708337</td>\n",
       "    </tr>\n",
       "    <tr>\n",
       "      <th>2000-01-04</th>\n",
       "      <td>-0.064605</td>\n",
       "      <td>-0.689296</td>\n",
       "    </tr>\n",
       "    <tr>\n",
       "      <th>2000-01-05</th>\n",
       "      <td>0.207694</td>\n",
       "      <td>-0.818026</td>\n",
       "    </tr>\n",
       "    <tr>\n",
       "      <th>2000-01-06</th>\n",
       "      <td>-0.337750</td>\n",
       "      <td>0.812771</td>\n",
       "    </tr>\n",
       "    <tr>\n",
       "      <th>2000-01-07</th>\n",
       "      <td>-0.844191</td>\n",
       "      <td>-0.117398</td>\n",
       "    </tr>\n",
       "    <tr>\n",
       "      <th>2000-01-08</th>\n",
       "      <td>-0.121758</td>\n",
       "      <td>0.439313</td>\n",
       "    </tr>\n",
       "  </tbody>\n",
       "</table>\n",
       "</div>"
      ],
      "text/plain": [
       "                   B         A\n",
       "2000-01-01 -0.018492  0.704924\n",
       "2000-01-02  0.497136 -0.114484\n",
       "2000-01-03 -0.116372 -0.708337\n",
       "2000-01-04 -0.064605 -0.689296\n",
       "2000-01-05  0.207694 -0.818026\n",
       "2000-01-06 -0.337750  0.812771\n",
       "2000-01-07 -0.844191 -0.117398\n",
       "2000-01-08 -0.121758  0.439313"
      ]
     },
     "execution_count": 18,
     "metadata": {},
     "output_type": "execute_result"
    }
   ],
   "source": [
    "df.loc[:, ['B', 'A']] "
   ]
  },
  {
   "cell_type": "code",
   "execution_count": 16,
   "id": "0316d17e",
   "metadata": {},
   "outputs": [],
   "source": [
    "df.loc[:, ['B', 'A']] = df[['A', 'B']]"
   ]
  },
  {
   "cell_type": "code",
   "execution_count": 17,
   "id": "9e8285bd",
   "metadata": {},
   "outputs": [
    {
     "data": {
      "text/html": [
       "<div>\n",
       "<style scoped>\n",
       "    .dataframe tbody tr th:only-of-type {\n",
       "        vertical-align: middle;\n",
       "    }\n",
       "\n",
       "    .dataframe tbody tr th {\n",
       "        vertical-align: top;\n",
       "    }\n",
       "\n",
       "    .dataframe thead th {\n",
       "        text-align: right;\n",
       "    }\n",
       "</style>\n",
       "<table border=\"1\" class=\"dataframe\">\n",
       "  <thead>\n",
       "    <tr style=\"text-align: right;\">\n",
       "      <th></th>\n",
       "      <th>A</th>\n",
       "      <th>B</th>\n",
       "    </tr>\n",
       "  </thead>\n",
       "  <tbody>\n",
       "    <tr>\n",
       "      <th>2000-01-01</th>\n",
       "      <td>0.704924</td>\n",
       "      <td>-0.018492</td>\n",
       "    </tr>\n",
       "    <tr>\n",
       "      <th>2000-01-02</th>\n",
       "      <td>-0.114484</td>\n",
       "      <td>0.497136</td>\n",
       "    </tr>\n",
       "    <tr>\n",
       "      <th>2000-01-03</th>\n",
       "      <td>-0.708337</td>\n",
       "      <td>-0.116372</td>\n",
       "    </tr>\n",
       "    <tr>\n",
       "      <th>2000-01-04</th>\n",
       "      <td>-0.689296</td>\n",
       "      <td>-0.064605</td>\n",
       "    </tr>\n",
       "    <tr>\n",
       "      <th>2000-01-05</th>\n",
       "      <td>-0.818026</td>\n",
       "      <td>0.207694</td>\n",
       "    </tr>\n",
       "    <tr>\n",
       "      <th>2000-01-06</th>\n",
       "      <td>0.812771</td>\n",
       "      <td>-0.337750</td>\n",
       "    </tr>\n",
       "    <tr>\n",
       "      <th>2000-01-07</th>\n",
       "      <td>-0.117398</td>\n",
       "      <td>-0.844191</td>\n",
       "    </tr>\n",
       "    <tr>\n",
       "      <th>2000-01-08</th>\n",
       "      <td>0.439313</td>\n",
       "      <td>-0.121758</td>\n",
       "    </tr>\n",
       "  </tbody>\n",
       "</table>\n",
       "</div>"
      ],
      "text/plain": [
       "                   A         B\n",
       "2000-01-01  0.704924 -0.018492\n",
       "2000-01-02 -0.114484  0.497136\n",
       "2000-01-03 -0.708337 -0.116372\n",
       "2000-01-04 -0.689296 -0.064605\n",
       "2000-01-05 -0.818026  0.207694\n",
       "2000-01-06  0.812771 -0.337750\n",
       "2000-01-07 -0.117398 -0.844191\n",
       "2000-01-08  0.439313 -0.121758"
      ]
     },
     "execution_count": 17,
     "metadata": {},
     "output_type": "execute_result"
    }
   ],
   "source": [
    "df[['A', 'B']]"
   ]
  },
  {
   "cell_type": "code",
   "execution_count": 19,
   "id": "78a2668d",
   "metadata": {},
   "outputs": [
    {
     "data": {
      "text/html": [
       "<div>\n",
       "<style scoped>\n",
       "    .dataframe tbody tr th:only-of-type {\n",
       "        vertical-align: middle;\n",
       "    }\n",
       "\n",
       "    .dataframe tbody tr th {\n",
       "        vertical-align: top;\n",
       "    }\n",
       "\n",
       "    .dataframe thead th {\n",
       "        text-align: right;\n",
       "    }\n",
       "</style>\n",
       "<table border=\"1\" class=\"dataframe\">\n",
       "  <thead>\n",
       "    <tr style=\"text-align: right;\">\n",
       "      <th></th>\n",
       "      <th>A</th>\n",
       "      <th>B</th>\n",
       "    </tr>\n",
       "  </thead>\n",
       "  <tbody>\n",
       "    <tr>\n",
       "      <th>2000-01-01</th>\n",
       "      <td>-0.018492</td>\n",
       "      <td>0.704924</td>\n",
       "    </tr>\n",
       "    <tr>\n",
       "      <th>2000-01-02</th>\n",
       "      <td>0.497136</td>\n",
       "      <td>-0.114484</td>\n",
       "    </tr>\n",
       "    <tr>\n",
       "      <th>2000-01-03</th>\n",
       "      <td>-0.116372</td>\n",
       "      <td>-0.708337</td>\n",
       "    </tr>\n",
       "    <tr>\n",
       "      <th>2000-01-04</th>\n",
       "      <td>-0.064605</td>\n",
       "      <td>-0.689296</td>\n",
       "    </tr>\n",
       "    <tr>\n",
       "      <th>2000-01-05</th>\n",
       "      <td>0.207694</td>\n",
       "      <td>-0.818026</td>\n",
       "    </tr>\n",
       "    <tr>\n",
       "      <th>2000-01-06</th>\n",
       "      <td>-0.337750</td>\n",
       "      <td>0.812771</td>\n",
       "    </tr>\n",
       "    <tr>\n",
       "      <th>2000-01-07</th>\n",
       "      <td>-0.844191</td>\n",
       "      <td>-0.117398</td>\n",
       "    </tr>\n",
       "    <tr>\n",
       "      <th>2000-01-08</th>\n",
       "      <td>-0.121758</td>\n",
       "      <td>0.439313</td>\n",
       "    </tr>\n",
       "  </tbody>\n",
       "</table>\n",
       "</div>"
      ],
      "text/plain": [
       "                   A         B\n",
       "2000-01-01 -0.018492  0.704924\n",
       "2000-01-02  0.497136 -0.114484\n",
       "2000-01-03 -0.116372 -0.708337\n",
       "2000-01-04 -0.064605 -0.689296\n",
       "2000-01-05  0.207694 -0.818026\n",
       "2000-01-06 -0.337750  0.812771\n",
       "2000-01-07 -0.844191 -0.117398\n",
       "2000-01-08 -0.121758  0.439313"
      ]
     },
     "execution_count": 19,
     "metadata": {},
     "output_type": "execute_result"
    }
   ],
   "source": [
    "df.loc[:, ['B', 'A']] = df[['A', 'B']].to_numpy()\n",
    "\n",
    "df[['A', 'B']]"
   ]
  },
  {
   "cell_type": "code",
   "execution_count": 67,
   "id": "90487e49",
   "metadata": {},
   "outputs": [],
   "source": [
    "df.iloc[:, [1, 0]] = df[['A', 'B']]"
   ]
  },
  {
   "cell_type": "code",
   "execution_count": 68,
   "id": "073d321a",
   "metadata": {},
   "outputs": [
    {
     "data": {
      "text/html": [
       "<div>\n",
       "<style scoped>\n",
       "    .dataframe tbody tr th:only-of-type {\n",
       "        vertical-align: middle;\n",
       "    }\n",
       "\n",
       "    .dataframe tbody tr th {\n",
       "        vertical-align: top;\n",
       "    }\n",
       "\n",
       "    .dataframe thead th {\n",
       "        text-align: right;\n",
       "    }\n",
       "</style>\n",
       "<table border=\"1\" class=\"dataframe\">\n",
       "  <thead>\n",
       "    <tr style=\"text-align: right;\">\n",
       "      <th></th>\n",
       "      <th>A</th>\n",
       "      <th>B</th>\n",
       "    </tr>\n",
       "  </thead>\n",
       "  <tbody>\n",
       "    <tr>\n",
       "      <th>2000-01-01</th>\n",
       "      <td>-0.018492</td>\n",
       "      <td>0.704924</td>\n",
       "    </tr>\n",
       "    <tr>\n",
       "      <th>2000-01-02</th>\n",
       "      <td>0.497136</td>\n",
       "      <td>-0.114484</td>\n",
       "    </tr>\n",
       "    <tr>\n",
       "      <th>2000-01-03</th>\n",
       "      <td>-0.116372</td>\n",
       "      <td>-0.708337</td>\n",
       "    </tr>\n",
       "    <tr>\n",
       "      <th>2000-01-04</th>\n",
       "      <td>-0.064605</td>\n",
       "      <td>-0.689296</td>\n",
       "    </tr>\n",
       "    <tr>\n",
       "      <th>2000-01-05</th>\n",
       "      <td>0.207694</td>\n",
       "      <td>-0.818026</td>\n",
       "    </tr>\n",
       "    <tr>\n",
       "      <th>2000-01-06</th>\n",
       "      <td>-0.337750</td>\n",
       "      <td>0.812771</td>\n",
       "    </tr>\n",
       "    <tr>\n",
       "      <th>2000-01-07</th>\n",
       "      <td>-0.844191</td>\n",
       "      <td>-0.117398</td>\n",
       "    </tr>\n",
       "    <tr>\n",
       "      <th>2000-01-08</th>\n",
       "      <td>-0.121758</td>\n",
       "      <td>0.439313</td>\n",
       "    </tr>\n",
       "  </tbody>\n",
       "</table>\n",
       "</div>"
      ],
      "text/plain": [
       "                   A         B\n",
       "2000-01-01 -0.018492  0.704924\n",
       "2000-01-02  0.497136 -0.114484\n",
       "2000-01-03 -0.116372 -0.708337\n",
       "2000-01-04 -0.064605 -0.689296\n",
       "2000-01-05  0.207694 -0.818026\n",
       "2000-01-06 -0.337750  0.812771\n",
       "2000-01-07 -0.844191 -0.117398\n",
       "2000-01-08 -0.121758  0.439313"
      ]
     },
     "execution_count": 68,
     "metadata": {},
     "output_type": "execute_result"
    }
   ],
   "source": [
    "df[['A', 'B']]"
   ]
  },
  {
   "cell_type": "code",
   "execution_count": 69,
   "id": "0a4e088c",
   "metadata": {},
   "outputs": [],
   "source": [
    "sa = pd.Series([1, 2, 3], index=list('abc'))\n",
    "\n",
    "dfa = df.copy()"
   ]
  },
  {
   "cell_type": "code",
   "execution_count": 70,
   "id": "e5587ed3",
   "metadata": {},
   "outputs": [
    {
     "data": {
      "text/plain": [
       "a    1\n",
       "b    2\n",
       "c    3\n",
       "dtype: int64"
      ]
     },
     "execution_count": 70,
     "metadata": {},
     "output_type": "execute_result"
    }
   ],
   "source": [
    "sa"
   ]
  },
  {
   "cell_type": "code",
   "execution_count": 71,
   "id": "b8420f21",
   "metadata": {},
   "outputs": [
    {
     "data": {
      "text/plain": [
       "2"
      ]
     },
     "execution_count": 71,
     "metadata": {},
     "output_type": "execute_result"
    }
   ],
   "source": [
    "sa.b"
   ]
  },
  {
   "cell_type": "code",
   "execution_count": 72,
   "id": "048d0c51",
   "metadata": {},
   "outputs": [
    {
     "data": {
      "text/html": [
       "<div>\n",
       "<style scoped>\n",
       "    .dataframe tbody tr th:only-of-type {\n",
       "        vertical-align: middle;\n",
       "    }\n",
       "\n",
       "    .dataframe tbody tr th {\n",
       "        vertical-align: top;\n",
       "    }\n",
       "\n",
       "    .dataframe thead th {\n",
       "        text-align: right;\n",
       "    }\n",
       "</style>\n",
       "<table border=\"1\" class=\"dataframe\">\n",
       "  <thead>\n",
       "    <tr style=\"text-align: right;\">\n",
       "      <th></th>\n",
       "      <th>A</th>\n",
       "      <th>B</th>\n",
       "      <th>C</th>\n",
       "      <th>D</th>\n",
       "    </tr>\n",
       "  </thead>\n",
       "  <tbody>\n",
       "    <tr>\n",
       "      <th>2000-01-01</th>\n",
       "      <td>-0.018492</td>\n",
       "      <td>0.704924</td>\n",
       "      <td>0.761786</td>\n",
       "      <td>1.084438</td>\n",
       "    </tr>\n",
       "    <tr>\n",
       "      <th>2000-01-02</th>\n",
       "      <td>0.497136</td>\n",
       "      <td>-0.114484</td>\n",
       "      <td>1.184610</td>\n",
       "      <td>0.756158</td>\n",
       "    </tr>\n",
       "    <tr>\n",
       "      <th>2000-01-03</th>\n",
       "      <td>-0.116372</td>\n",
       "      <td>-0.708337</td>\n",
       "      <td>0.949433</td>\n",
       "      <td>0.054825</td>\n",
       "    </tr>\n",
       "    <tr>\n",
       "      <th>2000-01-04</th>\n",
       "      <td>-0.064605</td>\n",
       "      <td>-0.689296</td>\n",
       "      <td>0.310550</td>\n",
       "      <td>0.471620</td>\n",
       "    </tr>\n",
       "    <tr>\n",
       "      <th>2000-01-05</th>\n",
       "      <td>0.207694</td>\n",
       "      <td>-0.818026</td>\n",
       "      <td>0.359911</td>\n",
       "      <td>0.346075</td>\n",
       "    </tr>\n",
       "    <tr>\n",
       "      <th>2000-01-06</th>\n",
       "      <td>-0.337750</td>\n",
       "      <td>0.812771</td>\n",
       "      <td>0.645985</td>\n",
       "      <td>0.119537</td>\n",
       "    </tr>\n",
       "    <tr>\n",
       "      <th>2000-01-07</th>\n",
       "      <td>-0.844191</td>\n",
       "      <td>-0.117398</td>\n",
       "      <td>-0.905368</td>\n",
       "      <td>-0.365953</td>\n",
       "    </tr>\n",
       "    <tr>\n",
       "      <th>2000-01-08</th>\n",
       "      <td>-0.121758</td>\n",
       "      <td>0.439313</td>\n",
       "      <td>-0.726344</td>\n",
       "      <td>0.969090</td>\n",
       "    </tr>\n",
       "  </tbody>\n",
       "</table>\n",
       "</div>"
      ],
      "text/plain": [
       "                   A         B         C         D\n",
       "2000-01-01 -0.018492  0.704924  0.761786  1.084438\n",
       "2000-01-02  0.497136 -0.114484  1.184610  0.756158\n",
       "2000-01-03 -0.116372 -0.708337  0.949433  0.054825\n",
       "2000-01-04 -0.064605 -0.689296  0.310550  0.471620\n",
       "2000-01-05  0.207694 -0.818026  0.359911  0.346075\n",
       "2000-01-06 -0.337750  0.812771  0.645985  0.119537\n",
       "2000-01-07 -0.844191 -0.117398 -0.905368 -0.365953\n",
       "2000-01-08 -0.121758  0.439313 -0.726344  0.969090"
      ]
     },
     "execution_count": 72,
     "metadata": {},
     "output_type": "execute_result"
    }
   ],
   "source": [
    "dfa"
   ]
  },
  {
   "cell_type": "code",
   "execution_count": 73,
   "id": "ed3dce19",
   "metadata": {},
   "outputs": [
    {
     "data": {
      "text/plain": [
       "2000-01-01   -0.018492\n",
       "2000-01-02    0.497136\n",
       "2000-01-03   -0.116372\n",
       "2000-01-04   -0.064605\n",
       "2000-01-05    0.207694\n",
       "2000-01-06   -0.337750\n",
       "2000-01-07   -0.844191\n",
       "2000-01-08   -0.121758\n",
       "Freq: D, Name: A, dtype: float64"
      ]
     },
     "execution_count": 73,
     "metadata": {},
     "output_type": "execute_result"
    }
   ],
   "source": [
    "dfa.A"
   ]
  },
  {
   "cell_type": "code",
   "execution_count": 74,
   "id": "4f985637",
   "metadata": {},
   "outputs": [],
   "source": [
    "sa.a = 5"
   ]
  },
  {
   "cell_type": "code",
   "execution_count": 75,
   "id": "1fa7e14e",
   "metadata": {},
   "outputs": [
    {
     "data": {
      "text/plain": [
       "a    5\n",
       "b    2\n",
       "c    3\n",
       "dtype: int64"
      ]
     },
     "execution_count": 75,
     "metadata": {},
     "output_type": "execute_result"
    }
   ],
   "source": [
    "sa"
   ]
  },
  {
   "cell_type": "code",
   "execution_count": 76,
   "id": "4c259068",
   "metadata": {},
   "outputs": [
    {
     "data": {
      "text/html": [
       "<div>\n",
       "<style scoped>\n",
       "    .dataframe tbody tr th:only-of-type {\n",
       "        vertical-align: middle;\n",
       "    }\n",
       "\n",
       "    .dataframe tbody tr th {\n",
       "        vertical-align: top;\n",
       "    }\n",
       "\n",
       "    .dataframe thead th {\n",
       "        text-align: right;\n",
       "    }\n",
       "</style>\n",
       "<table border=\"1\" class=\"dataframe\">\n",
       "  <thead>\n",
       "    <tr style=\"text-align: right;\">\n",
       "      <th></th>\n",
       "      <th>A</th>\n",
       "      <th>B</th>\n",
       "      <th>C</th>\n",
       "      <th>D</th>\n",
       "    </tr>\n",
       "  </thead>\n",
       "  <tbody>\n",
       "    <tr>\n",
       "      <th>2000-01-01</th>\n",
       "      <td>0</td>\n",
       "      <td>0.704924</td>\n",
       "      <td>0.761786</td>\n",
       "      <td>1.084438</td>\n",
       "    </tr>\n",
       "    <tr>\n",
       "      <th>2000-01-02</th>\n",
       "      <td>1</td>\n",
       "      <td>-0.114484</td>\n",
       "      <td>1.184610</td>\n",
       "      <td>0.756158</td>\n",
       "    </tr>\n",
       "    <tr>\n",
       "      <th>2000-01-03</th>\n",
       "      <td>2</td>\n",
       "      <td>-0.708337</td>\n",
       "      <td>0.949433</td>\n",
       "      <td>0.054825</td>\n",
       "    </tr>\n",
       "    <tr>\n",
       "      <th>2000-01-04</th>\n",
       "      <td>3</td>\n",
       "      <td>-0.689296</td>\n",
       "      <td>0.310550</td>\n",
       "      <td>0.471620</td>\n",
       "    </tr>\n",
       "    <tr>\n",
       "      <th>2000-01-05</th>\n",
       "      <td>4</td>\n",
       "      <td>-0.818026</td>\n",
       "      <td>0.359911</td>\n",
       "      <td>0.346075</td>\n",
       "    </tr>\n",
       "    <tr>\n",
       "      <th>2000-01-06</th>\n",
       "      <td>5</td>\n",
       "      <td>0.812771</td>\n",
       "      <td>0.645985</td>\n",
       "      <td>0.119537</td>\n",
       "    </tr>\n",
       "    <tr>\n",
       "      <th>2000-01-07</th>\n",
       "      <td>6</td>\n",
       "      <td>-0.117398</td>\n",
       "      <td>-0.905368</td>\n",
       "      <td>-0.365953</td>\n",
       "    </tr>\n",
       "    <tr>\n",
       "      <th>2000-01-08</th>\n",
       "      <td>7</td>\n",
       "      <td>0.439313</td>\n",
       "      <td>-0.726344</td>\n",
       "      <td>0.969090</td>\n",
       "    </tr>\n",
       "  </tbody>\n",
       "</table>\n",
       "</div>"
      ],
      "text/plain": [
       "            A         B         C         D\n",
       "2000-01-01  0  0.704924  0.761786  1.084438\n",
       "2000-01-02  1 -0.114484  1.184610  0.756158\n",
       "2000-01-03  2 -0.708337  0.949433  0.054825\n",
       "2000-01-04  3 -0.689296  0.310550  0.471620\n",
       "2000-01-05  4 -0.818026  0.359911  0.346075\n",
       "2000-01-06  5  0.812771  0.645985  0.119537\n",
       "2000-01-07  6 -0.117398 -0.905368 -0.365953\n",
       "2000-01-08  7  0.439313 -0.726344  0.969090"
      ]
     },
     "execution_count": 76,
     "metadata": {},
     "output_type": "execute_result"
    }
   ],
   "source": [
    "dfa.A = list(range(len(dfa.index)))  # ok if A already exists\n",
    "\n",
    "dfa"
   ]
  },
  {
   "cell_type": "code",
   "execution_count": 77,
   "id": "005f1886",
   "metadata": {},
   "outputs": [
    {
     "data": {
      "text/html": [
       "<div>\n",
       "<style scoped>\n",
       "    .dataframe tbody tr th:only-of-type {\n",
       "        vertical-align: middle;\n",
       "    }\n",
       "\n",
       "    .dataframe tbody tr th {\n",
       "        vertical-align: top;\n",
       "    }\n",
       "\n",
       "    .dataframe thead th {\n",
       "        text-align: right;\n",
       "    }\n",
       "</style>\n",
       "<table border=\"1\" class=\"dataframe\">\n",
       "  <thead>\n",
       "    <tr style=\"text-align: right;\">\n",
       "      <th></th>\n",
       "      <th>A</th>\n",
       "      <th>B</th>\n",
       "      <th>C</th>\n",
       "      <th>D</th>\n",
       "      <th>E</th>\n",
       "    </tr>\n",
       "  </thead>\n",
       "  <tbody>\n",
       "    <tr>\n",
       "      <th>2000-01-01</th>\n",
       "      <td>0</td>\n",
       "      <td>0.704924</td>\n",
       "      <td>0.761786</td>\n",
       "      <td>1.084438</td>\n",
       "      <td>0</td>\n",
       "    </tr>\n",
       "    <tr>\n",
       "      <th>2000-01-02</th>\n",
       "      <td>1</td>\n",
       "      <td>-0.114484</td>\n",
       "      <td>1.184610</td>\n",
       "      <td>0.756158</td>\n",
       "      <td>1</td>\n",
       "    </tr>\n",
       "    <tr>\n",
       "      <th>2000-01-03</th>\n",
       "      <td>2</td>\n",
       "      <td>-0.708337</td>\n",
       "      <td>0.949433</td>\n",
       "      <td>0.054825</td>\n",
       "      <td>2</td>\n",
       "    </tr>\n",
       "    <tr>\n",
       "      <th>2000-01-04</th>\n",
       "      <td>3</td>\n",
       "      <td>-0.689296</td>\n",
       "      <td>0.310550</td>\n",
       "      <td>0.471620</td>\n",
       "      <td>3</td>\n",
       "    </tr>\n",
       "    <tr>\n",
       "      <th>2000-01-05</th>\n",
       "      <td>4</td>\n",
       "      <td>-0.818026</td>\n",
       "      <td>0.359911</td>\n",
       "      <td>0.346075</td>\n",
       "      <td>4</td>\n",
       "    </tr>\n",
       "    <tr>\n",
       "      <th>2000-01-06</th>\n",
       "      <td>5</td>\n",
       "      <td>0.812771</td>\n",
       "      <td>0.645985</td>\n",
       "      <td>0.119537</td>\n",
       "      <td>5</td>\n",
       "    </tr>\n",
       "    <tr>\n",
       "      <th>2000-01-07</th>\n",
       "      <td>6</td>\n",
       "      <td>-0.117398</td>\n",
       "      <td>-0.905368</td>\n",
       "      <td>-0.365953</td>\n",
       "      <td>6</td>\n",
       "    </tr>\n",
       "    <tr>\n",
       "      <th>2000-01-08</th>\n",
       "      <td>7</td>\n",
       "      <td>0.439313</td>\n",
       "      <td>-0.726344</td>\n",
       "      <td>0.969090</td>\n",
       "      <td>7</td>\n",
       "    </tr>\n",
       "  </tbody>\n",
       "</table>\n",
       "</div>"
      ],
      "text/plain": [
       "            A         B         C         D  E\n",
       "2000-01-01  0  0.704924  0.761786  1.084438  0\n",
       "2000-01-02  1 -0.114484  1.184610  0.756158  1\n",
       "2000-01-03  2 -0.708337  0.949433  0.054825  2\n",
       "2000-01-04  3 -0.689296  0.310550  0.471620  3\n",
       "2000-01-05  4 -0.818026  0.359911  0.346075  4\n",
       "2000-01-06  5  0.812771  0.645985  0.119537  5\n",
       "2000-01-07  6 -0.117398 -0.905368 -0.365953  6\n",
       "2000-01-08  7  0.439313 -0.726344  0.969090  7"
      ]
     },
     "execution_count": 77,
     "metadata": {},
     "output_type": "execute_result"
    }
   ],
   "source": [
    "dfa['E'] = list(range(len(dfa.index)))  # use this form to create a new column\n",
    "\n",
    "dfa"
   ]
  },
  {
   "cell_type": "code",
   "execution_count": 78,
   "id": "ce3e634e",
   "metadata": {},
   "outputs": [
    {
     "data": {
      "text/html": [
       "<div>\n",
       "<style scoped>\n",
       "    .dataframe tbody tr th:only-of-type {\n",
       "        vertical-align: middle;\n",
       "    }\n",
       "\n",
       "    .dataframe tbody tr th {\n",
       "        vertical-align: top;\n",
       "    }\n",
       "\n",
       "    .dataframe thead th {\n",
       "        text-align: right;\n",
       "    }\n",
       "</style>\n",
       "<table border=\"1\" class=\"dataframe\">\n",
       "  <thead>\n",
       "    <tr style=\"text-align: right;\">\n",
       "      <th></th>\n",
       "      <th>x</th>\n",
       "      <th>y</th>\n",
       "    </tr>\n",
       "  </thead>\n",
       "  <tbody>\n",
       "    <tr>\n",
       "      <th>0</th>\n",
       "      <td>1</td>\n",
       "      <td>3</td>\n",
       "    </tr>\n",
       "    <tr>\n",
       "      <th>1</th>\n",
       "      <td>2</td>\n",
       "      <td>4</td>\n",
       "    </tr>\n",
       "    <tr>\n",
       "      <th>2</th>\n",
       "      <td>3</td>\n",
       "      <td>5</td>\n",
       "    </tr>\n",
       "  </tbody>\n",
       "</table>\n",
       "</div>"
      ],
      "text/plain": [
       "   x  y\n",
       "0  1  3\n",
       "1  2  4\n",
       "2  3  5"
      ]
     },
     "execution_count": 78,
     "metadata": {},
     "output_type": "execute_result"
    }
   ],
   "source": [
    "x = pd.DataFrame({'x': [1, 2, 3], 'y': [3, 4, 5]})\n",
    "x"
   ]
  },
  {
   "cell_type": "code",
   "execution_count": 79,
   "id": "8c5b8844",
   "metadata": {},
   "outputs": [
    {
     "data": {
      "text/html": [
       "<div>\n",
       "<style scoped>\n",
       "    .dataframe tbody tr th:only-of-type {\n",
       "        vertical-align: middle;\n",
       "    }\n",
       "\n",
       "    .dataframe tbody tr th {\n",
       "        vertical-align: top;\n",
       "    }\n",
       "\n",
       "    .dataframe thead th {\n",
       "        text-align: right;\n",
       "    }\n",
       "</style>\n",
       "<table border=\"1\" class=\"dataframe\">\n",
       "  <thead>\n",
       "    <tr style=\"text-align: right;\">\n",
       "      <th></th>\n",
       "      <th>x</th>\n",
       "      <th>y</th>\n",
       "    </tr>\n",
       "  </thead>\n",
       "  <tbody>\n",
       "    <tr>\n",
       "      <th>0</th>\n",
       "      <td>1</td>\n",
       "      <td>3</td>\n",
       "    </tr>\n",
       "    <tr>\n",
       "      <th>1</th>\n",
       "      <td>9</td>\n",
       "      <td>99</td>\n",
       "    </tr>\n",
       "    <tr>\n",
       "      <th>2</th>\n",
       "      <td>3</td>\n",
       "      <td>5</td>\n",
       "    </tr>\n",
       "  </tbody>\n",
       "</table>\n",
       "</div>"
      ],
      "text/plain": [
       "   x   y\n",
       "0  1   3\n",
       "1  9  99\n",
       "2  3   5"
      ]
     },
     "execution_count": 79,
     "metadata": {},
     "output_type": "execute_result"
    }
   ],
   "source": [
    "x.iloc[1] = {'x': 9, 'y': 99}\n",
    "\n",
    "x"
   ]
  },
  {
   "cell_type": "code",
   "execution_count": 80,
   "id": "ee8ec1cb",
   "metadata": {},
   "outputs": [
    {
     "name": "stderr",
     "output_type": "stream",
     "text": [
      "C:\\Users\\YOSSI\\AppData\\Local\\Temp\\ipykernel_9696\\179865747.py:3: UserWarning: Pandas doesn't allow columns to be created via a new attribute name - see https://pandas.pydata.org/pandas-docs/stable/indexing.html#attribute-access\n",
      "  df_new.two = [4, 5, 6]\n"
     ]
    },
    {
     "data": {
      "text/html": [
       "<div>\n",
       "<style scoped>\n",
       "    .dataframe tbody tr th:only-of-type {\n",
       "        vertical-align: middle;\n",
       "    }\n",
       "\n",
       "    .dataframe tbody tr th {\n",
       "        vertical-align: top;\n",
       "    }\n",
       "\n",
       "    .dataframe thead th {\n",
       "        text-align: right;\n",
       "    }\n",
       "</style>\n",
       "<table border=\"1\" class=\"dataframe\">\n",
       "  <thead>\n",
       "    <tr style=\"text-align: right;\">\n",
       "      <th></th>\n",
       "      <th>one</th>\n",
       "    </tr>\n",
       "  </thead>\n",
       "  <tbody>\n",
       "    <tr>\n",
       "      <th>0</th>\n",
       "      <td>1.0</td>\n",
       "    </tr>\n",
       "    <tr>\n",
       "      <th>1</th>\n",
       "      <td>2.0</td>\n",
       "    </tr>\n",
       "    <tr>\n",
       "      <th>2</th>\n",
       "      <td>3.0</td>\n",
       "    </tr>\n",
       "  </tbody>\n",
       "</table>\n",
       "</div>"
      ],
      "text/plain": [
       "   one\n",
       "0  1.0\n",
       "1  2.0\n",
       "2  3.0"
      ]
     },
     "execution_count": 80,
     "metadata": {},
     "output_type": "execute_result"
    }
   ],
   "source": [
    "df_new = pd.DataFrame({'one': [1., 2., 3.]})\n",
    "\n",
    "df_new.two = [4, 5, 6]\n",
    "\n",
    "df_new"
   ]
  },
  {
   "cell_type": "code",
   "execution_count": 81,
   "id": "7306e630",
   "metadata": {},
   "outputs": [
    {
     "data": {
      "text/plain": [
       "0    a\n",
       "3    b\n",
       "2    c\n",
       "5    d\n",
       "4    e\n",
       "dtype: object"
      ]
     },
     "execution_count": 81,
     "metadata": {},
     "output_type": "execute_result"
    }
   ],
   "source": [
    "s[:5]"
   ]
  },
  {
   "cell_type": "code",
   "execution_count": 82,
   "id": "2483d8a1",
   "metadata": {},
   "outputs": [
    {
     "data": {
      "text/plain": [
       "0    a\n",
       "2    c\n",
       "4    e\n",
       "dtype: object"
      ]
     },
     "execution_count": 82,
     "metadata": {},
     "output_type": "execute_result"
    }
   ],
   "source": [
    "s[::2]"
   ]
  },
  {
   "cell_type": "code",
   "execution_count": 83,
   "id": "4f262798",
   "metadata": {},
   "outputs": [
    {
     "data": {
      "text/plain": [
       "2    f\n",
       "4    e\n",
       "5    d\n",
       "2    c\n",
       "3    b\n",
       "0    a\n",
       "dtype: object"
      ]
     },
     "execution_count": 83,
     "metadata": {},
     "output_type": "execute_result"
    }
   ],
   "source": [
    "s[::-1]"
   ]
  },
  {
   "cell_type": "code",
   "execution_count": 84,
   "id": "dae00ca7",
   "metadata": {},
   "outputs": [
    {
     "data": {
      "text/plain": [
       "0    0\n",
       "3    0\n",
       "2    0\n",
       "5    0\n",
       "4    0\n",
       "2    f\n",
       "dtype: object"
      ]
     },
     "execution_count": 84,
     "metadata": {},
     "output_type": "execute_result"
    }
   ],
   "source": [
    "s2 = s.copy()\n",
    "\n",
    "s2[:5] = 0\n",
    "\n",
    "s2"
   ]
  },
  {
   "cell_type": "code",
   "execution_count": 85,
   "id": "c2573cad",
   "metadata": {},
   "outputs": [
    {
     "data": {
      "text/html": [
       "<div>\n",
       "<style scoped>\n",
       "    .dataframe tbody tr th:only-of-type {\n",
       "        vertical-align: middle;\n",
       "    }\n",
       "\n",
       "    .dataframe tbody tr th {\n",
       "        vertical-align: top;\n",
       "    }\n",
       "\n",
       "    .dataframe thead th {\n",
       "        text-align: right;\n",
       "    }\n",
       "</style>\n",
       "<table border=\"1\" class=\"dataframe\">\n",
       "  <thead>\n",
       "    <tr style=\"text-align: right;\">\n",
       "      <th></th>\n",
       "      <th>A</th>\n",
       "      <th>B</th>\n",
       "      <th>C</th>\n",
       "      <th>D</th>\n",
       "    </tr>\n",
       "  </thead>\n",
       "  <tbody>\n",
       "    <tr>\n",
       "      <th>2000-01-01</th>\n",
       "      <td>-0.018492</td>\n",
       "      <td>0.704924</td>\n",
       "      <td>0.761786</td>\n",
       "      <td>1.084438</td>\n",
       "    </tr>\n",
       "    <tr>\n",
       "      <th>2000-01-02</th>\n",
       "      <td>0.497136</td>\n",
       "      <td>-0.114484</td>\n",
       "      <td>1.184610</td>\n",
       "      <td>0.756158</td>\n",
       "    </tr>\n",
       "    <tr>\n",
       "      <th>2000-01-03</th>\n",
       "      <td>-0.116372</td>\n",
       "      <td>-0.708337</td>\n",
       "      <td>0.949433</td>\n",
       "      <td>0.054825</td>\n",
       "    </tr>\n",
       "    <tr>\n",
       "      <th>2000-01-04</th>\n",
       "      <td>-0.064605</td>\n",
       "      <td>-0.689296</td>\n",
       "      <td>0.310550</td>\n",
       "      <td>0.471620</td>\n",
       "    </tr>\n",
       "    <tr>\n",
       "      <th>2000-01-05</th>\n",
       "      <td>0.207694</td>\n",
       "      <td>-0.818026</td>\n",
       "      <td>0.359911</td>\n",
       "      <td>0.346075</td>\n",
       "    </tr>\n",
       "    <tr>\n",
       "      <th>2000-01-06</th>\n",
       "      <td>-0.337750</td>\n",
       "      <td>0.812771</td>\n",
       "      <td>0.645985</td>\n",
       "      <td>0.119537</td>\n",
       "    </tr>\n",
       "    <tr>\n",
       "      <th>2000-01-07</th>\n",
       "      <td>-0.844191</td>\n",
       "      <td>-0.117398</td>\n",
       "      <td>-0.905368</td>\n",
       "      <td>-0.365953</td>\n",
       "    </tr>\n",
       "    <tr>\n",
       "      <th>2000-01-08</th>\n",
       "      <td>-0.121758</td>\n",
       "      <td>0.439313</td>\n",
       "      <td>-0.726344</td>\n",
       "      <td>0.969090</td>\n",
       "    </tr>\n",
       "  </tbody>\n",
       "</table>\n",
       "</div>"
      ],
      "text/plain": [
       "                   A         B         C         D\n",
       "2000-01-01 -0.018492  0.704924  0.761786  1.084438\n",
       "2000-01-02  0.497136 -0.114484  1.184610  0.756158\n",
       "2000-01-03 -0.116372 -0.708337  0.949433  0.054825\n",
       "2000-01-04 -0.064605 -0.689296  0.310550  0.471620\n",
       "2000-01-05  0.207694 -0.818026  0.359911  0.346075\n",
       "2000-01-06 -0.337750  0.812771  0.645985  0.119537\n",
       "2000-01-07 -0.844191 -0.117398 -0.905368 -0.365953\n",
       "2000-01-08 -0.121758  0.439313 -0.726344  0.969090"
      ]
     },
     "execution_count": 85,
     "metadata": {},
     "output_type": "execute_result"
    }
   ],
   "source": [
    "df"
   ]
  },
  {
   "cell_type": "code",
   "execution_count": 86,
   "id": "730469b4",
   "metadata": {},
   "outputs": [
    {
     "data": {
      "text/html": [
       "<div>\n",
       "<style scoped>\n",
       "    .dataframe tbody tr th:only-of-type {\n",
       "        vertical-align: middle;\n",
       "    }\n",
       "\n",
       "    .dataframe tbody tr th {\n",
       "        vertical-align: top;\n",
       "    }\n",
       "\n",
       "    .dataframe thead th {\n",
       "        text-align: right;\n",
       "    }\n",
       "</style>\n",
       "<table border=\"1\" class=\"dataframe\">\n",
       "  <thead>\n",
       "    <tr style=\"text-align: right;\">\n",
       "      <th></th>\n",
       "      <th>A</th>\n",
       "      <th>B</th>\n",
       "      <th>C</th>\n",
       "      <th>D</th>\n",
       "    </tr>\n",
       "  </thead>\n",
       "  <tbody>\n",
       "    <tr>\n",
       "      <th>2000-01-01</th>\n",
       "      <td>-0.018492</td>\n",
       "      <td>0.704924</td>\n",
       "      <td>0.761786</td>\n",
       "      <td>1.084438</td>\n",
       "    </tr>\n",
       "    <tr>\n",
       "      <th>2000-01-02</th>\n",
       "      <td>0.497136</td>\n",
       "      <td>-0.114484</td>\n",
       "      <td>1.184610</td>\n",
       "      <td>0.756158</td>\n",
       "    </tr>\n",
       "    <tr>\n",
       "      <th>2000-01-03</th>\n",
       "      <td>-0.116372</td>\n",
       "      <td>-0.708337</td>\n",
       "      <td>0.949433</td>\n",
       "      <td>0.054825</td>\n",
       "    </tr>\n",
       "  </tbody>\n",
       "</table>\n",
       "</div>"
      ],
      "text/plain": [
       "                   A         B         C         D\n",
       "2000-01-01 -0.018492  0.704924  0.761786  1.084438\n",
       "2000-01-02  0.497136 -0.114484  1.184610  0.756158\n",
       "2000-01-03 -0.116372 -0.708337  0.949433  0.054825"
      ]
     },
     "execution_count": 86,
     "metadata": {},
     "output_type": "execute_result"
    }
   ],
   "source": [
    "df[:3]"
   ]
  },
  {
   "cell_type": "code",
   "execution_count": 87,
   "id": "c871a210",
   "metadata": {},
   "outputs": [
    {
     "data": {
      "text/html": [
       "<div>\n",
       "<style scoped>\n",
       "    .dataframe tbody tr th:only-of-type {\n",
       "        vertical-align: middle;\n",
       "    }\n",
       "\n",
       "    .dataframe tbody tr th {\n",
       "        vertical-align: top;\n",
       "    }\n",
       "\n",
       "    .dataframe thead th {\n",
       "        text-align: right;\n",
       "    }\n",
       "</style>\n",
       "<table border=\"1\" class=\"dataframe\">\n",
       "  <thead>\n",
       "    <tr style=\"text-align: right;\">\n",
       "      <th></th>\n",
       "      <th>A</th>\n",
       "      <th>B</th>\n",
       "      <th>C</th>\n",
       "      <th>D</th>\n",
       "    </tr>\n",
       "  </thead>\n",
       "  <tbody>\n",
       "    <tr>\n",
       "      <th>2000-01-08</th>\n",
       "      <td>-0.121758</td>\n",
       "      <td>0.439313</td>\n",
       "      <td>-0.726344</td>\n",
       "      <td>0.969090</td>\n",
       "    </tr>\n",
       "    <tr>\n",
       "      <th>2000-01-07</th>\n",
       "      <td>-0.844191</td>\n",
       "      <td>-0.117398</td>\n",
       "      <td>-0.905368</td>\n",
       "      <td>-0.365953</td>\n",
       "    </tr>\n",
       "    <tr>\n",
       "      <th>2000-01-06</th>\n",
       "      <td>-0.337750</td>\n",
       "      <td>0.812771</td>\n",
       "      <td>0.645985</td>\n",
       "      <td>0.119537</td>\n",
       "    </tr>\n",
       "    <tr>\n",
       "      <th>2000-01-05</th>\n",
       "      <td>0.207694</td>\n",
       "      <td>-0.818026</td>\n",
       "      <td>0.359911</td>\n",
       "      <td>0.346075</td>\n",
       "    </tr>\n",
       "    <tr>\n",
       "      <th>2000-01-04</th>\n",
       "      <td>-0.064605</td>\n",
       "      <td>-0.689296</td>\n",
       "      <td>0.310550</td>\n",
       "      <td>0.471620</td>\n",
       "    </tr>\n",
       "    <tr>\n",
       "      <th>2000-01-03</th>\n",
       "      <td>-0.116372</td>\n",
       "      <td>-0.708337</td>\n",
       "      <td>0.949433</td>\n",
       "      <td>0.054825</td>\n",
       "    </tr>\n",
       "    <tr>\n",
       "      <th>2000-01-02</th>\n",
       "      <td>0.497136</td>\n",
       "      <td>-0.114484</td>\n",
       "      <td>1.184610</td>\n",
       "      <td>0.756158</td>\n",
       "    </tr>\n",
       "    <tr>\n",
       "      <th>2000-01-01</th>\n",
       "      <td>-0.018492</td>\n",
       "      <td>0.704924</td>\n",
       "      <td>0.761786</td>\n",
       "      <td>1.084438</td>\n",
       "    </tr>\n",
       "  </tbody>\n",
       "</table>\n",
       "</div>"
      ],
      "text/plain": [
       "                   A         B         C         D\n",
       "2000-01-08 -0.121758  0.439313 -0.726344  0.969090\n",
       "2000-01-07 -0.844191 -0.117398 -0.905368 -0.365953\n",
       "2000-01-06 -0.337750  0.812771  0.645985  0.119537\n",
       "2000-01-05  0.207694 -0.818026  0.359911  0.346075\n",
       "2000-01-04 -0.064605 -0.689296  0.310550  0.471620\n",
       "2000-01-03 -0.116372 -0.708337  0.949433  0.054825\n",
       "2000-01-02  0.497136 -0.114484  1.184610  0.756158\n",
       "2000-01-01 -0.018492  0.704924  0.761786  1.084438"
      ]
     },
     "execution_count": 87,
     "metadata": {},
     "output_type": "execute_result"
    }
   ],
   "source": [
    "df[::-1]"
   ]
  },
  {
   "cell_type": "code",
   "execution_count": 88,
   "id": "08f4510e",
   "metadata": {},
   "outputs": [
    {
     "data": {
      "text/html": [
       "<div>\n",
       "<style scoped>\n",
       "    .dataframe tbody tr th:only-of-type {\n",
       "        vertical-align: middle;\n",
       "    }\n",
       "\n",
       "    .dataframe tbody tr th {\n",
       "        vertical-align: top;\n",
       "    }\n",
       "\n",
       "    .dataframe thead th {\n",
       "        text-align: right;\n",
       "    }\n",
       "</style>\n",
       "<table border=\"1\" class=\"dataframe\">\n",
       "  <thead>\n",
       "    <tr style=\"text-align: right;\">\n",
       "      <th></th>\n",
       "      <th>A</th>\n",
       "      <th>B</th>\n",
       "      <th>C</th>\n",
       "      <th>D</th>\n",
       "    </tr>\n",
       "  </thead>\n",
       "  <tbody>\n",
       "    <tr>\n",
       "      <th>2000-01-02</th>\n",
       "      <td>0.497136</td>\n",
       "      <td>-0.114484</td>\n",
       "      <td>1.184610</td>\n",
       "      <td>0.756158</td>\n",
       "    </tr>\n",
       "    <tr>\n",
       "      <th>2000-01-03</th>\n",
       "      <td>-0.116372</td>\n",
       "      <td>-0.708337</td>\n",
       "      <td>0.949433</td>\n",
       "      <td>0.054825</td>\n",
       "    </tr>\n",
       "  </tbody>\n",
       "</table>\n",
       "</div>"
      ],
      "text/plain": [
       "                   A         B         C         D\n",
       "2000-01-02  0.497136 -0.114484  1.184610  0.756158\n",
       "2000-01-03 -0.116372 -0.708337  0.949433  0.054825"
      ]
     },
     "execution_count": 88,
     "metadata": {},
     "output_type": "execute_result"
    }
   ],
   "source": [
    "df[1:3]"
   ]
  },
  {
   "cell_type": "code",
   "execution_count": 89,
   "id": "4fe1c314",
   "metadata": {},
   "outputs": [
    {
     "data": {
      "text/html": [
       "<div>\n",
       "<style scoped>\n",
       "    .dataframe tbody tr th:only-of-type {\n",
       "        vertical-align: middle;\n",
       "    }\n",
       "\n",
       "    .dataframe tbody tr th {\n",
       "        vertical-align: top;\n",
       "    }\n",
       "\n",
       "    .dataframe thead th {\n",
       "        text-align: right;\n",
       "    }\n",
       "</style>\n",
       "<table border=\"1\" class=\"dataframe\">\n",
       "  <thead>\n",
       "    <tr style=\"text-align: right;\">\n",
       "      <th></th>\n",
       "      <th>A</th>\n",
       "      <th>B</th>\n",
       "      <th>C</th>\n",
       "      <th>D</th>\n",
       "    </tr>\n",
       "  </thead>\n",
       "  <tbody>\n",
       "    <tr>\n",
       "      <th>2013-01-01</th>\n",
       "      <td>1.166739</td>\n",
       "      <td>-0.103917</td>\n",
       "      <td>0.728420</td>\n",
       "      <td>1.402263</td>\n",
       "    </tr>\n",
       "    <tr>\n",
       "      <th>2013-01-02</th>\n",
       "      <td>-0.641193</td>\n",
       "      <td>0.604753</td>\n",
       "      <td>-0.662412</td>\n",
       "      <td>1.769018</td>\n",
       "    </tr>\n",
       "    <tr>\n",
       "      <th>2013-01-03</th>\n",
       "      <td>0.899476</td>\n",
       "      <td>-0.747283</td>\n",
       "      <td>-0.510363</td>\n",
       "      <td>-2.046850</td>\n",
       "    </tr>\n",
       "    <tr>\n",
       "      <th>2013-01-04</th>\n",
       "      <td>-1.187993</td>\n",
       "      <td>0.299069</td>\n",
       "      <td>-1.750283</td>\n",
       "      <td>1.014947</td>\n",
       "    </tr>\n",
       "    <tr>\n",
       "      <th>2013-01-05</th>\n",
       "      <td>0.509435</td>\n",
       "      <td>0.692138</td>\n",
       "      <td>-0.705382</td>\n",
       "      <td>-0.094198</td>\n",
       "    </tr>\n",
       "  </tbody>\n",
       "</table>\n",
       "</div>"
      ],
      "text/plain": [
       "                   A         B         C         D\n",
       "2013-01-01  1.166739 -0.103917  0.728420  1.402263\n",
       "2013-01-02 -0.641193  0.604753 -0.662412  1.769018\n",
       "2013-01-03  0.899476 -0.747283 -0.510363 -2.046850\n",
       "2013-01-04 -1.187993  0.299069 -1.750283  1.014947\n",
       "2013-01-05  0.509435  0.692138 -0.705382 -0.094198"
      ]
     },
     "execution_count": 89,
     "metadata": {},
     "output_type": "execute_result"
    }
   ],
   "source": [
    "dfl = pd.DataFrame(np.random.randn(5, 4),\n",
    "\n",
    "                   columns=list('ABCD'),\n",
    "\n",
    "                   index=pd.date_range('20130101', periods=5))\n",
    "\n",
    "\n",
    "\n",
    "dfl"
   ]
  },
  {
   "cell_type": "code",
   "execution_count": 90,
   "id": "c648b8e9",
   "metadata": {},
   "outputs": [
    {
     "data": {
      "text/html": [
       "<div>\n",
       "<style scoped>\n",
       "    .dataframe tbody tr th:only-of-type {\n",
       "        vertical-align: middle;\n",
       "    }\n",
       "\n",
       "    .dataframe tbody tr th {\n",
       "        vertical-align: top;\n",
       "    }\n",
       "\n",
       "    .dataframe thead th {\n",
       "        text-align: right;\n",
       "    }\n",
       "</style>\n",
       "<table border=\"1\" class=\"dataframe\">\n",
       "  <thead>\n",
       "    <tr style=\"text-align: right;\">\n",
       "      <th></th>\n",
       "      <th>A</th>\n",
       "      <th>B</th>\n",
       "      <th>C</th>\n",
       "      <th>D</th>\n",
       "    </tr>\n",
       "  </thead>\n",
       "  <tbody>\n",
       "    <tr>\n",
       "      <th>2013-01-02</th>\n",
       "      <td>-0.641193</td>\n",
       "      <td>0.604753</td>\n",
       "      <td>-0.662412</td>\n",
       "      <td>1.769018</td>\n",
       "    </tr>\n",
       "    <tr>\n",
       "      <th>2013-01-03</th>\n",
       "      <td>0.899476</td>\n",
       "      <td>-0.747283</td>\n",
       "      <td>-0.510363</td>\n",
       "      <td>-2.046850</td>\n",
       "    </tr>\n",
       "    <tr>\n",
       "      <th>2013-01-04</th>\n",
       "      <td>-1.187993</td>\n",
       "      <td>0.299069</td>\n",
       "      <td>-1.750283</td>\n",
       "      <td>1.014947</td>\n",
       "    </tr>\n",
       "  </tbody>\n",
       "</table>\n",
       "</div>"
      ],
      "text/plain": [
       "                   A         B         C         D\n",
       "2013-01-02 -0.641193  0.604753 -0.662412  1.769018\n",
       "2013-01-03  0.899476 -0.747283 -0.510363 -2.046850\n",
       "2013-01-04 -1.187993  0.299069 -1.750283  1.014947"
      ]
     },
     "execution_count": 90,
     "metadata": {},
     "output_type": "execute_result"
    }
   ],
   "source": [
    "dfl.loc['20130102':'20130104']"
   ]
  },
  {
   "cell_type": "code",
   "execution_count": 91,
   "id": "290d817c",
   "metadata": {},
   "outputs": [
    {
     "data": {
      "text/plain": [
       "a   -0.431427\n",
       "b    1.296593\n",
       "c    0.239141\n",
       "d   -0.550996\n",
       "e   -0.688228\n",
       "f   -0.140459\n",
       "dtype: float64"
      ]
     },
     "execution_count": 91,
     "metadata": {},
     "output_type": "execute_result"
    }
   ],
   "source": [
    "s1 = pd.Series(np.random.randn(6), index=list('abcdef'))\n",
    "\n",
    "s1"
   ]
  },
  {
   "cell_type": "code",
   "execution_count": 92,
   "id": "47d5c7fc",
   "metadata": {},
   "outputs": [
    {
     "data": {
      "text/plain": [
       "c    0.239141\n",
       "d   -0.550996\n",
       "e   -0.688228\n",
       "f   -0.140459\n",
       "dtype: float64"
      ]
     },
     "execution_count": 92,
     "metadata": {},
     "output_type": "execute_result"
    }
   ],
   "source": [
    "s1.loc['c':]"
   ]
  },
  {
   "cell_type": "code",
   "execution_count": 93,
   "id": "eb89b107",
   "metadata": {},
   "outputs": [
    {
     "data": {
      "text/plain": [
       "1.2965933458233103"
      ]
     },
     "execution_count": 93,
     "metadata": {},
     "output_type": "execute_result"
    }
   ],
   "source": [
    "s1.loc['b']"
   ]
  },
  {
   "cell_type": "code",
   "execution_count": 94,
   "id": "00418c81",
   "metadata": {},
   "outputs": [
    {
     "data": {
      "text/plain": [
       "a   -0.431427\n",
       "b    1.296593\n",
       "c    0.000000\n",
       "d    0.000000\n",
       "e    0.000000\n",
       "f    0.000000\n",
       "dtype: float64"
      ]
     },
     "execution_count": 94,
     "metadata": {},
     "output_type": "execute_result"
    }
   ],
   "source": [
    "s1.loc['c':] = 0\n",
    "\n",
    "s1"
   ]
  },
  {
   "cell_type": "code",
   "execution_count": 95,
   "id": "a4975f9c",
   "metadata": {},
   "outputs": [
    {
     "data": {
      "text/html": [
       "<div>\n",
       "<style scoped>\n",
       "    .dataframe tbody tr th:only-of-type {\n",
       "        vertical-align: middle;\n",
       "    }\n",
       "\n",
       "    .dataframe tbody tr th {\n",
       "        vertical-align: top;\n",
       "    }\n",
       "\n",
       "    .dataframe thead th {\n",
       "        text-align: right;\n",
       "    }\n",
       "</style>\n",
       "<table border=\"1\" class=\"dataframe\">\n",
       "  <thead>\n",
       "    <tr style=\"text-align: right;\">\n",
       "      <th></th>\n",
       "      <th>A</th>\n",
       "      <th>B</th>\n",
       "      <th>C</th>\n",
       "      <th>D</th>\n",
       "    </tr>\n",
       "  </thead>\n",
       "  <tbody>\n",
       "    <tr>\n",
       "      <th>a</th>\n",
       "      <td>-0.215846</td>\n",
       "      <td>0.960554</td>\n",
       "      <td>0.178910</td>\n",
       "      <td>0.170734</td>\n",
       "    </tr>\n",
       "    <tr>\n",
       "      <th>b</th>\n",
       "      <td>0.785262</td>\n",
       "      <td>-2.136579</td>\n",
       "      <td>0.958048</td>\n",
       "      <td>0.366978</td>\n",
       "    </tr>\n",
       "    <tr>\n",
       "      <th>c</th>\n",
       "      <td>1.782522</td>\n",
       "      <td>1.360081</td>\n",
       "      <td>-0.618000</td>\n",
       "      <td>-0.479022</td>\n",
       "    </tr>\n",
       "    <tr>\n",
       "      <th>d</th>\n",
       "      <td>0.663605</td>\n",
       "      <td>0.224581</td>\n",
       "      <td>-1.142250</td>\n",
       "      <td>-1.774177</td>\n",
       "    </tr>\n",
       "    <tr>\n",
       "      <th>e</th>\n",
       "      <td>0.259797</td>\n",
       "      <td>1.588402</td>\n",
       "      <td>-3.308435</td>\n",
       "      <td>1.072413</td>\n",
       "    </tr>\n",
       "    <tr>\n",
       "      <th>f</th>\n",
       "      <td>-0.376108</td>\n",
       "      <td>1.470646</td>\n",
       "      <td>-0.437669</td>\n",
       "      <td>0.859513</td>\n",
       "    </tr>\n",
       "  </tbody>\n",
       "</table>\n",
       "</div>"
      ],
      "text/plain": [
       "          A         B         C         D\n",
       "a -0.215846  0.960554  0.178910  0.170734\n",
       "b  0.785262 -2.136579  0.958048  0.366978\n",
       "c  1.782522  1.360081 -0.618000 -0.479022\n",
       "d  0.663605  0.224581 -1.142250 -1.774177\n",
       "e  0.259797  1.588402 -3.308435  1.072413\n",
       "f -0.376108  1.470646 -0.437669  0.859513"
      ]
     },
     "execution_count": 95,
     "metadata": {},
     "output_type": "execute_result"
    }
   ],
   "source": [
    "df1 = pd.DataFrame(np.random.randn(6, 4),\n",
    "\n",
    "                   index=list('abcdef'),\n",
    "\n",
    "                   columns=list('ABCD'))\n",
    "\n",
    "\n",
    "\n",
    "df1"
   ]
  },
  {
   "cell_type": "code",
   "execution_count": 96,
   "id": "8721b931",
   "metadata": {},
   "outputs": [
    {
     "data": {
      "text/html": [
       "<div>\n",
       "<style scoped>\n",
       "    .dataframe tbody tr th:only-of-type {\n",
       "        vertical-align: middle;\n",
       "    }\n",
       "\n",
       "    .dataframe tbody tr th {\n",
       "        vertical-align: top;\n",
       "    }\n",
       "\n",
       "    .dataframe thead th {\n",
       "        text-align: right;\n",
       "    }\n",
       "</style>\n",
       "<table border=\"1\" class=\"dataframe\">\n",
       "  <thead>\n",
       "    <tr style=\"text-align: right;\">\n",
       "      <th></th>\n",
       "      <th>A</th>\n",
       "      <th>B</th>\n",
       "      <th>C</th>\n",
       "      <th>D</th>\n",
       "    </tr>\n",
       "  </thead>\n",
       "  <tbody>\n",
       "    <tr>\n",
       "      <th>a</th>\n",
       "      <td>-0.215846</td>\n",
       "      <td>0.960554</td>\n",
       "      <td>0.178910</td>\n",
       "      <td>0.170734</td>\n",
       "    </tr>\n",
       "    <tr>\n",
       "      <th>b</th>\n",
       "      <td>0.785262</td>\n",
       "      <td>-2.136579</td>\n",
       "      <td>0.958048</td>\n",
       "      <td>0.366978</td>\n",
       "    </tr>\n",
       "    <tr>\n",
       "      <th>d</th>\n",
       "      <td>0.663605</td>\n",
       "      <td>0.224581</td>\n",
       "      <td>-1.142250</td>\n",
       "      <td>-1.774177</td>\n",
       "    </tr>\n",
       "  </tbody>\n",
       "</table>\n",
       "</div>"
      ],
      "text/plain": [
       "          A         B         C         D\n",
       "a -0.215846  0.960554  0.178910  0.170734\n",
       "b  0.785262 -2.136579  0.958048  0.366978\n",
       "d  0.663605  0.224581 -1.142250 -1.774177"
      ]
     },
     "execution_count": 96,
     "metadata": {},
     "output_type": "execute_result"
    }
   ],
   "source": [
    "df1.loc[['a', 'b', 'd'], :]"
   ]
  },
  {
   "cell_type": "code",
   "execution_count": 97,
   "id": "74d00d2a",
   "metadata": {},
   "outputs": [
    {
     "data": {
      "text/html": [
       "<div>\n",
       "<style scoped>\n",
       "    .dataframe tbody tr th:only-of-type {\n",
       "        vertical-align: middle;\n",
       "    }\n",
       "\n",
       "    .dataframe tbody tr th {\n",
       "        vertical-align: top;\n",
       "    }\n",
       "\n",
       "    .dataframe thead th {\n",
       "        text-align: right;\n",
       "    }\n",
       "</style>\n",
       "<table border=\"1\" class=\"dataframe\">\n",
       "  <thead>\n",
       "    <tr style=\"text-align: right;\">\n",
       "      <th></th>\n",
       "      <th>A</th>\n",
       "      <th>B</th>\n",
       "      <th>C</th>\n",
       "    </tr>\n",
       "  </thead>\n",
       "  <tbody>\n",
       "    <tr>\n",
       "      <th>d</th>\n",
       "      <td>0.663605</td>\n",
       "      <td>0.224581</td>\n",
       "      <td>-1.142250</td>\n",
       "    </tr>\n",
       "    <tr>\n",
       "      <th>e</th>\n",
       "      <td>0.259797</td>\n",
       "      <td>1.588402</td>\n",
       "      <td>-3.308435</td>\n",
       "    </tr>\n",
       "    <tr>\n",
       "      <th>f</th>\n",
       "      <td>-0.376108</td>\n",
       "      <td>1.470646</td>\n",
       "      <td>-0.437669</td>\n",
       "    </tr>\n",
       "  </tbody>\n",
       "</table>\n",
       "</div>"
      ],
      "text/plain": [
       "          A         B         C\n",
       "d  0.663605  0.224581 -1.142250\n",
       "e  0.259797  1.588402 -3.308435\n",
       "f -0.376108  1.470646 -0.437669"
      ]
     },
     "execution_count": 97,
     "metadata": {},
     "output_type": "execute_result"
    }
   ],
   "source": [
    "df1.loc['d':, 'A':'C']"
   ]
  },
  {
   "cell_type": "code",
   "execution_count": 98,
   "id": "f0126df2",
   "metadata": {},
   "outputs": [
    {
     "data": {
      "text/plain": [
       "A   -0.215846\n",
       "B    0.960554\n",
       "C    0.178910\n",
       "D    0.170734\n",
       "Name: a, dtype: float64"
      ]
     },
     "execution_count": 98,
     "metadata": {},
     "output_type": "execute_result"
    }
   ],
   "source": [
    "df1.loc['a']"
   ]
  },
  {
   "cell_type": "code",
   "execution_count": 99,
   "id": "52376eec",
   "metadata": {},
   "outputs": [
    {
     "data": {
      "text/plain": [
       "A    False\n",
       "B     True\n",
       "C     True\n",
       "D     True\n",
       "Name: a, dtype: bool"
      ]
     },
     "execution_count": 99,
     "metadata": {},
     "output_type": "execute_result"
    }
   ],
   "source": [
    "df1.loc['a'] > 0"
   ]
  },
  {
   "cell_type": "code",
   "execution_count": 100,
   "id": "5032f123",
   "metadata": {},
   "outputs": [
    {
     "data": {
      "text/html": [
       "<div>\n",
       "<style scoped>\n",
       "    .dataframe tbody tr th:only-of-type {\n",
       "        vertical-align: middle;\n",
       "    }\n",
       "\n",
       "    .dataframe tbody tr th {\n",
       "        vertical-align: top;\n",
       "    }\n",
       "\n",
       "    .dataframe thead th {\n",
       "        text-align: right;\n",
       "    }\n",
       "</style>\n",
       "<table border=\"1\" class=\"dataframe\">\n",
       "  <thead>\n",
       "    <tr style=\"text-align: right;\">\n",
       "      <th></th>\n",
       "      <th>B</th>\n",
       "      <th>C</th>\n",
       "      <th>D</th>\n",
       "    </tr>\n",
       "  </thead>\n",
       "  <tbody>\n",
       "    <tr>\n",
       "      <th>a</th>\n",
       "      <td>0.960554</td>\n",
       "      <td>0.178910</td>\n",
       "      <td>0.170734</td>\n",
       "    </tr>\n",
       "    <tr>\n",
       "      <th>b</th>\n",
       "      <td>-2.136579</td>\n",
       "      <td>0.958048</td>\n",
       "      <td>0.366978</td>\n",
       "    </tr>\n",
       "    <tr>\n",
       "      <th>c</th>\n",
       "      <td>1.360081</td>\n",
       "      <td>-0.618000</td>\n",
       "      <td>-0.479022</td>\n",
       "    </tr>\n",
       "    <tr>\n",
       "      <th>d</th>\n",
       "      <td>0.224581</td>\n",
       "      <td>-1.142250</td>\n",
       "      <td>-1.774177</td>\n",
       "    </tr>\n",
       "    <tr>\n",
       "      <th>e</th>\n",
       "      <td>1.588402</td>\n",
       "      <td>-3.308435</td>\n",
       "      <td>1.072413</td>\n",
       "    </tr>\n",
       "    <tr>\n",
       "      <th>f</th>\n",
       "      <td>1.470646</td>\n",
       "      <td>-0.437669</td>\n",
       "      <td>0.859513</td>\n",
       "    </tr>\n",
       "  </tbody>\n",
       "</table>\n",
       "</div>"
      ],
      "text/plain": [
       "          B         C         D\n",
       "a  0.960554  0.178910  0.170734\n",
       "b -2.136579  0.958048  0.366978\n",
       "c  1.360081 -0.618000 -0.479022\n",
       "d  0.224581 -1.142250 -1.774177\n",
       "e  1.588402 -3.308435  1.072413\n",
       "f  1.470646 -0.437669  0.859513"
      ]
     },
     "execution_count": 100,
     "metadata": {},
     "output_type": "execute_result"
    }
   ],
   "source": [
    "\n",
    "df1.loc[:, df1.loc['a'] > 0]"
   ]
  },
  {
   "cell_type": "code",
   "execution_count": 101,
   "id": "463045fe",
   "metadata": {},
   "outputs": [
    {
     "data": {
      "text/plain": [
       "<BooleanArray>\n",
       "[True, False, True, False, <NA>, False]\n",
       "Length: 6, dtype: boolean"
      ]
     },
     "execution_count": 101,
     "metadata": {},
     "output_type": "execute_result"
    }
   ],
   "source": [
    "mask = pd.array([True, False, True, False, pd.NA, False], dtype=\"boolean\")\n",
    "\n",
    "mask"
   ]
  },
  {
   "cell_type": "code",
   "execution_count": 102,
   "id": "97646871",
   "metadata": {},
   "outputs": [
    {
     "data": {
      "text/html": [
       "<div>\n",
       "<style scoped>\n",
       "    .dataframe tbody tr th:only-of-type {\n",
       "        vertical-align: middle;\n",
       "    }\n",
       "\n",
       "    .dataframe tbody tr th {\n",
       "        vertical-align: top;\n",
       "    }\n",
       "\n",
       "    .dataframe thead th {\n",
       "        text-align: right;\n",
       "    }\n",
       "</style>\n",
       "<table border=\"1\" class=\"dataframe\">\n",
       "  <thead>\n",
       "    <tr style=\"text-align: right;\">\n",
       "      <th></th>\n",
       "      <th>A</th>\n",
       "      <th>B</th>\n",
       "      <th>C</th>\n",
       "      <th>D</th>\n",
       "    </tr>\n",
       "  </thead>\n",
       "  <tbody>\n",
       "    <tr>\n",
       "      <th>a</th>\n",
       "      <td>-0.215846</td>\n",
       "      <td>0.960554</td>\n",
       "      <td>0.17891</td>\n",
       "      <td>0.170734</td>\n",
       "    </tr>\n",
       "    <tr>\n",
       "      <th>c</th>\n",
       "      <td>1.782522</td>\n",
       "      <td>1.360081</td>\n",
       "      <td>-0.61800</td>\n",
       "      <td>-0.479022</td>\n",
       "    </tr>\n",
       "  </tbody>\n",
       "</table>\n",
       "</div>"
      ],
      "text/plain": [
       "          A         B        C         D\n",
       "a -0.215846  0.960554  0.17891  0.170734\n",
       "c  1.782522  1.360081 -0.61800 -0.479022"
      ]
     },
     "execution_count": 102,
     "metadata": {},
     "output_type": "execute_result"
    }
   ],
   "source": [
    "df1[mask]\n"
   ]
  },
  {
   "cell_type": "code",
   "execution_count": 103,
   "id": "5e69c8b3",
   "metadata": {},
   "outputs": [
    {
     "data": {
      "text/plain": [
       "-0.2158460009047361"
      ]
     },
     "execution_count": 103,
     "metadata": {},
     "output_type": "execute_result"
    }
   ],
   "source": [
    "df1.loc['a', 'A']"
   ]
  }
 ],
 "metadata": {
  "kernelspec": {
   "display_name": "Python 3 (ipykernel)",
   "language": "python",
   "name": "python3"
  },
  "language_info": {
   "codemirror_mode": {
    "name": "ipython",
    "version": 3
   },
   "file_extension": ".py",
   "mimetype": "text/x-python",
   "name": "python",
   "nbconvert_exporter": "python",
   "pygments_lexer": "ipython3",
   "version": "3.10.9"
  }
 },
 "nbformat": 4,
 "nbformat_minor": 5
}
