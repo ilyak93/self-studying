{
 "cells": [
  {
   "cell_type": "code",
   "execution_count": 2,
   "id": "7cd57f58",
   "metadata": {},
   "outputs": [],
   "source": [
    "import pandas as pd\n",
    "import numpy as np"
   ]
  },
  {
   "cell_type": "code",
   "execution_count": 3,
   "id": "4277d740",
   "metadata": {},
   "outputs": [
    {
     "data": {
      "text/plain": [
       "[('bar', 'one'),\n",
       " ('bar', 'two'),\n",
       " ('baz', 'one'),\n",
       " ('baz', 'two'),\n",
       " ('foo', 'one'),\n",
       " ('foo', 'two'),\n",
       " ('qux', 'one'),\n",
       " ('qux', 'two')]"
      ]
     },
     "execution_count": 3,
     "metadata": {},
     "output_type": "execute_result"
    }
   ],
   "source": [
    "arrays = [\n",
    "\n",
    "    [\"bar\", \"bar\", \"baz\", \"baz\", \"foo\", \"foo\", \"qux\", \"qux\"],\n",
    "\n",
    "    [\"one\", \"two\", \"one\", \"two\", \"one\", \"two\", \"one\", \"two\"],\n",
    "\n",
    "]\n",
    "\n",
    "\n",
    "\n",
    "tuples = list(zip(*arrays))\n",
    "\n",
    "tuples"
   ]
  },
  {
   "cell_type": "code",
   "execution_count": 4,
   "id": "ebe38b00",
   "metadata": {},
   "outputs": [
    {
     "data": {
      "text/plain": [
       "MultiIndex([('bar', 'one'),\n",
       "            ('bar', 'two'),\n",
       "            ('baz', 'one'),\n",
       "            ('baz', 'two'),\n",
       "            ('foo', 'one'),\n",
       "            ('foo', 'two'),\n",
       "            ('qux', 'one'),\n",
       "            ('qux', 'two')],\n",
       "           names=['first', 'second'])"
      ]
     },
     "execution_count": 4,
     "metadata": {},
     "output_type": "execute_result"
    }
   ],
   "source": [
    "index = pd.MultiIndex.from_tuples(tuples, names=[\"first\", \"second\"])\n",
    "\n",
    "index"
   ]
  },
  {
   "cell_type": "code",
   "execution_count": 5,
   "id": "c20abab9",
   "metadata": {},
   "outputs": [
    {
     "data": {
      "text/plain": [
       "first  second\n",
       "bar    one      -1.194050\n",
       "       two      -0.524203\n",
       "baz    one       0.635871\n",
       "       two      -0.268402\n",
       "foo    one      -1.976209\n",
       "       two       0.060937\n",
       "qux    one       0.083740\n",
       "       two      -1.897281\n",
       "dtype: float64"
      ]
     },
     "execution_count": 5,
     "metadata": {},
     "output_type": "execute_result"
    }
   ],
   "source": [
    "s = pd.Series(np.random.randn(8), index=index)\n",
    "\n",
    "s"
   ]
  },
  {
   "cell_type": "code",
   "execution_count": 6,
   "id": "7e749ac7",
   "metadata": {},
   "outputs": [
    {
     "data": {
      "text/plain": [
       "MultiIndex([('bar', 'one'),\n",
       "            ('bar', 'two'),\n",
       "            ('baz', 'one'),\n",
       "            ('baz', 'two'),\n",
       "            ('foo', 'one'),\n",
       "            ('foo', 'two'),\n",
       "            ('qux', 'one'),\n",
       "            ('qux', 'two')],\n",
       "           names=['first', 'second'])"
      ]
     },
     "execution_count": 6,
     "metadata": {},
     "output_type": "execute_result"
    }
   ],
   "source": [
    "iterables = [[\"bar\", \"baz\", \"foo\", \"qux\"], [\"one\", \"two\"]]\n",
    "\n",
    "pd.MultiIndex.from_product(iterables, names=[\"first\", \"second\"])"
   ]
  },
  {
   "cell_type": "code",
   "execution_count": 7,
   "id": "f4c29881",
   "metadata": {},
   "outputs": [
    {
     "data": {
      "text/plain": [
       "MultiIndex([('bar', 'one'),\n",
       "            ('bar', 'two'),\n",
       "            ('foo', 'one'),\n",
       "            ('foo', 'two')],\n",
       "           names=['first', 'second'])"
      ]
     },
     "execution_count": 7,
     "metadata": {},
     "output_type": "execute_result"
    }
   ],
   "source": [
    "df = pd.DataFrame(\n",
    "\n",
    "    [[\"bar\", \"one\"], [\"bar\", \"two\"], [\"foo\", \"one\"], [\"foo\", \"two\"]],\n",
    "\n",
    "    columns=[\"first\", \"second\"],\n",
    "\n",
    ")\n",
    "\n",
    "\n",
    "\n",
    "pd.MultiIndex.from_frame(df)"
   ]
  },
  {
   "cell_type": "code",
   "execution_count": 8,
   "id": "376b84c0",
   "metadata": {},
   "outputs": [
    {
     "data": {
      "text/plain": [
       "bar  one    0.441559\n",
       "     two    0.228312\n",
       "baz  one   -1.366432\n",
       "     two   -2.615238\n",
       "foo  one   -0.227098\n",
       "     two    0.173800\n",
       "qux  one    1.470444\n",
       "     two   -1.095329\n",
       "dtype: float64"
      ]
     },
     "execution_count": 8,
     "metadata": {},
     "output_type": "execute_result"
    }
   ],
   "source": [
    "arrays = [\n",
    "\n",
    "    np.array([\"bar\", \"bar\", \"baz\", \"baz\", \"foo\", \"foo\", \"qux\", \"qux\"]),\n",
    "\n",
    "    np.array([\"one\", \"two\", \"one\", \"two\", \"one\", \"two\", \"one\", \"two\"]),\n",
    "\n",
    "]\n",
    "\n",
    "\n",
    "\n",
    "s = pd.Series(np.random.randn(8), index=arrays)\n",
    "\n",
    "s"
   ]
  },
  {
   "cell_type": "code",
   "execution_count": 9,
   "id": "baff4ef6",
   "metadata": {},
   "outputs": [
    {
     "data": {
      "text/plain": [
       "FrozenList([None])"
      ]
     },
     "execution_count": 9,
     "metadata": {},
     "output_type": "execute_result"
    }
   ],
   "source": [
    "df.index.names"
   ]
  },
  {
   "cell_type": "code",
   "execution_count": 10,
   "id": "0f32a32e",
   "metadata": {},
   "outputs": [
    {
     "data": {
      "text/html": [
       "<div>\n",
       "<style scoped>\n",
       "    .dataframe tbody tr th:only-of-type {\n",
       "        vertical-align: middle;\n",
       "    }\n",
       "\n",
       "    .dataframe tbody tr th {\n",
       "        vertical-align: top;\n",
       "    }\n",
       "\n",
       "    .dataframe thead tr th {\n",
       "        text-align: left;\n",
       "    }\n",
       "</style>\n",
       "<table border=\"1\" class=\"dataframe\">\n",
       "  <thead>\n",
       "    <tr>\n",
       "      <th>first</th>\n",
       "      <th colspan=\"2\" halign=\"left\">bar</th>\n",
       "      <th colspan=\"2\" halign=\"left\">baz</th>\n",
       "      <th colspan=\"2\" halign=\"left\">foo</th>\n",
       "      <th colspan=\"2\" halign=\"left\">qux</th>\n",
       "    </tr>\n",
       "    <tr>\n",
       "      <th>second</th>\n",
       "      <th>one</th>\n",
       "      <th>two</th>\n",
       "      <th>one</th>\n",
       "      <th>two</th>\n",
       "      <th>one</th>\n",
       "      <th>two</th>\n",
       "      <th>one</th>\n",
       "      <th>two</th>\n",
       "    </tr>\n",
       "  </thead>\n",
       "  <tbody>\n",
       "    <tr>\n",
       "      <th>A</th>\n",
       "      <td>-1.099968</td>\n",
       "      <td>0.775524</td>\n",
       "      <td>-0.280117</td>\n",
       "      <td>-2.597763</td>\n",
       "      <td>0.904136</td>\n",
       "      <td>0.079566</td>\n",
       "      <td>-0.192781</td>\n",
       "      <td>0.716804</td>\n",
       "    </tr>\n",
       "    <tr>\n",
       "      <th>B</th>\n",
       "      <td>-0.905454</td>\n",
       "      <td>0.047056</td>\n",
       "      <td>0.474000</td>\n",
       "      <td>-0.941213</td>\n",
       "      <td>0.177659</td>\n",
       "      <td>2.283450</td>\n",
       "      <td>-0.344664</td>\n",
       "      <td>0.187324</td>\n",
       "    </tr>\n",
       "    <tr>\n",
       "      <th>C</th>\n",
       "      <td>2.980732</td>\n",
       "      <td>0.567498</td>\n",
       "      <td>0.593460</td>\n",
       "      <td>0.452156</td>\n",
       "      <td>0.969994</td>\n",
       "      <td>-0.353649</td>\n",
       "      <td>0.127216</td>\n",
       "      <td>-1.466834</td>\n",
       "    </tr>\n",
       "  </tbody>\n",
       "</table>\n",
       "</div>"
      ],
      "text/plain": [
       "first        bar                 baz                 foo                 qux  \\\n",
       "second       one       two       one       two       one       two       one   \n",
       "A      -1.099968  0.775524 -0.280117 -2.597763  0.904136  0.079566 -0.192781   \n",
       "B      -0.905454  0.047056  0.474000 -0.941213  0.177659  2.283450 -0.344664   \n",
       "C       2.980732  0.567498  0.593460  0.452156  0.969994 -0.353649  0.127216   \n",
       "\n",
       "first             \n",
       "second       two  \n",
       "A       0.716804  \n",
       "B       0.187324  \n",
       "C      -1.466834  "
      ]
     },
     "execution_count": 10,
     "metadata": {},
     "output_type": "execute_result"
    }
   ],
   "source": [
    "df = pd.DataFrame(np.random.randn(3, 8), index=[\"A\", \"B\", \"C\"], columns=index)\n",
    "\n",
    "df"
   ]
  },
  {
   "cell_type": "code",
   "execution_count": 11,
   "id": "ff295f16",
   "metadata": {},
   "outputs": [
    {
     "data": {
      "text/html": [
       "<div>\n",
       "<style scoped>\n",
       "    .dataframe tbody tr th:only-of-type {\n",
       "        vertical-align: middle;\n",
       "    }\n",
       "\n",
       "    .dataframe tbody tr th {\n",
       "        vertical-align: top;\n",
       "    }\n",
       "\n",
       "    .dataframe thead tr th {\n",
       "        text-align: left;\n",
       "    }\n",
       "\n",
       "    .dataframe thead tr:last-of-type th {\n",
       "        text-align: right;\n",
       "    }\n",
       "</style>\n",
       "<table border=\"1\" class=\"dataframe\">\n",
       "  <thead>\n",
       "    <tr>\n",
       "      <th></th>\n",
       "      <th>first</th>\n",
       "      <th colspan=\"2\" halign=\"left\">bar</th>\n",
       "      <th colspan=\"2\" halign=\"left\">baz</th>\n",
       "      <th colspan=\"2\" halign=\"left\">foo</th>\n",
       "    </tr>\n",
       "    <tr>\n",
       "      <th></th>\n",
       "      <th>second</th>\n",
       "      <th>one</th>\n",
       "      <th>two</th>\n",
       "      <th>one</th>\n",
       "      <th>two</th>\n",
       "      <th>one</th>\n",
       "      <th>two</th>\n",
       "    </tr>\n",
       "    <tr>\n",
       "      <th>first</th>\n",
       "      <th>second</th>\n",
       "      <th></th>\n",
       "      <th></th>\n",
       "      <th></th>\n",
       "      <th></th>\n",
       "      <th></th>\n",
       "      <th></th>\n",
       "    </tr>\n",
       "  </thead>\n",
       "  <tbody>\n",
       "    <tr>\n",
       "      <th rowspan=\"2\" valign=\"top\">bar</th>\n",
       "      <th>one</th>\n",
       "      <td>-1.465341</td>\n",
       "      <td>-1.663116</td>\n",
       "      <td>-1.449146</td>\n",
       "      <td>-1.982969</td>\n",
       "      <td>0.360329</td>\n",
       "      <td>-1.423539</td>\n",
       "    </tr>\n",
       "    <tr>\n",
       "      <th>two</th>\n",
       "      <td>-1.151351</td>\n",
       "      <td>-0.704613</td>\n",
       "      <td>0.270083</td>\n",
       "      <td>0.260593</td>\n",
       "      <td>-0.944900</td>\n",
       "      <td>-0.330197</td>\n",
       "    </tr>\n",
       "    <tr>\n",
       "      <th rowspan=\"2\" valign=\"top\">baz</th>\n",
       "      <th>one</th>\n",
       "      <td>-1.243168</td>\n",
       "      <td>-1.026756</td>\n",
       "      <td>-0.491466</td>\n",
       "      <td>0.830058</td>\n",
       "      <td>1.417244</td>\n",
       "      <td>-0.186617</td>\n",
       "    </tr>\n",
       "    <tr>\n",
       "      <th>two</th>\n",
       "      <td>-1.913877</td>\n",
       "      <td>0.420914</td>\n",
       "      <td>-0.310198</td>\n",
       "      <td>-1.233994</td>\n",
       "      <td>-0.656032</td>\n",
       "      <td>-1.610313</td>\n",
       "    </tr>\n",
       "    <tr>\n",
       "      <th rowspan=\"2\" valign=\"top\">foo</th>\n",
       "      <th>one</th>\n",
       "      <td>-0.487209</td>\n",
       "      <td>-0.504100</td>\n",
       "      <td>0.200819</td>\n",
       "      <td>-0.246953</td>\n",
       "      <td>0.884164</td>\n",
       "      <td>0.754537</td>\n",
       "    </tr>\n",
       "    <tr>\n",
       "      <th>two</th>\n",
       "      <td>-1.743265</td>\n",
       "      <td>0.235184</td>\n",
       "      <td>0.078153</td>\n",
       "      <td>-0.596818</td>\n",
       "      <td>-0.152054</td>\n",
       "      <td>-0.781528</td>\n",
       "    </tr>\n",
       "  </tbody>\n",
       "</table>\n",
       "</div>"
      ],
      "text/plain": [
       "first              bar                 baz                 foo          \n",
       "second             one       two       one       two       one       two\n",
       "first second                                                            \n",
       "bar   one    -1.465341 -1.663116 -1.449146 -1.982969  0.360329 -1.423539\n",
       "      two    -1.151351 -0.704613  0.270083  0.260593 -0.944900 -0.330197\n",
       "baz   one    -1.243168 -1.026756 -0.491466  0.830058  1.417244 -0.186617\n",
       "      two    -1.913877  0.420914 -0.310198 -1.233994 -0.656032 -1.610313\n",
       "foo   one    -0.487209 -0.504100  0.200819 -0.246953  0.884164  0.754537\n",
       "      two    -1.743265  0.235184  0.078153 -0.596818 -0.152054 -0.781528"
      ]
     },
     "execution_count": 11,
     "metadata": {},
     "output_type": "execute_result"
    }
   ],
   "source": [
    "pd.DataFrame(np.random.randn(6, 6), index=index[:6], columns=index[:6])"
   ]
  },
  {
   "cell_type": "code",
   "execution_count": 13,
   "id": "189a3f37",
   "metadata": {},
   "outputs": [
    {
     "name": "stdout",
     "output_type": "stream",
     "text": [
      "first        bar       bar       baz       baz       foo       foo       qux  \\\n",
      "second       one       two       one       two       one       two       one   \n",
      "A      -1.099968  0.775524 -0.280117 -2.597763  0.904136  0.079566 -0.192781   \n",
      "B      -0.905454  0.047056  0.474000 -0.941213  0.177659  2.283450 -0.344664   \n",
      "C       2.980732  0.567498  0.593460  0.452156  0.969994 -0.353649  0.127216   \n",
      "\n",
      "first        qux  \n",
      "second       two  \n",
      "A       0.716804  \n",
      "B       0.187324  \n",
      "C      -1.466834  \n"
     ]
    }
   ],
   "source": [
    "with pd.option_context(\"display.multi_sparse\", False):\n",
    "\n",
    "    print(df)"
   ]
  },
  {
   "cell_type": "code",
   "execution_count": 17,
   "id": "b2e99511",
   "metadata": {},
   "outputs": [
    {
     "data": {
      "text/plain": [
       "(bar, one)   -1.469955\n",
       "(bar, two)   -1.215525\n",
       "(baz, one)    1.641316\n",
       "(baz, two)   -0.887380\n",
       "(foo, one)    0.056543\n",
       "(foo, two)    0.190405\n",
       "(qux, one)   -0.611238\n",
       "(qux, two)   -0.334157\n",
       "dtype: float64"
      ]
     },
     "execution_count": 17,
     "metadata": {},
     "output_type": "execute_result"
    }
   ],
   "source": [
    "tmp = pd.Series(np.random.randn(8), index=tuples)\n",
    "tmp"
   ]
  },
  {
   "cell_type": "code",
   "execution_count": 18,
   "id": "51cdbf3f",
   "metadata": {},
   "outputs": [
    {
     "data": {
      "text/plain": [
       "-1.4699552813290193"
      ]
     },
     "execution_count": 18,
     "metadata": {},
     "output_type": "execute_result"
    }
   ],
   "source": [
    "tmp[('bar', 'one')]"
   ]
  },
  {
   "cell_type": "code",
   "execution_count": 20,
   "id": "4246e72b",
   "metadata": {},
   "outputs": [
    {
     "data": {
      "text/plain": [
       "MultiIndex([('bar', 'one'),\n",
       "            ('bar', 'two'),\n",
       "            ('baz', 'one'),\n",
       "            ('baz', 'two'),\n",
       "            ('foo', 'one'),\n",
       "            ('foo', 'two'),\n",
       "            ('qux', 'one'),\n",
       "            ('qux', 'two')],\n",
       "           names=['first', 'second'])"
      ]
     },
     "execution_count": 20,
     "metadata": {},
     "output_type": "execute_result"
    }
   ],
   "source": [
    "index"
   ]
  },
  {
   "cell_type": "code",
   "execution_count": 19,
   "id": "8843ce80",
   "metadata": {},
   "outputs": [
    {
     "data": {
      "text/plain": [
       "Index(['bar', 'bar', 'baz', 'baz', 'foo', 'foo', 'qux', 'qux'], dtype='object', name='first')"
      ]
     },
     "execution_count": 19,
     "metadata": {},
     "output_type": "execute_result"
    }
   ],
   "source": [
    "index.get_level_values(0)"
   ]
  },
  {
   "cell_type": "code",
   "execution_count": 21,
   "id": "8ef8806c",
   "metadata": {},
   "outputs": [
    {
     "data": {
      "text/plain": [
       "Index(['one', 'two', 'one', 'two', 'one', 'two', 'one', 'two'], dtype='object', name='second')"
      ]
     },
     "execution_count": 21,
     "metadata": {},
     "output_type": "execute_result"
    }
   ],
   "source": [
    "index.get_level_values(\"second\")"
   ]
  },
  {
   "cell_type": "code",
   "execution_count": 22,
   "id": "34f1ea69",
   "metadata": {},
   "outputs": [
    {
     "data": {
      "text/html": [
       "<div>\n",
       "<style scoped>\n",
       "    .dataframe tbody tr th:only-of-type {\n",
       "        vertical-align: middle;\n",
       "    }\n",
       "\n",
       "    .dataframe tbody tr th {\n",
       "        vertical-align: top;\n",
       "    }\n",
       "\n",
       "    .dataframe thead tr th {\n",
       "        text-align: left;\n",
       "    }\n",
       "</style>\n",
       "<table border=\"1\" class=\"dataframe\">\n",
       "  <thead>\n",
       "    <tr>\n",
       "      <th>first</th>\n",
       "      <th colspan=\"2\" halign=\"left\">bar</th>\n",
       "      <th colspan=\"2\" halign=\"left\">baz</th>\n",
       "      <th colspan=\"2\" halign=\"left\">foo</th>\n",
       "      <th colspan=\"2\" halign=\"left\">qux</th>\n",
       "    </tr>\n",
       "    <tr>\n",
       "      <th>second</th>\n",
       "      <th>one</th>\n",
       "      <th>two</th>\n",
       "      <th>one</th>\n",
       "      <th>two</th>\n",
       "      <th>one</th>\n",
       "      <th>two</th>\n",
       "      <th>one</th>\n",
       "      <th>two</th>\n",
       "    </tr>\n",
       "  </thead>\n",
       "  <tbody>\n",
       "    <tr>\n",
       "      <th>A</th>\n",
       "      <td>-1.099968</td>\n",
       "      <td>0.775524</td>\n",
       "      <td>-0.280117</td>\n",
       "      <td>-2.597763</td>\n",
       "      <td>0.904136</td>\n",
       "      <td>0.079566</td>\n",
       "      <td>-0.192781</td>\n",
       "      <td>0.716804</td>\n",
       "    </tr>\n",
       "    <tr>\n",
       "      <th>B</th>\n",
       "      <td>-0.905454</td>\n",
       "      <td>0.047056</td>\n",
       "      <td>0.474000</td>\n",
       "      <td>-0.941213</td>\n",
       "      <td>0.177659</td>\n",
       "      <td>2.283450</td>\n",
       "      <td>-0.344664</td>\n",
       "      <td>0.187324</td>\n",
       "    </tr>\n",
       "    <tr>\n",
       "      <th>C</th>\n",
       "      <td>2.980732</td>\n",
       "      <td>0.567498</td>\n",
       "      <td>0.593460</td>\n",
       "      <td>0.452156</td>\n",
       "      <td>0.969994</td>\n",
       "      <td>-0.353649</td>\n",
       "      <td>0.127216</td>\n",
       "      <td>-1.466834</td>\n",
       "    </tr>\n",
       "  </tbody>\n",
       "</table>\n",
       "</div>"
      ],
      "text/plain": [
       "first        bar                 baz                 foo                 qux  \\\n",
       "second       one       two       one       two       one       two       one   \n",
       "A      -1.099968  0.775524 -0.280117 -2.597763  0.904136  0.079566 -0.192781   \n",
       "B      -0.905454  0.047056  0.474000 -0.941213  0.177659  2.283450 -0.344664   \n",
       "C       2.980732  0.567498  0.593460  0.452156  0.969994 -0.353649  0.127216   \n",
       "\n",
       "first             \n",
       "second       two  \n",
       "A       0.716804  \n",
       "B       0.187324  \n",
       "C      -1.466834  "
      ]
     },
     "execution_count": 22,
     "metadata": {},
     "output_type": "execute_result"
    }
   ],
   "source": [
    "df"
   ]
  },
  {
   "cell_type": "code",
   "execution_count": 23,
   "id": "b4ee86b2",
   "metadata": {},
   "outputs": [
    {
     "data": {
      "text/html": [
       "<div>\n",
       "<style scoped>\n",
       "    .dataframe tbody tr th:only-of-type {\n",
       "        vertical-align: middle;\n",
       "    }\n",
       "\n",
       "    .dataframe tbody tr th {\n",
       "        vertical-align: top;\n",
       "    }\n",
       "\n",
       "    .dataframe thead th {\n",
       "        text-align: right;\n",
       "    }\n",
       "</style>\n",
       "<table border=\"1\" class=\"dataframe\">\n",
       "  <thead>\n",
       "    <tr style=\"text-align: right;\">\n",
       "      <th>second</th>\n",
       "      <th>one</th>\n",
       "      <th>two</th>\n",
       "    </tr>\n",
       "  </thead>\n",
       "  <tbody>\n",
       "    <tr>\n",
       "      <th>A</th>\n",
       "      <td>-1.099968</td>\n",
       "      <td>0.775524</td>\n",
       "    </tr>\n",
       "    <tr>\n",
       "      <th>B</th>\n",
       "      <td>-0.905454</td>\n",
       "      <td>0.047056</td>\n",
       "    </tr>\n",
       "    <tr>\n",
       "      <th>C</th>\n",
       "      <td>2.980732</td>\n",
       "      <td>0.567498</td>\n",
       "    </tr>\n",
       "  </tbody>\n",
       "</table>\n",
       "</div>"
      ],
      "text/plain": [
       "second       one       two\n",
       "A      -1.099968  0.775524\n",
       "B      -0.905454  0.047056\n",
       "C       2.980732  0.567498"
      ]
     },
     "execution_count": 23,
     "metadata": {},
     "output_type": "execute_result"
    }
   ],
   "source": [
    "df[\"bar\"]"
   ]
  },
  {
   "cell_type": "code",
   "execution_count": 24,
   "id": "4b5fef3a",
   "metadata": {},
   "outputs": [
    {
     "data": {
      "text/plain": [
       "A   -1.099968\n",
       "B   -0.905454\n",
       "C    2.980732\n",
       "Name: (bar, one), dtype: float64"
      ]
     },
     "execution_count": 24,
     "metadata": {},
     "output_type": "execute_result"
    }
   ],
   "source": [
    "df[\"bar\", \"one\"]"
   ]
  },
  {
   "cell_type": "code",
   "execution_count": 25,
   "id": "f4ed7f0e",
   "metadata": {},
   "outputs": [
    {
     "data": {
      "text/plain": [
       "A   -1.099968\n",
       "B   -0.905454\n",
       "C    2.980732\n",
       "Name: one, dtype: float64"
      ]
     },
     "execution_count": 25,
     "metadata": {},
     "output_type": "execute_result"
    }
   ],
   "source": [
    "df[\"bar\"][\"one\"]"
   ]
  },
  {
   "cell_type": "code",
   "execution_count": 26,
   "id": "09b1ab58",
   "metadata": {},
   "outputs": [
    {
     "data": {
      "text/plain": [
       "one    1.470444\n",
       "two   -1.095329\n",
       "dtype: float64"
      ]
     },
     "execution_count": 26,
     "metadata": {},
     "output_type": "execute_result"
    }
   ],
   "source": [
    "s[\"qux\"]"
   ]
  },
  {
   "cell_type": "code",
   "execution_count": 27,
   "id": "cdbd2d5a",
   "metadata": {},
   "outputs": [
    {
     "data": {
      "text/plain": [
       "FrozenList([['bar', 'baz', 'foo', 'qux'], ['one', 'two']])"
      ]
     },
     "execution_count": 27,
     "metadata": {},
     "output_type": "execute_result"
    }
   ],
   "source": [
    "df.columns.levels  # original MultiIndex"
   ]
  },
  {
   "cell_type": "code",
   "execution_count": 31,
   "id": "e2328208",
   "metadata": {},
   "outputs": [
    {
     "data": {
      "text/html": [
       "<div>\n",
       "<style scoped>\n",
       "    .dataframe tbody tr th:only-of-type {\n",
       "        vertical-align: middle;\n",
       "    }\n",
       "\n",
       "    .dataframe tbody tr th {\n",
       "        vertical-align: top;\n",
       "    }\n",
       "\n",
       "    .dataframe thead tr th {\n",
       "        text-align: left;\n",
       "    }\n",
       "</style>\n",
       "<table border=\"1\" class=\"dataframe\">\n",
       "  <thead>\n",
       "    <tr>\n",
       "      <th>first</th>\n",
       "      <th colspan=\"2\" halign=\"left\">bar</th>\n",
       "      <th colspan=\"2\" halign=\"left\">baz</th>\n",
       "      <th colspan=\"2\" halign=\"left\">foo</th>\n",
       "      <th colspan=\"2\" halign=\"left\">qux</th>\n",
       "    </tr>\n",
       "    <tr>\n",
       "      <th>second</th>\n",
       "      <th>one</th>\n",
       "      <th>two</th>\n",
       "      <th>one</th>\n",
       "      <th>two</th>\n",
       "      <th>one</th>\n",
       "      <th>two</th>\n",
       "      <th>one</th>\n",
       "      <th>two</th>\n",
       "    </tr>\n",
       "  </thead>\n",
       "  <tbody>\n",
       "    <tr>\n",
       "      <th>A</th>\n",
       "      <td>-1.099968</td>\n",
       "      <td>0.775524</td>\n",
       "      <td>-0.280117</td>\n",
       "      <td>-2.597763</td>\n",
       "      <td>0.904136</td>\n",
       "      <td>0.079566</td>\n",
       "      <td>-0.192781</td>\n",
       "      <td>0.716804</td>\n",
       "    </tr>\n",
       "    <tr>\n",
       "      <th>B</th>\n",
       "      <td>-0.905454</td>\n",
       "      <td>0.047056</td>\n",
       "      <td>0.474000</td>\n",
       "      <td>-0.941213</td>\n",
       "      <td>0.177659</td>\n",
       "      <td>2.283450</td>\n",
       "      <td>-0.344664</td>\n",
       "      <td>0.187324</td>\n",
       "    </tr>\n",
       "    <tr>\n",
       "      <th>C</th>\n",
       "      <td>2.980732</td>\n",
       "      <td>0.567498</td>\n",
       "      <td>0.593460</td>\n",
       "      <td>0.452156</td>\n",
       "      <td>0.969994</td>\n",
       "      <td>-0.353649</td>\n",
       "      <td>0.127216</td>\n",
       "      <td>-1.466834</td>\n",
       "    </tr>\n",
       "  </tbody>\n",
       "</table>\n",
       "</div>"
      ],
      "text/plain": [
       "first        bar                 baz                 foo                 qux  \\\n",
       "second       one       two       one       two       one       two       one   \n",
       "A      -1.099968  0.775524 -0.280117 -2.597763  0.904136  0.079566 -0.192781   \n",
       "B      -0.905454  0.047056  0.474000 -0.941213  0.177659  2.283450 -0.344664   \n",
       "C       2.980732  0.567498  0.593460  0.452156  0.969994 -0.353649  0.127216   \n",
       "\n",
       "first             \n",
       "second       two  \n",
       "A       0.716804  \n",
       "B       0.187324  \n",
       "C      -1.466834  "
      ]
     },
     "execution_count": 31,
     "metadata": {},
     "output_type": "execute_result"
    }
   ],
   "source": [
    "df"
   ]
  },
  {
   "cell_type": "code",
   "execution_count": 30,
   "id": "fd9744a3",
   "metadata": {},
   "outputs": [
    {
     "data": {
      "text/html": [
       "<div>\n",
       "<style scoped>\n",
       "    .dataframe tbody tr th:only-of-type {\n",
       "        vertical-align: middle;\n",
       "    }\n",
       "\n",
       "    .dataframe tbody tr th {\n",
       "        vertical-align: top;\n",
       "    }\n",
       "\n",
       "    .dataframe thead tr th {\n",
       "        text-align: left;\n",
       "    }\n",
       "</style>\n",
       "<table border=\"1\" class=\"dataframe\">\n",
       "  <thead>\n",
       "    <tr>\n",
       "      <th>first</th>\n",
       "      <th colspan=\"2\" halign=\"left\">foo</th>\n",
       "      <th colspan=\"2\" halign=\"left\">qux</th>\n",
       "    </tr>\n",
       "    <tr>\n",
       "      <th>second</th>\n",
       "      <th>one</th>\n",
       "      <th>two</th>\n",
       "      <th>one</th>\n",
       "      <th>two</th>\n",
       "    </tr>\n",
       "  </thead>\n",
       "  <tbody>\n",
       "    <tr>\n",
       "      <th>A</th>\n",
       "      <td>0.904136</td>\n",
       "      <td>0.079566</td>\n",
       "      <td>-0.192781</td>\n",
       "      <td>0.716804</td>\n",
       "    </tr>\n",
       "    <tr>\n",
       "      <th>B</th>\n",
       "      <td>0.177659</td>\n",
       "      <td>2.283450</td>\n",
       "      <td>-0.344664</td>\n",
       "      <td>0.187324</td>\n",
       "    </tr>\n",
       "    <tr>\n",
       "      <th>C</th>\n",
       "      <td>0.969994</td>\n",
       "      <td>-0.353649</td>\n",
       "      <td>0.127216</td>\n",
       "      <td>-1.466834</td>\n",
       "    </tr>\n",
       "  </tbody>\n",
       "</table>\n",
       "</div>"
      ],
      "text/plain": [
       "first        foo                 qux          \n",
       "second       one       two       one       two\n",
       "A       0.904136  0.079566 -0.192781  0.716804\n",
       "B       0.177659  2.283450 -0.344664  0.187324\n",
       "C       0.969994 -0.353649  0.127216 -1.466834"
      ]
     },
     "execution_count": 30,
     "metadata": {},
     "output_type": "execute_result"
    }
   ],
   "source": [
    "df[[\"foo\",\"qux\"]]"
   ]
  },
  {
   "cell_type": "code",
   "execution_count": 28,
   "id": "b5c203ce",
   "metadata": {},
   "outputs": [
    {
     "data": {
      "text/plain": [
       "FrozenList([['bar', 'baz', 'foo', 'qux'], ['one', 'two']])"
      ]
     },
     "execution_count": 28,
     "metadata": {},
     "output_type": "execute_result"
    }
   ],
   "source": [
    "df[[\"foo\",\"qux\"]].columns.levels  # sliced"
   ]
  },
  {
   "cell_type": "code",
   "execution_count": 29,
   "id": "428250ad",
   "metadata": {},
   "outputs": [
    {
     "data": {
      "text/plain": [
       "array([('foo', 'one'), ('foo', 'two'), ('qux', 'one'), ('qux', 'two')],\n",
       "      dtype=object)"
      ]
     },
     "execution_count": 29,
     "metadata": {},
     "output_type": "execute_result"
    }
   ],
   "source": [
    "df[[\"foo\", \"qux\"]].columns.to_numpy()"
   ]
  },
  {
   "cell_type": "code",
   "execution_count": 32,
   "id": "54c8c0c0",
   "metadata": {},
   "outputs": [
    {
     "data": {
      "text/plain": [
       "Index(['foo', 'foo', 'qux', 'qux'], dtype='object', name='first')"
      ]
     },
     "execution_count": 32,
     "metadata": {},
     "output_type": "execute_result"
    }
   ],
   "source": [
    "# for a specific level\n",
    "\n",
    "df[[\"foo\", \"qux\"]].columns.get_level_values(0)"
   ]
  },
  {
   "cell_type": "code",
   "execution_count": 33,
   "id": "e94338f3",
   "metadata": {},
   "outputs": [
    {
     "data": {
      "text/plain": [
       "FrozenList([['foo', 'qux'], ['one', 'two']])"
      ]
     },
     "execution_count": 33,
     "metadata": {},
     "output_type": "execute_result"
    }
   ],
   "source": [
    "new_mi = df[[\"foo\", \"qux\"]].columns.remove_unused_levels()\n",
    "\n",
    "new_mi.levels"
   ]
  },
  {
   "cell_type": "code",
   "execution_count": 34,
   "id": "6da978d0",
   "metadata": {},
   "outputs": [
    {
     "data": {
      "text/plain": [
       "MultiIndex([('foo', 'one'),\n",
       "            ('foo', 'two'),\n",
       "            ('qux', 'one'),\n",
       "            ('qux', 'two')],\n",
       "           names=['first', 'second'])"
      ]
     },
     "execution_count": 34,
     "metadata": {},
     "output_type": "execute_result"
    }
   ],
   "source": [
    "new_mi"
   ]
  },
  {
   "cell_type": "code",
   "execution_count": 35,
   "id": "99385ada",
   "metadata": {},
   "outputs": [
    {
     "data": {
      "text/plain": [
       "bar  one    0.441559\n",
       "     two    0.228312\n",
       "baz  one   -1.366432\n",
       "     two   -2.615238\n",
       "foo  one   -0.227098\n",
       "     two    0.173800\n",
       "qux  one    1.470444\n",
       "     two   -1.095329\n",
       "dtype: float64"
      ]
     },
     "execution_count": 35,
     "metadata": {},
     "output_type": "execute_result"
    }
   ],
   "source": [
    "s"
   ]
  },
  {
   "cell_type": "code",
   "execution_count": 36,
   "id": "881460a6",
   "metadata": {},
   "outputs": [
    {
     "data": {
      "text/plain": [
       "bar  one    0.441559\n",
       "     two    0.228312\n",
       "baz  one   -1.366432\n",
       "     two   -2.615238\n",
       "foo  one   -0.227098\n",
       "     two    0.173800\n",
       "dtype: float64"
      ]
     },
     "execution_count": 36,
     "metadata": {},
     "output_type": "execute_result"
    }
   ],
   "source": [
    "s[:-2]"
   ]
  },
  {
   "cell_type": "code",
   "execution_count": 37,
   "id": "c57ac640",
   "metadata": {},
   "outputs": [
    {
     "data": {
      "text/plain": [
       "bar  one    0.883119\n",
       "     two    0.456625\n",
       "baz  one   -2.732864\n",
       "     two   -5.230476\n",
       "foo  one   -0.454195\n",
       "     two    0.347599\n",
       "qux  one         NaN\n",
       "     two         NaN\n",
       "dtype: float64"
      ]
     },
     "execution_count": 37,
     "metadata": {},
     "output_type": "execute_result"
    }
   ],
   "source": [
    "s + s[:-2]"
   ]
  },
  {
   "cell_type": "code",
   "execution_count": 38,
   "id": "26598148",
   "metadata": {},
   "outputs": [
    {
     "data": {
      "text/plain": [
       "bar  one    0.883119\n",
       "     two         NaN\n",
       "baz  one   -2.732864\n",
       "     two         NaN\n",
       "foo  one   -0.454195\n",
       "     two         NaN\n",
       "qux  one    2.940887\n",
       "     two         NaN\n",
       "dtype: float64"
      ]
     },
     "execution_count": 38,
     "metadata": {},
     "output_type": "execute_result"
    }
   ],
   "source": [
    "s + s[::2]"
   ]
  },
  {
   "cell_type": "code",
   "execution_count": 41,
   "id": "0f486323",
   "metadata": {},
   "outputs": [
    {
     "data": {
      "text/plain": [
       "MultiIndex([('bar', 'one'),\n",
       "            ('bar', 'two'),\n",
       "            ('baz', 'one'),\n",
       "            ('baz', 'two'),\n",
       "            ('foo', 'one'),\n",
       "            ('foo', 'two'),\n",
       "            ('qux', 'one'),\n",
       "            ('qux', 'two')],\n",
       "           names=['first', 'second'])"
      ]
     },
     "execution_count": 41,
     "metadata": {},
     "output_type": "execute_result"
    }
   ],
   "source": [
    "index"
   ]
  },
  {
   "cell_type": "code",
   "execution_count": 42,
   "id": "fd1b3793",
   "metadata": {},
   "outputs": [
    {
     "data": {
      "text/plain": [
       "first  second\n",
       "bar    one       0.441559\n",
       "       two       0.228312\n",
       "baz    one      -1.366432\n",
       "dtype: float64"
      ]
     },
     "execution_count": 42,
     "metadata": {},
     "output_type": "execute_result"
    }
   ],
   "source": [
    "tmp = s.reindex(index[:3])\n",
    "tmp"
   ]
  },
  {
   "cell_type": "code",
   "execution_count": 43,
   "id": "2f0d75a5",
   "metadata": {},
   "outputs": [
    {
     "data": {
      "text/plain": [
       "foo  two    0.173800\n",
       "bar  one    0.441559\n",
       "qux  one    1.470444\n",
       "baz  one   -1.366432\n",
       "dtype: float64"
      ]
     },
     "execution_count": 43,
     "metadata": {},
     "output_type": "execute_result"
    }
   ],
   "source": [
    "s.reindex([(\"foo\", \"two\"), (\"bar\", \"one\"), (\"qux\", \"one\"), (\"baz\", \"one\")])"
   ]
  },
  {
   "cell_type": "code",
   "execution_count": 44,
   "id": "bcc154c3",
   "metadata": {},
   "outputs": [
    {
     "data": {
      "text/html": [
       "<div>\n",
       "<style scoped>\n",
       "    .dataframe tbody tr th:only-of-type {\n",
       "        vertical-align: middle;\n",
       "    }\n",
       "\n",
       "    .dataframe tbody tr th {\n",
       "        vertical-align: top;\n",
       "    }\n",
       "\n",
       "    .dataframe thead tr th {\n",
       "        text-align: left;\n",
       "    }\n",
       "</style>\n",
       "<table border=\"1\" class=\"dataframe\">\n",
       "  <thead>\n",
       "    <tr>\n",
       "      <th>first</th>\n",
       "      <th colspan=\"2\" halign=\"left\">bar</th>\n",
       "      <th colspan=\"2\" halign=\"left\">baz</th>\n",
       "      <th colspan=\"2\" halign=\"left\">foo</th>\n",
       "      <th colspan=\"2\" halign=\"left\">qux</th>\n",
       "    </tr>\n",
       "    <tr>\n",
       "      <th>second</th>\n",
       "      <th>one</th>\n",
       "      <th>two</th>\n",
       "      <th>one</th>\n",
       "      <th>two</th>\n",
       "      <th>one</th>\n",
       "      <th>two</th>\n",
       "      <th>one</th>\n",
       "      <th>two</th>\n",
       "    </tr>\n",
       "  </thead>\n",
       "  <tbody>\n",
       "    <tr>\n",
       "      <th>A</th>\n",
       "      <td>-1.099968</td>\n",
       "      <td>0.775524</td>\n",
       "      <td>-0.280117</td>\n",
       "      <td>-2.597763</td>\n",
       "      <td>0.904136</td>\n",
       "      <td>0.079566</td>\n",
       "      <td>-0.192781</td>\n",
       "      <td>0.716804</td>\n",
       "    </tr>\n",
       "    <tr>\n",
       "      <th>B</th>\n",
       "      <td>-0.905454</td>\n",
       "      <td>0.047056</td>\n",
       "      <td>0.474000</td>\n",
       "      <td>-0.941213</td>\n",
       "      <td>0.177659</td>\n",
       "      <td>2.283450</td>\n",
       "      <td>-0.344664</td>\n",
       "      <td>0.187324</td>\n",
       "    </tr>\n",
       "    <tr>\n",
       "      <th>C</th>\n",
       "      <td>2.980732</td>\n",
       "      <td>0.567498</td>\n",
       "      <td>0.593460</td>\n",
       "      <td>0.452156</td>\n",
       "      <td>0.969994</td>\n",
       "      <td>-0.353649</td>\n",
       "      <td>0.127216</td>\n",
       "      <td>-1.466834</td>\n",
       "    </tr>\n",
       "  </tbody>\n",
       "</table>\n",
       "</div>"
      ],
      "text/plain": [
       "first        bar                 baz                 foo                 qux  \\\n",
       "second       one       two       one       two       one       two       one   \n",
       "A      -1.099968  0.775524 -0.280117 -2.597763  0.904136  0.079566 -0.192781   \n",
       "B      -0.905454  0.047056  0.474000 -0.941213  0.177659  2.283450 -0.344664   \n",
       "C       2.980732  0.567498  0.593460  0.452156  0.969994 -0.353649  0.127216   \n",
       "\n",
       "first             \n",
       "second       two  \n",
       "A       0.716804  \n",
       "B       0.187324  \n",
       "C      -1.466834  "
      ]
     },
     "execution_count": 44,
     "metadata": {},
     "output_type": "execute_result"
    }
   ],
   "source": [
    "df"
   ]
  },
  {
   "cell_type": "code",
   "execution_count": 45,
   "id": "746e69ee",
   "metadata": {},
   "outputs": [
    {
     "data": {
      "text/html": [
       "<div>\n",
       "<style scoped>\n",
       "    .dataframe tbody tr th:only-of-type {\n",
       "        vertical-align: middle;\n",
       "    }\n",
       "\n",
       "    .dataframe tbody tr th {\n",
       "        vertical-align: top;\n",
       "    }\n",
       "\n",
       "    .dataframe thead th {\n",
       "        text-align: right;\n",
       "    }\n",
       "</style>\n",
       "<table border=\"1\" class=\"dataframe\">\n",
       "  <thead>\n",
       "    <tr style=\"text-align: right;\">\n",
       "      <th></th>\n",
       "      <th></th>\n",
       "      <th>A</th>\n",
       "      <th>B</th>\n",
       "      <th>C</th>\n",
       "    </tr>\n",
       "    <tr>\n",
       "      <th>first</th>\n",
       "      <th>second</th>\n",
       "      <th></th>\n",
       "      <th></th>\n",
       "      <th></th>\n",
       "    </tr>\n",
       "  </thead>\n",
       "  <tbody>\n",
       "    <tr>\n",
       "      <th rowspan=\"2\" valign=\"top\">bar</th>\n",
       "      <th>one</th>\n",
       "      <td>-1.099968</td>\n",
       "      <td>-0.905454</td>\n",
       "      <td>2.980732</td>\n",
       "    </tr>\n",
       "    <tr>\n",
       "      <th>two</th>\n",
       "      <td>0.775524</td>\n",
       "      <td>0.047056</td>\n",
       "      <td>0.567498</td>\n",
       "    </tr>\n",
       "    <tr>\n",
       "      <th rowspan=\"2\" valign=\"top\">baz</th>\n",
       "      <th>one</th>\n",
       "      <td>-0.280117</td>\n",
       "      <td>0.474000</td>\n",
       "      <td>0.593460</td>\n",
       "    </tr>\n",
       "    <tr>\n",
       "      <th>two</th>\n",
       "      <td>-2.597763</td>\n",
       "      <td>-0.941213</td>\n",
       "      <td>0.452156</td>\n",
       "    </tr>\n",
       "    <tr>\n",
       "      <th rowspan=\"2\" valign=\"top\">foo</th>\n",
       "      <th>one</th>\n",
       "      <td>0.904136</td>\n",
       "      <td>0.177659</td>\n",
       "      <td>0.969994</td>\n",
       "    </tr>\n",
       "    <tr>\n",
       "      <th>two</th>\n",
       "      <td>0.079566</td>\n",
       "      <td>2.283450</td>\n",
       "      <td>-0.353649</td>\n",
       "    </tr>\n",
       "    <tr>\n",
       "      <th rowspan=\"2\" valign=\"top\">qux</th>\n",
       "      <th>one</th>\n",
       "      <td>-0.192781</td>\n",
       "      <td>-0.344664</td>\n",
       "      <td>0.127216</td>\n",
       "    </tr>\n",
       "    <tr>\n",
       "      <th>two</th>\n",
       "      <td>0.716804</td>\n",
       "      <td>0.187324</td>\n",
       "      <td>-1.466834</td>\n",
       "    </tr>\n",
       "  </tbody>\n",
       "</table>\n",
       "</div>"
      ],
      "text/plain": [
       "                     A         B         C\n",
       "first second                              \n",
       "bar   one    -1.099968 -0.905454  2.980732\n",
       "      two     0.775524  0.047056  0.567498\n",
       "baz   one    -0.280117  0.474000  0.593460\n",
       "      two    -2.597763 -0.941213  0.452156\n",
       "foo   one     0.904136  0.177659  0.969994\n",
       "      two     0.079566  2.283450 -0.353649\n",
       "qux   one    -0.192781 -0.344664  0.127216\n",
       "      two     0.716804  0.187324 -1.466834"
      ]
     },
     "execution_count": 45,
     "metadata": {},
     "output_type": "execute_result"
    }
   ],
   "source": [
    "df = df.T\n",
    "\n",
    "df"
   ]
  },
  {
   "cell_type": "code",
   "execution_count": 46,
   "id": "ec5a6589",
   "metadata": {},
   "outputs": [
    {
     "data": {
      "text/plain": [
       "A    0.775524\n",
       "B    0.047056\n",
       "C    0.567498\n",
       "Name: (bar, two), dtype: float64"
      ]
     },
     "execution_count": 46,
     "metadata": {},
     "output_type": "execute_result"
    }
   ],
   "source": [
    "df.loc[(\"bar\", \"two\")]"
   ]
  },
  {
   "cell_type": "code",
   "execution_count": 47,
   "id": "55a052f7",
   "metadata": {},
   "outputs": [
    {
     "data": {
      "text/plain": [
       "0.7755244705701126"
      ]
     },
     "execution_count": 47,
     "metadata": {},
     "output_type": "execute_result"
    }
   ],
   "source": [
    "df.loc[(\"bar\", \"two\"), \"A\"]"
   ]
  },
  {
   "cell_type": "code",
   "execution_count": 48,
   "id": "2596d94f",
   "metadata": {},
   "outputs": [
    {
     "data": {
      "text/html": [
       "<div>\n",
       "<style scoped>\n",
       "    .dataframe tbody tr th:only-of-type {\n",
       "        vertical-align: middle;\n",
       "    }\n",
       "\n",
       "    .dataframe tbody tr th {\n",
       "        vertical-align: top;\n",
       "    }\n",
       "\n",
       "    .dataframe thead th {\n",
       "        text-align: right;\n",
       "    }\n",
       "</style>\n",
       "<table border=\"1\" class=\"dataframe\">\n",
       "  <thead>\n",
       "    <tr style=\"text-align: right;\">\n",
       "      <th></th>\n",
       "      <th>A</th>\n",
       "      <th>B</th>\n",
       "      <th>C</th>\n",
       "    </tr>\n",
       "    <tr>\n",
       "      <th>second</th>\n",
       "      <th></th>\n",
       "      <th></th>\n",
       "      <th></th>\n",
       "    </tr>\n",
       "  </thead>\n",
       "  <tbody>\n",
       "    <tr>\n",
       "      <th>one</th>\n",
       "      <td>-1.099968</td>\n",
       "      <td>-0.905454</td>\n",
       "      <td>2.980732</td>\n",
       "    </tr>\n",
       "    <tr>\n",
       "      <th>two</th>\n",
       "      <td>0.775524</td>\n",
       "      <td>0.047056</td>\n",
       "      <td>0.567498</td>\n",
       "    </tr>\n",
       "  </tbody>\n",
       "</table>\n",
       "</div>"
      ],
      "text/plain": [
       "               A         B         C\n",
       "second                              \n",
       "one    -1.099968 -0.905454  2.980732\n",
       "two     0.775524  0.047056  0.567498"
      ]
     },
     "execution_count": 48,
     "metadata": {},
     "output_type": "execute_result"
    }
   ],
   "source": [
    "df.loc[\"bar\"]"
   ]
  },
  {
   "cell_type": "code",
   "execution_count": 49,
   "id": "3d991f3c",
   "metadata": {},
   "outputs": [
    {
     "data": {
      "text/html": [
       "<div>\n",
       "<style scoped>\n",
       "    .dataframe tbody tr th:only-of-type {\n",
       "        vertical-align: middle;\n",
       "    }\n",
       "\n",
       "    .dataframe tbody tr th {\n",
       "        vertical-align: top;\n",
       "    }\n",
       "\n",
       "    .dataframe thead th {\n",
       "        text-align: right;\n",
       "    }\n",
       "</style>\n",
       "<table border=\"1\" class=\"dataframe\">\n",
       "  <thead>\n",
       "    <tr style=\"text-align: right;\">\n",
       "      <th></th>\n",
       "      <th></th>\n",
       "      <th>A</th>\n",
       "      <th>B</th>\n",
       "      <th>C</th>\n",
       "    </tr>\n",
       "    <tr>\n",
       "      <th>first</th>\n",
       "      <th>second</th>\n",
       "      <th></th>\n",
       "      <th></th>\n",
       "      <th></th>\n",
       "    </tr>\n",
       "  </thead>\n",
       "  <tbody>\n",
       "    <tr>\n",
       "      <th rowspan=\"2\" valign=\"top\">baz</th>\n",
       "      <th>one</th>\n",
       "      <td>-0.280117</td>\n",
       "      <td>0.474000</td>\n",
       "      <td>0.593460</td>\n",
       "    </tr>\n",
       "    <tr>\n",
       "      <th>two</th>\n",
       "      <td>-2.597763</td>\n",
       "      <td>-0.941213</td>\n",
       "      <td>0.452156</td>\n",
       "    </tr>\n",
       "    <tr>\n",
       "      <th rowspan=\"2\" valign=\"top\">foo</th>\n",
       "      <th>one</th>\n",
       "      <td>0.904136</td>\n",
       "      <td>0.177659</td>\n",
       "      <td>0.969994</td>\n",
       "    </tr>\n",
       "    <tr>\n",
       "      <th>two</th>\n",
       "      <td>0.079566</td>\n",
       "      <td>2.283450</td>\n",
       "      <td>-0.353649</td>\n",
       "    </tr>\n",
       "  </tbody>\n",
       "</table>\n",
       "</div>"
      ],
      "text/plain": [
       "                     A         B         C\n",
       "first second                              \n",
       "baz   one    -0.280117  0.474000  0.593460\n",
       "      two    -2.597763 -0.941213  0.452156\n",
       "foo   one     0.904136  0.177659  0.969994\n",
       "      two     0.079566  2.283450 -0.353649"
      ]
     },
     "execution_count": 49,
     "metadata": {},
     "output_type": "execute_result"
    }
   ],
   "source": [
    "df.loc[\"baz\":\"foo\"]"
   ]
  },
  {
   "cell_type": "code",
   "execution_count": 50,
   "id": "d037969a",
   "metadata": {},
   "outputs": [
    {
     "data": {
      "text/html": [
       "<div>\n",
       "<style scoped>\n",
       "    .dataframe tbody tr th:only-of-type {\n",
       "        vertical-align: middle;\n",
       "    }\n",
       "\n",
       "    .dataframe tbody tr th {\n",
       "        vertical-align: top;\n",
       "    }\n",
       "\n",
       "    .dataframe thead th {\n",
       "        text-align: right;\n",
       "    }\n",
       "</style>\n",
       "<table border=\"1\" class=\"dataframe\">\n",
       "  <thead>\n",
       "    <tr style=\"text-align: right;\">\n",
       "      <th></th>\n",
       "      <th></th>\n",
       "      <th>A</th>\n",
       "      <th>B</th>\n",
       "      <th>C</th>\n",
       "    </tr>\n",
       "    <tr>\n",
       "      <th>first</th>\n",
       "      <th>second</th>\n",
       "      <th></th>\n",
       "      <th></th>\n",
       "      <th></th>\n",
       "    </tr>\n",
       "  </thead>\n",
       "  <tbody>\n",
       "    <tr>\n",
       "      <th>baz</th>\n",
       "      <th>two</th>\n",
       "      <td>-2.597763</td>\n",
       "      <td>-0.941213</td>\n",
       "      <td>0.452156</td>\n",
       "    </tr>\n",
       "    <tr>\n",
       "      <th rowspan=\"2\" valign=\"top\">foo</th>\n",
       "      <th>one</th>\n",
       "      <td>0.904136</td>\n",
       "      <td>0.177659</td>\n",
       "      <td>0.969994</td>\n",
       "    </tr>\n",
       "    <tr>\n",
       "      <th>two</th>\n",
       "      <td>0.079566</td>\n",
       "      <td>2.283450</td>\n",
       "      <td>-0.353649</td>\n",
       "    </tr>\n",
       "    <tr>\n",
       "      <th>qux</th>\n",
       "      <th>one</th>\n",
       "      <td>-0.192781</td>\n",
       "      <td>-0.344664</td>\n",
       "      <td>0.127216</td>\n",
       "    </tr>\n",
       "  </tbody>\n",
       "</table>\n",
       "</div>"
      ],
      "text/plain": [
       "                     A         B         C\n",
       "first second                              \n",
       "baz   two    -2.597763 -0.941213  0.452156\n",
       "foo   one     0.904136  0.177659  0.969994\n",
       "      two     0.079566  2.283450 -0.353649\n",
       "qux   one    -0.192781 -0.344664  0.127216"
      ]
     },
     "execution_count": 50,
     "metadata": {},
     "output_type": "execute_result"
    }
   ],
   "source": [
    "df.loc[(\"baz\", \"two\"):(\"qux\", \"one\")]"
   ]
  },
  {
   "cell_type": "code",
   "execution_count": 51,
   "id": "8c5021f0",
   "metadata": {},
   "outputs": [
    {
     "data": {
      "text/html": [
       "<div>\n",
       "<style scoped>\n",
       "    .dataframe tbody tr th:only-of-type {\n",
       "        vertical-align: middle;\n",
       "    }\n",
       "\n",
       "    .dataframe tbody tr th {\n",
       "        vertical-align: top;\n",
       "    }\n",
       "\n",
       "    .dataframe thead th {\n",
       "        text-align: right;\n",
       "    }\n",
       "</style>\n",
       "<table border=\"1\" class=\"dataframe\">\n",
       "  <thead>\n",
       "    <tr style=\"text-align: right;\">\n",
       "      <th></th>\n",
       "      <th></th>\n",
       "      <th>A</th>\n",
       "      <th>B</th>\n",
       "      <th>C</th>\n",
       "    </tr>\n",
       "    <tr>\n",
       "      <th>first</th>\n",
       "      <th>second</th>\n",
       "      <th></th>\n",
       "      <th></th>\n",
       "      <th></th>\n",
       "    </tr>\n",
       "  </thead>\n",
       "  <tbody>\n",
       "    <tr>\n",
       "      <th>baz</th>\n",
       "      <th>two</th>\n",
       "      <td>-2.597763</td>\n",
       "      <td>-0.941213</td>\n",
       "      <td>0.452156</td>\n",
       "    </tr>\n",
       "    <tr>\n",
       "      <th rowspan=\"2\" valign=\"top\">foo</th>\n",
       "      <th>one</th>\n",
       "      <td>0.904136</td>\n",
       "      <td>0.177659</td>\n",
       "      <td>0.969994</td>\n",
       "    </tr>\n",
       "    <tr>\n",
       "      <th>two</th>\n",
       "      <td>0.079566</td>\n",
       "      <td>2.283450</td>\n",
       "      <td>-0.353649</td>\n",
       "    </tr>\n",
       "  </tbody>\n",
       "</table>\n",
       "</div>"
      ],
      "text/plain": [
       "                     A         B         C\n",
       "first second                              \n",
       "baz   two    -2.597763 -0.941213  0.452156\n",
       "foo   one     0.904136  0.177659  0.969994\n",
       "      two     0.079566  2.283450 -0.353649"
      ]
     },
     "execution_count": 51,
     "metadata": {},
     "output_type": "execute_result"
    }
   ],
   "source": [
    "df.loc[(\"baz\", \"two\"):\"foo\"]"
   ]
  },
  {
   "cell_type": "code",
   "execution_count": 52,
   "id": "d4852876",
   "metadata": {},
   "outputs": [
    {
     "data": {
      "text/html": [
       "<div>\n",
       "<style scoped>\n",
       "    .dataframe tbody tr th:only-of-type {\n",
       "        vertical-align: middle;\n",
       "    }\n",
       "\n",
       "    .dataframe tbody tr th {\n",
       "        vertical-align: top;\n",
       "    }\n",
       "\n",
       "    .dataframe thead th {\n",
       "        text-align: right;\n",
       "    }\n",
       "</style>\n",
       "<table border=\"1\" class=\"dataframe\">\n",
       "  <thead>\n",
       "    <tr style=\"text-align: right;\">\n",
       "      <th></th>\n",
       "      <th></th>\n",
       "      <th>A</th>\n",
       "      <th>B</th>\n",
       "      <th>C</th>\n",
       "    </tr>\n",
       "    <tr>\n",
       "      <th>first</th>\n",
       "      <th>second</th>\n",
       "      <th></th>\n",
       "      <th></th>\n",
       "      <th></th>\n",
       "    </tr>\n",
       "  </thead>\n",
       "  <tbody>\n",
       "    <tr>\n",
       "      <th>bar</th>\n",
       "      <th>two</th>\n",
       "      <td>0.775524</td>\n",
       "      <td>0.047056</td>\n",
       "      <td>0.567498</td>\n",
       "    </tr>\n",
       "    <tr>\n",
       "      <th>qux</th>\n",
       "      <th>one</th>\n",
       "      <td>-0.192781</td>\n",
       "      <td>-0.344664</td>\n",
       "      <td>0.127216</td>\n",
       "    </tr>\n",
       "  </tbody>\n",
       "</table>\n",
       "</div>"
      ],
      "text/plain": [
       "                     A         B         C\n",
       "first second                              \n",
       "bar   two     0.775524  0.047056  0.567498\n",
       "qux   one    -0.192781 -0.344664  0.127216"
      ]
     },
     "execution_count": 52,
     "metadata": {},
     "output_type": "execute_result"
    }
   ],
   "source": [
    "df.loc[[(\"bar\", \"two\"), (\"qux\", \"one\")]]"
   ]
  },
  {
   "cell_type": "code",
   "execution_count": 53,
   "id": "d341a839",
   "metadata": {},
   "outputs": [
    {
     "data": {
      "text/plain": [
       "A  c    1\n",
       "   d    2\n",
       "   e    3\n",
       "B  c    4\n",
       "   d    5\n",
       "   e    6\n",
       "dtype: int64"
      ]
     },
     "execution_count": 53,
     "metadata": {},
     "output_type": "execute_result"
    }
   ],
   "source": [
    "s = pd.Series(\n",
    "\n",
    "    [1, 2, 3, 4, 5, 6],\n",
    "\n",
    "    index=pd.MultiIndex.from_product([[\"A\", \"B\"], [\"c\", \"d\", \"e\"]]),\n",
    "\n",
    ")\n",
    "\n",
    "s"
   ]
  },
  {
   "cell_type": "code",
   "execution_count": 54,
   "id": "2bdf457d",
   "metadata": {},
   "outputs": [
    {
     "data": {
      "text/plain": [
       "A  c    1\n",
       "B  d    5\n",
       "dtype: int64"
      ]
     },
     "execution_count": 54,
     "metadata": {},
     "output_type": "execute_result"
    }
   ],
   "source": [
    "s.loc[[(\"A\", \"c\"), (\"B\", \"d\")]]  # list of tuples"
   ]
  },
  {
   "cell_type": "code",
   "execution_count": 55,
   "id": "121ea1cc",
   "metadata": {},
   "outputs": [
    {
     "data": {
      "text/plain": [
       "A  c    1\n",
       "   d    2\n",
       "B  c    4\n",
       "   d    5\n",
       "dtype: int64"
      ]
     },
     "execution_count": 55,
     "metadata": {},
     "output_type": "execute_result"
    }
   ],
   "source": [
    "s.loc[([\"A\", \"B\"], [\"c\", \"d\"])]  # tuple of lists"
   ]
  },
  {
   "cell_type": "code",
   "execution_count": 56,
   "id": "79b117d5",
   "metadata": {},
   "outputs": [
    {
     "data": {
      "text/html": [
       "<div>\n",
       "<style scoped>\n",
       "    .dataframe tbody tr th:only-of-type {\n",
       "        vertical-align: middle;\n",
       "    }\n",
       "\n",
       "    .dataframe tbody tr th {\n",
       "        vertical-align: top;\n",
       "    }\n",
       "\n",
       "    .dataframe thead tr th {\n",
       "        text-align: left;\n",
       "    }\n",
       "</style>\n",
       "<table border=\"1\" class=\"dataframe\">\n",
       "  <thead>\n",
       "    <tr>\n",
       "      <th></th>\n",
       "      <th></th>\n",
       "      <th></th>\n",
       "      <th>lvl0</th>\n",
       "      <th colspan=\"2\" halign=\"left\">a</th>\n",
       "      <th colspan=\"2\" halign=\"left\">b</th>\n",
       "    </tr>\n",
       "    <tr>\n",
       "      <th></th>\n",
       "      <th></th>\n",
       "      <th></th>\n",
       "      <th>lvl1</th>\n",
       "      <th>bar</th>\n",
       "      <th>foo</th>\n",
       "      <th>bah</th>\n",
       "      <th>foo</th>\n",
       "    </tr>\n",
       "  </thead>\n",
       "  <tbody>\n",
       "    <tr>\n",
       "      <th rowspan=\"5\" valign=\"top\">A0</th>\n",
       "      <th rowspan=\"5\" valign=\"top\">B0</th>\n",
       "      <th rowspan=\"2\" valign=\"top\">C0</th>\n",
       "      <th>D0</th>\n",
       "      <td>1</td>\n",
       "      <td>0</td>\n",
       "      <td>3</td>\n",
       "      <td>2</td>\n",
       "    </tr>\n",
       "    <tr>\n",
       "      <th>D1</th>\n",
       "      <td>5</td>\n",
       "      <td>4</td>\n",
       "      <td>7</td>\n",
       "      <td>6</td>\n",
       "    </tr>\n",
       "    <tr>\n",
       "      <th rowspan=\"2\" valign=\"top\">C1</th>\n",
       "      <th>D0</th>\n",
       "      <td>9</td>\n",
       "      <td>8</td>\n",
       "      <td>11</td>\n",
       "      <td>10</td>\n",
       "    </tr>\n",
       "    <tr>\n",
       "      <th>D1</th>\n",
       "      <td>13</td>\n",
       "      <td>12</td>\n",
       "      <td>15</td>\n",
       "      <td>14</td>\n",
       "    </tr>\n",
       "    <tr>\n",
       "      <th>C2</th>\n",
       "      <th>D0</th>\n",
       "      <td>17</td>\n",
       "      <td>16</td>\n",
       "      <td>19</td>\n",
       "      <td>18</td>\n",
       "    </tr>\n",
       "    <tr>\n",
       "      <th>...</th>\n",
       "      <th>...</th>\n",
       "      <th>...</th>\n",
       "      <th>...</th>\n",
       "      <td>...</td>\n",
       "      <td>...</td>\n",
       "      <td>...</td>\n",
       "      <td>...</td>\n",
       "    </tr>\n",
       "    <tr>\n",
       "      <th rowspan=\"5\" valign=\"top\">A3</th>\n",
       "      <th rowspan=\"5\" valign=\"top\">B1</th>\n",
       "      <th>C1</th>\n",
       "      <th>D1</th>\n",
       "      <td>237</td>\n",
       "      <td>236</td>\n",
       "      <td>239</td>\n",
       "      <td>238</td>\n",
       "    </tr>\n",
       "    <tr>\n",
       "      <th rowspan=\"2\" valign=\"top\">C2</th>\n",
       "      <th>D0</th>\n",
       "      <td>241</td>\n",
       "      <td>240</td>\n",
       "      <td>243</td>\n",
       "      <td>242</td>\n",
       "    </tr>\n",
       "    <tr>\n",
       "      <th>D1</th>\n",
       "      <td>245</td>\n",
       "      <td>244</td>\n",
       "      <td>247</td>\n",
       "      <td>246</td>\n",
       "    </tr>\n",
       "    <tr>\n",
       "      <th rowspan=\"2\" valign=\"top\">C3</th>\n",
       "      <th>D0</th>\n",
       "      <td>249</td>\n",
       "      <td>248</td>\n",
       "      <td>251</td>\n",
       "      <td>250</td>\n",
       "    </tr>\n",
       "    <tr>\n",
       "      <th>D1</th>\n",
       "      <td>253</td>\n",
       "      <td>252</td>\n",
       "      <td>255</td>\n",
       "      <td>254</td>\n",
       "    </tr>\n",
       "  </tbody>\n",
       "</table>\n",
       "<p>64 rows × 4 columns</p>\n",
       "</div>"
      ],
      "text/plain": [
       "lvl0           a         b     \n",
       "lvl1         bar  foo  bah  foo\n",
       "A0 B0 C0 D0    1    0    3    2\n",
       "         D1    5    4    7    6\n",
       "      C1 D0    9    8   11   10\n",
       "         D1   13   12   15   14\n",
       "      C2 D0   17   16   19   18\n",
       "...          ...  ...  ...  ...\n",
       "A3 B1 C1 D1  237  236  239  238\n",
       "      C2 D0  241  240  243  242\n",
       "         D1  245  244  247  246\n",
       "      C3 D0  249  248  251  250\n",
       "         D1  253  252  255  254\n",
       "\n",
       "[64 rows x 4 columns]"
      ]
     },
     "execution_count": 56,
     "metadata": {},
     "output_type": "execute_result"
    }
   ],
   "source": [
    "def mklbl(prefix, n):\n",
    "\n",
    "    return [\"%s%s\" % (prefix, i) for i in range(n)]\n",
    "\n",
    "\n",
    "\n",
    "miindex = pd.MultiIndex.from_product(\n",
    "\n",
    "    [mklbl(\"A\", 4), mklbl(\"B\", 2), mklbl(\"C\", 4), mklbl(\"D\", 2)]\n",
    "\n",
    ")\n",
    "\n",
    "\n",
    "\n",
    "micolumns = pd.MultiIndex.from_tuples(\n",
    "\n",
    "    [(\"a\", \"foo\"), (\"a\", \"bar\"), (\"b\", \"foo\"), (\"b\", \"bah\")], names=[\"lvl0\", \"lvl1\"]\n",
    "\n",
    ")\n",
    "\n",
    "\n",
    "\n",
    "dfmi = (\n",
    "\n",
    "    pd.DataFrame(\n",
    "\n",
    "        np.arange(len(miindex) * len(micolumns)).reshape(\n",
    "\n",
    "            (len(miindex), len(micolumns))\n",
    "\n",
    "        ),\n",
    "\n",
    "        index=miindex,\n",
    "\n",
    "        columns=micolumns,\n",
    "\n",
    "    )\n",
    "\n",
    "    .sort_index()\n",
    "\n",
    "    .sort_index(axis=1)\n",
    "\n",
    ")\n",
    "\n",
    "\n",
    "\n",
    "dfmi"
   ]
  },
  {
   "cell_type": "code",
   "execution_count": 57,
   "id": "4c260ce1",
   "metadata": {},
   "outputs": [
    {
     "data": {
      "text/html": [
       "<div>\n",
       "<style scoped>\n",
       "    .dataframe tbody tr th:only-of-type {\n",
       "        vertical-align: middle;\n",
       "    }\n",
       "\n",
       "    .dataframe tbody tr th {\n",
       "        vertical-align: top;\n",
       "    }\n",
       "\n",
       "    .dataframe thead tr th {\n",
       "        text-align: left;\n",
       "    }\n",
       "</style>\n",
       "<table border=\"1\" class=\"dataframe\">\n",
       "  <thead>\n",
       "    <tr>\n",
       "      <th></th>\n",
       "      <th></th>\n",
       "      <th></th>\n",
       "      <th>lvl0</th>\n",
       "      <th colspan=\"2\" halign=\"left\">a</th>\n",
       "      <th colspan=\"2\" halign=\"left\">b</th>\n",
       "    </tr>\n",
       "    <tr>\n",
       "      <th></th>\n",
       "      <th></th>\n",
       "      <th></th>\n",
       "      <th>lvl1</th>\n",
       "      <th>bar</th>\n",
       "      <th>foo</th>\n",
       "      <th>bah</th>\n",
       "      <th>foo</th>\n",
       "    </tr>\n",
       "  </thead>\n",
       "  <tbody>\n",
       "    <tr>\n",
       "      <th rowspan=\"8\" valign=\"top\">A1</th>\n",
       "      <th rowspan=\"4\" valign=\"top\">B0</th>\n",
       "      <th rowspan=\"2\" valign=\"top\">C1</th>\n",
       "      <th>D0</th>\n",
       "      <td>73</td>\n",
       "      <td>72</td>\n",
       "      <td>75</td>\n",
       "      <td>74</td>\n",
       "    </tr>\n",
       "    <tr>\n",
       "      <th>D1</th>\n",
       "      <td>77</td>\n",
       "      <td>76</td>\n",
       "      <td>79</td>\n",
       "      <td>78</td>\n",
       "    </tr>\n",
       "    <tr>\n",
       "      <th rowspan=\"2\" valign=\"top\">C3</th>\n",
       "      <th>D0</th>\n",
       "      <td>89</td>\n",
       "      <td>88</td>\n",
       "      <td>91</td>\n",
       "      <td>90</td>\n",
       "    </tr>\n",
       "    <tr>\n",
       "      <th>D1</th>\n",
       "      <td>93</td>\n",
       "      <td>92</td>\n",
       "      <td>95</td>\n",
       "      <td>94</td>\n",
       "    </tr>\n",
       "    <tr>\n",
       "      <th rowspan=\"4\" valign=\"top\">B1</th>\n",
       "      <th rowspan=\"2\" valign=\"top\">C1</th>\n",
       "      <th>D0</th>\n",
       "      <td>105</td>\n",
       "      <td>104</td>\n",
       "      <td>107</td>\n",
       "      <td>106</td>\n",
       "    </tr>\n",
       "    <tr>\n",
       "      <th>D1</th>\n",
       "      <td>109</td>\n",
       "      <td>108</td>\n",
       "      <td>111</td>\n",
       "      <td>110</td>\n",
       "    </tr>\n",
       "    <tr>\n",
       "      <th rowspan=\"2\" valign=\"top\">C3</th>\n",
       "      <th>D0</th>\n",
       "      <td>121</td>\n",
       "      <td>120</td>\n",
       "      <td>123</td>\n",
       "      <td>122</td>\n",
       "    </tr>\n",
       "    <tr>\n",
       "      <th>D1</th>\n",
       "      <td>125</td>\n",
       "      <td>124</td>\n",
       "      <td>127</td>\n",
       "      <td>126</td>\n",
       "    </tr>\n",
       "    <tr>\n",
       "      <th rowspan=\"8\" valign=\"top\">A2</th>\n",
       "      <th rowspan=\"4\" valign=\"top\">B0</th>\n",
       "      <th rowspan=\"2\" valign=\"top\">C1</th>\n",
       "      <th>D0</th>\n",
       "      <td>137</td>\n",
       "      <td>136</td>\n",
       "      <td>139</td>\n",
       "      <td>138</td>\n",
       "    </tr>\n",
       "    <tr>\n",
       "      <th>D1</th>\n",
       "      <td>141</td>\n",
       "      <td>140</td>\n",
       "      <td>143</td>\n",
       "      <td>142</td>\n",
       "    </tr>\n",
       "    <tr>\n",
       "      <th rowspan=\"2\" valign=\"top\">C3</th>\n",
       "      <th>D0</th>\n",
       "      <td>153</td>\n",
       "      <td>152</td>\n",
       "      <td>155</td>\n",
       "      <td>154</td>\n",
       "    </tr>\n",
       "    <tr>\n",
       "      <th>D1</th>\n",
       "      <td>157</td>\n",
       "      <td>156</td>\n",
       "      <td>159</td>\n",
       "      <td>158</td>\n",
       "    </tr>\n",
       "    <tr>\n",
       "      <th rowspan=\"4\" valign=\"top\">B1</th>\n",
       "      <th rowspan=\"2\" valign=\"top\">C1</th>\n",
       "      <th>D0</th>\n",
       "      <td>169</td>\n",
       "      <td>168</td>\n",
       "      <td>171</td>\n",
       "      <td>170</td>\n",
       "    </tr>\n",
       "    <tr>\n",
       "      <th>D1</th>\n",
       "      <td>173</td>\n",
       "      <td>172</td>\n",
       "      <td>175</td>\n",
       "      <td>174</td>\n",
       "    </tr>\n",
       "    <tr>\n",
       "      <th rowspan=\"2\" valign=\"top\">C3</th>\n",
       "      <th>D0</th>\n",
       "      <td>185</td>\n",
       "      <td>184</td>\n",
       "      <td>187</td>\n",
       "      <td>186</td>\n",
       "    </tr>\n",
       "    <tr>\n",
       "      <th>D1</th>\n",
       "      <td>189</td>\n",
       "      <td>188</td>\n",
       "      <td>191</td>\n",
       "      <td>190</td>\n",
       "    </tr>\n",
       "    <tr>\n",
       "      <th rowspan=\"8\" valign=\"top\">A3</th>\n",
       "      <th rowspan=\"4\" valign=\"top\">B0</th>\n",
       "      <th rowspan=\"2\" valign=\"top\">C1</th>\n",
       "      <th>D0</th>\n",
       "      <td>201</td>\n",
       "      <td>200</td>\n",
       "      <td>203</td>\n",
       "      <td>202</td>\n",
       "    </tr>\n",
       "    <tr>\n",
       "      <th>D1</th>\n",
       "      <td>205</td>\n",
       "      <td>204</td>\n",
       "      <td>207</td>\n",
       "      <td>206</td>\n",
       "    </tr>\n",
       "    <tr>\n",
       "      <th rowspan=\"2\" valign=\"top\">C3</th>\n",
       "      <th>D0</th>\n",
       "      <td>217</td>\n",
       "      <td>216</td>\n",
       "      <td>219</td>\n",
       "      <td>218</td>\n",
       "    </tr>\n",
       "    <tr>\n",
       "      <th>D1</th>\n",
       "      <td>221</td>\n",
       "      <td>220</td>\n",
       "      <td>223</td>\n",
       "      <td>222</td>\n",
       "    </tr>\n",
       "    <tr>\n",
       "      <th rowspan=\"4\" valign=\"top\">B1</th>\n",
       "      <th rowspan=\"2\" valign=\"top\">C1</th>\n",
       "      <th>D0</th>\n",
       "      <td>233</td>\n",
       "      <td>232</td>\n",
       "      <td>235</td>\n",
       "      <td>234</td>\n",
       "    </tr>\n",
       "    <tr>\n",
       "      <th>D1</th>\n",
       "      <td>237</td>\n",
       "      <td>236</td>\n",
       "      <td>239</td>\n",
       "      <td>238</td>\n",
       "    </tr>\n",
       "    <tr>\n",
       "      <th rowspan=\"2\" valign=\"top\">C3</th>\n",
       "      <th>D0</th>\n",
       "      <td>249</td>\n",
       "      <td>248</td>\n",
       "      <td>251</td>\n",
       "      <td>250</td>\n",
       "    </tr>\n",
       "    <tr>\n",
       "      <th>D1</th>\n",
       "      <td>253</td>\n",
       "      <td>252</td>\n",
       "      <td>255</td>\n",
       "      <td>254</td>\n",
       "    </tr>\n",
       "  </tbody>\n",
       "</table>\n",
       "</div>"
      ],
      "text/plain": [
       "lvl0           a         b     \n",
       "lvl1         bar  foo  bah  foo\n",
       "A1 B0 C1 D0   73   72   75   74\n",
       "         D1   77   76   79   78\n",
       "      C3 D0   89   88   91   90\n",
       "         D1   93   92   95   94\n",
       "   B1 C1 D0  105  104  107  106\n",
       "         D1  109  108  111  110\n",
       "      C3 D0  121  120  123  122\n",
       "         D1  125  124  127  126\n",
       "A2 B0 C1 D0  137  136  139  138\n",
       "         D1  141  140  143  142\n",
       "      C3 D0  153  152  155  154\n",
       "         D1  157  156  159  158\n",
       "   B1 C1 D0  169  168  171  170\n",
       "         D1  173  172  175  174\n",
       "      C3 D0  185  184  187  186\n",
       "         D1  189  188  191  190\n",
       "A3 B0 C1 D0  201  200  203  202\n",
       "         D1  205  204  207  206\n",
       "      C3 D0  217  216  219  218\n",
       "         D1  221  220  223  222\n",
       "   B1 C1 D0  233  232  235  234\n",
       "         D1  237  236  239  238\n",
       "      C3 D0  249  248  251  250\n",
       "         D1  253  252  255  254"
      ]
     },
     "execution_count": 57,
     "metadata": {},
     "output_type": "execute_result"
    }
   ],
   "source": [
    "dfmi.loc[(slice(\"A1\", \"A3\"), slice(None), [\"C1\", \"C3\"]), :]"
   ]
  },
  {
   "cell_type": "code",
   "execution_count": 59,
   "id": "81e449cd",
   "metadata": {},
   "outputs": [
    {
     "data": {
      "text/html": [
       "<div>\n",
       "<style scoped>\n",
       "    .dataframe tbody tr th:only-of-type {\n",
       "        vertical-align: middle;\n",
       "    }\n",
       "\n",
       "    .dataframe tbody tr th {\n",
       "        vertical-align: top;\n",
       "    }\n",
       "\n",
       "    .dataframe thead tr th {\n",
       "        text-align: left;\n",
       "    }\n",
       "</style>\n",
       "<table border=\"1\" class=\"dataframe\">\n",
       "  <thead>\n",
       "    <tr>\n",
       "      <th></th>\n",
       "      <th></th>\n",
       "      <th></th>\n",
       "      <th>lvl0</th>\n",
       "      <th colspan=\"2\" halign=\"left\">a</th>\n",
       "      <th colspan=\"2\" halign=\"left\">b</th>\n",
       "    </tr>\n",
       "    <tr>\n",
       "      <th></th>\n",
       "      <th></th>\n",
       "      <th></th>\n",
       "      <th>lvl1</th>\n",
       "      <th>bar</th>\n",
       "      <th>foo</th>\n",
       "      <th>bah</th>\n",
       "      <th>foo</th>\n",
       "    </tr>\n",
       "  </thead>\n",
       "  <tbody>\n",
       "    <tr>\n",
       "      <th rowspan=\"8\" valign=\"top\">A1</th>\n",
       "      <th rowspan=\"4\" valign=\"top\">B0</th>\n",
       "      <th rowspan=\"2\" valign=\"top\">C1</th>\n",
       "      <th>D0</th>\n",
       "      <td>73</td>\n",
       "      <td>72</td>\n",
       "      <td>75</td>\n",
       "      <td>74</td>\n",
       "    </tr>\n",
       "    <tr>\n",
       "      <th>D1</th>\n",
       "      <td>77</td>\n",
       "      <td>76</td>\n",
       "      <td>79</td>\n",
       "      <td>78</td>\n",
       "    </tr>\n",
       "    <tr>\n",
       "      <th rowspan=\"2\" valign=\"top\">C3</th>\n",
       "      <th>D0</th>\n",
       "      <td>89</td>\n",
       "      <td>88</td>\n",
       "      <td>91</td>\n",
       "      <td>90</td>\n",
       "    </tr>\n",
       "    <tr>\n",
       "      <th>D1</th>\n",
       "      <td>93</td>\n",
       "      <td>92</td>\n",
       "      <td>95</td>\n",
       "      <td>94</td>\n",
       "    </tr>\n",
       "    <tr>\n",
       "      <th rowspan=\"4\" valign=\"top\">B1</th>\n",
       "      <th rowspan=\"2\" valign=\"top\">C1</th>\n",
       "      <th>D0</th>\n",
       "      <td>105</td>\n",
       "      <td>104</td>\n",
       "      <td>107</td>\n",
       "      <td>106</td>\n",
       "    </tr>\n",
       "    <tr>\n",
       "      <th>D1</th>\n",
       "      <td>109</td>\n",
       "      <td>108</td>\n",
       "      <td>111</td>\n",
       "      <td>110</td>\n",
       "    </tr>\n",
       "    <tr>\n",
       "      <th rowspan=\"2\" valign=\"top\">C3</th>\n",
       "      <th>D0</th>\n",
       "      <td>121</td>\n",
       "      <td>120</td>\n",
       "      <td>123</td>\n",
       "      <td>122</td>\n",
       "    </tr>\n",
       "    <tr>\n",
       "      <th>D1</th>\n",
       "      <td>125</td>\n",
       "      <td>124</td>\n",
       "      <td>127</td>\n",
       "      <td>126</td>\n",
       "    </tr>\n",
       "    <tr>\n",
       "      <th rowspan=\"8\" valign=\"top\">A2</th>\n",
       "      <th rowspan=\"4\" valign=\"top\">B0</th>\n",
       "      <th rowspan=\"2\" valign=\"top\">C1</th>\n",
       "      <th>D0</th>\n",
       "      <td>137</td>\n",
       "      <td>136</td>\n",
       "      <td>139</td>\n",
       "      <td>138</td>\n",
       "    </tr>\n",
       "    <tr>\n",
       "      <th>D1</th>\n",
       "      <td>141</td>\n",
       "      <td>140</td>\n",
       "      <td>143</td>\n",
       "      <td>142</td>\n",
       "    </tr>\n",
       "    <tr>\n",
       "      <th rowspan=\"2\" valign=\"top\">C3</th>\n",
       "      <th>D0</th>\n",
       "      <td>153</td>\n",
       "      <td>152</td>\n",
       "      <td>155</td>\n",
       "      <td>154</td>\n",
       "    </tr>\n",
       "    <tr>\n",
       "      <th>D1</th>\n",
       "      <td>157</td>\n",
       "      <td>156</td>\n",
       "      <td>159</td>\n",
       "      <td>158</td>\n",
       "    </tr>\n",
       "    <tr>\n",
       "      <th rowspan=\"4\" valign=\"top\">B1</th>\n",
       "      <th rowspan=\"2\" valign=\"top\">C1</th>\n",
       "      <th>D0</th>\n",
       "      <td>169</td>\n",
       "      <td>168</td>\n",
       "      <td>171</td>\n",
       "      <td>170</td>\n",
       "    </tr>\n",
       "    <tr>\n",
       "      <th>D1</th>\n",
       "      <td>173</td>\n",
       "      <td>172</td>\n",
       "      <td>175</td>\n",
       "      <td>174</td>\n",
       "    </tr>\n",
       "    <tr>\n",
       "      <th rowspan=\"2\" valign=\"top\">C3</th>\n",
       "      <th>D0</th>\n",
       "      <td>185</td>\n",
       "      <td>184</td>\n",
       "      <td>187</td>\n",
       "      <td>186</td>\n",
       "    </tr>\n",
       "    <tr>\n",
       "      <th>D1</th>\n",
       "      <td>189</td>\n",
       "      <td>188</td>\n",
       "      <td>191</td>\n",
       "      <td>190</td>\n",
       "    </tr>\n",
       "    <tr>\n",
       "      <th rowspan=\"8\" valign=\"top\">A3</th>\n",
       "      <th rowspan=\"4\" valign=\"top\">B0</th>\n",
       "      <th rowspan=\"2\" valign=\"top\">C1</th>\n",
       "      <th>D0</th>\n",
       "      <td>201</td>\n",
       "      <td>200</td>\n",
       "      <td>203</td>\n",
       "      <td>202</td>\n",
       "    </tr>\n",
       "    <tr>\n",
       "      <th>D1</th>\n",
       "      <td>205</td>\n",
       "      <td>204</td>\n",
       "      <td>207</td>\n",
       "      <td>206</td>\n",
       "    </tr>\n",
       "    <tr>\n",
       "      <th rowspan=\"2\" valign=\"top\">C3</th>\n",
       "      <th>D0</th>\n",
       "      <td>217</td>\n",
       "      <td>216</td>\n",
       "      <td>219</td>\n",
       "      <td>218</td>\n",
       "    </tr>\n",
       "    <tr>\n",
       "      <th>D1</th>\n",
       "      <td>221</td>\n",
       "      <td>220</td>\n",
       "      <td>223</td>\n",
       "      <td>222</td>\n",
       "    </tr>\n",
       "    <tr>\n",
       "      <th rowspan=\"4\" valign=\"top\">B1</th>\n",
       "      <th rowspan=\"2\" valign=\"top\">C1</th>\n",
       "      <th>D0</th>\n",
       "      <td>233</td>\n",
       "      <td>232</td>\n",
       "      <td>235</td>\n",
       "      <td>234</td>\n",
       "    </tr>\n",
       "    <tr>\n",
       "      <th>D1</th>\n",
       "      <td>237</td>\n",
       "      <td>236</td>\n",
       "      <td>239</td>\n",
       "      <td>238</td>\n",
       "    </tr>\n",
       "    <tr>\n",
       "      <th rowspan=\"2\" valign=\"top\">C3</th>\n",
       "      <th>D0</th>\n",
       "      <td>249</td>\n",
       "      <td>248</td>\n",
       "      <td>251</td>\n",
       "      <td>250</td>\n",
       "    </tr>\n",
       "    <tr>\n",
       "      <th>D1</th>\n",
       "      <td>253</td>\n",
       "      <td>252</td>\n",
       "      <td>255</td>\n",
       "      <td>254</td>\n",
       "    </tr>\n",
       "  </tbody>\n",
       "</table>\n",
       "</div>"
      ],
      "text/plain": [
       "lvl0           a         b     \n",
       "lvl1         bar  foo  bah  foo\n",
       "A1 B0 C1 D0   73   72   75   74\n",
       "         D1   77   76   79   78\n",
       "      C3 D0   89   88   91   90\n",
       "         D1   93   92   95   94\n",
       "   B1 C1 D0  105  104  107  106\n",
       "         D1  109  108  111  110\n",
       "      C3 D0  121  120  123  122\n",
       "         D1  125  124  127  126\n",
       "A2 B0 C1 D0  137  136  139  138\n",
       "         D1  141  140  143  142\n",
       "      C3 D0  153  152  155  154\n",
       "         D1  157  156  159  158\n",
       "   B1 C1 D0  169  168  171  170\n",
       "         D1  173  172  175  174\n",
       "      C3 D0  185  184  187  186\n",
       "         D1  189  188  191  190\n",
       "A3 B0 C1 D0  201  200  203  202\n",
       "         D1  205  204  207  206\n",
       "      C3 D0  217  216  219  218\n",
       "         D1  221  220  223  222\n",
       "   B1 C1 D0  233  232  235  234\n",
       "         D1  237  236  239  238\n",
       "      C3 D0  249  248  251  250\n",
       "         D1  253  252  255  254"
      ]
     },
     "execution_count": 59,
     "metadata": {},
     "output_type": "execute_result"
    }
   ],
   "source": [
    "idx = pd.IndexSlice\n",
    "\n",
    "# This will give the same result as:\n",
    "# dfmi.loc[(slice(\"A1\", \"A3\"), slice(None), [\"C1\", \"C3\"]), :]\n",
    "\n",
    "dfmi.loc[idx[\"A1\":\"A3\", :, [\"C1\", \"C3\"]], :]"
   ]
  },
  {
   "cell_type": "code",
   "execution_count": 58,
   "id": "f06ed347",
   "metadata": {},
   "outputs": [
    {
     "data": {
      "text/html": [
       "<div>\n",
       "<style scoped>\n",
       "    .dataframe tbody tr th:only-of-type {\n",
       "        vertical-align: middle;\n",
       "    }\n",
       "\n",
       "    .dataframe tbody tr th {\n",
       "        vertical-align: top;\n",
       "    }\n",
       "\n",
       "    .dataframe thead tr th {\n",
       "        text-align: left;\n",
       "    }\n",
       "</style>\n",
       "<table border=\"1\" class=\"dataframe\">\n",
       "  <thead>\n",
       "    <tr>\n",
       "      <th></th>\n",
       "      <th></th>\n",
       "      <th></th>\n",
       "      <th>lvl0</th>\n",
       "      <th>a</th>\n",
       "      <th>b</th>\n",
       "    </tr>\n",
       "    <tr>\n",
       "      <th></th>\n",
       "      <th></th>\n",
       "      <th></th>\n",
       "      <th>lvl1</th>\n",
       "      <th>foo</th>\n",
       "      <th>foo</th>\n",
       "    </tr>\n",
       "  </thead>\n",
       "  <tbody>\n",
       "    <tr>\n",
       "      <th rowspan=\"8\" valign=\"top\">A0</th>\n",
       "      <th rowspan=\"4\" valign=\"top\">B0</th>\n",
       "      <th rowspan=\"2\" valign=\"top\">C1</th>\n",
       "      <th>D0</th>\n",
       "      <td>8</td>\n",
       "      <td>10</td>\n",
       "    </tr>\n",
       "    <tr>\n",
       "      <th>D1</th>\n",
       "      <td>12</td>\n",
       "      <td>14</td>\n",
       "    </tr>\n",
       "    <tr>\n",
       "      <th rowspan=\"2\" valign=\"top\">C3</th>\n",
       "      <th>D0</th>\n",
       "      <td>24</td>\n",
       "      <td>26</td>\n",
       "    </tr>\n",
       "    <tr>\n",
       "      <th>D1</th>\n",
       "      <td>28</td>\n",
       "      <td>30</td>\n",
       "    </tr>\n",
       "    <tr>\n",
       "      <th rowspan=\"4\" valign=\"top\">B1</th>\n",
       "      <th rowspan=\"2\" valign=\"top\">C1</th>\n",
       "      <th>D0</th>\n",
       "      <td>40</td>\n",
       "      <td>42</td>\n",
       "    </tr>\n",
       "    <tr>\n",
       "      <th>D1</th>\n",
       "      <td>44</td>\n",
       "      <td>46</td>\n",
       "    </tr>\n",
       "    <tr>\n",
       "      <th rowspan=\"2\" valign=\"top\">C3</th>\n",
       "      <th>D0</th>\n",
       "      <td>56</td>\n",
       "      <td>58</td>\n",
       "    </tr>\n",
       "    <tr>\n",
       "      <th>D1</th>\n",
       "      <td>60</td>\n",
       "      <td>62</td>\n",
       "    </tr>\n",
       "    <tr>\n",
       "      <th rowspan=\"8\" valign=\"top\">A1</th>\n",
       "      <th rowspan=\"4\" valign=\"top\">B0</th>\n",
       "      <th rowspan=\"2\" valign=\"top\">C1</th>\n",
       "      <th>D0</th>\n",
       "      <td>72</td>\n",
       "      <td>74</td>\n",
       "    </tr>\n",
       "    <tr>\n",
       "      <th>D1</th>\n",
       "      <td>76</td>\n",
       "      <td>78</td>\n",
       "    </tr>\n",
       "    <tr>\n",
       "      <th rowspan=\"2\" valign=\"top\">C3</th>\n",
       "      <th>D0</th>\n",
       "      <td>88</td>\n",
       "      <td>90</td>\n",
       "    </tr>\n",
       "    <tr>\n",
       "      <th>D1</th>\n",
       "      <td>92</td>\n",
       "      <td>94</td>\n",
       "    </tr>\n",
       "    <tr>\n",
       "      <th rowspan=\"4\" valign=\"top\">B1</th>\n",
       "      <th rowspan=\"2\" valign=\"top\">C1</th>\n",
       "      <th>D0</th>\n",
       "      <td>104</td>\n",
       "      <td>106</td>\n",
       "    </tr>\n",
       "    <tr>\n",
       "      <th>D1</th>\n",
       "      <td>108</td>\n",
       "      <td>110</td>\n",
       "    </tr>\n",
       "    <tr>\n",
       "      <th rowspan=\"2\" valign=\"top\">C3</th>\n",
       "      <th>D0</th>\n",
       "      <td>120</td>\n",
       "      <td>122</td>\n",
       "    </tr>\n",
       "    <tr>\n",
       "      <th>D1</th>\n",
       "      <td>124</td>\n",
       "      <td>126</td>\n",
       "    </tr>\n",
       "    <tr>\n",
       "      <th rowspan=\"8\" valign=\"top\">A2</th>\n",
       "      <th rowspan=\"4\" valign=\"top\">B0</th>\n",
       "      <th rowspan=\"2\" valign=\"top\">C1</th>\n",
       "      <th>D0</th>\n",
       "      <td>136</td>\n",
       "      <td>138</td>\n",
       "    </tr>\n",
       "    <tr>\n",
       "      <th>D1</th>\n",
       "      <td>140</td>\n",
       "      <td>142</td>\n",
       "    </tr>\n",
       "    <tr>\n",
       "      <th rowspan=\"2\" valign=\"top\">C3</th>\n",
       "      <th>D0</th>\n",
       "      <td>152</td>\n",
       "      <td>154</td>\n",
       "    </tr>\n",
       "    <tr>\n",
       "      <th>D1</th>\n",
       "      <td>156</td>\n",
       "      <td>158</td>\n",
       "    </tr>\n",
       "    <tr>\n",
       "      <th rowspan=\"4\" valign=\"top\">B1</th>\n",
       "      <th rowspan=\"2\" valign=\"top\">C1</th>\n",
       "      <th>D0</th>\n",
       "      <td>168</td>\n",
       "      <td>170</td>\n",
       "    </tr>\n",
       "    <tr>\n",
       "      <th>D1</th>\n",
       "      <td>172</td>\n",
       "      <td>174</td>\n",
       "    </tr>\n",
       "    <tr>\n",
       "      <th rowspan=\"2\" valign=\"top\">C3</th>\n",
       "      <th>D0</th>\n",
       "      <td>184</td>\n",
       "      <td>186</td>\n",
       "    </tr>\n",
       "    <tr>\n",
       "      <th>D1</th>\n",
       "      <td>188</td>\n",
       "      <td>190</td>\n",
       "    </tr>\n",
       "    <tr>\n",
       "      <th rowspan=\"8\" valign=\"top\">A3</th>\n",
       "      <th rowspan=\"4\" valign=\"top\">B0</th>\n",
       "      <th rowspan=\"2\" valign=\"top\">C1</th>\n",
       "      <th>D0</th>\n",
       "      <td>200</td>\n",
       "      <td>202</td>\n",
       "    </tr>\n",
       "    <tr>\n",
       "      <th>D1</th>\n",
       "      <td>204</td>\n",
       "      <td>206</td>\n",
       "    </tr>\n",
       "    <tr>\n",
       "      <th rowspan=\"2\" valign=\"top\">C3</th>\n",
       "      <th>D0</th>\n",
       "      <td>216</td>\n",
       "      <td>218</td>\n",
       "    </tr>\n",
       "    <tr>\n",
       "      <th>D1</th>\n",
       "      <td>220</td>\n",
       "      <td>222</td>\n",
       "    </tr>\n",
       "    <tr>\n",
       "      <th rowspan=\"4\" valign=\"top\">B1</th>\n",
       "      <th rowspan=\"2\" valign=\"top\">C1</th>\n",
       "      <th>D0</th>\n",
       "      <td>232</td>\n",
       "      <td>234</td>\n",
       "    </tr>\n",
       "    <tr>\n",
       "      <th>D1</th>\n",
       "      <td>236</td>\n",
       "      <td>238</td>\n",
       "    </tr>\n",
       "    <tr>\n",
       "      <th rowspan=\"2\" valign=\"top\">C3</th>\n",
       "      <th>D0</th>\n",
       "      <td>248</td>\n",
       "      <td>250</td>\n",
       "    </tr>\n",
       "    <tr>\n",
       "      <th>D1</th>\n",
       "      <td>252</td>\n",
       "      <td>254</td>\n",
       "    </tr>\n",
       "  </tbody>\n",
       "</table>\n",
       "</div>"
      ],
      "text/plain": [
       "lvl0           a    b\n",
       "lvl1         foo  foo\n",
       "A0 B0 C1 D0    8   10\n",
       "         D1   12   14\n",
       "      C3 D0   24   26\n",
       "         D1   28   30\n",
       "   B1 C1 D0   40   42\n",
       "         D1   44   46\n",
       "      C3 D0   56   58\n",
       "         D1   60   62\n",
       "A1 B0 C1 D0   72   74\n",
       "         D1   76   78\n",
       "      C3 D0   88   90\n",
       "         D1   92   94\n",
       "   B1 C1 D0  104  106\n",
       "         D1  108  110\n",
       "      C3 D0  120  122\n",
       "         D1  124  126\n",
       "A2 B0 C1 D0  136  138\n",
       "         D1  140  142\n",
       "      C3 D0  152  154\n",
       "         D1  156  158\n",
       "   B1 C1 D0  168  170\n",
       "         D1  172  174\n",
       "      C3 D0  184  186\n",
       "         D1  188  190\n",
       "A3 B0 C1 D0  200  202\n",
       "         D1  204  206\n",
       "      C3 D0  216  218\n",
       "         D1  220  222\n",
       "   B1 C1 D0  232  234\n",
       "         D1  236  238\n",
       "      C3 D0  248  250\n",
       "         D1  252  254"
      ]
     },
     "execution_count": 58,
     "metadata": {},
     "output_type": "execute_result"
    }
   ],
   "source": [
    "idx = pd.IndexSlice\n",
    "\n",
    "dfmi.loc[idx[:, :, [\"C1\", \"C3\"]], idx[:, \"foo\"]]"
   ]
  },
  {
   "cell_type": "code",
   "execution_count": 60,
   "id": "4be610e8",
   "metadata": {},
   "outputs": [
    {
     "data": {
      "text/html": [
       "<div>\n",
       "<style scoped>\n",
       "    .dataframe tbody tr th:only-of-type {\n",
       "        vertical-align: middle;\n",
       "    }\n",
       "\n",
       "    .dataframe tbody tr th {\n",
       "        vertical-align: top;\n",
       "    }\n",
       "\n",
       "    .dataframe thead tr th {\n",
       "        text-align: left;\n",
       "    }\n",
       "</style>\n",
       "<table border=\"1\" class=\"dataframe\">\n",
       "  <thead>\n",
       "    <tr>\n",
       "      <th></th>\n",
       "      <th></th>\n",
       "      <th>lvl0</th>\n",
       "      <th>a</th>\n",
       "      <th>b</th>\n",
       "    </tr>\n",
       "    <tr>\n",
       "      <th></th>\n",
       "      <th></th>\n",
       "      <th>lvl1</th>\n",
       "      <th>foo</th>\n",
       "      <th>foo</th>\n",
       "    </tr>\n",
       "  </thead>\n",
       "  <tbody>\n",
       "    <tr>\n",
       "      <th rowspan=\"8\" valign=\"top\">B0</th>\n",
       "      <th rowspan=\"2\" valign=\"top\">C0</th>\n",
       "      <th>D0</th>\n",
       "      <td>64</td>\n",
       "      <td>66</td>\n",
       "    </tr>\n",
       "    <tr>\n",
       "      <th>D1</th>\n",
       "      <td>68</td>\n",
       "      <td>70</td>\n",
       "    </tr>\n",
       "    <tr>\n",
       "      <th rowspan=\"2\" valign=\"top\">C1</th>\n",
       "      <th>D0</th>\n",
       "      <td>72</td>\n",
       "      <td>74</td>\n",
       "    </tr>\n",
       "    <tr>\n",
       "      <th>D1</th>\n",
       "      <td>76</td>\n",
       "      <td>78</td>\n",
       "    </tr>\n",
       "    <tr>\n",
       "      <th rowspan=\"2\" valign=\"top\">C2</th>\n",
       "      <th>D0</th>\n",
       "      <td>80</td>\n",
       "      <td>82</td>\n",
       "    </tr>\n",
       "    <tr>\n",
       "      <th>D1</th>\n",
       "      <td>84</td>\n",
       "      <td>86</td>\n",
       "    </tr>\n",
       "    <tr>\n",
       "      <th rowspan=\"2\" valign=\"top\">C3</th>\n",
       "      <th>D0</th>\n",
       "      <td>88</td>\n",
       "      <td>90</td>\n",
       "    </tr>\n",
       "    <tr>\n",
       "      <th>D1</th>\n",
       "      <td>92</td>\n",
       "      <td>94</td>\n",
       "    </tr>\n",
       "    <tr>\n",
       "      <th rowspan=\"8\" valign=\"top\">B1</th>\n",
       "      <th rowspan=\"2\" valign=\"top\">C0</th>\n",
       "      <th>D0</th>\n",
       "      <td>96</td>\n",
       "      <td>98</td>\n",
       "    </tr>\n",
       "    <tr>\n",
       "      <th>D1</th>\n",
       "      <td>100</td>\n",
       "      <td>102</td>\n",
       "    </tr>\n",
       "    <tr>\n",
       "      <th rowspan=\"2\" valign=\"top\">C1</th>\n",
       "      <th>D0</th>\n",
       "      <td>104</td>\n",
       "      <td>106</td>\n",
       "    </tr>\n",
       "    <tr>\n",
       "      <th>D1</th>\n",
       "      <td>108</td>\n",
       "      <td>110</td>\n",
       "    </tr>\n",
       "    <tr>\n",
       "      <th rowspan=\"2\" valign=\"top\">C2</th>\n",
       "      <th>D0</th>\n",
       "      <td>112</td>\n",
       "      <td>114</td>\n",
       "    </tr>\n",
       "    <tr>\n",
       "      <th>D1</th>\n",
       "      <td>116</td>\n",
       "      <td>118</td>\n",
       "    </tr>\n",
       "    <tr>\n",
       "      <th rowspan=\"2\" valign=\"top\">C3</th>\n",
       "      <th>D0</th>\n",
       "      <td>120</td>\n",
       "      <td>122</td>\n",
       "    </tr>\n",
       "    <tr>\n",
       "      <th>D1</th>\n",
       "      <td>124</td>\n",
       "      <td>126</td>\n",
       "    </tr>\n",
       "  </tbody>\n",
       "</table>\n",
       "</div>"
      ],
      "text/plain": [
       "lvl0        a    b\n",
       "lvl1      foo  foo\n",
       "B0 C0 D0   64   66\n",
       "      D1   68   70\n",
       "   C1 D0   72   74\n",
       "      D1   76   78\n",
       "   C2 D0   80   82\n",
       "      D1   84   86\n",
       "   C3 D0   88   90\n",
       "      D1   92   94\n",
       "B1 C0 D0   96   98\n",
       "      D1  100  102\n",
       "   C1 D0  104  106\n",
       "      D1  108  110\n",
       "   C2 D0  112  114\n",
       "      D1  116  118\n",
       "   C3 D0  120  122\n",
       "      D1  124  126"
      ]
     },
     "execution_count": 60,
     "metadata": {},
     "output_type": "execute_result"
    }
   ],
   "source": [
    "dfmi.loc[\"A1\", (slice(None), \"foo\")]"
   ]
  },
  {
   "cell_type": "code",
   "execution_count": 64,
   "id": "35c0d4eb",
   "metadata": {},
   "outputs": [
    {
     "data": {
      "text/html": [
       "<div>\n",
       "<style scoped>\n",
       "    .dataframe tbody tr th:only-of-type {\n",
       "        vertical-align: middle;\n",
       "    }\n",
       "\n",
       "    .dataframe tbody tr th {\n",
       "        vertical-align: top;\n",
       "    }\n",
       "\n",
       "    .dataframe thead tr th {\n",
       "        text-align: left;\n",
       "    }\n",
       "</style>\n",
       "<table border=\"1\" class=\"dataframe\">\n",
       "  <thead>\n",
       "    <tr>\n",
       "      <th></th>\n",
       "      <th></th>\n",
       "      <th>lvl0</th>\n",
       "      <th>a</th>\n",
       "      <th>b</th>\n",
       "    </tr>\n",
       "    <tr>\n",
       "      <th></th>\n",
       "      <th></th>\n",
       "      <th>lvl1</th>\n",
       "      <th>foo</th>\n",
       "      <th>foo</th>\n",
       "    </tr>\n",
       "  </thead>\n",
       "  <tbody>\n",
       "    <tr>\n",
       "      <th rowspan=\"8\" valign=\"top\">B0</th>\n",
       "      <th rowspan=\"2\" valign=\"top\">C0</th>\n",
       "      <th>D0</th>\n",
       "      <td>64</td>\n",
       "      <td>66</td>\n",
       "    </tr>\n",
       "    <tr>\n",
       "      <th>D1</th>\n",
       "      <td>68</td>\n",
       "      <td>70</td>\n",
       "    </tr>\n",
       "    <tr>\n",
       "      <th rowspan=\"2\" valign=\"top\">C1</th>\n",
       "      <th>D0</th>\n",
       "      <td>72</td>\n",
       "      <td>74</td>\n",
       "    </tr>\n",
       "    <tr>\n",
       "      <th>D1</th>\n",
       "      <td>76</td>\n",
       "      <td>78</td>\n",
       "    </tr>\n",
       "    <tr>\n",
       "      <th rowspan=\"2\" valign=\"top\">C2</th>\n",
       "      <th>D0</th>\n",
       "      <td>80</td>\n",
       "      <td>82</td>\n",
       "    </tr>\n",
       "    <tr>\n",
       "      <th>D1</th>\n",
       "      <td>84</td>\n",
       "      <td>86</td>\n",
       "    </tr>\n",
       "    <tr>\n",
       "      <th rowspan=\"2\" valign=\"top\">C3</th>\n",
       "      <th>D0</th>\n",
       "      <td>88</td>\n",
       "      <td>90</td>\n",
       "    </tr>\n",
       "    <tr>\n",
       "      <th>D1</th>\n",
       "      <td>92</td>\n",
       "      <td>94</td>\n",
       "    </tr>\n",
       "    <tr>\n",
       "      <th rowspan=\"8\" valign=\"top\">B1</th>\n",
       "      <th rowspan=\"2\" valign=\"top\">C0</th>\n",
       "      <th>D0</th>\n",
       "      <td>96</td>\n",
       "      <td>98</td>\n",
       "    </tr>\n",
       "    <tr>\n",
       "      <th>D1</th>\n",
       "      <td>100</td>\n",
       "      <td>102</td>\n",
       "    </tr>\n",
       "    <tr>\n",
       "      <th rowspan=\"2\" valign=\"top\">C1</th>\n",
       "      <th>D0</th>\n",
       "      <td>104</td>\n",
       "      <td>106</td>\n",
       "    </tr>\n",
       "    <tr>\n",
       "      <th>D1</th>\n",
       "      <td>108</td>\n",
       "      <td>110</td>\n",
       "    </tr>\n",
       "    <tr>\n",
       "      <th rowspan=\"2\" valign=\"top\">C2</th>\n",
       "      <th>D0</th>\n",
       "      <td>112</td>\n",
       "      <td>114</td>\n",
       "    </tr>\n",
       "    <tr>\n",
       "      <th>D1</th>\n",
       "      <td>116</td>\n",
       "      <td>118</td>\n",
       "    </tr>\n",
       "    <tr>\n",
       "      <th rowspan=\"2\" valign=\"top\">C3</th>\n",
       "      <th>D0</th>\n",
       "      <td>120</td>\n",
       "      <td>122</td>\n",
       "    </tr>\n",
       "    <tr>\n",
       "      <th>D1</th>\n",
       "      <td>124</td>\n",
       "      <td>126</td>\n",
       "    </tr>\n",
       "  </tbody>\n",
       "</table>\n",
       "</div>"
      ],
      "text/plain": [
       "lvl0        a    b\n",
       "lvl1      foo  foo\n",
       "B0 C0 D0   64   66\n",
       "      D1   68   70\n",
       "   C1 D0   72   74\n",
       "      D1   76   78\n",
       "   C2 D0   80   82\n",
       "      D1   84   86\n",
       "   C3 D0   88   90\n",
       "      D1   92   94\n",
       "B1 C0 D0   96   98\n",
       "      D1  100  102\n",
       "   C1 D0  104  106\n",
       "      D1  108  110\n",
       "   C2 D0  112  114\n",
       "      D1  116  118\n",
       "   C3 D0  120  122\n",
       "      D1  124  126"
      ]
     },
     "execution_count": 64,
     "metadata": {},
     "output_type": "execute_result"
    }
   ],
   "source": [
    "idx = pd.IndexSlice\n",
    "\n",
    "# Becomes this:\n",
    "#dfmi.loc[idx[\"A1\"], idx[:, \"foo\"]]\n",
    "\n",
    "# Or even more simply:\n",
    "dfmi.loc[\"A1\", idx[:, \"foo\"]]"
   ]
  },
  {
   "cell_type": "code",
   "execution_count": 65,
   "id": "54646fa5",
   "metadata": {},
   "outputs": [
    {
     "data": {
      "text/html": [
       "<div>\n",
       "<style scoped>\n",
       "    .dataframe tbody tr th:only-of-type {\n",
       "        vertical-align: middle;\n",
       "    }\n",
       "\n",
       "    .dataframe tbody tr th {\n",
       "        vertical-align: top;\n",
       "    }\n",
       "\n",
       "    .dataframe thead tr th {\n",
       "        text-align: left;\n",
       "    }\n",
       "</style>\n",
       "<table border=\"1\" class=\"dataframe\">\n",
       "  <thead>\n",
       "    <tr>\n",
       "      <th></th>\n",
       "      <th></th>\n",
       "      <th></th>\n",
       "      <th>lvl0</th>\n",
       "      <th>a</th>\n",
       "      <th>b</th>\n",
       "    </tr>\n",
       "    <tr>\n",
       "      <th></th>\n",
       "      <th></th>\n",
       "      <th></th>\n",
       "      <th>lvl1</th>\n",
       "      <th>foo</th>\n",
       "      <th>foo</th>\n",
       "    </tr>\n",
       "  </thead>\n",
       "  <tbody>\n",
       "    <tr>\n",
       "      <th rowspan=\"8\" valign=\"top\">A0</th>\n",
       "      <th rowspan=\"4\" valign=\"top\">B0</th>\n",
       "      <th rowspan=\"2\" valign=\"top\">C1</th>\n",
       "      <th>D0</th>\n",
       "      <td>8</td>\n",
       "      <td>10</td>\n",
       "    </tr>\n",
       "    <tr>\n",
       "      <th>D1</th>\n",
       "      <td>12</td>\n",
       "      <td>14</td>\n",
       "    </tr>\n",
       "    <tr>\n",
       "      <th rowspan=\"2\" valign=\"top\">C3</th>\n",
       "      <th>D0</th>\n",
       "      <td>24</td>\n",
       "      <td>26</td>\n",
       "    </tr>\n",
       "    <tr>\n",
       "      <th>D1</th>\n",
       "      <td>28</td>\n",
       "      <td>30</td>\n",
       "    </tr>\n",
       "    <tr>\n",
       "      <th rowspan=\"4\" valign=\"top\">B1</th>\n",
       "      <th rowspan=\"2\" valign=\"top\">C1</th>\n",
       "      <th>D0</th>\n",
       "      <td>40</td>\n",
       "      <td>42</td>\n",
       "    </tr>\n",
       "    <tr>\n",
       "      <th>D1</th>\n",
       "      <td>44</td>\n",
       "      <td>46</td>\n",
       "    </tr>\n",
       "    <tr>\n",
       "      <th rowspan=\"2\" valign=\"top\">C3</th>\n",
       "      <th>D0</th>\n",
       "      <td>56</td>\n",
       "      <td>58</td>\n",
       "    </tr>\n",
       "    <tr>\n",
       "      <th>D1</th>\n",
       "      <td>60</td>\n",
       "      <td>62</td>\n",
       "    </tr>\n",
       "    <tr>\n",
       "      <th rowspan=\"8\" valign=\"top\">A1</th>\n",
       "      <th rowspan=\"4\" valign=\"top\">B0</th>\n",
       "      <th rowspan=\"2\" valign=\"top\">C1</th>\n",
       "      <th>D0</th>\n",
       "      <td>72</td>\n",
       "      <td>74</td>\n",
       "    </tr>\n",
       "    <tr>\n",
       "      <th>D1</th>\n",
       "      <td>76</td>\n",
       "      <td>78</td>\n",
       "    </tr>\n",
       "    <tr>\n",
       "      <th rowspan=\"2\" valign=\"top\">C3</th>\n",
       "      <th>D0</th>\n",
       "      <td>88</td>\n",
       "      <td>90</td>\n",
       "    </tr>\n",
       "    <tr>\n",
       "      <th>D1</th>\n",
       "      <td>92</td>\n",
       "      <td>94</td>\n",
       "    </tr>\n",
       "    <tr>\n",
       "      <th rowspan=\"4\" valign=\"top\">B1</th>\n",
       "      <th rowspan=\"2\" valign=\"top\">C1</th>\n",
       "      <th>D0</th>\n",
       "      <td>104</td>\n",
       "      <td>106</td>\n",
       "    </tr>\n",
       "    <tr>\n",
       "      <th>D1</th>\n",
       "      <td>108</td>\n",
       "      <td>110</td>\n",
       "    </tr>\n",
       "    <tr>\n",
       "      <th rowspan=\"2\" valign=\"top\">C3</th>\n",
       "      <th>D0</th>\n",
       "      <td>120</td>\n",
       "      <td>122</td>\n",
       "    </tr>\n",
       "    <tr>\n",
       "      <th>D1</th>\n",
       "      <td>124</td>\n",
       "      <td>126</td>\n",
       "    </tr>\n",
       "    <tr>\n",
       "      <th rowspan=\"8\" valign=\"top\">A2</th>\n",
       "      <th rowspan=\"4\" valign=\"top\">B0</th>\n",
       "      <th rowspan=\"2\" valign=\"top\">C1</th>\n",
       "      <th>D0</th>\n",
       "      <td>136</td>\n",
       "      <td>138</td>\n",
       "    </tr>\n",
       "    <tr>\n",
       "      <th>D1</th>\n",
       "      <td>140</td>\n",
       "      <td>142</td>\n",
       "    </tr>\n",
       "    <tr>\n",
       "      <th rowspan=\"2\" valign=\"top\">C3</th>\n",
       "      <th>D0</th>\n",
       "      <td>152</td>\n",
       "      <td>154</td>\n",
       "    </tr>\n",
       "    <tr>\n",
       "      <th>D1</th>\n",
       "      <td>156</td>\n",
       "      <td>158</td>\n",
       "    </tr>\n",
       "    <tr>\n",
       "      <th rowspan=\"4\" valign=\"top\">B1</th>\n",
       "      <th rowspan=\"2\" valign=\"top\">C1</th>\n",
       "      <th>D0</th>\n",
       "      <td>168</td>\n",
       "      <td>170</td>\n",
       "    </tr>\n",
       "    <tr>\n",
       "      <th>D1</th>\n",
       "      <td>172</td>\n",
       "      <td>174</td>\n",
       "    </tr>\n",
       "    <tr>\n",
       "      <th rowspan=\"2\" valign=\"top\">C3</th>\n",
       "      <th>D0</th>\n",
       "      <td>184</td>\n",
       "      <td>186</td>\n",
       "    </tr>\n",
       "    <tr>\n",
       "      <th>D1</th>\n",
       "      <td>188</td>\n",
       "      <td>190</td>\n",
       "    </tr>\n",
       "    <tr>\n",
       "      <th rowspan=\"8\" valign=\"top\">A3</th>\n",
       "      <th rowspan=\"4\" valign=\"top\">B0</th>\n",
       "      <th rowspan=\"2\" valign=\"top\">C1</th>\n",
       "      <th>D0</th>\n",
       "      <td>200</td>\n",
       "      <td>202</td>\n",
       "    </tr>\n",
       "    <tr>\n",
       "      <th>D1</th>\n",
       "      <td>204</td>\n",
       "      <td>206</td>\n",
       "    </tr>\n",
       "    <tr>\n",
       "      <th rowspan=\"2\" valign=\"top\">C3</th>\n",
       "      <th>D0</th>\n",
       "      <td>216</td>\n",
       "      <td>218</td>\n",
       "    </tr>\n",
       "    <tr>\n",
       "      <th>D1</th>\n",
       "      <td>220</td>\n",
       "      <td>222</td>\n",
       "    </tr>\n",
       "    <tr>\n",
       "      <th rowspan=\"4\" valign=\"top\">B1</th>\n",
       "      <th rowspan=\"2\" valign=\"top\">C1</th>\n",
       "      <th>D0</th>\n",
       "      <td>232</td>\n",
       "      <td>234</td>\n",
       "    </tr>\n",
       "    <tr>\n",
       "      <th>D1</th>\n",
       "      <td>236</td>\n",
       "      <td>238</td>\n",
       "    </tr>\n",
       "    <tr>\n",
       "      <th rowspan=\"2\" valign=\"top\">C3</th>\n",
       "      <th>D0</th>\n",
       "      <td>248</td>\n",
       "      <td>250</td>\n",
       "    </tr>\n",
       "    <tr>\n",
       "      <th>D1</th>\n",
       "      <td>252</td>\n",
       "      <td>254</td>\n",
       "    </tr>\n",
       "  </tbody>\n",
       "</table>\n",
       "</div>"
      ],
      "text/plain": [
       "lvl0           a    b\n",
       "lvl1         foo  foo\n",
       "A0 B0 C1 D0    8   10\n",
       "         D1   12   14\n",
       "      C3 D0   24   26\n",
       "         D1   28   30\n",
       "   B1 C1 D0   40   42\n",
       "         D1   44   46\n",
       "      C3 D0   56   58\n",
       "         D1   60   62\n",
       "A1 B0 C1 D0   72   74\n",
       "         D1   76   78\n",
       "      C3 D0   88   90\n",
       "         D1   92   94\n",
       "   B1 C1 D0  104  106\n",
       "         D1  108  110\n",
       "      C3 D0  120  122\n",
       "         D1  124  126\n",
       "A2 B0 C1 D0  136  138\n",
       "         D1  140  142\n",
       "      C3 D0  152  154\n",
       "         D1  156  158\n",
       "   B1 C1 D0  168  170\n",
       "         D1  172  174\n",
       "      C3 D0  184  186\n",
       "         D1  188  190\n",
       "A3 B0 C1 D0  200  202\n",
       "         D1  204  206\n",
       "      C3 D0  216  218\n",
       "         D1  220  222\n",
       "   B1 C1 D0  232  234\n",
       "         D1  236  238\n",
       "      C3 D0  248  250\n",
       "         D1  252  254"
      ]
     },
     "execution_count": 65,
     "metadata": {},
     "output_type": "execute_result"
    }
   ],
   "source": [
    "dfmi.loc[idx[:, :, [\"C1\", \"C3\"]], idx[:, \"foo\"]]"
   ]
  },
  {
   "cell_type": "code",
   "execution_count": 67,
   "id": "77cea7bd",
   "metadata": {},
   "outputs": [
    {
     "data": {
      "text/plain": [
       "(64,)"
      ]
     },
     "execution_count": 67,
     "metadata": {},
     "output_type": "execute_result"
    }
   ],
   "source": [
    "mask = dfmi[(\"a\", \"foo\")] > 200\n",
    "\n",
    "mask.shape"
   ]
  },
  {
   "cell_type": "code",
   "execution_count": 77,
   "id": "7b9117e4",
   "metadata": {},
   "outputs": [
    {
     "data": {
      "text/plain": [
       "MultiIndex([('a', 'bar'),\n",
       "            ('a', 'foo'),\n",
       "            ('b', 'bah'),\n",
       "            ('b', 'foo')],\n",
       "           names=['lvl0', 'lvl1'])"
      ]
     },
     "execution_count": 77,
     "metadata": {},
     "output_type": "execute_result"
    }
   ],
   "source": [
    "dfmi.columns"
   ]
  },
  {
   "cell_type": "code",
   "execution_count": 84,
   "id": "8b1afe25",
   "metadata": {},
   "outputs": [
    {
     "data": {
      "text/html": [
       "<div>\n",
       "<style scoped>\n",
       "    .dataframe tbody tr th:only-of-type {\n",
       "        vertical-align: middle;\n",
       "    }\n",
       "\n",
       "    .dataframe tbody tr th {\n",
       "        vertical-align: top;\n",
       "    }\n",
       "\n",
       "    .dataframe thead tr th {\n",
       "        text-align: left;\n",
       "    }\n",
       "</style>\n",
       "<table border=\"1\" class=\"dataframe\">\n",
       "  <thead>\n",
       "    <tr>\n",
       "      <th></th>\n",
       "      <th></th>\n",
       "      <th></th>\n",
       "      <th>lvl0</th>\n",
       "      <th>a</th>\n",
       "      <th>b</th>\n",
       "    </tr>\n",
       "    <tr>\n",
       "      <th></th>\n",
       "      <th></th>\n",
       "      <th></th>\n",
       "      <th>lvl1</th>\n",
       "      <th>foo</th>\n",
       "      <th>foo</th>\n",
       "    </tr>\n",
       "  </thead>\n",
       "  <tbody>\n",
       "    <tr>\n",
       "      <th rowspan=\"7\" valign=\"top\">A3</th>\n",
       "      <th rowspan=\"3\" valign=\"top\">B0</th>\n",
       "      <th>C1</th>\n",
       "      <th>D1</th>\n",
       "      <td>204</td>\n",
       "      <td>206</td>\n",
       "    </tr>\n",
       "    <tr>\n",
       "      <th rowspan=\"2\" valign=\"top\">C3</th>\n",
       "      <th>D0</th>\n",
       "      <td>216</td>\n",
       "      <td>218</td>\n",
       "    </tr>\n",
       "    <tr>\n",
       "      <th>D1</th>\n",
       "      <td>220</td>\n",
       "      <td>222</td>\n",
       "    </tr>\n",
       "    <tr>\n",
       "      <th rowspan=\"4\" valign=\"top\">B1</th>\n",
       "      <th rowspan=\"2\" valign=\"top\">C1</th>\n",
       "      <th>D0</th>\n",
       "      <td>232</td>\n",
       "      <td>234</td>\n",
       "    </tr>\n",
       "    <tr>\n",
       "      <th>D1</th>\n",
       "      <td>236</td>\n",
       "      <td>238</td>\n",
       "    </tr>\n",
       "    <tr>\n",
       "      <th rowspan=\"2\" valign=\"top\">C3</th>\n",
       "      <th>D0</th>\n",
       "      <td>248</td>\n",
       "      <td>250</td>\n",
       "    </tr>\n",
       "    <tr>\n",
       "      <th>D1</th>\n",
       "      <td>252</td>\n",
       "      <td>254</td>\n",
       "    </tr>\n",
       "  </tbody>\n",
       "</table>\n",
       "</div>"
      ],
      "text/plain": [
       "lvl0           a    b\n",
       "lvl1         foo  foo\n",
       "A3 B0 C1 D1  204  206\n",
       "      C3 D0  216  218\n",
       "         D1  220  222\n",
       "   B1 C1 D0  232  234\n",
       "         D1  236  238\n",
       "      C3 D0  248  250\n",
       "         D1  252  254"
      ]
     },
     "execution_count": 84,
     "metadata": {},
     "output_type": "execute_result"
    }
   ],
   "source": [
    "dfmi.loc[idx[mask, :, [\"C1\", \"C3\"], :], idx[:, \"foo\"]]"
   ]
  },
  {
   "cell_type": "code",
   "execution_count": 85,
   "id": "8742a4e9",
   "metadata": {},
   "outputs": [
    {
     "data": {
      "text/html": [
       "<div>\n",
       "<style scoped>\n",
       "    .dataframe tbody tr th:only-of-type {\n",
       "        vertical-align: middle;\n",
       "    }\n",
       "\n",
       "    .dataframe tbody tr th {\n",
       "        vertical-align: top;\n",
       "    }\n",
       "\n",
       "    .dataframe thead tr th {\n",
       "        text-align: left;\n",
       "    }\n",
       "</style>\n",
       "<table border=\"1\" class=\"dataframe\">\n",
       "  <thead>\n",
       "    <tr>\n",
       "      <th></th>\n",
       "      <th></th>\n",
       "      <th></th>\n",
       "      <th>lvl0</th>\n",
       "      <th colspan=\"2\" halign=\"left\">a</th>\n",
       "      <th colspan=\"2\" halign=\"left\">b</th>\n",
       "    </tr>\n",
       "    <tr>\n",
       "      <th></th>\n",
       "      <th></th>\n",
       "      <th></th>\n",
       "      <th>lvl1</th>\n",
       "      <th>bar</th>\n",
       "      <th>foo</th>\n",
       "      <th>bah</th>\n",
       "      <th>foo</th>\n",
       "    </tr>\n",
       "  </thead>\n",
       "  <tbody>\n",
       "    <tr>\n",
       "      <th rowspan=\"8\" valign=\"top\">A0</th>\n",
       "      <th rowspan=\"4\" valign=\"top\">B0</th>\n",
       "      <th rowspan=\"2\" valign=\"top\">C1</th>\n",
       "      <th>D0</th>\n",
       "      <td>9</td>\n",
       "      <td>8</td>\n",
       "      <td>11</td>\n",
       "      <td>10</td>\n",
       "    </tr>\n",
       "    <tr>\n",
       "      <th>D1</th>\n",
       "      <td>13</td>\n",
       "      <td>12</td>\n",
       "      <td>15</td>\n",
       "      <td>14</td>\n",
       "    </tr>\n",
       "    <tr>\n",
       "      <th rowspan=\"2\" valign=\"top\">C3</th>\n",
       "      <th>D0</th>\n",
       "      <td>25</td>\n",
       "      <td>24</td>\n",
       "      <td>27</td>\n",
       "      <td>26</td>\n",
       "    </tr>\n",
       "    <tr>\n",
       "      <th>D1</th>\n",
       "      <td>29</td>\n",
       "      <td>28</td>\n",
       "      <td>31</td>\n",
       "      <td>30</td>\n",
       "    </tr>\n",
       "    <tr>\n",
       "      <th rowspan=\"4\" valign=\"top\">B1</th>\n",
       "      <th rowspan=\"2\" valign=\"top\">C1</th>\n",
       "      <th>D0</th>\n",
       "      <td>41</td>\n",
       "      <td>40</td>\n",
       "      <td>43</td>\n",
       "      <td>42</td>\n",
       "    </tr>\n",
       "    <tr>\n",
       "      <th>D1</th>\n",
       "      <td>45</td>\n",
       "      <td>44</td>\n",
       "      <td>47</td>\n",
       "      <td>46</td>\n",
       "    </tr>\n",
       "    <tr>\n",
       "      <th rowspan=\"2\" valign=\"top\">C3</th>\n",
       "      <th>D0</th>\n",
       "      <td>57</td>\n",
       "      <td>56</td>\n",
       "      <td>59</td>\n",
       "      <td>58</td>\n",
       "    </tr>\n",
       "    <tr>\n",
       "      <th>D1</th>\n",
       "      <td>61</td>\n",
       "      <td>60</td>\n",
       "      <td>63</td>\n",
       "      <td>62</td>\n",
       "    </tr>\n",
       "    <tr>\n",
       "      <th rowspan=\"8\" valign=\"top\">A1</th>\n",
       "      <th rowspan=\"4\" valign=\"top\">B0</th>\n",
       "      <th rowspan=\"2\" valign=\"top\">C1</th>\n",
       "      <th>D0</th>\n",
       "      <td>73</td>\n",
       "      <td>72</td>\n",
       "      <td>75</td>\n",
       "      <td>74</td>\n",
       "    </tr>\n",
       "    <tr>\n",
       "      <th>D1</th>\n",
       "      <td>77</td>\n",
       "      <td>76</td>\n",
       "      <td>79</td>\n",
       "      <td>78</td>\n",
       "    </tr>\n",
       "    <tr>\n",
       "      <th rowspan=\"2\" valign=\"top\">C3</th>\n",
       "      <th>D0</th>\n",
       "      <td>89</td>\n",
       "      <td>88</td>\n",
       "      <td>91</td>\n",
       "      <td>90</td>\n",
       "    </tr>\n",
       "    <tr>\n",
       "      <th>D1</th>\n",
       "      <td>93</td>\n",
       "      <td>92</td>\n",
       "      <td>95</td>\n",
       "      <td>94</td>\n",
       "    </tr>\n",
       "    <tr>\n",
       "      <th rowspan=\"4\" valign=\"top\">B1</th>\n",
       "      <th rowspan=\"2\" valign=\"top\">C1</th>\n",
       "      <th>D0</th>\n",
       "      <td>105</td>\n",
       "      <td>104</td>\n",
       "      <td>107</td>\n",
       "      <td>106</td>\n",
       "    </tr>\n",
       "    <tr>\n",
       "      <th>D1</th>\n",
       "      <td>109</td>\n",
       "      <td>108</td>\n",
       "      <td>111</td>\n",
       "      <td>110</td>\n",
       "    </tr>\n",
       "    <tr>\n",
       "      <th rowspan=\"2\" valign=\"top\">C3</th>\n",
       "      <th>D0</th>\n",
       "      <td>121</td>\n",
       "      <td>120</td>\n",
       "      <td>123</td>\n",
       "      <td>122</td>\n",
       "    </tr>\n",
       "    <tr>\n",
       "      <th>D1</th>\n",
       "      <td>125</td>\n",
       "      <td>124</td>\n",
       "      <td>127</td>\n",
       "      <td>126</td>\n",
       "    </tr>\n",
       "    <tr>\n",
       "      <th rowspan=\"8\" valign=\"top\">A2</th>\n",
       "      <th rowspan=\"4\" valign=\"top\">B0</th>\n",
       "      <th rowspan=\"2\" valign=\"top\">C1</th>\n",
       "      <th>D0</th>\n",
       "      <td>137</td>\n",
       "      <td>136</td>\n",
       "      <td>139</td>\n",
       "      <td>138</td>\n",
       "    </tr>\n",
       "    <tr>\n",
       "      <th>D1</th>\n",
       "      <td>141</td>\n",
       "      <td>140</td>\n",
       "      <td>143</td>\n",
       "      <td>142</td>\n",
       "    </tr>\n",
       "    <tr>\n",
       "      <th rowspan=\"2\" valign=\"top\">C3</th>\n",
       "      <th>D0</th>\n",
       "      <td>153</td>\n",
       "      <td>152</td>\n",
       "      <td>155</td>\n",
       "      <td>154</td>\n",
       "    </tr>\n",
       "    <tr>\n",
       "      <th>D1</th>\n",
       "      <td>157</td>\n",
       "      <td>156</td>\n",
       "      <td>159</td>\n",
       "      <td>158</td>\n",
       "    </tr>\n",
       "    <tr>\n",
       "      <th rowspan=\"4\" valign=\"top\">B1</th>\n",
       "      <th rowspan=\"2\" valign=\"top\">C1</th>\n",
       "      <th>D0</th>\n",
       "      <td>169</td>\n",
       "      <td>168</td>\n",
       "      <td>171</td>\n",
       "      <td>170</td>\n",
       "    </tr>\n",
       "    <tr>\n",
       "      <th>D1</th>\n",
       "      <td>173</td>\n",
       "      <td>172</td>\n",
       "      <td>175</td>\n",
       "      <td>174</td>\n",
       "    </tr>\n",
       "    <tr>\n",
       "      <th rowspan=\"2\" valign=\"top\">C3</th>\n",
       "      <th>D0</th>\n",
       "      <td>185</td>\n",
       "      <td>184</td>\n",
       "      <td>187</td>\n",
       "      <td>186</td>\n",
       "    </tr>\n",
       "    <tr>\n",
       "      <th>D1</th>\n",
       "      <td>189</td>\n",
       "      <td>188</td>\n",
       "      <td>191</td>\n",
       "      <td>190</td>\n",
       "    </tr>\n",
       "    <tr>\n",
       "      <th rowspan=\"8\" valign=\"top\">A3</th>\n",
       "      <th rowspan=\"4\" valign=\"top\">B0</th>\n",
       "      <th rowspan=\"2\" valign=\"top\">C1</th>\n",
       "      <th>D0</th>\n",
       "      <td>201</td>\n",
       "      <td>200</td>\n",
       "      <td>203</td>\n",
       "      <td>202</td>\n",
       "    </tr>\n",
       "    <tr>\n",
       "      <th>D1</th>\n",
       "      <td>205</td>\n",
       "      <td>204</td>\n",
       "      <td>207</td>\n",
       "      <td>206</td>\n",
       "    </tr>\n",
       "    <tr>\n",
       "      <th rowspan=\"2\" valign=\"top\">C3</th>\n",
       "      <th>D0</th>\n",
       "      <td>217</td>\n",
       "      <td>216</td>\n",
       "      <td>219</td>\n",
       "      <td>218</td>\n",
       "    </tr>\n",
       "    <tr>\n",
       "      <th>D1</th>\n",
       "      <td>221</td>\n",
       "      <td>220</td>\n",
       "      <td>223</td>\n",
       "      <td>222</td>\n",
       "    </tr>\n",
       "    <tr>\n",
       "      <th rowspan=\"4\" valign=\"top\">B1</th>\n",
       "      <th rowspan=\"2\" valign=\"top\">C1</th>\n",
       "      <th>D0</th>\n",
       "      <td>233</td>\n",
       "      <td>232</td>\n",
       "      <td>235</td>\n",
       "      <td>234</td>\n",
       "    </tr>\n",
       "    <tr>\n",
       "      <th>D1</th>\n",
       "      <td>237</td>\n",
       "      <td>236</td>\n",
       "      <td>239</td>\n",
       "      <td>238</td>\n",
       "    </tr>\n",
       "    <tr>\n",
       "      <th rowspan=\"2\" valign=\"top\">C3</th>\n",
       "      <th>D0</th>\n",
       "      <td>249</td>\n",
       "      <td>248</td>\n",
       "      <td>251</td>\n",
       "      <td>250</td>\n",
       "    </tr>\n",
       "    <tr>\n",
       "      <th>D1</th>\n",
       "      <td>253</td>\n",
       "      <td>252</td>\n",
       "      <td>255</td>\n",
       "      <td>254</td>\n",
       "    </tr>\n",
       "  </tbody>\n",
       "</table>\n",
       "</div>"
      ],
      "text/plain": [
       "lvl0           a         b     \n",
       "lvl1         bar  foo  bah  foo\n",
       "A0 B0 C1 D0    9    8   11   10\n",
       "         D1   13   12   15   14\n",
       "      C3 D0   25   24   27   26\n",
       "         D1   29   28   31   30\n",
       "   B1 C1 D0   41   40   43   42\n",
       "         D1   45   44   47   46\n",
       "      C3 D0   57   56   59   58\n",
       "         D1   61   60   63   62\n",
       "A1 B0 C1 D0   73   72   75   74\n",
       "         D1   77   76   79   78\n",
       "      C3 D0   89   88   91   90\n",
       "         D1   93   92   95   94\n",
       "   B1 C1 D0  105  104  107  106\n",
       "         D1  109  108  111  110\n",
       "      C3 D0  121  120  123  122\n",
       "         D1  125  124  127  126\n",
       "A2 B0 C1 D0  137  136  139  138\n",
       "         D1  141  140  143  142\n",
       "      C3 D0  153  152  155  154\n",
       "         D1  157  156  159  158\n",
       "   B1 C1 D0  169  168  171  170\n",
       "         D1  173  172  175  174\n",
       "      C3 D0  185  184  187  186\n",
       "         D1  189  188  191  190\n",
       "A3 B0 C1 D0  201  200  203  202\n",
       "         D1  205  204  207  206\n",
       "      C3 D0  217  216  219  218\n",
       "         D1  221  220  223  222\n",
       "   B1 C1 D0  233  232  235  234\n",
       "         D1  237  236  239  238\n",
       "      C3 D0  249  248  251  250\n",
       "         D1  253  252  255  254"
      ]
     },
     "execution_count": 85,
     "metadata": {},
     "output_type": "execute_result"
    }
   ],
   "source": [
    "dfmi.loc(axis=0)[:, :, [\"C1\", \"C3\"]]"
   ]
  },
  {
   "cell_type": "code",
   "execution_count": 86,
   "id": "c2af97dc",
   "metadata": {},
   "outputs": [
    {
     "data": {
      "text/html": [
       "<div>\n",
       "<style scoped>\n",
       "    .dataframe tbody tr th:only-of-type {\n",
       "        vertical-align: middle;\n",
       "    }\n",
       "\n",
       "    .dataframe tbody tr th {\n",
       "        vertical-align: top;\n",
       "    }\n",
       "\n",
       "    .dataframe thead tr th {\n",
       "        text-align: left;\n",
       "    }\n",
       "</style>\n",
       "<table border=\"1\" class=\"dataframe\">\n",
       "  <thead>\n",
       "    <tr>\n",
       "      <th></th>\n",
       "      <th></th>\n",
       "      <th></th>\n",
       "      <th>lvl0</th>\n",
       "      <th colspan=\"2\" halign=\"left\">a</th>\n",
       "      <th colspan=\"2\" halign=\"left\">b</th>\n",
       "    </tr>\n",
       "    <tr>\n",
       "      <th></th>\n",
       "      <th></th>\n",
       "      <th></th>\n",
       "      <th>lvl1</th>\n",
       "      <th>bar</th>\n",
       "      <th>foo</th>\n",
       "      <th>bah</th>\n",
       "      <th>foo</th>\n",
       "    </tr>\n",
       "  </thead>\n",
       "  <tbody>\n",
       "    <tr>\n",
       "      <th rowspan=\"5\" valign=\"top\">A0</th>\n",
       "      <th rowspan=\"5\" valign=\"top\">B0</th>\n",
       "      <th rowspan=\"2\" valign=\"top\">C0</th>\n",
       "      <th>D0</th>\n",
       "      <td>1</td>\n",
       "      <td>0</td>\n",
       "      <td>3</td>\n",
       "      <td>2</td>\n",
       "    </tr>\n",
       "    <tr>\n",
       "      <th>D1</th>\n",
       "      <td>5</td>\n",
       "      <td>4</td>\n",
       "      <td>7</td>\n",
       "      <td>6</td>\n",
       "    </tr>\n",
       "    <tr>\n",
       "      <th rowspan=\"2\" valign=\"top\">C1</th>\n",
       "      <th>D0</th>\n",
       "      <td>-10</td>\n",
       "      <td>-10</td>\n",
       "      <td>-10</td>\n",
       "      <td>-10</td>\n",
       "    </tr>\n",
       "    <tr>\n",
       "      <th>D1</th>\n",
       "      <td>-10</td>\n",
       "      <td>-10</td>\n",
       "      <td>-10</td>\n",
       "      <td>-10</td>\n",
       "    </tr>\n",
       "    <tr>\n",
       "      <th>C2</th>\n",
       "      <th>D0</th>\n",
       "      <td>17</td>\n",
       "      <td>16</td>\n",
       "      <td>19</td>\n",
       "      <td>18</td>\n",
       "    </tr>\n",
       "    <tr>\n",
       "      <th>...</th>\n",
       "      <th>...</th>\n",
       "      <th>...</th>\n",
       "      <th>...</th>\n",
       "      <td>...</td>\n",
       "      <td>...</td>\n",
       "      <td>...</td>\n",
       "      <td>...</td>\n",
       "    </tr>\n",
       "    <tr>\n",
       "      <th rowspan=\"5\" valign=\"top\">A3</th>\n",
       "      <th rowspan=\"5\" valign=\"top\">B1</th>\n",
       "      <th>C1</th>\n",
       "      <th>D1</th>\n",
       "      <td>-10</td>\n",
       "      <td>-10</td>\n",
       "      <td>-10</td>\n",
       "      <td>-10</td>\n",
       "    </tr>\n",
       "    <tr>\n",
       "      <th rowspan=\"2\" valign=\"top\">C2</th>\n",
       "      <th>D0</th>\n",
       "      <td>241</td>\n",
       "      <td>240</td>\n",
       "      <td>243</td>\n",
       "      <td>242</td>\n",
       "    </tr>\n",
       "    <tr>\n",
       "      <th>D1</th>\n",
       "      <td>245</td>\n",
       "      <td>244</td>\n",
       "      <td>247</td>\n",
       "      <td>246</td>\n",
       "    </tr>\n",
       "    <tr>\n",
       "      <th rowspan=\"2\" valign=\"top\">C3</th>\n",
       "      <th>D0</th>\n",
       "      <td>-10</td>\n",
       "      <td>-10</td>\n",
       "      <td>-10</td>\n",
       "      <td>-10</td>\n",
       "    </tr>\n",
       "    <tr>\n",
       "      <th>D1</th>\n",
       "      <td>-10</td>\n",
       "      <td>-10</td>\n",
       "      <td>-10</td>\n",
       "      <td>-10</td>\n",
       "    </tr>\n",
       "  </tbody>\n",
       "</table>\n",
       "<p>64 rows × 4 columns</p>\n",
       "</div>"
      ],
      "text/plain": [
       "lvl0           a         b     \n",
       "lvl1         bar  foo  bah  foo\n",
       "A0 B0 C0 D0    1    0    3    2\n",
       "         D1    5    4    7    6\n",
       "      C1 D0  -10  -10  -10  -10\n",
       "         D1  -10  -10  -10  -10\n",
       "      C2 D0   17   16   19   18\n",
       "...          ...  ...  ...  ...\n",
       "A3 B1 C1 D1  -10  -10  -10  -10\n",
       "      C2 D0  241  240  243  242\n",
       "         D1  245  244  247  246\n",
       "      C3 D0  -10  -10  -10  -10\n",
       "         D1  -10  -10  -10  -10\n",
       "\n",
       "[64 rows x 4 columns]"
      ]
     },
     "execution_count": 86,
     "metadata": {},
     "output_type": "execute_result"
    }
   ],
   "source": [
    "df2 = dfmi.copy()\n",
    "\n",
    "df2.loc(axis=0)[:, :, [\"C1\", \"C3\"]] = -10\n",
    "\n",
    "df2"
   ]
  },
  {
   "cell_type": "code",
   "execution_count": 87,
   "id": "41faaa3d",
   "metadata": {},
   "outputs": [
    {
     "data": {
      "text/html": [
       "<div>\n",
       "<style scoped>\n",
       "    .dataframe tbody tr th:only-of-type {\n",
       "        vertical-align: middle;\n",
       "    }\n",
       "\n",
       "    .dataframe tbody tr th {\n",
       "        vertical-align: top;\n",
       "    }\n",
       "\n",
       "    .dataframe thead tr th {\n",
       "        text-align: left;\n",
       "    }\n",
       "</style>\n",
       "<table border=\"1\" class=\"dataframe\">\n",
       "  <thead>\n",
       "    <tr>\n",
       "      <th></th>\n",
       "      <th></th>\n",
       "      <th></th>\n",
       "      <th>lvl0</th>\n",
       "      <th colspan=\"2\" halign=\"left\">a</th>\n",
       "      <th colspan=\"2\" halign=\"left\">b</th>\n",
       "    </tr>\n",
       "    <tr>\n",
       "      <th></th>\n",
       "      <th></th>\n",
       "      <th></th>\n",
       "      <th>lvl1</th>\n",
       "      <th>bar</th>\n",
       "      <th>foo</th>\n",
       "      <th>bah</th>\n",
       "      <th>foo</th>\n",
       "    </tr>\n",
       "  </thead>\n",
       "  <tbody>\n",
       "    <tr>\n",
       "      <th rowspan=\"5\" valign=\"top\">A0</th>\n",
       "      <th rowspan=\"5\" valign=\"top\">B0</th>\n",
       "      <th rowspan=\"2\" valign=\"top\">C0</th>\n",
       "      <th>D0</th>\n",
       "      <td>1</td>\n",
       "      <td>0</td>\n",
       "      <td>3</td>\n",
       "      <td>2</td>\n",
       "    </tr>\n",
       "    <tr>\n",
       "      <th>D1</th>\n",
       "      <td>5</td>\n",
       "      <td>4</td>\n",
       "      <td>7</td>\n",
       "      <td>6</td>\n",
       "    </tr>\n",
       "    <tr>\n",
       "      <th rowspan=\"2\" valign=\"top\">C1</th>\n",
       "      <th>D0</th>\n",
       "      <td>9000</td>\n",
       "      <td>8000</td>\n",
       "      <td>11000</td>\n",
       "      <td>10000</td>\n",
       "    </tr>\n",
       "    <tr>\n",
       "      <th>D1</th>\n",
       "      <td>13000</td>\n",
       "      <td>12000</td>\n",
       "      <td>15000</td>\n",
       "      <td>14000</td>\n",
       "    </tr>\n",
       "    <tr>\n",
       "      <th>C2</th>\n",
       "      <th>D0</th>\n",
       "      <td>17</td>\n",
       "      <td>16</td>\n",
       "      <td>19</td>\n",
       "      <td>18</td>\n",
       "    </tr>\n",
       "    <tr>\n",
       "      <th>...</th>\n",
       "      <th>...</th>\n",
       "      <th>...</th>\n",
       "      <th>...</th>\n",
       "      <td>...</td>\n",
       "      <td>...</td>\n",
       "      <td>...</td>\n",
       "      <td>...</td>\n",
       "    </tr>\n",
       "    <tr>\n",
       "      <th rowspan=\"5\" valign=\"top\">A3</th>\n",
       "      <th rowspan=\"5\" valign=\"top\">B1</th>\n",
       "      <th>C1</th>\n",
       "      <th>D1</th>\n",
       "      <td>237000</td>\n",
       "      <td>236000</td>\n",
       "      <td>239000</td>\n",
       "      <td>238000</td>\n",
       "    </tr>\n",
       "    <tr>\n",
       "      <th rowspan=\"2\" valign=\"top\">C2</th>\n",
       "      <th>D0</th>\n",
       "      <td>241</td>\n",
       "      <td>240</td>\n",
       "      <td>243</td>\n",
       "      <td>242</td>\n",
       "    </tr>\n",
       "    <tr>\n",
       "      <th>D1</th>\n",
       "      <td>245</td>\n",
       "      <td>244</td>\n",
       "      <td>247</td>\n",
       "      <td>246</td>\n",
       "    </tr>\n",
       "    <tr>\n",
       "      <th rowspan=\"2\" valign=\"top\">C3</th>\n",
       "      <th>D0</th>\n",
       "      <td>249000</td>\n",
       "      <td>248000</td>\n",
       "      <td>251000</td>\n",
       "      <td>250000</td>\n",
       "    </tr>\n",
       "    <tr>\n",
       "      <th>D1</th>\n",
       "      <td>253000</td>\n",
       "      <td>252000</td>\n",
       "      <td>255000</td>\n",
       "      <td>254000</td>\n",
       "    </tr>\n",
       "  </tbody>\n",
       "</table>\n",
       "<p>64 rows × 4 columns</p>\n",
       "</div>"
      ],
      "text/plain": [
       "lvl0              a               b        \n",
       "lvl1            bar     foo     bah     foo\n",
       "A0 B0 C0 D0       1       0       3       2\n",
       "         D1       5       4       7       6\n",
       "      C1 D0    9000    8000   11000   10000\n",
       "         D1   13000   12000   15000   14000\n",
       "      C2 D0      17      16      19      18\n",
       "...             ...     ...     ...     ...\n",
       "A3 B1 C1 D1  237000  236000  239000  238000\n",
       "      C2 D0     241     240     243     242\n",
       "         D1     245     244     247     246\n",
       "      C3 D0  249000  248000  251000  250000\n",
       "         D1  253000  252000  255000  254000\n",
       "\n",
       "[64 rows x 4 columns]"
      ]
     },
     "execution_count": 87,
     "metadata": {},
     "output_type": "execute_result"
    }
   ],
   "source": [
    "df2 = dfmi.copy()\n",
    "\n",
    "df2.loc[idx[:, :, [\"C1\", \"C3\"]], :] = df2 * 1000\n",
    "\n",
    "df2"
   ]
  },
  {
   "cell_type": "code",
   "execution_count": 88,
   "id": "5a6b7974",
   "metadata": {},
   "outputs": [
    {
     "data": {
      "text/html": [
       "<div>\n",
       "<style scoped>\n",
       "    .dataframe tbody tr th:only-of-type {\n",
       "        vertical-align: middle;\n",
       "    }\n",
       "\n",
       "    .dataframe tbody tr th {\n",
       "        vertical-align: top;\n",
       "    }\n",
       "\n",
       "    .dataframe thead th {\n",
       "        text-align: right;\n",
       "    }\n",
       "</style>\n",
       "<table border=\"1\" class=\"dataframe\">\n",
       "  <thead>\n",
       "    <tr style=\"text-align: right;\">\n",
       "      <th></th>\n",
       "      <th></th>\n",
       "      <th>A</th>\n",
       "      <th>B</th>\n",
       "      <th>C</th>\n",
       "    </tr>\n",
       "    <tr>\n",
       "      <th>first</th>\n",
       "      <th>second</th>\n",
       "      <th></th>\n",
       "      <th></th>\n",
       "      <th></th>\n",
       "    </tr>\n",
       "  </thead>\n",
       "  <tbody>\n",
       "    <tr>\n",
       "      <th rowspan=\"2\" valign=\"top\">bar</th>\n",
       "      <th>one</th>\n",
       "      <td>-1.099968</td>\n",
       "      <td>-0.905454</td>\n",
       "      <td>2.980732</td>\n",
       "    </tr>\n",
       "    <tr>\n",
       "      <th>two</th>\n",
       "      <td>0.775524</td>\n",
       "      <td>0.047056</td>\n",
       "      <td>0.567498</td>\n",
       "    </tr>\n",
       "    <tr>\n",
       "      <th rowspan=\"2\" valign=\"top\">baz</th>\n",
       "      <th>one</th>\n",
       "      <td>-0.280117</td>\n",
       "      <td>0.474000</td>\n",
       "      <td>0.593460</td>\n",
       "    </tr>\n",
       "    <tr>\n",
       "      <th>two</th>\n",
       "      <td>-2.597763</td>\n",
       "      <td>-0.941213</td>\n",
       "      <td>0.452156</td>\n",
       "    </tr>\n",
       "    <tr>\n",
       "      <th rowspan=\"2\" valign=\"top\">foo</th>\n",
       "      <th>one</th>\n",
       "      <td>0.904136</td>\n",
       "      <td>0.177659</td>\n",
       "      <td>0.969994</td>\n",
       "    </tr>\n",
       "    <tr>\n",
       "      <th>two</th>\n",
       "      <td>0.079566</td>\n",
       "      <td>2.283450</td>\n",
       "      <td>-0.353649</td>\n",
       "    </tr>\n",
       "    <tr>\n",
       "      <th rowspan=\"2\" valign=\"top\">qux</th>\n",
       "      <th>one</th>\n",
       "      <td>-0.192781</td>\n",
       "      <td>-0.344664</td>\n",
       "      <td>0.127216</td>\n",
       "    </tr>\n",
       "    <tr>\n",
       "      <th>two</th>\n",
       "      <td>0.716804</td>\n",
       "      <td>0.187324</td>\n",
       "      <td>-1.466834</td>\n",
       "    </tr>\n",
       "  </tbody>\n",
       "</table>\n",
       "</div>"
      ],
      "text/plain": [
       "                     A         B         C\n",
       "first second                              \n",
       "bar   one    -1.099968 -0.905454  2.980732\n",
       "      two     0.775524  0.047056  0.567498\n",
       "baz   one    -0.280117  0.474000  0.593460\n",
       "      two    -2.597763 -0.941213  0.452156\n",
       "foo   one     0.904136  0.177659  0.969994\n",
       "      two     0.079566  2.283450 -0.353649\n",
       "qux   one    -0.192781 -0.344664  0.127216\n",
       "      two     0.716804  0.187324 -1.466834"
      ]
     },
     "execution_count": 88,
     "metadata": {},
     "output_type": "execute_result"
    }
   ],
   "source": [
    "df"
   ]
  },
  {
   "cell_type": "code",
   "execution_count": 89,
   "id": "688c8fd7",
   "metadata": {},
   "outputs": [
    {
     "data": {
      "text/html": [
       "<div>\n",
       "<style scoped>\n",
       "    .dataframe tbody tr th:only-of-type {\n",
       "        vertical-align: middle;\n",
       "    }\n",
       "\n",
       "    .dataframe tbody tr th {\n",
       "        vertical-align: top;\n",
       "    }\n",
       "\n",
       "    .dataframe thead th {\n",
       "        text-align: right;\n",
       "    }\n",
       "</style>\n",
       "<table border=\"1\" class=\"dataframe\">\n",
       "  <thead>\n",
       "    <tr style=\"text-align: right;\">\n",
       "      <th></th>\n",
       "      <th>A</th>\n",
       "      <th>B</th>\n",
       "      <th>C</th>\n",
       "    </tr>\n",
       "    <tr>\n",
       "      <th>first</th>\n",
       "      <th></th>\n",
       "      <th></th>\n",
       "      <th></th>\n",
       "    </tr>\n",
       "  </thead>\n",
       "  <tbody>\n",
       "    <tr>\n",
       "      <th>bar</th>\n",
       "      <td>-1.099968</td>\n",
       "      <td>-0.905454</td>\n",
       "      <td>2.980732</td>\n",
       "    </tr>\n",
       "    <tr>\n",
       "      <th>baz</th>\n",
       "      <td>-0.280117</td>\n",
       "      <td>0.474000</td>\n",
       "      <td>0.593460</td>\n",
       "    </tr>\n",
       "    <tr>\n",
       "      <th>foo</th>\n",
       "      <td>0.904136</td>\n",
       "      <td>0.177659</td>\n",
       "      <td>0.969994</td>\n",
       "    </tr>\n",
       "    <tr>\n",
       "      <th>qux</th>\n",
       "      <td>-0.192781</td>\n",
       "      <td>-0.344664</td>\n",
       "      <td>0.127216</td>\n",
       "    </tr>\n",
       "  </tbody>\n",
       "</table>\n",
       "</div>"
      ],
      "text/plain": [
       "              A         B         C\n",
       "first                              \n",
       "bar   -1.099968 -0.905454  2.980732\n",
       "baz   -0.280117  0.474000  0.593460\n",
       "foo    0.904136  0.177659  0.969994\n",
       "qux   -0.192781 -0.344664  0.127216"
      ]
     },
     "execution_count": 89,
     "metadata": {},
     "output_type": "execute_result"
    }
   ],
   "source": [
    "df.xs(\"one\", level=\"second\")"
   ]
  },
  {
   "cell_type": "code",
   "execution_count": 90,
   "id": "bf31b050",
   "metadata": {},
   "outputs": [
    {
     "data": {
      "text/html": [
       "<div>\n",
       "<style scoped>\n",
       "    .dataframe tbody tr th:only-of-type {\n",
       "        vertical-align: middle;\n",
       "    }\n",
       "\n",
       "    .dataframe tbody tr th {\n",
       "        vertical-align: top;\n",
       "    }\n",
       "\n",
       "    .dataframe thead th {\n",
       "        text-align: right;\n",
       "    }\n",
       "</style>\n",
       "<table border=\"1\" class=\"dataframe\">\n",
       "  <thead>\n",
       "    <tr style=\"text-align: right;\">\n",
       "      <th></th>\n",
       "      <th></th>\n",
       "      <th>A</th>\n",
       "      <th>B</th>\n",
       "      <th>C</th>\n",
       "    </tr>\n",
       "    <tr>\n",
       "      <th>first</th>\n",
       "      <th>second</th>\n",
       "      <th></th>\n",
       "      <th></th>\n",
       "      <th></th>\n",
       "    </tr>\n",
       "  </thead>\n",
       "  <tbody>\n",
       "    <tr>\n",
       "      <th>bar</th>\n",
       "      <th>one</th>\n",
       "      <td>-1.099968</td>\n",
       "      <td>-0.905454</td>\n",
       "      <td>2.980732</td>\n",
       "    </tr>\n",
       "    <tr>\n",
       "      <th>baz</th>\n",
       "      <th>one</th>\n",
       "      <td>-0.280117</td>\n",
       "      <td>0.474000</td>\n",
       "      <td>0.593460</td>\n",
       "    </tr>\n",
       "    <tr>\n",
       "      <th>foo</th>\n",
       "      <th>one</th>\n",
       "      <td>0.904136</td>\n",
       "      <td>0.177659</td>\n",
       "      <td>0.969994</td>\n",
       "    </tr>\n",
       "    <tr>\n",
       "      <th>qux</th>\n",
       "      <th>one</th>\n",
       "      <td>-0.192781</td>\n",
       "      <td>-0.344664</td>\n",
       "      <td>0.127216</td>\n",
       "    </tr>\n",
       "  </tbody>\n",
       "</table>\n",
       "</div>"
      ],
      "text/plain": [
       "                     A         B         C\n",
       "first second                              \n",
       "bar   one    -1.099968 -0.905454  2.980732\n",
       "baz   one    -0.280117  0.474000  0.593460\n",
       "foo   one     0.904136  0.177659  0.969994\n",
       "qux   one    -0.192781 -0.344664  0.127216"
      ]
     },
     "execution_count": 90,
     "metadata": {},
     "output_type": "execute_result"
    }
   ],
   "source": [
    "# using the slicers\n",
    "\n",
    "df.loc[(slice(None), \"one\"), :]"
   ]
  },
  {
   "cell_type": "code",
   "execution_count": 93,
   "id": "2157d8b7",
   "metadata": {},
   "outputs": [
    {
     "data": {
      "text/html": [
       "<div>\n",
       "<style scoped>\n",
       "    .dataframe tbody tr th:only-of-type {\n",
       "        vertical-align: middle;\n",
       "    }\n",
       "\n",
       "    .dataframe tbody tr th {\n",
       "        vertical-align: top;\n",
       "    }\n",
       "\n",
       "    .dataframe thead th {\n",
       "        text-align: right;\n",
       "    }\n",
       "</style>\n",
       "<table border=\"1\" class=\"dataframe\">\n",
       "  <thead>\n",
       "    <tr style=\"text-align: right;\">\n",
       "      <th></th>\n",
       "      <th></th>\n",
       "      <th>A</th>\n",
       "      <th>B</th>\n",
       "      <th>C</th>\n",
       "    </tr>\n",
       "    <tr>\n",
       "      <th>first</th>\n",
       "      <th>second</th>\n",
       "      <th></th>\n",
       "      <th></th>\n",
       "      <th></th>\n",
       "    </tr>\n",
       "  </thead>\n",
       "  <tbody>\n",
       "    <tr>\n",
       "      <th>bar</th>\n",
       "      <th>one</th>\n",
       "      <td>-1.099968</td>\n",
       "      <td>-0.905454</td>\n",
       "      <td>2.980732</td>\n",
       "    </tr>\n",
       "    <tr>\n",
       "      <th>baz</th>\n",
       "      <th>one</th>\n",
       "      <td>-0.280117</td>\n",
       "      <td>0.474000</td>\n",
       "      <td>0.593460</td>\n",
       "    </tr>\n",
       "    <tr>\n",
       "      <th>foo</th>\n",
       "      <th>one</th>\n",
       "      <td>0.904136</td>\n",
       "      <td>0.177659</td>\n",
       "      <td>0.969994</td>\n",
       "    </tr>\n",
       "    <tr>\n",
       "      <th>qux</th>\n",
       "      <th>one</th>\n",
       "      <td>-0.192781</td>\n",
       "      <td>-0.344664</td>\n",
       "      <td>0.127216</td>\n",
       "    </tr>\n",
       "  </tbody>\n",
       "</table>\n",
       "</div>"
      ],
      "text/plain": [
       "                     A         B         C\n",
       "first second                              \n",
       "bar   one    -1.099968 -0.905454  2.980732\n",
       "baz   one    -0.280117  0.474000  0.593460\n",
       "foo   one     0.904136  0.177659  0.969994\n",
       "qux   one    -0.192781 -0.344664  0.127216"
      ]
     },
     "execution_count": 93,
     "metadata": {},
     "output_type": "execute_result"
    }
   ],
   "source": [
    "idx = pd.IndexSlice\n",
    "df.loc[idx[:, \"one\"], :]"
   ]
  },
  {
   "cell_type": "code",
   "execution_count": 96,
   "id": "abaf7b5d",
   "metadata": {},
   "outputs": [
    {
     "data": {
      "text/html": [
       "<div>\n",
       "<style scoped>\n",
       "    .dataframe tbody tr th:only-of-type {\n",
       "        vertical-align: middle;\n",
       "    }\n",
       "\n",
       "    .dataframe tbody tr th {\n",
       "        vertical-align: top;\n",
       "    }\n",
       "\n",
       "    .dataframe thead th {\n",
       "        text-align: right;\n",
       "    }\n",
       "</style>\n",
       "<table border=\"1\" class=\"dataframe\">\n",
       "  <thead>\n",
       "    <tr style=\"text-align: right;\">\n",
       "      <th></th>\n",
       "      <th></th>\n",
       "      <th>A</th>\n",
       "      <th>B</th>\n",
       "      <th>C</th>\n",
       "    </tr>\n",
       "    <tr>\n",
       "      <th>first</th>\n",
       "      <th>second</th>\n",
       "      <th></th>\n",
       "      <th></th>\n",
       "      <th></th>\n",
       "    </tr>\n",
       "  </thead>\n",
       "  <tbody>\n",
       "    <tr>\n",
       "      <th rowspan=\"2\" valign=\"top\">bar</th>\n",
       "      <th>one</th>\n",
       "      <td>-1.099968</td>\n",
       "      <td>-0.905454</td>\n",
       "      <td>2.980732</td>\n",
       "    </tr>\n",
       "    <tr>\n",
       "      <th>two</th>\n",
       "      <td>0.775524</td>\n",
       "      <td>0.047056</td>\n",
       "      <td>0.567498</td>\n",
       "    </tr>\n",
       "    <tr>\n",
       "      <th rowspan=\"2\" valign=\"top\">baz</th>\n",
       "      <th>one</th>\n",
       "      <td>-0.280117</td>\n",
       "      <td>0.474000</td>\n",
       "      <td>0.593460</td>\n",
       "    </tr>\n",
       "    <tr>\n",
       "      <th>two</th>\n",
       "      <td>-2.597763</td>\n",
       "      <td>-0.941213</td>\n",
       "      <td>0.452156</td>\n",
       "    </tr>\n",
       "    <tr>\n",
       "      <th rowspan=\"2\" valign=\"top\">foo</th>\n",
       "      <th>one</th>\n",
       "      <td>0.904136</td>\n",
       "      <td>0.177659</td>\n",
       "      <td>0.969994</td>\n",
       "    </tr>\n",
       "    <tr>\n",
       "      <th>two</th>\n",
       "      <td>0.079566</td>\n",
       "      <td>2.283450</td>\n",
       "      <td>-0.353649</td>\n",
       "    </tr>\n",
       "    <tr>\n",
       "      <th rowspan=\"2\" valign=\"top\">qux</th>\n",
       "      <th>one</th>\n",
       "      <td>-0.192781</td>\n",
       "      <td>-0.344664</td>\n",
       "      <td>0.127216</td>\n",
       "    </tr>\n",
       "    <tr>\n",
       "      <th>two</th>\n",
       "      <td>0.716804</td>\n",
       "      <td>0.187324</td>\n",
       "      <td>-1.466834</td>\n",
       "    </tr>\n",
       "  </tbody>\n",
       "</table>\n",
       "</div>"
      ],
      "text/plain": [
       "                     A         B         C\n",
       "first second                              \n",
       "bar   one    -1.099968 -0.905454  2.980732\n",
       "      two     0.775524  0.047056  0.567498\n",
       "baz   one    -0.280117  0.474000  0.593460\n",
       "      two    -2.597763 -0.941213  0.452156\n",
       "foo   one     0.904136  0.177659  0.969994\n",
       "      two     0.079566  2.283450 -0.353649\n",
       "qux   one    -0.192781 -0.344664  0.127216\n",
       "      two     0.716804  0.187324 -1.466834"
      ]
     },
     "execution_count": 96,
     "metadata": {},
     "output_type": "execute_result"
    }
   ],
   "source": [
    "df"
   ]
  },
  {
   "cell_type": "code",
   "execution_count": 97,
   "id": "be4ef9e9",
   "metadata": {},
   "outputs": [
    {
     "data": {
      "text/html": [
       "<div>\n",
       "<style scoped>\n",
       "    .dataframe tbody tr th:only-of-type {\n",
       "        vertical-align: middle;\n",
       "    }\n",
       "\n",
       "    .dataframe tbody tr th {\n",
       "        vertical-align: top;\n",
       "    }\n",
       "\n",
       "    .dataframe thead tr th {\n",
       "        text-align: left;\n",
       "    }\n",
       "</style>\n",
       "<table border=\"1\" class=\"dataframe\">\n",
       "  <thead>\n",
       "    <tr>\n",
       "      <th>first</th>\n",
       "      <th colspan=\"2\" halign=\"left\">bar</th>\n",
       "      <th colspan=\"2\" halign=\"left\">baz</th>\n",
       "      <th colspan=\"2\" halign=\"left\">foo</th>\n",
       "      <th colspan=\"2\" halign=\"left\">qux</th>\n",
       "    </tr>\n",
       "    <tr>\n",
       "      <th>second</th>\n",
       "      <th>one</th>\n",
       "      <th>two</th>\n",
       "      <th>one</th>\n",
       "      <th>two</th>\n",
       "      <th>one</th>\n",
       "      <th>two</th>\n",
       "      <th>one</th>\n",
       "      <th>two</th>\n",
       "    </tr>\n",
       "  </thead>\n",
       "  <tbody>\n",
       "    <tr>\n",
       "      <th>A</th>\n",
       "      <td>-1.099968</td>\n",
       "      <td>0.775524</td>\n",
       "      <td>-0.280117</td>\n",
       "      <td>-2.597763</td>\n",
       "      <td>0.904136</td>\n",
       "      <td>0.079566</td>\n",
       "      <td>-0.192781</td>\n",
       "      <td>0.716804</td>\n",
       "    </tr>\n",
       "    <tr>\n",
       "      <th>B</th>\n",
       "      <td>-0.905454</td>\n",
       "      <td>0.047056</td>\n",
       "      <td>0.474000</td>\n",
       "      <td>-0.941213</td>\n",
       "      <td>0.177659</td>\n",
       "      <td>2.283450</td>\n",
       "      <td>-0.344664</td>\n",
       "      <td>0.187324</td>\n",
       "    </tr>\n",
       "    <tr>\n",
       "      <th>C</th>\n",
       "      <td>2.980732</td>\n",
       "      <td>0.567498</td>\n",
       "      <td>0.593460</td>\n",
       "      <td>0.452156</td>\n",
       "      <td>0.969994</td>\n",
       "      <td>-0.353649</td>\n",
       "      <td>0.127216</td>\n",
       "      <td>-1.466834</td>\n",
       "    </tr>\n",
       "  </tbody>\n",
       "</table>\n",
       "</div>"
      ],
      "text/plain": [
       "first        bar                 baz                 foo                 qux  \\\n",
       "second       one       two       one       two       one       two       one   \n",
       "A      -1.099968  0.775524 -0.280117 -2.597763  0.904136  0.079566 -0.192781   \n",
       "B      -0.905454  0.047056  0.474000 -0.941213  0.177659  2.283450 -0.344664   \n",
       "C       2.980732  0.567498  0.593460  0.452156  0.969994 -0.353649  0.127216   \n",
       "\n",
       "first             \n",
       "second       two  \n",
       "A       0.716804  \n",
       "B       0.187324  \n",
       "C      -1.466834  "
      ]
     },
     "execution_count": 97,
     "metadata": {},
     "output_type": "execute_result"
    }
   ],
   "source": [
    "df = df.T\n",
    "df"
   ]
  },
  {
   "cell_type": "code",
   "execution_count": 98,
   "id": "643c278d",
   "metadata": {},
   "outputs": [
    {
     "data": {
      "text/html": [
       "<div>\n",
       "<style scoped>\n",
       "    .dataframe tbody tr th:only-of-type {\n",
       "        vertical-align: middle;\n",
       "    }\n",
       "\n",
       "    .dataframe tbody tr th {\n",
       "        vertical-align: top;\n",
       "    }\n",
       "\n",
       "    .dataframe thead th {\n",
       "        text-align: right;\n",
       "    }\n",
       "</style>\n",
       "<table border=\"1\" class=\"dataframe\">\n",
       "  <thead>\n",
       "    <tr style=\"text-align: right;\">\n",
       "      <th>first</th>\n",
       "      <th>bar</th>\n",
       "      <th>baz</th>\n",
       "      <th>foo</th>\n",
       "      <th>qux</th>\n",
       "    </tr>\n",
       "  </thead>\n",
       "  <tbody>\n",
       "    <tr>\n",
       "      <th>A</th>\n",
       "      <td>-1.099968</td>\n",
       "      <td>-0.280117</td>\n",
       "      <td>0.904136</td>\n",
       "      <td>-0.192781</td>\n",
       "    </tr>\n",
       "    <tr>\n",
       "      <th>B</th>\n",
       "      <td>-0.905454</td>\n",
       "      <td>0.474000</td>\n",
       "      <td>0.177659</td>\n",
       "      <td>-0.344664</td>\n",
       "    </tr>\n",
       "    <tr>\n",
       "      <th>C</th>\n",
       "      <td>2.980732</td>\n",
       "      <td>0.593460</td>\n",
       "      <td>0.969994</td>\n",
       "      <td>0.127216</td>\n",
       "    </tr>\n",
       "  </tbody>\n",
       "</table>\n",
       "</div>"
      ],
      "text/plain": [
       "first       bar       baz       foo       qux\n",
       "A     -1.099968 -0.280117  0.904136 -0.192781\n",
       "B     -0.905454  0.474000  0.177659 -0.344664\n",
       "C      2.980732  0.593460  0.969994  0.127216"
      ]
     },
     "execution_count": 98,
     "metadata": {},
     "output_type": "execute_result"
    }
   ],
   "source": [
    "df.xs(\"one\", level=\"second\", axis=1)"
   ]
  },
  {
   "cell_type": "code",
   "execution_count": 99,
   "id": "ede6891b",
   "metadata": {},
   "outputs": [
    {
     "data": {
      "text/html": [
       "<div>\n",
       "<style scoped>\n",
       "    .dataframe tbody tr th:only-of-type {\n",
       "        vertical-align: middle;\n",
       "    }\n",
       "\n",
       "    .dataframe tbody tr th {\n",
       "        vertical-align: top;\n",
       "    }\n",
       "\n",
       "    .dataframe thead tr th {\n",
       "        text-align: left;\n",
       "    }\n",
       "</style>\n",
       "<table border=\"1\" class=\"dataframe\">\n",
       "  <thead>\n",
       "    <tr>\n",
       "      <th>first</th>\n",
       "      <th>bar</th>\n",
       "      <th>baz</th>\n",
       "      <th>foo</th>\n",
       "      <th>qux</th>\n",
       "    </tr>\n",
       "    <tr>\n",
       "      <th>second</th>\n",
       "      <th>one</th>\n",
       "      <th>one</th>\n",
       "      <th>one</th>\n",
       "      <th>one</th>\n",
       "    </tr>\n",
       "  </thead>\n",
       "  <tbody>\n",
       "    <tr>\n",
       "      <th>A</th>\n",
       "      <td>-1.099968</td>\n",
       "      <td>-0.280117</td>\n",
       "      <td>0.904136</td>\n",
       "      <td>-0.192781</td>\n",
       "    </tr>\n",
       "    <tr>\n",
       "      <th>B</th>\n",
       "      <td>-0.905454</td>\n",
       "      <td>0.474000</td>\n",
       "      <td>0.177659</td>\n",
       "      <td>-0.344664</td>\n",
       "    </tr>\n",
       "    <tr>\n",
       "      <th>C</th>\n",
       "      <td>2.980732</td>\n",
       "      <td>0.593460</td>\n",
       "      <td>0.969994</td>\n",
       "      <td>0.127216</td>\n",
       "    </tr>\n",
       "  </tbody>\n",
       "</table>\n",
       "</div>"
      ],
      "text/plain": [
       "first        bar       baz       foo       qux\n",
       "second       one       one       one       one\n",
       "A      -1.099968 -0.280117  0.904136 -0.192781\n",
       "B      -0.905454  0.474000  0.177659 -0.344664\n",
       "C       2.980732  0.593460  0.969994  0.127216"
      ]
     },
     "execution_count": 99,
     "metadata": {},
     "output_type": "execute_result"
    }
   ],
   "source": [
    "# using the slicers\n",
    "\n",
    "df.loc[:, (slice(None), \"one\")]"
   ]
  },
  {
   "cell_type": "code",
   "execution_count": 100,
   "id": "56c06476",
   "metadata": {},
   "outputs": [
    {
     "data": {
      "text/html": [
       "<div>\n",
       "<style scoped>\n",
       "    .dataframe tbody tr th:only-of-type {\n",
       "        vertical-align: middle;\n",
       "    }\n",
       "\n",
       "    .dataframe tbody tr th {\n",
       "        vertical-align: top;\n",
       "    }\n",
       "\n",
       "    .dataframe thead tr th {\n",
       "        text-align: left;\n",
       "    }\n",
       "</style>\n",
       "<table border=\"1\" class=\"dataframe\">\n",
       "  <thead>\n",
       "    <tr>\n",
       "      <th>first</th>\n",
       "      <th>bar</th>\n",
       "      <th>baz</th>\n",
       "      <th>foo</th>\n",
       "      <th>qux</th>\n",
       "    </tr>\n",
       "    <tr>\n",
       "      <th>second</th>\n",
       "      <th>one</th>\n",
       "      <th>one</th>\n",
       "      <th>one</th>\n",
       "      <th>one</th>\n",
       "    </tr>\n",
       "  </thead>\n",
       "  <tbody>\n",
       "    <tr>\n",
       "      <th>A</th>\n",
       "      <td>-1.099968</td>\n",
       "      <td>-0.280117</td>\n",
       "      <td>0.904136</td>\n",
       "      <td>-0.192781</td>\n",
       "    </tr>\n",
       "    <tr>\n",
       "      <th>B</th>\n",
       "      <td>-0.905454</td>\n",
       "      <td>0.474000</td>\n",
       "      <td>0.177659</td>\n",
       "      <td>-0.344664</td>\n",
       "    </tr>\n",
       "    <tr>\n",
       "      <th>C</th>\n",
       "      <td>2.980732</td>\n",
       "      <td>0.593460</td>\n",
       "      <td>0.969994</td>\n",
       "      <td>0.127216</td>\n",
       "    </tr>\n",
       "  </tbody>\n",
       "</table>\n",
       "</div>"
      ],
      "text/plain": [
       "first        bar       baz       foo       qux\n",
       "second       one       one       one       one\n",
       "A      -1.099968 -0.280117  0.904136 -0.192781\n",
       "B      -0.905454  0.474000  0.177659 -0.344664\n",
       "C       2.980732  0.593460  0.969994  0.127216"
      ]
     },
     "execution_count": 100,
     "metadata": {},
     "output_type": "execute_result"
    }
   ],
   "source": [
    "idx = pd.IndexSlice\n",
    "df.loc[:, idx[:, \"one\"]]"
   ]
  },
  {
   "cell_type": "code",
   "execution_count": 102,
   "id": "521dec43",
   "metadata": {},
   "outputs": [
    {
     "data": {
      "text/html": [
       "<div>\n",
       "<style scoped>\n",
       "    .dataframe tbody tr th:only-of-type {\n",
       "        vertical-align: middle;\n",
       "    }\n",
       "\n",
       "    .dataframe tbody tr th {\n",
       "        vertical-align: top;\n",
       "    }\n",
       "\n",
       "    .dataframe thead tr th {\n",
       "        text-align: left;\n",
       "    }\n",
       "</style>\n",
       "<table border=\"1\" class=\"dataframe\">\n",
       "  <thead>\n",
       "    <tr>\n",
       "      <th>first</th>\n",
       "      <th colspan=\"2\" halign=\"left\">bar</th>\n",
       "      <th colspan=\"2\" halign=\"left\">baz</th>\n",
       "      <th colspan=\"2\" halign=\"left\">foo</th>\n",
       "      <th colspan=\"2\" halign=\"left\">qux</th>\n",
       "    </tr>\n",
       "    <tr>\n",
       "      <th>second</th>\n",
       "      <th>one</th>\n",
       "      <th>two</th>\n",
       "      <th>one</th>\n",
       "      <th>two</th>\n",
       "      <th>one</th>\n",
       "      <th>two</th>\n",
       "      <th>one</th>\n",
       "      <th>two</th>\n",
       "    </tr>\n",
       "  </thead>\n",
       "  <tbody>\n",
       "    <tr>\n",
       "      <th>A</th>\n",
       "      <td>-1.099968</td>\n",
       "      <td>0.775524</td>\n",
       "      <td>-0.280117</td>\n",
       "      <td>-2.597763</td>\n",
       "      <td>0.904136</td>\n",
       "      <td>0.079566</td>\n",
       "      <td>-0.192781</td>\n",
       "      <td>0.716804</td>\n",
       "    </tr>\n",
       "    <tr>\n",
       "      <th>B</th>\n",
       "      <td>-0.905454</td>\n",
       "      <td>0.047056</td>\n",
       "      <td>0.474000</td>\n",
       "      <td>-0.941213</td>\n",
       "      <td>0.177659</td>\n",
       "      <td>2.283450</td>\n",
       "      <td>-0.344664</td>\n",
       "      <td>0.187324</td>\n",
       "    </tr>\n",
       "    <tr>\n",
       "      <th>C</th>\n",
       "      <td>2.980732</td>\n",
       "      <td>0.567498</td>\n",
       "      <td>0.593460</td>\n",
       "      <td>0.452156</td>\n",
       "      <td>0.969994</td>\n",
       "      <td>-0.353649</td>\n",
       "      <td>0.127216</td>\n",
       "      <td>-1.466834</td>\n",
       "    </tr>\n",
       "  </tbody>\n",
       "</table>\n",
       "</div>"
      ],
      "text/plain": [
       "first        bar                 baz                 foo                 qux  \\\n",
       "second       one       two       one       two       one       two       one   \n",
       "A      -1.099968  0.775524 -0.280117 -2.597763  0.904136  0.079566 -0.192781   \n",
       "B      -0.905454  0.047056  0.474000 -0.941213  0.177659  2.283450 -0.344664   \n",
       "C       2.980732  0.567498  0.593460  0.452156  0.969994 -0.353649  0.127216   \n",
       "\n",
       "first             \n",
       "second       two  \n",
       "A       0.716804  \n",
       "B       0.187324  \n",
       "C      -1.466834  "
      ]
     },
     "execution_count": 102,
     "metadata": {},
     "output_type": "execute_result"
    }
   ],
   "source": [
    "df"
   ]
  },
  {
   "cell_type": "code",
   "execution_count": 101,
   "id": "e7b470ab",
   "metadata": {},
   "outputs": [
    {
     "data": {
      "text/html": [
       "<div>\n",
       "<style scoped>\n",
       "    .dataframe tbody tr th:only-of-type {\n",
       "        vertical-align: middle;\n",
       "    }\n",
       "\n",
       "    .dataframe tbody tr th {\n",
       "        vertical-align: top;\n",
       "    }\n",
       "\n",
       "    .dataframe thead tr th {\n",
       "        text-align: left;\n",
       "    }\n",
       "</style>\n",
       "<table border=\"1\" class=\"dataframe\">\n",
       "  <thead>\n",
       "    <tr>\n",
       "      <th>first</th>\n",
       "      <th>bar</th>\n",
       "    </tr>\n",
       "    <tr>\n",
       "      <th>second</th>\n",
       "      <th>one</th>\n",
       "    </tr>\n",
       "  </thead>\n",
       "  <tbody>\n",
       "    <tr>\n",
       "      <th>A</th>\n",
       "      <td>-1.099968</td>\n",
       "    </tr>\n",
       "    <tr>\n",
       "      <th>B</th>\n",
       "      <td>-0.905454</td>\n",
       "    </tr>\n",
       "    <tr>\n",
       "      <th>C</th>\n",
       "      <td>2.980732</td>\n",
       "    </tr>\n",
       "  </tbody>\n",
       "</table>\n",
       "</div>"
      ],
      "text/plain": [
       "first        bar\n",
       "second       one\n",
       "A      -1.099968\n",
       "B      -0.905454\n",
       "C       2.980732"
      ]
     },
     "execution_count": 101,
     "metadata": {},
     "output_type": "execute_result"
    }
   ],
   "source": [
    "df.xs((\"one\", \"bar\"), level=(\"second\", \"first\"), axis=1)"
   ]
  },
  {
   "cell_type": "code",
   "execution_count": 104,
   "id": "fa903c1a",
   "metadata": {},
   "outputs": [
    {
     "data": {
      "text/html": [
       "<div>\n",
       "<style scoped>\n",
       "    .dataframe tbody tr th:only-of-type {\n",
       "        vertical-align: middle;\n",
       "    }\n",
       "\n",
       "    .dataframe tbody tr th {\n",
       "        vertical-align: top;\n",
       "    }\n",
       "\n",
       "    .dataframe thead tr th {\n",
       "        text-align: left;\n",
       "    }\n",
       "</style>\n",
       "<table border=\"1\" class=\"dataframe\">\n",
       "  <thead>\n",
       "    <tr>\n",
       "      <th>first</th>\n",
       "      <th>bar</th>\n",
       "    </tr>\n",
       "    <tr>\n",
       "      <th>second</th>\n",
       "      <th>one</th>\n",
       "    </tr>\n",
       "  </thead>\n",
       "  <tbody>\n",
       "    <tr>\n",
       "      <th>A</th>\n",
       "      <td>-1.099968</td>\n",
       "    </tr>\n",
       "    <tr>\n",
       "      <th>B</th>\n",
       "      <td>-0.905454</td>\n",
       "    </tr>\n",
       "    <tr>\n",
       "      <th>C</th>\n",
       "      <td>2.980732</td>\n",
       "    </tr>\n",
       "  </tbody>\n",
       "</table>\n",
       "</div>"
      ],
      "text/plain": [
       "first        bar\n",
       "second       one\n",
       "A      -1.099968\n",
       "B      -0.905454\n",
       "C       2.980732"
      ]
     },
     "execution_count": 104,
     "metadata": {},
     "output_type": "execute_result"
    }
   ],
   "source": [
    "df.xs((\"one\", \"bar\"), level=(\"second\", \"first\"), axis=1, drop_level=False)"
   ]
  },
  {
   "cell_type": "code",
   "execution_count": 103,
   "id": "063e8697",
   "metadata": {},
   "outputs": [
    {
     "data": {
      "text/plain": [
       "A   -1.099968\n",
       "B   -0.905454\n",
       "C    2.980732\n",
       "Name: (bar, one), dtype: float64"
      ]
     },
     "execution_count": 103,
     "metadata": {},
     "output_type": "execute_result"
    }
   ],
   "source": [
    "# using the slicers\n",
    "\n",
    "df.loc[:, (\"bar\", \"one\")]"
   ]
  },
  {
   "cell_type": "code",
   "execution_count": 105,
   "id": "bdf8970b",
   "metadata": {},
   "outputs": [
    {
     "data": {
      "text/html": [
       "<div>\n",
       "<style scoped>\n",
       "    .dataframe tbody tr th:only-of-type {\n",
       "        vertical-align: middle;\n",
       "    }\n",
       "\n",
       "    .dataframe tbody tr th {\n",
       "        vertical-align: top;\n",
       "    }\n",
       "\n",
       "    .dataframe thead tr th {\n",
       "        text-align: left;\n",
       "    }\n",
       "</style>\n",
       "<table border=\"1\" class=\"dataframe\">\n",
       "  <thead>\n",
       "    <tr>\n",
       "      <th>first</th>\n",
       "      <th>bar</th>\n",
       "      <th>baz</th>\n",
       "      <th>foo</th>\n",
       "      <th>qux</th>\n",
       "    </tr>\n",
       "    <tr>\n",
       "      <th>second</th>\n",
       "      <th>one</th>\n",
       "      <th>one</th>\n",
       "      <th>one</th>\n",
       "      <th>one</th>\n",
       "    </tr>\n",
       "  </thead>\n",
       "  <tbody>\n",
       "    <tr>\n",
       "      <th>A</th>\n",
       "      <td>-1.099968</td>\n",
       "      <td>-0.280117</td>\n",
       "      <td>0.904136</td>\n",
       "      <td>-0.192781</td>\n",
       "    </tr>\n",
       "    <tr>\n",
       "      <th>B</th>\n",
       "      <td>-0.905454</td>\n",
       "      <td>0.474000</td>\n",
       "      <td>0.177659</td>\n",
       "      <td>-0.344664</td>\n",
       "    </tr>\n",
       "    <tr>\n",
       "      <th>C</th>\n",
       "      <td>2.980732</td>\n",
       "      <td>0.593460</td>\n",
       "      <td>0.969994</td>\n",
       "      <td>0.127216</td>\n",
       "    </tr>\n",
       "  </tbody>\n",
       "</table>\n",
       "</div>"
      ],
      "text/plain": [
       "first        bar       baz       foo       qux\n",
       "second       one       one       one       one\n",
       "A      -1.099968 -0.280117  0.904136 -0.192781\n",
       "B      -0.905454  0.474000  0.177659 -0.344664\n",
       "C       2.980732  0.593460  0.969994  0.127216"
      ]
     },
     "execution_count": 105,
     "metadata": {},
     "output_type": "execute_result"
    }
   ],
   "source": [
    "df.xs(\"one\", level=\"second\", axis=1, drop_level=False)"
   ]
  },
  {
   "cell_type": "code",
   "execution_count": 106,
   "id": "a37cbea5",
   "metadata": {},
   "outputs": [
    {
     "data": {
      "text/html": [
       "<div>\n",
       "<style scoped>\n",
       "    .dataframe tbody tr th:only-of-type {\n",
       "        vertical-align: middle;\n",
       "    }\n",
       "\n",
       "    .dataframe tbody tr th {\n",
       "        vertical-align: top;\n",
       "    }\n",
       "\n",
       "    .dataframe thead th {\n",
       "        text-align: right;\n",
       "    }\n",
       "</style>\n",
       "<table border=\"1\" class=\"dataframe\">\n",
       "  <thead>\n",
       "    <tr style=\"text-align: right;\">\n",
       "      <th>first</th>\n",
       "      <th>bar</th>\n",
       "      <th>baz</th>\n",
       "      <th>foo</th>\n",
       "      <th>qux</th>\n",
       "    </tr>\n",
       "  </thead>\n",
       "  <tbody>\n",
       "    <tr>\n",
       "      <th>A</th>\n",
       "      <td>-1.099968</td>\n",
       "      <td>-0.280117</td>\n",
       "      <td>0.904136</td>\n",
       "      <td>-0.192781</td>\n",
       "    </tr>\n",
       "    <tr>\n",
       "      <th>B</th>\n",
       "      <td>-0.905454</td>\n",
       "      <td>0.474000</td>\n",
       "      <td>0.177659</td>\n",
       "      <td>-0.344664</td>\n",
       "    </tr>\n",
       "    <tr>\n",
       "      <th>C</th>\n",
       "      <td>2.980732</td>\n",
       "      <td>0.593460</td>\n",
       "      <td>0.969994</td>\n",
       "      <td>0.127216</td>\n",
       "    </tr>\n",
       "  </tbody>\n",
       "</table>\n",
       "</div>"
      ],
      "text/plain": [
       "first       bar       baz       foo       qux\n",
       "A     -1.099968 -0.280117  0.904136 -0.192781\n",
       "B     -0.905454  0.474000  0.177659 -0.344664\n",
       "C      2.980732  0.593460  0.969994  0.127216"
      ]
     },
     "execution_count": 106,
     "metadata": {},
     "output_type": "execute_result"
    }
   ],
   "source": [
    "df.xs(\"one\", level=\"second\", axis=1, drop_level=True)"
   ]
  },
  {
   "cell_type": "code",
   "execution_count": 107,
   "id": "f79c3b1d",
   "metadata": {},
   "outputs": [
    {
     "data": {
      "text/html": [
       "<div>\n",
       "<style scoped>\n",
       "    .dataframe tbody tr th:only-of-type {\n",
       "        vertical-align: middle;\n",
       "    }\n",
       "\n",
       "    .dataframe tbody tr th {\n",
       "        vertical-align: top;\n",
       "    }\n",
       "\n",
       "    .dataframe thead th {\n",
       "        text-align: right;\n",
       "    }\n",
       "</style>\n",
       "<table border=\"1\" class=\"dataframe\">\n",
       "  <thead>\n",
       "    <tr style=\"text-align: right;\">\n",
       "      <th></th>\n",
       "      <th></th>\n",
       "      <th>0</th>\n",
       "      <th>1</th>\n",
       "    </tr>\n",
       "  </thead>\n",
       "  <tbody>\n",
       "    <tr>\n",
       "      <th rowspan=\"2\" valign=\"top\">one</th>\n",
       "      <th>y</th>\n",
       "      <td>0.055253</td>\n",
       "      <td>0.264825</td>\n",
       "    </tr>\n",
       "    <tr>\n",
       "      <th>x</th>\n",
       "      <td>-1.272378</td>\n",
       "      <td>-0.321088</td>\n",
       "    </tr>\n",
       "    <tr>\n",
       "      <th rowspan=\"2\" valign=\"top\">zero</th>\n",
       "      <th>y</th>\n",
       "      <td>-2.222824</td>\n",
       "      <td>-0.139085</td>\n",
       "    </tr>\n",
       "    <tr>\n",
       "      <th>x</th>\n",
       "      <td>-0.551860</td>\n",
       "      <td>-0.677951</td>\n",
       "    </tr>\n",
       "  </tbody>\n",
       "</table>\n",
       "</div>"
      ],
      "text/plain": [
       "               0         1\n",
       "one  y  0.055253  0.264825\n",
       "     x -1.272378 -0.321088\n",
       "zero y -2.222824 -0.139085\n",
       "     x -0.551860 -0.677951"
      ]
     },
     "execution_count": 107,
     "metadata": {},
     "output_type": "execute_result"
    }
   ],
   "source": [
    "midx = pd.MultiIndex(\n",
    "\n",
    "    levels=[[\"zero\", \"one\"], [\"x\", \"y\"]], codes=[[1, 1, 0, 0], [1, 0, 1, 0]]\n",
    "\n",
    ")\n",
    "\n",
    "\n",
    "\n",
    "df = pd.DataFrame(np.random.randn(4, 2), index=midx)\n",
    "\n",
    "df"
   ]
  },
  {
   "cell_type": "code",
   "execution_count": 109,
   "id": "9e62b04c",
   "metadata": {},
   "outputs": [
    {
     "data": {
      "text/html": [
       "<div>\n",
       "<style scoped>\n",
       "    .dataframe tbody tr th:only-of-type {\n",
       "        vertical-align: middle;\n",
       "    }\n",
       "\n",
       "    .dataframe tbody tr th {\n",
       "        vertical-align: top;\n",
       "    }\n",
       "\n",
       "    .dataframe thead th {\n",
       "        text-align: right;\n",
       "    }\n",
       "</style>\n",
       "<table border=\"1\" class=\"dataframe\">\n",
       "  <thead>\n",
       "    <tr style=\"text-align: right;\">\n",
       "      <th></th>\n",
       "      <th>0</th>\n",
       "      <th>1</th>\n",
       "    </tr>\n",
       "  </thead>\n",
       "  <tbody>\n",
       "    <tr>\n",
       "      <th>one</th>\n",
       "      <td>-0.608563</td>\n",
       "      <td>-0.028131</td>\n",
       "    </tr>\n",
       "    <tr>\n",
       "      <th>zero</th>\n",
       "      <td>-1.387342</td>\n",
       "      <td>-0.408518</td>\n",
       "    </tr>\n",
       "  </tbody>\n",
       "</table>\n",
       "</div>"
      ],
      "text/plain": [
       "             0         1\n",
       "one  -0.608563 -0.028131\n",
       "zero -1.387342 -0.408518"
      ]
     },
     "execution_count": 109,
     "metadata": {},
     "output_type": "execute_result"
    }
   ],
   "source": [
    "df2 = df.groupby(level=0).mean()\n",
    "df2"
   ]
  },
  {
   "cell_type": "code",
   "execution_count": 110,
   "id": "9cd873ef",
   "metadata": {},
   "outputs": [
    {
     "data": {
      "text/html": [
       "<div>\n",
       "<style scoped>\n",
       "    .dataframe tbody tr th:only-of-type {\n",
       "        vertical-align: middle;\n",
       "    }\n",
       "\n",
       "    .dataframe tbody tr th {\n",
       "        vertical-align: top;\n",
       "    }\n",
       "\n",
       "    .dataframe thead th {\n",
       "        text-align: right;\n",
       "    }\n",
       "</style>\n",
       "<table border=\"1\" class=\"dataframe\">\n",
       "  <thead>\n",
       "    <tr style=\"text-align: right;\">\n",
       "      <th></th>\n",
       "      <th></th>\n",
       "      <th>0</th>\n",
       "      <th>1</th>\n",
       "    </tr>\n",
       "  </thead>\n",
       "  <tbody>\n",
       "    <tr>\n",
       "      <th rowspan=\"2\" valign=\"top\">one</th>\n",
       "      <th>y</th>\n",
       "      <td>-0.608563</td>\n",
       "      <td>-0.028131</td>\n",
       "    </tr>\n",
       "    <tr>\n",
       "      <th>x</th>\n",
       "      <td>-0.608563</td>\n",
       "      <td>-0.028131</td>\n",
       "    </tr>\n",
       "    <tr>\n",
       "      <th rowspan=\"2\" valign=\"top\">zero</th>\n",
       "      <th>y</th>\n",
       "      <td>-1.387342</td>\n",
       "      <td>-0.408518</td>\n",
       "    </tr>\n",
       "    <tr>\n",
       "      <th>x</th>\n",
       "      <td>-1.387342</td>\n",
       "      <td>-0.408518</td>\n",
       "    </tr>\n",
       "  </tbody>\n",
       "</table>\n",
       "</div>"
      ],
      "text/plain": [
       "               0         1\n",
       "one  y -0.608563 -0.028131\n",
       "     x -0.608563 -0.028131\n",
       "zero y -1.387342 -0.408518\n",
       "     x -1.387342 -0.408518"
      ]
     },
     "execution_count": 110,
     "metadata": {},
     "output_type": "execute_result"
    }
   ],
   "source": [
    "df2.reindex(df.index, level=0)"
   ]
  },
  {
   "cell_type": "code",
   "execution_count": 111,
   "id": "20c9288a",
   "metadata": {},
   "outputs": [],
   "source": [
    "# aligning\n",
    "\n",
    "df_aligned, df2_aligned = df.align(df2, level=0)"
   ]
  },
  {
   "cell_type": "code",
   "execution_count": 114,
   "id": "ee371468",
   "metadata": {},
   "outputs": [
    {
     "data": {
      "text/html": [
       "<div>\n",
       "<style scoped>\n",
       "    .dataframe tbody tr th:only-of-type {\n",
       "        vertical-align: middle;\n",
       "    }\n",
       "\n",
       "    .dataframe tbody tr th {\n",
       "        vertical-align: top;\n",
       "    }\n",
       "\n",
       "    .dataframe thead th {\n",
       "        text-align: right;\n",
       "    }\n",
       "</style>\n",
       "<table border=\"1\" class=\"dataframe\">\n",
       "  <thead>\n",
       "    <tr style=\"text-align: right;\">\n",
       "      <th></th>\n",
       "      <th></th>\n",
       "      <th>0</th>\n",
       "      <th>1</th>\n",
       "    </tr>\n",
       "  </thead>\n",
       "  <tbody>\n",
       "    <tr>\n",
       "      <th rowspan=\"2\" valign=\"top\">one</th>\n",
       "      <th>y</th>\n",
       "      <td>0.055253</td>\n",
       "      <td>0.264825</td>\n",
       "    </tr>\n",
       "    <tr>\n",
       "      <th>x</th>\n",
       "      <td>-1.272378</td>\n",
       "      <td>-0.321088</td>\n",
       "    </tr>\n",
       "    <tr>\n",
       "      <th rowspan=\"2\" valign=\"top\">zero</th>\n",
       "      <th>y</th>\n",
       "      <td>-2.222824</td>\n",
       "      <td>-0.139085</td>\n",
       "    </tr>\n",
       "    <tr>\n",
       "      <th>x</th>\n",
       "      <td>-0.551860</td>\n",
       "      <td>-0.677951</td>\n",
       "    </tr>\n",
       "  </tbody>\n",
       "</table>\n",
       "</div>"
      ],
      "text/plain": [
       "               0         1\n",
       "one  y  0.055253  0.264825\n",
       "     x -1.272378 -0.321088\n",
       "zero y -2.222824 -0.139085\n",
       "     x -0.551860 -0.677951"
      ]
     },
     "execution_count": 114,
     "metadata": {},
     "output_type": "execute_result"
    }
   ],
   "source": [
    "df"
   ]
  },
  {
   "cell_type": "code",
   "execution_count": 112,
   "id": "871e9ad8",
   "metadata": {},
   "outputs": [
    {
     "data": {
      "text/html": [
       "<div>\n",
       "<style scoped>\n",
       "    .dataframe tbody tr th:only-of-type {\n",
       "        vertical-align: middle;\n",
       "    }\n",
       "\n",
       "    .dataframe tbody tr th {\n",
       "        vertical-align: top;\n",
       "    }\n",
       "\n",
       "    .dataframe thead th {\n",
       "        text-align: right;\n",
       "    }\n",
       "</style>\n",
       "<table border=\"1\" class=\"dataframe\">\n",
       "  <thead>\n",
       "    <tr style=\"text-align: right;\">\n",
       "      <th></th>\n",
       "      <th></th>\n",
       "      <th>0</th>\n",
       "      <th>1</th>\n",
       "    </tr>\n",
       "  </thead>\n",
       "  <tbody>\n",
       "    <tr>\n",
       "      <th rowspan=\"2\" valign=\"top\">one</th>\n",
       "      <th>y</th>\n",
       "      <td>0.055253</td>\n",
       "      <td>0.264825</td>\n",
       "    </tr>\n",
       "    <tr>\n",
       "      <th>x</th>\n",
       "      <td>-1.272378</td>\n",
       "      <td>-0.321088</td>\n",
       "    </tr>\n",
       "    <tr>\n",
       "      <th rowspan=\"2\" valign=\"top\">zero</th>\n",
       "      <th>y</th>\n",
       "      <td>-2.222824</td>\n",
       "      <td>-0.139085</td>\n",
       "    </tr>\n",
       "    <tr>\n",
       "      <th>x</th>\n",
       "      <td>-0.551860</td>\n",
       "      <td>-0.677951</td>\n",
       "    </tr>\n",
       "  </tbody>\n",
       "</table>\n",
       "</div>"
      ],
      "text/plain": [
       "               0         1\n",
       "one  y  0.055253  0.264825\n",
       "     x -1.272378 -0.321088\n",
       "zero y -2.222824 -0.139085\n",
       "     x -0.551860 -0.677951"
      ]
     },
     "execution_count": 112,
     "metadata": {},
     "output_type": "execute_result"
    }
   ],
   "source": [
    "df_aligned"
   ]
  },
  {
   "cell_type": "code",
   "execution_count": 113,
   "id": "5ea6d11d",
   "metadata": {},
   "outputs": [
    {
     "data": {
      "text/html": [
       "<div>\n",
       "<style scoped>\n",
       "    .dataframe tbody tr th:only-of-type {\n",
       "        vertical-align: middle;\n",
       "    }\n",
       "\n",
       "    .dataframe tbody tr th {\n",
       "        vertical-align: top;\n",
       "    }\n",
       "\n",
       "    .dataframe thead th {\n",
       "        text-align: right;\n",
       "    }\n",
       "</style>\n",
       "<table border=\"1\" class=\"dataframe\">\n",
       "  <thead>\n",
       "    <tr style=\"text-align: right;\">\n",
       "      <th></th>\n",
       "      <th></th>\n",
       "      <th>0</th>\n",
       "      <th>1</th>\n",
       "    </tr>\n",
       "  </thead>\n",
       "  <tbody>\n",
       "    <tr>\n",
       "      <th rowspan=\"2\" valign=\"top\">one</th>\n",
       "      <th>y</th>\n",
       "      <td>-0.608563</td>\n",
       "      <td>-0.028131</td>\n",
       "    </tr>\n",
       "    <tr>\n",
       "      <th>x</th>\n",
       "      <td>-0.608563</td>\n",
       "      <td>-0.028131</td>\n",
       "    </tr>\n",
       "    <tr>\n",
       "      <th rowspan=\"2\" valign=\"top\">zero</th>\n",
       "      <th>y</th>\n",
       "      <td>-1.387342</td>\n",
       "      <td>-0.408518</td>\n",
       "    </tr>\n",
       "    <tr>\n",
       "      <th>x</th>\n",
       "      <td>-1.387342</td>\n",
       "      <td>-0.408518</td>\n",
       "    </tr>\n",
       "  </tbody>\n",
       "</table>\n",
       "</div>"
      ],
      "text/plain": [
       "               0         1\n",
       "one  y -0.608563 -0.028131\n",
       "     x -0.608563 -0.028131\n",
       "zero y -1.387342 -0.408518\n",
       "     x -1.387342 -0.408518"
      ]
     },
     "execution_count": 113,
     "metadata": {},
     "output_type": "execute_result"
    }
   ],
   "source": [
    "df2_aligned"
   ]
  },
  {
   "cell_type": "code",
   "execution_count": 115,
   "id": "28bc207e",
   "metadata": {},
   "outputs": [
    {
     "data": {
      "text/html": [
       "<div>\n",
       "<style scoped>\n",
       "    .dataframe tbody tr th:only-of-type {\n",
       "        vertical-align: middle;\n",
       "    }\n",
       "\n",
       "    .dataframe tbody tr th {\n",
       "        vertical-align: top;\n",
       "    }\n",
       "\n",
       "    .dataframe thead th {\n",
       "        text-align: right;\n",
       "    }\n",
       "</style>\n",
       "<table border=\"1\" class=\"dataframe\">\n",
       "  <thead>\n",
       "    <tr style=\"text-align: right;\">\n",
       "      <th></th>\n",
       "      <th></th>\n",
       "      <th>0</th>\n",
       "      <th>1</th>\n",
       "    </tr>\n",
       "  </thead>\n",
       "  <tbody>\n",
       "    <tr>\n",
       "      <th rowspan=\"2\" valign=\"top\">one</th>\n",
       "      <th>y</th>\n",
       "      <td>0.055253</td>\n",
       "      <td>0.264825</td>\n",
       "    </tr>\n",
       "    <tr>\n",
       "      <th>x</th>\n",
       "      <td>-1.272378</td>\n",
       "      <td>-0.321088</td>\n",
       "    </tr>\n",
       "    <tr>\n",
       "      <th rowspan=\"2\" valign=\"top\">zero</th>\n",
       "      <th>y</th>\n",
       "      <td>-2.222824</td>\n",
       "      <td>-0.139085</td>\n",
       "    </tr>\n",
       "    <tr>\n",
       "      <th>x</th>\n",
       "      <td>-0.551860</td>\n",
       "      <td>-0.677951</td>\n",
       "    </tr>\n",
       "  </tbody>\n",
       "</table>\n",
       "</div>"
      ],
      "text/plain": [
       "               0         1\n",
       "one  y  0.055253  0.264825\n",
       "     x -1.272378 -0.321088\n",
       "zero y -2.222824 -0.139085\n",
       "     x -0.551860 -0.677951"
      ]
     },
     "execution_count": 115,
     "metadata": {},
     "output_type": "execute_result"
    }
   ],
   "source": [
    "df[:5]"
   ]
  },
  {
   "cell_type": "code",
   "execution_count": 116,
   "id": "ecb0860c",
   "metadata": {},
   "outputs": [
    {
     "data": {
      "text/html": [
       "<div>\n",
       "<style scoped>\n",
       "    .dataframe tbody tr th:only-of-type {\n",
       "        vertical-align: middle;\n",
       "    }\n",
       "\n",
       "    .dataframe tbody tr th {\n",
       "        vertical-align: top;\n",
       "    }\n",
       "\n",
       "    .dataframe thead th {\n",
       "        text-align: right;\n",
       "    }\n",
       "</style>\n",
       "<table border=\"1\" class=\"dataframe\">\n",
       "  <thead>\n",
       "    <tr style=\"text-align: right;\">\n",
       "      <th></th>\n",
       "      <th></th>\n",
       "      <th>0</th>\n",
       "      <th>1</th>\n",
       "    </tr>\n",
       "  </thead>\n",
       "  <tbody>\n",
       "    <tr>\n",
       "      <th>y</th>\n",
       "      <th>one</th>\n",
       "      <td>0.055253</td>\n",
       "      <td>0.264825</td>\n",
       "    </tr>\n",
       "    <tr>\n",
       "      <th>x</th>\n",
       "      <th>one</th>\n",
       "      <td>-1.272378</td>\n",
       "      <td>-0.321088</td>\n",
       "    </tr>\n",
       "    <tr>\n",
       "      <th>y</th>\n",
       "      <th>zero</th>\n",
       "      <td>-2.222824</td>\n",
       "      <td>-0.139085</td>\n",
       "    </tr>\n",
       "    <tr>\n",
       "      <th>x</th>\n",
       "      <th>zero</th>\n",
       "      <td>-0.551860</td>\n",
       "      <td>-0.677951</td>\n",
       "    </tr>\n",
       "  </tbody>\n",
       "</table>\n",
       "</div>"
      ],
      "text/plain": [
       "               0         1\n",
       "y one   0.055253  0.264825\n",
       "x one  -1.272378 -0.321088\n",
       "y zero -2.222824 -0.139085\n",
       "x zero -0.551860 -0.677951"
      ]
     },
     "execution_count": 116,
     "metadata": {},
     "output_type": "execute_result"
    }
   ],
   "source": [
    "df[:5].swaplevel(0, 1, axis=0)"
   ]
  },
  {
   "cell_type": "code",
   "execution_count": 117,
   "id": "b06dba1b",
   "metadata": {},
   "outputs": [
    {
     "data": {
      "text/html": [
       "<div>\n",
       "<style scoped>\n",
       "    .dataframe tbody tr th:only-of-type {\n",
       "        vertical-align: middle;\n",
       "    }\n",
       "\n",
       "    .dataframe tbody tr th {\n",
       "        vertical-align: top;\n",
       "    }\n",
       "\n",
       "    .dataframe thead th {\n",
       "        text-align: right;\n",
       "    }\n",
       "</style>\n",
       "<table border=\"1\" class=\"dataframe\">\n",
       "  <thead>\n",
       "    <tr style=\"text-align: right;\">\n",
       "      <th></th>\n",
       "      <th></th>\n",
       "      <th>0</th>\n",
       "      <th>1</th>\n",
       "    </tr>\n",
       "  </thead>\n",
       "  <tbody>\n",
       "    <tr>\n",
       "      <th rowspan=\"2\" valign=\"top\">x</th>\n",
       "      <th>one</th>\n",
       "      <td>-1.272378</td>\n",
       "      <td>-0.321088</td>\n",
       "    </tr>\n",
       "    <tr>\n",
       "      <th>zero</th>\n",
       "      <td>-0.551860</td>\n",
       "      <td>-0.677951</td>\n",
       "    </tr>\n",
       "    <tr>\n",
       "      <th rowspan=\"2\" valign=\"top\">y</th>\n",
       "      <th>one</th>\n",
       "      <td>0.055253</td>\n",
       "      <td>0.264825</td>\n",
       "    </tr>\n",
       "    <tr>\n",
       "      <th>zero</th>\n",
       "      <td>-2.222824</td>\n",
       "      <td>-0.139085</td>\n",
       "    </tr>\n",
       "  </tbody>\n",
       "</table>\n",
       "</div>"
      ],
      "text/plain": [
       "               0         1\n",
       "x one  -1.272378 -0.321088\n",
       "  zero -0.551860 -0.677951\n",
       "y one   0.055253  0.264825\n",
       "  zero -2.222824 -0.139085"
      ]
     },
     "execution_count": 117,
     "metadata": {},
     "output_type": "execute_result"
    }
   ],
   "source": [
    "df[:5].swaplevel(0, 1, axis=0).sort_index(level=0)"
   ]
  },
  {
   "cell_type": "code",
   "execution_count": 118,
   "id": "b42af6a6",
   "metadata": {},
   "outputs": [
    {
     "data": {
      "text/html": [
       "<div>\n",
       "<style scoped>\n",
       "    .dataframe tbody tr th:only-of-type {\n",
       "        vertical-align: middle;\n",
       "    }\n",
       "\n",
       "    .dataframe tbody tr th {\n",
       "        vertical-align: top;\n",
       "    }\n",
       "\n",
       "    .dataframe thead th {\n",
       "        text-align: right;\n",
       "    }\n",
       "</style>\n",
       "<table border=\"1\" class=\"dataframe\">\n",
       "  <thead>\n",
       "    <tr style=\"text-align: right;\">\n",
       "      <th></th>\n",
       "      <th></th>\n",
       "      <th>0</th>\n",
       "      <th>1</th>\n",
       "    </tr>\n",
       "  </thead>\n",
       "  <tbody>\n",
       "    <tr>\n",
       "      <th rowspan=\"2\" valign=\"top\">x</th>\n",
       "      <th>one</th>\n",
       "      <td>-1.272378</td>\n",
       "      <td>-0.321088</td>\n",
       "    </tr>\n",
       "    <tr>\n",
       "      <th>zero</th>\n",
       "      <td>-0.551860</td>\n",
       "      <td>-0.677951</td>\n",
       "    </tr>\n",
       "    <tr>\n",
       "      <th rowspan=\"2\" valign=\"top\">y</th>\n",
       "      <th>one</th>\n",
       "      <td>0.055253</td>\n",
       "      <td>0.264825</td>\n",
       "    </tr>\n",
       "    <tr>\n",
       "      <th>zero</th>\n",
       "      <td>-2.222824</td>\n",
       "      <td>-0.139085</td>\n",
       "    </tr>\n",
       "  </tbody>\n",
       "</table>\n",
       "</div>"
      ],
      "text/plain": [
       "               0         1\n",
       "x one  -1.272378 -0.321088\n",
       "  zero -0.551860 -0.677951\n",
       "y one   0.055253  0.264825\n",
       "  zero -2.222824 -0.139085"
      ]
     },
     "execution_count": 118,
     "metadata": {},
     "output_type": "execute_result"
    }
   ],
   "source": [
    "df[:5].swaplevel(0, 1, axis=0).sort_index(level=[0, 1])"
   ]
  },
  {
   "cell_type": "code",
   "execution_count": 120,
   "id": "5a788d2b",
   "metadata": {},
   "outputs": [
    {
     "data": {
      "text/html": [
       "<div>\n",
       "<style scoped>\n",
       "    .dataframe tbody tr th:only-of-type {\n",
       "        vertical-align: middle;\n",
       "    }\n",
       "\n",
       "    .dataframe tbody tr th {\n",
       "        vertical-align: top;\n",
       "    }\n",
       "\n",
       "    .dataframe thead th {\n",
       "        text-align: right;\n",
       "    }\n",
       "</style>\n",
       "<table border=\"1\" class=\"dataframe\">\n",
       "  <thead>\n",
       "    <tr style=\"text-align: right;\">\n",
       "      <th></th>\n",
       "      <th></th>\n",
       "      <th>0</th>\n",
       "      <th>1</th>\n",
       "    </tr>\n",
       "  </thead>\n",
       "  <tbody>\n",
       "    <tr>\n",
       "      <th rowspan=\"2\" valign=\"top\">x</th>\n",
       "      <th>zero</th>\n",
       "      <td>-0.551860</td>\n",
       "      <td>-0.677951</td>\n",
       "    </tr>\n",
       "    <tr>\n",
       "      <th>one</th>\n",
       "      <td>-1.272378</td>\n",
       "      <td>-0.321088</td>\n",
       "    </tr>\n",
       "    <tr>\n",
       "      <th rowspan=\"2\" valign=\"top\">y</th>\n",
       "      <th>zero</th>\n",
       "      <td>-2.222824</td>\n",
       "      <td>-0.139085</td>\n",
       "    </tr>\n",
       "    <tr>\n",
       "      <th>one</th>\n",
       "      <td>0.055253</td>\n",
       "      <td>0.264825</td>\n",
       "    </tr>\n",
       "  </tbody>\n",
       "</table>\n",
       "</div>"
      ],
      "text/plain": [
       "               0         1\n",
       "x zero -0.551860 -0.677951\n",
       "  one  -1.272378 -0.321088\n",
       "y zero -2.222824 -0.139085\n",
       "  one   0.055253  0.264825"
      ]
     },
     "execution_count": 120,
     "metadata": {},
     "output_type": "execute_result"
    }
   ],
   "source": [
    "df[:5].swaplevel(0, 1, axis=0).sort_index(level=[0, 1], ascending=[True, False])"
   ]
  },
  {
   "cell_type": "code",
   "execution_count": 123,
   "id": "cab94d78",
   "metadata": {},
   "outputs": [
    {
     "data": {
      "text/html": [
       "<div>\n",
       "<style scoped>\n",
       "    .dataframe tbody tr th:only-of-type {\n",
       "        vertical-align: middle;\n",
       "    }\n",
       "\n",
       "    .dataframe tbody tr th {\n",
       "        vertical-align: top;\n",
       "    }\n",
       "\n",
       "    .dataframe thead th {\n",
       "        text-align: right;\n",
       "    }\n",
       "</style>\n",
       "<table border=\"1\" class=\"dataframe\">\n",
       "  <thead>\n",
       "    <tr style=\"text-align: right;\">\n",
       "      <th></th>\n",
       "      <th></th>\n",
       "      <th>0</th>\n",
       "      <th>1</th>\n",
       "    </tr>\n",
       "  </thead>\n",
       "  <tbody>\n",
       "    <tr>\n",
       "      <th rowspan=\"2\" valign=\"top\">one</th>\n",
       "      <th>y</th>\n",
       "      <td>0.055253</td>\n",
       "      <td>0.264825</td>\n",
       "    </tr>\n",
       "    <tr>\n",
       "      <th>x</th>\n",
       "      <td>-1.272378</td>\n",
       "      <td>-0.321088</td>\n",
       "    </tr>\n",
       "    <tr>\n",
       "      <th rowspan=\"2\" valign=\"top\">zero</th>\n",
       "      <th>y</th>\n",
       "      <td>-2.222824</td>\n",
       "      <td>-0.139085</td>\n",
       "    </tr>\n",
       "    <tr>\n",
       "      <th>x</th>\n",
       "      <td>-0.551860</td>\n",
       "      <td>-0.677951</td>\n",
       "    </tr>\n",
       "  </tbody>\n",
       "</table>\n",
       "</div>"
      ],
      "text/plain": [
       "               0         1\n",
       "one  y  0.055253  0.264825\n",
       "     x -1.272378 -0.321088\n",
       "zero y -2.222824 -0.139085\n",
       "     x -0.551860 -0.677951"
      ]
     },
     "execution_count": 123,
     "metadata": {},
     "output_type": "execute_result"
    }
   ],
   "source": [
    "df[:5]"
   ]
  },
  {
   "cell_type": "code",
   "execution_count": 127,
   "id": "5368ec09",
   "metadata": {},
   "outputs": [
    {
     "data": {
      "text/html": [
       "<div>\n",
       "<style scoped>\n",
       "    .dataframe tbody tr th:only-of-type {\n",
       "        vertical-align: middle;\n",
       "    }\n",
       "\n",
       "    .dataframe tbody tr th {\n",
       "        vertical-align: top;\n",
       "    }\n",
       "\n",
       "    .dataframe thead th {\n",
       "        text-align: right;\n",
       "    }\n",
       "</style>\n",
       "<table border=\"1\" class=\"dataframe\">\n",
       "  <thead>\n",
       "    <tr style=\"text-align: right;\">\n",
       "      <th></th>\n",
       "      <th></th>\n",
       "      <th>0</th>\n",
       "      <th>1</th>\n",
       "    </tr>\n",
       "  </thead>\n",
       "  <tbody>\n",
       "    <tr>\n",
       "      <th>y</th>\n",
       "      <th>one</th>\n",
       "      <td>0.055253</td>\n",
       "      <td>0.264825</td>\n",
       "    </tr>\n",
       "    <tr>\n",
       "      <th>x</th>\n",
       "      <th>one</th>\n",
       "      <td>-1.272378</td>\n",
       "      <td>-0.321088</td>\n",
       "    </tr>\n",
       "    <tr>\n",
       "      <th>y</th>\n",
       "      <th>zero</th>\n",
       "      <td>-2.222824</td>\n",
       "      <td>-0.139085</td>\n",
       "    </tr>\n",
       "    <tr>\n",
       "      <th>x</th>\n",
       "      <th>zero</th>\n",
       "      <td>-0.551860</td>\n",
       "      <td>-0.677951</td>\n",
       "    </tr>\n",
       "  </tbody>\n",
       "</table>\n",
       "</div>"
      ],
      "text/plain": [
       "               0         1\n",
       "y one   0.055253  0.264825\n",
       "x one  -1.272378 -0.321088\n",
       "y zero -2.222824 -0.139085\n",
       "x zero -0.551860 -0.677951"
      ]
     },
     "execution_count": 127,
     "metadata": {},
     "output_type": "execute_result"
    }
   ],
   "source": [
    "df[:5].reorder_levels([1, 0], axis=0)"
   ]
  },
  {
   "cell_type": "code",
   "execution_count": 128,
   "id": "d72ce223",
   "metadata": {},
   "outputs": [
    {
     "data": {
      "text/html": [
       "<div>\n",
       "<style scoped>\n",
       "    .dataframe tbody tr th:only-of-type {\n",
       "        vertical-align: middle;\n",
       "    }\n",
       "\n",
       "    .dataframe tbody tr th {\n",
       "        vertical-align: top;\n",
       "    }\n",
       "\n",
       "    .dataframe thead th {\n",
       "        text-align: right;\n",
       "    }\n",
       "</style>\n",
       "<table border=\"1\" class=\"dataframe\">\n",
       "  <thead>\n",
       "    <tr style=\"text-align: right;\">\n",
       "      <th></th>\n",
       "      <th></th>\n",
       "      <th>0</th>\n",
       "      <th>1</th>\n",
       "    </tr>\n",
       "  </thead>\n",
       "  <tbody>\n",
       "    <tr>\n",
       "      <th>y</th>\n",
       "      <th>one</th>\n",
       "      <td>0.055253</td>\n",
       "      <td>0.264825</td>\n",
       "    </tr>\n",
       "    <tr>\n",
       "      <th>x</th>\n",
       "      <th>one</th>\n",
       "      <td>-1.272378</td>\n",
       "      <td>-0.321088</td>\n",
       "    </tr>\n",
       "    <tr>\n",
       "      <th>y</th>\n",
       "      <th>zero</th>\n",
       "      <td>-2.222824</td>\n",
       "      <td>-0.139085</td>\n",
       "    </tr>\n",
       "    <tr>\n",
       "      <th>x</th>\n",
       "      <th>zero</th>\n",
       "      <td>-0.551860</td>\n",
       "      <td>-0.677951</td>\n",
       "    </tr>\n",
       "  </tbody>\n",
       "</table>\n",
       "</div>"
      ],
      "text/plain": [
       "               0         1\n",
       "y one   0.055253  0.264825\n",
       "x one  -1.272378 -0.321088\n",
       "y zero -2.222824 -0.139085\n",
       "x zero -0.551860 -0.677951"
      ]
     },
     "execution_count": 128,
     "metadata": {},
     "output_type": "execute_result"
    }
   ],
   "source": [
    "df[:5].swaplevel(0, 1, axis=0)"
   ]
  },
  {
   "cell_type": "code",
   "execution_count": 129,
   "id": "c3a0f262",
   "metadata": {},
   "outputs": [
    {
     "data": {
      "text/html": [
       "<div>\n",
       "<style scoped>\n",
       "    .dataframe tbody tr th:only-of-type {\n",
       "        vertical-align: middle;\n",
       "    }\n",
       "\n",
       "    .dataframe tbody tr th {\n",
       "        vertical-align: top;\n",
       "    }\n",
       "\n",
       "    .dataframe thead th {\n",
       "        text-align: right;\n",
       "    }\n",
       "</style>\n",
       "<table border=\"1\" class=\"dataframe\">\n",
       "  <thead>\n",
       "    <tr style=\"text-align: right;\">\n",
       "      <th></th>\n",
       "      <th></th>\n",
       "      <th>col0</th>\n",
       "      <th>col1</th>\n",
       "    </tr>\n",
       "  </thead>\n",
       "  <tbody>\n",
       "    <tr>\n",
       "      <th rowspan=\"2\" valign=\"top\">one</th>\n",
       "      <th>y</th>\n",
       "      <td>0.055253</td>\n",
       "      <td>0.264825</td>\n",
       "    </tr>\n",
       "    <tr>\n",
       "      <th>x</th>\n",
       "      <td>-1.272378</td>\n",
       "      <td>-0.321088</td>\n",
       "    </tr>\n",
       "    <tr>\n",
       "      <th rowspan=\"2\" valign=\"top\">zero</th>\n",
       "      <th>y</th>\n",
       "      <td>-2.222824</td>\n",
       "      <td>-0.139085</td>\n",
       "    </tr>\n",
       "    <tr>\n",
       "      <th>x</th>\n",
       "      <td>-0.551860</td>\n",
       "      <td>-0.677951</td>\n",
       "    </tr>\n",
       "  </tbody>\n",
       "</table>\n",
       "</div>"
      ],
      "text/plain": [
       "            col0      col1\n",
       "one  y  0.055253  0.264825\n",
       "     x -1.272378 -0.321088\n",
       "zero y -2.222824 -0.139085\n",
       "     x -0.551860 -0.677951"
      ]
     },
     "execution_count": 129,
     "metadata": {},
     "output_type": "execute_result"
    }
   ],
   "source": [
    "df.rename(columns={0: \"col0\", 1: \"col1\"})"
   ]
  },
  {
   "cell_type": "code",
   "execution_count": 130,
   "id": "267ab5f6",
   "metadata": {},
   "outputs": [
    {
     "data": {
      "text/html": [
       "<div>\n",
       "<style scoped>\n",
       "    .dataframe tbody tr th:only-of-type {\n",
       "        vertical-align: middle;\n",
       "    }\n",
       "\n",
       "    .dataframe tbody tr th {\n",
       "        vertical-align: top;\n",
       "    }\n",
       "\n",
       "    .dataframe thead th {\n",
       "        text-align: right;\n",
       "    }\n",
       "</style>\n",
       "<table border=\"1\" class=\"dataframe\">\n",
       "  <thead>\n",
       "    <tr style=\"text-align: right;\">\n",
       "      <th></th>\n",
       "      <th></th>\n",
       "      <th>0</th>\n",
       "      <th>1</th>\n",
       "    </tr>\n",
       "  </thead>\n",
       "  <tbody>\n",
       "    <tr>\n",
       "      <th rowspan=\"2\" valign=\"top\">two</th>\n",
       "      <th>z</th>\n",
       "      <td>0.055253</td>\n",
       "      <td>0.264825</td>\n",
       "    </tr>\n",
       "    <tr>\n",
       "      <th>x</th>\n",
       "      <td>-1.272378</td>\n",
       "      <td>-0.321088</td>\n",
       "    </tr>\n",
       "    <tr>\n",
       "      <th rowspan=\"2\" valign=\"top\">zero</th>\n",
       "      <th>z</th>\n",
       "      <td>-2.222824</td>\n",
       "      <td>-0.139085</td>\n",
       "    </tr>\n",
       "    <tr>\n",
       "      <th>x</th>\n",
       "      <td>-0.551860</td>\n",
       "      <td>-0.677951</td>\n",
       "    </tr>\n",
       "  </tbody>\n",
       "</table>\n",
       "</div>"
      ],
      "text/plain": [
       "               0         1\n",
       "two  z  0.055253  0.264825\n",
       "     x -1.272378 -0.321088\n",
       "zero z -2.222824 -0.139085\n",
       "     x -0.551860 -0.677951"
      ]
     },
     "execution_count": 130,
     "metadata": {},
     "output_type": "execute_result"
    }
   ],
   "source": [
    "df.rename(index={\"one\": \"two\", \"y\": \"z\"})"
   ]
  },
  {
   "cell_type": "code",
   "execution_count": 131,
   "id": "8d4370e4",
   "metadata": {},
   "outputs": [
    {
     "data": {
      "text/html": [
       "<div>\n",
       "<style scoped>\n",
       "    .dataframe tbody tr th:only-of-type {\n",
       "        vertical-align: middle;\n",
       "    }\n",
       "\n",
       "    .dataframe tbody tr th {\n",
       "        vertical-align: top;\n",
       "    }\n",
       "\n",
       "    .dataframe thead th {\n",
       "        text-align: right;\n",
       "    }\n",
       "</style>\n",
       "<table border=\"1\" class=\"dataframe\">\n",
       "  <thead>\n",
       "    <tr style=\"text-align: right;\">\n",
       "      <th></th>\n",
       "      <th></th>\n",
       "      <th>0</th>\n",
       "      <th>1</th>\n",
       "    </tr>\n",
       "    <tr>\n",
       "      <th>abc</th>\n",
       "      <th>def</th>\n",
       "      <th></th>\n",
       "      <th></th>\n",
       "    </tr>\n",
       "  </thead>\n",
       "  <tbody>\n",
       "    <tr>\n",
       "      <th rowspan=\"2\" valign=\"top\">one</th>\n",
       "      <th>y</th>\n",
       "      <td>0.055253</td>\n",
       "      <td>0.264825</td>\n",
       "    </tr>\n",
       "    <tr>\n",
       "      <th>x</th>\n",
       "      <td>-1.272378</td>\n",
       "      <td>-0.321088</td>\n",
       "    </tr>\n",
       "    <tr>\n",
       "      <th rowspan=\"2\" valign=\"top\">zero</th>\n",
       "      <th>y</th>\n",
       "      <td>-2.222824</td>\n",
       "      <td>-0.139085</td>\n",
       "    </tr>\n",
       "    <tr>\n",
       "      <th>x</th>\n",
       "      <td>-0.551860</td>\n",
       "      <td>-0.677951</td>\n",
       "    </tr>\n",
       "  </tbody>\n",
       "</table>\n",
       "</div>"
      ],
      "text/plain": [
       "                 0         1\n",
       "abc  def                    \n",
       "one  y    0.055253  0.264825\n",
       "     x   -1.272378 -0.321088\n",
       "zero y   -2.222824 -0.139085\n",
       "     x   -0.551860 -0.677951"
      ]
     },
     "execution_count": 131,
     "metadata": {},
     "output_type": "execute_result"
    }
   ],
   "source": [
    "df.rename_axis(index=[\"abc\", \"def\"])"
   ]
  },
  {
   "cell_type": "code",
   "execution_count": 133,
   "id": "b7ce9f1a",
   "metadata": {},
   "outputs": [
    {
     "data": {
      "text/plain": [
       "RangeIndex(start=0, stop=2, step=1)"
      ]
     },
     "execution_count": 133,
     "metadata": {},
     "output_type": "execute_result"
    }
   ],
   "source": [
    "df.columns"
   ]
  },
  {
   "cell_type": "code",
   "execution_count": 134,
   "id": "2a2e1fb4",
   "metadata": {},
   "outputs": [
    {
     "data": {
      "text/plain": [
       "RangeIndex(start=0, stop=2, step=1, name='Cols')"
      ]
     },
     "execution_count": 134,
     "metadata": {},
     "output_type": "execute_result"
    }
   ],
   "source": [
    "df.rename_axis(columns=\"Cols\").columns"
   ]
  },
  {
   "cell_type": "code",
   "execution_count": 135,
   "id": "30d6d182",
   "metadata": {},
   "outputs": [
    {
     "data": {
      "text/plain": [
       "FrozenList(['x', 'y'])"
      ]
     },
     "execution_count": 135,
     "metadata": {},
     "output_type": "execute_result"
    }
   ],
   "source": [
    "mi = pd.MultiIndex.from_product([[1, 2], [\"a\", \"b\"]], names=[\"x\", \"y\"])\n",
    "\n",
    "mi.names"
   ]
  },
  {
   "cell_type": "code",
   "execution_count": 136,
   "id": "bba58b9c",
   "metadata": {},
   "outputs": [
    {
     "data": {
      "text/plain": [
       "MultiIndex([(1, 'a'),\n",
       "            (1, 'b'),\n",
       "            (2, 'a'),\n",
       "            (2, 'b')],\n",
       "           names=['new name', 'y'])"
      ]
     },
     "execution_count": 136,
     "metadata": {},
     "output_type": "execute_result"
    }
   ],
   "source": [
    "mi2 = mi.rename(\"new name\", level=0)\n",
    "\n",
    "mi2"
   ]
  },
  {
   "cell_type": "code",
   "execution_count": 143,
   "id": "6c0239cc",
   "metadata": {},
   "outputs": [
    {
     "data": {
      "text/plain": [
       "[('qux', 'one'),\n",
       " ('foo', 'two'),\n",
       " ('baz', 'one'),\n",
       " ('bar', 'two'),\n",
       " ('baz', 'two'),\n",
       " ('qux', 'two'),\n",
       " ('bar', 'one'),\n",
       " ('foo', 'one')]"
      ]
     },
     "execution_count": 143,
     "metadata": {},
     "output_type": "execute_result"
    }
   ],
   "source": [
    "tuples"
   ]
  },
  {
   "cell_type": "code",
   "execution_count": 145,
   "id": "a850fccd",
   "metadata": {},
   "outputs": [
    {
     "data": {
      "text/plain": [
       "[('foo', 'one'),\n",
       " ('qux', 'one'),\n",
       " ('qux', 'two'),\n",
       " ('bar', 'two'),\n",
       " ('baz', 'two'),\n",
       " ('bar', 'one'),\n",
       " ('foo', 'two'),\n",
       " ('baz', 'one')]"
      ]
     },
     "execution_count": 145,
     "metadata": {},
     "output_type": "execute_result"
    }
   ],
   "source": [
    "import random\n",
    "\n",
    "random.shuffle(tuples)\n",
    "\n",
    "tuples"
   ]
  },
  {
   "cell_type": "code",
   "execution_count": 140,
   "id": "9058007d",
   "metadata": {},
   "outputs": [
    {
     "data": {
      "text/plain": [
       "qux  one    0.871198\n",
       "foo  two   -0.920483\n",
       "baz  one    0.785675\n",
       "bar  two    1.473738\n",
       "baz  two   -1.001435\n",
       "qux  two    0.190501\n",
       "bar  one   -1.414677\n",
       "foo  one    0.572881\n",
       "dtype: float64"
      ]
     },
     "execution_count": 140,
     "metadata": {},
     "output_type": "execute_result"
    }
   ],
   "source": [
    "s = pd.Series(np.random.randn(8), index=pd.MultiIndex.from_tuples(tuples))\n",
    "\n",
    "s"
   ]
  },
  {
   "cell_type": "code",
   "execution_count": 146,
   "id": "f68b05d6",
   "metadata": {},
   "outputs": [
    {
     "data": {
      "text/plain": [
       "bar  one   -1.414677\n",
       "     two    1.473738\n",
       "baz  one    0.785675\n",
       "     two   -1.001435\n",
       "foo  one    0.572881\n",
       "     two   -0.920483\n",
       "qux  one    0.871198\n",
       "     two    0.190501\n",
       "dtype: float64"
      ]
     },
     "execution_count": 146,
     "metadata": {},
     "output_type": "execute_result"
    }
   ],
   "source": [
    "s.sort_index()"
   ]
  },
  {
   "cell_type": "code",
   "execution_count": 147,
   "id": "437714b2",
   "metadata": {},
   "outputs": [
    {
     "data": {
      "text/plain": [
       "qux  one    0.871198\n",
       "foo  two   -0.920483\n",
       "baz  one    0.785675\n",
       "bar  two    1.473738\n",
       "baz  two   -1.001435\n",
       "qux  two    0.190501\n",
       "bar  one   -1.414677\n",
       "foo  one    0.572881\n",
       "dtype: float64"
      ]
     },
     "execution_count": 147,
     "metadata": {},
     "output_type": "execute_result"
    }
   ],
   "source": [
    "s"
   ]
  },
  {
   "cell_type": "code",
   "execution_count": 148,
   "id": "fa18b229",
   "metadata": {},
   "outputs": [
    {
     "data": {
      "text/plain": [
       "bar  one   -1.414677\n",
       "     two    1.473738\n",
       "baz  one    0.785675\n",
       "     two   -1.001435\n",
       "foo  one    0.572881\n",
       "     two   -0.920483\n",
       "qux  one    0.871198\n",
       "     two    0.190501\n",
       "dtype: float64"
      ]
     },
     "execution_count": 148,
     "metadata": {},
     "output_type": "execute_result"
    }
   ],
   "source": [
    "s.sort_index(level=0)"
   ]
  },
  {
   "cell_type": "code",
   "execution_count": 149,
   "id": "33d0096a",
   "metadata": {},
   "outputs": [
    {
     "data": {
      "text/plain": [
       "bar  two    1.473738\n",
       "     one   -1.414677\n",
       "baz  one    0.785675\n",
       "     two   -1.001435\n",
       "foo  two   -0.920483\n",
       "     one    0.572881\n",
       "qux  one    0.871198\n",
       "     two    0.190501\n",
       "dtype: float64"
      ]
     },
     "execution_count": 149,
     "metadata": {},
     "output_type": "execute_result"
    }
   ],
   "source": [
    "s.sort_index(level=0, sort_remaining=False)"
   ]
  },
  {
   "cell_type": "code",
   "execution_count": 150,
   "id": "68e4d412",
   "metadata": {},
   "outputs": [
    {
     "data": {
      "text/plain": [
       "bar  one   -1.414677\n",
       "baz  one    0.785675\n",
       "foo  one    0.572881\n",
       "qux  one    0.871198\n",
       "bar  two    1.473738\n",
       "baz  two   -1.001435\n",
       "foo  two   -0.920483\n",
       "qux  two    0.190501\n",
       "dtype: float64"
      ]
     },
     "execution_count": 150,
     "metadata": {},
     "output_type": "execute_result"
    }
   ],
   "source": [
    "s.sort_index(level=1)"
   ]
  },
  {
   "cell_type": "code",
   "execution_count": 151,
   "id": "c0334265",
   "metadata": {},
   "outputs": [
    {
     "data": {
      "text/plain": [
       "qux  one    0.871198\n",
       "baz  one    0.785675\n",
       "bar  one   -1.414677\n",
       "foo  one    0.572881\n",
       "     two   -0.920483\n",
       "bar  two    1.473738\n",
       "baz  two   -1.001435\n",
       "qux  two    0.190501\n",
       "dtype: float64"
      ]
     },
     "execution_count": 151,
     "metadata": {},
     "output_type": "execute_result"
    }
   ],
   "source": [
    "s.sort_index(level=1, sort_remaining=False)"
   ]
  },
  {
   "cell_type": "code",
   "execution_count": 152,
   "id": "11d058ff",
   "metadata": {},
   "outputs": [],
   "source": [
    "s.index = s.index.set_names([\"L1\", \"L2\"])"
   ]
  },
  {
   "cell_type": "code",
   "execution_count": 153,
   "id": "e9b1a0d9",
   "metadata": {},
   "outputs": [
    {
     "data": {
      "text/plain": [
       "L1   L2 \n",
       "qux  one    0.871198\n",
       "foo  two   -0.920483\n",
       "baz  one    0.785675\n",
       "bar  two    1.473738\n",
       "baz  two   -1.001435\n",
       "qux  two    0.190501\n",
       "bar  one   -1.414677\n",
       "foo  one    0.572881\n",
       "dtype: float64"
      ]
     },
     "execution_count": 153,
     "metadata": {},
     "output_type": "execute_result"
    }
   ],
   "source": [
    "s"
   ]
  },
  {
   "cell_type": "code",
   "execution_count": 154,
   "id": "709d49aa",
   "metadata": {},
   "outputs": [
    {
     "data": {
      "text/plain": [
       "L1   L2 \n",
       "bar  one   -1.414677\n",
       "     two    1.473738\n",
       "baz  one    0.785675\n",
       "     two   -1.001435\n",
       "foo  one    0.572881\n",
       "     two   -0.920483\n",
       "qux  one    0.871198\n",
       "     two    0.190501\n",
       "dtype: float64"
      ]
     },
     "execution_count": 154,
     "metadata": {},
     "output_type": "execute_result"
    }
   ],
   "source": [
    "s.sort_index(level=\"L1\")"
   ]
  },
  {
   "cell_type": "code",
   "execution_count": 155,
   "id": "6c790486",
   "metadata": {},
   "outputs": [
    {
     "data": {
      "text/plain": [
       "L1   L2 \n",
       "bar  one   -1.414677\n",
       "baz  one    0.785675\n",
       "foo  one    0.572881\n",
       "qux  one    0.871198\n",
       "bar  two    1.473738\n",
       "baz  two   -1.001435\n",
       "foo  two   -0.920483\n",
       "qux  two    0.190501\n",
       "dtype: float64"
      ]
     },
     "execution_count": 155,
     "metadata": {},
     "output_type": "execute_result"
    }
   ],
   "source": [
    "s.sort_index(level=\"L2\")"
   ]
  },
  {
   "cell_type": "code",
   "execution_count": 156,
   "id": "0a8f9a3e",
   "metadata": {},
   "outputs": [
    {
     "data": {
      "text/html": [
       "<div>\n",
       "<style scoped>\n",
       "    .dataframe tbody tr th:only-of-type {\n",
       "        vertical-align: middle;\n",
       "    }\n",
       "\n",
       "    .dataframe tbody tr th {\n",
       "        vertical-align: top;\n",
       "    }\n",
       "\n",
       "    .dataframe thead th {\n",
       "        text-align: right;\n",
       "    }\n",
       "</style>\n",
       "<table border=\"1\" class=\"dataframe\">\n",
       "  <thead>\n",
       "    <tr style=\"text-align: right;\">\n",
       "      <th></th>\n",
       "      <th></th>\n",
       "      <th>0</th>\n",
       "      <th>1</th>\n",
       "    </tr>\n",
       "  </thead>\n",
       "  <tbody>\n",
       "    <tr>\n",
       "      <th rowspan=\"2\" valign=\"top\">one</th>\n",
       "      <th>y</th>\n",
       "      <td>0.055253</td>\n",
       "      <td>0.264825</td>\n",
       "    </tr>\n",
       "    <tr>\n",
       "      <th>x</th>\n",
       "      <td>-1.272378</td>\n",
       "      <td>-0.321088</td>\n",
       "    </tr>\n",
       "    <tr>\n",
       "      <th rowspan=\"2\" valign=\"top\">zero</th>\n",
       "      <th>y</th>\n",
       "      <td>-2.222824</td>\n",
       "      <td>-0.139085</td>\n",
       "    </tr>\n",
       "    <tr>\n",
       "      <th>x</th>\n",
       "      <td>-0.551860</td>\n",
       "      <td>-0.677951</td>\n",
       "    </tr>\n",
       "  </tbody>\n",
       "</table>\n",
       "</div>"
      ],
      "text/plain": [
       "               0         1\n",
       "one  y  0.055253  0.264825\n",
       "     x -1.272378 -0.321088\n",
       "zero y -2.222824 -0.139085\n",
       "     x -0.551860 -0.677951"
      ]
     },
     "execution_count": 156,
     "metadata": {},
     "output_type": "execute_result"
    }
   ],
   "source": [
    "df"
   ]
  },
  {
   "cell_type": "code",
   "execution_count": 157,
   "id": "c53d6278",
   "metadata": {},
   "outputs": [
    {
     "data": {
      "text/html": [
       "<div>\n",
       "<style scoped>\n",
       "    .dataframe tbody tr th:only-of-type {\n",
       "        vertical-align: middle;\n",
       "    }\n",
       "\n",
       "    .dataframe tbody tr th {\n",
       "        vertical-align: top;\n",
       "    }\n",
       "\n",
       "    .dataframe thead tr th {\n",
       "        text-align: left;\n",
       "    }\n",
       "</style>\n",
       "<table border=\"1\" class=\"dataframe\">\n",
       "  <thead>\n",
       "    <tr>\n",
       "      <th></th>\n",
       "      <th colspan=\"2\" halign=\"left\">one</th>\n",
       "      <th colspan=\"2\" halign=\"left\">zero</th>\n",
       "    </tr>\n",
       "    <tr>\n",
       "      <th></th>\n",
       "      <th>y</th>\n",
       "      <th>x</th>\n",
       "      <th>y</th>\n",
       "      <th>x</th>\n",
       "    </tr>\n",
       "  </thead>\n",
       "  <tbody>\n",
       "    <tr>\n",
       "      <th>0</th>\n",
       "      <td>0.055253</td>\n",
       "      <td>-1.272378</td>\n",
       "      <td>-2.222824</td>\n",
       "      <td>-0.551860</td>\n",
       "    </tr>\n",
       "    <tr>\n",
       "      <th>1</th>\n",
       "      <td>0.264825</td>\n",
       "      <td>-0.321088</td>\n",
       "      <td>-0.139085</td>\n",
       "      <td>-0.677951</td>\n",
       "    </tr>\n",
       "  </tbody>\n",
       "</table>\n",
       "</div>"
      ],
      "text/plain": [
       "        one                zero          \n",
       "          y         x         y         x\n",
       "0  0.055253 -1.272378 -2.222824 -0.551860\n",
       "1  0.264825 -0.321088 -0.139085 -0.677951"
      ]
     },
     "execution_count": 157,
     "metadata": {},
     "output_type": "execute_result"
    }
   ],
   "source": [
    "df.T"
   ]
  },
  {
   "cell_type": "code",
   "execution_count": 158,
   "id": "99203a37",
   "metadata": {},
   "outputs": [
    {
     "data": {
      "text/html": [
       "<div>\n",
       "<style scoped>\n",
       "    .dataframe tbody tr th:only-of-type {\n",
       "        vertical-align: middle;\n",
       "    }\n",
       "\n",
       "    .dataframe tbody tr th {\n",
       "        vertical-align: top;\n",
       "    }\n",
       "\n",
       "    .dataframe thead tr th {\n",
       "        text-align: left;\n",
       "    }\n",
       "</style>\n",
       "<table border=\"1\" class=\"dataframe\">\n",
       "  <thead>\n",
       "    <tr>\n",
       "      <th></th>\n",
       "      <th>one</th>\n",
       "      <th>zero</th>\n",
       "      <th>one</th>\n",
       "      <th>zero</th>\n",
       "    </tr>\n",
       "    <tr>\n",
       "      <th></th>\n",
       "      <th>x</th>\n",
       "      <th>x</th>\n",
       "      <th>y</th>\n",
       "      <th>y</th>\n",
       "    </tr>\n",
       "  </thead>\n",
       "  <tbody>\n",
       "    <tr>\n",
       "      <th>0</th>\n",
       "      <td>-1.272378</td>\n",
       "      <td>-0.551860</td>\n",
       "      <td>0.055253</td>\n",
       "      <td>-2.222824</td>\n",
       "    </tr>\n",
       "    <tr>\n",
       "      <th>1</th>\n",
       "      <td>-0.321088</td>\n",
       "      <td>-0.677951</td>\n",
       "      <td>0.264825</td>\n",
       "      <td>-0.139085</td>\n",
       "    </tr>\n",
       "  </tbody>\n",
       "</table>\n",
       "</div>"
      ],
      "text/plain": [
       "        one      zero       one      zero\n",
       "          x         x         y         y\n",
       "0 -1.272378 -0.551860  0.055253 -2.222824\n",
       "1 -0.321088 -0.677951  0.264825 -0.139085"
      ]
     },
     "execution_count": 158,
     "metadata": {},
     "output_type": "execute_result"
    }
   ],
   "source": [
    "df.T.sort_index(level=1, axis=1)"
   ]
  },
  {
   "cell_type": "code",
   "execution_count": 159,
   "id": "e1b492c6",
   "metadata": {},
   "outputs": [
    {
     "data": {
      "text/html": [
       "<div>\n",
       "<style scoped>\n",
       "    .dataframe tbody tr th:only-of-type {\n",
       "        vertical-align: middle;\n",
       "    }\n",
       "\n",
       "    .dataframe tbody tr th {\n",
       "        vertical-align: top;\n",
       "    }\n",
       "\n",
       "    .dataframe thead th {\n",
       "        text-align: right;\n",
       "    }\n",
       "</style>\n",
       "<table border=\"1\" class=\"dataframe\">\n",
       "  <thead>\n",
       "    <tr style=\"text-align: right;\">\n",
       "      <th></th>\n",
       "      <th></th>\n",
       "      <th>jolie</th>\n",
       "    </tr>\n",
       "    <tr>\n",
       "      <th>jim</th>\n",
       "      <th>joe</th>\n",
       "      <th></th>\n",
       "    </tr>\n",
       "  </thead>\n",
       "  <tbody>\n",
       "    <tr>\n",
       "      <th rowspan=\"2\" valign=\"top\">0</th>\n",
       "      <th>x</th>\n",
       "      <td>0.895482</td>\n",
       "    </tr>\n",
       "    <tr>\n",
       "      <th>x</th>\n",
       "      <td>0.042068</td>\n",
       "    </tr>\n",
       "    <tr>\n",
       "      <th rowspan=\"2\" valign=\"top\">1</th>\n",
       "      <th>z</th>\n",
       "      <td>0.925537</td>\n",
       "    </tr>\n",
       "    <tr>\n",
       "      <th>y</th>\n",
       "      <td>0.702337</td>\n",
       "    </tr>\n",
       "  </tbody>\n",
       "</table>\n",
       "</div>"
      ],
      "text/plain": [
       "            jolie\n",
       "jim joe          \n",
       "0   x    0.895482\n",
       "    x    0.042068\n",
       "1   z    0.925537\n",
       "    y    0.702337"
      ]
     },
     "execution_count": 159,
     "metadata": {},
     "output_type": "execute_result"
    }
   ],
   "source": [
    "dfm = pd.DataFrame(\n",
    "\n",
    "    {\"jim\": [0, 0, 1, 1], \"joe\": [\"x\", \"x\", \"z\", \"y\"], \"jolie\": np.random.rand(4)}\n",
    "\n",
    ")\n",
    "\n",
    "\n",
    "\n",
    "dfm = dfm.set_index([\"jim\", \"joe\"])\n",
    "\n",
    "dfm"
   ]
  },
  {
   "cell_type": "code",
   "execution_count": 160,
   "id": "46970584",
   "metadata": {},
   "outputs": [
    {
     "name": "stderr",
     "output_type": "stream",
     "text": [
      "C:\\Users\\YOSSI\\AppData\\Local\\Temp\\ipykernel_20876\\1188037207.py:1: PerformanceWarning: indexing past lexsort depth may impact performance.\n",
      "  dfm.loc[(1, 'z')]\n"
     ]
    },
    {
     "data": {
      "text/html": [
       "<div>\n",
       "<style scoped>\n",
       "    .dataframe tbody tr th:only-of-type {\n",
       "        vertical-align: middle;\n",
       "    }\n",
       "\n",
       "    .dataframe tbody tr th {\n",
       "        vertical-align: top;\n",
       "    }\n",
       "\n",
       "    .dataframe thead th {\n",
       "        text-align: right;\n",
       "    }\n",
       "</style>\n",
       "<table border=\"1\" class=\"dataframe\">\n",
       "  <thead>\n",
       "    <tr style=\"text-align: right;\">\n",
       "      <th></th>\n",
       "      <th></th>\n",
       "      <th>jolie</th>\n",
       "    </tr>\n",
       "    <tr>\n",
       "      <th>jim</th>\n",
       "      <th>joe</th>\n",
       "      <th></th>\n",
       "    </tr>\n",
       "  </thead>\n",
       "  <tbody>\n",
       "    <tr>\n",
       "      <th>1</th>\n",
       "      <th>z</th>\n",
       "      <td>0.925537</td>\n",
       "    </tr>\n",
       "  </tbody>\n",
       "</table>\n",
       "</div>"
      ],
      "text/plain": [
       "            jolie\n",
       "jim joe          \n",
       "1   z    0.925537"
      ]
     },
     "execution_count": 160,
     "metadata": {},
     "output_type": "execute_result"
    }
   ],
   "source": [
    "dfm.loc[(1, 'z')]"
   ]
  },
  {
   "cell_type": "code",
   "execution_count": 161,
   "id": "9990d7fc",
   "metadata": {},
   "outputs": [
    {
     "data": {
      "text/plain": [
       "False"
      ]
     },
     "execution_count": 161,
     "metadata": {},
     "output_type": "execute_result"
    }
   ],
   "source": [
    "dfm.index.is_monotonic_increasing"
   ]
  },
  {
   "cell_type": "code",
   "execution_count": 162,
   "id": "2545a253",
   "metadata": {},
   "outputs": [
    {
     "data": {
      "text/html": [
       "<div>\n",
       "<style scoped>\n",
       "    .dataframe tbody tr th:only-of-type {\n",
       "        vertical-align: middle;\n",
       "    }\n",
       "\n",
       "    .dataframe tbody tr th {\n",
       "        vertical-align: top;\n",
       "    }\n",
       "\n",
       "    .dataframe thead th {\n",
       "        text-align: right;\n",
       "    }\n",
       "</style>\n",
       "<table border=\"1\" class=\"dataframe\">\n",
       "  <thead>\n",
       "    <tr style=\"text-align: right;\">\n",
       "      <th></th>\n",
       "      <th></th>\n",
       "      <th>jolie</th>\n",
       "    </tr>\n",
       "    <tr>\n",
       "      <th>jim</th>\n",
       "      <th>joe</th>\n",
       "      <th></th>\n",
       "    </tr>\n",
       "  </thead>\n",
       "  <tbody>\n",
       "    <tr>\n",
       "      <th rowspan=\"2\" valign=\"top\">0</th>\n",
       "      <th>x</th>\n",
       "      <td>0.895482</td>\n",
       "    </tr>\n",
       "    <tr>\n",
       "      <th>x</th>\n",
       "      <td>0.042068</td>\n",
       "    </tr>\n",
       "    <tr>\n",
       "      <th rowspan=\"2\" valign=\"top\">1</th>\n",
       "      <th>y</th>\n",
       "      <td>0.702337</td>\n",
       "    </tr>\n",
       "    <tr>\n",
       "      <th>z</th>\n",
       "      <td>0.925537</td>\n",
       "    </tr>\n",
       "  </tbody>\n",
       "</table>\n",
       "</div>"
      ],
      "text/plain": [
       "            jolie\n",
       "jim joe          \n",
       "0   x    0.895482\n",
       "    x    0.042068\n",
       "1   y    0.702337\n",
       "    z    0.925537"
      ]
     },
     "execution_count": 162,
     "metadata": {},
     "output_type": "execute_result"
    }
   ],
   "source": [
    "dfm = dfm.sort_index()\n",
    "\n",
    "dfm"
   ]
  },
  {
   "cell_type": "code",
   "execution_count": 163,
   "id": "7c0ccc89",
   "metadata": {},
   "outputs": [
    {
     "data": {
      "text/plain": [
       "True"
      ]
     },
     "execution_count": 163,
     "metadata": {},
     "output_type": "execute_result"
    }
   ],
   "source": [
    "dfm.index.is_monotonic_increasing"
   ]
  },
  {
   "cell_type": "code",
   "execution_count": 164,
   "id": "b0dff974",
   "metadata": {},
   "outputs": [
    {
     "data": {
      "text/html": [
       "<div>\n",
       "<style scoped>\n",
       "    .dataframe tbody tr th:only-of-type {\n",
       "        vertical-align: middle;\n",
       "    }\n",
       "\n",
       "    .dataframe tbody tr th {\n",
       "        vertical-align: top;\n",
       "    }\n",
       "\n",
       "    .dataframe thead th {\n",
       "        text-align: right;\n",
       "    }\n",
       "</style>\n",
       "<table border=\"1\" class=\"dataframe\">\n",
       "  <thead>\n",
       "    <tr style=\"text-align: right;\">\n",
       "      <th></th>\n",
       "      <th></th>\n",
       "      <th>jolie</th>\n",
       "    </tr>\n",
       "    <tr>\n",
       "      <th>jim</th>\n",
       "      <th>joe</th>\n",
       "      <th></th>\n",
       "    </tr>\n",
       "  </thead>\n",
       "  <tbody>\n",
       "    <tr>\n",
       "      <th>1</th>\n",
       "      <th>z</th>\n",
       "      <td>0.925537</td>\n",
       "    </tr>\n",
       "  </tbody>\n",
       "</table>\n",
       "</div>"
      ],
      "text/plain": [
       "            jolie\n",
       "jim joe          \n",
       "1   z    0.925537"
      ]
     },
     "execution_count": 164,
     "metadata": {},
     "output_type": "execute_result"
    }
   ],
   "source": [
    "dfm.loc[(1, 'z')]"
   ]
  },
  {
   "cell_type": "code",
   "execution_count": 165,
   "id": "49ac1578",
   "metadata": {},
   "outputs": [
    {
     "data": {
      "text/html": [
       "<div>\n",
       "<style scoped>\n",
       "    .dataframe tbody tr th:only-of-type {\n",
       "        vertical-align: middle;\n",
       "    }\n",
       "\n",
       "    .dataframe tbody tr th {\n",
       "        vertical-align: top;\n",
       "    }\n",
       "\n",
       "    .dataframe thead th {\n",
       "        text-align: right;\n",
       "    }\n",
       "</style>\n",
       "<table border=\"1\" class=\"dataframe\">\n",
       "  <thead>\n",
       "    <tr style=\"text-align: right;\">\n",
       "      <th></th>\n",
       "      <th></th>\n",
       "      <th>jolie</th>\n",
       "    </tr>\n",
       "    <tr>\n",
       "      <th>jim</th>\n",
       "      <th>joe</th>\n",
       "      <th></th>\n",
       "    </tr>\n",
       "  </thead>\n",
       "  <tbody>\n",
       "    <tr>\n",
       "      <th rowspan=\"2\" valign=\"top\">1</th>\n",
       "      <th>y</th>\n",
       "      <td>0.702337</td>\n",
       "    </tr>\n",
       "    <tr>\n",
       "      <th>z</th>\n",
       "      <td>0.925537</td>\n",
       "    </tr>\n",
       "  </tbody>\n",
       "</table>\n",
       "</div>"
      ],
      "text/plain": [
       "            jolie\n",
       "jim joe          \n",
       "1   y    0.702337\n",
       "    z    0.925537"
      ]
     },
     "execution_count": 165,
     "metadata": {},
     "output_type": "execute_result"
    }
   ],
   "source": [
    "dfm.loc[(0, \"y\"):(1, \"z\")]"
   ]
  },
  {
   "cell_type": "code",
   "execution_count": 166,
   "id": "4ca5bce4",
   "metadata": {},
   "outputs": [
    {
     "data": {
      "text/plain": [
       "Index([450, 317, 20, 317, 119, 289, 996, 925, 741, 218], dtype='int32')"
      ]
     },
     "execution_count": 166,
     "metadata": {},
     "output_type": "execute_result"
    }
   ],
   "source": [
    "index = pd.Index(np.random.randint(0, 1000, 10))\n",
    "\n",
    "index"
   ]
  },
  {
   "cell_type": "code",
   "execution_count": 167,
   "id": "a97ae660",
   "metadata": {},
   "outputs": [],
   "source": [
    "positions = [0, 9, 3]"
   ]
  },
  {
   "cell_type": "code",
   "execution_count": 168,
   "id": "06d869c2",
   "metadata": {},
   "outputs": [
    {
     "data": {
      "text/plain": [
       "Index([450, 218, 317], dtype='int32')"
      ]
     },
     "execution_count": 168,
     "metadata": {},
     "output_type": "execute_result"
    }
   ],
   "source": [
    "index[positions]"
   ]
  },
  {
   "cell_type": "code",
   "execution_count": 169,
   "id": "24603b4e",
   "metadata": {},
   "outputs": [
    {
     "data": {
      "text/plain": [
       "Index([450, 218, 317], dtype='int32')"
      ]
     },
     "execution_count": 169,
     "metadata": {},
     "output_type": "execute_result"
    }
   ],
   "source": [
    "index.take(positions)"
   ]
  },
  {
   "cell_type": "code",
   "execution_count": 172,
   "id": "0148ac54",
   "metadata": {},
   "outputs": [
    {
     "data": {
      "text/plain": [
       "0   -0.630655\n",
       "1   -0.138161\n",
       "2    0.122236\n",
       "3    0.995529\n",
       "4   -0.566748\n",
       "5    1.221799\n",
       "6   -0.752745\n",
       "7   -1.106251\n",
       "8   -0.243608\n",
       "9   -0.285630\n",
       "dtype: float64"
      ]
     },
     "execution_count": 172,
     "metadata": {},
     "output_type": "execute_result"
    }
   ],
   "source": [
    "ser = pd.Series(np.random.randn(10))\n",
    "\n",
    "ser"
   ]
  },
  {
   "cell_type": "code",
   "execution_count": 173,
   "id": "841b723f",
   "metadata": {},
   "outputs": [
    {
     "data": {
      "text/plain": [
       "0   -0.630655\n",
       "9   -0.285630\n",
       "3    0.995529\n",
       "dtype: float64"
      ]
     },
     "execution_count": 173,
     "metadata": {},
     "output_type": "execute_result"
    }
   ],
   "source": [
    "ser.iloc[positions]"
   ]
  },
  {
   "cell_type": "code",
   "execution_count": 174,
   "id": "00346c39",
   "metadata": {},
   "outputs": [
    {
     "data": {
      "text/plain": [
       "0   -0.630655\n",
       "9   -0.285630\n",
       "3    0.995529\n",
       "dtype: float64"
      ]
     },
     "execution_count": 174,
     "metadata": {},
     "output_type": "execute_result"
    }
   ],
   "source": [
    "ser.take(positions)"
   ]
  },
  {
   "cell_type": "code",
   "execution_count": 175,
   "id": "9f292b9c",
   "metadata": {},
   "outputs": [
    {
     "data": {
      "text/html": [
       "<div>\n",
       "<style scoped>\n",
       "    .dataframe tbody tr th:only-of-type {\n",
       "        vertical-align: middle;\n",
       "    }\n",
       "\n",
       "    .dataframe tbody tr th {\n",
       "        vertical-align: top;\n",
       "    }\n",
       "\n",
       "    .dataframe thead th {\n",
       "        text-align: right;\n",
       "    }\n",
       "</style>\n",
       "<table border=\"1\" class=\"dataframe\">\n",
       "  <thead>\n",
       "    <tr style=\"text-align: right;\">\n",
       "      <th></th>\n",
       "      <th>0</th>\n",
       "      <th>1</th>\n",
       "      <th>2</th>\n",
       "    </tr>\n",
       "  </thead>\n",
       "  <tbody>\n",
       "    <tr>\n",
       "      <th>0</th>\n",
       "      <td>1.809678</td>\n",
       "      <td>0.882235</td>\n",
       "      <td>-0.292972</td>\n",
       "    </tr>\n",
       "    <tr>\n",
       "      <th>1</th>\n",
       "      <td>1.508309</td>\n",
       "      <td>0.452073</td>\n",
       "      <td>-1.361920</td>\n",
       "    </tr>\n",
       "    <tr>\n",
       "      <th>2</th>\n",
       "      <td>1.096107</td>\n",
       "      <td>-0.642763</td>\n",
       "      <td>-0.626200</td>\n",
       "    </tr>\n",
       "    <tr>\n",
       "      <th>3</th>\n",
       "      <td>-0.603139</td>\n",
       "      <td>0.577286</td>\n",
       "      <td>-2.051688</td>\n",
       "    </tr>\n",
       "    <tr>\n",
       "      <th>4</th>\n",
       "      <td>-0.385508</td>\n",
       "      <td>0.514070</td>\n",
       "      <td>0.660770</td>\n",
       "    </tr>\n",
       "  </tbody>\n",
       "</table>\n",
       "</div>"
      ],
      "text/plain": [
       "          0         1         2\n",
       "0  1.809678  0.882235 -0.292972\n",
       "1  1.508309  0.452073 -1.361920\n",
       "2  1.096107 -0.642763 -0.626200\n",
       "3 -0.603139  0.577286 -2.051688\n",
       "4 -0.385508  0.514070  0.660770"
      ]
     },
     "execution_count": 175,
     "metadata": {},
     "output_type": "execute_result"
    }
   ],
   "source": [
    "frm = pd.DataFrame(np.random.randn(5, 3))\n",
    "frm"
   ]
  },
  {
   "cell_type": "code",
   "execution_count": 176,
   "id": "d8099fc3",
   "metadata": {},
   "outputs": [
    {
     "data": {
      "text/html": [
       "<div>\n",
       "<style scoped>\n",
       "    .dataframe tbody tr th:only-of-type {\n",
       "        vertical-align: middle;\n",
       "    }\n",
       "\n",
       "    .dataframe tbody tr th {\n",
       "        vertical-align: top;\n",
       "    }\n",
       "\n",
       "    .dataframe thead th {\n",
       "        text-align: right;\n",
       "    }\n",
       "</style>\n",
       "<table border=\"1\" class=\"dataframe\">\n",
       "  <thead>\n",
       "    <tr style=\"text-align: right;\">\n",
       "      <th></th>\n",
       "      <th>0</th>\n",
       "      <th>1</th>\n",
       "      <th>2</th>\n",
       "    </tr>\n",
       "  </thead>\n",
       "  <tbody>\n",
       "    <tr>\n",
       "      <th>1</th>\n",
       "      <td>1.508309</td>\n",
       "      <td>0.452073</td>\n",
       "      <td>-1.361920</td>\n",
       "    </tr>\n",
       "    <tr>\n",
       "      <th>4</th>\n",
       "      <td>-0.385508</td>\n",
       "      <td>0.514070</td>\n",
       "      <td>0.660770</td>\n",
       "    </tr>\n",
       "    <tr>\n",
       "      <th>3</th>\n",
       "      <td>-0.603139</td>\n",
       "      <td>0.577286</td>\n",
       "      <td>-2.051688</td>\n",
       "    </tr>\n",
       "  </tbody>\n",
       "</table>\n",
       "</div>"
      ],
      "text/plain": [
       "          0         1         2\n",
       "1  1.508309  0.452073 -1.361920\n",
       "4 -0.385508  0.514070  0.660770\n",
       "3 -0.603139  0.577286 -2.051688"
      ]
     },
     "execution_count": 176,
     "metadata": {},
     "output_type": "execute_result"
    }
   ],
   "source": [
    "frm.take([1, 4, 3])"
   ]
  },
  {
   "cell_type": "code",
   "execution_count": 177,
   "id": "cedde17e",
   "metadata": {},
   "outputs": [
    {
     "data": {
      "text/html": [
       "<div>\n",
       "<style scoped>\n",
       "    .dataframe tbody tr th:only-of-type {\n",
       "        vertical-align: middle;\n",
       "    }\n",
       "\n",
       "    .dataframe tbody tr th {\n",
       "        vertical-align: top;\n",
       "    }\n",
       "\n",
       "    .dataframe thead th {\n",
       "        text-align: right;\n",
       "    }\n",
       "</style>\n",
       "<table border=\"1\" class=\"dataframe\">\n",
       "  <thead>\n",
       "    <tr style=\"text-align: right;\">\n",
       "      <th></th>\n",
       "      <th>0</th>\n",
       "      <th>2</th>\n",
       "    </tr>\n",
       "  </thead>\n",
       "  <tbody>\n",
       "    <tr>\n",
       "      <th>0</th>\n",
       "      <td>1.809678</td>\n",
       "      <td>-0.292972</td>\n",
       "    </tr>\n",
       "    <tr>\n",
       "      <th>1</th>\n",
       "      <td>1.508309</td>\n",
       "      <td>-1.361920</td>\n",
       "    </tr>\n",
       "    <tr>\n",
       "      <th>2</th>\n",
       "      <td>1.096107</td>\n",
       "      <td>-0.626200</td>\n",
       "    </tr>\n",
       "    <tr>\n",
       "      <th>3</th>\n",
       "      <td>-0.603139</td>\n",
       "      <td>-2.051688</td>\n",
       "    </tr>\n",
       "    <tr>\n",
       "      <th>4</th>\n",
       "      <td>-0.385508</td>\n",
       "      <td>0.660770</td>\n",
       "    </tr>\n",
       "  </tbody>\n",
       "</table>\n",
       "</div>"
      ],
      "text/plain": [
       "          0         2\n",
       "0  1.809678 -0.292972\n",
       "1  1.508309 -1.361920\n",
       "2  1.096107 -0.626200\n",
       "3 -0.603139 -2.051688\n",
       "4 -0.385508  0.660770"
      ]
     },
     "execution_count": 177,
     "metadata": {},
     "output_type": "execute_result"
    }
   ],
   "source": [
    "frm.take([0, 2], axis=1)"
   ]
  },
  {
   "cell_type": "code",
   "execution_count": 178,
   "id": "6cfc1bdf",
   "metadata": {},
   "outputs": [
    {
     "data": {
      "text/plain": [
       "array([-0.3309192 ,  0.29238895, -1.21890091, -0.17307391,  0.28057069,\n",
       "       -0.08252068, -1.88823236,  0.46156792, -0.82635175,  0.79629093])"
      ]
     },
     "execution_count": 178,
     "metadata": {},
     "output_type": "execute_result"
    }
   ],
   "source": [
    "arr = np.random.randn(10)\n",
    "arr"
   ]
  },
  {
   "cell_type": "code",
   "execution_count": 179,
   "id": "b28bbaa7",
   "metadata": {},
   "outputs": [
    {
     "data": {
      "text/plain": [
       "array([-0.3309192 , -0.3309192 ,  0.29238895,  0.29238895])"
      ]
     },
     "execution_count": 179,
     "metadata": {},
     "output_type": "execute_result"
    }
   ],
   "source": [
    "arr.take([False, False, True, True])"
   ]
  },
  {
   "cell_type": "code",
   "execution_count": 180,
   "id": "9a0dcc85",
   "metadata": {},
   "outputs": [
    {
     "data": {
      "text/plain": [
       "array([-0.3309192 ,  0.29238895])"
      ]
     },
     "execution_count": 180,
     "metadata": {},
     "output_type": "execute_result"
    }
   ],
   "source": [
    "arr[[0, 1]]"
   ]
  },
  {
   "cell_type": "code",
   "execution_count": 183,
   "id": "8484e767",
   "metadata": {},
   "outputs": [
    {
     "data": {
      "text/plain": [
       "0   -0.630655\n",
       "1   -0.138161\n",
       "2    0.122236\n",
       "3    0.995529\n",
       "4   -0.566748\n",
       "5    1.221799\n",
       "6   -0.752745\n",
       "7   -1.106251\n",
       "8   -0.243608\n",
       "9   -0.285630\n",
       "dtype: float64"
      ]
     },
     "execution_count": 183,
     "metadata": {},
     "output_type": "execute_result"
    }
   ],
   "source": [
    "ser"
   ]
  },
  {
   "cell_type": "code",
   "execution_count": 181,
   "id": "ee04a7b2",
   "metadata": {},
   "outputs": [
    {
     "data": {
      "text/plain": [
       "0   -0.630655\n",
       "0   -0.630655\n",
       "1   -0.138161\n",
       "1   -0.138161\n",
       "dtype: float64"
      ]
     },
     "execution_count": 181,
     "metadata": {},
     "output_type": "execute_result"
    }
   ],
   "source": [
    "ser.take([False, False, True, True])"
   ]
  },
  {
   "cell_type": "code",
   "execution_count": 182,
   "id": "2c32a78e",
   "metadata": {
    "scrolled": true
   },
   "outputs": [
    {
     "data": {
      "text/plain": [
       "0   -0.630655\n",
       "1   -0.138161\n",
       "dtype: float64"
      ]
     },
     "execution_count": 182,
     "metadata": {},
     "output_type": "execute_result"
    }
   ],
   "source": [
    "ser.iloc[[0, 1]]"
   ]
  },
  {
   "cell_type": "code",
   "execution_count": 184,
   "id": "919ed7ad",
   "metadata": {},
   "outputs": [
    {
     "name": "stdout",
     "output_type": "stream",
     "text": [
      "118 µs ± 9.11 µs per loop (mean ± std. dev. of 7 runs, 10,000 loops each)\n",
      "43.1 µs ± 2.49 µs per loop (mean ± std. dev. of 7 runs, 10,000 loops each)\n"
     ]
    }
   ],
   "source": [
    "arr = np.random.randn(10000, 5)\n",
    "\n",
    "indexer = np.arange(10000)\n",
    "\n",
    "random.shuffle(indexer)\n",
    "\n",
    "%timeit arr[indexer]\n",
    "\n",
    "%timeit arr.take(indexer, axis=0)"
   ]
  },
  {
   "cell_type": "code",
   "execution_count": 185,
   "id": "2228a97f",
   "metadata": {},
   "outputs": [
    {
     "name": "stdout",
     "output_type": "stream",
     "text": [
      "107 µs ± 8.78 µs per loop (mean ± std. dev. of 7 runs, 10,000 loops each)\n",
      "111 µs ± 16.6 µs per loop (mean ± std. dev. of 7 runs, 10,000 loops each)\n"
     ]
    }
   ],
   "source": [
    "ser = pd.Series(arr[:, 0])\n",
    "\n",
    "%timeit ser.iloc[indexer]\n",
    "\n",
    "%timeit ser.take(indexer)"
   ]
  },
  {
   "cell_type": "code",
   "execution_count": 186,
   "id": "6369ad6a",
   "metadata": {},
   "outputs": [
    {
     "data": {
      "text/html": [
       "<div>\n",
       "<style scoped>\n",
       "    .dataframe tbody tr th:only-of-type {\n",
       "        vertical-align: middle;\n",
       "    }\n",
       "\n",
       "    .dataframe tbody tr th {\n",
       "        vertical-align: top;\n",
       "    }\n",
       "\n",
       "    .dataframe thead th {\n",
       "        text-align: right;\n",
       "    }\n",
       "</style>\n",
       "<table border=\"1\" class=\"dataframe\">\n",
       "  <thead>\n",
       "    <tr style=\"text-align: right;\">\n",
       "      <th></th>\n",
       "      <th>A</th>\n",
       "      <th>B</th>\n",
       "    </tr>\n",
       "  </thead>\n",
       "  <tbody>\n",
       "    <tr>\n",
       "      <th>0</th>\n",
       "      <td>0</td>\n",
       "      <td>a</td>\n",
       "    </tr>\n",
       "    <tr>\n",
       "      <th>1</th>\n",
       "      <td>1</td>\n",
       "      <td>a</td>\n",
       "    </tr>\n",
       "    <tr>\n",
       "      <th>2</th>\n",
       "      <td>2</td>\n",
       "      <td>b</td>\n",
       "    </tr>\n",
       "    <tr>\n",
       "      <th>3</th>\n",
       "      <td>3</td>\n",
       "      <td>b</td>\n",
       "    </tr>\n",
       "    <tr>\n",
       "      <th>4</th>\n",
       "      <td>4</td>\n",
       "      <td>c</td>\n",
       "    </tr>\n",
       "    <tr>\n",
       "      <th>5</th>\n",
       "      <td>5</td>\n",
       "      <td>a</td>\n",
       "    </tr>\n",
       "  </tbody>\n",
       "</table>\n",
       "</div>"
      ],
      "text/plain": [
       "   A  B\n",
       "0  0  a\n",
       "1  1  a\n",
       "2  2  b\n",
       "3  3  b\n",
       "4  4  c\n",
       "5  5  a"
      ]
     },
     "execution_count": 186,
     "metadata": {},
     "output_type": "execute_result"
    }
   ],
   "source": [
    "from pandas.api.types import CategoricalDtype\n",
    "\n",
    "df = pd.DataFrame({\"A\": np.arange(6), \"B\": list(\"aabbca\")})\n",
    "df"
   ]
  },
  {
   "cell_type": "code",
   "execution_count": 187,
   "id": "24be2206",
   "metadata": {},
   "outputs": [
    {
     "data": {
      "text/html": [
       "<div>\n",
       "<style scoped>\n",
       "    .dataframe tbody tr th:only-of-type {\n",
       "        vertical-align: middle;\n",
       "    }\n",
       "\n",
       "    .dataframe tbody tr th {\n",
       "        vertical-align: top;\n",
       "    }\n",
       "\n",
       "    .dataframe thead th {\n",
       "        text-align: right;\n",
       "    }\n",
       "</style>\n",
       "<table border=\"1\" class=\"dataframe\">\n",
       "  <thead>\n",
       "    <tr style=\"text-align: right;\">\n",
       "      <th></th>\n",
       "      <th>A</th>\n",
       "      <th>B</th>\n",
       "    </tr>\n",
       "  </thead>\n",
       "  <tbody>\n",
       "    <tr>\n",
       "      <th>0</th>\n",
       "      <td>0</td>\n",
       "      <td>a</td>\n",
       "    </tr>\n",
       "    <tr>\n",
       "      <th>1</th>\n",
       "      <td>1</td>\n",
       "      <td>a</td>\n",
       "    </tr>\n",
       "    <tr>\n",
       "      <th>2</th>\n",
       "      <td>2</td>\n",
       "      <td>b</td>\n",
       "    </tr>\n",
       "    <tr>\n",
       "      <th>3</th>\n",
       "      <td>3</td>\n",
       "      <td>b</td>\n",
       "    </tr>\n",
       "    <tr>\n",
       "      <th>4</th>\n",
       "      <td>4</td>\n",
       "      <td>c</td>\n",
       "    </tr>\n",
       "    <tr>\n",
       "      <th>5</th>\n",
       "      <td>5</td>\n",
       "      <td>a</td>\n",
       "    </tr>\n",
       "  </tbody>\n",
       "</table>\n",
       "</div>"
      ],
      "text/plain": [
       "   A  B\n",
       "0  0  a\n",
       "1  1  a\n",
       "2  2  b\n",
       "3  3  b\n",
       "4  4  c\n",
       "5  5  a"
      ]
     },
     "execution_count": 187,
     "metadata": {},
     "output_type": "execute_result"
    }
   ],
   "source": [
    "df[\"B\"] = df[\"B\"].astype(CategoricalDtype(list(\"cab\")))\n",
    "\n",
    "df"
   ]
  },
  {
   "cell_type": "code",
   "execution_count": 188,
   "id": "b5bf4dd6",
   "metadata": {},
   "outputs": [
    {
     "data": {
      "text/plain": [
       "A       int32\n",
       "B    category\n",
       "dtype: object"
      ]
     },
     "execution_count": 188,
     "metadata": {},
     "output_type": "execute_result"
    }
   ],
   "source": [
    "df.dtypes"
   ]
  },
  {
   "cell_type": "code",
   "execution_count": 189,
   "id": "f9f9a2d6",
   "metadata": {},
   "outputs": [
    {
     "data": {
      "text/plain": [
       "Index(['c', 'a', 'b'], dtype='object')"
      ]
     },
     "execution_count": 189,
     "metadata": {},
     "output_type": "execute_result"
    }
   ],
   "source": [
    "df[\"B\"].cat.categories"
   ]
  },
  {
   "cell_type": "code",
   "execution_count": 190,
   "id": "86fab178",
   "metadata": {},
   "outputs": [
    {
     "data": {
      "text/plain": [
       "CategoricalIndex(['a', 'a', 'b', 'b', 'c', 'a'], categories=['c', 'a', 'b'], ordered=False, dtype='category', name='B')"
      ]
     },
     "execution_count": 190,
     "metadata": {},
     "output_type": "execute_result"
    }
   ],
   "source": [
    "df2 = df.set_index(\"B\")\n",
    "\n",
    "df2.index"
   ]
  },
  {
   "cell_type": "code",
   "execution_count": 192,
   "id": "390bf45d",
   "metadata": {},
   "outputs": [
    {
     "data": {
      "text/html": [
       "<div>\n",
       "<style scoped>\n",
       "    .dataframe tbody tr th:only-of-type {\n",
       "        vertical-align: middle;\n",
       "    }\n",
       "\n",
       "    .dataframe tbody tr th {\n",
       "        vertical-align: top;\n",
       "    }\n",
       "\n",
       "    .dataframe thead th {\n",
       "        text-align: right;\n",
       "    }\n",
       "</style>\n",
       "<table border=\"1\" class=\"dataframe\">\n",
       "  <thead>\n",
       "    <tr style=\"text-align: right;\">\n",
       "      <th></th>\n",
       "      <th>A</th>\n",
       "    </tr>\n",
       "    <tr>\n",
       "      <th>B</th>\n",
       "      <th></th>\n",
       "    </tr>\n",
       "  </thead>\n",
       "  <tbody>\n",
       "    <tr>\n",
       "      <th>a</th>\n",
       "      <td>0</td>\n",
       "    </tr>\n",
       "    <tr>\n",
       "      <th>a</th>\n",
       "      <td>1</td>\n",
       "    </tr>\n",
       "    <tr>\n",
       "      <th>b</th>\n",
       "      <td>2</td>\n",
       "    </tr>\n",
       "    <tr>\n",
       "      <th>b</th>\n",
       "      <td>3</td>\n",
       "    </tr>\n",
       "    <tr>\n",
       "      <th>c</th>\n",
       "      <td>4</td>\n",
       "    </tr>\n",
       "    <tr>\n",
       "      <th>a</th>\n",
       "      <td>5</td>\n",
       "    </tr>\n",
       "  </tbody>\n",
       "</table>\n",
       "</div>"
      ],
      "text/plain": [
       "   A\n",
       "B   \n",
       "a  0\n",
       "a  1\n",
       "b  2\n",
       "b  3\n",
       "c  4\n",
       "a  5"
      ]
     },
     "execution_count": 192,
     "metadata": {},
     "output_type": "execute_result"
    }
   ],
   "source": [
    "df2"
   ]
  },
  {
   "cell_type": "code",
   "execution_count": 191,
   "id": "341b1243",
   "metadata": {},
   "outputs": [
    {
     "data": {
      "text/html": [
       "<div>\n",
       "<style scoped>\n",
       "    .dataframe tbody tr th:only-of-type {\n",
       "        vertical-align: middle;\n",
       "    }\n",
       "\n",
       "    .dataframe tbody tr th {\n",
       "        vertical-align: top;\n",
       "    }\n",
       "\n",
       "    .dataframe thead th {\n",
       "        text-align: right;\n",
       "    }\n",
       "</style>\n",
       "<table border=\"1\" class=\"dataframe\">\n",
       "  <thead>\n",
       "    <tr style=\"text-align: right;\">\n",
       "      <th></th>\n",
       "      <th>A</th>\n",
       "    </tr>\n",
       "    <tr>\n",
       "      <th>B</th>\n",
       "      <th></th>\n",
       "    </tr>\n",
       "  </thead>\n",
       "  <tbody>\n",
       "    <tr>\n",
       "      <th>a</th>\n",
       "      <td>0</td>\n",
       "    </tr>\n",
       "    <tr>\n",
       "      <th>a</th>\n",
       "      <td>1</td>\n",
       "    </tr>\n",
       "    <tr>\n",
       "      <th>a</th>\n",
       "      <td>5</td>\n",
       "    </tr>\n",
       "  </tbody>\n",
       "</table>\n",
       "</div>"
      ],
      "text/plain": [
       "   A\n",
       "B   \n",
       "a  0\n",
       "a  1\n",
       "a  5"
      ]
     },
     "execution_count": 191,
     "metadata": {},
     "output_type": "execute_result"
    }
   ],
   "source": [
    "df2.loc[\"a\"]"
   ]
  },
  {
   "cell_type": "code",
   "execution_count": 193,
   "id": "50090640",
   "metadata": {},
   "outputs": [
    {
     "data": {
      "text/plain": [
       "CategoricalIndex(['a', 'a', 'a'], categories=['c', 'a', 'b'], ordered=False, dtype='category', name='B')"
      ]
     },
     "execution_count": 193,
     "metadata": {},
     "output_type": "execute_result"
    }
   ],
   "source": [
    "df2.loc[\"a\"].index"
   ]
  },
  {
   "cell_type": "code",
   "execution_count": 194,
   "id": "f77c940e",
   "metadata": {},
   "outputs": [
    {
     "data": {
      "text/html": [
       "<div>\n",
       "<style scoped>\n",
       "    .dataframe tbody tr th:only-of-type {\n",
       "        vertical-align: middle;\n",
       "    }\n",
       "\n",
       "    .dataframe tbody tr th {\n",
       "        vertical-align: top;\n",
       "    }\n",
       "\n",
       "    .dataframe thead th {\n",
       "        text-align: right;\n",
       "    }\n",
       "</style>\n",
       "<table border=\"1\" class=\"dataframe\">\n",
       "  <thead>\n",
       "    <tr style=\"text-align: right;\">\n",
       "      <th></th>\n",
       "      <th>A</th>\n",
       "    </tr>\n",
       "    <tr>\n",
       "      <th>B</th>\n",
       "      <th></th>\n",
       "    </tr>\n",
       "  </thead>\n",
       "  <tbody>\n",
       "    <tr>\n",
       "      <th>c</th>\n",
       "      <td>4</td>\n",
       "    </tr>\n",
       "    <tr>\n",
       "      <th>a</th>\n",
       "      <td>0</td>\n",
       "    </tr>\n",
       "    <tr>\n",
       "      <th>a</th>\n",
       "      <td>1</td>\n",
       "    </tr>\n",
       "    <tr>\n",
       "      <th>a</th>\n",
       "      <td>5</td>\n",
       "    </tr>\n",
       "    <tr>\n",
       "      <th>b</th>\n",
       "      <td>2</td>\n",
       "    </tr>\n",
       "    <tr>\n",
       "      <th>b</th>\n",
       "      <td>3</td>\n",
       "    </tr>\n",
       "  </tbody>\n",
       "</table>\n",
       "</div>"
      ],
      "text/plain": [
       "   A\n",
       "B   \n",
       "c  4\n",
       "a  0\n",
       "a  1\n",
       "a  5\n",
       "b  2\n",
       "b  3"
      ]
     },
     "execution_count": 194,
     "metadata": {},
     "output_type": "execute_result"
    }
   ],
   "source": [
    "df2.sort_index()"
   ]
  },
  {
   "cell_type": "code",
   "execution_count": 197,
   "id": "3080ab78",
   "metadata": {},
   "outputs": [
    {
     "data": {
      "text/html": [
       "<div>\n",
       "<style scoped>\n",
       "    .dataframe tbody tr th:only-of-type {\n",
       "        vertical-align: middle;\n",
       "    }\n",
       "\n",
       "    .dataframe tbody tr th {\n",
       "        vertical-align: top;\n",
       "    }\n",
       "\n",
       "    .dataframe thead th {\n",
       "        text-align: right;\n",
       "    }\n",
       "</style>\n",
       "<table border=\"1\" class=\"dataframe\">\n",
       "  <thead>\n",
       "    <tr style=\"text-align: right;\">\n",
       "      <th></th>\n",
       "      <th>A</th>\n",
       "    </tr>\n",
       "    <tr>\n",
       "      <th>B</th>\n",
       "      <th></th>\n",
       "    </tr>\n",
       "  </thead>\n",
       "  <tbody>\n",
       "    <tr>\n",
       "      <th>c</th>\n",
       "      <td>4</td>\n",
       "    </tr>\n",
       "    <tr>\n",
       "      <th>a</th>\n",
       "      <td>6</td>\n",
       "    </tr>\n",
       "    <tr>\n",
       "      <th>b</th>\n",
       "      <td>5</td>\n",
       "    </tr>\n",
       "  </tbody>\n",
       "</table>\n",
       "</div>"
      ],
      "text/plain": [
       "   A\n",
       "B   \n",
       "c  4\n",
       "a  6\n",
       "b  5"
      ]
     },
     "execution_count": 197,
     "metadata": {},
     "output_type": "execute_result"
    }
   ],
   "source": [
    "df2.groupby(level=0, observed=True).sum()"
   ]
  },
  {
   "cell_type": "code",
   "execution_count": 198,
   "id": "c76a170a",
   "metadata": {},
   "outputs": [
    {
     "data": {
      "text/plain": [
       "CategoricalIndex(['c', 'a', 'b'], categories=['c', 'a', 'b'], ordered=False, dtype='category', name='B')"
      ]
     },
     "execution_count": 198,
     "metadata": {},
     "output_type": "execute_result"
    }
   ],
   "source": [
    "df2.groupby(level=0, observed=True).sum().index"
   ]
  },
  {
   "cell_type": "code",
   "execution_count": 199,
   "id": "a9aa5c3e",
   "metadata": {},
   "outputs": [
    {
     "data": {
      "text/html": [
       "<div>\n",
       "<style scoped>\n",
       "    .dataframe tbody tr th:only-of-type {\n",
       "        vertical-align: middle;\n",
       "    }\n",
       "\n",
       "    .dataframe tbody tr th {\n",
       "        vertical-align: top;\n",
       "    }\n",
       "\n",
       "    .dataframe thead th {\n",
       "        text-align: right;\n",
       "    }\n",
       "</style>\n",
       "<table border=\"1\" class=\"dataframe\">\n",
       "  <thead>\n",
       "    <tr style=\"text-align: right;\">\n",
       "      <th></th>\n",
       "      <th>A</th>\n",
       "      <th>B</th>\n",
       "    </tr>\n",
       "  </thead>\n",
       "  <tbody>\n",
       "    <tr>\n",
       "      <th>0</th>\n",
       "      <td>0</td>\n",
       "      <td>a</td>\n",
       "    </tr>\n",
       "    <tr>\n",
       "      <th>1</th>\n",
       "      <td>1</td>\n",
       "      <td>b</td>\n",
       "    </tr>\n",
       "    <tr>\n",
       "      <th>2</th>\n",
       "      <td>2</td>\n",
       "      <td>c</td>\n",
       "    </tr>\n",
       "  </tbody>\n",
       "</table>\n",
       "</div>"
      ],
      "text/plain": [
       "   A  B\n",
       "0  0  a\n",
       "1  1  b\n",
       "2  2  c"
      ]
     },
     "execution_count": 199,
     "metadata": {},
     "output_type": "execute_result"
    }
   ],
   "source": [
    "df3 = pd.DataFrame(\n",
    "\n",
    "    {\"A\": np.arange(3), \"B\": pd.Series(list(\"abc\")).astype(\"category\")}\n",
    "\n",
    ")\n",
    "df3"
   ]
  },
  {
   "cell_type": "code",
   "execution_count": 200,
   "id": "500dcccf",
   "metadata": {},
   "outputs": [
    {
     "data": {
      "text/html": [
       "<div>\n",
       "<style scoped>\n",
       "    .dataframe tbody tr th:only-of-type {\n",
       "        vertical-align: middle;\n",
       "    }\n",
       "\n",
       "    .dataframe tbody tr th {\n",
       "        vertical-align: top;\n",
       "    }\n",
       "\n",
       "    .dataframe thead th {\n",
       "        text-align: right;\n",
       "    }\n",
       "</style>\n",
       "<table border=\"1\" class=\"dataframe\">\n",
       "  <thead>\n",
       "    <tr style=\"text-align: right;\">\n",
       "      <th></th>\n",
       "      <th>A</th>\n",
       "    </tr>\n",
       "    <tr>\n",
       "      <th>B</th>\n",
       "      <th></th>\n",
       "    </tr>\n",
       "  </thead>\n",
       "  <tbody>\n",
       "    <tr>\n",
       "      <th>a</th>\n",
       "      <td>0</td>\n",
       "    </tr>\n",
       "    <tr>\n",
       "      <th>b</th>\n",
       "      <td>1</td>\n",
       "    </tr>\n",
       "    <tr>\n",
       "      <th>c</th>\n",
       "      <td>2</td>\n",
       "    </tr>\n",
       "  </tbody>\n",
       "</table>\n",
       "</div>"
      ],
      "text/plain": [
       "   A\n",
       "B   \n",
       "a  0\n",
       "b  1\n",
       "c  2"
      ]
     },
     "execution_count": 200,
     "metadata": {},
     "output_type": "execute_result"
    }
   ],
   "source": [
    "df3 = df3.set_index(\"B\")\n",
    "\n",
    "df3"
   ]
  },
  {
   "cell_type": "code",
   "execution_count": 201,
   "id": "10107732",
   "metadata": {},
   "outputs": [
    {
     "data": {
      "text/html": [
       "<div>\n",
       "<style scoped>\n",
       "    .dataframe tbody tr th:only-of-type {\n",
       "        vertical-align: middle;\n",
       "    }\n",
       "\n",
       "    .dataframe tbody tr th {\n",
       "        vertical-align: top;\n",
       "    }\n",
       "\n",
       "    .dataframe thead th {\n",
       "        text-align: right;\n",
       "    }\n",
       "</style>\n",
       "<table border=\"1\" class=\"dataframe\">\n",
       "  <thead>\n",
       "    <tr style=\"text-align: right;\">\n",
       "      <th></th>\n",
       "      <th>A</th>\n",
       "    </tr>\n",
       "    <tr>\n",
       "      <th>B</th>\n",
       "      <th></th>\n",
       "    </tr>\n",
       "  </thead>\n",
       "  <tbody>\n",
       "    <tr>\n",
       "      <th>a</th>\n",
       "      <td>0.0</td>\n",
       "    </tr>\n",
       "    <tr>\n",
       "      <th>e</th>\n",
       "      <td>NaN</td>\n",
       "    </tr>\n",
       "  </tbody>\n",
       "</table>\n",
       "</div>"
      ],
      "text/plain": [
       "     A\n",
       "B     \n",
       "a  0.0\n",
       "e  NaN"
      ]
     },
     "execution_count": 201,
     "metadata": {},
     "output_type": "execute_result"
    }
   ],
   "source": [
    "df3.reindex([\"a\", \"e\"])"
   ]
  },
  {
   "cell_type": "code",
   "execution_count": 202,
   "id": "f6abbde9",
   "metadata": {},
   "outputs": [
    {
     "data": {
      "text/plain": [
       "Index(['a', 'e'], dtype='object', name='B')"
      ]
     },
     "execution_count": 202,
     "metadata": {},
     "output_type": "execute_result"
    }
   ],
   "source": [
    "df3.reindex([\"a\", \"e\"]).index"
   ]
  },
  {
   "cell_type": "code",
   "execution_count": 203,
   "id": "164905c4",
   "metadata": {},
   "outputs": [
    {
     "data": {
      "text/html": [
       "<div>\n",
       "<style scoped>\n",
       "    .dataframe tbody tr th:only-of-type {\n",
       "        vertical-align: middle;\n",
       "    }\n",
       "\n",
       "    .dataframe tbody tr th {\n",
       "        vertical-align: top;\n",
       "    }\n",
       "\n",
       "    .dataframe thead th {\n",
       "        text-align: right;\n",
       "    }\n",
       "</style>\n",
       "<table border=\"1\" class=\"dataframe\">\n",
       "  <thead>\n",
       "    <tr style=\"text-align: right;\">\n",
       "      <th></th>\n",
       "      <th>A</th>\n",
       "    </tr>\n",
       "    <tr>\n",
       "      <th>B</th>\n",
       "      <th></th>\n",
       "    </tr>\n",
       "  </thead>\n",
       "  <tbody>\n",
       "    <tr>\n",
       "      <th>a</th>\n",
       "      <td>0.0</td>\n",
       "    </tr>\n",
       "    <tr>\n",
       "      <th>e</th>\n",
       "      <td>NaN</td>\n",
       "    </tr>\n",
       "  </tbody>\n",
       "</table>\n",
       "</div>"
      ],
      "text/plain": [
       "     A\n",
       "B     \n",
       "a  0.0\n",
       "e  NaN"
      ]
     },
     "execution_count": 203,
     "metadata": {},
     "output_type": "execute_result"
    }
   ],
   "source": [
    "df3.reindex(pd.Categorical([\"a\", \"e\"], categories=list(\"abe\")))"
   ]
  },
  {
   "cell_type": "code",
   "execution_count": 204,
   "id": "b9c652df",
   "metadata": {},
   "outputs": [
    {
     "data": {
      "text/plain": [
       "CategoricalIndex(['a', 'e'], categories=['a', 'b', 'e'], ordered=False, dtype='category', name='B')"
      ]
     },
     "execution_count": 204,
     "metadata": {},
     "output_type": "execute_result"
    }
   ],
   "source": [
    "df3.reindex(pd.Categorical([\"a\", \"e\"], categories=list(\"abe\"))).index"
   ]
  }
 ],
 "metadata": {
  "kernelspec": {
   "display_name": "Python 3 (ipykernel)",
   "language": "python",
   "name": "python3"
  },
  "language_info": {
   "codemirror_mode": {
    "name": "ipython",
    "version": 3
   },
   "file_extension": ".py",
   "mimetype": "text/x-python",
   "name": "python",
   "nbconvert_exporter": "python",
   "pygments_lexer": "ipython3",
   "version": "3.10.9"
  }
 },
 "nbformat": 4,
 "nbformat_minor": 5
}
