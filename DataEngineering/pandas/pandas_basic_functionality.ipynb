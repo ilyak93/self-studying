{
 "cells": [
  {
   "cell_type": "code",
   "execution_count": 1,
   "id": "75759f73",
   "metadata": {},
   "outputs": [],
   "source": [
    "import pandas as pd\n",
    "import numpy as np"
   ]
  },
  {
   "cell_type": "code",
   "execution_count": 2,
   "id": "7109476e",
   "metadata": {},
   "outputs": [
    {
     "data": {
      "text/plain": [
       "DatetimeIndex(['2000-01-01', '2000-01-02', '2000-01-03', '2000-01-04',\n",
       "               '2000-01-05', '2000-01-06', '2000-01-07', '2000-01-08'],\n",
       "              dtype='datetime64[ns]', freq='D')"
      ]
     },
     "execution_count": 2,
     "metadata": {},
     "output_type": "execute_result"
    }
   ],
   "source": [
    "index = pd.date_range(\"1/1/2000\", periods=8)\n",
    "index"
   ]
  },
  {
   "cell_type": "code",
   "execution_count": 3,
   "id": "1554c1e0",
   "metadata": {},
   "outputs": [
    {
     "data": {
      "text/plain": [
       "a    0.226653\n",
       "b    0.536675\n",
       "c    1.472243\n",
       "d   -1.098187\n",
       "e    0.333052\n",
       "dtype: float64"
      ]
     },
     "execution_count": 3,
     "metadata": {},
     "output_type": "execute_result"
    }
   ],
   "source": [
    "s = pd.Series(np.random.randn(5), index=[\"a\", \"b\", \"c\", \"d\", \"e\"])\n",
    "s"
   ]
  },
  {
   "cell_type": "code",
   "execution_count": 4,
   "id": "76ffd7db",
   "metadata": {},
   "outputs": [
    {
     "data": {
      "text/html": [
       "<div>\n",
       "<style scoped>\n",
       "    .dataframe tbody tr th:only-of-type {\n",
       "        vertical-align: middle;\n",
       "    }\n",
       "\n",
       "    .dataframe tbody tr th {\n",
       "        vertical-align: top;\n",
       "    }\n",
       "\n",
       "    .dataframe thead th {\n",
       "        text-align: right;\n",
       "    }\n",
       "</style>\n",
       "<table border=\"1\" class=\"dataframe\">\n",
       "  <thead>\n",
       "    <tr style=\"text-align: right;\">\n",
       "      <th></th>\n",
       "      <th>A</th>\n",
       "      <th>B</th>\n",
       "      <th>C</th>\n",
       "    </tr>\n",
       "  </thead>\n",
       "  <tbody>\n",
       "    <tr>\n",
       "      <th>2000-01-01</th>\n",
       "      <td>0.121080</td>\n",
       "      <td>0.678015</td>\n",
       "      <td>-0.946181</td>\n",
       "    </tr>\n",
       "    <tr>\n",
       "      <th>2000-01-02</th>\n",
       "      <td>-0.011672</td>\n",
       "      <td>0.097127</td>\n",
       "      <td>0.771051</td>\n",
       "    </tr>\n",
       "    <tr>\n",
       "      <th>2000-01-03</th>\n",
       "      <td>-1.329823</td>\n",
       "      <td>-0.866895</td>\n",
       "      <td>-1.810622</td>\n",
       "    </tr>\n",
       "    <tr>\n",
       "      <th>2000-01-04</th>\n",
       "      <td>1.397277</td>\n",
       "      <td>0.048422</td>\n",
       "      <td>1.327762</td>\n",
       "    </tr>\n",
       "    <tr>\n",
       "      <th>2000-01-05</th>\n",
       "      <td>1.993280</td>\n",
       "      <td>-1.455339</td>\n",
       "      <td>1.473374</td>\n",
       "    </tr>\n",
       "    <tr>\n",
       "      <th>2000-01-06</th>\n",
       "      <td>0.878855</td>\n",
       "      <td>0.532600</td>\n",
       "      <td>-1.753983</td>\n",
       "    </tr>\n",
       "    <tr>\n",
       "      <th>2000-01-07</th>\n",
       "      <td>2.483546</td>\n",
       "      <td>-0.568352</td>\n",
       "      <td>-0.304539</td>\n",
       "    </tr>\n",
       "    <tr>\n",
       "      <th>2000-01-08</th>\n",
       "      <td>0.691885</td>\n",
       "      <td>0.046702</td>\n",
       "      <td>0.886395</td>\n",
       "    </tr>\n",
       "  </tbody>\n",
       "</table>\n",
       "</div>"
      ],
      "text/plain": [
       "                   A         B         C\n",
       "2000-01-01  0.121080  0.678015 -0.946181\n",
       "2000-01-02 -0.011672  0.097127  0.771051\n",
       "2000-01-03 -1.329823 -0.866895 -1.810622\n",
       "2000-01-04  1.397277  0.048422  1.327762\n",
       "2000-01-05  1.993280 -1.455339  1.473374\n",
       "2000-01-06  0.878855  0.532600 -1.753983\n",
       "2000-01-07  2.483546 -0.568352 -0.304539\n",
       "2000-01-08  0.691885  0.046702  0.886395"
      ]
     },
     "execution_count": 4,
     "metadata": {},
     "output_type": "execute_result"
    }
   ],
   "source": [
    "df = pd.DataFrame(np.random.randn(8, 3), index=index, columns=[\"A\", \"B\", \"C\"])\n",
    "df"
   ]
  },
  {
   "cell_type": "code",
   "execution_count": 5,
   "id": "71997c16",
   "metadata": {},
   "outputs": [
    {
     "data": {
      "text/plain": [
       "0    1.289646\n",
       "1   -1.068033\n",
       "2   -0.277597\n",
       "3    0.345562\n",
       "4    0.223636\n",
       "dtype: float64"
      ]
     },
     "execution_count": 5,
     "metadata": {},
     "output_type": "execute_result"
    }
   ],
   "source": [
    "long_series = pd.Series(np.random.randn(1000))\n",
    "\n",
    "long_series.head()"
   ]
  },
  {
   "cell_type": "code",
   "execution_count": 6,
   "id": "38439a7d",
   "metadata": {},
   "outputs": [
    {
     "data": {
      "text/plain": [
       "997   -0.150359\n",
       "998    1.369789\n",
       "999    0.257525\n",
       "dtype: float64"
      ]
     },
     "execution_count": 6,
     "metadata": {},
     "output_type": "execute_result"
    }
   ],
   "source": [
    "long_series.tail(3)"
   ]
  },
  {
   "cell_type": "code",
   "execution_count": 7,
   "id": "5e369648",
   "metadata": {},
   "outputs": [
    {
     "data": {
      "text/html": [
       "<div>\n",
       "<style scoped>\n",
       "    .dataframe tbody tr th:only-of-type {\n",
       "        vertical-align: middle;\n",
       "    }\n",
       "\n",
       "    .dataframe tbody tr th {\n",
       "        vertical-align: top;\n",
       "    }\n",
       "\n",
       "    .dataframe thead th {\n",
       "        text-align: right;\n",
       "    }\n",
       "</style>\n",
       "<table border=\"1\" class=\"dataframe\">\n",
       "  <thead>\n",
       "    <tr style=\"text-align: right;\">\n",
       "      <th></th>\n",
       "      <th>A</th>\n",
       "      <th>B</th>\n",
       "      <th>C</th>\n",
       "    </tr>\n",
       "  </thead>\n",
       "  <tbody>\n",
       "    <tr>\n",
       "      <th>2000-01-01</th>\n",
       "      <td>0.121080</td>\n",
       "      <td>0.678015</td>\n",
       "      <td>-0.946181</td>\n",
       "    </tr>\n",
       "    <tr>\n",
       "      <th>2000-01-02</th>\n",
       "      <td>-0.011672</td>\n",
       "      <td>0.097127</td>\n",
       "      <td>0.771051</td>\n",
       "    </tr>\n",
       "  </tbody>\n",
       "</table>\n",
       "</div>"
      ],
      "text/plain": [
       "                   A         B         C\n",
       "2000-01-01  0.121080  0.678015 -0.946181\n",
       "2000-01-02 -0.011672  0.097127  0.771051"
      ]
     },
     "execution_count": 7,
     "metadata": {},
     "output_type": "execute_result"
    }
   ],
   "source": [
    "df[:2]"
   ]
  },
  {
   "cell_type": "code",
   "execution_count": 8,
   "id": "b639761d",
   "metadata": {},
   "outputs": [
    {
     "data": {
      "text/plain": [
       "Index(['a', 'b', 'c'], dtype='object')"
      ]
     },
     "execution_count": 8,
     "metadata": {},
     "output_type": "execute_result"
    }
   ],
   "source": [
    "df.columns = [x.lower() for x in df.columns]\n",
    "df.columns"
   ]
  },
  {
   "cell_type": "code",
   "execution_count": 9,
   "id": "60040c4f",
   "metadata": {},
   "outputs": [
    {
     "data": {
      "text/html": [
       "<div>\n",
       "<style scoped>\n",
       "    .dataframe tbody tr th:only-of-type {\n",
       "        vertical-align: middle;\n",
       "    }\n",
       "\n",
       "    .dataframe tbody tr th {\n",
       "        vertical-align: top;\n",
       "    }\n",
       "\n",
       "    .dataframe thead th {\n",
       "        text-align: right;\n",
       "    }\n",
       "</style>\n",
       "<table border=\"1\" class=\"dataframe\">\n",
       "  <thead>\n",
       "    <tr style=\"text-align: right;\">\n",
       "      <th></th>\n",
       "      <th>a</th>\n",
       "      <th>b</th>\n",
       "      <th>c</th>\n",
       "    </tr>\n",
       "  </thead>\n",
       "  <tbody>\n",
       "    <tr>\n",
       "      <th>2000-01-01</th>\n",
       "      <td>0.121080</td>\n",
       "      <td>0.678015</td>\n",
       "      <td>-0.946181</td>\n",
       "    </tr>\n",
       "    <tr>\n",
       "      <th>2000-01-02</th>\n",
       "      <td>-0.011672</td>\n",
       "      <td>0.097127</td>\n",
       "      <td>0.771051</td>\n",
       "    </tr>\n",
       "    <tr>\n",
       "      <th>2000-01-03</th>\n",
       "      <td>-1.329823</td>\n",
       "      <td>-0.866895</td>\n",
       "      <td>-1.810622</td>\n",
       "    </tr>\n",
       "    <tr>\n",
       "      <th>2000-01-04</th>\n",
       "      <td>1.397277</td>\n",
       "      <td>0.048422</td>\n",
       "      <td>1.327762</td>\n",
       "    </tr>\n",
       "    <tr>\n",
       "      <th>2000-01-05</th>\n",
       "      <td>1.993280</td>\n",
       "      <td>-1.455339</td>\n",
       "      <td>1.473374</td>\n",
       "    </tr>\n",
       "    <tr>\n",
       "      <th>2000-01-06</th>\n",
       "      <td>0.878855</td>\n",
       "      <td>0.532600</td>\n",
       "      <td>-1.753983</td>\n",
       "    </tr>\n",
       "    <tr>\n",
       "      <th>2000-01-07</th>\n",
       "      <td>2.483546</td>\n",
       "      <td>-0.568352</td>\n",
       "      <td>-0.304539</td>\n",
       "    </tr>\n",
       "    <tr>\n",
       "      <th>2000-01-08</th>\n",
       "      <td>0.691885</td>\n",
       "      <td>0.046702</td>\n",
       "      <td>0.886395</td>\n",
       "    </tr>\n",
       "  </tbody>\n",
       "</table>\n",
       "</div>"
      ],
      "text/plain": [
       "                   a         b         c\n",
       "2000-01-01  0.121080  0.678015 -0.946181\n",
       "2000-01-02 -0.011672  0.097127  0.771051\n",
       "2000-01-03 -1.329823 -0.866895 -1.810622\n",
       "2000-01-04  1.397277  0.048422  1.327762\n",
       "2000-01-05  1.993280 -1.455339  1.473374\n",
       "2000-01-06  0.878855  0.532600 -1.753983\n",
       "2000-01-07  2.483546 -0.568352 -0.304539\n",
       "2000-01-08  0.691885  0.046702  0.886395"
      ]
     },
     "execution_count": 9,
     "metadata": {},
     "output_type": "execute_result"
    }
   ],
   "source": [
    "df"
   ]
  },
  {
   "cell_type": "code",
   "execution_count": 10,
   "id": "1170eba5",
   "metadata": {},
   "outputs": [
    {
     "data": {
      "text/plain": [
       "a    0.226653\n",
       "b    0.536675\n",
       "c    1.472243\n",
       "d   -1.098187\n",
       "e    0.333052\n",
       "dtype: float64"
      ]
     },
     "execution_count": 10,
     "metadata": {},
     "output_type": "execute_result"
    }
   ],
   "source": [
    "s"
   ]
  },
  {
   "cell_type": "code",
   "execution_count": 11,
   "id": "7b4a9936",
   "metadata": {},
   "outputs": [
    {
     "data": {
      "text/plain": [
       "<NumpyExtensionArray>\n",
       "[0.22665273101563216,  0.5366748785428379,  1.4722429958286873,\n",
       " -1.0981873168171383, 0.33305235062824184]\n",
       "Length: 5, dtype: float64"
      ]
     },
     "execution_count": 11,
     "metadata": {},
     "output_type": "execute_result"
    }
   ],
   "source": [
    "s.array"
   ]
  },
  {
   "cell_type": "code",
   "execution_count": 12,
   "id": "f18296f3",
   "metadata": {},
   "outputs": [
    {
     "data": {
      "text/plain": [
       "<NumpyExtensionArray>\n",
       "['a', 'b', 'c', 'd', 'e']\n",
       "Length: 5, dtype: object"
      ]
     },
     "execution_count": 12,
     "metadata": {},
     "output_type": "execute_result"
    }
   ],
   "source": [
    "s.index.array"
   ]
  },
  {
   "cell_type": "code",
   "execution_count": 13,
   "id": "71d23f15",
   "metadata": {},
   "outputs": [
    {
     "data": {
      "text/plain": [
       "array([ 0.22665273,  0.53667488,  1.472243  , -1.09818732,  0.33305235])"
      ]
     },
     "execution_count": 13,
     "metadata": {},
     "output_type": "execute_result"
    }
   ],
   "source": [
    "s.to_numpy()"
   ]
  },
  {
   "cell_type": "code",
   "execution_count": 14,
   "id": "d1eacfda",
   "metadata": {},
   "outputs": [
    {
     "data": {
      "text/plain": [
       "array([ 0.22665273,  0.53667488,  1.472243  , -1.09818732,  0.33305235])"
      ]
     },
     "execution_count": 14,
     "metadata": {},
     "output_type": "execute_result"
    }
   ],
   "source": [
    "np.asarray(s)"
   ]
  },
  {
   "cell_type": "code",
   "execution_count": 15,
   "id": "dcb73f74",
   "metadata": {},
   "outputs": [
    {
     "data": {
      "text/plain": [
       "0   2000-01-01 00:00:00+01:00\n",
       "1   2000-01-02 00:00:00+01:00\n",
       "dtype: datetime64[ns, CET]"
      ]
     },
     "execution_count": 15,
     "metadata": {},
     "output_type": "execute_result"
    }
   ],
   "source": [
    "ser = pd.Series(pd.date_range(\"2000\", periods=2, tz=\"CET\"))\n",
    "ser\n"
   ]
  },
  {
   "cell_type": "code",
   "execution_count": 16,
   "id": "f43f85b4",
   "metadata": {},
   "outputs": [
    {
     "data": {
      "text/plain": [
       "array([Timestamp('2000-01-01 00:00:00+0100', tz='CET'),\n",
       "       Timestamp('2000-01-02 00:00:00+0100', tz='CET')], dtype=object)"
      ]
     },
     "execution_count": 16,
     "metadata": {},
     "output_type": "execute_result"
    }
   ],
   "source": [
    "ser.to_numpy(dtype=object)"
   ]
  },
  {
   "cell_type": "code",
   "execution_count": 17,
   "id": "4715c97f",
   "metadata": {},
   "outputs": [
    {
     "data": {
      "text/plain": [
       "array(['1999-12-31T23:00:00.000000000', '2000-01-01T23:00:00.000000000'],\n",
       "      dtype='datetime64[ns]')"
      ]
     },
     "execution_count": 17,
     "metadata": {},
     "output_type": "execute_result"
    }
   ],
   "source": [
    "ser.to_numpy(dtype=\"datetime64[ns]\")"
   ]
  },
  {
   "cell_type": "code",
   "execution_count": 18,
   "id": "0b459c0d",
   "metadata": {},
   "outputs": [
    {
     "data": {
      "text/plain": [
       "array([[ 0.12108027,  0.67801528, -0.94618061],\n",
       "       [-0.01167243,  0.09712694,  0.77105124],\n",
       "       [-1.32982273, -0.86689492, -1.81062194],\n",
       "       [ 1.39727723,  0.04842226,  1.32776197],\n",
       "       [ 1.99328019, -1.4553394 ,  1.47337378],\n",
       "       [ 0.87885505,  0.53260025, -1.75398331],\n",
       "       [ 2.48354577, -0.56835242, -0.30453878],\n",
       "       [ 0.69188511,  0.04670164,  0.88639474]])"
      ]
     },
     "execution_count": 18,
     "metadata": {},
     "output_type": "execute_result"
    }
   ],
   "source": [
    "df.to_numpy()"
   ]
  },
  {
   "cell_type": "code",
   "execution_count": 19,
   "id": "ea496809",
   "metadata": {},
   "outputs": [],
   "source": [
    "pd.set_option(\"compute.use_bottleneck\", True)\n",
    "pd.set_option(\"compute.use_numexpr\", True)"
   ]
  },
  {
   "cell_type": "code",
   "execution_count": 20,
   "id": "168241b8",
   "metadata": {},
   "outputs": [
    {
     "data": {
      "text/html": [
       "<div>\n",
       "<style scoped>\n",
       "    .dataframe tbody tr th:only-of-type {\n",
       "        vertical-align: middle;\n",
       "    }\n",
       "\n",
       "    .dataframe tbody tr th {\n",
       "        vertical-align: top;\n",
       "    }\n",
       "\n",
       "    .dataframe thead th {\n",
       "        text-align: right;\n",
       "    }\n",
       "</style>\n",
       "<table border=\"1\" class=\"dataframe\">\n",
       "  <thead>\n",
       "    <tr style=\"text-align: right;\">\n",
       "      <th></th>\n",
       "      <th>one</th>\n",
       "      <th>two</th>\n",
       "      <th>three</th>\n",
       "    </tr>\n",
       "  </thead>\n",
       "  <tbody>\n",
       "    <tr>\n",
       "      <th>a</th>\n",
       "      <td>0.342308</td>\n",
       "      <td>-0.698858</td>\n",
       "      <td>NaN</td>\n",
       "    </tr>\n",
       "    <tr>\n",
       "      <th>b</th>\n",
       "      <td>1.393615</td>\n",
       "      <td>1.504289</td>\n",
       "      <td>-0.084983</td>\n",
       "    </tr>\n",
       "    <tr>\n",
       "      <th>c</th>\n",
       "      <td>0.098764</td>\n",
       "      <td>0.993717</td>\n",
       "      <td>-0.256028</td>\n",
       "    </tr>\n",
       "    <tr>\n",
       "      <th>d</th>\n",
       "      <td>NaN</td>\n",
       "      <td>-0.314475</td>\n",
       "      <td>-1.694800</td>\n",
       "    </tr>\n",
       "  </tbody>\n",
       "</table>\n",
       "</div>"
      ],
      "text/plain": [
       "        one       two     three\n",
       "a  0.342308 -0.698858       NaN\n",
       "b  1.393615  1.504289 -0.084983\n",
       "c  0.098764  0.993717 -0.256028\n",
       "d       NaN -0.314475 -1.694800"
      ]
     },
     "execution_count": 20,
     "metadata": {},
     "output_type": "execute_result"
    }
   ],
   "source": [
    "df = pd.DataFrame(\n",
    "\n",
    "    {\n",
    "\n",
    "        \"one\": pd.Series(np.random.randn(3), index=[\"a\", \"b\", \"c\"]),\n",
    "\n",
    "        \"two\": pd.Series(np.random.randn(4), index=[\"a\", \"b\", \"c\", \"d\"]),\n",
    "\n",
    "        \"three\": pd.Series(np.random.randn(3), index=[\"b\", \"c\", \"d\"]),\n",
    "\n",
    "    }\n",
    "\n",
    ")\n",
    "\n",
    "\n",
    "\n",
    "df"
   ]
  },
  {
   "cell_type": "code",
   "execution_count": 21,
   "id": "da0c5889",
   "metadata": {},
   "outputs": [
    {
     "data": {
      "text/plain": [
       "one      1.393615\n",
       "two      1.504289\n",
       "three   -0.084983\n",
       "Name: b, dtype: float64"
      ]
     },
     "execution_count": 21,
     "metadata": {},
     "output_type": "execute_result"
    }
   ],
   "source": [
    "row = df.iloc[1]\n",
    "row"
   ]
  },
  {
   "cell_type": "code",
   "execution_count": 22,
   "id": "0219f68e",
   "metadata": {},
   "outputs": [
    {
     "data": {
      "text/plain": [
       "a   -0.698858\n",
       "b    1.504289\n",
       "c    0.993717\n",
       "d   -0.314475\n",
       "Name: two, dtype: float64"
      ]
     },
     "execution_count": 22,
     "metadata": {},
     "output_type": "execute_result"
    }
   ],
   "source": [
    "column = df[\"two\"]\n",
    "column"
   ]
  },
  {
   "cell_type": "code",
   "execution_count": 23,
   "id": "96553e9e",
   "metadata": {},
   "outputs": [
    {
     "data": {
      "text/html": [
       "<div>\n",
       "<style scoped>\n",
       "    .dataframe tbody tr th:only-of-type {\n",
       "        vertical-align: middle;\n",
       "    }\n",
       "\n",
       "    .dataframe tbody tr th {\n",
       "        vertical-align: top;\n",
       "    }\n",
       "\n",
       "    .dataframe thead th {\n",
       "        text-align: right;\n",
       "    }\n",
       "</style>\n",
       "<table border=\"1\" class=\"dataframe\">\n",
       "  <thead>\n",
       "    <tr style=\"text-align: right;\">\n",
       "      <th></th>\n",
       "      <th>one</th>\n",
       "      <th>two</th>\n",
       "      <th>three</th>\n",
       "    </tr>\n",
       "  </thead>\n",
       "  <tbody>\n",
       "    <tr>\n",
       "      <th>a</th>\n",
       "      <td>-1.051306</td>\n",
       "      <td>-2.203147</td>\n",
       "      <td>NaN</td>\n",
       "    </tr>\n",
       "    <tr>\n",
       "      <th>b</th>\n",
       "      <td>0.000000</td>\n",
       "      <td>0.000000</td>\n",
       "      <td>0.000000</td>\n",
       "    </tr>\n",
       "    <tr>\n",
       "      <th>c</th>\n",
       "      <td>-1.294851</td>\n",
       "      <td>-0.510571</td>\n",
       "      <td>-0.171045</td>\n",
       "    </tr>\n",
       "    <tr>\n",
       "      <th>d</th>\n",
       "      <td>NaN</td>\n",
       "      <td>-1.818764</td>\n",
       "      <td>-1.609817</td>\n",
       "    </tr>\n",
       "  </tbody>\n",
       "</table>\n",
       "</div>"
      ],
      "text/plain": [
       "        one       two     three\n",
       "a -1.051306 -2.203147       NaN\n",
       "b  0.000000  0.000000  0.000000\n",
       "c -1.294851 -0.510571 -0.171045\n",
       "d       NaN -1.818764 -1.609817"
      ]
     },
     "execution_count": 23,
     "metadata": {},
     "output_type": "execute_result"
    }
   ],
   "source": [
    "df.sub(row, axis=\"columns\")"
   ]
  },
  {
   "cell_type": "code",
   "execution_count": 24,
   "id": "83fc554f",
   "metadata": {},
   "outputs": [
    {
     "data": {
      "text/html": [
       "<div>\n",
       "<style scoped>\n",
       "    .dataframe tbody tr th:only-of-type {\n",
       "        vertical-align: middle;\n",
       "    }\n",
       "\n",
       "    .dataframe tbody tr th {\n",
       "        vertical-align: top;\n",
       "    }\n",
       "\n",
       "    .dataframe thead th {\n",
       "        text-align: right;\n",
       "    }\n",
       "</style>\n",
       "<table border=\"1\" class=\"dataframe\">\n",
       "  <thead>\n",
       "    <tr style=\"text-align: right;\">\n",
       "      <th></th>\n",
       "      <th>one</th>\n",
       "      <th>two</th>\n",
       "      <th>three</th>\n",
       "    </tr>\n",
       "  </thead>\n",
       "  <tbody>\n",
       "    <tr>\n",
       "      <th>a</th>\n",
       "      <td>-1.051306</td>\n",
       "      <td>-2.203147</td>\n",
       "      <td>NaN</td>\n",
       "    </tr>\n",
       "    <tr>\n",
       "      <th>b</th>\n",
       "      <td>0.000000</td>\n",
       "      <td>0.000000</td>\n",
       "      <td>0.000000</td>\n",
       "    </tr>\n",
       "    <tr>\n",
       "      <th>c</th>\n",
       "      <td>-1.294851</td>\n",
       "      <td>-0.510571</td>\n",
       "      <td>-0.171045</td>\n",
       "    </tr>\n",
       "    <tr>\n",
       "      <th>d</th>\n",
       "      <td>NaN</td>\n",
       "      <td>-1.818764</td>\n",
       "      <td>-1.609817</td>\n",
       "    </tr>\n",
       "  </tbody>\n",
       "</table>\n",
       "</div>"
      ],
      "text/plain": [
       "        one       two     three\n",
       "a -1.051306 -2.203147       NaN\n",
       "b  0.000000  0.000000  0.000000\n",
       "c -1.294851 -0.510571 -0.171045\n",
       "d       NaN -1.818764 -1.609817"
      ]
     },
     "execution_count": 24,
     "metadata": {},
     "output_type": "execute_result"
    }
   ],
   "source": [
    "df.sub(row, axis=1)"
   ]
  },
  {
   "cell_type": "code",
   "execution_count": 25,
   "id": "728514f4",
   "metadata": {},
   "outputs": [
    {
     "data": {
      "text/html": [
       "<div>\n",
       "<style scoped>\n",
       "    .dataframe tbody tr th:only-of-type {\n",
       "        vertical-align: middle;\n",
       "    }\n",
       "\n",
       "    .dataframe tbody tr th {\n",
       "        vertical-align: top;\n",
       "    }\n",
       "\n",
       "    .dataframe thead th {\n",
       "        text-align: right;\n",
       "    }\n",
       "</style>\n",
       "<table border=\"1\" class=\"dataframe\">\n",
       "  <thead>\n",
       "    <tr style=\"text-align: right;\">\n",
       "      <th></th>\n",
       "      <th>one</th>\n",
       "      <th>two</th>\n",
       "      <th>three</th>\n",
       "    </tr>\n",
       "  </thead>\n",
       "  <tbody>\n",
       "    <tr>\n",
       "      <th>a</th>\n",
       "      <td>1.041167</td>\n",
       "      <td>0.0</td>\n",
       "      <td>NaN</td>\n",
       "    </tr>\n",
       "    <tr>\n",
       "      <th>b</th>\n",
       "      <td>-0.110674</td>\n",
       "      <td>0.0</td>\n",
       "      <td>-1.589272</td>\n",
       "    </tr>\n",
       "    <tr>\n",
       "      <th>c</th>\n",
       "      <td>-0.894953</td>\n",
       "      <td>0.0</td>\n",
       "      <td>-1.249745</td>\n",
       "    </tr>\n",
       "    <tr>\n",
       "      <th>d</th>\n",
       "      <td>NaN</td>\n",
       "      <td>0.0</td>\n",
       "      <td>-1.380325</td>\n",
       "    </tr>\n",
       "  </tbody>\n",
       "</table>\n",
       "</div>"
      ],
      "text/plain": [
       "        one  two     three\n",
       "a  1.041167  0.0       NaN\n",
       "b -0.110674  0.0 -1.589272\n",
       "c -0.894953  0.0 -1.249745\n",
       "d       NaN  0.0 -1.380325"
      ]
     },
     "execution_count": 25,
     "metadata": {},
     "output_type": "execute_result"
    }
   ],
   "source": [
    "df.sub(column, axis=\"index\")"
   ]
  },
  {
   "cell_type": "code",
   "execution_count": 26,
   "id": "d1dbd405",
   "metadata": {},
   "outputs": [
    {
     "data": {
      "text/html": [
       "<div>\n",
       "<style scoped>\n",
       "    .dataframe tbody tr th:only-of-type {\n",
       "        vertical-align: middle;\n",
       "    }\n",
       "\n",
       "    .dataframe tbody tr th {\n",
       "        vertical-align: top;\n",
       "    }\n",
       "\n",
       "    .dataframe thead th {\n",
       "        text-align: right;\n",
       "    }\n",
       "</style>\n",
       "<table border=\"1\" class=\"dataframe\">\n",
       "  <thead>\n",
       "    <tr style=\"text-align: right;\">\n",
       "      <th></th>\n",
       "      <th>one</th>\n",
       "      <th>two</th>\n",
       "      <th>three</th>\n",
       "    </tr>\n",
       "  </thead>\n",
       "  <tbody>\n",
       "    <tr>\n",
       "      <th>a</th>\n",
       "      <td>1.041167</td>\n",
       "      <td>0.0</td>\n",
       "      <td>NaN</td>\n",
       "    </tr>\n",
       "    <tr>\n",
       "      <th>b</th>\n",
       "      <td>-0.110674</td>\n",
       "      <td>0.0</td>\n",
       "      <td>-1.589272</td>\n",
       "    </tr>\n",
       "    <tr>\n",
       "      <th>c</th>\n",
       "      <td>-0.894953</td>\n",
       "      <td>0.0</td>\n",
       "      <td>-1.249745</td>\n",
       "    </tr>\n",
       "    <tr>\n",
       "      <th>d</th>\n",
       "      <td>NaN</td>\n",
       "      <td>0.0</td>\n",
       "      <td>-1.380325</td>\n",
       "    </tr>\n",
       "  </tbody>\n",
       "</table>\n",
       "</div>"
      ],
      "text/plain": [
       "        one  two     three\n",
       "a  1.041167  0.0       NaN\n",
       "b -0.110674  0.0 -1.589272\n",
       "c -0.894953  0.0 -1.249745\n",
       "d       NaN  0.0 -1.380325"
      ]
     },
     "execution_count": 26,
     "metadata": {},
     "output_type": "execute_result"
    }
   ],
   "source": [
    "df.sub(column, axis=0)"
   ]
  },
  {
   "cell_type": "code",
   "execution_count": 27,
   "id": "4473cefe",
   "metadata": {},
   "outputs": [],
   "source": [
    "#Furthermore you can align a level of a MultiIndexed DataFrame with a Series.\n",
    "dfmi = df.copy()\n",
    "\n",
    "dfmi.index = pd.MultiIndex.from_tuples(\n",
    "\n",
    "    [(1, \"a\"), (1, \"b\"), (1, \"c\"), (2, \"a\")], names=[\"first\", \"second\"]\n",
    "\n",
    ")"
   ]
  },
  {
   "cell_type": "code",
   "execution_count": 28,
   "id": "ac27fd6d",
   "metadata": {},
   "outputs": [
    {
     "data": {
      "text/html": [
       "<div>\n",
       "<style scoped>\n",
       "    .dataframe tbody tr th:only-of-type {\n",
       "        vertical-align: middle;\n",
       "    }\n",
       "\n",
       "    .dataframe tbody tr th {\n",
       "        vertical-align: top;\n",
       "    }\n",
       "\n",
       "    .dataframe thead th {\n",
       "        text-align: right;\n",
       "    }\n",
       "</style>\n",
       "<table border=\"1\" class=\"dataframe\">\n",
       "  <thead>\n",
       "    <tr style=\"text-align: right;\">\n",
       "      <th></th>\n",
       "      <th></th>\n",
       "      <th>one</th>\n",
       "      <th>two</th>\n",
       "      <th>three</th>\n",
       "    </tr>\n",
       "    <tr>\n",
       "      <th>first</th>\n",
       "      <th>second</th>\n",
       "      <th></th>\n",
       "      <th></th>\n",
       "      <th></th>\n",
       "    </tr>\n",
       "  </thead>\n",
       "  <tbody>\n",
       "    <tr>\n",
       "      <th rowspan=\"3\" valign=\"top\">1</th>\n",
       "      <th>a</th>\n",
       "      <td>0.342308</td>\n",
       "      <td>-0.698858</td>\n",
       "      <td>NaN</td>\n",
       "    </tr>\n",
       "    <tr>\n",
       "      <th>b</th>\n",
       "      <td>1.393615</td>\n",
       "      <td>1.504289</td>\n",
       "      <td>-0.084983</td>\n",
       "    </tr>\n",
       "    <tr>\n",
       "      <th>c</th>\n",
       "      <td>0.098764</td>\n",
       "      <td>0.993717</td>\n",
       "      <td>-0.256028</td>\n",
       "    </tr>\n",
       "    <tr>\n",
       "      <th>2</th>\n",
       "      <th>a</th>\n",
       "      <td>NaN</td>\n",
       "      <td>-0.314475</td>\n",
       "      <td>-1.694800</td>\n",
       "    </tr>\n",
       "  </tbody>\n",
       "</table>\n",
       "</div>"
      ],
      "text/plain": [
       "                   one       two     three\n",
       "first second                              \n",
       "1     a       0.342308 -0.698858       NaN\n",
       "      b       1.393615  1.504289 -0.084983\n",
       "      c       0.098764  0.993717 -0.256028\n",
       "2     a            NaN -0.314475 -1.694800"
      ]
     },
     "execution_count": 28,
     "metadata": {},
     "output_type": "execute_result"
    }
   ],
   "source": [
    "dfmi"
   ]
  },
  {
   "cell_type": "code",
   "execution_count": 29,
   "id": "16013249",
   "metadata": {},
   "outputs": [
    {
     "data": {
      "text/html": [
       "<div>\n",
       "<style scoped>\n",
       "    .dataframe tbody tr th:only-of-type {\n",
       "        vertical-align: middle;\n",
       "    }\n",
       "\n",
       "    .dataframe tbody tr th {\n",
       "        vertical-align: top;\n",
       "    }\n",
       "\n",
       "    .dataframe thead th {\n",
       "        text-align: right;\n",
       "    }\n",
       "</style>\n",
       "<table border=\"1\" class=\"dataframe\">\n",
       "  <thead>\n",
       "    <tr style=\"text-align: right;\">\n",
       "      <th></th>\n",
       "      <th></th>\n",
       "      <th>one</th>\n",
       "      <th>two</th>\n",
       "      <th>three</th>\n",
       "    </tr>\n",
       "    <tr>\n",
       "      <th>first</th>\n",
       "      <th>second</th>\n",
       "      <th></th>\n",
       "      <th></th>\n",
       "      <th></th>\n",
       "    </tr>\n",
       "  </thead>\n",
       "  <tbody>\n",
       "    <tr>\n",
       "      <th rowspan=\"3\" valign=\"top\">1</th>\n",
       "      <th>a</th>\n",
       "      <td>1.041167</td>\n",
       "      <td>0.000000</td>\n",
       "      <td>NaN</td>\n",
       "    </tr>\n",
       "    <tr>\n",
       "      <th>b</th>\n",
       "      <td>-0.110674</td>\n",
       "      <td>0.000000</td>\n",
       "      <td>-1.589272</td>\n",
       "    </tr>\n",
       "    <tr>\n",
       "      <th>c</th>\n",
       "      <td>-0.894953</td>\n",
       "      <td>0.000000</td>\n",
       "      <td>-1.249745</td>\n",
       "    </tr>\n",
       "    <tr>\n",
       "      <th>2</th>\n",
       "      <th>a</th>\n",
       "      <td>NaN</td>\n",
       "      <td>0.384384</td>\n",
       "      <td>-0.995942</td>\n",
       "    </tr>\n",
       "  </tbody>\n",
       "</table>\n",
       "</div>"
      ],
      "text/plain": [
       "                   one       two     three\n",
       "first second                              \n",
       "1     a       1.041167  0.000000       NaN\n",
       "      b      -0.110674  0.000000 -1.589272\n",
       "      c      -0.894953  0.000000 -1.249745\n",
       "2     a            NaN  0.384384 -0.995942"
      ]
     },
     "execution_count": 29,
     "metadata": {},
     "output_type": "execute_result"
    }
   ],
   "source": [
    "dfmi.sub(column, axis=0, level=\"second\")"
   ]
  },
  {
   "cell_type": "code",
   "execution_count": 30,
   "id": "a689518f",
   "metadata": {},
   "outputs": [
    {
     "data": {
      "text/plain": [
       "0    0\n",
       "1    1\n",
       "2    2\n",
       "3    3\n",
       "4    4\n",
       "5    5\n",
       "6    6\n",
       "7    7\n",
       "8    8\n",
       "9    9\n",
       "dtype: int32"
      ]
     },
     "execution_count": 30,
     "metadata": {},
     "output_type": "execute_result"
    }
   ],
   "source": [
    "s = pd.Series(np.arange(10))\n",
    "s"
   ]
  },
  {
   "cell_type": "code",
   "execution_count": 31,
   "id": "29e8dba6",
   "metadata": {},
   "outputs": [
    {
     "data": {
      "text/plain": [
       "0    0\n",
       "1    0\n",
       "2    0\n",
       "3    1\n",
       "4    1\n",
       "5    1\n",
       "6    2\n",
       "7    2\n",
       "8    2\n",
       "9    3\n",
       "dtype: int32"
      ]
     },
     "execution_count": 31,
     "metadata": {},
     "output_type": "execute_result"
    }
   ],
   "source": [
    "div, rem = divmod(s, 3)\n",
    "div"
   ]
  },
  {
   "cell_type": "code",
   "execution_count": 32,
   "id": "c71ec678",
   "metadata": {},
   "outputs": [
    {
     "data": {
      "text/plain": [
       "0    0\n",
       "1    1\n",
       "2    2\n",
       "3    0\n",
       "4    1\n",
       "5    2\n",
       "6    0\n",
       "7    1\n",
       "8    2\n",
       "9    0\n",
       "dtype: int32"
      ]
     },
     "execution_count": 32,
     "metadata": {},
     "output_type": "execute_result"
    }
   ],
   "source": [
    "rem"
   ]
  },
  {
   "cell_type": "code",
   "execution_count": 33,
   "id": "02410a1f",
   "metadata": {},
   "outputs": [
    {
     "data": {
      "text/plain": [
       "Index([0, 1, 2, 3, 4, 5, 6, 7, 8, 9], dtype='int32')"
      ]
     },
     "execution_count": 33,
     "metadata": {},
     "output_type": "execute_result"
    }
   ],
   "source": [
    "idx = pd.Index(np.arange(10))\n",
    "idx"
   ]
  },
  {
   "cell_type": "code",
   "execution_count": 34,
   "id": "dc00b65f",
   "metadata": {},
   "outputs": [
    {
     "data": {
      "text/plain": [
       "Index([0, 0, 0, 1, 1, 1, 2, 2, 2, 3], dtype='int32')"
      ]
     },
     "execution_count": 34,
     "metadata": {},
     "output_type": "execute_result"
    }
   ],
   "source": [
    "div, rem = divmod(idx, 3)\n",
    "div"
   ]
  },
  {
   "cell_type": "code",
   "execution_count": 35,
   "id": "e6330189",
   "metadata": {},
   "outputs": [
    {
     "data": {
      "text/plain": [
       "Index([0, 1, 2, 0, 1, 2, 0, 1, 2, 0], dtype='int32')"
      ]
     },
     "execution_count": 35,
     "metadata": {},
     "output_type": "execute_result"
    }
   ],
   "source": [
    "rem"
   ]
  },
  {
   "cell_type": "code",
   "execution_count": 36,
   "id": "619eea3a",
   "metadata": {},
   "outputs": [
    {
     "data": {
      "text/plain": [
       "0    0\n",
       "1    0\n",
       "2    0\n",
       "3    1\n",
       "4    1\n",
       "5    1\n",
       "6    1\n",
       "7    1\n",
       "8    1\n",
       "9    1\n",
       "dtype: int32"
      ]
     },
     "execution_count": 36,
     "metadata": {},
     "output_type": "execute_result"
    }
   ],
   "source": [
    "div, rem = divmod(s, [2, 2, 3, 3, 4, 4, 5, 5, 6, 6])\n",
    "div"
   ]
  },
  {
   "cell_type": "code",
   "execution_count": 37,
   "id": "b3dd73a3",
   "metadata": {},
   "outputs": [
    {
     "data": {
      "text/plain": [
       "0    0\n",
       "1    1\n",
       "2    2\n",
       "3    0\n",
       "4    0\n",
       "5    1\n",
       "6    1\n",
       "7    2\n",
       "8    2\n",
       "9    3\n",
       "dtype: int32"
      ]
     },
     "execution_count": 37,
     "metadata": {},
     "output_type": "execute_result"
    }
   ],
   "source": [
    "rem"
   ]
  },
  {
   "cell_type": "code",
   "execution_count": 38,
   "id": "5c5555c1",
   "metadata": {},
   "outputs": [
    {
     "data": {
      "text/html": [
       "<div>\n",
       "<style scoped>\n",
       "    .dataframe tbody tr th:only-of-type {\n",
       "        vertical-align: middle;\n",
       "    }\n",
       "\n",
       "    .dataframe tbody tr th {\n",
       "        vertical-align: top;\n",
       "    }\n",
       "\n",
       "    .dataframe thead th {\n",
       "        text-align: right;\n",
       "    }\n",
       "</style>\n",
       "<table border=\"1\" class=\"dataframe\">\n",
       "  <thead>\n",
       "    <tr style=\"text-align: right;\">\n",
       "      <th></th>\n",
       "      <th>one</th>\n",
       "      <th>two</th>\n",
       "      <th>three</th>\n",
       "    </tr>\n",
       "  </thead>\n",
       "  <tbody>\n",
       "    <tr>\n",
       "      <th>a</th>\n",
       "      <td>0.342308</td>\n",
       "      <td>-0.698858</td>\n",
       "      <td>NaN</td>\n",
       "    </tr>\n",
       "    <tr>\n",
       "      <th>b</th>\n",
       "      <td>1.393615</td>\n",
       "      <td>1.504289</td>\n",
       "      <td>-0.084983</td>\n",
       "    </tr>\n",
       "    <tr>\n",
       "      <th>c</th>\n",
       "      <td>0.098764</td>\n",
       "      <td>0.993717</td>\n",
       "      <td>-0.256028</td>\n",
       "    </tr>\n",
       "    <tr>\n",
       "      <th>d</th>\n",
       "      <td>NaN</td>\n",
       "      <td>-0.314475</td>\n",
       "      <td>-1.694800</td>\n",
       "    </tr>\n",
       "  </tbody>\n",
       "</table>\n",
       "</div>"
      ],
      "text/plain": [
       "        one       two     three\n",
       "a  0.342308 -0.698858       NaN\n",
       "b  1.393615  1.504289 -0.084983\n",
       "c  0.098764  0.993717 -0.256028\n",
       "d       NaN -0.314475 -1.694800"
      ]
     },
     "execution_count": 38,
     "metadata": {},
     "output_type": "execute_result"
    }
   ],
   "source": [
    "#missing data operations\n",
    "df2 = df.copy()\n",
    "df2"
   ]
  },
  {
   "cell_type": "code",
   "execution_count": 39,
   "id": "cb89452a",
   "metadata": {},
   "outputs": [
    {
     "data": {
      "text/html": [
       "<div>\n",
       "<style scoped>\n",
       "    .dataframe tbody tr th:only-of-type {\n",
       "        vertical-align: middle;\n",
       "    }\n",
       "\n",
       "    .dataframe tbody tr th {\n",
       "        vertical-align: top;\n",
       "    }\n",
       "\n",
       "    .dataframe thead th {\n",
       "        text-align: right;\n",
       "    }\n",
       "</style>\n",
       "<table border=\"1\" class=\"dataframe\">\n",
       "  <thead>\n",
       "    <tr style=\"text-align: right;\">\n",
       "      <th></th>\n",
       "      <th>one</th>\n",
       "      <th>two</th>\n",
       "      <th>three</th>\n",
       "    </tr>\n",
       "  </thead>\n",
       "  <tbody>\n",
       "    <tr>\n",
       "      <th>a</th>\n",
       "      <td>0.342308</td>\n",
       "      <td>-0.698858</td>\n",
       "      <td>1.000000</td>\n",
       "    </tr>\n",
       "    <tr>\n",
       "      <th>b</th>\n",
       "      <td>1.393615</td>\n",
       "      <td>1.504289</td>\n",
       "      <td>-0.084983</td>\n",
       "    </tr>\n",
       "    <tr>\n",
       "      <th>c</th>\n",
       "      <td>0.098764</td>\n",
       "      <td>0.993717</td>\n",
       "      <td>-0.256028</td>\n",
       "    </tr>\n",
       "    <tr>\n",
       "      <th>d</th>\n",
       "      <td>NaN</td>\n",
       "      <td>-0.314475</td>\n",
       "      <td>-1.694800</td>\n",
       "    </tr>\n",
       "  </tbody>\n",
       "</table>\n",
       "</div>"
      ],
      "text/plain": [
       "        one       two     three\n",
       "a  0.342308 -0.698858  1.000000\n",
       "b  1.393615  1.504289 -0.084983\n",
       "c  0.098764  0.993717 -0.256028\n",
       "d       NaN -0.314475 -1.694800"
      ]
     },
     "execution_count": 39,
     "metadata": {},
     "output_type": "execute_result"
    }
   ],
   "source": [
    "df2.loc[\"a\", \"three\"] = 1.0\n",
    "df2"
   ]
  },
  {
   "cell_type": "code",
   "execution_count": 40,
   "id": "8ea0622b",
   "metadata": {},
   "outputs": [
    {
     "data": {
      "text/html": [
       "<div>\n",
       "<style scoped>\n",
       "    .dataframe tbody tr th:only-of-type {\n",
       "        vertical-align: middle;\n",
       "    }\n",
       "\n",
       "    .dataframe tbody tr th {\n",
       "        vertical-align: top;\n",
       "    }\n",
       "\n",
       "    .dataframe thead th {\n",
       "        text-align: right;\n",
       "    }\n",
       "</style>\n",
       "<table border=\"1\" class=\"dataframe\">\n",
       "  <thead>\n",
       "    <tr style=\"text-align: right;\">\n",
       "      <th></th>\n",
       "      <th>one</th>\n",
       "      <th>two</th>\n",
       "      <th>three</th>\n",
       "    </tr>\n",
       "  </thead>\n",
       "  <tbody>\n",
       "    <tr>\n",
       "      <th>a</th>\n",
       "      <td>0.684617</td>\n",
       "      <td>-1.397717</td>\n",
       "      <td>NaN</td>\n",
       "    </tr>\n",
       "    <tr>\n",
       "      <th>b</th>\n",
       "      <td>2.787230</td>\n",
       "      <td>3.008578</td>\n",
       "      <td>-0.169966</td>\n",
       "    </tr>\n",
       "    <tr>\n",
       "      <th>c</th>\n",
       "      <td>0.197528</td>\n",
       "      <td>1.987435</td>\n",
       "      <td>-0.512056</td>\n",
       "    </tr>\n",
       "    <tr>\n",
       "      <th>d</th>\n",
       "      <td>NaN</td>\n",
       "      <td>-0.628950</td>\n",
       "      <td>-3.389600</td>\n",
       "    </tr>\n",
       "  </tbody>\n",
       "</table>\n",
       "</div>"
      ],
      "text/plain": [
       "        one       two     three\n",
       "a  0.684617 -1.397717       NaN\n",
       "b  2.787230  3.008578 -0.169966\n",
       "c  0.197528  1.987435 -0.512056\n",
       "d       NaN -0.628950 -3.389600"
      ]
     },
     "execution_count": 40,
     "metadata": {},
     "output_type": "execute_result"
    }
   ],
   "source": [
    "df + df2"
   ]
  },
  {
   "cell_type": "code",
   "execution_count": 41,
   "id": "4ce01c02",
   "metadata": {},
   "outputs": [
    {
     "data": {
      "text/html": [
       "<div>\n",
       "<style scoped>\n",
       "    .dataframe tbody tr th:only-of-type {\n",
       "        vertical-align: middle;\n",
       "    }\n",
       "\n",
       "    .dataframe tbody tr th {\n",
       "        vertical-align: top;\n",
       "    }\n",
       "\n",
       "    .dataframe thead th {\n",
       "        text-align: right;\n",
       "    }\n",
       "</style>\n",
       "<table border=\"1\" class=\"dataframe\">\n",
       "  <thead>\n",
       "    <tr style=\"text-align: right;\">\n",
       "      <th></th>\n",
       "      <th>one</th>\n",
       "      <th>two</th>\n",
       "      <th>three</th>\n",
       "    </tr>\n",
       "  </thead>\n",
       "  <tbody>\n",
       "    <tr>\n",
       "      <th>a</th>\n",
       "      <td>0.684617</td>\n",
       "      <td>-1.397717</td>\n",
       "      <td>1.000000</td>\n",
       "    </tr>\n",
       "    <tr>\n",
       "      <th>b</th>\n",
       "      <td>2.787230</td>\n",
       "      <td>3.008578</td>\n",
       "      <td>-0.169966</td>\n",
       "    </tr>\n",
       "    <tr>\n",
       "      <th>c</th>\n",
       "      <td>0.197528</td>\n",
       "      <td>1.987435</td>\n",
       "      <td>-0.512056</td>\n",
       "    </tr>\n",
       "    <tr>\n",
       "      <th>d</th>\n",
       "      <td>NaN</td>\n",
       "      <td>-0.628950</td>\n",
       "      <td>-3.389600</td>\n",
       "    </tr>\n",
       "  </tbody>\n",
       "</table>\n",
       "</div>"
      ],
      "text/plain": [
       "        one       two     three\n",
       "a  0.684617 -1.397717  1.000000\n",
       "b  2.787230  3.008578 -0.169966\n",
       "c  0.197528  1.987435 -0.512056\n",
       "d       NaN -0.628950 -3.389600"
      ]
     },
     "execution_count": 41,
     "metadata": {},
     "output_type": "execute_result"
    }
   ],
   "source": [
    "df.add(df2, fill_value=0)"
   ]
  },
  {
   "cell_type": "code",
   "execution_count": 42,
   "id": "19f114cd",
   "metadata": {},
   "outputs": [
    {
     "data": {
      "text/html": [
       "<div>\n",
       "<style scoped>\n",
       "    .dataframe tbody tr th:only-of-type {\n",
       "        vertical-align: middle;\n",
       "    }\n",
       "\n",
       "    .dataframe tbody tr th {\n",
       "        vertical-align: top;\n",
       "    }\n",
       "\n",
       "    .dataframe thead th {\n",
       "        text-align: right;\n",
       "    }\n",
       "</style>\n",
       "<table border=\"1\" class=\"dataframe\">\n",
       "  <thead>\n",
       "    <tr style=\"text-align: right;\">\n",
       "      <th></th>\n",
       "      <th>one</th>\n",
       "      <th>two</th>\n",
       "      <th>three</th>\n",
       "    </tr>\n",
       "  </thead>\n",
       "  <tbody>\n",
       "    <tr>\n",
       "      <th>a</th>\n",
       "      <td>0.684617</td>\n",
       "      <td>-1.397717</td>\n",
       "      <td>1.000000</td>\n",
       "    </tr>\n",
       "    <tr>\n",
       "      <th>b</th>\n",
       "      <td>2.787230</td>\n",
       "      <td>3.008578</td>\n",
       "      <td>-0.169966</td>\n",
       "    </tr>\n",
       "    <tr>\n",
       "      <th>c</th>\n",
       "      <td>0.197528</td>\n",
       "      <td>1.987435</td>\n",
       "      <td>-0.512056</td>\n",
       "    </tr>\n",
       "    <tr>\n",
       "      <th>d</th>\n",
       "      <td>NaN</td>\n",
       "      <td>-0.628950</td>\n",
       "      <td>-3.389600</td>\n",
       "    </tr>\n",
       "  </tbody>\n",
       "</table>\n",
       "</div>"
      ],
      "text/plain": [
       "        one       two     three\n",
       "a  0.684617 -1.397717  1.000000\n",
       "b  2.787230  3.008578 -0.169966\n",
       "c  0.197528  1.987435 -0.512056\n",
       "d       NaN -0.628950 -3.389600"
      ]
     },
     "execution_count": 42,
     "metadata": {},
     "output_type": "execute_result"
    }
   ],
   "source": [
    "df2.add(df, fill_value=0)"
   ]
  },
  {
   "cell_type": "code",
   "execution_count": 43,
   "id": "4ab3cbda",
   "metadata": {},
   "outputs": [
    {
     "data": {
      "text/html": [
       "<div>\n",
       "<style scoped>\n",
       "    .dataframe tbody tr th:only-of-type {\n",
       "        vertical-align: middle;\n",
       "    }\n",
       "\n",
       "    .dataframe tbody tr th {\n",
       "        vertical-align: top;\n",
       "    }\n",
       "\n",
       "    .dataframe thead th {\n",
       "        text-align: right;\n",
       "    }\n",
       "</style>\n",
       "<table border=\"1\" class=\"dataframe\">\n",
       "  <thead>\n",
       "    <tr style=\"text-align: right;\">\n",
       "      <th></th>\n",
       "      <th>one</th>\n",
       "      <th>two</th>\n",
       "      <th>three</th>\n",
       "    </tr>\n",
       "  </thead>\n",
       "  <tbody>\n",
       "    <tr>\n",
       "      <th>a</th>\n",
       "      <td>False</td>\n",
       "      <td>False</td>\n",
       "      <td>False</td>\n",
       "    </tr>\n",
       "    <tr>\n",
       "      <th>b</th>\n",
       "      <td>False</td>\n",
       "      <td>False</td>\n",
       "      <td>False</td>\n",
       "    </tr>\n",
       "    <tr>\n",
       "      <th>c</th>\n",
       "      <td>False</td>\n",
       "      <td>False</td>\n",
       "      <td>False</td>\n",
       "    </tr>\n",
       "    <tr>\n",
       "      <th>d</th>\n",
       "      <td>False</td>\n",
       "      <td>False</td>\n",
       "      <td>False</td>\n",
       "    </tr>\n",
       "  </tbody>\n",
       "</table>\n",
       "</div>"
      ],
      "text/plain": [
       "     one    two  three\n",
       "a  False  False  False\n",
       "b  False  False  False\n",
       "c  False  False  False\n",
       "d  False  False  False"
      ]
     },
     "execution_count": 43,
     "metadata": {},
     "output_type": "execute_result"
    }
   ],
   "source": [
    "df.gt(df2)"
   ]
  },
  {
   "cell_type": "code",
   "execution_count": 44,
   "id": "97026ee9",
   "metadata": {},
   "outputs": [
    {
     "data": {
      "text/html": [
       "<div>\n",
       "<style scoped>\n",
       "    .dataframe tbody tr th:only-of-type {\n",
       "        vertical-align: middle;\n",
       "    }\n",
       "\n",
       "    .dataframe tbody tr th {\n",
       "        vertical-align: top;\n",
       "    }\n",
       "\n",
       "    .dataframe thead th {\n",
       "        text-align: right;\n",
       "    }\n",
       "</style>\n",
       "<table border=\"1\" class=\"dataframe\">\n",
       "  <thead>\n",
       "    <tr style=\"text-align: right;\">\n",
       "      <th></th>\n",
       "      <th>one</th>\n",
       "      <th>two</th>\n",
       "      <th>three</th>\n",
       "    </tr>\n",
       "  </thead>\n",
       "  <tbody>\n",
       "    <tr>\n",
       "      <th>a</th>\n",
       "      <td>False</td>\n",
       "      <td>False</td>\n",
       "      <td>True</td>\n",
       "    </tr>\n",
       "    <tr>\n",
       "      <th>b</th>\n",
       "      <td>False</td>\n",
       "      <td>False</td>\n",
       "      <td>False</td>\n",
       "    </tr>\n",
       "    <tr>\n",
       "      <th>c</th>\n",
       "      <td>False</td>\n",
       "      <td>False</td>\n",
       "      <td>False</td>\n",
       "    </tr>\n",
       "    <tr>\n",
       "      <th>d</th>\n",
       "      <td>True</td>\n",
       "      <td>False</td>\n",
       "      <td>False</td>\n",
       "    </tr>\n",
       "  </tbody>\n",
       "</table>\n",
       "</div>"
      ],
      "text/plain": [
       "     one    two  three\n",
       "a  False  False   True\n",
       "b  False  False  False\n",
       "c  False  False  False\n",
       "d   True  False  False"
      ]
     },
     "execution_count": 44,
     "metadata": {},
     "output_type": "execute_result"
    }
   ],
   "source": [
    "df2.ne(df)"
   ]
  },
  {
   "cell_type": "code",
   "execution_count": 48,
   "id": "56db3b99",
   "metadata": {},
   "outputs": [
    {
     "data": {
      "text/html": [
       "<div>\n",
       "<style scoped>\n",
       "    .dataframe tbody tr th:only-of-type {\n",
       "        vertical-align: middle;\n",
       "    }\n",
       "\n",
       "    .dataframe tbody tr th {\n",
       "        vertical-align: top;\n",
       "    }\n",
       "\n",
       "    .dataframe thead th {\n",
       "        text-align: right;\n",
       "    }\n",
       "</style>\n",
       "<table border=\"1\" class=\"dataframe\">\n",
       "  <thead>\n",
       "    <tr style=\"text-align: right;\">\n",
       "      <th></th>\n",
       "      <th>one</th>\n",
       "      <th>two</th>\n",
       "      <th>three</th>\n",
       "    </tr>\n",
       "  </thead>\n",
       "  <tbody>\n",
       "    <tr>\n",
       "      <th>a</th>\n",
       "      <td>0.342308</td>\n",
       "      <td>-0.698858</td>\n",
       "      <td>NaN</td>\n",
       "    </tr>\n",
       "    <tr>\n",
       "      <th>b</th>\n",
       "      <td>1.393615</td>\n",
       "      <td>1.504289</td>\n",
       "      <td>-0.084983</td>\n",
       "    </tr>\n",
       "    <tr>\n",
       "      <th>c</th>\n",
       "      <td>0.098764</td>\n",
       "      <td>0.993717</td>\n",
       "      <td>-0.256028</td>\n",
       "    </tr>\n",
       "    <tr>\n",
       "      <th>d</th>\n",
       "      <td>NaN</td>\n",
       "      <td>-0.314475</td>\n",
       "      <td>-1.694800</td>\n",
       "    </tr>\n",
       "  </tbody>\n",
       "</table>\n",
       "</div>"
      ],
      "text/plain": [
       "        one       two     three\n",
       "a  0.342308 -0.698858       NaN\n",
       "b  1.393615  1.504289 -0.084983\n",
       "c  0.098764  0.993717 -0.256028\n",
       "d       NaN -0.314475 -1.694800"
      ]
     },
     "execution_count": 48,
     "metadata": {},
     "output_type": "execute_result"
    }
   ],
   "source": [
    "df"
   ]
  },
  {
   "cell_type": "code",
   "execution_count": 45,
   "id": "488b249d",
   "metadata": {},
   "outputs": [
    {
     "data": {
      "text/html": [
       "<div>\n",
       "<style scoped>\n",
       "    .dataframe tbody tr th:only-of-type {\n",
       "        vertical-align: middle;\n",
       "    }\n",
       "\n",
       "    .dataframe tbody tr th {\n",
       "        vertical-align: top;\n",
       "    }\n",
       "\n",
       "    .dataframe thead th {\n",
       "        text-align: right;\n",
       "    }\n",
       "</style>\n",
       "<table border=\"1\" class=\"dataframe\">\n",
       "  <thead>\n",
       "    <tr style=\"text-align: right;\">\n",
       "      <th></th>\n",
       "      <th>one</th>\n",
       "      <th>two</th>\n",
       "      <th>three</th>\n",
       "    </tr>\n",
       "  </thead>\n",
       "  <tbody>\n",
       "    <tr>\n",
       "      <th>a</th>\n",
       "      <td>True</td>\n",
       "      <td>False</td>\n",
       "      <td>False</td>\n",
       "    </tr>\n",
       "    <tr>\n",
       "      <th>b</th>\n",
       "      <td>True</td>\n",
       "      <td>True</td>\n",
       "      <td>False</td>\n",
       "    </tr>\n",
       "    <tr>\n",
       "      <th>c</th>\n",
       "      <td>True</td>\n",
       "      <td>True</td>\n",
       "      <td>False</td>\n",
       "    </tr>\n",
       "    <tr>\n",
       "      <th>d</th>\n",
       "      <td>False</td>\n",
       "      <td>False</td>\n",
       "      <td>False</td>\n",
       "    </tr>\n",
       "  </tbody>\n",
       "</table>\n",
       "</div>"
      ],
      "text/plain": [
       "     one    two  three\n",
       "a   True  False  False\n",
       "b   True   True  False\n",
       "c   True   True  False\n",
       "d  False  False  False"
      ]
     },
     "execution_count": 45,
     "metadata": {},
     "output_type": "execute_result"
    }
   ],
   "source": [
    "df > 0"
   ]
  },
  {
   "cell_type": "code",
   "execution_count": 46,
   "id": "849cdf62",
   "metadata": {},
   "outputs": [
    {
     "data": {
      "text/plain": [
       "one      False\n",
       "two      False\n",
       "three    False\n",
       "dtype: bool"
      ]
     },
     "execution_count": 46,
     "metadata": {},
     "output_type": "execute_result"
    }
   ],
   "source": [
    "(df > 0).all()"
   ]
  },
  {
   "cell_type": "code",
   "execution_count": 47,
   "id": "11e6ac9f",
   "metadata": {},
   "outputs": [
    {
     "data": {
      "text/plain": [
       "one       True\n",
       "two       True\n",
       "three    False\n",
       "dtype: bool"
      ]
     },
     "execution_count": 47,
     "metadata": {},
     "output_type": "execute_result"
    }
   ],
   "source": [
    "(df > 0).any()"
   ]
  },
  {
   "cell_type": "code",
   "execution_count": 49,
   "id": "38edce4a",
   "metadata": {},
   "outputs": [
    {
     "data": {
      "text/plain": [
       "True"
      ]
     },
     "execution_count": 49,
     "metadata": {},
     "output_type": "execute_result"
    }
   ],
   "source": [
    "(df > 0).any().any()"
   ]
  },
  {
   "cell_type": "code",
   "execution_count": 50,
   "id": "83d0103f",
   "metadata": {},
   "outputs": [
    {
     "data": {
      "text/plain": [
       "False"
      ]
     },
     "execution_count": 50,
     "metadata": {},
     "output_type": "execute_result"
    }
   ],
   "source": [
    "df.empty"
   ]
  },
  {
   "cell_type": "code",
   "execution_count": 51,
   "id": "c4f34bb9",
   "metadata": {},
   "outputs": [
    {
     "data": {
      "text/plain": [
       "True"
      ]
     },
     "execution_count": 51,
     "metadata": {},
     "output_type": "execute_result"
    }
   ],
   "source": [
    "pd.DataFrame(columns=list(\"ABC\")).empty"
   ]
  },
  {
   "cell_type": "code",
   "execution_count": 52,
   "id": "fd04b43d",
   "metadata": {},
   "outputs": [
    {
     "data": {
      "text/html": [
       "<div>\n",
       "<style scoped>\n",
       "    .dataframe tbody tr th:only-of-type {\n",
       "        vertical-align: middle;\n",
       "    }\n",
       "\n",
       "    .dataframe tbody tr th {\n",
       "        vertical-align: top;\n",
       "    }\n",
       "\n",
       "    .dataframe thead th {\n",
       "        text-align: right;\n",
       "    }\n",
       "</style>\n",
       "<table border=\"1\" class=\"dataframe\">\n",
       "  <thead>\n",
       "    <tr style=\"text-align: right;\">\n",
       "      <th></th>\n",
       "      <th>one</th>\n",
       "      <th>two</th>\n",
       "      <th>three</th>\n",
       "    </tr>\n",
       "  </thead>\n",
       "  <tbody>\n",
       "    <tr>\n",
       "      <th>a</th>\n",
       "      <td>True</td>\n",
       "      <td>True</td>\n",
       "      <td>False</td>\n",
       "    </tr>\n",
       "    <tr>\n",
       "      <th>b</th>\n",
       "      <td>True</td>\n",
       "      <td>True</td>\n",
       "      <td>True</td>\n",
       "    </tr>\n",
       "    <tr>\n",
       "      <th>c</th>\n",
       "      <td>True</td>\n",
       "      <td>True</td>\n",
       "      <td>True</td>\n",
       "    </tr>\n",
       "    <tr>\n",
       "      <th>d</th>\n",
       "      <td>False</td>\n",
       "      <td>True</td>\n",
       "      <td>True</td>\n",
       "    </tr>\n",
       "  </tbody>\n",
       "</table>\n",
       "</div>"
      ],
      "text/plain": [
       "     one   two  three\n",
       "a   True  True  False\n",
       "b   True  True   True\n",
       "c   True  True   True\n",
       "d  False  True   True"
      ]
     },
     "execution_count": 52,
     "metadata": {},
     "output_type": "execute_result"
    }
   ],
   "source": [
    "df + df == df * 2"
   ]
  },
  {
   "cell_type": "code",
   "execution_count": 53,
   "id": "d423eb1e",
   "metadata": {},
   "outputs": [
    {
     "data": {
      "text/plain": [
       "one      False\n",
       "two       True\n",
       "three    False\n",
       "dtype: bool"
      ]
     },
     "execution_count": 53,
     "metadata": {},
     "output_type": "execute_result"
    }
   ],
   "source": [
    "(df + df == df * 2).all()"
   ]
  },
  {
   "cell_type": "code",
   "execution_count": 54,
   "id": "9e21949a",
   "metadata": {},
   "outputs": [
    {
     "data": {
      "text/plain": [
       "False"
      ]
     },
     "execution_count": 54,
     "metadata": {},
     "output_type": "execute_result"
    }
   ],
   "source": [
    "np.nan == np.nan"
   ]
  },
  {
   "cell_type": "code",
   "execution_count": 55,
   "id": "ca097fa7",
   "metadata": {},
   "outputs": [
    {
     "data": {
      "text/plain": [
       "True"
      ]
     },
     "execution_count": 55,
     "metadata": {},
     "output_type": "execute_result"
    }
   ],
   "source": [
    "(df + df).equals(df * 2)"
   ]
  },
  {
   "cell_type": "code",
   "execution_count": 56,
   "id": "6b68bbcd",
   "metadata": {},
   "outputs": [],
   "source": [
    "df1 = pd.DataFrame({\"col\": [\"foo\", 0, np.nan]})\n",
    "\n",
    "df2 = pd.DataFrame({\"col\": [np.nan, 0, \"foo\"]}, index=[2, 1, 0])"
   ]
  },
  {
   "cell_type": "code",
   "execution_count": 57,
   "id": "5ba8ffb0",
   "metadata": {},
   "outputs": [
    {
     "data": {
      "text/html": [
       "<div>\n",
       "<style scoped>\n",
       "    .dataframe tbody tr th:only-of-type {\n",
       "        vertical-align: middle;\n",
       "    }\n",
       "\n",
       "    .dataframe tbody tr th {\n",
       "        vertical-align: top;\n",
       "    }\n",
       "\n",
       "    .dataframe thead th {\n",
       "        text-align: right;\n",
       "    }\n",
       "</style>\n",
       "<table border=\"1\" class=\"dataframe\">\n",
       "  <thead>\n",
       "    <tr style=\"text-align: right;\">\n",
       "      <th></th>\n",
       "      <th>col</th>\n",
       "    </tr>\n",
       "  </thead>\n",
       "  <tbody>\n",
       "    <tr>\n",
       "      <th>0</th>\n",
       "      <td>foo</td>\n",
       "    </tr>\n",
       "    <tr>\n",
       "      <th>1</th>\n",
       "      <td>0</td>\n",
       "    </tr>\n",
       "    <tr>\n",
       "      <th>2</th>\n",
       "      <td>NaN</td>\n",
       "    </tr>\n",
       "  </tbody>\n",
       "</table>\n",
       "</div>"
      ],
      "text/plain": [
       "   col\n",
       "0  foo\n",
       "1    0\n",
       "2  NaN"
      ]
     },
     "execution_count": 57,
     "metadata": {},
     "output_type": "execute_result"
    }
   ],
   "source": [
    "df1"
   ]
  },
  {
   "cell_type": "code",
   "execution_count": 58,
   "id": "62abd1be",
   "metadata": {},
   "outputs": [
    {
     "data": {
      "text/html": [
       "<div>\n",
       "<style scoped>\n",
       "    .dataframe tbody tr th:only-of-type {\n",
       "        vertical-align: middle;\n",
       "    }\n",
       "\n",
       "    .dataframe tbody tr th {\n",
       "        vertical-align: top;\n",
       "    }\n",
       "\n",
       "    .dataframe thead th {\n",
       "        text-align: right;\n",
       "    }\n",
       "</style>\n",
       "<table border=\"1\" class=\"dataframe\">\n",
       "  <thead>\n",
       "    <tr style=\"text-align: right;\">\n",
       "      <th></th>\n",
       "      <th>col</th>\n",
       "    </tr>\n",
       "  </thead>\n",
       "  <tbody>\n",
       "    <tr>\n",
       "      <th>2</th>\n",
       "      <td>NaN</td>\n",
       "    </tr>\n",
       "    <tr>\n",
       "      <th>1</th>\n",
       "      <td>0</td>\n",
       "    </tr>\n",
       "    <tr>\n",
       "      <th>0</th>\n",
       "      <td>foo</td>\n",
       "    </tr>\n",
       "  </tbody>\n",
       "</table>\n",
       "</div>"
      ],
      "text/plain": [
       "   col\n",
       "2  NaN\n",
       "1    0\n",
       "0  foo"
      ]
     },
     "execution_count": 58,
     "metadata": {},
     "output_type": "execute_result"
    }
   ],
   "source": [
    "df2"
   ]
  },
  {
   "cell_type": "code",
   "execution_count": 59,
   "id": "99c9867a",
   "metadata": {},
   "outputs": [
    {
     "data": {
      "text/plain": [
       "False"
      ]
     },
     "execution_count": 59,
     "metadata": {},
     "output_type": "execute_result"
    }
   ],
   "source": [
    "df1.equals(df2)"
   ]
  },
  {
   "cell_type": "code",
   "execution_count": 61,
   "id": "9de1b51c",
   "metadata": {
    "scrolled": true
   },
   "outputs": [
    {
     "data": {
      "text/html": [
       "<div>\n",
       "<style scoped>\n",
       "    .dataframe tbody tr th:only-of-type {\n",
       "        vertical-align: middle;\n",
       "    }\n",
       "\n",
       "    .dataframe tbody tr th {\n",
       "        vertical-align: top;\n",
       "    }\n",
       "\n",
       "    .dataframe thead th {\n",
       "        text-align: right;\n",
       "    }\n",
       "</style>\n",
       "<table border=\"1\" class=\"dataframe\">\n",
       "  <thead>\n",
       "    <tr style=\"text-align: right;\">\n",
       "      <th></th>\n",
       "      <th>col</th>\n",
       "    </tr>\n",
       "  </thead>\n",
       "  <tbody>\n",
       "    <tr>\n",
       "      <th>0</th>\n",
       "      <td>foo</td>\n",
       "    </tr>\n",
       "    <tr>\n",
       "      <th>1</th>\n",
       "      <td>0</td>\n",
       "    </tr>\n",
       "    <tr>\n",
       "      <th>2</th>\n",
       "      <td>NaN</td>\n",
       "    </tr>\n",
       "  </tbody>\n",
       "</table>\n",
       "</div>"
      ],
      "text/plain": [
       "   col\n",
       "0  foo\n",
       "1    0\n",
       "2  NaN"
      ]
     },
     "execution_count": 61,
     "metadata": {},
     "output_type": "execute_result"
    }
   ],
   "source": [
    "df2.sort_index()"
   ]
  },
  {
   "cell_type": "code",
   "execution_count": 60,
   "id": "b045036c",
   "metadata": {
    "scrolled": true
   },
   "outputs": [
    {
     "data": {
      "text/plain": [
       "True"
      ]
     },
     "execution_count": 60,
     "metadata": {},
     "output_type": "execute_result"
    }
   ],
   "source": [
    "df1.equals(df2.sort_index())"
   ]
  },
  {
   "cell_type": "code",
   "execution_count": 62,
   "id": "2acccc86",
   "metadata": {},
   "outputs": [
    {
     "data": {
      "text/plain": [
       "0     True\n",
       "1    False\n",
       "2    False\n",
       "dtype: bool"
      ]
     },
     "execution_count": 62,
     "metadata": {},
     "output_type": "execute_result"
    }
   ],
   "source": [
    "pd.Series([\"foo\", \"bar\", \"baz\"]) == \"foo\""
   ]
  },
  {
   "cell_type": "code",
   "execution_count": 64,
   "id": "d217d9a1",
   "metadata": {},
   "outputs": [
    {
     "data": {
      "text/plain": [
       "pandas.core.series.Series"
      ]
     },
     "execution_count": 64,
     "metadata": {},
     "output_type": "execute_result"
    }
   ],
   "source": [
    "type(pd.Series([\"foo\", \"bar\", \"baz\"]) == \"foo\")"
   ]
  },
  {
   "cell_type": "code",
   "execution_count": 63,
   "id": "00018c67",
   "metadata": {},
   "outputs": [
    {
     "data": {
      "text/plain": [
       "array([ True, False, False])"
      ]
     },
     "execution_count": 63,
     "metadata": {},
     "output_type": "execute_result"
    }
   ],
   "source": [
    "pd.Index([\"foo\", \"bar\", \"baz\"]) == \"foo\""
   ]
  },
  {
   "cell_type": "code",
   "execution_count": 65,
   "id": "87518f8f",
   "metadata": {},
   "outputs": [
    {
     "data": {
      "text/plain": [
       "numpy.ndarray"
      ]
     },
     "execution_count": 65,
     "metadata": {},
     "output_type": "execute_result"
    }
   ],
   "source": [
    "type(pd.Index([\"foo\", \"bar\", \"baz\"]) == \"foo\")"
   ]
  },
  {
   "cell_type": "code",
   "execution_count": 66,
   "id": "92de1613",
   "metadata": {},
   "outputs": [
    {
     "data": {
      "text/plain": [
       "0     True\n",
       "1     True\n",
       "2    False\n",
       "dtype: bool"
      ]
     },
     "execution_count": 66,
     "metadata": {},
     "output_type": "execute_result"
    }
   ],
   "source": [
    "pd.Series([\"foo\", \"bar\", \"baz\"]) == pd.Index([\"foo\", \"bar\", \"qux\"])"
   ]
  },
  {
   "cell_type": "code",
   "execution_count": 67,
   "id": "f3cceb2a",
   "metadata": {},
   "outputs": [
    {
     "data": {
      "text/plain": [
       "0     True\n",
       "1     True\n",
       "2    False\n",
       "dtype: bool"
      ]
     },
     "execution_count": 67,
     "metadata": {},
     "output_type": "execute_result"
    }
   ],
   "source": [
    "pd.Series([\"foo\", \"bar\", \"baz\"]) == np.array([\"foo\", \"bar\", \"qux\"])"
   ]
  },
  {
   "cell_type": "code",
   "execution_count": 68,
   "id": "f0ddc90d",
   "metadata": {},
   "outputs": [],
   "source": [
    "df1 = pd.DataFrame(\n",
    "\n",
    "    {\"A\": [1.0, np.nan, 3.0, 5.0, np.nan], \"B\": [np.nan, 2.0, 3.0, np.nan, 6.0]}\n",
    "\n",
    ")\n",
    "\n",
    "\n",
    "\n",
    "df2 = pd.DataFrame(\n",
    "\n",
    "    {\n",
    "\n",
    "        \"A\": [5.0, 2.0, 4.0, np.nan, 3.0, 7.0],\n",
    "\n",
    "        \"B\": [np.nan, np.nan, 3.0, 4.0, 6.0, 8.0],\n",
    "\n",
    "    }\n",
    "\n",
    ")"
   ]
  },
  {
   "cell_type": "code",
   "execution_count": 69,
   "id": "17d5cdfb",
   "metadata": {},
   "outputs": [
    {
     "data": {
      "text/html": [
       "<div>\n",
       "<style scoped>\n",
       "    .dataframe tbody tr th:only-of-type {\n",
       "        vertical-align: middle;\n",
       "    }\n",
       "\n",
       "    .dataframe tbody tr th {\n",
       "        vertical-align: top;\n",
       "    }\n",
       "\n",
       "    .dataframe thead th {\n",
       "        text-align: right;\n",
       "    }\n",
       "</style>\n",
       "<table border=\"1\" class=\"dataframe\">\n",
       "  <thead>\n",
       "    <tr style=\"text-align: right;\">\n",
       "      <th></th>\n",
       "      <th>A</th>\n",
       "      <th>B</th>\n",
       "    </tr>\n",
       "  </thead>\n",
       "  <tbody>\n",
       "    <tr>\n",
       "      <th>0</th>\n",
       "      <td>1.0</td>\n",
       "      <td>NaN</td>\n",
       "    </tr>\n",
       "    <tr>\n",
       "      <th>1</th>\n",
       "      <td>NaN</td>\n",
       "      <td>2.0</td>\n",
       "    </tr>\n",
       "    <tr>\n",
       "      <th>2</th>\n",
       "      <td>3.0</td>\n",
       "      <td>3.0</td>\n",
       "    </tr>\n",
       "    <tr>\n",
       "      <th>3</th>\n",
       "      <td>5.0</td>\n",
       "      <td>NaN</td>\n",
       "    </tr>\n",
       "    <tr>\n",
       "      <th>4</th>\n",
       "      <td>NaN</td>\n",
       "      <td>6.0</td>\n",
       "    </tr>\n",
       "  </tbody>\n",
       "</table>\n",
       "</div>"
      ],
      "text/plain": [
       "     A    B\n",
       "0  1.0  NaN\n",
       "1  NaN  2.0\n",
       "2  3.0  3.0\n",
       "3  5.0  NaN\n",
       "4  NaN  6.0"
      ]
     },
     "execution_count": 69,
     "metadata": {},
     "output_type": "execute_result"
    }
   ],
   "source": [
    "df1"
   ]
  },
  {
   "cell_type": "code",
   "execution_count": 70,
   "id": "db55de27",
   "metadata": {},
   "outputs": [
    {
     "data": {
      "text/html": [
       "<div>\n",
       "<style scoped>\n",
       "    .dataframe tbody tr th:only-of-type {\n",
       "        vertical-align: middle;\n",
       "    }\n",
       "\n",
       "    .dataframe tbody tr th {\n",
       "        vertical-align: top;\n",
       "    }\n",
       "\n",
       "    .dataframe thead th {\n",
       "        text-align: right;\n",
       "    }\n",
       "</style>\n",
       "<table border=\"1\" class=\"dataframe\">\n",
       "  <thead>\n",
       "    <tr style=\"text-align: right;\">\n",
       "      <th></th>\n",
       "      <th>A</th>\n",
       "      <th>B</th>\n",
       "    </tr>\n",
       "  </thead>\n",
       "  <tbody>\n",
       "    <tr>\n",
       "      <th>0</th>\n",
       "      <td>5.0</td>\n",
       "      <td>NaN</td>\n",
       "    </tr>\n",
       "    <tr>\n",
       "      <th>1</th>\n",
       "      <td>2.0</td>\n",
       "      <td>NaN</td>\n",
       "    </tr>\n",
       "    <tr>\n",
       "      <th>2</th>\n",
       "      <td>4.0</td>\n",
       "      <td>3.0</td>\n",
       "    </tr>\n",
       "    <tr>\n",
       "      <th>3</th>\n",
       "      <td>NaN</td>\n",
       "      <td>4.0</td>\n",
       "    </tr>\n",
       "    <tr>\n",
       "      <th>4</th>\n",
       "      <td>3.0</td>\n",
       "      <td>6.0</td>\n",
       "    </tr>\n",
       "    <tr>\n",
       "      <th>5</th>\n",
       "      <td>7.0</td>\n",
       "      <td>8.0</td>\n",
       "    </tr>\n",
       "  </tbody>\n",
       "</table>\n",
       "</div>"
      ],
      "text/plain": [
       "     A    B\n",
       "0  5.0  NaN\n",
       "1  2.0  NaN\n",
       "2  4.0  3.0\n",
       "3  NaN  4.0\n",
       "4  3.0  6.0\n",
       "5  7.0  8.0"
      ]
     },
     "execution_count": 70,
     "metadata": {},
     "output_type": "execute_result"
    }
   ],
   "source": [
    "df2"
   ]
  },
  {
   "cell_type": "code",
   "execution_count": 71,
   "id": "b5a56d03",
   "metadata": {},
   "outputs": [
    {
     "data": {
      "text/html": [
       "<div>\n",
       "<style scoped>\n",
       "    .dataframe tbody tr th:only-of-type {\n",
       "        vertical-align: middle;\n",
       "    }\n",
       "\n",
       "    .dataframe tbody tr th {\n",
       "        vertical-align: top;\n",
       "    }\n",
       "\n",
       "    .dataframe thead th {\n",
       "        text-align: right;\n",
       "    }\n",
       "</style>\n",
       "<table border=\"1\" class=\"dataframe\">\n",
       "  <thead>\n",
       "    <tr style=\"text-align: right;\">\n",
       "      <th></th>\n",
       "      <th>A</th>\n",
       "      <th>B</th>\n",
       "    </tr>\n",
       "  </thead>\n",
       "  <tbody>\n",
       "    <tr>\n",
       "      <th>0</th>\n",
       "      <td>1.0</td>\n",
       "      <td>NaN</td>\n",
       "    </tr>\n",
       "    <tr>\n",
       "      <th>1</th>\n",
       "      <td>2.0</td>\n",
       "      <td>2.0</td>\n",
       "    </tr>\n",
       "    <tr>\n",
       "      <th>2</th>\n",
       "      <td>3.0</td>\n",
       "      <td>3.0</td>\n",
       "    </tr>\n",
       "    <tr>\n",
       "      <th>3</th>\n",
       "      <td>5.0</td>\n",
       "      <td>4.0</td>\n",
       "    </tr>\n",
       "    <tr>\n",
       "      <th>4</th>\n",
       "      <td>3.0</td>\n",
       "      <td>6.0</td>\n",
       "    </tr>\n",
       "    <tr>\n",
       "      <th>5</th>\n",
       "      <td>7.0</td>\n",
       "      <td>8.0</td>\n",
       "    </tr>\n",
       "  </tbody>\n",
       "</table>\n",
       "</div>"
      ],
      "text/plain": [
       "     A    B\n",
       "0  1.0  NaN\n",
       "1  2.0  2.0\n",
       "2  3.0  3.0\n",
       "3  5.0  4.0\n",
       "4  3.0  6.0\n",
       "5  7.0  8.0"
      ]
     },
     "execution_count": 71,
     "metadata": {},
     "output_type": "execute_result"
    }
   ],
   "source": [
    "df1.combine_first(df2)"
   ]
  },
  {
   "cell_type": "code",
   "execution_count": 72,
   "id": "9cbf650d",
   "metadata": {},
   "outputs": [],
   "source": [
    "def combiner(x, y):\n",
    "    return np.where(pd.isna(x), y, x)"
   ]
  },
  {
   "cell_type": "code",
   "execution_count": 73,
   "id": "23b51b90",
   "metadata": {},
   "outputs": [
    {
     "data": {
      "text/html": [
       "<div>\n",
       "<style scoped>\n",
       "    .dataframe tbody tr th:only-of-type {\n",
       "        vertical-align: middle;\n",
       "    }\n",
       "\n",
       "    .dataframe tbody tr th {\n",
       "        vertical-align: top;\n",
       "    }\n",
       "\n",
       "    .dataframe thead th {\n",
       "        text-align: right;\n",
       "    }\n",
       "</style>\n",
       "<table border=\"1\" class=\"dataframe\">\n",
       "  <thead>\n",
       "    <tr style=\"text-align: right;\">\n",
       "      <th></th>\n",
       "      <th>A</th>\n",
       "      <th>B</th>\n",
       "    </tr>\n",
       "  </thead>\n",
       "  <tbody>\n",
       "    <tr>\n",
       "      <th>0</th>\n",
       "      <td>1.0</td>\n",
       "      <td>NaN</td>\n",
       "    </tr>\n",
       "    <tr>\n",
       "      <th>1</th>\n",
       "      <td>2.0</td>\n",
       "      <td>2.0</td>\n",
       "    </tr>\n",
       "    <tr>\n",
       "      <th>2</th>\n",
       "      <td>3.0</td>\n",
       "      <td>3.0</td>\n",
       "    </tr>\n",
       "    <tr>\n",
       "      <th>3</th>\n",
       "      <td>5.0</td>\n",
       "      <td>4.0</td>\n",
       "    </tr>\n",
       "    <tr>\n",
       "      <th>4</th>\n",
       "      <td>3.0</td>\n",
       "      <td>6.0</td>\n",
       "    </tr>\n",
       "    <tr>\n",
       "      <th>5</th>\n",
       "      <td>7.0</td>\n",
       "      <td>8.0</td>\n",
       "    </tr>\n",
       "  </tbody>\n",
       "</table>\n",
       "</div>"
      ],
      "text/plain": [
       "     A    B\n",
       "0  1.0  NaN\n",
       "1  2.0  2.0\n",
       "2  3.0  3.0\n",
       "3  5.0  4.0\n",
       "4  3.0  6.0\n",
       "5  7.0  8.0"
      ]
     },
     "execution_count": 73,
     "metadata": {},
     "output_type": "execute_result"
    }
   ],
   "source": [
    "df1.combine(df2, combiner)"
   ]
  },
  {
   "cell_type": "code",
   "execution_count": 74,
   "id": "7ca83a8f",
   "metadata": {},
   "outputs": [
    {
     "data": {
      "text/html": [
       "<div>\n",
       "<style scoped>\n",
       "    .dataframe tbody tr th:only-of-type {\n",
       "        vertical-align: middle;\n",
       "    }\n",
       "\n",
       "    .dataframe tbody tr th {\n",
       "        vertical-align: top;\n",
       "    }\n",
       "\n",
       "    .dataframe thead th {\n",
       "        text-align: right;\n",
       "    }\n",
       "</style>\n",
       "<table border=\"1\" class=\"dataframe\">\n",
       "  <thead>\n",
       "    <tr style=\"text-align: right;\">\n",
       "      <th></th>\n",
       "      <th>one</th>\n",
       "      <th>two</th>\n",
       "      <th>three</th>\n",
       "    </tr>\n",
       "  </thead>\n",
       "  <tbody>\n",
       "    <tr>\n",
       "      <th>a</th>\n",
       "      <td>0.342308</td>\n",
       "      <td>-0.698858</td>\n",
       "      <td>NaN</td>\n",
       "    </tr>\n",
       "    <tr>\n",
       "      <th>b</th>\n",
       "      <td>1.393615</td>\n",
       "      <td>1.504289</td>\n",
       "      <td>-0.084983</td>\n",
       "    </tr>\n",
       "    <tr>\n",
       "      <th>c</th>\n",
       "      <td>0.098764</td>\n",
       "      <td>0.993717</td>\n",
       "      <td>-0.256028</td>\n",
       "    </tr>\n",
       "    <tr>\n",
       "      <th>d</th>\n",
       "      <td>NaN</td>\n",
       "      <td>-0.314475</td>\n",
       "      <td>-1.694800</td>\n",
       "    </tr>\n",
       "  </tbody>\n",
       "</table>\n",
       "</div>"
      ],
      "text/plain": [
       "        one       two     three\n",
       "a  0.342308 -0.698858       NaN\n",
       "b  1.393615  1.504289 -0.084983\n",
       "c  0.098764  0.993717 -0.256028\n",
       "d       NaN -0.314475 -1.694800"
      ]
     },
     "execution_count": 74,
     "metadata": {},
     "output_type": "execute_result"
    }
   ],
   "source": [
    "df"
   ]
  },
  {
   "cell_type": "code",
   "execution_count": 75,
   "id": "cb7ddd66",
   "metadata": {},
   "outputs": [
    {
     "data": {
      "text/plain": [
       "one      0.611562\n",
       "two      0.371168\n",
       "three   -0.678604\n",
       "dtype: float64"
      ]
     },
     "execution_count": 75,
     "metadata": {},
     "output_type": "execute_result"
    }
   ],
   "source": [
    "df.mean(0)"
   ]
  },
  {
   "cell_type": "code",
   "execution_count": 76,
   "id": "72171031",
   "metadata": {},
   "outputs": [
    {
     "data": {
      "text/plain": [
       "a   -0.178275\n",
       "b    0.937640\n",
       "c    0.278818\n",
       "d   -1.004638\n",
       "dtype: float64"
      ]
     },
     "execution_count": 76,
     "metadata": {},
     "output_type": "execute_result"
    }
   ],
   "source": [
    "df.mean(1)"
   ]
  },
  {
   "cell_type": "code",
   "execution_count": 77,
   "id": "1b563b62",
   "metadata": {},
   "outputs": [
    {
     "data": {
      "text/plain": [
       "one           NaN\n",
       "two      1.484673\n",
       "three         NaN\n",
       "dtype: float64"
      ]
     },
     "execution_count": 77,
     "metadata": {},
     "output_type": "execute_result"
    }
   ],
   "source": [
    "df.sum(0, skipna=False)"
   ]
  },
  {
   "cell_type": "code",
   "execution_count": 78,
   "id": "f5c2a67c",
   "metadata": {},
   "outputs": [
    {
     "data": {
      "text/plain": [
       "a   -0.356550\n",
       "b    2.812921\n",
       "c    0.836454\n",
       "d   -2.009275\n",
       "dtype: float64"
      ]
     },
     "execution_count": 78,
     "metadata": {},
     "output_type": "execute_result"
    }
   ],
   "source": [
    "df.sum(axis=1, skipna=True)"
   ]
  },
  {
   "cell_type": "code",
   "execution_count": 81,
   "id": "1e9c66b6",
   "metadata": {},
   "outputs": [
    {
     "data": {
      "text/plain": [
       "one      0.611562\n",
       "two      0.371168\n",
       "three   -0.678604\n",
       "dtype: float64"
      ]
     },
     "execution_count": 81,
     "metadata": {},
     "output_type": "execute_result"
    }
   ],
   "source": [
    "df.mean()"
   ]
  },
  {
   "cell_type": "code",
   "execution_count": 83,
   "id": "8055b6df",
   "metadata": {},
   "outputs": [
    {
     "data": {
      "text/plain": [
       "a   -0.178275\n",
       "b    0.937640\n",
       "c    0.278818\n",
       "d   -1.004638\n",
       "dtype: float64"
      ]
     },
     "execution_count": 83,
     "metadata": {},
     "output_type": "execute_result"
    }
   ],
   "source": [
    "df.mean(1)"
   ]
  },
  {
   "cell_type": "code",
   "execution_count": 82,
   "id": "217ef53f",
   "metadata": {},
   "outputs": [
    {
     "data": {
      "text/plain": [
       "one      0.688137\n",
       "two      1.046676\n",
       "three    0.884198\n",
       "dtype: float64"
      ]
     },
     "execution_count": 82,
     "metadata": {},
     "output_type": "execute_result"
    }
   ],
   "source": [
    "df.std()"
   ]
  },
  {
   "cell_type": "code",
   "execution_count": 79,
   "id": "93c7b8f8",
   "metadata": {},
   "outputs": [
    {
     "data": {
      "text/plain": [
       "one      1.0\n",
       "two      1.0\n",
       "three    1.0\n",
       "dtype: float64"
      ]
     },
     "execution_count": 79,
     "metadata": {},
     "output_type": "execute_result"
    }
   ],
   "source": [
    "ts_stand = (df - df.mean()) / df.std()\n",
    "\n",
    "ts_stand.std()"
   ]
  },
  {
   "cell_type": "code",
   "execution_count": 85,
   "id": "b08ca01d",
   "metadata": {},
   "outputs": [
    {
     "data": {
      "text/html": [
       "<div>\n",
       "<style scoped>\n",
       "    .dataframe tbody tr th:only-of-type {\n",
       "        vertical-align: middle;\n",
       "    }\n",
       "\n",
       "    .dataframe tbody tr th {\n",
       "        vertical-align: top;\n",
       "    }\n",
       "\n",
       "    .dataframe thead th {\n",
       "        text-align: right;\n",
       "    }\n",
       "</style>\n",
       "<table border=\"1\" class=\"dataframe\">\n",
       "  <thead>\n",
       "    <tr style=\"text-align: right;\">\n",
       "      <th></th>\n",
       "      <th>one</th>\n",
       "      <th>two</th>\n",
       "      <th>three</th>\n",
       "    </tr>\n",
       "  </thead>\n",
       "  <tbody>\n",
       "    <tr>\n",
       "      <th>a</th>\n",
       "      <td>-0.391279</td>\n",
       "      <td>-1.022309</td>\n",
       "      <td>NaN</td>\n",
       "    </tr>\n",
       "    <tr>\n",
       "      <th>b</th>\n",
       "      <td>1.136477</td>\n",
       "      <td>1.082589</td>\n",
       "      <td>0.671366</td>\n",
       "    </tr>\n",
       "    <tr>\n",
       "      <th>c</th>\n",
       "      <td>-0.745198</td>\n",
       "      <td>0.594787</td>\n",
       "      <td>0.477920</td>\n",
       "    </tr>\n",
       "    <tr>\n",
       "      <th>d</th>\n",
       "      <td>NaN</td>\n",
       "      <td>-0.655067</td>\n",
       "      <td>-1.149287</td>\n",
       "    </tr>\n",
       "  </tbody>\n",
       "</table>\n",
       "</div>"
      ],
      "text/plain": [
       "        one       two     three\n",
       "a -0.391279 -1.022309       NaN\n",
       "b  1.136477  1.082589  0.671366\n",
       "c -0.745198  0.594787  0.477920\n",
       "d       NaN -0.655067 -1.149287"
      ]
     },
     "execution_count": 85,
     "metadata": {},
     "output_type": "execute_result"
    }
   ],
   "source": [
    "ts_stand"
   ]
  },
  {
   "cell_type": "code",
   "execution_count": 80,
   "id": "c0ebf1ea",
   "metadata": {},
   "outputs": [
    {
     "data": {
      "text/plain": [
       "a    1.0\n",
       "b    1.0\n",
       "c    1.0\n",
       "d    1.0\n",
       "dtype: float64"
      ]
     },
     "execution_count": 80,
     "metadata": {},
     "output_type": "execute_result"
    }
   ],
   "source": [
    "xs_stand = df.sub(df.mean(1), axis=0).div(df.std(1), axis=0)\n",
    "\n",
    "xs_stand.std(1)"
   ]
  },
  {
   "cell_type": "code",
   "execution_count": 87,
   "id": "368334c2",
   "metadata": {},
   "outputs": [
    {
     "data": {
      "text/html": [
       "<div>\n",
       "<style scoped>\n",
       "    .dataframe tbody tr th:only-of-type {\n",
       "        vertical-align: middle;\n",
       "    }\n",
       "\n",
       "    .dataframe tbody tr th {\n",
       "        vertical-align: top;\n",
       "    }\n",
       "\n",
       "    .dataframe thead th {\n",
       "        text-align: right;\n",
       "    }\n",
       "</style>\n",
       "<table border=\"1\" class=\"dataframe\">\n",
       "  <thead>\n",
       "    <tr style=\"text-align: right;\">\n",
       "      <th></th>\n",
       "      <th>one</th>\n",
       "      <th>two</th>\n",
       "      <th>three</th>\n",
       "    </tr>\n",
       "  </thead>\n",
       "  <tbody>\n",
       "    <tr>\n",
       "      <th>a</th>\n",
       "      <td>0.342308</td>\n",
       "      <td>-0.698858</td>\n",
       "      <td>NaN</td>\n",
       "    </tr>\n",
       "    <tr>\n",
       "      <th>b</th>\n",
       "      <td>1.393615</td>\n",
       "      <td>1.504289</td>\n",
       "      <td>-0.084983</td>\n",
       "    </tr>\n",
       "    <tr>\n",
       "      <th>c</th>\n",
       "      <td>0.098764</td>\n",
       "      <td>0.993717</td>\n",
       "      <td>-0.256028</td>\n",
       "    </tr>\n",
       "    <tr>\n",
       "      <th>d</th>\n",
       "      <td>NaN</td>\n",
       "      <td>-0.314475</td>\n",
       "      <td>-1.694800</td>\n",
       "    </tr>\n",
       "  </tbody>\n",
       "</table>\n",
       "</div>"
      ],
      "text/plain": [
       "        one       two     three\n",
       "a  0.342308 -0.698858       NaN\n",
       "b  1.393615  1.504289 -0.084983\n",
       "c  0.098764  0.993717 -0.256028\n",
       "d       NaN -0.314475 -1.694800"
      ]
     },
     "execution_count": 87,
     "metadata": {},
     "output_type": "execute_result"
    }
   ],
   "source": [
    "df"
   ]
  },
  {
   "cell_type": "code",
   "execution_count": 86,
   "id": "f03ae057",
   "metadata": {},
   "outputs": [
    {
     "data": {
      "text/html": [
       "<div>\n",
       "<style scoped>\n",
       "    .dataframe tbody tr th:only-of-type {\n",
       "        vertical-align: middle;\n",
       "    }\n",
       "\n",
       "    .dataframe tbody tr th {\n",
       "        vertical-align: top;\n",
       "    }\n",
       "\n",
       "    .dataframe thead th {\n",
       "        text-align: right;\n",
       "    }\n",
       "</style>\n",
       "<table border=\"1\" class=\"dataframe\">\n",
       "  <thead>\n",
       "    <tr style=\"text-align: right;\">\n",
       "      <th></th>\n",
       "      <th>one</th>\n",
       "      <th>two</th>\n",
       "      <th>three</th>\n",
       "    </tr>\n",
       "  </thead>\n",
       "  <tbody>\n",
       "    <tr>\n",
       "      <th>a</th>\n",
       "      <td>0.342308</td>\n",
       "      <td>-0.698858</td>\n",
       "      <td>NaN</td>\n",
       "    </tr>\n",
       "    <tr>\n",
       "      <th>b</th>\n",
       "      <td>1.735923</td>\n",
       "      <td>0.805430</td>\n",
       "      <td>-0.084983</td>\n",
       "    </tr>\n",
       "    <tr>\n",
       "      <th>c</th>\n",
       "      <td>1.834687</td>\n",
       "      <td>1.799148</td>\n",
       "      <td>-0.341011</td>\n",
       "    </tr>\n",
       "    <tr>\n",
       "      <th>d</th>\n",
       "      <td>NaN</td>\n",
       "      <td>1.484673</td>\n",
       "      <td>-2.035811</td>\n",
       "    </tr>\n",
       "  </tbody>\n",
       "</table>\n",
       "</div>"
      ],
      "text/plain": [
       "        one       two     three\n",
       "a  0.342308 -0.698858       NaN\n",
       "b  1.735923  0.805430 -0.084983\n",
       "c  1.834687  1.799148 -0.341011\n",
       "d       NaN  1.484673 -2.035811"
      ]
     },
     "execution_count": 86,
     "metadata": {},
     "output_type": "execute_result"
    }
   ],
   "source": [
    "df.cumsum()"
   ]
  },
  {
   "cell_type": "code",
   "execution_count": 88,
   "id": "0dfd8cb3",
   "metadata": {},
   "outputs": [
    {
     "data": {
      "text/plain": [
       "0.6115624781508879"
      ]
     },
     "execution_count": 88,
     "metadata": {},
     "output_type": "execute_result"
    }
   ],
   "source": [
    "np.mean(df[\"one\"])"
   ]
  },
  {
   "cell_type": "code",
   "execution_count": 89,
   "id": "a02917ca",
   "metadata": {},
   "outputs": [
    {
     "data": {
      "text/plain": [
       "0.6115624781508879"
      ]
     },
     "execution_count": 89,
     "metadata": {},
     "output_type": "execute_result"
    }
   ],
   "source": [
    "df[\"one\"].mean()"
   ]
  },
  {
   "cell_type": "code",
   "execution_count": 91,
   "id": "07b6c03e",
   "metadata": {},
   "outputs": [
    {
     "data": {
      "text/plain": [
       "nan"
      ]
     },
     "execution_count": 91,
     "metadata": {},
     "output_type": "execute_result"
    }
   ],
   "source": [
    "np.mean(df[\"one\"].to_numpy())"
   ]
  },
  {
   "cell_type": "code",
   "execution_count": 92,
   "id": "49290af9",
   "metadata": {},
   "outputs": [
    {
     "data": {
      "text/plain": [
       "11"
      ]
     },
     "execution_count": 92,
     "metadata": {},
     "output_type": "execute_result"
    }
   ],
   "source": [
    "series = pd.Series(np.random.randn(500))\n",
    "\n",
    "series[20:500] = np.nan\n",
    "\n",
    "series[10:20] = 5\n",
    "\n",
    "series.nunique()"
   ]
  },
  {
   "cell_type": "code",
   "execution_count": 93,
   "id": "64b4da37",
   "metadata": {},
   "outputs": [
    {
     "data": {
      "text/plain": [
       "count    500.000000\n",
       "mean       0.002191\n",
       "std        1.023972\n",
       "min       -2.545618\n",
       "25%       -0.703997\n",
       "50%       -0.021504\n",
       "75%        0.663194\n",
       "max        3.580700\n",
       "dtype: float64"
      ]
     },
     "execution_count": 93,
     "metadata": {},
     "output_type": "execute_result"
    }
   ],
   "source": [
    "series = pd.Series(np.random.randn(1000))\n",
    "\n",
    "series[::2] = np.nan\n",
    "\n",
    "series.describe()"
   ]
  },
  {
   "cell_type": "code",
   "execution_count": 95,
   "id": "ecb042db",
   "metadata": {},
   "outputs": [
    {
     "data": {
      "text/html": [
       "<div>\n",
       "<style scoped>\n",
       "    .dataframe tbody tr th:only-of-type {\n",
       "        vertical-align: middle;\n",
       "    }\n",
       "\n",
       "    .dataframe tbody tr th {\n",
       "        vertical-align: top;\n",
       "    }\n",
       "\n",
       "    .dataframe thead th {\n",
       "        text-align: right;\n",
       "    }\n",
       "</style>\n",
       "<table border=\"1\" class=\"dataframe\">\n",
       "  <thead>\n",
       "    <tr style=\"text-align: right;\">\n",
       "      <th></th>\n",
       "      <th>a</th>\n",
       "      <th>b</th>\n",
       "      <th>c</th>\n",
       "      <th>d</th>\n",
       "      <th>e</th>\n",
       "    </tr>\n",
       "  </thead>\n",
       "  <tbody>\n",
       "    <tr>\n",
       "      <th>0</th>\n",
       "      <td>NaN</td>\n",
       "      <td>NaN</td>\n",
       "      <td>NaN</td>\n",
       "      <td>NaN</td>\n",
       "      <td>NaN</td>\n",
       "    </tr>\n",
       "    <tr>\n",
       "      <th>1</th>\n",
       "      <td>-0.640765</td>\n",
       "      <td>0.903101</td>\n",
       "      <td>0.938694</td>\n",
       "      <td>0.086676</td>\n",
       "      <td>0.214302</td>\n",
       "    </tr>\n",
       "    <tr>\n",
       "      <th>2</th>\n",
       "      <td>NaN</td>\n",
       "      <td>NaN</td>\n",
       "      <td>NaN</td>\n",
       "      <td>NaN</td>\n",
       "      <td>NaN</td>\n",
       "    </tr>\n",
       "    <tr>\n",
       "      <th>3</th>\n",
       "      <td>-0.543897</td>\n",
       "      <td>-2.615456</td>\n",
       "      <td>1.157518</td>\n",
       "      <td>1.095664</td>\n",
       "      <td>-0.494296</td>\n",
       "    </tr>\n",
       "    <tr>\n",
       "      <th>4</th>\n",
       "      <td>NaN</td>\n",
       "      <td>NaN</td>\n",
       "      <td>NaN</td>\n",
       "      <td>NaN</td>\n",
       "      <td>NaN</td>\n",
       "    </tr>\n",
       "    <tr>\n",
       "      <th>...</th>\n",
       "      <td>...</td>\n",
       "      <td>...</td>\n",
       "      <td>...</td>\n",
       "      <td>...</td>\n",
       "      <td>...</td>\n",
       "    </tr>\n",
       "    <tr>\n",
       "      <th>995</th>\n",
       "      <td>-1.373696</td>\n",
       "      <td>-0.768637</td>\n",
       "      <td>0.824005</td>\n",
       "      <td>-1.154017</td>\n",
       "      <td>-1.310304</td>\n",
       "    </tr>\n",
       "    <tr>\n",
       "      <th>996</th>\n",
       "      <td>NaN</td>\n",
       "      <td>NaN</td>\n",
       "      <td>NaN</td>\n",
       "      <td>NaN</td>\n",
       "      <td>NaN</td>\n",
       "    </tr>\n",
       "    <tr>\n",
       "      <th>997</th>\n",
       "      <td>0.358162</td>\n",
       "      <td>0.550522</td>\n",
       "      <td>-0.452393</td>\n",
       "      <td>0.680302</td>\n",
       "      <td>-0.313340</td>\n",
       "    </tr>\n",
       "    <tr>\n",
       "      <th>998</th>\n",
       "      <td>NaN</td>\n",
       "      <td>NaN</td>\n",
       "      <td>NaN</td>\n",
       "      <td>NaN</td>\n",
       "      <td>NaN</td>\n",
       "    </tr>\n",
       "    <tr>\n",
       "      <th>999</th>\n",
       "      <td>0.312122</td>\n",
       "      <td>0.407514</td>\n",
       "      <td>-0.638628</td>\n",
       "      <td>0.388613</td>\n",
       "      <td>-1.140821</td>\n",
       "    </tr>\n",
       "  </tbody>\n",
       "</table>\n",
       "<p>1000 rows × 5 columns</p>\n",
       "</div>"
      ],
      "text/plain": [
       "            a         b         c         d         e\n",
       "0         NaN       NaN       NaN       NaN       NaN\n",
       "1   -0.640765  0.903101  0.938694  0.086676  0.214302\n",
       "2         NaN       NaN       NaN       NaN       NaN\n",
       "3   -0.543897 -2.615456  1.157518  1.095664 -0.494296\n",
       "4         NaN       NaN       NaN       NaN       NaN\n",
       "..        ...       ...       ...       ...       ...\n",
       "995 -1.373696 -0.768637  0.824005 -1.154017 -1.310304\n",
       "996       NaN       NaN       NaN       NaN       NaN\n",
       "997  0.358162  0.550522 -0.452393  0.680302 -0.313340\n",
       "998       NaN       NaN       NaN       NaN       NaN\n",
       "999  0.312122  0.407514 -0.638628  0.388613 -1.140821\n",
       "\n",
       "[1000 rows x 5 columns]"
      ]
     },
     "execution_count": 95,
     "metadata": {},
     "output_type": "execute_result"
    }
   ],
   "source": [
    "frame = pd.DataFrame(np.random.randn(1000, 5), columns=[\"a\", \"b\", \"c\", \"d\", \"e\"])\n",
    "\n",
    "frame.iloc[::2] = np.nan\n",
    "\n",
    "frame"
   ]
  },
  {
   "cell_type": "code",
   "execution_count": 96,
   "id": "b2a8fc1d",
   "metadata": {},
   "outputs": [
    {
     "data": {
      "text/html": [
       "<div>\n",
       "<style scoped>\n",
       "    .dataframe tbody tr th:only-of-type {\n",
       "        vertical-align: middle;\n",
       "    }\n",
       "\n",
       "    .dataframe tbody tr th {\n",
       "        vertical-align: top;\n",
       "    }\n",
       "\n",
       "    .dataframe thead th {\n",
       "        text-align: right;\n",
       "    }\n",
       "</style>\n",
       "<table border=\"1\" class=\"dataframe\">\n",
       "  <thead>\n",
       "    <tr style=\"text-align: right;\">\n",
       "      <th></th>\n",
       "      <th>a</th>\n",
       "      <th>b</th>\n",
       "      <th>c</th>\n",
       "      <th>d</th>\n",
       "      <th>e</th>\n",
       "    </tr>\n",
       "  </thead>\n",
       "  <tbody>\n",
       "    <tr>\n",
       "      <th>count</th>\n",
       "      <td>500.000000</td>\n",
       "      <td>500.000000</td>\n",
       "      <td>500.000000</td>\n",
       "      <td>500.000000</td>\n",
       "      <td>500.000000</td>\n",
       "    </tr>\n",
       "    <tr>\n",
       "      <th>mean</th>\n",
       "      <td>0.010974</td>\n",
       "      <td>0.021146</td>\n",
       "      <td>-0.011155</td>\n",
       "      <td>0.069428</td>\n",
       "      <td>-0.033026</td>\n",
       "    </tr>\n",
       "    <tr>\n",
       "      <th>std</th>\n",
       "      <td>1.004994</td>\n",
       "      <td>0.988079</td>\n",
       "      <td>0.996350</td>\n",
       "      <td>1.005681</td>\n",
       "      <td>0.951650</td>\n",
       "    </tr>\n",
       "    <tr>\n",
       "      <th>min</th>\n",
       "      <td>-2.858664</td>\n",
       "      <td>-2.615456</td>\n",
       "      <td>-2.861155</td>\n",
       "      <td>-3.002902</td>\n",
       "      <td>-3.255303</td>\n",
       "    </tr>\n",
       "    <tr>\n",
       "      <th>25%</th>\n",
       "      <td>-0.692149</td>\n",
       "      <td>-0.632836</td>\n",
       "      <td>-0.701961</td>\n",
       "      <td>-0.580114</td>\n",
       "      <td>-0.650566</td>\n",
       "    </tr>\n",
       "    <tr>\n",
       "      <th>50%</th>\n",
       "      <td>0.019151</td>\n",
       "      <td>0.019034</td>\n",
       "      <td>-0.053929</td>\n",
       "      <td>0.045881</td>\n",
       "      <td>-0.076880</td>\n",
       "    </tr>\n",
       "    <tr>\n",
       "      <th>75%</th>\n",
       "      <td>0.719754</td>\n",
       "      <td>0.697630</td>\n",
       "      <td>0.651049</td>\n",
       "      <td>0.723683</td>\n",
       "      <td>0.618942</td>\n",
       "    </tr>\n",
       "    <tr>\n",
       "      <th>max</th>\n",
       "      <td>2.742931</td>\n",
       "      <td>2.545021</td>\n",
       "      <td>3.652229</td>\n",
       "      <td>3.294840</td>\n",
       "      <td>3.373784</td>\n",
       "    </tr>\n",
       "  </tbody>\n",
       "</table>\n",
       "</div>"
      ],
      "text/plain": [
       "                a           b           c           d           e\n",
       "count  500.000000  500.000000  500.000000  500.000000  500.000000\n",
       "mean     0.010974    0.021146   -0.011155    0.069428   -0.033026\n",
       "std      1.004994    0.988079    0.996350    1.005681    0.951650\n",
       "min     -2.858664   -2.615456   -2.861155   -3.002902   -3.255303\n",
       "25%     -0.692149   -0.632836   -0.701961   -0.580114   -0.650566\n",
       "50%      0.019151    0.019034   -0.053929    0.045881   -0.076880\n",
       "75%      0.719754    0.697630    0.651049    0.723683    0.618942\n",
       "max      2.742931    2.545021    3.652229    3.294840    3.373784"
      ]
     },
     "execution_count": 96,
     "metadata": {},
     "output_type": "execute_result"
    }
   ],
   "source": [
    "frame.describe()"
   ]
  },
  {
   "cell_type": "code",
   "execution_count": 97,
   "id": "cec6ef95",
   "metadata": {},
   "outputs": [
    {
     "data": {
      "text/plain": [
       "count    500.000000\n",
       "mean       0.002191\n",
       "std        1.023972\n",
       "min       -2.545618\n",
       "5%        -1.703468\n",
       "25%       -0.703997\n",
       "50%       -0.021504\n",
       "75%        0.663194\n",
       "95%        1.755931\n",
       "max        3.580700\n",
       "dtype: float64"
      ]
     },
     "execution_count": 97,
     "metadata": {},
     "output_type": "execute_result"
    }
   ],
   "source": [
    "series.describe(percentiles=[0.05, 0.25, 0.75, 0.95])"
   ]
  },
  {
   "cell_type": "code",
   "execution_count": 100,
   "id": "1f109b31",
   "metadata": {},
   "outputs": [
    {
     "data": {
      "text/plain": [
       "0      a\n",
       "1      a\n",
       "2      b\n",
       "3      b\n",
       "4      a\n",
       "5      a\n",
       "6    NaN\n",
       "7      c\n",
       "8      d\n",
       "9      a\n",
       "dtype: object"
      ]
     },
     "execution_count": 100,
     "metadata": {},
     "output_type": "execute_result"
    }
   ],
   "source": [
    "s = pd.Series([\"a\", \"a\", \"b\", \"b\", \"a\", \"a\", np.nan, \"c\", \"d\", \"a\"])\n",
    "s"
   ]
  },
  {
   "cell_type": "code",
   "execution_count": 101,
   "id": "10aed7b0",
   "metadata": {},
   "outputs": [
    {
     "data": {
      "text/plain": [
       "count     9\n",
       "unique    4\n",
       "top       a\n",
       "freq      5\n",
       "dtype: object"
      ]
     },
     "execution_count": 101,
     "metadata": {},
     "output_type": "execute_result"
    }
   ],
   "source": [
    "s.describe()"
   ]
  },
  {
   "cell_type": "code",
   "execution_count": 102,
   "id": "c89a8fbd",
   "metadata": {},
   "outputs": [
    {
     "data": {
      "text/html": [
       "<div>\n",
       "<style scoped>\n",
       "    .dataframe tbody tr th:only-of-type {\n",
       "        vertical-align: middle;\n",
       "    }\n",
       "\n",
       "    .dataframe tbody tr th {\n",
       "        vertical-align: top;\n",
       "    }\n",
       "\n",
       "    .dataframe thead th {\n",
       "        text-align: right;\n",
       "    }\n",
       "</style>\n",
       "<table border=\"1\" class=\"dataframe\">\n",
       "  <thead>\n",
       "    <tr style=\"text-align: right;\">\n",
       "      <th></th>\n",
       "      <th>a</th>\n",
       "      <th>b</th>\n",
       "    </tr>\n",
       "  </thead>\n",
       "  <tbody>\n",
       "    <tr>\n",
       "      <th>0</th>\n",
       "      <td>Yes</td>\n",
       "      <td>0</td>\n",
       "    </tr>\n",
       "    <tr>\n",
       "      <th>1</th>\n",
       "      <td>Yes</td>\n",
       "      <td>1</td>\n",
       "    </tr>\n",
       "    <tr>\n",
       "      <th>2</th>\n",
       "      <td>No</td>\n",
       "      <td>2</td>\n",
       "    </tr>\n",
       "    <tr>\n",
       "      <th>3</th>\n",
       "      <td>No</td>\n",
       "      <td>3</td>\n",
       "    </tr>\n",
       "  </tbody>\n",
       "</table>\n",
       "</div>"
      ],
      "text/plain": [
       "     a  b\n",
       "0  Yes  0\n",
       "1  Yes  1\n",
       "2   No  2\n",
       "3   No  3"
      ]
     },
     "execution_count": 102,
     "metadata": {},
     "output_type": "execute_result"
    }
   ],
   "source": [
    "frame = pd.DataFrame({\"a\": [\"Yes\", \"Yes\", \"No\", \"No\"], \"b\": range(4)})\n",
    "frame"
   ]
  },
  {
   "cell_type": "code",
   "execution_count": 103,
   "id": "eb5981ae",
   "metadata": {},
   "outputs": [
    {
     "data": {
      "text/html": [
       "<div>\n",
       "<style scoped>\n",
       "    .dataframe tbody tr th:only-of-type {\n",
       "        vertical-align: middle;\n",
       "    }\n",
       "\n",
       "    .dataframe tbody tr th {\n",
       "        vertical-align: top;\n",
       "    }\n",
       "\n",
       "    .dataframe thead th {\n",
       "        text-align: right;\n",
       "    }\n",
       "</style>\n",
       "<table border=\"1\" class=\"dataframe\">\n",
       "  <thead>\n",
       "    <tr style=\"text-align: right;\">\n",
       "      <th></th>\n",
       "      <th>b</th>\n",
       "    </tr>\n",
       "  </thead>\n",
       "  <tbody>\n",
       "    <tr>\n",
       "      <th>count</th>\n",
       "      <td>4.000000</td>\n",
       "    </tr>\n",
       "    <tr>\n",
       "      <th>mean</th>\n",
       "      <td>1.500000</td>\n",
       "    </tr>\n",
       "    <tr>\n",
       "      <th>std</th>\n",
       "      <td>1.290994</td>\n",
       "    </tr>\n",
       "    <tr>\n",
       "      <th>min</th>\n",
       "      <td>0.000000</td>\n",
       "    </tr>\n",
       "    <tr>\n",
       "      <th>25%</th>\n",
       "      <td>0.750000</td>\n",
       "    </tr>\n",
       "    <tr>\n",
       "      <th>50%</th>\n",
       "      <td>1.500000</td>\n",
       "    </tr>\n",
       "    <tr>\n",
       "      <th>75%</th>\n",
       "      <td>2.250000</td>\n",
       "    </tr>\n",
       "    <tr>\n",
       "      <th>max</th>\n",
       "      <td>3.000000</td>\n",
       "    </tr>\n",
       "  </tbody>\n",
       "</table>\n",
       "</div>"
      ],
      "text/plain": [
       "              b\n",
       "count  4.000000\n",
       "mean   1.500000\n",
       "std    1.290994\n",
       "min    0.000000\n",
       "25%    0.750000\n",
       "50%    1.500000\n",
       "75%    2.250000\n",
       "max    3.000000"
      ]
     },
     "execution_count": 103,
     "metadata": {},
     "output_type": "execute_result"
    }
   ],
   "source": [
    "frame.describe()"
   ]
  },
  {
   "cell_type": "code",
   "execution_count": 104,
   "id": "b5db2ce6",
   "metadata": {},
   "outputs": [
    {
     "data": {
      "text/html": [
       "<div>\n",
       "<style scoped>\n",
       "    .dataframe tbody tr th:only-of-type {\n",
       "        vertical-align: middle;\n",
       "    }\n",
       "\n",
       "    .dataframe tbody tr th {\n",
       "        vertical-align: top;\n",
       "    }\n",
       "\n",
       "    .dataframe thead th {\n",
       "        text-align: right;\n",
       "    }\n",
       "</style>\n",
       "<table border=\"1\" class=\"dataframe\">\n",
       "  <thead>\n",
       "    <tr style=\"text-align: right;\">\n",
       "      <th></th>\n",
       "      <th>a</th>\n",
       "    </tr>\n",
       "  </thead>\n",
       "  <tbody>\n",
       "    <tr>\n",
       "      <th>count</th>\n",
       "      <td>4</td>\n",
       "    </tr>\n",
       "    <tr>\n",
       "      <th>unique</th>\n",
       "      <td>2</td>\n",
       "    </tr>\n",
       "    <tr>\n",
       "      <th>top</th>\n",
       "      <td>Yes</td>\n",
       "    </tr>\n",
       "    <tr>\n",
       "      <th>freq</th>\n",
       "      <td>2</td>\n",
       "    </tr>\n",
       "  </tbody>\n",
       "</table>\n",
       "</div>"
      ],
      "text/plain": [
       "          a\n",
       "count     4\n",
       "unique    2\n",
       "top     Yes\n",
       "freq      2"
      ]
     },
     "execution_count": 104,
     "metadata": {},
     "output_type": "execute_result"
    }
   ],
   "source": [
    "frame.describe(include=[\"object\"])"
   ]
  },
  {
   "cell_type": "code",
   "execution_count": 105,
   "id": "c49ccac1",
   "metadata": {},
   "outputs": [
    {
     "data": {
      "text/html": [
       "<div>\n",
       "<style scoped>\n",
       "    .dataframe tbody tr th:only-of-type {\n",
       "        vertical-align: middle;\n",
       "    }\n",
       "\n",
       "    .dataframe tbody tr th {\n",
       "        vertical-align: top;\n",
       "    }\n",
       "\n",
       "    .dataframe thead th {\n",
       "        text-align: right;\n",
       "    }\n",
       "</style>\n",
       "<table border=\"1\" class=\"dataframe\">\n",
       "  <thead>\n",
       "    <tr style=\"text-align: right;\">\n",
       "      <th></th>\n",
       "      <th>b</th>\n",
       "    </tr>\n",
       "  </thead>\n",
       "  <tbody>\n",
       "    <tr>\n",
       "      <th>count</th>\n",
       "      <td>4.000000</td>\n",
       "    </tr>\n",
       "    <tr>\n",
       "      <th>mean</th>\n",
       "      <td>1.500000</td>\n",
       "    </tr>\n",
       "    <tr>\n",
       "      <th>std</th>\n",
       "      <td>1.290994</td>\n",
       "    </tr>\n",
       "    <tr>\n",
       "      <th>min</th>\n",
       "      <td>0.000000</td>\n",
       "    </tr>\n",
       "    <tr>\n",
       "      <th>25%</th>\n",
       "      <td>0.750000</td>\n",
       "    </tr>\n",
       "    <tr>\n",
       "      <th>50%</th>\n",
       "      <td>1.500000</td>\n",
       "    </tr>\n",
       "    <tr>\n",
       "      <th>75%</th>\n",
       "      <td>2.250000</td>\n",
       "    </tr>\n",
       "    <tr>\n",
       "      <th>max</th>\n",
       "      <td>3.000000</td>\n",
       "    </tr>\n",
       "  </tbody>\n",
       "</table>\n",
       "</div>"
      ],
      "text/plain": [
       "              b\n",
       "count  4.000000\n",
       "mean   1.500000\n",
       "std    1.290994\n",
       "min    0.000000\n",
       "25%    0.750000\n",
       "50%    1.500000\n",
       "75%    2.250000\n",
       "max    3.000000"
      ]
     },
     "execution_count": 105,
     "metadata": {},
     "output_type": "execute_result"
    }
   ],
   "source": [
    "frame.describe(include=[\"number\"])"
   ]
  },
  {
   "cell_type": "code",
   "execution_count": 106,
   "id": "6ebef6d7",
   "metadata": {},
   "outputs": [
    {
     "data": {
      "text/html": [
       "<div>\n",
       "<style scoped>\n",
       "    .dataframe tbody tr th:only-of-type {\n",
       "        vertical-align: middle;\n",
       "    }\n",
       "\n",
       "    .dataframe tbody tr th {\n",
       "        vertical-align: top;\n",
       "    }\n",
       "\n",
       "    .dataframe thead th {\n",
       "        text-align: right;\n",
       "    }\n",
       "</style>\n",
       "<table border=\"1\" class=\"dataframe\">\n",
       "  <thead>\n",
       "    <tr style=\"text-align: right;\">\n",
       "      <th></th>\n",
       "      <th>a</th>\n",
       "      <th>b</th>\n",
       "    </tr>\n",
       "  </thead>\n",
       "  <tbody>\n",
       "    <tr>\n",
       "      <th>count</th>\n",
       "      <td>4</td>\n",
       "      <td>4.000000</td>\n",
       "    </tr>\n",
       "    <tr>\n",
       "      <th>unique</th>\n",
       "      <td>2</td>\n",
       "      <td>NaN</td>\n",
       "    </tr>\n",
       "    <tr>\n",
       "      <th>top</th>\n",
       "      <td>Yes</td>\n",
       "      <td>NaN</td>\n",
       "    </tr>\n",
       "    <tr>\n",
       "      <th>freq</th>\n",
       "      <td>2</td>\n",
       "      <td>NaN</td>\n",
       "    </tr>\n",
       "    <tr>\n",
       "      <th>mean</th>\n",
       "      <td>NaN</td>\n",
       "      <td>1.500000</td>\n",
       "    </tr>\n",
       "    <tr>\n",
       "      <th>std</th>\n",
       "      <td>NaN</td>\n",
       "      <td>1.290994</td>\n",
       "    </tr>\n",
       "    <tr>\n",
       "      <th>min</th>\n",
       "      <td>NaN</td>\n",
       "      <td>0.000000</td>\n",
       "    </tr>\n",
       "    <tr>\n",
       "      <th>25%</th>\n",
       "      <td>NaN</td>\n",
       "      <td>0.750000</td>\n",
       "    </tr>\n",
       "    <tr>\n",
       "      <th>50%</th>\n",
       "      <td>NaN</td>\n",
       "      <td>1.500000</td>\n",
       "    </tr>\n",
       "    <tr>\n",
       "      <th>75%</th>\n",
       "      <td>NaN</td>\n",
       "      <td>2.250000</td>\n",
       "    </tr>\n",
       "    <tr>\n",
       "      <th>max</th>\n",
       "      <td>NaN</td>\n",
       "      <td>3.000000</td>\n",
       "    </tr>\n",
       "  </tbody>\n",
       "</table>\n",
       "</div>"
      ],
      "text/plain": [
       "          a         b\n",
       "count     4  4.000000\n",
       "unique    2       NaN\n",
       "top     Yes       NaN\n",
       "freq      2       NaN\n",
       "mean    NaN  1.500000\n",
       "std     NaN  1.290994\n",
       "min     NaN  0.000000\n",
       "25%     NaN  0.750000\n",
       "50%     NaN  1.500000\n",
       "75%     NaN  2.250000\n",
       "max     NaN  3.000000"
      ]
     },
     "execution_count": 106,
     "metadata": {},
     "output_type": "execute_result"
    }
   ],
   "source": [
    "frame.describe(include=\"all\")"
   ]
  },
  {
   "cell_type": "code",
   "execution_count": 108,
   "id": "445b5c5b",
   "metadata": {},
   "outputs": [
    {
     "data": {
      "text/plain": [
       "0    0.416804\n",
       "1    0.599824\n",
       "2    1.061644\n",
       "3    0.475948\n",
       "4    0.219582\n",
       "dtype: float64"
      ]
     },
     "execution_count": 108,
     "metadata": {},
     "output_type": "execute_result"
    }
   ],
   "source": [
    "s1 = pd.Series(np.random.randn(5))\n",
    "s1"
   ]
  },
  {
   "cell_type": "code",
   "execution_count": 109,
   "id": "6eec2d76",
   "metadata": {},
   "outputs": [
    {
     "data": {
      "text/plain": [
       "(4, 2)"
      ]
     },
     "execution_count": 109,
     "metadata": {},
     "output_type": "execute_result"
    }
   ],
   "source": [
    "s1.idxmin(), s1.idxmax()"
   ]
  },
  {
   "cell_type": "code",
   "execution_count": 110,
   "id": "50e882b8",
   "metadata": {},
   "outputs": [
    {
     "data": {
      "text/html": [
       "<div>\n",
       "<style scoped>\n",
       "    .dataframe tbody tr th:only-of-type {\n",
       "        vertical-align: middle;\n",
       "    }\n",
       "\n",
       "    .dataframe tbody tr th {\n",
       "        vertical-align: top;\n",
       "    }\n",
       "\n",
       "    .dataframe thead th {\n",
       "        text-align: right;\n",
       "    }\n",
       "</style>\n",
       "<table border=\"1\" class=\"dataframe\">\n",
       "  <thead>\n",
       "    <tr style=\"text-align: right;\">\n",
       "      <th></th>\n",
       "      <th>A</th>\n",
       "      <th>B</th>\n",
       "      <th>C</th>\n",
       "    </tr>\n",
       "  </thead>\n",
       "  <tbody>\n",
       "    <tr>\n",
       "      <th>0</th>\n",
       "      <td>-0.963447</td>\n",
       "      <td>-0.353149</td>\n",
       "      <td>-0.749629</td>\n",
       "    </tr>\n",
       "    <tr>\n",
       "      <th>1</th>\n",
       "      <td>-1.223804</td>\n",
       "      <td>1.442604</td>\n",
       "      <td>-0.526273</td>\n",
       "    </tr>\n",
       "    <tr>\n",
       "      <th>2</th>\n",
       "      <td>-0.138254</td>\n",
       "      <td>0.559683</td>\n",
       "      <td>0.190601</td>\n",
       "    </tr>\n",
       "    <tr>\n",
       "      <th>3</th>\n",
       "      <td>-2.039707</td>\n",
       "      <td>-0.957862</td>\n",
       "      <td>0.248311</td>\n",
       "    </tr>\n",
       "    <tr>\n",
       "      <th>4</th>\n",
       "      <td>0.400016</td>\n",
       "      <td>-0.040743</td>\n",
       "      <td>0.654431</td>\n",
       "    </tr>\n",
       "  </tbody>\n",
       "</table>\n",
       "</div>"
      ],
      "text/plain": [
       "          A         B         C\n",
       "0 -0.963447 -0.353149 -0.749629\n",
       "1 -1.223804  1.442604 -0.526273\n",
       "2 -0.138254  0.559683  0.190601\n",
       "3 -2.039707 -0.957862  0.248311\n",
       "4  0.400016 -0.040743  0.654431"
      ]
     },
     "execution_count": 110,
     "metadata": {},
     "output_type": "execute_result"
    }
   ],
   "source": [
    "df1 = pd.DataFrame(np.random.randn(5, 3), columns=[\"A\", \"B\", \"C\"])\n",
    "\n",
    "df1"
   ]
  },
  {
   "cell_type": "code",
   "execution_count": 111,
   "id": "2278a20b",
   "metadata": {},
   "outputs": [
    {
     "data": {
      "text/plain": [
       "A    3\n",
       "B    3\n",
       "C    0\n",
       "dtype: int64"
      ]
     },
     "execution_count": 111,
     "metadata": {},
     "output_type": "execute_result"
    }
   ],
   "source": [
    "df1.idxmin(axis=0)"
   ]
  },
  {
   "cell_type": "code",
   "execution_count": 113,
   "id": "4e1251b7",
   "metadata": {},
   "outputs": [
    {
     "data": {
      "text/plain": [
       "0    B\n",
       "1    B\n",
       "2    B\n",
       "3    C\n",
       "4    C\n",
       "dtype: object"
      ]
     },
     "execution_count": 113,
     "metadata": {},
     "output_type": "execute_result"
    }
   ],
   "source": [
    "df1.idxmax(axis=1)"
   ]
  },
  {
   "cell_type": "code",
   "execution_count": 114,
   "id": "29d30631",
   "metadata": {},
   "outputs": [
    {
     "data": {
      "text/html": [
       "<div>\n",
       "<style scoped>\n",
       "    .dataframe tbody tr th:only-of-type {\n",
       "        vertical-align: middle;\n",
       "    }\n",
       "\n",
       "    .dataframe tbody tr th {\n",
       "        vertical-align: top;\n",
       "    }\n",
       "\n",
       "    .dataframe thead th {\n",
       "        text-align: right;\n",
       "    }\n",
       "</style>\n",
       "<table border=\"1\" class=\"dataframe\">\n",
       "  <thead>\n",
       "    <tr style=\"text-align: right;\">\n",
       "      <th></th>\n",
       "      <th>A</th>\n",
       "    </tr>\n",
       "  </thead>\n",
       "  <tbody>\n",
       "    <tr>\n",
       "      <th>e</th>\n",
       "      <td>2.0</td>\n",
       "    </tr>\n",
       "    <tr>\n",
       "      <th>d</th>\n",
       "      <td>1.0</td>\n",
       "    </tr>\n",
       "    <tr>\n",
       "      <th>c</th>\n",
       "      <td>1.0</td>\n",
       "    </tr>\n",
       "    <tr>\n",
       "      <th>b</th>\n",
       "      <td>3.0</td>\n",
       "    </tr>\n",
       "    <tr>\n",
       "      <th>a</th>\n",
       "      <td>NaN</td>\n",
       "    </tr>\n",
       "  </tbody>\n",
       "</table>\n",
       "</div>"
      ],
      "text/plain": [
       "     A\n",
       "e  2.0\n",
       "d  1.0\n",
       "c  1.0\n",
       "b  3.0\n",
       "a  NaN"
      ]
     },
     "execution_count": 114,
     "metadata": {},
     "output_type": "execute_result"
    }
   ],
   "source": [
    "df3 = pd.DataFrame([2, 1, 1, 3, np.nan], columns=[\"A\"], index=list(\"edcba\"))\n",
    "\n",
    "df3"
   ]
  },
  {
   "cell_type": "code",
   "execution_count": 115,
   "id": "9e710546",
   "metadata": {},
   "outputs": [
    {
     "data": {
      "text/plain": [
       "'d'"
      ]
     },
     "execution_count": 115,
     "metadata": {},
     "output_type": "execute_result"
    }
   ],
   "source": [
    "df3[\"A\"].idxmin()"
   ]
  },
  {
   "cell_type": "code",
   "execution_count": 116,
   "id": "add9bfae",
   "metadata": {},
   "outputs": [
    {
     "data": {
      "text/plain": [
       "array([6, 5, 1, 1, 3, 6, 4, 4, 2, 5, 2, 5, 1, 4, 3, 0, 5, 0, 1, 3, 1, 1,\n",
       "       1, 2, 6, 5, 5, 3, 5, 3, 1, 1, 2, 1, 2, 2, 5, 3, 5, 4, 1, 1, 4, 5,\n",
       "       5, 0, 5, 3, 0, 4])"
      ]
     },
     "execution_count": 116,
     "metadata": {},
     "output_type": "execute_result"
    }
   ],
   "source": [
    "data = np.random.randint(0, 7, size=50)\n",
    "\n",
    "data"
   ]
  },
  {
   "cell_type": "code",
   "execution_count": 117,
   "id": "e7469785",
   "metadata": {},
   "outputs": [
    {
     "data": {
      "text/plain": [
       "5    12\n",
       "1    12\n",
       "3     7\n",
       "4     6\n",
       "2     6\n",
       "0     4\n",
       "6     3\n",
       "Name: count, dtype: int64"
      ]
     },
     "execution_count": 117,
     "metadata": {},
     "output_type": "execute_result"
    }
   ],
   "source": [
    "s = pd.Series(data)\n",
    "\n",
    "s.value_counts()"
   ]
  },
  {
   "cell_type": "code",
   "execution_count": 118,
   "id": "f3b38ede",
   "metadata": {},
   "outputs": [
    {
     "data": {
      "text/html": [
       "<div>\n",
       "<style scoped>\n",
       "    .dataframe tbody tr th:only-of-type {\n",
       "        vertical-align: middle;\n",
       "    }\n",
       "\n",
       "    .dataframe tbody tr th {\n",
       "        vertical-align: top;\n",
       "    }\n",
       "\n",
       "    .dataframe thead th {\n",
       "        text-align: right;\n",
       "    }\n",
       "</style>\n",
       "<table border=\"1\" class=\"dataframe\">\n",
       "  <thead>\n",
       "    <tr style=\"text-align: right;\">\n",
       "      <th></th>\n",
       "      <th>a</th>\n",
       "      <th>b</th>\n",
       "    </tr>\n",
       "  </thead>\n",
       "  <tbody>\n",
       "    <tr>\n",
       "      <th>0</th>\n",
       "      <td>1</td>\n",
       "      <td>x</td>\n",
       "    </tr>\n",
       "    <tr>\n",
       "      <th>1</th>\n",
       "      <td>2</td>\n",
       "      <td>x</td>\n",
       "    </tr>\n",
       "    <tr>\n",
       "      <th>2</th>\n",
       "      <td>3</td>\n",
       "      <td>y</td>\n",
       "    </tr>\n",
       "    <tr>\n",
       "      <th>3</th>\n",
       "      <td>4</td>\n",
       "      <td>y</td>\n",
       "    </tr>\n",
       "  </tbody>\n",
       "</table>\n",
       "</div>"
      ],
      "text/plain": [
       "   a  b\n",
       "0  1  x\n",
       "1  2  x\n",
       "2  3  y\n",
       "3  4  y"
      ]
     },
     "execution_count": 118,
     "metadata": {},
     "output_type": "execute_result"
    }
   ],
   "source": [
    "data = {\"a\": [1, 2, 3, 4], \"b\": [\"x\", \"x\", \"y\", \"y\"]}\n",
    "\n",
    "frame = pd.DataFrame(data)\n",
    "\n",
    "frame"
   ]
  },
  {
   "cell_type": "code",
   "execution_count": 119,
   "id": "433e0431",
   "metadata": {},
   "outputs": [
    {
     "data": {
      "text/plain": [
       "a  b\n",
       "1  x    1\n",
       "2  x    1\n",
       "3  y    1\n",
       "4  y    1\n",
       "Name: count, dtype: int64"
      ]
     },
     "execution_count": 119,
     "metadata": {},
     "output_type": "execute_result"
    }
   ],
   "source": [
    "frame.value_counts()"
   ]
  },
  {
   "cell_type": "code",
   "execution_count": 120,
   "id": "dc70e453",
   "metadata": {},
   "outputs": [
    {
     "data": {
      "text/plain": [
       "0    3\n",
       "1    7\n",
       "dtype: int64"
      ]
     },
     "execution_count": 120,
     "metadata": {},
     "output_type": "execute_result"
    }
   ],
   "source": [
    "s5 = pd.Series([1, 1, 3, 3, 3, 5, 5, 7, 7, 7])\n",
    "\n",
    "s5.mode()"
   ]
  },
  {
   "cell_type": "code",
   "execution_count": 126,
   "id": "ae9bd67b",
   "metadata": {},
   "outputs": [
    {
     "data": {
      "text/html": [
       "<div>\n",
       "<style scoped>\n",
       "    .dataframe tbody tr th:only-of-type {\n",
       "        vertical-align: middle;\n",
       "    }\n",
       "\n",
       "    .dataframe tbody tr th {\n",
       "        vertical-align: top;\n",
       "    }\n",
       "\n",
       "    .dataframe thead th {\n",
       "        text-align: right;\n",
       "    }\n",
       "</style>\n",
       "<table border=\"1\" class=\"dataframe\">\n",
       "  <thead>\n",
       "    <tr style=\"text-align: right;\">\n",
       "      <th></th>\n",
       "      <th>A</th>\n",
       "      <th>B</th>\n",
       "    </tr>\n",
       "  </thead>\n",
       "  <tbody>\n",
       "    <tr>\n",
       "      <th>0</th>\n",
       "      <td>3</td>\n",
       "      <td>9</td>\n",
       "    </tr>\n",
       "    <tr>\n",
       "      <th>1</th>\n",
       "      <td>4</td>\n",
       "      <td>-8</td>\n",
       "    </tr>\n",
       "    <tr>\n",
       "      <th>2</th>\n",
       "      <td>6</td>\n",
       "      <td>8</td>\n",
       "    </tr>\n",
       "    <tr>\n",
       "      <th>3</th>\n",
       "      <td>2</td>\n",
       "      <td>5</td>\n",
       "    </tr>\n",
       "    <tr>\n",
       "      <th>4</th>\n",
       "      <td>2</td>\n",
       "      <td>11</td>\n",
       "    </tr>\n",
       "  </tbody>\n",
       "</table>\n",
       "</div>"
      ],
      "text/plain": [
       "   A   B\n",
       "0  3   9\n",
       "1  4  -8\n",
       "2  6   8\n",
       "3  2   5\n",
       "4  2  11"
      ]
     },
     "execution_count": 126,
     "metadata": {},
     "output_type": "execute_result"
    }
   ],
   "source": [
    "df5 = pd.DataFrame(\n",
    "\n",
    "    {\n",
    "\n",
    "        \"A\": np.random.randint(0, 7, size=50),\n",
    "\n",
    "        \"B\": np.random.randint(-10, 15, size=50),\n",
    "\n",
    "    }\n",
    "\n",
    ")\n",
    "\n",
    "df5.head()"
   ]
  },
  {
   "cell_type": "code",
   "execution_count": 127,
   "id": "2d829065",
   "metadata": {},
   "outputs": [
    {
     "data": {
      "text/html": [
       "<div>\n",
       "<style scoped>\n",
       "    .dataframe tbody tr th:only-of-type {\n",
       "        vertical-align: middle;\n",
       "    }\n",
       "\n",
       "    .dataframe tbody tr th {\n",
       "        vertical-align: top;\n",
       "    }\n",
       "\n",
       "    .dataframe thead th {\n",
       "        text-align: right;\n",
       "    }\n",
       "</style>\n",
       "<table border=\"1\" class=\"dataframe\">\n",
       "  <thead>\n",
       "    <tr style=\"text-align: right;\">\n",
       "      <th></th>\n",
       "      <th>A</th>\n",
       "      <th>B</th>\n",
       "    </tr>\n",
       "  </thead>\n",
       "  <tbody>\n",
       "    <tr>\n",
       "      <th>0</th>\n",
       "      <td>4</td>\n",
       "      <td>4</td>\n",
       "    </tr>\n",
       "  </tbody>\n",
       "</table>\n",
       "</div>"
      ],
      "text/plain": [
       "   A  B\n",
       "0  4  4"
      ]
     },
     "execution_count": 127,
     "metadata": {},
     "output_type": "execute_result"
    }
   ],
   "source": [
    "df5.mode()"
   ]
  },
  {
   "cell_type": "code",
   "execution_count": 128,
   "id": "95771207",
   "metadata": {},
   "outputs": [
    {
     "data": {
      "text/plain": [
       "array([ 1.08398043, -0.12091578, -0.34865767, -0.7361803 , -0.75451588,\n",
       "       -0.51104198,  2.13189682,  0.48958342,  1.02261704, -2.2568324 ,\n",
       "        0.75001553, -0.82640328,  0.22246626, -0.71057076, -0.73159076,\n",
       "        1.06369519,  1.91975033,  1.3028142 , -1.34650138, -0.99014711])"
      ]
     },
     "execution_count": 128,
     "metadata": {},
     "output_type": "execute_result"
    }
   ],
   "source": [
    "arr = np.random.randn(20)\n",
    "\n",
    "arr"
   ]
  },
  {
   "cell_type": "code",
   "execution_count": 142,
   "id": "eb01ac85",
   "metadata": {},
   "outputs": [
    {
     "data": {
      "text/plain": [
       "[(1.035, 2.132], (-1.16, -0.0625], (-1.16, -0.0625], (-1.16, -0.0625], (-1.16, -0.0625], ..., (1.035, 2.132], (1.035, 2.132], (1.035, 2.132], (-2.261, -1.16], (-1.16, -0.0625]]\n",
       "Length: 20\n",
       "Categories (4, interval[float64, right]): [(-2.261, -1.16] < (-1.16, -0.0625] < (-0.0625, 1.035] < (1.035, 2.132]]"
      ]
     },
     "execution_count": 142,
     "metadata": {},
     "output_type": "execute_result"
    }
   ],
   "source": [
    "factor = pd.cut(arr, 4)\n",
    "factor"
   ]
  },
  {
   "cell_type": "code",
   "execution_count": 143,
   "id": "6a96888a",
   "metadata": {},
   "outputs": [
    {
     "data": {
      "text/plain": [
       "Interval(1.035, 2.132, closed='right')"
      ]
     },
     "execution_count": 143,
     "metadata": {},
     "output_type": "execute_result"
    }
   ],
   "source": [
    "factor[0]"
   ]
  },
  {
   "cell_type": "code",
   "execution_count": 131,
   "id": "f36241c0",
   "metadata": {},
   "outputs": [
    {
     "data": {
      "text/plain": [
       "[(1, 5], (-1, 0], (-1, 0], (-1, 0], (-1, 0], ..., (1, 5], (1, 5], (1, 5], (-5, -1], (-1, 0]]\n",
       "Length: 20\n",
       "Categories (4, interval[int64, right]): [(-5, -1] < (-1, 0] < (0, 1] < (1, 5]]"
      ]
     },
     "execution_count": 131,
     "metadata": {},
     "output_type": "execute_result"
    }
   ],
   "source": [
    "factor = pd.cut(arr, [-5, -1, 0, 1, 5])\n",
    "\n",
    "factor"
   ]
  },
  {
   "cell_type": "code",
   "execution_count": 144,
   "id": "aa4cde5e",
   "metadata": {},
   "outputs": [
    {
     "data": {
      "text/plain": [
       "[(0.633, 2.087], (0.0851, 0.633], (0.633, 2.087], (0.633, 2.087], (-0.738, 0.0851], ..., (-2.538, -0.738], (-2.538, -0.738], (0.0851, 0.633], (0.633, 2.087], (-0.738, 0.0851]]\n",
       "Length: 30\n",
       "Categories (4, interval[float64, right]): [(-2.538, -0.738] < (-0.738, 0.0851] < (0.0851, 0.633] < (0.633, 2.087]]"
      ]
     },
     "execution_count": 144,
     "metadata": {},
     "output_type": "execute_result"
    }
   ],
   "source": [
    "arr = np.random.randn(30)\n",
    "\n",
    "factor = pd.qcut(arr, [0, 0.25, 0.5, 0.75, 1])\n",
    "\n",
    "factor"
   ]
  },
  {
   "cell_type": "code",
   "execution_count": 145,
   "id": "31fb95f8",
   "metadata": {},
   "outputs": [
    {
     "data": {
      "text/plain": [
       "[(0.0, inf], (0.0, inf], (-inf, 0.0], (-inf, 0.0], (-inf, 0.0], ..., (-inf, 0.0], (-inf, 0.0], (-inf, 0.0], (0.0, inf], (-inf, 0.0]]\n",
       "Length: 20\n",
       "Categories (2, interval[float64, right]): [(-inf, 0.0] < (0.0, inf]]"
      ]
     },
     "execution_count": 145,
     "metadata": {},
     "output_type": "execute_result"
    }
   ],
   "source": [
    "arr = np.random.randn(20)\n",
    "\n",
    "factor = pd.cut(arr, [-np.inf, 0, np.inf])\n",
    "\n",
    "factor"
   ]
  },
  {
   "cell_type": "code",
   "execution_count": 146,
   "id": "06fb570b",
   "metadata": {},
   "outputs": [
    {
     "data": {
      "text/html": [
       "<div>\n",
       "<style scoped>\n",
       "    .dataframe tbody tr th:only-of-type {\n",
       "        vertical-align: middle;\n",
       "    }\n",
       "\n",
       "    .dataframe tbody tr th {\n",
       "        vertical-align: top;\n",
       "    }\n",
       "\n",
       "    .dataframe thead th {\n",
       "        text-align: right;\n",
       "    }\n",
       "</style>\n",
       "<table border=\"1\" class=\"dataframe\">\n",
       "  <thead>\n",
       "    <tr style=\"text-align: right;\">\n",
       "      <th></th>\n",
       "      <th>city_and_code</th>\n",
       "    </tr>\n",
       "  </thead>\n",
       "  <tbody>\n",
       "    <tr>\n",
       "      <th>0</th>\n",
       "      <td>Chicago, IL</td>\n",
       "    </tr>\n",
       "  </tbody>\n",
       "</table>\n",
       "</div>"
      ],
      "text/plain": [
       "  city_and_code\n",
       "0   Chicago, IL"
      ]
     },
     "execution_count": 146,
     "metadata": {},
     "output_type": "execute_result"
    }
   ],
   "source": [
    "def extract_city_name(df):\n",
    "\n",
    "    \"\"\"\n",
    "\n",
    "    Chicago, IL -> Chicago for city_name column\n",
    "\n",
    "    \"\"\"\n",
    "\n",
    "    df[\"city_name\"] = df[\"city_and_code\"].str.split(\",\").str.get(0)\n",
    "\n",
    "    return df\n",
    "\n",
    "\n",
    "\n",
    "def add_country_name(df, country_name=None):\n",
    "\n",
    "    \"\"\"\n",
    "\n",
    "    Chicago -> Chicago-US for city_name column\n",
    "\n",
    "    \"\"\"\n",
    "\n",
    "    col = \"city_name\"\n",
    "\n",
    "    df[\"city_and_country\"] = df[col] + country_name\n",
    "\n",
    "    return df\n",
    "\n",
    "\n",
    "\n",
    "df_p = pd.DataFrame({\"city_and_code\": [\"Chicago, IL\"]})\n",
    "df_p"
   ]
  },
  {
   "cell_type": "code",
   "execution_count": 147,
   "id": "d3ee8df1",
   "metadata": {},
   "outputs": [
    {
     "data": {
      "text/html": [
       "<div>\n",
       "<style scoped>\n",
       "    .dataframe tbody tr th:only-of-type {\n",
       "        vertical-align: middle;\n",
       "    }\n",
       "\n",
       "    .dataframe tbody tr th {\n",
       "        vertical-align: top;\n",
       "    }\n",
       "\n",
       "    .dataframe thead th {\n",
       "        text-align: right;\n",
       "    }\n",
       "</style>\n",
       "<table border=\"1\" class=\"dataframe\">\n",
       "  <thead>\n",
       "    <tr style=\"text-align: right;\">\n",
       "      <th></th>\n",
       "      <th>city_and_code</th>\n",
       "      <th>city_name</th>\n",
       "      <th>city_and_country</th>\n",
       "    </tr>\n",
       "  </thead>\n",
       "  <tbody>\n",
       "    <tr>\n",
       "      <th>0</th>\n",
       "      <td>Chicago, IL</td>\n",
       "      <td>Chicago</td>\n",
       "      <td>ChicagoUS</td>\n",
       "    </tr>\n",
       "  </tbody>\n",
       "</table>\n",
       "</div>"
      ],
      "text/plain": [
       "  city_and_code city_name city_and_country\n",
       "0   Chicago, IL   Chicago        ChicagoUS"
      ]
     },
     "execution_count": 147,
     "metadata": {},
     "output_type": "execute_result"
    }
   ],
   "source": [
    "add_country_name(extract_city_name(df_p), country_name=\"US\")"
   ]
  },
  {
   "cell_type": "code",
   "execution_count": 148,
   "id": "45ce6472",
   "metadata": {},
   "outputs": [
    {
     "data": {
      "text/html": [
       "<div>\n",
       "<style scoped>\n",
       "    .dataframe tbody tr th:only-of-type {\n",
       "        vertical-align: middle;\n",
       "    }\n",
       "\n",
       "    .dataframe tbody tr th {\n",
       "        vertical-align: top;\n",
       "    }\n",
       "\n",
       "    .dataframe thead th {\n",
       "        text-align: right;\n",
       "    }\n",
       "</style>\n",
       "<table border=\"1\" class=\"dataframe\">\n",
       "  <thead>\n",
       "    <tr style=\"text-align: right;\">\n",
       "      <th></th>\n",
       "      <th>city_and_code</th>\n",
       "      <th>city_name</th>\n",
       "      <th>city_and_country</th>\n",
       "    </tr>\n",
       "  </thead>\n",
       "  <tbody>\n",
       "    <tr>\n",
       "      <th>0</th>\n",
       "      <td>Chicago, IL</td>\n",
       "      <td>Chicago</td>\n",
       "      <td>ChicagoUS</td>\n",
       "    </tr>\n",
       "  </tbody>\n",
       "</table>\n",
       "</div>"
      ],
      "text/plain": [
       "  city_and_code city_name city_and_country\n",
       "0   Chicago, IL   Chicago        ChicagoUS"
      ]
     },
     "execution_count": 148,
     "metadata": {},
     "output_type": "execute_result"
    }
   ],
   "source": [
    "df_p.pipe(extract_city_name).pipe(add_country_name, country_name=\"US\")"
   ]
  },
  {
   "cell_type": "code",
   "execution_count": 155,
   "id": "5e43e2b5",
   "metadata": {},
   "outputs": [],
   "source": [
    "import statsmodels.formula.api as sm\n",
    "\n",
    "bb = pd.read_csv(r\"C:\\Users\\YOSSI\\Downloads/baseball.csv\", index_col=\"id\")"
   ]
  },
  {
   "cell_type": "code",
   "execution_count": 156,
   "id": "28f6fc2d",
   "metadata": {},
   "outputs": [
    {
     "data": {
      "text/html": [
       "<table class=\"simpletable\">\n",
       "<caption>OLS Regression Results</caption>\n",
       "<tr>\n",
       "  <th>Dep. Variable:</th>           <td>hr</td>        <th>  R-squared:         </th> <td>   0.685</td>\n",
       "</tr>\n",
       "<tr>\n",
       "  <th>Model:</th>                   <td>OLS</td>       <th>  Adj. R-squared:    </th> <td>   0.665</td>\n",
       "</tr>\n",
       "<tr>\n",
       "  <th>Method:</th>             <td>Least Squares</td>  <th>  F-statistic:       </th> <td>   34.28</td>\n",
       "</tr>\n",
       "<tr>\n",
       "  <th>Date:</th>             <td>Thu, 17 Oct 2024</td> <th>  Prob (F-statistic):</th> <td>3.48e-15</td>\n",
       "</tr>\n",
       "<tr>\n",
       "  <th>Time:</th>                 <td>19:50:47</td>     <th>  Log-Likelihood:    </th> <td> -205.92</td>\n",
       "</tr>\n",
       "<tr>\n",
       "  <th>No. Observations:</th>      <td>    68</td>      <th>  AIC:               </th> <td>   421.8</td>\n",
       "</tr>\n",
       "<tr>\n",
       "  <th>Df Residuals:</th>          <td>    63</td>      <th>  BIC:               </th> <td>   432.9</td>\n",
       "</tr>\n",
       "<tr>\n",
       "  <th>Df Model:</th>              <td>     4</td>      <th>                     </th>     <td> </td>   \n",
       "</tr>\n",
       "<tr>\n",
       "  <th>Covariance Type:</th>      <td>nonrobust</td>    <th>                     </th>     <td> </td>   \n",
       "</tr>\n",
       "</table>\n",
       "<table class=\"simpletable\">\n",
       "<tr>\n",
       "       <td></td>          <th>coef</th>     <th>std err</th>      <th>t</th>      <th>P>|t|</th>  <th>[0.025</th>    <th>0.975]</th>  \n",
       "</tr>\n",
       "<tr>\n",
       "  <th>Intercept</th>   <td>-8484.7720</td> <td> 4664.146</td> <td>   -1.819</td> <td> 0.074</td> <td>-1.78e+04</td> <td>  835.780</td>\n",
       "</tr>\n",
       "<tr>\n",
       "  <th>C(lg)[T.NL]</th> <td>   -2.2736</td> <td>    1.325</td> <td>   -1.716</td> <td> 0.091</td> <td>   -4.922</td> <td>    0.375</td>\n",
       "</tr>\n",
       "<tr>\n",
       "  <th>ln_h</th>        <td>   -1.3542</td> <td>    0.875</td> <td>   -1.547</td> <td> 0.127</td> <td>   -3.103</td> <td>    0.395</td>\n",
       "</tr>\n",
       "<tr>\n",
       "  <th>year</th>        <td>    4.2277</td> <td>    2.324</td> <td>    1.819</td> <td> 0.074</td> <td>   -0.417</td> <td>    8.872</td>\n",
       "</tr>\n",
       "<tr>\n",
       "  <th>g</th>           <td>    0.1841</td> <td>    0.029</td> <td>    6.258</td> <td> 0.000</td> <td>    0.125</td> <td>    0.243</td>\n",
       "</tr>\n",
       "</table>\n",
       "<table class=\"simpletable\">\n",
       "<tr>\n",
       "  <th>Omnibus:</th>       <td>10.875</td> <th>  Durbin-Watson:     </th> <td>   1.999</td>\n",
       "</tr>\n",
       "<tr>\n",
       "  <th>Prob(Omnibus):</th> <td> 0.004</td> <th>  Jarque-Bera (JB):  </th> <td>  17.298</td>\n",
       "</tr>\n",
       "<tr>\n",
       "  <th>Skew:</th>          <td> 0.537</td> <th>  Prob(JB):          </th> <td>0.000175</td>\n",
       "</tr>\n",
       "<tr>\n",
       "  <th>Kurtosis:</th>      <td> 5.225</td> <th>  Cond. No.          </th> <td>1.49e+07</td>\n",
       "</tr>\n",
       "</table><br/><br/>Notes:<br/>[1] Standard Errors assume that the covariance matrix of the errors is correctly specified.<br/>[2] The condition number is large, 1.49e+07. This might indicate that there are<br/>strong multicollinearity or other numerical problems."
      ],
      "text/plain": [
       "<class 'statsmodels.iolib.summary.Summary'>\n",
       "\"\"\"\n",
       "                            OLS Regression Results                            \n",
       "==============================================================================\n",
       "Dep. Variable:                     hr   R-squared:                       0.685\n",
       "Model:                            OLS   Adj. R-squared:                  0.665\n",
       "Method:                 Least Squares   F-statistic:                     34.28\n",
       "Date:                Thu, 17 Oct 2024   Prob (F-statistic):           3.48e-15\n",
       "Time:                        19:50:47   Log-Likelihood:                -205.92\n",
       "No. Observations:                  68   AIC:                             421.8\n",
       "Df Residuals:                      63   BIC:                             432.9\n",
       "Df Model:                           4                                         \n",
       "Covariance Type:            nonrobust                                         \n",
       "===============================================================================\n",
       "                  coef    std err          t      P>|t|      [0.025      0.975]\n",
       "-------------------------------------------------------------------------------\n",
       "Intercept   -8484.7720   4664.146     -1.819      0.074   -1.78e+04     835.780\n",
       "C(lg)[T.NL]    -2.2736      1.325     -1.716      0.091      -4.922       0.375\n",
       "ln_h           -1.3542      0.875     -1.547      0.127      -3.103       0.395\n",
       "year            4.2277      2.324      1.819      0.074      -0.417       8.872\n",
       "g               0.1841      0.029      6.258      0.000       0.125       0.243\n",
       "==============================================================================\n",
       "Omnibus:                       10.875   Durbin-Watson:                   1.999\n",
       "Prob(Omnibus):                  0.004   Jarque-Bera (JB):               17.298\n",
       "Skew:                           0.537   Prob(JB):                     0.000175\n",
       "Kurtosis:                       5.225   Cond. No.                     1.49e+07\n",
       "==============================================================================\n",
       "\n",
       "Notes:\n",
       "[1] Standard Errors assume that the covariance matrix of the errors is correctly specified.\n",
       "[2] The condition number is large, 1.49e+07. This might indicate that there are\n",
       "strong multicollinearity or other numerical problems.\n",
       "\"\"\""
      ]
     },
     "execution_count": 156,
     "metadata": {},
     "output_type": "execute_result"
    }
   ],
   "source": [
    "(\n",
    "\n",
    "    bb.query(\"h > 0\")\n",
    "\n",
    "    .assign(ln_h=lambda df: np.log(df.h))\n",
    "\n",
    "    .pipe((sm.ols, \"data\"), \"hr ~ ln_h + year + g + C(lg)\")\n",
    "\n",
    "    .fit()\n",
    "\n",
    "    .summary()\n",
    "\n",
    ")"
   ]
  },
  {
   "cell_type": "code",
   "execution_count": 158,
   "id": "7c51e50f",
   "metadata": {},
   "outputs": [
    {
     "data": {
      "text/html": [
       "<div>\n",
       "<style scoped>\n",
       "    .dataframe tbody tr th:only-of-type {\n",
       "        vertical-align: middle;\n",
       "    }\n",
       "\n",
       "    .dataframe tbody tr th {\n",
       "        vertical-align: top;\n",
       "    }\n",
       "\n",
       "    .dataframe thead th {\n",
       "        text-align: right;\n",
       "    }\n",
       "</style>\n",
       "<table border=\"1\" class=\"dataframe\">\n",
       "  <thead>\n",
       "    <tr style=\"text-align: right;\">\n",
       "      <th></th>\n",
       "      <th>one</th>\n",
       "      <th>two</th>\n",
       "      <th>three</th>\n",
       "    </tr>\n",
       "  </thead>\n",
       "  <tbody>\n",
       "    <tr>\n",
       "      <th>a</th>\n",
       "      <td>0.342308</td>\n",
       "      <td>-0.698858</td>\n",
       "      <td>NaN</td>\n",
       "    </tr>\n",
       "    <tr>\n",
       "      <th>b</th>\n",
       "      <td>1.393615</td>\n",
       "      <td>1.504289</td>\n",
       "      <td>-0.084983</td>\n",
       "    </tr>\n",
       "    <tr>\n",
       "      <th>c</th>\n",
       "      <td>0.098764</td>\n",
       "      <td>0.993717</td>\n",
       "      <td>-0.256028</td>\n",
       "    </tr>\n",
       "    <tr>\n",
       "      <th>d</th>\n",
       "      <td>NaN</td>\n",
       "      <td>-0.314475</td>\n",
       "      <td>-1.694800</td>\n",
       "    </tr>\n",
       "  </tbody>\n",
       "</table>\n",
       "</div>"
      ],
      "text/plain": [
       "        one       two     three\n",
       "a  0.342308 -0.698858       NaN\n",
       "b  1.393615  1.504289 -0.084983\n",
       "c  0.098764  0.993717 -0.256028\n",
       "d       NaN -0.314475 -1.694800"
      ]
     },
     "execution_count": 158,
     "metadata": {},
     "output_type": "execute_result"
    }
   ],
   "source": [
    "df"
   ]
  },
  {
   "cell_type": "code",
   "execution_count": 157,
   "id": "4f7f18be",
   "metadata": {},
   "outputs": [
    {
     "data": {
      "text/plain": [
       "one      0.611562\n",
       "two      0.371168\n",
       "three   -0.678604\n",
       "dtype: float64"
      ]
     },
     "execution_count": 157,
     "metadata": {},
     "output_type": "execute_result"
    }
   ],
   "source": [
    "df.apply(lambda x: np.mean(x))"
   ]
  },
  {
   "cell_type": "code",
   "execution_count": 159,
   "id": "b91f4739",
   "metadata": {},
   "outputs": [
    {
     "data": {
      "text/plain": [
       "a   -0.178275\n",
       "b    0.937640\n",
       "c    0.278818\n",
       "d   -1.004638\n",
       "dtype: float64"
      ]
     },
     "execution_count": 159,
     "metadata": {},
     "output_type": "execute_result"
    }
   ],
   "source": [
    "df.apply(lambda x: np.mean(x), axis=1)"
   ]
  },
  {
   "cell_type": "code",
   "execution_count": 160,
   "id": "10a03bc7",
   "metadata": {},
   "outputs": [
    {
     "data": {
      "text/plain": [
       "one      1.294851\n",
       "two      2.203147\n",
       "three    1.609817\n",
       "dtype: float64"
      ]
     },
     "execution_count": 160,
     "metadata": {},
     "output_type": "execute_result"
    }
   ],
   "source": [
    "df.apply(lambda x: x.max() - x.min())"
   ]
  },
  {
   "cell_type": "code",
   "execution_count": 161,
   "id": "0d1c663c",
   "metadata": {},
   "outputs": [
    {
     "data": {
      "text/html": [
       "<div>\n",
       "<style scoped>\n",
       "    .dataframe tbody tr th:only-of-type {\n",
       "        vertical-align: middle;\n",
       "    }\n",
       "\n",
       "    .dataframe tbody tr th {\n",
       "        vertical-align: top;\n",
       "    }\n",
       "\n",
       "    .dataframe thead th {\n",
       "        text-align: right;\n",
       "    }\n",
       "</style>\n",
       "<table border=\"1\" class=\"dataframe\">\n",
       "  <thead>\n",
       "    <tr style=\"text-align: right;\">\n",
       "      <th></th>\n",
       "      <th>one</th>\n",
       "      <th>two</th>\n",
       "      <th>three</th>\n",
       "    </tr>\n",
       "  </thead>\n",
       "  <tbody>\n",
       "    <tr>\n",
       "      <th>a</th>\n",
       "      <td>0.342308</td>\n",
       "      <td>-0.698858</td>\n",
       "      <td>NaN</td>\n",
       "    </tr>\n",
       "    <tr>\n",
       "      <th>b</th>\n",
       "      <td>1.735923</td>\n",
       "      <td>0.805430</td>\n",
       "      <td>-0.084983</td>\n",
       "    </tr>\n",
       "    <tr>\n",
       "      <th>c</th>\n",
       "      <td>1.834687</td>\n",
       "      <td>1.799148</td>\n",
       "      <td>-0.341011</td>\n",
       "    </tr>\n",
       "    <tr>\n",
       "      <th>d</th>\n",
       "      <td>NaN</td>\n",
       "      <td>1.484673</td>\n",
       "      <td>-2.035811</td>\n",
       "    </tr>\n",
       "  </tbody>\n",
       "</table>\n",
       "</div>"
      ],
      "text/plain": [
       "        one       two     three\n",
       "a  0.342308 -0.698858       NaN\n",
       "b  1.735923  0.805430 -0.084983\n",
       "c  1.834687  1.799148 -0.341011\n",
       "d       NaN  1.484673 -2.035811"
      ]
     },
     "execution_count": 161,
     "metadata": {},
     "output_type": "execute_result"
    }
   ],
   "source": [
    "df.apply(np.cumsum)"
   ]
  },
  {
   "cell_type": "code",
   "execution_count": 162,
   "id": "861ecb3b",
   "metadata": {},
   "outputs": [
    {
     "data": {
      "text/html": [
       "<div>\n",
       "<style scoped>\n",
       "    .dataframe tbody tr th:only-of-type {\n",
       "        vertical-align: middle;\n",
       "    }\n",
       "\n",
       "    .dataframe tbody tr th {\n",
       "        vertical-align: top;\n",
       "    }\n",
       "\n",
       "    .dataframe thead th {\n",
       "        text-align: right;\n",
       "    }\n",
       "</style>\n",
       "<table border=\"1\" class=\"dataframe\">\n",
       "  <thead>\n",
       "    <tr style=\"text-align: right;\">\n",
       "      <th></th>\n",
       "      <th>one</th>\n",
       "      <th>two</th>\n",
       "      <th>three</th>\n",
       "    </tr>\n",
       "  </thead>\n",
       "  <tbody>\n",
       "    <tr>\n",
       "      <th>a</th>\n",
       "      <td>1.408195</td>\n",
       "      <td>0.497152</td>\n",
       "      <td>NaN</td>\n",
       "    </tr>\n",
       "    <tr>\n",
       "      <th>b</th>\n",
       "      <td>4.029389</td>\n",
       "      <td>4.500952</td>\n",
       "      <td>0.918528</td>\n",
       "    </tr>\n",
       "    <tr>\n",
       "      <th>c</th>\n",
       "      <td>1.103806</td>\n",
       "      <td>2.701258</td>\n",
       "      <td>0.774120</td>\n",
       "    </tr>\n",
       "    <tr>\n",
       "      <th>d</th>\n",
       "      <td>NaN</td>\n",
       "      <td>0.730172</td>\n",
       "      <td>0.183636</td>\n",
       "    </tr>\n",
       "  </tbody>\n",
       "</table>\n",
       "</div>"
      ],
      "text/plain": [
       "        one       two     three\n",
       "a  1.408195  0.497152       NaN\n",
       "b  4.029389  4.500952  0.918528\n",
       "c  1.103806  2.701258  0.774120\n",
       "d       NaN  0.730172  0.183636"
      ]
     },
     "execution_count": 162,
     "metadata": {},
     "output_type": "execute_result"
    }
   ],
   "source": [
    "df.apply(np.exp)"
   ]
  },
  {
   "cell_type": "code",
   "execution_count": 163,
   "id": "ae668f23",
   "metadata": {},
   "outputs": [
    {
     "data": {
      "text/plain": [
       "one      0.611562\n",
       "two      0.371168\n",
       "three   -0.678604\n",
       "dtype: float64"
      ]
     },
     "execution_count": 163,
     "metadata": {},
     "output_type": "execute_result"
    }
   ],
   "source": [
    "df.apply(\"mean\")"
   ]
  },
  {
   "cell_type": "code",
   "execution_count": 164,
   "id": "23c38706",
   "metadata": {},
   "outputs": [
    {
     "data": {
      "text/plain": [
       "a   -0.178275\n",
       "b    0.937640\n",
       "c    0.278818\n",
       "d   -1.004638\n",
       "dtype: float64"
      ]
     },
     "execution_count": 164,
     "metadata": {},
     "output_type": "execute_result"
    }
   ],
   "source": [
    "df.apply(\"mean\", axis=1)"
   ]
  },
  {
   "cell_type": "code",
   "execution_count": 165,
   "id": "4532c29f",
   "metadata": {},
   "outputs": [
    {
     "data": {
      "text/plain": [
       "A   2001-05-14\n",
       "B   2002-07-30\n",
       "C   2000-09-30\n",
       "dtype: datetime64[ns]"
      ]
     },
     "execution_count": 165,
     "metadata": {},
     "output_type": "execute_result"
    }
   ],
   "source": [
    "tsdf = pd.DataFrame(\n",
    "\n",
    "    np.random.randn(1000, 3),\n",
    "\n",
    "    columns=[\"A\", \"B\", \"C\"],\n",
    "\n",
    "    index=pd.date_range(\"1/1/2000\", periods=1000),\n",
    "\n",
    ")\n",
    "\n",
    "\n",
    "\n",
    "tsdf.apply(lambda x: x.idxmax())"
   ]
  },
  {
   "cell_type": "code",
   "execution_count": 166,
   "id": "c05c6823",
   "metadata": {},
   "outputs": [
    {
     "data": {
      "text/html": [
       "<div>\n",
       "<style scoped>\n",
       "    .dataframe tbody tr th:only-of-type {\n",
       "        vertical-align: middle;\n",
       "    }\n",
       "\n",
       "    .dataframe tbody tr th {\n",
       "        vertical-align: top;\n",
       "    }\n",
       "\n",
       "    .dataframe thead th {\n",
       "        text-align: right;\n",
       "    }\n",
       "</style>\n",
       "<table border=\"1\" class=\"dataframe\">\n",
       "  <thead>\n",
       "    <tr style=\"text-align: right;\">\n",
       "      <th></th>\n",
       "      <th>0</th>\n",
       "      <th>1</th>\n",
       "    </tr>\n",
       "  </thead>\n",
       "  <tbody>\n",
       "    <tr>\n",
       "      <th>0</th>\n",
       "      <td>-1.333333</td>\n",
       "      <td>-1.333333</td>\n",
       "    </tr>\n",
       "    <tr>\n",
       "      <th>1</th>\n",
       "      <td>-1.333333</td>\n",
       "      <td>-1.333333</td>\n",
       "    </tr>\n",
       "  </tbody>\n",
       "</table>\n",
       "</div>"
      ],
      "text/plain": [
       "          0         1\n",
       "0 -1.333333 -1.333333\n",
       "1 -1.333333 -1.333333"
      ]
     },
     "execution_count": 166,
     "metadata": {},
     "output_type": "execute_result"
    }
   ],
   "source": [
    "def subtract_and_divide(x, sub, divide=1):\n",
    "\n",
    "    return (x - sub) / divide\n",
    "\n",
    "\n",
    "\n",
    "df_udf = pd.DataFrame(np.ones((2, 2)))\n",
    "\n",
    "df_udf.apply(subtract_and_divide, args=(5,), divide=3)"
   ]
  },
  {
   "cell_type": "code",
   "execution_count": 167,
   "id": "294355e8",
   "metadata": {},
   "outputs": [],
   "source": [
    "tsdf = pd.DataFrame(\n",
    "\n",
    "    np.random.randn(10, 3),\n",
    "\n",
    "    columns=[\"A\", \"B\", \"C\"],\n",
    "\n",
    "    index=pd.date_range(\"1/1/2000\", periods=10),\n",
    "\n",
    ")\n",
    "\n",
    "\n",
    "\n",
    "tsdf.iloc[3:7] = np.nan"
   ]
  },
  {
   "cell_type": "code",
   "execution_count": 168,
   "id": "37027880",
   "metadata": {},
   "outputs": [
    {
     "data": {
      "text/html": [
       "<div>\n",
       "<style scoped>\n",
       "    .dataframe tbody tr th:only-of-type {\n",
       "        vertical-align: middle;\n",
       "    }\n",
       "\n",
       "    .dataframe tbody tr th {\n",
       "        vertical-align: top;\n",
       "    }\n",
       "\n",
       "    .dataframe thead th {\n",
       "        text-align: right;\n",
       "    }\n",
       "</style>\n",
       "<table border=\"1\" class=\"dataframe\">\n",
       "  <thead>\n",
       "    <tr style=\"text-align: right;\">\n",
       "      <th></th>\n",
       "      <th>A</th>\n",
       "      <th>B</th>\n",
       "      <th>C</th>\n",
       "    </tr>\n",
       "  </thead>\n",
       "  <tbody>\n",
       "    <tr>\n",
       "      <th>2000-01-01</th>\n",
       "      <td>-0.666660</td>\n",
       "      <td>0.224600</td>\n",
       "      <td>-2.100259</td>\n",
       "    </tr>\n",
       "    <tr>\n",
       "      <th>2000-01-02</th>\n",
       "      <td>1.376065</td>\n",
       "      <td>-1.065364</td>\n",
       "      <td>-1.939103</td>\n",
       "    </tr>\n",
       "    <tr>\n",
       "      <th>2000-01-03</th>\n",
       "      <td>0.069356</td>\n",
       "      <td>-0.260523</td>\n",
       "      <td>0.073013</td>\n",
       "    </tr>\n",
       "    <tr>\n",
       "      <th>2000-01-04</th>\n",
       "      <td>NaN</td>\n",
       "      <td>NaN</td>\n",
       "      <td>NaN</td>\n",
       "    </tr>\n",
       "    <tr>\n",
       "      <th>2000-01-05</th>\n",
       "      <td>NaN</td>\n",
       "      <td>NaN</td>\n",
       "      <td>NaN</td>\n",
       "    </tr>\n",
       "    <tr>\n",
       "      <th>2000-01-06</th>\n",
       "      <td>NaN</td>\n",
       "      <td>NaN</td>\n",
       "      <td>NaN</td>\n",
       "    </tr>\n",
       "    <tr>\n",
       "      <th>2000-01-07</th>\n",
       "      <td>NaN</td>\n",
       "      <td>NaN</td>\n",
       "      <td>NaN</td>\n",
       "    </tr>\n",
       "    <tr>\n",
       "      <th>2000-01-08</th>\n",
       "      <td>-1.190028</td>\n",
       "      <td>-0.936135</td>\n",
       "      <td>0.653488</td>\n",
       "    </tr>\n",
       "    <tr>\n",
       "      <th>2000-01-09</th>\n",
       "      <td>0.004559</td>\n",
       "      <td>0.521101</td>\n",
       "      <td>1.135044</td>\n",
       "    </tr>\n",
       "    <tr>\n",
       "      <th>2000-01-10</th>\n",
       "      <td>-0.366584</td>\n",
       "      <td>0.192615</td>\n",
       "      <td>-0.625746</td>\n",
       "    </tr>\n",
       "  </tbody>\n",
       "</table>\n",
       "</div>"
      ],
      "text/plain": [
       "                   A         B         C\n",
       "2000-01-01 -0.666660  0.224600 -2.100259\n",
       "2000-01-02  1.376065 -1.065364 -1.939103\n",
       "2000-01-03  0.069356 -0.260523  0.073013\n",
       "2000-01-04       NaN       NaN       NaN\n",
       "2000-01-05       NaN       NaN       NaN\n",
       "2000-01-06       NaN       NaN       NaN\n",
       "2000-01-07       NaN       NaN       NaN\n",
       "2000-01-08 -1.190028 -0.936135  0.653488\n",
       "2000-01-09  0.004559  0.521101  1.135044\n",
       "2000-01-10 -0.366584  0.192615 -0.625746"
      ]
     },
     "execution_count": 168,
     "metadata": {},
     "output_type": "execute_result"
    }
   ],
   "source": [
    "tsdf"
   ]
  },
  {
   "cell_type": "code",
   "execution_count": 169,
   "id": "68154636",
   "metadata": {},
   "outputs": [
    {
     "data": {
      "text/html": [
       "<div>\n",
       "<style scoped>\n",
       "    .dataframe tbody tr th:only-of-type {\n",
       "        vertical-align: middle;\n",
       "    }\n",
       "\n",
       "    .dataframe tbody tr th {\n",
       "        vertical-align: top;\n",
       "    }\n",
       "\n",
       "    .dataframe thead th {\n",
       "        text-align: right;\n",
       "    }\n",
       "</style>\n",
       "<table border=\"1\" class=\"dataframe\">\n",
       "  <thead>\n",
       "    <tr style=\"text-align: right;\">\n",
       "      <th></th>\n",
       "      <th>A</th>\n",
       "      <th>B</th>\n",
       "      <th>C</th>\n",
       "    </tr>\n",
       "  </thead>\n",
       "  <tbody>\n",
       "    <tr>\n",
       "      <th>2000-01-01</th>\n",
       "      <td>-0.666660</td>\n",
       "      <td>0.224600</td>\n",
       "      <td>-2.100259</td>\n",
       "    </tr>\n",
       "    <tr>\n",
       "      <th>2000-01-02</th>\n",
       "      <td>1.376065</td>\n",
       "      <td>-1.065364</td>\n",
       "      <td>-1.939103</td>\n",
       "    </tr>\n",
       "    <tr>\n",
       "      <th>2000-01-03</th>\n",
       "      <td>0.069356</td>\n",
       "      <td>-0.260523</td>\n",
       "      <td>0.073013</td>\n",
       "    </tr>\n",
       "    <tr>\n",
       "      <th>2000-01-04</th>\n",
       "      <td>-0.182521</td>\n",
       "      <td>-0.395646</td>\n",
       "      <td>0.189108</td>\n",
       "    </tr>\n",
       "    <tr>\n",
       "      <th>2000-01-05</th>\n",
       "      <td>-0.434398</td>\n",
       "      <td>-0.530768</td>\n",
       "      <td>0.305203</td>\n",
       "    </tr>\n",
       "    <tr>\n",
       "      <th>2000-01-06</th>\n",
       "      <td>-0.686275</td>\n",
       "      <td>-0.665890</td>\n",
       "      <td>0.421298</td>\n",
       "    </tr>\n",
       "    <tr>\n",
       "      <th>2000-01-07</th>\n",
       "      <td>-0.938152</td>\n",
       "      <td>-0.801012</td>\n",
       "      <td>0.537393</td>\n",
       "    </tr>\n",
       "    <tr>\n",
       "      <th>2000-01-08</th>\n",
       "      <td>-1.190028</td>\n",
       "      <td>-0.936135</td>\n",
       "      <td>0.653488</td>\n",
       "    </tr>\n",
       "    <tr>\n",
       "      <th>2000-01-09</th>\n",
       "      <td>0.004559</td>\n",
       "      <td>0.521101</td>\n",
       "      <td>1.135044</td>\n",
       "    </tr>\n",
       "    <tr>\n",
       "      <th>2000-01-10</th>\n",
       "      <td>-0.366584</td>\n",
       "      <td>0.192615</td>\n",
       "      <td>-0.625746</td>\n",
       "    </tr>\n",
       "  </tbody>\n",
       "</table>\n",
       "</div>"
      ],
      "text/plain": [
       "                   A         B         C\n",
       "2000-01-01 -0.666660  0.224600 -2.100259\n",
       "2000-01-02  1.376065 -1.065364 -1.939103\n",
       "2000-01-03  0.069356 -0.260523  0.073013\n",
       "2000-01-04 -0.182521 -0.395646  0.189108\n",
       "2000-01-05 -0.434398 -0.530768  0.305203\n",
       "2000-01-06 -0.686275 -0.665890  0.421298\n",
       "2000-01-07 -0.938152 -0.801012  0.537393\n",
       "2000-01-08 -1.190028 -0.936135  0.653488\n",
       "2000-01-09  0.004559  0.521101  1.135044\n",
       "2000-01-10 -0.366584  0.192615 -0.625746"
      ]
     },
     "execution_count": 169,
     "metadata": {},
     "output_type": "execute_result"
    }
   ],
   "source": [
    "tsdf.apply(pd.Series.interpolate)"
   ]
  },
  {
   "cell_type": "code",
   "execution_count": 170,
   "id": "e529d940",
   "metadata": {},
   "outputs": [
    {
     "data": {
      "text/plain": [
       "A   -0.773293\n",
       "B   -1.323706\n",
       "C   -2.803564\n",
       "dtype: float64"
      ]
     },
     "execution_count": 170,
     "metadata": {},
     "output_type": "execute_result"
    }
   ],
   "source": [
    "tsdf.agg(lambda x: np.sum(x))"
   ]
  },
  {
   "cell_type": "code",
   "execution_count": 171,
   "id": "4f1961ea",
   "metadata": {},
   "outputs": [
    {
     "data": {
      "text/plain": [
       "A   -0.773293\n",
       "B   -1.323706\n",
       "C   -2.803564\n",
       "dtype: float64"
      ]
     },
     "execution_count": 171,
     "metadata": {},
     "output_type": "execute_result"
    }
   ],
   "source": [
    "tsdf.agg(\"sum\")"
   ]
  },
  {
   "cell_type": "code",
   "execution_count": 172,
   "id": "19888718",
   "metadata": {},
   "outputs": [
    {
     "data": {
      "text/plain": [
       "A   -0.773293\n",
       "B   -1.323706\n",
       "C   -2.803564\n",
       "dtype: float64"
      ]
     },
     "execution_count": 172,
     "metadata": {},
     "output_type": "execute_result"
    }
   ],
   "source": [
    "# these are equivalent to a ``.sum()`` because we are aggregating\n",
    "# on a single function\n",
    "\n",
    "tsdf.sum()"
   ]
  },
  {
   "cell_type": "code",
   "execution_count": 173,
   "id": "78e97e08",
   "metadata": {},
   "outputs": [
    {
     "data": {
      "text/plain": [
       "-0.773292931368611"
      ]
     },
     "execution_count": 173,
     "metadata": {},
     "output_type": "execute_result"
    }
   ],
   "source": [
    "tsdf[\"A\"].agg(\"sum\")"
   ]
  },
  {
   "cell_type": "code",
   "execution_count": 174,
   "id": "178647dc",
   "metadata": {},
   "outputs": [
    {
     "data": {
      "text/html": [
       "<div>\n",
       "<style scoped>\n",
       "    .dataframe tbody tr th:only-of-type {\n",
       "        vertical-align: middle;\n",
       "    }\n",
       "\n",
       "    .dataframe tbody tr th {\n",
       "        vertical-align: top;\n",
       "    }\n",
       "\n",
       "    .dataframe thead th {\n",
       "        text-align: right;\n",
       "    }\n",
       "</style>\n",
       "<table border=\"1\" class=\"dataframe\">\n",
       "  <thead>\n",
       "    <tr style=\"text-align: right;\">\n",
       "      <th></th>\n",
       "      <th>A</th>\n",
       "      <th>B</th>\n",
       "      <th>C</th>\n",
       "    </tr>\n",
       "  </thead>\n",
       "  <tbody>\n",
       "    <tr>\n",
       "      <th>sum</th>\n",
       "      <td>-0.773293</td>\n",
       "      <td>-1.323706</td>\n",
       "      <td>-2.803564</td>\n",
       "    </tr>\n",
       "    <tr>\n",
       "      <th>mean</th>\n",
       "      <td>-0.128882</td>\n",
       "      <td>-0.220618</td>\n",
       "      <td>-0.467261</td>\n",
       "    </tr>\n",
       "  </tbody>\n",
       "</table>\n",
       "</div>"
      ],
      "text/plain": [
       "             A         B         C\n",
       "sum  -0.773293 -1.323706 -2.803564\n",
       "mean -0.128882 -0.220618 -0.467261"
      ]
     },
     "execution_count": 174,
     "metadata": {},
     "output_type": "execute_result"
    }
   ],
   "source": [
    "tsdf.agg([\"sum\", \"mean\"])"
   ]
  },
  {
   "cell_type": "code",
   "execution_count": 175,
   "id": "dbbe6bf8",
   "metadata": {},
   "outputs": [
    {
     "data": {
      "text/plain": [
       "sum    -0.773293\n",
       "mean   -0.128882\n",
       "Name: A, dtype: float64"
      ]
     },
     "execution_count": 175,
     "metadata": {},
     "output_type": "execute_result"
    }
   ],
   "source": [
    "tsdf[\"A\"].agg([\"sum\", \"mean\"])"
   ]
  },
  {
   "cell_type": "code",
   "execution_count": 176,
   "id": "4a281978",
   "metadata": {},
   "outputs": [
    {
     "data": {
      "text/plain": [
       "sum        -0.773293\n",
       "<lambda>   -0.128882\n",
       "Name: A, dtype: float64"
      ]
     },
     "execution_count": 176,
     "metadata": {},
     "output_type": "execute_result"
    }
   ],
   "source": [
    "tsdf[\"A\"].agg([\"sum\", lambda x: x.mean()])"
   ]
  },
  {
   "cell_type": "code",
   "execution_count": 177,
   "id": "5c0177a2",
   "metadata": {},
   "outputs": [
    {
     "data": {
      "text/plain": [
       "sum      -0.773293\n",
       "mymean   -0.128882\n",
       "Name: A, dtype: float64"
      ]
     },
     "execution_count": 177,
     "metadata": {},
     "output_type": "execute_result"
    }
   ],
   "source": [
    "def mymean(x):\n",
    "\n",
    "    return x.mean()\n",
    "\n",
    "\n",
    "\n",
    "tsdf[\"A\"].agg([\"sum\", mymean])"
   ]
  },
  {
   "cell_type": "code",
   "execution_count": 178,
   "id": "8a10a4d0",
   "metadata": {},
   "outputs": [
    {
     "data": {
      "text/html": [
       "<div>\n",
       "<style scoped>\n",
       "    .dataframe tbody tr th:only-of-type {\n",
       "        vertical-align: middle;\n",
       "    }\n",
       "\n",
       "    .dataframe tbody tr th {\n",
       "        vertical-align: top;\n",
       "    }\n",
       "\n",
       "    .dataframe thead th {\n",
       "        text-align: right;\n",
       "    }\n",
       "</style>\n",
       "<table border=\"1\" class=\"dataframe\">\n",
       "  <thead>\n",
       "    <tr style=\"text-align: right;\">\n",
       "      <th></th>\n",
       "      <th>A</th>\n",
       "      <th>B</th>\n",
       "      <th>C</th>\n",
       "    </tr>\n",
       "  </thead>\n",
       "  <tbody>\n",
       "    <tr>\n",
       "      <th>2000-01-01</th>\n",
       "      <td>-0.666660</td>\n",
       "      <td>0.224600</td>\n",
       "      <td>-2.100259</td>\n",
       "    </tr>\n",
       "    <tr>\n",
       "      <th>2000-01-02</th>\n",
       "      <td>1.376065</td>\n",
       "      <td>-1.065364</td>\n",
       "      <td>-1.939103</td>\n",
       "    </tr>\n",
       "    <tr>\n",
       "      <th>2000-01-03</th>\n",
       "      <td>0.069356</td>\n",
       "      <td>-0.260523</td>\n",
       "      <td>0.073013</td>\n",
       "    </tr>\n",
       "    <tr>\n",
       "      <th>2000-01-04</th>\n",
       "      <td>NaN</td>\n",
       "      <td>NaN</td>\n",
       "      <td>NaN</td>\n",
       "    </tr>\n",
       "    <tr>\n",
       "      <th>2000-01-05</th>\n",
       "      <td>NaN</td>\n",
       "      <td>NaN</td>\n",
       "      <td>NaN</td>\n",
       "    </tr>\n",
       "    <tr>\n",
       "      <th>2000-01-06</th>\n",
       "      <td>NaN</td>\n",
       "      <td>NaN</td>\n",
       "      <td>NaN</td>\n",
       "    </tr>\n",
       "    <tr>\n",
       "      <th>2000-01-07</th>\n",
       "      <td>NaN</td>\n",
       "      <td>NaN</td>\n",
       "      <td>NaN</td>\n",
       "    </tr>\n",
       "    <tr>\n",
       "      <th>2000-01-08</th>\n",
       "      <td>-1.190028</td>\n",
       "      <td>-0.936135</td>\n",
       "      <td>0.653488</td>\n",
       "    </tr>\n",
       "    <tr>\n",
       "      <th>2000-01-09</th>\n",
       "      <td>0.004559</td>\n",
       "      <td>0.521101</td>\n",
       "      <td>1.135044</td>\n",
       "    </tr>\n",
       "    <tr>\n",
       "      <th>2000-01-10</th>\n",
       "      <td>-0.366584</td>\n",
       "      <td>0.192615</td>\n",
       "      <td>-0.625746</td>\n",
       "    </tr>\n",
       "  </tbody>\n",
       "</table>\n",
       "</div>"
      ],
      "text/plain": [
       "                   A         B         C\n",
       "2000-01-01 -0.666660  0.224600 -2.100259\n",
       "2000-01-02  1.376065 -1.065364 -1.939103\n",
       "2000-01-03  0.069356 -0.260523  0.073013\n",
       "2000-01-04       NaN       NaN       NaN\n",
       "2000-01-05       NaN       NaN       NaN\n",
       "2000-01-06       NaN       NaN       NaN\n",
       "2000-01-07       NaN       NaN       NaN\n",
       "2000-01-08 -1.190028 -0.936135  0.653488\n",
       "2000-01-09  0.004559  0.521101  1.135044\n",
       "2000-01-10 -0.366584  0.192615 -0.625746"
      ]
     },
     "execution_count": 178,
     "metadata": {},
     "output_type": "execute_result"
    }
   ],
   "source": [
    "tsdf"
   ]
  },
  {
   "cell_type": "code",
   "execution_count": 179,
   "id": "bf079356",
   "metadata": {},
   "outputs": [
    {
     "data": {
      "text/plain": [
       "A   -0.128882\n",
       "B   -1.323706\n",
       "dtype: float64"
      ]
     },
     "execution_count": 179,
     "metadata": {},
     "output_type": "execute_result"
    }
   ],
   "source": [
    "tsdf.agg({\"A\": \"mean\", \"B\": \"sum\"})"
   ]
  },
  {
   "cell_type": "code",
   "execution_count": 180,
   "id": "3cbc6032",
   "metadata": {},
   "outputs": [
    {
     "data": {
      "text/html": [
       "<div>\n",
       "<style scoped>\n",
       "    .dataframe tbody tr th:only-of-type {\n",
       "        vertical-align: middle;\n",
       "    }\n",
       "\n",
       "    .dataframe tbody tr th {\n",
       "        vertical-align: top;\n",
       "    }\n",
       "\n",
       "    .dataframe thead th {\n",
       "        text-align: right;\n",
       "    }\n",
       "</style>\n",
       "<table border=\"1\" class=\"dataframe\">\n",
       "  <thead>\n",
       "    <tr style=\"text-align: right;\">\n",
       "      <th></th>\n",
       "      <th>A</th>\n",
       "      <th>B</th>\n",
       "    </tr>\n",
       "  </thead>\n",
       "  <tbody>\n",
       "    <tr>\n",
       "      <th>mean</th>\n",
       "      <td>-0.128882</td>\n",
       "      <td>NaN</td>\n",
       "    </tr>\n",
       "    <tr>\n",
       "      <th>min</th>\n",
       "      <td>-1.190028</td>\n",
       "      <td>NaN</td>\n",
       "    </tr>\n",
       "    <tr>\n",
       "      <th>sum</th>\n",
       "      <td>NaN</td>\n",
       "      <td>-1.323706</td>\n",
       "    </tr>\n",
       "  </tbody>\n",
       "</table>\n",
       "</div>"
      ],
      "text/plain": [
       "             A         B\n",
       "mean -0.128882       NaN\n",
       "min  -1.190028       NaN\n",
       "sum        NaN -1.323706"
      ]
     },
     "execution_count": 180,
     "metadata": {},
     "output_type": "execute_result"
    }
   ],
   "source": [
    "tsdf.agg({\"A\": [\"mean\", \"min\"], \"B\": \"sum\"})"
   ]
  },
  {
   "cell_type": "code",
   "execution_count": 181,
   "id": "2f70128e",
   "metadata": {},
   "outputs": [
    {
     "data": {
      "text/html": [
       "<div>\n",
       "<style scoped>\n",
       "    .dataframe tbody tr th:only-of-type {\n",
       "        vertical-align: middle;\n",
       "    }\n",
       "\n",
       "    .dataframe tbody tr th {\n",
       "        vertical-align: top;\n",
       "    }\n",
       "\n",
       "    .dataframe thead th {\n",
       "        text-align: right;\n",
       "    }\n",
       "</style>\n",
       "<table border=\"1\" class=\"dataframe\">\n",
       "  <thead>\n",
       "    <tr style=\"text-align: right;\">\n",
       "      <th></th>\n",
       "      <th>A</th>\n",
       "      <th>B</th>\n",
       "      <th>C</th>\n",
       "    </tr>\n",
       "  </thead>\n",
       "  <tbody>\n",
       "    <tr>\n",
       "      <th>count</th>\n",
       "      <td>6.000000</td>\n",
       "      <td>6.000000</td>\n",
       "      <td>6.000000</td>\n",
       "    </tr>\n",
       "    <tr>\n",
       "      <th>mean</th>\n",
       "      <td>-0.128882</td>\n",
       "      <td>-0.220618</td>\n",
       "      <td>-0.467261</td>\n",
       "    </tr>\n",
       "    <tr>\n",
       "      <th>std</th>\n",
       "      <td>0.871058</td>\n",
       "      <td>0.655176</td>\n",
       "      <td>1.339662</td>\n",
       "    </tr>\n",
       "    <tr>\n",
       "      <th>min</th>\n",
       "      <td>-1.190028</td>\n",
       "      <td>-1.065364</td>\n",
       "      <td>-2.100259</td>\n",
       "    </tr>\n",
       "    <tr>\n",
       "      <th>25%</th>\n",
       "      <td>-0.591641</td>\n",
       "      <td>-0.767232</td>\n",
       "      <td>-1.610764</td>\n",
       "    </tr>\n",
       "    <tr>\n",
       "      <th>median</th>\n",
       "      <td>-0.181013</td>\n",
       "      <td>-0.033954</td>\n",
       "      <td>-0.276367</td>\n",
       "    </tr>\n",
       "    <tr>\n",
       "      <th>75%</th>\n",
       "      <td>0.053157</td>\n",
       "      <td>0.216604</td>\n",
       "      <td>0.508369</td>\n",
       "    </tr>\n",
       "    <tr>\n",
       "      <th>max</th>\n",
       "      <td>1.376065</td>\n",
       "      <td>0.521101</td>\n",
       "      <td>1.135044</td>\n",
       "    </tr>\n",
       "  </tbody>\n",
       "</table>\n",
       "</div>"
      ],
      "text/plain": [
       "               A         B         C\n",
       "count   6.000000  6.000000  6.000000\n",
       "mean   -0.128882 -0.220618 -0.467261\n",
       "std     0.871058  0.655176  1.339662\n",
       "min    -1.190028 -1.065364 -2.100259\n",
       "25%    -0.591641 -0.767232 -1.610764\n",
       "median -0.181013 -0.033954 -0.276367\n",
       "75%     0.053157  0.216604  0.508369\n",
       "max     1.376065  0.521101  1.135044"
      ]
     },
     "execution_count": 181,
     "metadata": {},
     "output_type": "execute_result"
    }
   ],
   "source": [
    "from functools import partial\n",
    "\n",
    "q_25 = partial(pd.Series.quantile, q=0.25)\n",
    "\n",
    "q_25.__name__ = \"25%\"\n",
    "\n",
    "q_75 = partial(pd.Series.quantile, q=0.75)\n",
    "\n",
    "q_75.__name__ = \"75%\"\n",
    "\n",
    "tsdf.agg([\"count\", \"mean\", \"std\", \"min\", q_25, \"median\", q_75, \"max\"])"
   ]
  },
  {
   "cell_type": "code",
   "execution_count": 182,
   "id": "1163dc35",
   "metadata": {},
   "outputs": [
    {
     "data": {
      "text/html": [
       "<div>\n",
       "<style scoped>\n",
       "    .dataframe tbody tr th:only-of-type {\n",
       "        vertical-align: middle;\n",
       "    }\n",
       "\n",
       "    .dataframe tbody tr th {\n",
       "        vertical-align: top;\n",
       "    }\n",
       "\n",
       "    .dataframe thead th {\n",
       "        text-align: right;\n",
       "    }\n",
       "</style>\n",
       "<table border=\"1\" class=\"dataframe\">\n",
       "  <thead>\n",
       "    <tr style=\"text-align: right;\">\n",
       "      <th></th>\n",
       "      <th>A</th>\n",
       "      <th>B</th>\n",
       "      <th>C</th>\n",
       "    </tr>\n",
       "  </thead>\n",
       "  <tbody>\n",
       "    <tr>\n",
       "      <th>2000-01-01</th>\n",
       "      <td>-1.095191</td>\n",
       "      <td>0.237926</td>\n",
       "      <td>-0.752956</td>\n",
       "    </tr>\n",
       "    <tr>\n",
       "      <th>2000-01-02</th>\n",
       "      <td>0.196347</td>\n",
       "      <td>-0.239966</td>\n",
       "      <td>-0.431888</td>\n",
       "    </tr>\n",
       "    <tr>\n",
       "      <th>2000-01-03</th>\n",
       "      <td>-0.152079</td>\n",
       "      <td>0.748230</td>\n",
       "      <td>-0.180869</td>\n",
       "    </tr>\n",
       "    <tr>\n",
       "      <th>2000-01-04</th>\n",
       "      <td>NaN</td>\n",
       "      <td>NaN</td>\n",
       "      <td>NaN</td>\n",
       "    </tr>\n",
       "    <tr>\n",
       "      <th>2000-01-05</th>\n",
       "      <td>NaN</td>\n",
       "      <td>NaN</td>\n",
       "      <td>NaN</td>\n",
       "    </tr>\n",
       "    <tr>\n",
       "      <th>2000-01-06</th>\n",
       "      <td>NaN</td>\n",
       "      <td>NaN</td>\n",
       "      <td>NaN</td>\n",
       "    </tr>\n",
       "    <tr>\n",
       "      <th>2000-01-07</th>\n",
       "      <td>NaN</td>\n",
       "      <td>NaN</td>\n",
       "      <td>NaN</td>\n",
       "    </tr>\n",
       "    <tr>\n",
       "      <th>2000-01-08</th>\n",
       "      <td>-1.473149</td>\n",
       "      <td>0.174117</td>\n",
       "      <td>-0.969409</td>\n",
       "    </tr>\n",
       "    <tr>\n",
       "      <th>2000-01-09</th>\n",
       "      <td>0.617741</td>\n",
       "      <td>-1.414483</td>\n",
       "      <td>-0.047319</td>\n",
       "    </tr>\n",
       "    <tr>\n",
       "      <th>2000-01-10</th>\n",
       "      <td>-1.282051</td>\n",
       "      <td>-0.086657</td>\n",
       "      <td>0.746800</td>\n",
       "    </tr>\n",
       "  </tbody>\n",
       "</table>\n",
       "</div>"
      ],
      "text/plain": [
       "                   A         B         C\n",
       "2000-01-01 -1.095191  0.237926 -0.752956\n",
       "2000-01-02  0.196347 -0.239966 -0.431888\n",
       "2000-01-03 -0.152079  0.748230 -0.180869\n",
       "2000-01-04       NaN       NaN       NaN\n",
       "2000-01-05       NaN       NaN       NaN\n",
       "2000-01-06       NaN       NaN       NaN\n",
       "2000-01-07       NaN       NaN       NaN\n",
       "2000-01-08 -1.473149  0.174117 -0.969409\n",
       "2000-01-09  0.617741 -1.414483 -0.047319\n",
       "2000-01-10 -1.282051 -0.086657  0.746800"
      ]
     },
     "execution_count": 182,
     "metadata": {},
     "output_type": "execute_result"
    }
   ],
   "source": [
    "tsdf = pd.DataFrame(\n",
    "\n",
    "    np.random.randn(10, 3),\n",
    "\n",
    "    columns=[\"A\", \"B\", \"C\"],\n",
    "\n",
    "    index=pd.date_range(\"1/1/2000\", periods=10),\n",
    "\n",
    ")\n",
    "\n",
    "\n",
    "\n",
    "tsdf.iloc[3:7] = np.nan\n",
    "\n",
    "tsdf"
   ]
  }
 ],
 "metadata": {
  "kernelspec": {
   "display_name": "Python 3 (ipykernel)",
   "language": "python",
   "name": "python3"
  },
  "language_info": {
   "codemirror_mode": {
    "name": "ipython",
    "version": 3
   },
   "file_extension": ".py",
   "mimetype": "text/x-python",
   "name": "python",
   "nbconvert_exporter": "python",
   "pygments_lexer": "ipython3",
   "version": "3.10.9"
  }
 },
 "nbformat": 4,
 "nbformat_minor": 5
}
